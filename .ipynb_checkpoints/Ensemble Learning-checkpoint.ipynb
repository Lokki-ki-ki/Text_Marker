{
 "cells": [
  {
   "cell_type": "code",
   "execution_count": 94,
   "id": "896c80a3",
   "metadata": {},
   "outputs": [],
   "source": [
    "%matplotlib inline\n",
    "import warnings\n",
    "warnings.simplefilter(action='ignore', category=FutureWarning)\n",
    "\n",
    "import pandas as pd\n",
    "import numpy as np\n",
    "import math \n",
    "from matplotlib import pyplot as plt\n",
    "\n",
    "from sklearn.model_selection import GridSearchCV\n",
    "from sklearn.tree import DecisionTreeRegressor\n",
    "from sklearn.linear_model import LinearRegression\n",
    "from sklearn.multioutput import MultiOutputRegressor\n",
    "from sklearn.ensemble import RandomForestRegressor\n",
    "from sklearn.preprocessing import StandardScaler\n",
    "\n",
    "from sklearn.model_selection import train_test_split\n",
    "from sklearn.inspection import permutation_importance"
   ]
  },
  {
   "cell_type": "code",
   "execution_count": 24,
   "id": "f647bdaa",
   "metadata": {},
   "outputs": [],
   "source": [
    "import pickle\n",
    "import tensorflow as tf\n",
    "\n",
    "from sklearn.ensemble import VotingRegressor\n",
    "from sklearn.ensemble import AdaBoostRegressor\n",
    "from sklearn.ensemble import GradientBoostingRegressor"
   ]
  },
  {
   "cell_type": "code",
   "execution_count": 4,
   "id": "6be37af5",
   "metadata": {},
   "outputs": [],
   "source": [
    "def result(predictions):\n",
    "    predictions = predictions.tolist()\n",
    "    result_list=[]\n",
    "    for pred in predictions:\n",
    "        result = pred // 0.5 * 0.5\n",
    "        if (pred - result) > 0.25:\n",
    "            result += 0.5\n",
    "        if result < 1.0:\n",
    "            result = 1.0\n",
    "        if result > 5.0:\n",
    "            result = 5.0\n",
    "        result_list.append(result)\n",
    "    return result_list\n",
    "\n",
    "# Accuracy score\n",
    "def accuracy(Ypred, Ytrue):\n",
    "    Ytrue = Ytrue.tolist()\n",
    "    accurate = 0\n",
    "    for i in range(len(Ytrue)):\n",
    "        if Ytrue[i] == Ypred[i]:\n",
    "            accurate += 1\n",
    "    return accurate / len(Ytrue)\n",
    "\n",
    "# approximate accurancy rate\n",
    "def score(pred, test):\n",
    "    test = test.tolist()\n",
    "    correct = 0\n",
    "    for i in range(len(test)):\n",
    "        p = pred[i]\n",
    "        t = test[i]\n",
    "        if p < t+0.5 and p > t-0.5:\n",
    "            correct += 1\n",
    "    return correct / len(test)"
   ]
  },
  {
   "cell_type": "markdown",
   "id": "08e3964f",
   "metadata": {},
   "source": [
    "# Ensemble Learning"
   ]
  },
  {
   "cell_type": "markdown",
   "id": "7c7d0f00",
   "metadata": {},
   "source": [
    "linear reg = lr1, lr2\n",
    "decision tree = dt1, dt2\n",
    "neural network = nn1, nn2"
   ]
  },
  {
   "cell_type": "code",
   "execution_count": 96,
   "id": "465d1cdd",
   "metadata": {
    "scrolled": true
   },
   "outputs": [
    {
     "name": "stderr",
     "output_type": "stream",
     "text": [
      "C:\\Users\\12560\\anaconda3\\envs\\BT4222\\lib\\site-packages\\sklearn\\base.py:329: UserWarning: Trying to unpickle estimator LinearRegression from version 1.0.2 when using version 1.1.2. This might lead to breaking code or invalid results. Use at your own risk. For more info please refer to:\n",
      "https://scikit-learn.org/stable/model_persistence.html#security-maintainability-limitations\n",
      "  warnings.warn(\n",
      "C:\\Users\\12560\\anaconda3\\envs\\BT4222\\lib\\site-packages\\sklearn\\base.py:329: UserWarning: Trying to unpickle estimator DecisionTreeRegressor from version 0.24.1 when using version 1.1.2. This might lead to breaking code or invalid results. Use at your own risk. For more info please refer to:\n",
      "https://scikit-learn.org/stable/model_persistence.html#security-maintainability-limitations\n",
      "  warnings.warn(\n",
      "C:\\Users\\12560\\anaconda3\\envs\\BT4222\\lib\\site-packages\\sklearn\\base.py:329: UserWarning: Trying to unpickle estimator KNeighborsRegressor from version 1.0.2 when using version 1.1.2. This might lead to breaking code or invalid results. Use at your own risk. For more info please refer to:\n",
      "https://scikit-learn.org/stable/model_persistence.html#security-maintainability-limitations\n",
      "  warnings.warn(\n"
     ]
    }
   ],
   "source": [
    "lr1 = pickle.load(open(\"lr.sav\", 'rb'))\n",
    "lr2 = pickle.load(open(\"lr_second.sav\", 'rb'))\n",
    "dt1 = pickle.load(open(\"Decision_Tree_vocab.sav\", 'rb'))\n",
    "dt2 = pickle.load(open(\"Decision_Tree_cohesion.sav\", 'rb'))\n",
    "knn1 = pickle.load(open(\"knn_vocab.sav\", 'rb'))\n",
    "knn1 = pickle.load(open(\"knn_cohesion.sav\", 'rb'))\n",
    "\n",
    "#nn1 = pickle.load(open(\"./neural_network_vocab.sav\", 'rb'))\n",
    "#nn2 = pickle.load(open(\"./neural_network.sav\", 'rb'))\n",
    "#nn1 = tf.keras.models.load_model(\"./model_deep.h5\")\n",
    "#nn2 = tf.keras.models.load_model(\"./model_deep_cohesion.h5\")"
   ]
  },
  {
   "cell_type": "markdown",
   "id": "7a30890b",
   "metadata": {},
   "source": [
    "## 1 Predict Vocabulary"
   ]
  },
  {
   "cell_type": "code",
   "execution_count": 51,
   "id": "8967b8c7",
   "metadata": {},
   "outputs": [],
   "source": [
    "df = pd.read_csv(\"Processed_Data.csv\")\n",
    "y = df['vocabulary']\n",
    "X = df.iloc[:, 7:]\n",
    "X = X.drop('corrected_text', axis = 1)"
   ]
  },
  {
   "cell_type": "markdown",
   "id": "64fa1d5a",
   "metadata": {},
   "source": [
    "### 1.1 Voting"
   ]
  },
  {
   "cell_type": "markdown",
   "id": "605e9d1a",
   "metadata": {},
   "source": [
    "linear regression:\n",
    "exact accuracy = 0.3987730061349693\n",
    "approximate accuracy = \n",
    "\n",
    "decision tree:\n",
    "exact accuracy = 0.4061302681992337\n",
    "approximate accuracy =  0.7049808429118773"
   ]
  },
  {
   "cell_type": "code",
   "execution_count": 101,
   "id": "e25ac223",
   "metadata": {},
   "outputs": [],
   "source": [
    "X_train, X_test, y_train, y_test = train_test_split(X, y, random_state=42, test_size=0.25)\n",
    "vr = VotingRegressor(\n",
    "    estimators=[('linear regressor', lr1), ('decision tree', dt1), ('KNN', knn1)]\n",
    ")"
   ]
  },
  {
   "cell_type": "code",
   "execution_count": 102,
   "id": "472864cb",
   "metadata": {},
   "outputs": [
    {
     "name": "stdout",
     "output_type": "stream",
     "text": [
      "0.401840490797546\n",
      "0.7208588957055214\n"
     ]
    }
   ],
   "source": [
    "vr.fit(X_train, y_train)\n",
    "y_pred_vr = vr.predict(X_test)\n",
    "print(accuracy(result(y_pred_vr), y_test))\n",
    "print(score(y_pred_vr, y_test))"
   ]
  },
  {
   "cell_type": "markdown",
   "id": "962af4f3",
   "metadata": {},
   "source": [
    "### 1.2 AdaBoost"
   ]
  },
  {
   "cell_type": "code",
   "execution_count": 87,
   "id": "b1466ef6",
   "metadata": {},
   "outputs": [
    {
     "data": {
      "text/html": [
       "<style>#sk-container-id-12 {color: black;background-color: white;}#sk-container-id-12 pre{padding: 0;}#sk-container-id-12 div.sk-toggleable {background-color: white;}#sk-container-id-12 label.sk-toggleable__label {cursor: pointer;display: block;width: 100%;margin-bottom: 0;padding: 0.3em;box-sizing: border-box;text-align: center;}#sk-container-id-12 label.sk-toggleable__label-arrow:before {content: \"▸\";float: left;margin-right: 0.25em;color: #696969;}#sk-container-id-12 label.sk-toggleable__label-arrow:hover:before {color: black;}#sk-container-id-12 div.sk-estimator:hover label.sk-toggleable__label-arrow:before {color: black;}#sk-container-id-12 div.sk-toggleable__content {max-height: 0;max-width: 0;overflow: hidden;text-align: left;background-color: #f0f8ff;}#sk-container-id-12 div.sk-toggleable__content pre {margin: 0.2em;color: black;border-radius: 0.25em;background-color: #f0f8ff;}#sk-container-id-12 input.sk-toggleable__control:checked~div.sk-toggleable__content {max-height: 200px;max-width: 100%;overflow: auto;}#sk-container-id-12 input.sk-toggleable__control:checked~label.sk-toggleable__label-arrow:before {content: \"▾\";}#sk-container-id-12 div.sk-estimator input.sk-toggleable__control:checked~label.sk-toggleable__label {background-color: #d4ebff;}#sk-container-id-12 div.sk-label input.sk-toggleable__control:checked~label.sk-toggleable__label {background-color: #d4ebff;}#sk-container-id-12 input.sk-hidden--visually {border: 0;clip: rect(1px 1px 1px 1px);clip: rect(1px, 1px, 1px, 1px);height: 1px;margin: -1px;overflow: hidden;padding: 0;position: absolute;width: 1px;}#sk-container-id-12 div.sk-estimator {font-family: monospace;background-color: #f0f8ff;border: 1px dotted black;border-radius: 0.25em;box-sizing: border-box;margin-bottom: 0.5em;}#sk-container-id-12 div.sk-estimator:hover {background-color: #d4ebff;}#sk-container-id-12 div.sk-parallel-item::after {content: \"\";width: 100%;border-bottom: 1px solid gray;flex-grow: 1;}#sk-container-id-12 div.sk-label:hover label.sk-toggleable__label {background-color: #d4ebff;}#sk-container-id-12 div.sk-serial::before {content: \"\";position: absolute;border-left: 1px solid gray;box-sizing: border-box;top: 0;bottom: 0;left: 50%;z-index: 0;}#sk-container-id-12 div.sk-serial {display: flex;flex-direction: column;align-items: center;background-color: white;padding-right: 0.2em;padding-left: 0.2em;position: relative;}#sk-container-id-12 div.sk-item {position: relative;z-index: 1;}#sk-container-id-12 div.sk-parallel {display: flex;align-items: stretch;justify-content: center;background-color: white;position: relative;}#sk-container-id-12 div.sk-item::before, #sk-container-id-12 div.sk-parallel-item::before {content: \"\";position: absolute;border-left: 1px solid gray;box-sizing: border-box;top: 0;bottom: 0;left: 50%;z-index: -1;}#sk-container-id-12 div.sk-parallel-item {display: flex;flex-direction: column;z-index: 1;position: relative;background-color: white;}#sk-container-id-12 div.sk-parallel-item:first-child::after {align-self: flex-end;width: 50%;}#sk-container-id-12 div.sk-parallel-item:last-child::after {align-self: flex-start;width: 50%;}#sk-container-id-12 div.sk-parallel-item:only-child::after {width: 0;}#sk-container-id-12 div.sk-dashed-wrapped {border: 1px dashed gray;margin: 0 0.4em 0.5em 0.4em;box-sizing: border-box;padding-bottom: 0.4em;background-color: white;}#sk-container-id-12 div.sk-label label {font-family: monospace;font-weight: bold;display: inline-block;line-height: 1.2em;}#sk-container-id-12 div.sk-label-container {text-align: center;}#sk-container-id-12 div.sk-container {/* jupyter's `normalize.less` sets `[hidden] { display: none; }` but bootstrap.min.css set `[hidden] { display: none !important; }` so we also need the `!important` here to be able to override the default hidden behavior on the sphinx rendered scikit-learn.org. See: https://github.com/scikit-learn/scikit-learn/issues/21755 */display: inline-block !important;position: relative;}#sk-container-id-12 div.sk-text-repr-fallback {display: none;}</style><div id=\"sk-container-id-12\" class=\"sk-top-container\"><div class=\"sk-text-repr-fallback\"><pre>AdaBoostRegressor(base_estimator=DecisionTreeRegressor(criterion=&#x27;friedman_mse&#x27;,\n",
       "                                                       max_depth=3))</pre><b>In a Jupyter environment, please rerun this cell to show the HTML representation or trust the notebook. <br />On GitHub, the HTML representation is unable to render, please try loading this page with nbviewer.org.</b></div><div class=\"sk-container\" hidden><div class=\"sk-item sk-dashed-wrapped\"><div class=\"sk-label-container\"><div class=\"sk-label sk-toggleable\"><input class=\"sk-toggleable__control sk-hidden--visually\" id=\"sk-estimator-id-14\" type=\"checkbox\" ><label for=\"sk-estimator-id-14\" class=\"sk-toggleable__label sk-toggleable__label-arrow\">AdaBoostRegressor</label><div class=\"sk-toggleable__content\"><pre>AdaBoostRegressor(base_estimator=DecisionTreeRegressor(criterion=&#x27;friedman_mse&#x27;,\n",
       "                                                       max_depth=3))</pre></div></div></div><div class=\"sk-parallel\"><div class=\"sk-parallel-item\"><div class=\"sk-item\"><div class=\"sk-label-container\"><div class=\"sk-label sk-toggleable\"><input class=\"sk-toggleable__control sk-hidden--visually\" id=\"sk-estimator-id-15\" type=\"checkbox\" ><label for=\"sk-estimator-id-15\" class=\"sk-toggleable__label sk-toggleable__label-arrow\">base_estimator: DecisionTreeRegressor</label><div class=\"sk-toggleable__content\"><pre>DecisionTreeRegressor(criterion=&#x27;friedman_mse&#x27;, max_depth=3)</pre></div></div></div><div class=\"sk-serial\"><div class=\"sk-item\"><div class=\"sk-estimator sk-toggleable\"><input class=\"sk-toggleable__control sk-hidden--visually\" id=\"sk-estimator-id-16\" type=\"checkbox\" ><label for=\"sk-estimator-id-16\" class=\"sk-toggleable__label sk-toggleable__label-arrow\">DecisionTreeRegressor</label><div class=\"sk-toggleable__content\"><pre>DecisionTreeRegressor(criterion=&#x27;friedman_mse&#x27;, max_depth=3)</pre></div></div></div></div></div></div></div></div></div></div>"
      ],
      "text/plain": [
       "AdaBoostRegressor(base_estimator=DecisionTreeRegressor(criterion='friedman_mse',\n",
       "                                                       max_depth=3))"
      ]
     },
     "execution_count": 87,
     "metadata": {},
     "output_type": "execute_result"
    }
   ],
   "source": [
    "ar1 = AdaBoostRegressor(\n",
    "    base_estimator=DecisionTreeRegressor(criterion='friedman_mse', max_depth=3, min_samples_split=2)\n",
    ")\n",
    "ar1.fit(X_train, y_train)"
   ]
  },
  {
   "cell_type": "code",
   "execution_count": 88,
   "id": "58f975b9",
   "metadata": {},
   "outputs": [
    {
     "name": "stdout",
     "output_type": "stream",
     "text": [
      "0.40899795501022496\n",
      "0.7055214723926381\n"
     ]
    }
   ],
   "source": [
    "y_pred_ar1 = ar_dt1.predict(X_test)\n",
    "print(accuracy(result(y_pred_ar1), y_test))\n",
    "print(score(y_pred_ar1, y_test))"
   ]
  },
  {
   "cell_type": "code",
   "execution_count": 89,
   "id": "b196bf8c",
   "metadata": {},
   "outputs": [
    {
     "data": {
      "text/plain": [
       "[DecisionTreeRegressor(criterion='friedman_mse', max_depth=3,\n",
       "                       random_state=123178633),\n",
       " DecisionTreeRegressor(criterion='friedman_mse', max_depth=3,\n",
       "                       random_state=1801146387),\n",
       " DecisionTreeRegressor(criterion='friedman_mse', max_depth=3,\n",
       "                       random_state=456908786),\n",
       " DecisionTreeRegressor(criterion='friedman_mse', max_depth=3,\n",
       "                       random_state=1812362098),\n",
       " DecisionTreeRegressor(criterion='friedman_mse', max_depth=3,\n",
       "                       random_state=1082032842),\n",
       " DecisionTreeRegressor(criterion='friedman_mse', max_depth=3,\n",
       "                       random_state=1999456007),\n",
       " DecisionTreeRegressor(criterion='friedman_mse', max_depth=3,\n",
       "                       random_state=1231684026),\n",
       " DecisionTreeRegressor(criterion='friedman_mse', max_depth=3,\n",
       "                       random_state=843678351),\n",
       " DecisionTreeRegressor(criterion='friedman_mse', max_depth=3,\n",
       "                       random_state=374527278),\n",
       " DecisionTreeRegressor(criterion='friedman_mse', max_depth=3,\n",
       "                       random_state=226519703),\n",
       " DecisionTreeRegressor(criterion='friedman_mse', max_depth=3,\n",
       "                       random_state=1608235458),\n",
       " DecisionTreeRegressor(criterion='friedman_mse', max_depth=3,\n",
       "                       random_state=1402455225),\n",
       " DecisionTreeRegressor(criterion='friedman_mse', max_depth=3,\n",
       "                       random_state=986410411),\n",
       " DecisionTreeRegressor(criterion='friedman_mse', max_depth=3,\n",
       "                       random_state=1824518927),\n",
       " DecisionTreeRegressor(criterion='friedman_mse', max_depth=3,\n",
       "                       random_state=896118514),\n",
       " DecisionTreeRegressor(criterion='friedman_mse', max_depth=3,\n",
       "                       random_state=1948047610),\n",
       " DecisionTreeRegressor(criterion='friedman_mse', max_depth=3,\n",
       "                       random_state=1461502505),\n",
       " DecisionTreeRegressor(criterion='friedman_mse', max_depth=3,\n",
       "                       random_state=724322253),\n",
       " DecisionTreeRegressor(criterion='friedman_mse', max_depth=3,\n",
       "                       random_state=1932839346),\n",
       " DecisionTreeRegressor(criterion='friedman_mse', max_depth=3,\n",
       "                       random_state=2066181658),\n",
       " DecisionTreeRegressor(criterion='friedman_mse', max_depth=3,\n",
       "                       random_state=198275778),\n",
       " DecisionTreeRegressor(criterion='friedman_mse', max_depth=3,\n",
       "                       random_state=291375627),\n",
       " DecisionTreeRegressor(criterion='friedman_mse', max_depth=3,\n",
       "                       random_state=90738330),\n",
       " DecisionTreeRegressor(criterion='friedman_mse', max_depth=3,\n",
       "                       random_state=821253593),\n",
       " DecisionTreeRegressor(criterion='friedman_mse', max_depth=3,\n",
       "                       random_state=1462116725),\n",
       " DecisionTreeRegressor(criterion='friedman_mse', max_depth=3,\n",
       "                       random_state=836800793),\n",
       " DecisionTreeRegressor(criterion='friedman_mse', max_depth=3,\n",
       "                       random_state=426574666),\n",
       " DecisionTreeRegressor(criterion='friedman_mse', max_depth=3,\n",
       "                       random_state=843904991),\n",
       " DecisionTreeRegressor(criterion='friedman_mse', max_depth=3,\n",
       "                       random_state=1206987229),\n",
       " DecisionTreeRegressor(criterion='friedman_mse', max_depth=3,\n",
       "                       random_state=1960623085),\n",
       " DecisionTreeRegressor(criterion='friedman_mse', max_depth=3,\n",
       "                       random_state=130287121),\n",
       " DecisionTreeRegressor(criterion='friedman_mse', max_depth=3,\n",
       "                       random_state=596191856),\n",
       " DecisionTreeRegressor(criterion='friedman_mse', max_depth=3,\n",
       "                       random_state=575533947),\n",
       " DecisionTreeRegressor(criterion='friedman_mse', max_depth=3,\n",
       "                       random_state=145484561),\n",
       " DecisionTreeRegressor(criterion='friedman_mse', max_depth=3,\n",
       "                       random_state=1770711472),\n",
       " DecisionTreeRegressor(criterion='friedman_mse', max_depth=3,\n",
       "                       random_state=1805296557),\n",
       " DecisionTreeRegressor(criterion='friedman_mse', max_depth=3,\n",
       "                       random_state=569514306),\n",
       " DecisionTreeRegressor(criterion='friedman_mse', max_depth=3,\n",
       "                       random_state=2051208432),\n",
       " DecisionTreeRegressor(criterion='friedman_mse', max_depth=3,\n",
       "                       random_state=1474479158),\n",
       " DecisionTreeRegressor(criterion='friedman_mse', max_depth=3,\n",
       "                       random_state=2006102705),\n",
       " DecisionTreeRegressor(criterion='friedman_mse', max_depth=3,\n",
       "                       random_state=1909505109),\n",
       " DecisionTreeRegressor(criterion='friedman_mse', max_depth=3,\n",
       "                       random_state=577528985),\n",
       " DecisionTreeRegressor(criterion='friedman_mse', max_depth=3,\n",
       "                       random_state=1949521397),\n",
       " DecisionTreeRegressor(criterion='friedman_mse', max_depth=3,\n",
       "                       random_state=1011386615),\n",
       " DecisionTreeRegressor(criterion='friedman_mse', max_depth=3,\n",
       "                       random_state=722702056),\n",
       " DecisionTreeRegressor(criterion='friedman_mse', max_depth=3,\n",
       "                       random_state=811218318),\n",
       " DecisionTreeRegressor(criterion='friedman_mse', max_depth=3,\n",
       "                       random_state=85311689),\n",
       " DecisionTreeRegressor(criterion='friedman_mse', max_depth=3,\n",
       "                       random_state=674888032),\n",
       " DecisionTreeRegressor(criterion='friedman_mse', max_depth=3,\n",
       "                       random_state=1748022665),\n",
       " DecisionTreeRegressor(criterion='friedman_mse', max_depth=3,\n",
       "                       random_state=2083852491)]"
      ]
     },
     "execution_count": 89,
     "metadata": {},
     "output_type": "execute_result"
    }
   ],
   "source": [
    "ar1.estimators_"
   ]
  },
  {
   "cell_type": "code",
   "execution_count": 90,
   "id": "629dcc51",
   "metadata": {},
   "outputs": [
    {
     "data": {
      "text/plain": [
       "array([1.37902863, 1.05462189, 1.15835248, 0.9711379 , 0.8174012 ,\n",
       "       0.88050356, 0.6839971 , 0.82255339, 0.67311048, 0.93497022,\n",
       "       0.67821407, 0.55925308, 0.28179957, 0.37779958, 0.82251179,\n",
       "       0.51775457, 0.39731707, 0.36321335, 0.70790777, 0.39329742,\n",
       "       0.54426494, 0.49757975, 0.60359166, 0.71322366, 0.86545968,\n",
       "       0.74679942, 1.14369405, 0.72118245, 0.2754163 , 0.72904205,\n",
       "       0.39048201, 0.63358064, 0.27781142, 0.44182905, 0.54740207,\n",
       "       0.25180591, 0.68865011, 0.94706998, 0.63125329, 0.72338256,\n",
       "       0.22571214, 0.6078989 , 0.58178252, 0.86583419, 0.463752  ,\n",
       "       0.38458125, 0.45942464, 0.67518314, 0.36694063, 0.63935018])"
      ]
     },
     "execution_count": 90,
     "metadata": {},
     "output_type": "execute_result"
    }
   ],
   "source": [
    "ar1.estimator_weights_"
   ]
  },
  {
   "cell_type": "markdown",
   "id": "9529c432",
   "metadata": {},
   "source": [
    "# 1.3 Gradient Boost"
   ]
  },
  {
   "cell_type": "markdown",
   "id": "c5426391",
   "metadata": {},
   "source": [
    "Use the default decision tree in GradientBoostingRegressor.\n",
    "\n",
    "Find best parameters for GradientBoostingRegressor."
   ]
  },
  {
   "cell_type": "code",
   "execution_count": 95,
   "id": "8b54442d",
   "metadata": {},
   "outputs": [
    {
     "name": "stderr",
     "output_type": "stream",
     "text": [
      "C:\\Users\\12560\\anaconda3\\envs\\BT4222\\lib\\site-packages\\sklearn\\model_selection\\_validation.py:378: FitFailedWarning: \n",
      "60 fits failed out of a total of 600.\n",
      "The score on these train-test partitions for these parameters will be set to nan.\n",
      "If these failures are not expected, you can try to debug them by setting error_score='raise'.\n",
      "\n",
      "Below are more details about the failures:\n",
      "--------------------------------------------------------------------------------\n",
      "60 fits failed with the following error:\n",
      "Traceback (most recent call last):\n",
      "  File \"C:\\Users\\12560\\anaconda3\\envs\\BT4222\\lib\\site-packages\\sklearn\\model_selection\\_validation.py\", line 686, in _fit_and_score\n",
      "    estimator.fit(X_train, y_train, **fit_params)\n",
      "  File \"C:\\Users\\12560\\anaconda3\\envs\\BT4222\\lib\\site-packages\\sklearn\\ensemble\\_gb.py\", line 577, in fit\n",
      "    self._check_params()\n",
      "  File \"C:\\Users\\12560\\anaconda3\\envs\\BT4222\\lib\\site-packages\\sklearn\\ensemble\\_gb.py\", line 270, in _check_params\n",
      "    check_scalar(\n",
      "  File \"C:\\Users\\12560\\anaconda3\\envs\\BT4222\\lib\\site-packages\\sklearn\\utils\\validation.py\", line 1480, in check_scalar\n",
      "    raise ValueError(\n",
      "ValueError: learning_rate == 0.0, must be > 0.0.\n",
      "\n",
      "  warnings.warn(some_fits_failed_message, FitFailedWarning)\n",
      "C:\\Users\\12560\\anaconda3\\envs\\BT4222\\lib\\site-packages\\sklearn\\model_selection\\_search.py:953: UserWarning: One or more of the test scores are non-finite: [        nan         nan         nan         nan  0.35833562  0.28622179\n",
      "  0.36930911 -0.44592082  0.30895101  0.28166022  0.3199988  -0.46251978\n",
      "  0.29552791  0.28184504  0.2737147  -0.44963896  0.22915818  0.27531703\n",
      "  0.23690659 -0.4810962   0.18042077  0.28608927  0.20670861 -0.48240505\n",
      "  0.10515074  0.2584982   0.18775415 -0.48193333  0.05975714  0.24928946\n",
      "  0.1156048  -0.49002623  0.01675702  0.24199868  0.03728626 -0.50536145\n",
      " -0.08407928  0.2003837  -0.0574105  -0.53314363         nan         nan\n",
      "         nan         nan  0.35809055  0.28566821  0.36726601 -0.44595908\n",
      "  0.31035075  0.28051999  0.32007146 -0.45171408  0.29810376  0.28101318\n",
      "  0.28359875 -0.4326087   0.22838636  0.27481249  0.24721465 -0.46311085\n",
      "  0.18041453  0.28694866  0.21465416 -0.49041686  0.10963193  0.2563572\n",
      "  0.15086108 -0.48548741  0.0562589   0.24270214  0.10215578 -0.5019006\n",
      "  0.02231397  0.23537922  0.04976485 -0.52718658 -0.07708815  0.18508652\n",
      " -0.06352413 -0.5848853          nan         nan         nan         nan\n",
      "  0.35875984  0.28596857  0.36612986 -0.44361304  0.30944534  0.28239042\n",
      "  0.32203017 -0.45814451  0.29596607  0.28125789  0.29401959 -0.46205353\n",
      "  0.22729678  0.27480933  0.24160782 -0.48185539  0.17611284  0.28628223\n",
      "  0.20580743 -0.45418737  0.1048949   0.27029324  0.17391911 -0.48999422\n",
      "  0.05040128  0.23914744  0.11452427 -0.51490827  0.01991199  0.23632337\n",
      "  0.04409543 -0.50866007 -0.08890646  0.19259544 -0.07446485 -0.54630125]\n",
      "  warnings.warn(\n"
     ]
    },
    {
     "name": "stdout",
     "output_type": "stream",
     "text": [
      "{'criterion': 'friedman_mse', 'learning_rate': 0.1, 'loss': 'huber'}\n",
      "0.369309112331468\n"
     ]
    }
   ],
   "source": [
    "gbr1 = GradientBoostingRegressor(n_estimators=300)\n",
    "parameters = {\n",
    "    'loss':['squared_error', 'absolute_error', 'huber', 'quantile'],\n",
    "    'learning_rate':[0.0,0.1,0.2,0.3,0.4,0.5,0.6,0.7,0.8,0.9],\n",
    "    'criterion':['friedman_mse', 'squared_error', 'mse']\n",
    "}\n",
    "gs_gbr1 = GridSearchCV(gbr1, parameters)\n",
    "print(gs_gbr1.best_params_)\n",
    "print(gs_gbr1.best_score_)"
   ]
  },
  {
   "cell_type": "code",
   "execution_count": 100,
   "id": "8d8d9715",
   "metadata": {},
   "outputs": [
    {
     "name": "stdout",
     "output_type": "stream",
     "text": [
      "0.39775051124744376\n",
      "0.7085889570552147\n"
     ]
    }
   ],
   "source": [
    "gbr1_adj = GradientBoostingRegressor(\n",
    "    criterion = 'friedman_mse',\n",
    "    learning_rate = 0.1,\n",
    "    loss = 'huber',\n",
    "    n_estimators=300\n",
    ")\n",
    "gbr1_adj.fit(X_train, y_train)\n",
    "y_pred_gbr1_adj = gbr1_adj.predict(X_test)\n",
    "\n",
    "print(accuracy(result(y_pred_gbr1_adj), y_test))\n",
    "print(score(y_pred_gbr1_adj, y_test))"
   ]
  },
  {
   "cell_type": "code",
   "execution_count": 106,
   "id": "9dbb5513",
   "metadata": {},
   "outputs": [
    {
     "name": "stdout",
     "output_type": "stream",
     "text": [
      "0.4059304703476483\n",
      "0.7198364008179959\n"
     ]
    }
   ],
   "source": [
    "gbr1_1 = GradientBoostingRegressor(n_estimators=300)\n",
    "gbr1_1.fit(X_train, y_train)\n",
    "y_pred_gbr1_1 = gbr1_1.predict(X_test)\n",
    "print(accuracy(result(y_pred_gbr1_1), y_test))\n",
    "print(score(y_pred_gbr1_1, y_test))"
   ]
  },
  {
   "cell_type": "markdown",
   "id": "b8b71523",
   "metadata": {},
   "source": [
    "Compare the default regressor and the fine tuned one. The default regressor works better.\n",
    "\n",
    "Look at the feature importance."
   ]
  },
  {
   "cell_type": "code",
   "execution_count": 110,
   "id": "56d1d5ce",
   "metadata": {},
   "outputs": [
    {
     "data": {
      "text/html": [
       "<div>\n",
       "<style scoped>\n",
       "    .dataframe tbody tr th:only-of-type {\n",
       "        vertical-align: middle;\n",
       "    }\n",
       "\n",
       "    .dataframe tbody tr th {\n",
       "        vertical-align: top;\n",
       "    }\n",
       "\n",
       "    .dataframe thead th {\n",
       "        text-align: right;\n",
       "    }\n",
       "</style>\n",
       "<table border=\"1\" class=\"dataframe\">\n",
       "  <thead>\n",
       "    <tr style=\"text-align: right;\">\n",
       "      <th></th>\n",
       "      <th>0</th>\n",
       "      <th>1</th>\n",
       "    </tr>\n",
       "  </thead>\n",
       "  <tbody>\n",
       "    <tr>\n",
       "      <th>17</th>\n",
       "      <td>Incorrect_form_ratio</td>\n",
       "      <td>0.365601</td>\n",
       "    </tr>\n",
       "    <tr>\n",
       "      <th>23</th>\n",
       "      <td>number_of_diff_words</td>\n",
       "      <td>0.183728</td>\n",
       "    </tr>\n",
       "    <tr>\n",
       "      <th>26</th>\n",
       "      <td>coherence_score</td>\n",
       "      <td>0.038382</td>\n",
       "    </tr>\n",
       "    <tr>\n",
       "      <th>24</th>\n",
       "      <td>freq_diff_words</td>\n",
       "      <td>0.034787</td>\n",
       "    </tr>\n",
       "    <tr>\n",
       "      <th>31</th>\n",
       "      <td>freq_of_pronoun</td>\n",
       "      <td>0.022882</td>\n",
       "    </tr>\n",
       "    <tr>\n",
       "      <th>25</th>\n",
       "      <td>ttr</td>\n",
       "      <td>0.019596</td>\n",
       "    </tr>\n",
       "    <tr>\n",
       "      <th>27</th>\n",
       "      <td>lexrank_avg_min_diff</td>\n",
       "      <td>0.018763</td>\n",
       "    </tr>\n",
       "    <tr>\n",
       "      <th>0</th>\n",
       "      <td>number_of_words</td>\n",
       "      <td>0.01869</td>\n",
       "    </tr>\n",
       "    <tr>\n",
       "      <th>11</th>\n",
       "      <td>freq_of_wrong_words</td>\n",
       "      <td>0.018025</td>\n",
       "    </tr>\n",
       "    <tr>\n",
       "      <th>20</th>\n",
       "      <td>dale_chall_readability_score</td>\n",
       "      <td>0.017734</td>\n",
       "    </tr>\n",
       "  </tbody>\n",
       "</table>\n",
       "</div>"
      ],
      "text/plain": [
       "                               0         1\n",
       "17          Incorrect_form_ratio  0.365601\n",
       "23          number_of_diff_words  0.183728\n",
       "26               coherence_score  0.038382\n",
       "24               freq_diff_words  0.034787\n",
       "31               freq_of_pronoun  0.022882\n",
       "25                           ttr  0.019596\n",
       "27          lexrank_avg_min_diff  0.018763\n",
       "0                number_of_words   0.01869\n",
       "11           freq_of_wrong_words  0.018025\n",
       "20  dale_chall_readability_score  0.017734"
      ]
     },
     "execution_count": 110,
     "metadata": {},
     "output_type": "execute_result"
    }
   ],
   "source": [
    "fi_gbr1_1 = pd.DataFrame([gbr1_1.feature_names_in_, gbr1_1.feature_importances_]).T\n",
    "fi_gbr1_1 = fi_gbr1_1.sort_values(by=1,ascending=False)\n",
    "fi_gbr1_1.head(10)"
   ]
  },
  {
   "cell_type": "code",
   "execution_count": 115,
   "id": "4cc7d39e",
   "metadata": {},
   "outputs": [
    {
     "ename": "ValueError",
     "evalue": "X has 3 features, but GradientBoostingRegressor is expecting 2 features as input.",
     "output_type": "error",
     "traceback": [
      "\u001b[1;31m---------------------------------------------------------------------------\u001b[0m",
      "\u001b[1;31mValueError\u001b[0m                                Traceback (most recent call last)",
      "Input \u001b[1;32mIn [115]\u001b[0m, in \u001b[0;36m<cell line: 7>\u001b[1;34m()\u001b[0m\n\u001b[0;32m      5\u001b[0m gbr1_1_res \u001b[38;5;241m=\u001b[39m GradientBoostingRegressor()\n\u001b[0;32m      6\u001b[0m gbr1_1_res\u001b[38;5;241m.\u001b[39mfit(X_train_gbr1_1_res, y_train_gbr1_1_res)\n\u001b[1;32m----> 7\u001b[0m y_pred_gbr1_1_res \u001b[38;5;241m=\u001b[39m \u001b[43mgbr1_res\u001b[49m\u001b[38;5;241;43m.\u001b[39;49m\u001b[43mpredict\u001b[49m\u001b[43m(\u001b[49m\u001b[43mX_test_gbr1_1_res\u001b[49m\u001b[43m)\u001b[49m\n\u001b[0;32m      8\u001b[0m \u001b[38;5;28mprint\u001b[39m(accuracy(result(y_pred_gbr1_1_res), y_test_gbr1_1_res))\n\u001b[0;32m      9\u001b[0m \u001b[38;5;28mprint\u001b[39m(score(y_pred_gbr1_1_res, y_test_gbr1_1_res))\n",
      "File \u001b[1;32m~\\anaconda3\\envs\\BT4222\\lib\\site-packages\\sklearn\\ensemble\\_gb.py:1963\u001b[0m, in \u001b[0;36mGradientBoostingRegressor.predict\u001b[1;34m(self, X)\u001b[0m\n\u001b[0;32m   1948\u001b[0m \u001b[38;5;28;01mdef\u001b[39;00m \u001b[38;5;21mpredict\u001b[39m(\u001b[38;5;28mself\u001b[39m, X):\n\u001b[0;32m   1949\u001b[0m     \u001b[38;5;124;03m\"\"\"Predict regression target for X.\u001b[39;00m\n\u001b[0;32m   1950\u001b[0m \n\u001b[0;32m   1951\u001b[0m \u001b[38;5;124;03m    Parameters\u001b[39;00m\n\u001b[1;32m   (...)\u001b[0m\n\u001b[0;32m   1961\u001b[0m \u001b[38;5;124;03m        The predicted values.\u001b[39;00m\n\u001b[0;32m   1962\u001b[0m \u001b[38;5;124;03m    \"\"\"\u001b[39;00m\n\u001b[1;32m-> 1963\u001b[0m     X \u001b[38;5;241m=\u001b[39m \u001b[38;5;28;43mself\u001b[39;49m\u001b[38;5;241;43m.\u001b[39;49m\u001b[43m_validate_data\u001b[49m\u001b[43m(\u001b[49m\n\u001b[0;32m   1964\u001b[0m \u001b[43m        \u001b[49m\u001b[43mX\u001b[49m\u001b[43m,\u001b[49m\u001b[43m \u001b[49m\u001b[43mdtype\u001b[49m\u001b[38;5;241;43m=\u001b[39;49m\u001b[43mDTYPE\u001b[49m\u001b[43m,\u001b[49m\u001b[43m \u001b[49m\u001b[43morder\u001b[49m\u001b[38;5;241;43m=\u001b[39;49m\u001b[38;5;124;43m\"\u001b[39;49m\u001b[38;5;124;43mC\u001b[39;49m\u001b[38;5;124;43m\"\u001b[39;49m\u001b[43m,\u001b[49m\u001b[43m \u001b[49m\u001b[43maccept_sparse\u001b[49m\u001b[38;5;241;43m=\u001b[39;49m\u001b[38;5;124;43m\"\u001b[39;49m\u001b[38;5;124;43mcsr\u001b[39;49m\u001b[38;5;124;43m\"\u001b[39;49m\u001b[43m,\u001b[49m\u001b[43m \u001b[49m\u001b[43mreset\u001b[49m\u001b[38;5;241;43m=\u001b[39;49m\u001b[38;5;28;43;01mFalse\u001b[39;49;00m\n\u001b[0;32m   1965\u001b[0m \u001b[43m    \u001b[49m\u001b[43m)\u001b[49m\n\u001b[0;32m   1966\u001b[0m     \u001b[38;5;66;03m# In regression we can directly return the raw value from the trees.\u001b[39;00m\n\u001b[0;32m   1967\u001b[0m     \u001b[38;5;28;01mreturn\u001b[39;00m \u001b[38;5;28mself\u001b[39m\u001b[38;5;241m.\u001b[39m_raw_predict(X)\u001b[38;5;241m.\u001b[39mravel()\n",
      "File \u001b[1;32m~\\anaconda3\\envs\\BT4222\\lib\\site-packages\\sklearn\\base.py:600\u001b[0m, in \u001b[0;36mBaseEstimator._validate_data\u001b[1;34m(self, X, y, reset, validate_separately, **check_params)\u001b[0m\n\u001b[0;32m    597\u001b[0m     out \u001b[38;5;241m=\u001b[39m X, y\n\u001b[0;32m    599\u001b[0m \u001b[38;5;28;01mif\u001b[39;00m \u001b[38;5;129;01mnot\u001b[39;00m no_val_X \u001b[38;5;129;01mand\u001b[39;00m check_params\u001b[38;5;241m.\u001b[39mget(\u001b[38;5;124m\"\u001b[39m\u001b[38;5;124mensure_2d\u001b[39m\u001b[38;5;124m\"\u001b[39m, \u001b[38;5;28;01mTrue\u001b[39;00m):\n\u001b[1;32m--> 600\u001b[0m     \u001b[38;5;28;43mself\u001b[39;49m\u001b[38;5;241;43m.\u001b[39;49m\u001b[43m_check_n_features\u001b[49m\u001b[43m(\u001b[49m\u001b[43mX\u001b[49m\u001b[43m,\u001b[49m\u001b[43m \u001b[49m\u001b[43mreset\u001b[49m\u001b[38;5;241;43m=\u001b[39;49m\u001b[43mreset\u001b[49m\u001b[43m)\u001b[49m\n\u001b[0;32m    602\u001b[0m \u001b[38;5;28;01mreturn\u001b[39;00m out\n",
      "File \u001b[1;32m~\\anaconda3\\envs\\BT4222\\lib\\site-packages\\sklearn\\base.py:400\u001b[0m, in \u001b[0;36mBaseEstimator._check_n_features\u001b[1;34m(self, X, reset)\u001b[0m\n\u001b[0;32m    397\u001b[0m     \u001b[38;5;28;01mreturn\u001b[39;00m\n\u001b[0;32m    399\u001b[0m \u001b[38;5;28;01mif\u001b[39;00m n_features \u001b[38;5;241m!=\u001b[39m \u001b[38;5;28mself\u001b[39m\u001b[38;5;241m.\u001b[39mn_features_in_:\n\u001b[1;32m--> 400\u001b[0m     \u001b[38;5;28;01mraise\u001b[39;00m \u001b[38;5;167;01mValueError\u001b[39;00m(\n\u001b[0;32m    401\u001b[0m         \u001b[38;5;124mf\u001b[39m\u001b[38;5;124m\"\u001b[39m\u001b[38;5;124mX has \u001b[39m\u001b[38;5;132;01m{\u001b[39;00mn_features\u001b[38;5;132;01m}\u001b[39;00m\u001b[38;5;124m features, but \u001b[39m\u001b[38;5;132;01m{\u001b[39;00m\u001b[38;5;28mself\u001b[39m\u001b[38;5;241m.\u001b[39m\u001b[38;5;18m__class__\u001b[39m\u001b[38;5;241m.\u001b[39m\u001b[38;5;18m__name__\u001b[39m\u001b[38;5;132;01m}\u001b[39;00m\u001b[38;5;124m \u001b[39m\u001b[38;5;124m\"\u001b[39m\n\u001b[0;32m    402\u001b[0m         \u001b[38;5;124mf\u001b[39m\u001b[38;5;124m\"\u001b[39m\u001b[38;5;124mis expecting \u001b[39m\u001b[38;5;132;01m{\u001b[39;00m\u001b[38;5;28mself\u001b[39m\u001b[38;5;241m.\u001b[39mn_features_in_\u001b[38;5;132;01m}\u001b[39;00m\u001b[38;5;124m features as input.\u001b[39m\u001b[38;5;124m\"\u001b[39m\n\u001b[0;32m    403\u001b[0m     )\n",
      "\u001b[1;31mValueError\u001b[0m: X has 3 features, but GradientBoostingRegressor is expecting 2 features as input."
     ]
    }
   ],
   "source": [
    "X_train_gbr1_1_res = X_train[['Incorrect_form_ratio','number_of_diff_words','coherence_score']]\n",
    "y_train_gbr1_1_res = y_train\n",
    "X_test_gbr1_1_res = X_test[['Incorrect_form_ratio','number_of_diff_words','coherence_score']]\n",
    "y_test_gbr1_1_res = y_test\n",
    "gbr1_1_res = GradientBoostingRegressor()\n",
    "gbr1_1_res.fit(X_train_gbr1_1_res, y_train_gbr1_1_res)\n",
    "y_pred_gbr1_1_res = gbr1_res.predict(X_test_gbr1_1_res)\n",
    "print(accuracy(result(y_pred_gbr1_1_res), y_test_gbr1_1_res))\n",
    "print(score(y_pred_gbr1_1_res, y_test_gbr1_1_res))"
   ]
  },
  {
   "cell_type": "markdown",
   "id": "baa9bd73",
   "metadata": {},
   "source": [
    "After combining 300 decision tree in "
   ]
  },
  {
   "cell_type": "markdown",
   "id": "adc9ef8f",
   "metadata": {},
   "source": [
    "### 1.3 Stacking\n",
    "\n",
    "random forest"
   ]
  },
  {
   "cell_type": "code",
   "execution_count": null,
   "id": "6da92d6e",
   "metadata": {},
   "outputs": [],
   "source": []
  },
  {
   "cell_type": "markdown",
   "id": "d5a1d048",
   "metadata": {},
   "source": [
    "## 2 Predict Cohesion with Prediction of Vocabulary"
   ]
  },
  {
   "cell_type": "markdown",
   "id": "f105ab01",
   "metadata": {},
   "source": [
    "### 2.1 Voting\n",
    "\n",
    "linear regression:\n",
    "exact accuracy = 0.33844580777096117\n",
    "approximate accuracy = \n",
    "\n",
    "decision tree:\n",
    "exact accuracy = 0.3282247765006386\n",
    "approximate accuracy = 0.5900383141762452"
   ]
  },
  {
   "cell_type": "code",
   "execution_count": 20,
   "id": "e6a96f0b",
   "metadata": {},
   "outputs": [],
   "source": [
    "y = df['cohesion']\n",
    "X = df.iloc[:, 7:]\n",
    "X = X.drop('corrected_text', axis = 1)\n",
    "X['vocabulary'] = vr.predict(X)"
   ]
  },
  {
   "cell_type": "code",
   "execution_count": 21,
   "id": "c280600c",
   "metadata": {},
   "outputs": [],
   "source": [
    "X_train, X_test, y_train, y_test = train_test_split(X, y, random_state=42)\n",
    "vr2 = VotingRegressor(\n",
    "    estimators=[('linear regressor', lr2), ('decision tree', dt2)]\n",
    ")"
   ]
  },
  {
   "cell_type": "code",
   "execution_count": 22,
   "id": "92a6b9d4",
   "metadata": {},
   "outputs": [
    {
     "name": "stdout",
     "output_type": "stream",
     "text": [
      "0.3343558282208589\n",
      "0.6390593047034765\n"
     ]
    }
   ],
   "source": [
    "vr2.fit(X_train, y_train)\n",
    "y_pred2 = vr2.predict(X_test)\n",
    "print(accuracy(result(y_pred2), y_test))\n",
    "print(score(y_pred2, y_test))"
   ]
  },
  {
   "cell_type": "markdown",
   "id": "53180e48",
   "metadata": {},
   "source": [
    "### 2.2 AdaBoost"
   ]
  },
  {
   "cell_type": "code",
   "execution_count": null,
   "id": "09b4d842",
   "metadata": {},
   "outputs": [],
   "source": []
  },
  {
   "cell_type": "markdown",
   "id": "72faeb2e",
   "metadata": {},
   "source": [
    "### 2.3 Stacking"
   ]
  },
  {
   "cell_type": "code",
   "execution_count": null,
   "id": "281ca3c1",
   "metadata": {},
   "outputs": [],
   "source": []
  }
 ],
 "metadata": {
  "kernelspec": {
   "display_name": "Python 3 (ipykernel)",
   "language": "python",
   "name": "python3"
  },
  "language_info": {
   "codemirror_mode": {
    "name": "ipython",
    "version": 3
   },
   "file_extension": ".py",
   "mimetype": "text/x-python",
   "name": "python",
   "nbconvert_exporter": "python",
   "pygments_lexer": "ipython3",
   "version": "3.9.13"
  },
  "vscode": {
   "interpreter": {
    "hash": "070eb8febb0d65b63a678342faa3921edb1fc763d0e6db793e5b6232b3f5c5a1"
   }
  }
 },
 "nbformat": 4,
 "nbformat_minor": 5
}
