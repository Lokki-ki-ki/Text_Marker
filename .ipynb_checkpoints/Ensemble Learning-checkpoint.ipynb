{
 "cells": [
  {
   "cell_type": "code",
   "execution_count": 128,
   "id": "896c80a3",
   "metadata": {},
   "outputs": [],
   "source": [
    "%matplotlib inline\n",
    "import warnings\n",
    "warnings.simplefilter(action='ignore', category=FutureWarning)\n",
    "\n",
    "import pandas as pd\n",
    "import numpy as np\n",
    "from matplotlib import pyplot as plt\n",
    "\n",
    "from sklearn.model_selection import GridSearchCV\n",
    "from sklearn.linear_model import LinearRegression\n",
    "from sklearn.neighbors import KNeighborsRegressor\n",
    "from sklearn.tree import DecisionTreeRegressor\n",
    "from sklearn.ensemble import RandomForestRegressor\n",
    "from sklearn.ensemble import VotingRegressor\n",
    "from sklearn.ensemble import AdaBoostRegressor\n",
    "from sklearn.ensemble import GradientBoostingRegressor\n",
    "from sklearn.ensemble import StackingRegressor\n",
    "\n",
    "from sklearn.model_selection import train_test_split\n",
    "from sklearn.inspection import permutation_importance\n",
    "\n",
    "import pickle\n",
    "import tensorflow as tf"
   ]
  },
  {
   "cell_type": "code",
   "execution_count": 4,
   "id": "6be37af5",
   "metadata": {},
   "outputs": [],
   "source": [
    "def result(predictions):\n",
    "    predictions = predictions.tolist()\n",
    "    result_list=[]\n",
    "    for pred in predictions:\n",
    "        result = pred // 0.5 * 0.5\n",
    "        if (pred - result) > 0.25:\n",
    "            result += 0.5\n",
    "        if result < 1.0:\n",
    "            result = 1.0\n",
    "        if result > 5.0:\n",
    "            result = 5.0\n",
    "        result_list.append(result)\n",
    "    return result_list\n",
    "\n",
    "# Accuracy score\n",
    "def accuracy(Ypred, Ytrue):\n",
    "    Ytrue = Ytrue.tolist()\n",
    "    accurate = 0\n",
    "    for i in range(len(Ytrue)):\n",
    "        if Ytrue[i] == Ypred[i]:\n",
    "            accurate += 1\n",
    "    return accurate / len(Ytrue)\n",
    "\n",
    "# approximate accurancy rate\n",
    "def score(pred, test):\n",
    "    test = test.tolist()\n",
    "    correct = 0\n",
    "    for i in range(len(test)):\n",
    "        p = pred[i]\n",
    "        t = test[i]\n",
    "        if p < t+0.5 and p > t-0.5:\n",
    "            correct += 1\n",
    "    return correct / len(test)"
   ]
  },
  {
   "cell_type": "markdown",
   "id": "08e3964f",
   "metadata": {},
   "source": [
    "# Ensemble Learning"
   ]
  },
  {
   "cell_type": "markdown",
   "id": "7c7d0f00",
   "metadata": {},
   "source": [
    "For target = vocabulary & target = cohesion:\n",
    "\n",
    "linear regressor = lr1, lr2\n",
    "\n",
    "k neighbours regressor = knn1, knn2\n",
    "\n",
    "decision tree = dt1, dt2\n",
    "\n",
    "neural network = nn1, nn2"
   ]
  },
  {
   "cell_type": "code",
   "execution_count": 154,
   "id": "465d1cdd",
   "metadata": {
    "scrolled": true
   },
   "outputs": [
    {
     "name": "stderr",
     "output_type": "stream",
     "text": [
      "C:\\Users\\12560\\anaconda3\\envs\\BT4222\\lib\\site-packages\\sklearn\\base.py:329: UserWarning: Trying to unpickle estimator LinearRegression from version 1.0.2 when using version 1.1.2. This might lead to breaking code or invalid results. Use at your own risk. For more info please refer to:\n",
      "https://scikit-learn.org/stable/model_persistence.html#security-maintainability-limitations\n",
      "  warnings.warn(\n",
      "C:\\Users\\12560\\anaconda3\\envs\\BT4222\\lib\\site-packages\\sklearn\\base.py:329: UserWarning: Trying to unpickle estimator DecisionTreeRegressor from version 0.24.1 when using version 1.1.2. This might lead to breaking code or invalid results. Use at your own risk. For more info please refer to:\n",
      "https://scikit-learn.org/stable/model_persistence.html#security-maintainability-limitations\n",
      "  warnings.warn(\n",
      "C:\\Users\\12560\\anaconda3\\envs\\BT4222\\lib\\site-packages\\sklearn\\base.py:329: UserWarning: Trying to unpickle estimator KNeighborsRegressor from version 1.0.2 when using version 1.1.2. This might lead to breaking code or invalid results. Use at your own risk. For more info please refer to:\n",
      "https://scikit-learn.org/stable/model_persistence.html#security-maintainability-limitations\n",
      "  warnings.warn(\n"
     ]
    }
   ],
   "source": [
    "lr1 = pickle.load(open(\"lr.sav\", 'rb'))\n",
    "lr2 = pickle.load(open(\"lr_second.sav\", 'rb'))\n",
    "dt1 = pickle.load(open(\"Decision_Tree_vocab.sav\", 'rb'))\n",
    "dt2 = pickle.load(open(\"Decision_Tree_cohesion.sav\", 'rb'))\n",
    "knn1 = pickle.load(open(\"knn_vocab.sav\", 'rb'))\n",
    "knn2 = pickle.load(open(\"knn_cohesion.sav\", 'rb'))\n",
    "\n",
    "#nn1 = pickle.load(open(\"./neural_network_vocab.sav\", 'rb'))\n",
    "#nn2 = pickle.load(open(\"./neural_network.sav\", 'rb'))\n",
    "nn1 = tf.keras.models.load_model(\"model_deep_vocabulary\")\n",
    "nn2 = tf.keras.models.load_model(\"model_deep_cohesion\")"
   ]
  },
  {
   "cell_type": "markdown",
   "id": "7a30890b",
   "metadata": {},
   "source": [
    "## 1 Predict Vocabulary"
   ]
  },
  {
   "cell_type": "code",
   "execution_count": 155,
   "id": "8967b8c7",
   "metadata": {},
   "outputs": [],
   "source": [
    "df = pd.read_csv(\"Processed_Data.csv\")\n",
    "y = df['vocabulary']\n",
    "X = df.iloc[:, 7:]\n",
    "X = X.drop('corrected_text', axis = 1)"
   ]
  },
  {
   "cell_type": "markdown",
   "id": "64fa1d5a",
   "metadata": {},
   "source": [
    "### 1.1 Voting"
   ]
  },
  {
   "cell_type": "markdown",
   "id": "605e9d1a",
   "metadata": {},
   "source": [
    "linear regression:\n",
    "exact accuracy = 0.3987730061349693\n",
    "approximate accuracy = \n",
    "\n",
    "decision tree:\n",
    "exact accuracy = 0.4061302681992337\n",
    "approximate accuracy =  0.7049808429118773"
   ]
  },
  {
   "cell_type": "code",
   "execution_count": 156,
   "id": "e25ac223",
   "metadata": {},
   "outputs": [],
   "source": [
    "X_train, X_test, y_train, y_test = train_test_split(X, y, random_state=42, test_size=0.25)\n",
    "vr = VotingRegressor(\n",
    "    estimators=[('linear regressor', lr1), ('decision tree', dt1), ('KNN', knn1)]\n",
    ")"
   ]
  },
  {
   "cell_type": "code",
   "execution_count": 157,
   "id": "472864cb",
   "metadata": {},
   "outputs": [
    {
     "name": "stdout",
     "output_type": "stream",
     "text": [
      "0.401840490797546\n",
      "0.7208588957055214\n"
     ]
    }
   ],
   "source": [
    "vr.fit(X_train, y_train)\n",
    "y_pred_vr = vr.predict(X_test)\n",
    "print(accuracy(result(y_pred_vr), y_test))\n",
    "print(score(y_pred_vr, y_test))"
   ]
  },
  {
   "cell_type": "markdown",
   "id": "962af4f3",
   "metadata": {},
   "source": [
    "### 1.2 AdaBoost"
   ]
  },
  {
   "cell_type": "code",
   "execution_count": 170,
   "id": "b1466ef6",
   "metadata": {},
   "outputs": [
    {
     "data": {
      "text/html": [
       "<style>#sk-container-id-14 {color: black;background-color: white;}#sk-container-id-14 pre{padding: 0;}#sk-container-id-14 div.sk-toggleable {background-color: white;}#sk-container-id-14 label.sk-toggleable__label {cursor: pointer;display: block;width: 100%;margin-bottom: 0;padding: 0.3em;box-sizing: border-box;text-align: center;}#sk-container-id-14 label.sk-toggleable__label-arrow:before {content: \"▸\";float: left;margin-right: 0.25em;color: #696969;}#sk-container-id-14 label.sk-toggleable__label-arrow:hover:before {color: black;}#sk-container-id-14 div.sk-estimator:hover label.sk-toggleable__label-arrow:before {color: black;}#sk-container-id-14 div.sk-toggleable__content {max-height: 0;max-width: 0;overflow: hidden;text-align: left;background-color: #f0f8ff;}#sk-container-id-14 div.sk-toggleable__content pre {margin: 0.2em;color: black;border-radius: 0.25em;background-color: #f0f8ff;}#sk-container-id-14 input.sk-toggleable__control:checked~div.sk-toggleable__content {max-height: 200px;max-width: 100%;overflow: auto;}#sk-container-id-14 input.sk-toggleable__control:checked~label.sk-toggleable__label-arrow:before {content: \"▾\";}#sk-container-id-14 div.sk-estimator input.sk-toggleable__control:checked~label.sk-toggleable__label {background-color: #d4ebff;}#sk-container-id-14 div.sk-label input.sk-toggleable__control:checked~label.sk-toggleable__label {background-color: #d4ebff;}#sk-container-id-14 input.sk-hidden--visually {border: 0;clip: rect(1px 1px 1px 1px);clip: rect(1px, 1px, 1px, 1px);height: 1px;margin: -1px;overflow: hidden;padding: 0;position: absolute;width: 1px;}#sk-container-id-14 div.sk-estimator {font-family: monospace;background-color: #f0f8ff;border: 1px dotted black;border-radius: 0.25em;box-sizing: border-box;margin-bottom: 0.5em;}#sk-container-id-14 div.sk-estimator:hover {background-color: #d4ebff;}#sk-container-id-14 div.sk-parallel-item::after {content: \"\";width: 100%;border-bottom: 1px solid gray;flex-grow: 1;}#sk-container-id-14 div.sk-label:hover label.sk-toggleable__label {background-color: #d4ebff;}#sk-container-id-14 div.sk-serial::before {content: \"\";position: absolute;border-left: 1px solid gray;box-sizing: border-box;top: 0;bottom: 0;left: 50%;z-index: 0;}#sk-container-id-14 div.sk-serial {display: flex;flex-direction: column;align-items: center;background-color: white;padding-right: 0.2em;padding-left: 0.2em;position: relative;}#sk-container-id-14 div.sk-item {position: relative;z-index: 1;}#sk-container-id-14 div.sk-parallel {display: flex;align-items: stretch;justify-content: center;background-color: white;position: relative;}#sk-container-id-14 div.sk-item::before, #sk-container-id-14 div.sk-parallel-item::before {content: \"\";position: absolute;border-left: 1px solid gray;box-sizing: border-box;top: 0;bottom: 0;left: 50%;z-index: -1;}#sk-container-id-14 div.sk-parallel-item {display: flex;flex-direction: column;z-index: 1;position: relative;background-color: white;}#sk-container-id-14 div.sk-parallel-item:first-child::after {align-self: flex-end;width: 50%;}#sk-container-id-14 div.sk-parallel-item:last-child::after {align-self: flex-start;width: 50%;}#sk-container-id-14 div.sk-parallel-item:only-child::after {width: 0;}#sk-container-id-14 div.sk-dashed-wrapped {border: 1px dashed gray;margin: 0 0.4em 0.5em 0.4em;box-sizing: border-box;padding-bottom: 0.4em;background-color: white;}#sk-container-id-14 div.sk-label label {font-family: monospace;font-weight: bold;display: inline-block;line-height: 1.2em;}#sk-container-id-14 div.sk-label-container {text-align: center;}#sk-container-id-14 div.sk-container {/* jupyter's `normalize.less` sets `[hidden] { display: none; }` but bootstrap.min.css set `[hidden] { display: none !important; }` so we also need the `!important` here to be able to override the default hidden behavior on the sphinx rendered scikit-learn.org. See: https://github.com/scikit-learn/scikit-learn/issues/21755 */display: inline-block !important;position: relative;}#sk-container-id-14 div.sk-text-repr-fallback {display: none;}</style><div id=\"sk-container-id-14\" class=\"sk-top-container\"><div class=\"sk-text-repr-fallback\"><pre>AdaBoostRegressor(base_estimator=DecisionTreeRegressor(criterion=&#x27;friedman_mse&#x27;,\n",
       "                                                       max_depth=4))</pre><b>In a Jupyter environment, please rerun this cell to show the HTML representation or trust the notebook. <br />On GitHub, the HTML representation is unable to render, please try loading this page with nbviewer.org.</b></div><div class=\"sk-container\" hidden><div class=\"sk-item sk-dashed-wrapped\"><div class=\"sk-label-container\"><div class=\"sk-label sk-toggleable\"><input class=\"sk-toggleable__control sk-hidden--visually\" id=\"sk-estimator-id-18\" type=\"checkbox\" ><label for=\"sk-estimator-id-18\" class=\"sk-toggleable__label sk-toggleable__label-arrow\">AdaBoostRegressor</label><div class=\"sk-toggleable__content\"><pre>AdaBoostRegressor(base_estimator=DecisionTreeRegressor(criterion=&#x27;friedman_mse&#x27;,\n",
       "                                                       max_depth=4))</pre></div></div></div><div class=\"sk-parallel\"><div class=\"sk-parallel-item\"><div class=\"sk-item\"><div class=\"sk-label-container\"><div class=\"sk-label sk-toggleable\"><input class=\"sk-toggleable__control sk-hidden--visually\" id=\"sk-estimator-id-19\" type=\"checkbox\" ><label for=\"sk-estimator-id-19\" class=\"sk-toggleable__label sk-toggleable__label-arrow\">base_estimator: DecisionTreeRegressor</label><div class=\"sk-toggleable__content\"><pre>DecisionTreeRegressor(criterion=&#x27;friedman_mse&#x27;, max_depth=4)</pre></div></div></div><div class=\"sk-serial\"><div class=\"sk-item\"><div class=\"sk-estimator sk-toggleable\"><input class=\"sk-toggleable__control sk-hidden--visually\" id=\"sk-estimator-id-20\" type=\"checkbox\" ><label for=\"sk-estimator-id-20\" class=\"sk-toggleable__label sk-toggleable__label-arrow\">DecisionTreeRegressor</label><div class=\"sk-toggleable__content\"><pre>DecisionTreeRegressor(criterion=&#x27;friedman_mse&#x27;, max_depth=4)</pre></div></div></div></div></div></div></div></div></div></div>"
      ],
      "text/plain": [
       "AdaBoostRegressor(base_estimator=DecisionTreeRegressor(criterion='friedman_mse',\n",
       "                                                       max_depth=4))"
      ]
     },
     "execution_count": 170,
     "metadata": {},
     "output_type": "execute_result"
    }
   ],
   "source": [
    "ar1 = AdaBoostRegressor(\n",
    "    base_estimator=DecisionTreeRegressor(criterion='friedman_mse', max_depth=4, min_samples_split=2)\n",
    ")\n",
    "ar1.fit(X_train, y_train)"
   ]
  },
  {
   "cell_type": "code",
   "execution_count": 175,
   "id": "0bbe7398",
   "metadata": {},
   "outputs": [
    {
     "name": "stdout",
     "output_type": "stream",
     "text": [
      "0.4100204498977505\n",
      "0.7137014314928425\n"
     ]
    }
   ],
   "source": [
    "y_pred_ar1 = ar1.predict(X_test)\n",
    "print(accuracy(result(y_pred_ar1), y_test))\n",
    "print(score(y_pred_ar1, y_test))"
   ]
  },
  {
   "cell_type": "code",
   "execution_count": 172,
   "id": "cb9279c6",
   "metadata": {},
   "outputs": [
    {
     "data": {
      "text/plain": [
       "[DecisionTreeRegressor(criterion='friedman_mse', max_depth=4,\n",
       "                       random_state=529175681),\n",
       " DecisionTreeRegressor(criterion='friedman_mse', max_depth=4,\n",
       "                       random_state=44697635),\n",
       " DecisionTreeRegressor(criterion='friedman_mse', max_depth=4,\n",
       "                       random_state=763985914),\n",
       " DecisionTreeRegressor(criterion='friedman_mse', max_depth=4,\n",
       "                       random_state=1926139716),\n",
       " DecisionTreeRegressor(criterion='friedman_mse', max_depth=4,\n",
       "                       random_state=1461068265),\n",
       " DecisionTreeRegressor(criterion='friedman_mse', max_depth=4,\n",
       "                       random_state=1698457272),\n",
       " DecisionTreeRegressor(criterion='friedman_mse', max_depth=4,\n",
       "                       random_state=676729355),\n",
       " DecisionTreeRegressor(criterion='friedman_mse', max_depth=4,\n",
       "                       random_state=1098255066),\n",
       " DecisionTreeRegressor(criterion='friedman_mse', max_depth=4,\n",
       "                       random_state=1447539163),\n",
       " DecisionTreeRegressor(criterion='friedman_mse', max_depth=4,\n",
       "                       random_state=348509871),\n",
       " DecisionTreeRegressor(criterion='friedman_mse', max_depth=4,\n",
       "                       random_state=639233318),\n",
       " DecisionTreeRegressor(criterion='friedman_mse', max_depth=4,\n",
       "                       random_state=1593889546),\n",
       " DecisionTreeRegressor(criterion='friedman_mse', max_depth=4,\n",
       "                       random_state=1417324661),\n",
       " DecisionTreeRegressor(criterion='friedman_mse', max_depth=4,\n",
       "                       random_state=257358114),\n",
       " DecisionTreeRegressor(criterion='friedman_mse', max_depth=4,\n",
       "                       random_state=1526811840),\n",
       " DecisionTreeRegressor(criterion='friedman_mse', max_depth=4,\n",
       "                       random_state=1061871780),\n",
       " DecisionTreeRegressor(criterion='friedman_mse', max_depth=4,\n",
       "                       random_state=1595201866),\n",
       " DecisionTreeRegressor(criterion='friedman_mse', max_depth=4,\n",
       "                       random_state=1033271080),\n",
       " DecisionTreeRegressor(criterion='friedman_mse', max_depth=4,\n",
       "                       random_state=1216841990),\n",
       " DecisionTreeRegressor(criterion='friedman_mse', max_depth=4,\n",
       "                       random_state=547687978),\n",
       " DecisionTreeRegressor(criterion='friedman_mse', max_depth=4,\n",
       "                       random_state=388830035),\n",
       " DecisionTreeRegressor(criterion='friedman_mse', max_depth=4,\n",
       "                       random_state=158049710),\n",
       " DecisionTreeRegressor(criterion='friedman_mse', max_depth=4,\n",
       "                       random_state=1495242036),\n",
       " DecisionTreeRegressor(criterion='friedman_mse', max_depth=4,\n",
       "                       random_state=1693584192),\n",
       " DecisionTreeRegressor(criterion='friedman_mse', max_depth=4,\n",
       "                       random_state=1159643658),\n",
       " DecisionTreeRegressor(criterion='friedman_mse', max_depth=4,\n",
       "                       random_state=1466688011),\n",
       " DecisionTreeRegressor(criterion='friedman_mse', max_depth=4,\n",
       "                       random_state=622048926),\n",
       " DecisionTreeRegressor(criterion='friedman_mse', max_depth=4,\n",
       "                       random_state=1173042704),\n",
       " DecisionTreeRegressor(criterion='friedman_mse', max_depth=4,\n",
       "                       random_state=1636304878),\n",
       " DecisionTreeRegressor(criterion='friedman_mse', max_depth=4,\n",
       "                       random_state=606122291),\n",
       " DecisionTreeRegressor(criterion='friedman_mse', max_depth=4,\n",
       "                       random_state=1187218330),\n",
       " DecisionTreeRegressor(criterion='friedman_mse', max_depth=4,\n",
       "                       random_state=665289621),\n",
       " DecisionTreeRegressor(criterion='friedman_mse', max_depth=4,\n",
       "                       random_state=854878081),\n",
       " DecisionTreeRegressor(criterion='friedman_mse', max_depth=4,\n",
       "                       random_state=1976902753),\n",
       " DecisionTreeRegressor(criterion='friedman_mse', max_depth=4,\n",
       "                       random_state=1376037650),\n",
       " DecisionTreeRegressor(criterion='friedman_mse', max_depth=4,\n",
       "                       random_state=40072449),\n",
       " DecisionTreeRegressor(criterion='friedman_mse', max_depth=4,\n",
       "                       random_state=1902904807),\n",
       " DecisionTreeRegressor(criterion='friedman_mse', max_depth=4,\n",
       "                       random_state=510059165),\n",
       " DecisionTreeRegressor(criterion='friedman_mse', max_depth=4,\n",
       "                       random_state=1021223588),\n",
       " DecisionTreeRegressor(criterion='friedman_mse', max_depth=4,\n",
       "                       random_state=2023218403),\n",
       " DecisionTreeRegressor(criterion='friedman_mse', max_depth=4,\n",
       "                       random_state=111364084),\n",
       " DecisionTreeRegressor(criterion='friedman_mse', max_depth=4,\n",
       "                       random_state=988773222),\n",
       " DecisionTreeRegressor(criterion='friedman_mse', max_depth=4,\n",
       "                       random_state=1937093381),\n",
       " DecisionTreeRegressor(criterion='friedman_mse', max_depth=4,\n",
       "                       random_state=184957127),\n",
       " DecisionTreeRegressor(criterion='friedman_mse', max_depth=4,\n",
       "                       random_state=1712539482),\n",
       " DecisionTreeRegressor(criterion='friedman_mse', max_depth=4,\n",
       "                       random_state=211385289),\n",
       " DecisionTreeRegressor(criterion='friedman_mse', max_depth=4,\n",
       "                       random_state=1579476246),\n",
       " DecisionTreeRegressor(criterion='friedman_mse', max_depth=4,\n",
       "                       random_state=1545719425),\n",
       " DecisionTreeRegressor(criterion='friedman_mse', max_depth=4,\n",
       "                       random_state=960454115),\n",
       " DecisionTreeRegressor(criterion='friedman_mse', max_depth=4,\n",
       "                       random_state=1682422683)]"
      ]
     },
     "execution_count": 172,
     "metadata": {},
     "output_type": "execute_result"
    }
   ],
   "source": [
    "ar1.estimators_"
   ]
  },
  {
   "cell_type": "code",
   "execution_count": 173,
   "id": "5e05a282",
   "metadata": {},
   "outputs": [
    {
     "data": {
      "text/plain": [
       "array([1.7823737 , 1.19053327, 0.99432258, 1.24729975, 0.64027864,\n",
       "       1.36005862, 0.55533881, 1.01139172, 0.68841491, 0.73887161,\n",
       "       1.01831409, 0.83423352, 1.05956824, 0.66331197, 0.66210282,\n",
       "       0.74381795, 0.6048641 , 0.5427817 , 0.81701955, 0.62435331,\n",
       "       0.91666127, 0.88684738, 0.91820161, 0.65662289, 0.63365547,\n",
       "       0.72864977, 0.55690124, 0.84762456, 0.60164676, 1.20740062,\n",
       "       0.62109291, 0.93066639, 0.9222574 , 0.79707249, 0.73026024,\n",
       "       0.56734544, 0.98520078, 1.08263001, 0.71610782, 0.581803  ,\n",
       "       0.91428308, 0.99513543, 0.58781487, 0.98442389, 0.86228317,\n",
       "       0.78513723, 0.49925585, 0.57556409, 0.79380271, 0.68852784])"
      ]
     },
     "execution_count": 173,
     "metadata": {},
     "output_type": "execute_result"
    }
   ],
   "source": [
    "ar1.estimator_weights_"
   ]
  },
  {
   "cell_type": "markdown",
   "id": "942cf234",
   "metadata": {},
   "source": [
    "### 1.3 Gradient Boost"
   ]
  },
  {
   "cell_type": "markdown",
   "id": "f9727f49",
   "metadata": {},
   "source": [
    "Use the default decision tree in GradientBoostingRegressor.\n",
    "\n",
    "Find best parameters for GradientBoostingRegressor."
   ]
  },
  {
   "cell_type": "code",
   "execution_count": 95,
   "id": "57fb7b1c",
   "metadata": {},
   "outputs": [
    {
     "name": "stderr",
     "output_type": "stream",
     "text": [
      "C:\\Users\\12560\\anaconda3\\envs\\BT4222\\lib\\site-packages\\sklearn\\model_selection\\_validation.py:378: FitFailedWarning: \n",
      "60 fits failed out of a total of 600.\n",
      "The score on these train-test partitions for these parameters will be set to nan.\n",
      "If these failures are not expected, you can try to debug them by setting error_score='raise'.\n",
      "\n",
      "Below are more details about the failures:\n",
      "--------------------------------------------------------------------------------\n",
      "60 fits failed with the following error:\n",
      "Traceback (most recent call last):\n",
      "  File \"C:\\Users\\12560\\anaconda3\\envs\\BT4222\\lib\\site-packages\\sklearn\\model_selection\\_validation.py\", line 686, in _fit_and_score\n",
      "    estimator.fit(X_train, y_train, **fit_params)\n",
      "  File \"C:\\Users\\12560\\anaconda3\\envs\\BT4222\\lib\\site-packages\\sklearn\\ensemble\\_gb.py\", line 577, in fit\n",
      "    self._check_params()\n",
      "  File \"C:\\Users\\12560\\anaconda3\\envs\\BT4222\\lib\\site-packages\\sklearn\\ensemble\\_gb.py\", line 270, in _check_params\n",
      "    check_scalar(\n",
      "  File \"C:\\Users\\12560\\anaconda3\\envs\\BT4222\\lib\\site-packages\\sklearn\\utils\\validation.py\", line 1480, in check_scalar\n",
      "    raise ValueError(\n",
      "ValueError: learning_rate == 0.0, must be > 0.0.\n",
      "\n",
      "  warnings.warn(some_fits_failed_message, FitFailedWarning)\n",
      "C:\\Users\\12560\\anaconda3\\envs\\BT4222\\lib\\site-packages\\sklearn\\model_selection\\_search.py:953: UserWarning: One or more of the test scores are non-finite: [        nan         nan         nan         nan  0.35833562  0.28622179\n",
      "  0.36930911 -0.44592082  0.30895101  0.28166022  0.3199988  -0.46251978\n",
      "  0.29552791  0.28184504  0.2737147  -0.44963896  0.22915818  0.27531703\n",
      "  0.23690659 -0.4810962   0.18042077  0.28608927  0.20670861 -0.48240505\n",
      "  0.10515074  0.2584982   0.18775415 -0.48193333  0.05975714  0.24928946\n",
      "  0.1156048  -0.49002623  0.01675702  0.24199868  0.03728626 -0.50536145\n",
      " -0.08407928  0.2003837  -0.0574105  -0.53314363         nan         nan\n",
      "         nan         nan  0.35809055  0.28566821  0.36726601 -0.44595908\n",
      "  0.31035075  0.28051999  0.32007146 -0.45171408  0.29810376  0.28101318\n",
      "  0.28359875 -0.4326087   0.22838636  0.27481249  0.24721465 -0.46311085\n",
      "  0.18041453  0.28694866  0.21465416 -0.49041686  0.10963193  0.2563572\n",
      "  0.15086108 -0.48548741  0.0562589   0.24270214  0.10215578 -0.5019006\n",
      "  0.02231397  0.23537922  0.04976485 -0.52718658 -0.07708815  0.18508652\n",
      " -0.06352413 -0.5848853          nan         nan         nan         nan\n",
      "  0.35875984  0.28596857  0.36612986 -0.44361304  0.30944534  0.28239042\n",
      "  0.32203017 -0.45814451  0.29596607  0.28125789  0.29401959 -0.46205353\n",
      "  0.22729678  0.27480933  0.24160782 -0.48185539  0.17611284  0.28628223\n",
      "  0.20580743 -0.45418737  0.1048949   0.27029324  0.17391911 -0.48999422\n",
      "  0.05040128  0.23914744  0.11452427 -0.51490827  0.01991199  0.23632337\n",
      "  0.04409543 -0.50866007 -0.08890646  0.19259544 -0.07446485 -0.54630125]\n",
      "  warnings.warn(\n"
     ]
    },
    {
     "name": "stdout",
     "output_type": "stream",
     "text": [
      "{'criterion': 'friedman_mse', 'learning_rate': 0.1, 'loss': 'huber'}\n",
      "0.369309112331468\n"
     ]
    }
   ],
   "source": [
    "gbr1 = GradientBoostingRegressor(n_estimators=300)\n",
    "parameters = {\n",
    "    'loss':['squared_error', 'absolute_error', 'huber', 'quantile'],\n",
    "    'learning_rate':[0.1,0.2,0.3,0.4,0.5,0.6,0.7,0.8,0.9],\n",
    "    'criterion':['friedman_mse', 'squared_error', 'mse']\n",
    "}\n",
    "gs_gbr1 = GridSearchCV(gbr1, parameters)\n",
    "print(gs_gbr1.best_params_)\n",
    "print(gs_gbr1.best_score_)"
   ]
  },
  {
   "cell_type": "code",
   "execution_count": 100,
   "id": "4efcabb8",
   "metadata": {},
   "outputs": [
    {
     "name": "stdout",
     "output_type": "stream",
     "text": [
      "0.39775051124744376\n",
      "0.7085889570552147\n"
     ]
    }
   ],
   "source": [
    "gbr1_adj = GradientBoostingRegressor(\n",
    "    criterion = 'friedman_mse',\n",
    "    learning_rate = 0.1,\n",
    "    loss = 'huber',\n",
    "    n_estimators=300\n",
    ")\n",
    "gbr1_adj.fit(X_train, y_train)\n",
    "y_pred_gbr1_adj = gbr1_adj.predict(X_test)\n",
    "\n",
    "print(accuracy(result(y_pred_gbr1_adj), y_test))\n",
    "print(score(y_pred_gbr1_adj, y_test))"
   ]
  },
  {
   "cell_type": "code",
   "execution_count": 106,
   "id": "40551ffe",
   "metadata": {},
   "outputs": [
    {
     "name": "stdout",
     "output_type": "stream",
     "text": [
      "0.4059304703476483\n",
      "0.7198364008179959\n"
     ]
    }
   ],
   "source": [
    "gbr1_1 = GradientBoostingRegressor(n_estimators=300)\n",
    "gbr1_1.fit(X_train, y_train)\n",
    "y_pred_gbr1_1 = gbr1_1.predict(X_test)\n",
    "print(accuracy(result(y_pred_gbr1_1), y_test))\n",
    "print(score(y_pred_gbr1_1, y_test))"
   ]
  },
  {
   "cell_type": "markdown",
   "id": "7d2f2ed7",
   "metadata": {},
   "source": [
    "Compare the default regressor and the fine tuned one. The default regressor works better.\n",
    "\n",
    "Look at the feature importance."
   ]
  },
  {
   "cell_type": "code",
   "execution_count": 110,
   "id": "044c425f",
   "metadata": {},
   "outputs": [
    {
     "data": {
      "text/html": [
       "<div>\n",
       "<style scoped>\n",
       "    .dataframe tbody tr th:only-of-type {\n",
       "        vertical-align: middle;\n",
       "    }\n",
       "\n",
       "    .dataframe tbody tr th {\n",
       "        vertical-align: top;\n",
       "    }\n",
       "\n",
       "    .dataframe thead th {\n",
       "        text-align: right;\n",
       "    }\n",
       "</style>\n",
       "<table border=\"1\" class=\"dataframe\">\n",
       "  <thead>\n",
       "    <tr style=\"text-align: right;\">\n",
       "      <th></th>\n",
       "      <th>0</th>\n",
       "      <th>1</th>\n",
       "    </tr>\n",
       "  </thead>\n",
       "  <tbody>\n",
       "    <tr>\n",
       "      <th>17</th>\n",
       "      <td>Incorrect_form_ratio</td>\n",
       "      <td>0.365601</td>\n",
       "    </tr>\n",
       "    <tr>\n",
       "      <th>23</th>\n",
       "      <td>number_of_diff_words</td>\n",
       "      <td>0.183728</td>\n",
       "    </tr>\n",
       "    <tr>\n",
       "      <th>26</th>\n",
       "      <td>coherence_score</td>\n",
       "      <td>0.038382</td>\n",
       "    </tr>\n",
       "    <tr>\n",
       "      <th>24</th>\n",
       "      <td>freq_diff_words</td>\n",
       "      <td>0.034787</td>\n",
       "    </tr>\n",
       "    <tr>\n",
       "      <th>31</th>\n",
       "      <td>freq_of_pronoun</td>\n",
       "      <td>0.022882</td>\n",
       "    </tr>\n",
       "    <tr>\n",
       "      <th>25</th>\n",
       "      <td>ttr</td>\n",
       "      <td>0.019596</td>\n",
       "    </tr>\n",
       "    <tr>\n",
       "      <th>27</th>\n",
       "      <td>lexrank_avg_min_diff</td>\n",
       "      <td>0.018763</td>\n",
       "    </tr>\n",
       "    <tr>\n",
       "      <th>0</th>\n",
       "      <td>number_of_words</td>\n",
       "      <td>0.01869</td>\n",
       "    </tr>\n",
       "    <tr>\n",
       "      <th>11</th>\n",
       "      <td>freq_of_wrong_words</td>\n",
       "      <td>0.018025</td>\n",
       "    </tr>\n",
       "    <tr>\n",
       "      <th>20</th>\n",
       "      <td>dale_chall_readability_score</td>\n",
       "      <td>0.017734</td>\n",
       "    </tr>\n",
       "  </tbody>\n",
       "</table>\n",
       "</div>"
      ],
      "text/plain": [
       "                               0         1\n",
       "17          Incorrect_form_ratio  0.365601\n",
       "23          number_of_diff_words  0.183728\n",
       "26               coherence_score  0.038382\n",
       "24               freq_diff_words  0.034787\n",
       "31               freq_of_pronoun  0.022882\n",
       "25                           ttr  0.019596\n",
       "27          lexrank_avg_min_diff  0.018763\n",
       "0                number_of_words   0.01869\n",
       "11           freq_of_wrong_words  0.018025\n",
       "20  dale_chall_readability_score  0.017734"
      ]
     },
     "execution_count": 110,
     "metadata": {},
     "output_type": "execute_result"
    }
   ],
   "source": [
    "fi_gbr1_1 = pd.DataFrame([gbr1_1.feature_names_in_, gbr1_1.feature_importances_]).T\n",
    "fi_gbr1_1 = fi_gbr1_1.sort_values(by=1,ascending=False)\n",
    "fi_gbr1_1.head(10)"
   ]
  },
  {
   "cell_type": "code",
   "execution_count": 119,
   "id": "4e22c065",
   "metadata": {},
   "outputs": [],
   "source": [
    "X_train_gbr1_1_res = X_train[['Incorrect_form_ratio','number_of_diff_words']]\n",
    "y_train_gbr1_1_res = y_train\n",
    "X_test_gbr1_1_res = X_test[['Incorrect_form_ratio','number_of_diff_words']]\n",
    "y_test_gbr1_1_res = y_test"
   ]
  },
  {
   "cell_type": "code",
   "execution_count": 120,
   "id": "cf9c084e",
   "metadata": {},
   "outputs": [
    {
     "name": "stdout",
     "output_type": "stream",
     "text": [
      "0.40286298568507156\n",
      "0.7249488752556237\n"
     ]
    }
   ],
   "source": [
    "gbr1_1_res = GradientBoostingRegressor()\n",
    "gbr1_1_res.fit(X_train_gbr1_1_res, y_train_gbr1_1_res)\n",
    "y_pred_gbr1_1_res = gbr1_1_res.predict(X_test_gbr1_1_res)\n",
    "print(accuracy(result(y_pred_gbr1_1_res), y_test_gbr1_1_res))\n",
    "print(score(y_pred_gbr1_1_res, y_test_gbr1_1_res))"
   ]
  },
  {
   "cell_type": "markdown",
   "id": "adc9ef8f",
   "metadata": {},
   "source": [
    "### 1.4 Stacking"
   ]
  },
  {
   "cell_type": "code",
   "execution_count": 158,
   "id": "6da92d6e",
   "metadata": {},
   "outputs": [],
   "source": [
    "base_models1 = list()\n",
    "base_models1.append(('lr', lr1))\n",
    "base_models1.append(('knn', knn1))\n",
    "base_models1.append(('dt', dt1))\n",
    "\n",
    "meta_learner1 = LinearRegression()\n",
    "sr1 = StackingRegressor(estimators=base_models1, final_estimator=meta_learner1, cv=5)"
   ]
  },
  {
   "cell_type": "code",
   "execution_count": 159,
   "id": "9c2d7acd",
   "metadata": {},
   "outputs": [
    {
     "name": "stderr",
     "output_type": "stream",
     "text": [
      "C:\\Users\\12560\\anaconda3\\envs\\BT4222\\lib\\site-packages\\sklearn\\base.py:443: UserWarning: X has feature names, but DecisionTreeRegressor was fitted without feature names\n",
      "  warnings.warn(\n"
     ]
    },
    {
     "data": {
      "text/html": [
       "<div>\n",
       "<style scoped>\n",
       "    .dataframe tbody tr th:only-of-type {\n",
       "        vertical-align: middle;\n",
       "    }\n",
       "\n",
       "    .dataframe tbody tr th {\n",
       "        vertical-align: top;\n",
       "    }\n",
       "\n",
       "    .dataframe thead th {\n",
       "        text-align: right;\n",
       "    }\n",
       "</style>\n",
       "<table border=\"1\" class=\"dataframe\">\n",
       "  <thead>\n",
       "    <tr style=\"text-align: right;\">\n",
       "      <th></th>\n",
       "      <th>0</th>\n",
       "      <th>1</th>\n",
       "      <th>2</th>\n",
       "    </tr>\n",
       "  </thead>\n",
       "  <tbody>\n",
       "    <tr>\n",
       "      <th>0</th>\n",
       "      <td>3.370360</td>\n",
       "      <td>3.327586</td>\n",
       "      <td>3.219136</td>\n",
       "    </tr>\n",
       "    <tr>\n",
       "      <th>1</th>\n",
       "      <td>3.409681</td>\n",
       "      <td>3.396552</td>\n",
       "      <td>3.313167</td>\n",
       "    </tr>\n",
       "    <tr>\n",
       "      <th>2</th>\n",
       "      <td>2.880778</td>\n",
       "      <td>3.155172</td>\n",
       "      <td>2.827621</td>\n",
       "    </tr>\n",
       "    <tr>\n",
       "      <th>3</th>\n",
       "      <td>3.172333</td>\n",
       "      <td>3.206897</td>\n",
       "      <td>3.142578</td>\n",
       "    </tr>\n",
       "    <tr>\n",
       "      <th>4</th>\n",
       "      <td>3.400355</td>\n",
       "      <td>3.206897</td>\n",
       "      <td>3.635385</td>\n",
       "    </tr>\n",
       "    <tr>\n",
       "      <th>...</th>\n",
       "      <td>...</td>\n",
       "      <td>...</td>\n",
       "      <td>...</td>\n",
       "    </tr>\n",
       "    <tr>\n",
       "      <th>2928</th>\n",
       "      <td>2.930220</td>\n",
       "      <td>3.172414</td>\n",
       "      <td>3.182432</td>\n",
       "    </tr>\n",
       "    <tr>\n",
       "      <th>2929</th>\n",
       "      <td>3.125897</td>\n",
       "      <td>3.155172</td>\n",
       "      <td>3.313167</td>\n",
       "    </tr>\n",
       "    <tr>\n",
       "      <th>2930</th>\n",
       "      <td>3.167199</td>\n",
       "      <td>3.293103</td>\n",
       "      <td>3.313167</td>\n",
       "    </tr>\n",
       "    <tr>\n",
       "      <th>2931</th>\n",
       "      <td>3.544529</td>\n",
       "      <td>3.413793</td>\n",
       "      <td>3.635385</td>\n",
       "    </tr>\n",
       "    <tr>\n",
       "      <th>2932</th>\n",
       "      <td>2.845835</td>\n",
       "      <td>3.068966</td>\n",
       "      <td>2.827621</td>\n",
       "    </tr>\n",
       "  </tbody>\n",
       "</table>\n",
       "<p>2933 rows × 3 columns</p>\n",
       "</div>"
      ],
      "text/plain": [
       "             0         1         2\n",
       "0     3.370360  3.327586  3.219136\n",
       "1     3.409681  3.396552  3.313167\n",
       "2     2.880778  3.155172  2.827621\n",
       "3     3.172333  3.206897  3.142578\n",
       "4     3.400355  3.206897  3.635385\n",
       "...        ...       ...       ...\n",
       "2928  2.930220  3.172414  3.182432\n",
       "2929  3.125897  3.155172  3.313167\n",
       "2930  3.167199  3.293103  3.313167\n",
       "2931  3.544529  3.413793  3.635385\n",
       "2932  2.845835  3.068966  2.827621\n",
       "\n",
       "[2933 rows x 3 columns]"
      ]
     },
     "execution_count": 159,
     "metadata": {},
     "output_type": "execute_result"
    }
   ],
   "source": [
    "X_train_sr1 = pd.DataFrame([lr1.predict(X_train), knn1.predict(X_train), dt1.predict(X_train)]).T\n",
    "X_train_sr1"
   ]
  },
  {
   "cell_type": "code",
   "execution_count": 160,
   "id": "9acfb001",
   "metadata": {},
   "outputs": [
    {
     "name": "stdout",
     "output_type": "stream",
     "text": [
      "0.4284253578732106\n",
      "0.7280163599182005\n"
     ]
    },
    {
     "name": "stderr",
     "output_type": "stream",
     "text": [
      "C:\\Users\\12560\\anaconda3\\envs\\BT4222\\lib\\site-packages\\sklearn\\base.py:443: UserWarning: X has feature names, but DecisionTreeRegressor was fitted without feature names\n",
      "  warnings.warn(\n"
     ]
    }
   ],
   "source": [
    "sr1.fit(X_train_sr1, y_train)\n",
    "X_test_sr1 = pd.DataFrame([lr1.predict(X_test), knn1.predict(X_test), dt1.predict(X_test)]).T\n",
    "y_pred_sr1 = sr1.predict(X_test_sr1)\n",
    "print(accuracy(result(y_pred_sr1), y_test))\n",
    "print(score(y_pred_sr1, y_test))"
   ]
  },
  {
   "cell_type": "markdown",
   "id": "d5a1d048",
   "metadata": {},
   "source": [
    "## 2 Predict Cohesion with Prediction of Vocabulary"
   ]
  },
  {
   "cell_type": "markdown",
   "id": "f105ab01",
   "metadata": {},
   "source": [
    "### 2.1 Voting\n",
    "\n",
    "linear regression:\n",
    "exact accuracy = 0.33844580777096117\n",
    "approximate accuracy = \n",
    "\n",
    "decision tree:\n",
    "exact accuracy = 0.3282247765006386\n",
    "approximate accuracy = 0.5900383141762452"
   ]
  },
  {
   "cell_type": "code",
   "execution_count": 167,
   "id": "e6a96f0b",
   "metadata": {},
   "outputs": [
    {
     "name": "stderr",
     "output_type": "stream",
     "text": [
      "C:\\Users\\12560\\anaconda3\\envs\\BT4222\\lib\\site-packages\\sklearn\\base.py:443: UserWarning: X has feature names, but DecisionTreeRegressor was fitted without feature names\n",
      "  warnings.warn(\n"
     ]
    }
   ],
   "source": [
    "y2 = df['cohesion']\n",
    "X2 = df.iloc[:, 7:]\n",
    "X2 = X2.drop('corrected_text', axis = 1)\n",
    "\n",
    "X_features_vr2 = pd.DataFrame([lr1.predict(X2), knn1.predict(X2), dt1.predict(X2)]).T\n",
    "y_features_vr2 = sr1.predict(X_features_vr2)\n",
    "X2['vocabulary'] = y_features_vr2"
   ]
  },
  {
   "cell_type": "code",
   "execution_count": 168,
   "id": "c280600c",
   "metadata": {},
   "outputs": [],
   "source": [
    "X_train2, X_test2, y_train2, y_test2 = train_test_split(X2, y2, random_state=42)\n",
    "vr2 = VotingRegressor(\n",
    "    estimators=[('linear regressor', lr2), ('decision tree', dt2), ('KNN', knn2)]\n",
    ")"
   ]
  },
  {
   "cell_type": "code",
   "execution_count": 169,
   "id": "92a6b9d4",
   "metadata": {},
   "outputs": [
    {
     "name": "stdout",
     "output_type": "stream",
     "text": [
      "0.3343558282208589\n",
      "0.6298568507157464\n"
     ]
    }
   ],
   "source": [
    "vr2.fit(X_train2, y_train2)\n",
    "y_pred_vr2 = vr2.predict(X_test2)\n",
    "print(accuracy(result(y_pred_vr2), y_test2))\n",
    "print(score(y_pred_vr2, y_test2))"
   ]
  },
  {
   "cell_type": "markdown",
   "id": "53180e48",
   "metadata": {},
   "source": [
    "### 2.2 AdaBoost"
   ]
  },
  {
   "cell_type": "code",
   "execution_count": 174,
   "id": "09b4d842",
   "metadata": {},
   "outputs": [
    {
     "data": {
      "text/html": [
       "<style>#sk-container-id-15 {color: black;background-color: white;}#sk-container-id-15 pre{padding: 0;}#sk-container-id-15 div.sk-toggleable {background-color: white;}#sk-container-id-15 label.sk-toggleable__label {cursor: pointer;display: block;width: 100%;margin-bottom: 0;padding: 0.3em;box-sizing: border-box;text-align: center;}#sk-container-id-15 label.sk-toggleable__label-arrow:before {content: \"▸\";float: left;margin-right: 0.25em;color: #696969;}#sk-container-id-15 label.sk-toggleable__label-arrow:hover:before {color: black;}#sk-container-id-15 div.sk-estimator:hover label.sk-toggleable__label-arrow:before {color: black;}#sk-container-id-15 div.sk-toggleable__content {max-height: 0;max-width: 0;overflow: hidden;text-align: left;background-color: #f0f8ff;}#sk-container-id-15 div.sk-toggleable__content pre {margin: 0.2em;color: black;border-radius: 0.25em;background-color: #f0f8ff;}#sk-container-id-15 input.sk-toggleable__control:checked~div.sk-toggleable__content {max-height: 200px;max-width: 100%;overflow: auto;}#sk-container-id-15 input.sk-toggleable__control:checked~label.sk-toggleable__label-arrow:before {content: \"▾\";}#sk-container-id-15 div.sk-estimator input.sk-toggleable__control:checked~label.sk-toggleable__label {background-color: #d4ebff;}#sk-container-id-15 div.sk-label input.sk-toggleable__control:checked~label.sk-toggleable__label {background-color: #d4ebff;}#sk-container-id-15 input.sk-hidden--visually {border: 0;clip: rect(1px 1px 1px 1px);clip: rect(1px, 1px, 1px, 1px);height: 1px;margin: -1px;overflow: hidden;padding: 0;position: absolute;width: 1px;}#sk-container-id-15 div.sk-estimator {font-family: monospace;background-color: #f0f8ff;border: 1px dotted black;border-radius: 0.25em;box-sizing: border-box;margin-bottom: 0.5em;}#sk-container-id-15 div.sk-estimator:hover {background-color: #d4ebff;}#sk-container-id-15 div.sk-parallel-item::after {content: \"\";width: 100%;border-bottom: 1px solid gray;flex-grow: 1;}#sk-container-id-15 div.sk-label:hover label.sk-toggleable__label {background-color: #d4ebff;}#sk-container-id-15 div.sk-serial::before {content: \"\";position: absolute;border-left: 1px solid gray;box-sizing: border-box;top: 0;bottom: 0;left: 50%;z-index: 0;}#sk-container-id-15 div.sk-serial {display: flex;flex-direction: column;align-items: center;background-color: white;padding-right: 0.2em;padding-left: 0.2em;position: relative;}#sk-container-id-15 div.sk-item {position: relative;z-index: 1;}#sk-container-id-15 div.sk-parallel {display: flex;align-items: stretch;justify-content: center;background-color: white;position: relative;}#sk-container-id-15 div.sk-item::before, #sk-container-id-15 div.sk-parallel-item::before {content: \"\";position: absolute;border-left: 1px solid gray;box-sizing: border-box;top: 0;bottom: 0;left: 50%;z-index: -1;}#sk-container-id-15 div.sk-parallel-item {display: flex;flex-direction: column;z-index: 1;position: relative;background-color: white;}#sk-container-id-15 div.sk-parallel-item:first-child::after {align-self: flex-end;width: 50%;}#sk-container-id-15 div.sk-parallel-item:last-child::after {align-self: flex-start;width: 50%;}#sk-container-id-15 div.sk-parallel-item:only-child::after {width: 0;}#sk-container-id-15 div.sk-dashed-wrapped {border: 1px dashed gray;margin: 0 0.4em 0.5em 0.4em;box-sizing: border-box;padding-bottom: 0.4em;background-color: white;}#sk-container-id-15 div.sk-label label {font-family: monospace;font-weight: bold;display: inline-block;line-height: 1.2em;}#sk-container-id-15 div.sk-label-container {text-align: center;}#sk-container-id-15 div.sk-container {/* jupyter's `normalize.less` sets `[hidden] { display: none; }` but bootstrap.min.css set `[hidden] { display: none !important; }` so we also need the `!important` here to be able to override the default hidden behavior on the sphinx rendered scikit-learn.org. See: https://github.com/scikit-learn/scikit-learn/issues/21755 */display: inline-block !important;position: relative;}#sk-container-id-15 div.sk-text-repr-fallback {display: none;}</style><div id=\"sk-container-id-15\" class=\"sk-top-container\"><div class=\"sk-text-repr-fallback\"><pre>AdaBoostRegressor(base_estimator=DecisionTreeRegressor(criterion=&#x27;friedman_mse&#x27;,\n",
       "                                                       max_depth=3))</pre><b>In a Jupyter environment, please rerun this cell to show the HTML representation or trust the notebook. <br />On GitHub, the HTML representation is unable to render, please try loading this page with nbviewer.org.</b></div><div class=\"sk-container\" hidden><div class=\"sk-item sk-dashed-wrapped\"><div class=\"sk-label-container\"><div class=\"sk-label sk-toggleable\"><input class=\"sk-toggleable__control sk-hidden--visually\" id=\"sk-estimator-id-21\" type=\"checkbox\" ><label for=\"sk-estimator-id-21\" class=\"sk-toggleable__label sk-toggleable__label-arrow\">AdaBoostRegressor</label><div class=\"sk-toggleable__content\"><pre>AdaBoostRegressor(base_estimator=DecisionTreeRegressor(criterion=&#x27;friedman_mse&#x27;,\n",
       "                                                       max_depth=3))</pre></div></div></div><div class=\"sk-parallel\"><div class=\"sk-parallel-item\"><div class=\"sk-item\"><div class=\"sk-label-container\"><div class=\"sk-label sk-toggleable\"><input class=\"sk-toggleable__control sk-hidden--visually\" id=\"sk-estimator-id-22\" type=\"checkbox\" ><label for=\"sk-estimator-id-22\" class=\"sk-toggleable__label sk-toggleable__label-arrow\">base_estimator: DecisionTreeRegressor</label><div class=\"sk-toggleable__content\"><pre>DecisionTreeRegressor(criterion=&#x27;friedman_mse&#x27;, max_depth=3)</pre></div></div></div><div class=\"sk-serial\"><div class=\"sk-item\"><div class=\"sk-estimator sk-toggleable\"><input class=\"sk-toggleable__control sk-hidden--visually\" id=\"sk-estimator-id-23\" type=\"checkbox\" ><label for=\"sk-estimator-id-23\" class=\"sk-toggleable__label sk-toggleable__label-arrow\">DecisionTreeRegressor</label><div class=\"sk-toggleable__content\"><pre>DecisionTreeRegressor(criterion=&#x27;friedman_mse&#x27;, max_depth=3)</pre></div></div></div></div></div></div></div></div></div></div>"
      ],
      "text/plain": [
       "AdaBoostRegressor(base_estimator=DecisionTreeRegressor(criterion='friedman_mse',\n",
       "                                                       max_depth=3))"
      ]
     },
     "execution_count": 174,
     "metadata": {},
     "output_type": "execute_result"
    }
   ],
   "source": [
    "ar2 = AdaBoostRegressor(\n",
    "    base_estimator=DecisionTreeRegressor(criterion='friedman_mse', max_depth=3, min_samples_split=2)\n",
    ")\n",
    "ar2.fit(X_train2, y_train2)"
   ]
  },
  {
   "cell_type": "code",
   "execution_count": 177,
   "id": "9c4056c2",
   "metadata": {},
   "outputs": [
    {
     "name": "stdout",
     "output_type": "stream",
     "text": [
      "0.33844580777096117\n",
      "0.623721881390593\n"
     ]
    }
   ],
   "source": [
    "y_pred_ar2 = ar2.predict(X_test2)\n",
    "print(accuracy(result(y_pred_ar2), y_test2))\n",
    "print(score(y_pred_ar2, y_test2))"
   ]
  },
  {
   "cell_type": "code",
   "execution_count": 178,
   "id": "bdbee32b",
   "metadata": {},
   "outputs": [
    {
     "data": {
      "text/plain": [
       "[DecisionTreeRegressor(criterion='friedman_mse', max_depth=4,\n",
       "                       random_state=529175681),\n",
       " DecisionTreeRegressor(criterion='friedman_mse', max_depth=4,\n",
       "                       random_state=44697635),\n",
       " DecisionTreeRegressor(criterion='friedman_mse', max_depth=4,\n",
       "                       random_state=763985914),\n",
       " DecisionTreeRegressor(criterion='friedman_mse', max_depth=4,\n",
       "                       random_state=1926139716),\n",
       " DecisionTreeRegressor(criterion='friedman_mse', max_depth=4,\n",
       "                       random_state=1461068265),\n",
       " DecisionTreeRegressor(criterion='friedman_mse', max_depth=4,\n",
       "                       random_state=1698457272),\n",
       " DecisionTreeRegressor(criterion='friedman_mse', max_depth=4,\n",
       "                       random_state=676729355),\n",
       " DecisionTreeRegressor(criterion='friedman_mse', max_depth=4,\n",
       "                       random_state=1098255066),\n",
       " DecisionTreeRegressor(criterion='friedman_mse', max_depth=4,\n",
       "                       random_state=1447539163),\n",
       " DecisionTreeRegressor(criterion='friedman_mse', max_depth=4,\n",
       "                       random_state=348509871),\n",
       " DecisionTreeRegressor(criterion='friedman_mse', max_depth=4,\n",
       "                       random_state=639233318),\n",
       " DecisionTreeRegressor(criterion='friedman_mse', max_depth=4,\n",
       "                       random_state=1593889546),\n",
       " DecisionTreeRegressor(criterion='friedman_mse', max_depth=4,\n",
       "                       random_state=1417324661),\n",
       " DecisionTreeRegressor(criterion='friedman_mse', max_depth=4,\n",
       "                       random_state=257358114),\n",
       " DecisionTreeRegressor(criterion='friedman_mse', max_depth=4,\n",
       "                       random_state=1526811840),\n",
       " DecisionTreeRegressor(criterion='friedman_mse', max_depth=4,\n",
       "                       random_state=1061871780),\n",
       " DecisionTreeRegressor(criterion='friedman_mse', max_depth=4,\n",
       "                       random_state=1595201866),\n",
       " DecisionTreeRegressor(criterion='friedman_mse', max_depth=4,\n",
       "                       random_state=1033271080),\n",
       " DecisionTreeRegressor(criterion='friedman_mse', max_depth=4,\n",
       "                       random_state=1216841990),\n",
       " DecisionTreeRegressor(criterion='friedman_mse', max_depth=4,\n",
       "                       random_state=547687978),\n",
       " DecisionTreeRegressor(criterion='friedman_mse', max_depth=4,\n",
       "                       random_state=388830035),\n",
       " DecisionTreeRegressor(criterion='friedman_mse', max_depth=4,\n",
       "                       random_state=158049710),\n",
       " DecisionTreeRegressor(criterion='friedman_mse', max_depth=4,\n",
       "                       random_state=1495242036),\n",
       " DecisionTreeRegressor(criterion='friedman_mse', max_depth=4,\n",
       "                       random_state=1693584192),\n",
       " DecisionTreeRegressor(criterion='friedman_mse', max_depth=4,\n",
       "                       random_state=1159643658),\n",
       " DecisionTreeRegressor(criterion='friedman_mse', max_depth=4,\n",
       "                       random_state=1466688011),\n",
       " DecisionTreeRegressor(criterion='friedman_mse', max_depth=4,\n",
       "                       random_state=622048926),\n",
       " DecisionTreeRegressor(criterion='friedman_mse', max_depth=4,\n",
       "                       random_state=1173042704),\n",
       " DecisionTreeRegressor(criterion='friedman_mse', max_depth=4,\n",
       "                       random_state=1636304878),\n",
       " DecisionTreeRegressor(criterion='friedman_mse', max_depth=4,\n",
       "                       random_state=606122291),\n",
       " DecisionTreeRegressor(criterion='friedman_mse', max_depth=4,\n",
       "                       random_state=1187218330),\n",
       " DecisionTreeRegressor(criterion='friedman_mse', max_depth=4,\n",
       "                       random_state=665289621),\n",
       " DecisionTreeRegressor(criterion='friedman_mse', max_depth=4,\n",
       "                       random_state=854878081),\n",
       " DecisionTreeRegressor(criterion='friedman_mse', max_depth=4,\n",
       "                       random_state=1976902753),\n",
       " DecisionTreeRegressor(criterion='friedman_mse', max_depth=4,\n",
       "                       random_state=1376037650),\n",
       " DecisionTreeRegressor(criterion='friedman_mse', max_depth=4,\n",
       "                       random_state=40072449),\n",
       " DecisionTreeRegressor(criterion='friedman_mse', max_depth=4,\n",
       "                       random_state=1902904807),\n",
       " DecisionTreeRegressor(criterion='friedman_mse', max_depth=4,\n",
       "                       random_state=510059165),\n",
       " DecisionTreeRegressor(criterion='friedman_mse', max_depth=4,\n",
       "                       random_state=1021223588),\n",
       " DecisionTreeRegressor(criterion='friedman_mse', max_depth=4,\n",
       "                       random_state=2023218403),\n",
       " DecisionTreeRegressor(criterion='friedman_mse', max_depth=4,\n",
       "                       random_state=111364084),\n",
       " DecisionTreeRegressor(criterion='friedman_mse', max_depth=4,\n",
       "                       random_state=988773222),\n",
       " DecisionTreeRegressor(criterion='friedman_mse', max_depth=4,\n",
       "                       random_state=1937093381),\n",
       " DecisionTreeRegressor(criterion='friedman_mse', max_depth=4,\n",
       "                       random_state=184957127),\n",
       " DecisionTreeRegressor(criterion='friedman_mse', max_depth=4,\n",
       "                       random_state=1712539482),\n",
       " DecisionTreeRegressor(criterion='friedman_mse', max_depth=4,\n",
       "                       random_state=211385289),\n",
       " DecisionTreeRegressor(criterion='friedman_mse', max_depth=4,\n",
       "                       random_state=1579476246),\n",
       " DecisionTreeRegressor(criterion='friedman_mse', max_depth=4,\n",
       "                       random_state=1545719425),\n",
       " DecisionTreeRegressor(criterion='friedman_mse', max_depth=4,\n",
       "                       random_state=960454115),\n",
       " DecisionTreeRegressor(criterion='friedman_mse', max_depth=4,\n",
       "                       random_state=1682422683)]"
      ]
     },
     "execution_count": 178,
     "metadata": {},
     "output_type": "execute_result"
    }
   ],
   "source": [
    "ar1.estimators_"
   ]
  },
  {
   "cell_type": "code",
   "execution_count": 179,
   "id": "1201c894",
   "metadata": {},
   "outputs": [
    {
     "data": {
      "text/plain": [
       "array([1.7823737 , 1.19053327, 0.99432258, 1.24729975, 0.64027864,\n",
       "       1.36005862, 0.55533881, 1.01139172, 0.68841491, 0.73887161,\n",
       "       1.01831409, 0.83423352, 1.05956824, 0.66331197, 0.66210282,\n",
       "       0.74381795, 0.6048641 , 0.5427817 , 0.81701955, 0.62435331,\n",
       "       0.91666127, 0.88684738, 0.91820161, 0.65662289, 0.63365547,\n",
       "       0.72864977, 0.55690124, 0.84762456, 0.60164676, 1.20740062,\n",
       "       0.62109291, 0.93066639, 0.9222574 , 0.79707249, 0.73026024,\n",
       "       0.56734544, 0.98520078, 1.08263001, 0.71610782, 0.581803  ,\n",
       "       0.91428308, 0.99513543, 0.58781487, 0.98442389, 0.86228317,\n",
       "       0.78513723, 0.49925585, 0.57556409, 0.79380271, 0.68852784])"
      ]
     },
     "execution_count": 179,
     "metadata": {},
     "output_type": "execute_result"
    }
   ],
   "source": [
    "ar1.estimator_weights_"
   ]
  },
  {
   "cell_type": "markdown",
   "id": "caeb66a4",
   "metadata": {},
   "source": [
    "### 2.3 Gradient Boosting"
   ]
  },
  {
   "cell_type": "code",
   "execution_count": null,
   "id": "a5f82ad9",
   "metadata": {},
   "outputs": [],
   "source": [
    "gbr2 = GradientBoostingRegressor(n_estimators=100)\n",
    "parameters2 = {\n",
    "    'loss':['squared_error', 'absolute_error', 'huber', 'quantile'],\n",
    "    'learning_rate':[0.1,0.2,0.3,0.4,0.5,0.6,0.7,0.8,0.9],\n",
    "    'criterion':['friedman_mse', 'squared_error', 'mse']\n",
    "}\n",
    "gs_gbr2 = GridSearchCV(gbr1, parameter2)\n",
    "print(gs_gbr2.best_params_)\n",
    "print(gs_gbr2.best_score_)"
   ]
  },
  {
   "cell_type": "code",
   "execution_count": null,
   "id": "690b975f",
   "metadata": {},
   "outputs": [],
   "source": [
    "gbr2_adj = GradientBoostingRegressor(\n",
    "    criterion = 'friedman_mse',\n",
    "    learning_rate = 0.1,\n",
    "    loss = 'huber',\n",
    "    n_estimators=300\n",
    ")\n",
    "gbr2_adj.fit(X_train2, y_train2)\n",
    "y_pred_gbr2_adj = gbr2_adj.predict(X_test2)\n",
    "\n",
    "print(accuracy(result(y_pred_gbr2_adj), y_test2))\n",
    "print(score(y_pred_gbr2_adj, y_test2))"
   ]
  },
  {
   "cell_type": "code",
   "execution_count": null,
   "id": "aba9e828",
   "metadata": {},
   "outputs": [],
   "source": [
    "gbr2_1 = GradientBoostingRegressor(n_estimators=100)\n",
    "gbr2_1.fit(X_train2, y_train2)\n",
    "y_pred_gbr2_1 = gbr2_1.predict(X_test2)\n",
    "print(accuracy(result(y_pred_gbr2_1), y_test2))\n",
    "print(score(y_pred_gbr2_1, y_test2))"
   ]
  },
  {
   "cell_type": "code",
   "execution_count": null,
   "id": "21a348c1",
   "metadata": {},
   "outputs": [],
   "source": [
    "fi_gbr2_1 = pd.DataFrame([gbr2_1.feature_names_in_, gbr2_1.feature_importances_]).T\n",
    "fi_gbr2_1 = fi_gbr2_1.sort_values(by=1,ascending=False)\n",
    "fi_gbr2_1.head(10)"
   ]
  },
  {
   "cell_type": "code",
   "execution_count": null,
   "id": "0b1e0122",
   "metadata": {},
   "outputs": [],
   "source": [
    "X_train_gbr2_1_res = X_train2[['Incorrect_form_ratio','number_of_diff_words']]\n",
    "y_train_gbr2_1_res = y_train2\n",
    "X_test_gbr2_1_res = X_test2[['Incorrect_form_ratio','number_of_diff_words']]\n",
    "y_test_gbr2_1_res = y_test2"
   ]
  },
  {
   "cell_type": "code",
   "execution_count": null,
   "id": "0cf665cc",
   "metadata": {},
   "outputs": [],
   "source": [
    "gbr2_1_res = GradientBoostingRegressor()\n",
    "gbr2_1_res.fit(X_train_gbr2_1_res, y_train_gbr2_1_res)\n",
    "y_pred_gbr2_1_res = gbr2_1_res.predict(X_test_gbr2_1_res)\n",
    "print(accuracy(result(y_pred_gbr2_1_res), y_test_gbr2_1_res))\n",
    "print(score(y_pred_gbr2_1_res, y_test_gbr2_1_res))"
   ]
  },
  {
   "cell_type": "markdown",
   "id": "72faeb2e",
   "metadata": {},
   "source": [
    "### 2.4 Stacking"
   ]
  },
  {
   "cell_type": "code",
   "execution_count": 180,
   "id": "281ca3c1",
   "metadata": {},
   "outputs": [],
   "source": [
    "base_models2 = list()\n",
    "base_models2.append(('lr', lr2))\n",
    "base_models2.append(('knn', knn2))\n",
    "base_models2.append(('dt', dt2))\n",
    "\n",
    "meta_learner2 = LinearRegression()\n",
    "sr2 = StackingRegressor(estimators=base_models2, final_estimator=meta_learner2, cv=5)"
   ]
  },
  {
   "cell_type": "code",
   "execution_count": 181,
   "id": "202ed047",
   "metadata": {},
   "outputs": [
    {
     "ename": "ValueError",
     "evalue": "X has 36 features, but KNeighborsRegressor is expecting 35 features as input.",
     "output_type": "error",
     "traceback": [
      "\u001b[1;31m---------------------------------------------------------------------------\u001b[0m",
      "\u001b[1;31mValueError\u001b[0m                                Traceback (most recent call last)",
      "Input \u001b[1;32mIn [181]\u001b[0m, in \u001b[0;36m<cell line: 1>\u001b[1;34m()\u001b[0m\n\u001b[1;32m----> 1\u001b[0m X_train_sr2 \u001b[38;5;241m=\u001b[39m pd\u001b[38;5;241m.\u001b[39mDataFrame([lr2\u001b[38;5;241m.\u001b[39mpredict(X_train2), \u001b[43mknn2\u001b[49m\u001b[38;5;241;43m.\u001b[39;49m\u001b[43mpredict\u001b[49m\u001b[43m(\u001b[49m\u001b[43mX_train2\u001b[49m\u001b[43m)\u001b[49m, dt2\u001b[38;5;241m.\u001b[39mpredict(X_train2)])\u001b[38;5;241m.\u001b[39mT\n\u001b[0;32m      2\u001b[0m X_train_sr2\n",
      "File \u001b[1;32m~\\anaconda3\\envs\\BT4222\\lib\\site-packages\\sklearn\\neighbors\\_regression.py:229\u001b[0m, in \u001b[0;36mKNeighborsRegressor.predict\u001b[1;34m(self, X)\u001b[0m\n\u001b[0;32m    213\u001b[0m \u001b[38;5;124;03m\"\"\"Predict the target for the provided data.\u001b[39;00m\n\u001b[0;32m    214\u001b[0m \n\u001b[0;32m    215\u001b[0m \u001b[38;5;124;03mParameters\u001b[39;00m\n\u001b[1;32m   (...)\u001b[0m\n\u001b[0;32m    224\u001b[0m \u001b[38;5;124;03m    Target values.\u001b[39;00m\n\u001b[0;32m    225\u001b[0m \u001b[38;5;124;03m\"\"\"\u001b[39;00m\n\u001b[0;32m    226\u001b[0m \u001b[38;5;28;01mif\u001b[39;00m \u001b[38;5;28mself\u001b[39m\u001b[38;5;241m.\u001b[39mweights \u001b[38;5;241m==\u001b[39m \u001b[38;5;124m\"\u001b[39m\u001b[38;5;124muniform\u001b[39m\u001b[38;5;124m\"\u001b[39m:\n\u001b[0;32m    227\u001b[0m     \u001b[38;5;66;03m# In that case, we do not need the distances to perform\u001b[39;00m\n\u001b[0;32m    228\u001b[0m     \u001b[38;5;66;03m# the weighting so we do not compute them.\u001b[39;00m\n\u001b[1;32m--> 229\u001b[0m     neigh_ind \u001b[38;5;241m=\u001b[39m \u001b[38;5;28;43mself\u001b[39;49m\u001b[38;5;241;43m.\u001b[39;49m\u001b[43mkneighbors\u001b[49m\u001b[43m(\u001b[49m\u001b[43mX\u001b[49m\u001b[43m,\u001b[49m\u001b[43m \u001b[49m\u001b[43mreturn_distance\u001b[49m\u001b[38;5;241;43m=\u001b[39;49m\u001b[38;5;28;43;01mFalse\u001b[39;49;00m\u001b[43m)\u001b[49m\n\u001b[0;32m    230\u001b[0m     neigh_dist \u001b[38;5;241m=\u001b[39m \u001b[38;5;28;01mNone\u001b[39;00m\n\u001b[0;32m    231\u001b[0m \u001b[38;5;28;01melse\u001b[39;00m:\n",
      "File \u001b[1;32m~\\anaconda3\\envs\\BT4222\\lib\\site-packages\\sklearn\\neighbors\\_base.py:745\u001b[0m, in \u001b[0;36mKNeighborsMixin.kneighbors\u001b[1;34m(self, X, n_neighbors, return_distance)\u001b[0m\n\u001b[0;32m    743\u001b[0m         X \u001b[38;5;241m=\u001b[39m _check_precomputed(X)\n\u001b[0;32m    744\u001b[0m     \u001b[38;5;28;01melse\u001b[39;00m:\n\u001b[1;32m--> 745\u001b[0m         X \u001b[38;5;241m=\u001b[39m \u001b[38;5;28;43mself\u001b[39;49m\u001b[38;5;241;43m.\u001b[39;49m\u001b[43m_validate_data\u001b[49m\u001b[43m(\u001b[49m\u001b[43mX\u001b[49m\u001b[43m,\u001b[49m\u001b[43m \u001b[49m\u001b[43maccept_sparse\u001b[49m\u001b[38;5;241;43m=\u001b[39;49m\u001b[38;5;124;43m\"\u001b[39;49m\u001b[38;5;124;43mcsr\u001b[39;49m\u001b[38;5;124;43m\"\u001b[39;49m\u001b[43m,\u001b[49m\u001b[43m \u001b[49m\u001b[43mreset\u001b[49m\u001b[38;5;241;43m=\u001b[39;49m\u001b[38;5;28;43;01mFalse\u001b[39;49;00m\u001b[43m,\u001b[49m\u001b[43m \u001b[49m\u001b[43morder\u001b[49m\u001b[38;5;241;43m=\u001b[39;49m\u001b[38;5;124;43m\"\u001b[39;49m\u001b[38;5;124;43mC\u001b[39;49m\u001b[38;5;124;43m\"\u001b[39;49m\u001b[43m)\u001b[49m\n\u001b[0;32m    747\u001b[0m n_samples_fit \u001b[38;5;241m=\u001b[39m \u001b[38;5;28mself\u001b[39m\u001b[38;5;241m.\u001b[39mn_samples_fit_\n\u001b[0;32m    748\u001b[0m \u001b[38;5;28;01mif\u001b[39;00m n_neighbors \u001b[38;5;241m>\u001b[39m n_samples_fit:\n",
      "File \u001b[1;32m~\\anaconda3\\envs\\BT4222\\lib\\site-packages\\sklearn\\base.py:600\u001b[0m, in \u001b[0;36mBaseEstimator._validate_data\u001b[1;34m(self, X, y, reset, validate_separately, **check_params)\u001b[0m\n\u001b[0;32m    597\u001b[0m     out \u001b[38;5;241m=\u001b[39m X, y\n\u001b[0;32m    599\u001b[0m \u001b[38;5;28;01mif\u001b[39;00m \u001b[38;5;129;01mnot\u001b[39;00m no_val_X \u001b[38;5;129;01mand\u001b[39;00m check_params\u001b[38;5;241m.\u001b[39mget(\u001b[38;5;124m\"\u001b[39m\u001b[38;5;124mensure_2d\u001b[39m\u001b[38;5;124m\"\u001b[39m, \u001b[38;5;28;01mTrue\u001b[39;00m):\n\u001b[1;32m--> 600\u001b[0m     \u001b[38;5;28;43mself\u001b[39;49m\u001b[38;5;241;43m.\u001b[39;49m\u001b[43m_check_n_features\u001b[49m\u001b[43m(\u001b[49m\u001b[43mX\u001b[49m\u001b[43m,\u001b[49m\u001b[43m \u001b[49m\u001b[43mreset\u001b[49m\u001b[38;5;241;43m=\u001b[39;49m\u001b[43mreset\u001b[49m\u001b[43m)\u001b[49m\n\u001b[0;32m    602\u001b[0m \u001b[38;5;28;01mreturn\u001b[39;00m out\n",
      "File \u001b[1;32m~\\anaconda3\\envs\\BT4222\\lib\\site-packages\\sklearn\\base.py:400\u001b[0m, in \u001b[0;36mBaseEstimator._check_n_features\u001b[1;34m(self, X, reset)\u001b[0m\n\u001b[0;32m    397\u001b[0m     \u001b[38;5;28;01mreturn\u001b[39;00m\n\u001b[0;32m    399\u001b[0m \u001b[38;5;28;01mif\u001b[39;00m n_features \u001b[38;5;241m!=\u001b[39m \u001b[38;5;28mself\u001b[39m\u001b[38;5;241m.\u001b[39mn_features_in_:\n\u001b[1;32m--> 400\u001b[0m     \u001b[38;5;28;01mraise\u001b[39;00m \u001b[38;5;167;01mValueError\u001b[39;00m(\n\u001b[0;32m    401\u001b[0m         \u001b[38;5;124mf\u001b[39m\u001b[38;5;124m\"\u001b[39m\u001b[38;5;124mX has \u001b[39m\u001b[38;5;132;01m{\u001b[39;00mn_features\u001b[38;5;132;01m}\u001b[39;00m\u001b[38;5;124m features, but \u001b[39m\u001b[38;5;132;01m{\u001b[39;00m\u001b[38;5;28mself\u001b[39m\u001b[38;5;241m.\u001b[39m\u001b[38;5;18m__class__\u001b[39m\u001b[38;5;241m.\u001b[39m\u001b[38;5;18m__name__\u001b[39m\u001b[38;5;132;01m}\u001b[39;00m\u001b[38;5;124m \u001b[39m\u001b[38;5;124m\"\u001b[39m\n\u001b[0;32m    402\u001b[0m         \u001b[38;5;124mf\u001b[39m\u001b[38;5;124m\"\u001b[39m\u001b[38;5;124mis expecting \u001b[39m\u001b[38;5;132;01m{\u001b[39;00m\u001b[38;5;28mself\u001b[39m\u001b[38;5;241m.\u001b[39mn_features_in_\u001b[38;5;132;01m}\u001b[39;00m\u001b[38;5;124m features as input.\u001b[39m\u001b[38;5;124m\"\u001b[39m\n\u001b[0;32m    403\u001b[0m     )\n",
      "\u001b[1;31mValueError\u001b[0m: X has 36 features, but KNeighborsRegressor is expecting 35 features as input."
     ]
    }
   ],
   "source": [
    "X_train_sr2 = pd.DataFrame([lr2.predict(X_train2), knn2.predict(X_train2), dt2.predict(X_train2)]).T\n",
    "X_train_sr2"
   ]
  },
  {
   "cell_type": "code",
   "execution_count": null,
   "id": "4e8e7853",
   "metadata": {},
   "outputs": [],
   "source": [
    "sr2.fit(X_train_sr2, y_train2)\n",
    "X_test_sr2 = pd.DataFrame([lr2.predict(X_test2), knn2.predict(X_test2), dt2.predict(X_test2)]).T\n",
    "y_pred_sr2 = sr2.predict(X_test_sr2)\n",
    "print(accuracy(result(y_pred_sr2), y_test2))\n",
    "print(score(y_pred_sr2, y_test2))"
   ]
  }
 ],
 "metadata": {
  "kernelspec": {
   "display_name": "Python 3 (ipykernel)",
   "language": "python",
   "name": "python3"
  },
  "language_info": {
   "codemirror_mode": {
    "name": "ipython",
    "version": 3
   },
   "file_extension": ".py",
   "mimetype": "text/x-python",
   "name": "python",
   "nbconvert_exporter": "python",
   "pygments_lexer": "ipython3",
   "version": "3.9.13"
  },
  "vscode": {
   "interpreter": {
    "hash": "070eb8febb0d65b63a678342faa3921edb1fc763d0e6db793e5b6232b3f5c5a1"
   }
  }
 },
 "nbformat": 4,
 "nbformat_minor": 5
}
