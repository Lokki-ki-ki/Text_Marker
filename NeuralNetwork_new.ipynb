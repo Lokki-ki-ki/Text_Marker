{
  "cells": [
    {
      "cell_type": "markdown",
      "source": [
        "Set the context, environment and features"
      ],
      "metadata": {
        "id": "r4ie-x3z7izv"
      },
      "id": "r4ie-x3z7izv"
    },
    {
      "cell_type": "code",
      "execution_count": null,
      "id": "99f121f5",
      "metadata": {
        "id": "99f121f5"
      },
      "outputs": [],
      "source": [
        "import warnings\n",
        "warnings.simplefilter(action='ignore', category=FutureWarning)\n",
        "\n",
        "import numpy as np\n",
        "import pandas as pd \n",
        "import tensorflow as tf\n",
        "from tensorflow.keras import layers\n",
        "from matplotlib import pyplot as plt\n",
        "import seaborn as sns"
      ]
    },
    {
      "cell_type": "code",
      "source": [
        "from google.colab import drive\n",
        "drive.mount('/content/drive')"
      ],
      "metadata": {
        "id": "CMSAbjv-JkhZ"
      },
      "id": "CMSAbjv-JkhZ",
      "execution_count": null,
      "outputs": []
    },
    {
      "cell_type": "code",
      "execution_count": null,
      "id": "21b61580",
      "metadata": {
        "id": "21b61580"
      },
      "outputs": [],
      "source": [
        "df = pd.read_csv('Processed_Data.csv')"
      ]
    },
    {
      "cell_type": "code",
      "execution_count": null,
      "id": "32da489b",
      "metadata": {
        "colab": {
          "base_uri": "https://localhost:8080/",
          "height": 1000
        },
        "id": "32da489b",
        "outputId": "44a920be-719e-4714-98fc-5e28b4b17141"
      },
      "outputs": [
        {
          "output_type": "execute_result",
          "data": {
            "text/plain": [
              "                                              full_text  cohesion  syntax  \\\n",
              "0     I think that students would benefit from learn...       3.5     3.5   \n",
              "1     When a problem is a change you have to let it ...       2.5     2.5   \n",
              "2     Dear, Principal\\n\\nIf u change the school poli...       3.0     3.5   \n",
              "3     The best time in life is when you become yours...       4.5     4.5   \n",
              "4     Small act of kindness can impact in other peop...       2.5     3.0   \n",
              "...                                                 ...       ...     ...   \n",
              "3906  I believe using cellphones in class for educat...       2.5     3.0   \n",
              "3907  Working alone, students do not have to argue w...       4.0     4.0   \n",
              "3908  \"A problem is a chance for you to do your best...       2.5     3.0   \n",
              "3909  Many people disagree with Albert Schweitzer's ...       4.0     4.5   \n",
              "3910  Do you think that failure is the main thing fo...       3.5     2.5   \n",
              "\n",
              "      vocabulary  phraseology  grammar  conventions  number_of_words  \\\n",
              "0            3.0          3.0      4.0          3.0              261   \n",
              "1            3.0          2.0      2.0          2.5              533   \n",
              "2            3.0          3.0      3.0          2.5              320   \n",
              "3            4.5          4.5      4.0          5.0              728   \n",
              "4            3.0          3.0      2.5          2.5              234   \n",
              "...          ...          ...      ...          ...              ...   \n",
              "3906         3.0          3.5      2.5          2.5              179   \n",
              "3907         4.0          4.0      3.5          3.0              465   \n",
              "3908         3.0          3.0      3.5          3.0              257   \n",
              "3909         4.5          4.0      4.5          4.5              510   \n",
              "3910         3.5          3.0      3.0          3.5              638   \n",
              "\n",
              "      stopwords_frequency  av_word_per_sen  ...       ttr  coherence_score  \\\n",
              "0                0.498084        14.500000  ...  0.099639         0.422997   \n",
              "1                0.581614        38.071429  ...  0.055175         0.506789   \n",
              "2                0.515625        16.842105  ...  0.073317         0.472376   \n",
              "3                0.559066        20.222222  ...  0.055877         0.412691   \n",
              "4                0.521368        78.000000  ...  0.085833         0.551796   \n",
              "...                   ...              ...  ...       ...              ...   \n",
              "3906             0.430168        29.833333  ...  0.110204         0.593374   \n",
              "3907             0.526882        29.062500  ...  0.067620         0.325690   \n",
              "3908             0.525292        32.125000  ...  0.089931         0.383324   \n",
              "3909             0.527451        24.285714  ...  0.064596         0.444652   \n",
              "3910             0.547022        63.800000  ...  0.054380         0.437314   \n",
              "\n",
              "      lexrank_avg_min_diff  lexrank_interquartile  freq_of_noun  \\\n",
              "0                 0.245068               0.275570      0.203065   \n",
              "1                 0.398650               0.397796      0.200750   \n",
              "2                 0.699098               0.433225      0.221875   \n",
              "3                 0.629558               0.498259      0.188187   \n",
              "4                 0.110281               0.096727      0.230769   \n",
              "...                    ...                    ...           ...   \n",
              "3906              0.062313               0.044963      0.329609   \n",
              "3907              0.327018               0.124590      0.273118   \n",
              "3908              0.388689               0.460645      0.214008   \n",
              "3909              0.510104               0.471795      0.223529   \n",
              "3910              0.417147               0.201592      0.214734   \n",
              "\n",
              "      freq_of_transition  freq_of_pronoun  noun_to_adj  verb_to_adv  \\\n",
              "0               0.065134         0.111111     0.377358     0.317073   \n",
              "1               0.061914         0.103189     0.373832     0.296875   \n",
              "2               0.043750         0.090625     0.380282     0.277778   \n",
              "3               0.043956         0.119505     0.569343     0.184466   \n",
              "4               0.034188         0.119658     0.481481     0.150000   \n",
              "...                  ...              ...          ...          ...   \n",
              "3906            0.072626         0.100559     0.186441     0.315789   \n",
              "3907            0.032258         0.030108     0.370079     0.301887   \n",
              "3908            0.031128         0.120623     0.454545     0.777778   \n",
              "3909            0.027451         0.113725     0.526316     0.638889   \n",
              "3910            0.050157         0.105016     0.299270     0.149425   \n",
              "\n",
              "      phrase_diversity  \n",
              "0             0.119650  \n",
              "1             0.110981  \n",
              "2             0.105634  \n",
              "3             0.105024  \n",
              "4             0.072222  \n",
              "...                ...  \n",
              "3906          0.058876  \n",
              "3907          0.111722  \n",
              "3908          0.353535  \n",
              "3909          0.336257  \n",
              "3910          0.044719  \n",
              "\n",
              "[3911 rows x 43 columns]"
            ],
            "text/html": [
              "\n",
              "  <div id=\"df-d5ed0b09-da00-4899-b001-07b0fb9a4a65\">\n",
              "    <div class=\"colab-df-container\">\n",
              "      <div>\n",
              "<style scoped>\n",
              "    .dataframe tbody tr th:only-of-type {\n",
              "        vertical-align: middle;\n",
              "    }\n",
              "\n",
              "    .dataframe tbody tr th {\n",
              "        vertical-align: top;\n",
              "    }\n",
              "\n",
              "    .dataframe thead th {\n",
              "        text-align: right;\n",
              "    }\n",
              "</style>\n",
              "<table border=\"1\" class=\"dataframe\">\n",
              "  <thead>\n",
              "    <tr style=\"text-align: right;\">\n",
              "      <th></th>\n",
              "      <th>full_text</th>\n",
              "      <th>cohesion</th>\n",
              "      <th>syntax</th>\n",
              "      <th>vocabulary</th>\n",
              "      <th>phraseology</th>\n",
              "      <th>grammar</th>\n",
              "      <th>conventions</th>\n",
              "      <th>number_of_words</th>\n",
              "      <th>stopwords_frequency</th>\n",
              "      <th>av_word_per_sen</th>\n",
              "      <th>...</th>\n",
              "      <th>ttr</th>\n",
              "      <th>coherence_score</th>\n",
              "      <th>lexrank_avg_min_diff</th>\n",
              "      <th>lexrank_interquartile</th>\n",
              "      <th>freq_of_noun</th>\n",
              "      <th>freq_of_transition</th>\n",
              "      <th>freq_of_pronoun</th>\n",
              "      <th>noun_to_adj</th>\n",
              "      <th>verb_to_adv</th>\n",
              "      <th>phrase_diversity</th>\n",
              "    </tr>\n",
              "  </thead>\n",
              "  <tbody>\n",
              "    <tr>\n",
              "      <th>0</th>\n",
              "      <td>I think that students would benefit from learn...</td>\n",
              "      <td>3.5</td>\n",
              "      <td>3.5</td>\n",
              "      <td>3.0</td>\n",
              "      <td>3.0</td>\n",
              "      <td>4.0</td>\n",
              "      <td>3.0</td>\n",
              "      <td>261</td>\n",
              "      <td>0.498084</td>\n",
              "      <td>14.500000</td>\n",
              "      <td>...</td>\n",
              "      <td>0.099639</td>\n",
              "      <td>0.422997</td>\n",
              "      <td>0.245068</td>\n",
              "      <td>0.275570</td>\n",
              "      <td>0.203065</td>\n",
              "      <td>0.065134</td>\n",
              "      <td>0.111111</td>\n",
              "      <td>0.377358</td>\n",
              "      <td>0.317073</td>\n",
              "      <td>0.119650</td>\n",
              "    </tr>\n",
              "    <tr>\n",
              "      <th>1</th>\n",
              "      <td>When a problem is a change you have to let it ...</td>\n",
              "      <td>2.5</td>\n",
              "      <td>2.5</td>\n",
              "      <td>3.0</td>\n",
              "      <td>2.0</td>\n",
              "      <td>2.0</td>\n",
              "      <td>2.5</td>\n",
              "      <td>533</td>\n",
              "      <td>0.581614</td>\n",
              "      <td>38.071429</td>\n",
              "      <td>...</td>\n",
              "      <td>0.055175</td>\n",
              "      <td>0.506789</td>\n",
              "      <td>0.398650</td>\n",
              "      <td>0.397796</td>\n",
              "      <td>0.200750</td>\n",
              "      <td>0.061914</td>\n",
              "      <td>0.103189</td>\n",
              "      <td>0.373832</td>\n",
              "      <td>0.296875</td>\n",
              "      <td>0.110981</td>\n",
              "    </tr>\n",
              "    <tr>\n",
              "      <th>2</th>\n",
              "      <td>Dear, Principal\\n\\nIf u change the school poli...</td>\n",
              "      <td>3.0</td>\n",
              "      <td>3.5</td>\n",
              "      <td>3.0</td>\n",
              "      <td>3.0</td>\n",
              "      <td>3.0</td>\n",
              "      <td>2.5</td>\n",
              "      <td>320</td>\n",
              "      <td>0.515625</td>\n",
              "      <td>16.842105</td>\n",
              "      <td>...</td>\n",
              "      <td>0.073317</td>\n",
              "      <td>0.472376</td>\n",
              "      <td>0.699098</td>\n",
              "      <td>0.433225</td>\n",
              "      <td>0.221875</td>\n",
              "      <td>0.043750</td>\n",
              "      <td>0.090625</td>\n",
              "      <td>0.380282</td>\n",
              "      <td>0.277778</td>\n",
              "      <td>0.105634</td>\n",
              "    </tr>\n",
              "    <tr>\n",
              "      <th>3</th>\n",
              "      <td>The best time in life is when you become yours...</td>\n",
              "      <td>4.5</td>\n",
              "      <td>4.5</td>\n",
              "      <td>4.5</td>\n",
              "      <td>4.5</td>\n",
              "      <td>4.0</td>\n",
              "      <td>5.0</td>\n",
              "      <td>728</td>\n",
              "      <td>0.559066</td>\n",
              "      <td>20.222222</td>\n",
              "      <td>...</td>\n",
              "      <td>0.055877</td>\n",
              "      <td>0.412691</td>\n",
              "      <td>0.629558</td>\n",
              "      <td>0.498259</td>\n",
              "      <td>0.188187</td>\n",
              "      <td>0.043956</td>\n",
              "      <td>0.119505</td>\n",
              "      <td>0.569343</td>\n",
              "      <td>0.184466</td>\n",
              "      <td>0.105024</td>\n",
              "    </tr>\n",
              "    <tr>\n",
              "      <th>4</th>\n",
              "      <td>Small act of kindness can impact in other peop...</td>\n",
              "      <td>2.5</td>\n",
              "      <td>3.0</td>\n",
              "      <td>3.0</td>\n",
              "      <td>3.0</td>\n",
              "      <td>2.5</td>\n",
              "      <td>2.5</td>\n",
              "      <td>234</td>\n",
              "      <td>0.521368</td>\n",
              "      <td>78.000000</td>\n",
              "      <td>...</td>\n",
              "      <td>0.085833</td>\n",
              "      <td>0.551796</td>\n",
              "      <td>0.110281</td>\n",
              "      <td>0.096727</td>\n",
              "      <td>0.230769</td>\n",
              "      <td>0.034188</td>\n",
              "      <td>0.119658</td>\n",
              "      <td>0.481481</td>\n",
              "      <td>0.150000</td>\n",
              "      <td>0.072222</td>\n",
              "    </tr>\n",
              "    <tr>\n",
              "      <th>...</th>\n",
              "      <td>...</td>\n",
              "      <td>...</td>\n",
              "      <td>...</td>\n",
              "      <td>...</td>\n",
              "      <td>...</td>\n",
              "      <td>...</td>\n",
              "      <td>...</td>\n",
              "      <td>...</td>\n",
              "      <td>...</td>\n",
              "      <td>...</td>\n",
              "      <td>...</td>\n",
              "      <td>...</td>\n",
              "      <td>...</td>\n",
              "      <td>...</td>\n",
              "      <td>...</td>\n",
              "      <td>...</td>\n",
              "      <td>...</td>\n",
              "      <td>...</td>\n",
              "      <td>...</td>\n",
              "      <td>...</td>\n",
              "      <td>...</td>\n",
              "    </tr>\n",
              "    <tr>\n",
              "      <th>3906</th>\n",
              "      <td>I believe using cellphones in class for educat...</td>\n",
              "      <td>2.5</td>\n",
              "      <td>3.0</td>\n",
              "      <td>3.0</td>\n",
              "      <td>3.5</td>\n",
              "      <td>2.5</td>\n",
              "      <td>2.5</td>\n",
              "      <td>179</td>\n",
              "      <td>0.430168</td>\n",
              "      <td>29.833333</td>\n",
              "      <td>...</td>\n",
              "      <td>0.110204</td>\n",
              "      <td>0.593374</td>\n",
              "      <td>0.062313</td>\n",
              "      <td>0.044963</td>\n",
              "      <td>0.329609</td>\n",
              "      <td>0.072626</td>\n",
              "      <td>0.100559</td>\n",
              "      <td>0.186441</td>\n",
              "      <td>0.315789</td>\n",
              "      <td>0.058876</td>\n",
              "    </tr>\n",
              "    <tr>\n",
              "      <th>3907</th>\n",
              "      <td>Working alone, students do not have to argue w...</td>\n",
              "      <td>4.0</td>\n",
              "      <td>4.0</td>\n",
              "      <td>4.0</td>\n",
              "      <td>4.0</td>\n",
              "      <td>3.5</td>\n",
              "      <td>3.0</td>\n",
              "      <td>465</td>\n",
              "      <td>0.526882</td>\n",
              "      <td>29.062500</td>\n",
              "      <td>...</td>\n",
              "      <td>0.067620</td>\n",
              "      <td>0.325690</td>\n",
              "      <td>0.327018</td>\n",
              "      <td>0.124590</td>\n",
              "      <td>0.273118</td>\n",
              "      <td>0.032258</td>\n",
              "      <td>0.030108</td>\n",
              "      <td>0.370079</td>\n",
              "      <td>0.301887</td>\n",
              "      <td>0.111722</td>\n",
              "    </tr>\n",
              "    <tr>\n",
              "      <th>3908</th>\n",
              "      <td>\"A problem is a chance for you to do your best...</td>\n",
              "      <td>2.5</td>\n",
              "      <td>3.0</td>\n",
              "      <td>3.0</td>\n",
              "      <td>3.0</td>\n",
              "      <td>3.5</td>\n",
              "      <td>3.0</td>\n",
              "      <td>257</td>\n",
              "      <td>0.525292</td>\n",
              "      <td>32.125000</td>\n",
              "      <td>...</td>\n",
              "      <td>0.089931</td>\n",
              "      <td>0.383324</td>\n",
              "      <td>0.388689</td>\n",
              "      <td>0.460645</td>\n",
              "      <td>0.214008</td>\n",
              "      <td>0.031128</td>\n",
              "      <td>0.120623</td>\n",
              "      <td>0.454545</td>\n",
              "      <td>0.777778</td>\n",
              "      <td>0.353535</td>\n",
              "    </tr>\n",
              "    <tr>\n",
              "      <th>3909</th>\n",
              "      <td>Many people disagree with Albert Schweitzer's ...</td>\n",
              "      <td>4.0</td>\n",
              "      <td>4.5</td>\n",
              "      <td>4.5</td>\n",
              "      <td>4.0</td>\n",
              "      <td>4.5</td>\n",
              "      <td>4.5</td>\n",
              "      <td>510</td>\n",
              "      <td>0.527451</td>\n",
              "      <td>24.285714</td>\n",
              "      <td>...</td>\n",
              "      <td>0.064596</td>\n",
              "      <td>0.444652</td>\n",
              "      <td>0.510104</td>\n",
              "      <td>0.471795</td>\n",
              "      <td>0.223529</td>\n",
              "      <td>0.027451</td>\n",
              "      <td>0.113725</td>\n",
              "      <td>0.526316</td>\n",
              "      <td>0.638889</td>\n",
              "      <td>0.336257</td>\n",
              "    </tr>\n",
              "    <tr>\n",
              "      <th>3910</th>\n",
              "      <td>Do you think that failure is the main thing fo...</td>\n",
              "      <td>3.5</td>\n",
              "      <td>2.5</td>\n",
              "      <td>3.5</td>\n",
              "      <td>3.0</td>\n",
              "      <td>3.0</td>\n",
              "      <td>3.5</td>\n",
              "      <td>638</td>\n",
              "      <td>0.547022</td>\n",
              "      <td>63.800000</td>\n",
              "      <td>...</td>\n",
              "      <td>0.054380</td>\n",
              "      <td>0.437314</td>\n",
              "      <td>0.417147</td>\n",
              "      <td>0.201592</td>\n",
              "      <td>0.214734</td>\n",
              "      <td>0.050157</td>\n",
              "      <td>0.105016</td>\n",
              "      <td>0.299270</td>\n",
              "      <td>0.149425</td>\n",
              "      <td>0.044719</td>\n",
              "    </tr>\n",
              "  </tbody>\n",
              "</table>\n",
              "<p>3911 rows × 43 columns</p>\n",
              "</div>\n",
              "      <button class=\"colab-df-convert\" onclick=\"convertToInteractive('df-d5ed0b09-da00-4899-b001-07b0fb9a4a65')\"\n",
              "              title=\"Convert this dataframe to an interactive table.\"\n",
              "              style=\"display:none;\">\n",
              "        \n",
              "  <svg xmlns=\"http://www.w3.org/2000/svg\" height=\"24px\"viewBox=\"0 0 24 24\"\n",
              "       width=\"24px\">\n",
              "    <path d=\"M0 0h24v24H0V0z\" fill=\"none\"/>\n",
              "    <path d=\"M18.56 5.44l.94 2.06.94-2.06 2.06-.94-2.06-.94-.94-2.06-.94 2.06-2.06.94zm-11 1L8.5 8.5l.94-2.06 2.06-.94-2.06-.94L8.5 2.5l-.94 2.06-2.06.94zm10 10l.94 2.06.94-2.06 2.06-.94-2.06-.94-.94-2.06-.94 2.06-2.06.94z\"/><path d=\"M17.41 7.96l-1.37-1.37c-.4-.4-.92-.59-1.43-.59-.52 0-1.04.2-1.43.59L10.3 9.45l-7.72 7.72c-.78.78-.78 2.05 0 2.83L4 21.41c.39.39.9.59 1.41.59.51 0 1.02-.2 1.41-.59l7.78-7.78 2.81-2.81c.8-.78.8-2.07 0-2.86zM5.41 20L4 18.59l7.72-7.72 1.47 1.35L5.41 20z\"/>\n",
              "  </svg>\n",
              "      </button>\n",
              "      \n",
              "  <style>\n",
              "    .colab-df-container {\n",
              "      display:flex;\n",
              "      flex-wrap:wrap;\n",
              "      gap: 12px;\n",
              "    }\n",
              "\n",
              "    .colab-df-convert {\n",
              "      background-color: #E8F0FE;\n",
              "      border: none;\n",
              "      border-radius: 50%;\n",
              "      cursor: pointer;\n",
              "      display: none;\n",
              "      fill: #1967D2;\n",
              "      height: 32px;\n",
              "      padding: 0 0 0 0;\n",
              "      width: 32px;\n",
              "    }\n",
              "\n",
              "    .colab-df-convert:hover {\n",
              "      background-color: #E2EBFA;\n",
              "      box-shadow: 0px 1px 2px rgba(60, 64, 67, 0.3), 0px 1px 3px 1px rgba(60, 64, 67, 0.15);\n",
              "      fill: #174EA6;\n",
              "    }\n",
              "\n",
              "    [theme=dark] .colab-df-convert {\n",
              "      background-color: #3B4455;\n",
              "      fill: #D2E3FC;\n",
              "    }\n",
              "\n",
              "    [theme=dark] .colab-df-convert:hover {\n",
              "      background-color: #434B5C;\n",
              "      box-shadow: 0px 1px 3px 1px rgba(0, 0, 0, 0.15);\n",
              "      filter: drop-shadow(0px 1px 2px rgba(0, 0, 0, 0.3));\n",
              "      fill: #FFFFFF;\n",
              "    }\n",
              "  </style>\n",
              "\n",
              "      <script>\n",
              "        const buttonEl =\n",
              "          document.querySelector('#df-d5ed0b09-da00-4899-b001-07b0fb9a4a65 button.colab-df-convert');\n",
              "        buttonEl.style.display =\n",
              "          google.colab.kernel.accessAllowed ? 'block' : 'none';\n",
              "\n",
              "        async function convertToInteractive(key) {\n",
              "          const element = document.querySelector('#df-d5ed0b09-da00-4899-b001-07b0fb9a4a65');\n",
              "          const dataTable =\n",
              "            await google.colab.kernel.invokeFunction('convertToInteractive',\n",
              "                                                     [key], {});\n",
              "          if (!dataTable) return;\n",
              "\n",
              "          const docLinkHtml = 'Like what you see? Visit the ' +\n",
              "            '<a target=\"_blank\" href=https://colab.research.google.com/notebooks/data_table.ipynb>data table notebook</a>'\n",
              "            + ' to learn more about interactive tables.';\n",
              "          element.innerHTML = '';\n",
              "          dataTable['output_type'] = 'display_data';\n",
              "          await google.colab.output.renderOutput(dataTable, element);\n",
              "          const docLink = document.createElement('div');\n",
              "          docLink.innerHTML = docLinkHtml;\n",
              "          element.appendChild(docLink);\n",
              "        }\n",
              "      </script>\n",
              "    </div>\n",
              "  </div>\n",
              "  "
            ]
          },
          "metadata": {},
          "execution_count": 125
        }
      ],
      "source": [
        "df"
      ]
    },
    {
      "cell_type": "code",
      "execution_count": null,
      "id": "8c292af5",
      "metadata": {
        "id": "8c292af5"
      },
      "outputs": [],
      "source": [
        "import numpy as np\n",
        "import matplotlib.pyplot as plt\n",
        "import tensorflow as tf"
      ]
    },
    {
      "cell_type": "code",
      "source": [
        "from sklearn.model_selection import train_test_split"
      ],
      "metadata": {
        "id": "T1oI8r4E9yva"
      },
      "id": "T1oI8r4E9yva",
      "execution_count": null,
      "outputs": []
    },
    {
      "cell_type": "code",
      "source": [
        "selected_features = pd.concat([df.iloc[:,7:], df['cohesion'], df['vocabulary']], axis = 1)\n",
        "train_data, test_data = train_test_split(selected_features, test_size= 0.2,  random_state = 2)"
      ],
      "metadata": {
        "id": "w4Zm1Q4aq0Dg"
      },
      "id": "w4Zm1Q4aq0Dg",
      "execution_count": null,
      "outputs": []
    },
    {
      "cell_type": "code",
      "source": [
        "test_data.shape"
      ],
      "metadata": {
        "colab": {
          "base_uri": "https://localhost:8080/"
        },
        "id": "L5IjJ2o_2_DC",
        "outputId": "8cbfe62f-47cd-4dfb-89c2-7a262b69af94"
      },
      "id": "L5IjJ2o_2_DC",
      "execution_count": null,
      "outputs": [
        {
          "output_type": "execute_result",
          "data": {
            "text/plain": [
              "(783, 38)"
            ]
          },
          "metadata": {},
          "execution_count": 16
        }
      ]
    },
    {
      "cell_type": "code",
      "source": [
        "train_data"
      ],
      "metadata": {
        "colab": {
          "base_uri": "https://localhost:8080/",
          "height": 488
        },
        "id": "WlVle9Twq-rb",
        "outputId": "4df325b0-6f94-45bf-875b-69f4637bdd56"
      },
      "id": "WlVle9Twq-rb",
      "execution_count": null,
      "outputs": [
        {
          "output_type": "execute_result",
          "data": {
            "text/plain": [
              "      number_of_words  stopwords_frequency  av_word_per_sen  punctuations  \\\n",
              "1749              389             0.437018        14.961538      0.075650   \n",
              "2304              320             0.440625        21.333333      0.084270   \n",
              "2458              228             0.368421        15.200000      0.061728   \n",
              "1383              457             0.509847        19.869565      0.060241   \n",
              "1354              455             0.595604        75.833333      0.042194   \n",
              "...               ...                  ...              ...           ...   \n",
              "3606              277             0.487365        11.080000      0.082508   \n",
              "1608              283             0.551237        28.300000      0.080645   \n",
              "2541              305             0.419672        12.200000      0.130790   \n",
              "2575              847             0.521842        29.206897      0.057650   \n",
              "3240              363             0.504132        24.200000      0.048593   \n",
              "\n",
              "      ARI  freq_of_verb  freq_of_adj  freq_of_adv  freq_of_distinct_adj  \\\n",
              "1749    6      0.089974     0.105398     0.010283              0.071979   \n",
              "2304    9      0.140625     0.056250     0.065625              0.050000   \n",
              "2458    6      0.109649     0.122807     0.078947              0.052632   \n",
              "1383    8      0.098468     0.098468     0.028446              0.056893   \n",
              "1354   34      0.079121     0.090110     0.039560              0.065934   \n",
              "...   ...           ...          ...          ...                   ...   \n",
              "3606    4      0.068592     0.072202     0.061372              0.061372   \n",
              "1608   12      0.102473     0.084806     0.067138              0.077739   \n",
              "2541    6      0.121311     0.118033     0.068852              0.055738   \n",
              "2575   13      0.120425     0.064935     0.029516              0.049587   \n",
              "3240   12      0.126722     0.085399     0.030303              0.052342   \n",
              "\n",
              "      freq_of_distinct_adv  ...  lexrank_avg_min_diff  lexrank_interquartile  \\\n",
              "1749              0.007712  ...              0.583806               0.545659   \n",
              "2304              0.021875  ...              0.518039               0.277898   \n",
              "2458              0.048246  ...              0.713681               0.509217   \n",
              "1383              0.019694  ...              0.578532               0.800124   \n",
              "1354              0.021978  ...              0.287504               0.148577   \n",
              "...                    ...  ...                   ...                    ...   \n",
              "3606              0.046931  ...              0.559748               0.224948   \n",
              "1608              0.021201  ...              0.249115               0.261299   \n",
              "2541              0.026230  ...              0.532533               0.448009   \n",
              "2575              0.010626  ...              0.704079               0.609323   \n",
              "3240              0.024793  ...              0.447981               0.799422   \n",
              "\n",
              "      freq_of_noun  freq_of_transition  freq_of_pronoun  noun_to_adj  \\\n",
              "1749      0.316195            0.046272         0.095116     0.333333   \n",
              "2304      0.303125            0.031250         0.081250     0.185567   \n",
              "2458      0.250000            0.008772         0.065789     0.491228   \n",
              "1383      0.216630            0.050328         0.113786     0.454545   \n",
              "1354      0.219780            0.057143         0.142857     0.410000   \n",
              "...            ...                 ...              ...          ...   \n",
              "3606      0.277978            0.039711         0.126354     0.259740   \n",
              "1608      0.197880            0.042403         0.098940     0.428571   \n",
              "2541      0.242623            0.049180         0.075410     0.486486   \n",
              "2575      0.251476            0.061393         0.112161     0.258216   \n",
              "3240      0.269972            0.044077         0.057851     0.316327   \n",
              "\n",
              "     verb_to_adv  phrase_diversity  cohesion  vocabulary  \n",
              "1749    0.114286          0.038095       3.5         4.0  \n",
              "2304    0.466667          0.086598       3.0         2.0  \n",
              "2458    0.720000          0.353684       3.5         3.5  \n",
              "1383    0.288889          0.131313       4.0         4.5  \n",
              "1354    0.500000          0.205000       2.5         3.0  \n",
              "...          ...               ...       ...         ...  \n",
              "3606    0.894737          0.232399       3.5         3.5  \n",
              "1608    0.655172          0.280788       3.5         3.0  \n",
              "2541    0.567568          0.276114       2.5         3.0  \n",
              "2575    0.245098          0.063288       3.5         3.0  \n",
              "3240    0.239130          0.075643       3.5         3.5  \n",
              "\n",
              "[3128 rows x 38 columns]"
            ],
            "text/html": [
              "\n",
              "  <div id=\"df-188bae6e-719e-49e0-8a22-faa64df4409d\">\n",
              "    <div class=\"colab-df-container\">\n",
              "      <div>\n",
              "<style scoped>\n",
              "    .dataframe tbody tr th:only-of-type {\n",
              "        vertical-align: middle;\n",
              "    }\n",
              "\n",
              "    .dataframe tbody tr th {\n",
              "        vertical-align: top;\n",
              "    }\n",
              "\n",
              "    .dataframe thead th {\n",
              "        text-align: right;\n",
              "    }\n",
              "</style>\n",
              "<table border=\"1\" class=\"dataframe\">\n",
              "  <thead>\n",
              "    <tr style=\"text-align: right;\">\n",
              "      <th></th>\n",
              "      <th>number_of_words</th>\n",
              "      <th>stopwords_frequency</th>\n",
              "      <th>av_word_per_sen</th>\n",
              "      <th>punctuations</th>\n",
              "      <th>ARI</th>\n",
              "      <th>freq_of_verb</th>\n",
              "      <th>freq_of_adj</th>\n",
              "      <th>freq_of_adv</th>\n",
              "      <th>freq_of_distinct_adj</th>\n",
              "      <th>freq_of_distinct_adv</th>\n",
              "      <th>...</th>\n",
              "      <th>lexrank_avg_min_diff</th>\n",
              "      <th>lexrank_interquartile</th>\n",
              "      <th>freq_of_noun</th>\n",
              "      <th>freq_of_transition</th>\n",
              "      <th>freq_of_pronoun</th>\n",
              "      <th>noun_to_adj</th>\n",
              "      <th>verb_to_adv</th>\n",
              "      <th>phrase_diversity</th>\n",
              "      <th>cohesion</th>\n",
              "      <th>vocabulary</th>\n",
              "    </tr>\n",
              "  </thead>\n",
              "  <tbody>\n",
              "    <tr>\n",
              "      <th>1749</th>\n",
              "      <td>389</td>\n",
              "      <td>0.437018</td>\n",
              "      <td>14.961538</td>\n",
              "      <td>0.075650</td>\n",
              "      <td>6</td>\n",
              "      <td>0.089974</td>\n",
              "      <td>0.105398</td>\n",
              "      <td>0.010283</td>\n",
              "      <td>0.071979</td>\n",
              "      <td>0.007712</td>\n",
              "      <td>...</td>\n",
              "      <td>0.583806</td>\n",
              "      <td>0.545659</td>\n",
              "      <td>0.316195</td>\n",
              "      <td>0.046272</td>\n",
              "      <td>0.095116</td>\n",
              "      <td>0.333333</td>\n",
              "      <td>0.114286</td>\n",
              "      <td>0.038095</td>\n",
              "      <td>3.5</td>\n",
              "      <td>4.0</td>\n",
              "    </tr>\n",
              "    <tr>\n",
              "      <th>2304</th>\n",
              "      <td>320</td>\n",
              "      <td>0.440625</td>\n",
              "      <td>21.333333</td>\n",
              "      <td>0.084270</td>\n",
              "      <td>9</td>\n",
              "      <td>0.140625</td>\n",
              "      <td>0.056250</td>\n",
              "      <td>0.065625</td>\n",
              "      <td>0.050000</td>\n",
              "      <td>0.021875</td>\n",
              "      <td>...</td>\n",
              "      <td>0.518039</td>\n",
              "      <td>0.277898</td>\n",
              "      <td>0.303125</td>\n",
              "      <td>0.031250</td>\n",
              "      <td>0.081250</td>\n",
              "      <td>0.185567</td>\n",
              "      <td>0.466667</td>\n",
              "      <td>0.086598</td>\n",
              "      <td>3.0</td>\n",
              "      <td>2.0</td>\n",
              "    </tr>\n",
              "    <tr>\n",
              "      <th>2458</th>\n",
              "      <td>228</td>\n",
              "      <td>0.368421</td>\n",
              "      <td>15.200000</td>\n",
              "      <td>0.061728</td>\n",
              "      <td>6</td>\n",
              "      <td>0.109649</td>\n",
              "      <td>0.122807</td>\n",
              "      <td>0.078947</td>\n",
              "      <td>0.052632</td>\n",
              "      <td>0.048246</td>\n",
              "      <td>...</td>\n",
              "      <td>0.713681</td>\n",
              "      <td>0.509217</td>\n",
              "      <td>0.250000</td>\n",
              "      <td>0.008772</td>\n",
              "      <td>0.065789</td>\n",
              "      <td>0.491228</td>\n",
              "      <td>0.720000</td>\n",
              "      <td>0.353684</td>\n",
              "      <td>3.5</td>\n",
              "      <td>3.5</td>\n",
              "    </tr>\n",
              "    <tr>\n",
              "      <th>1383</th>\n",
              "      <td>457</td>\n",
              "      <td>0.509847</td>\n",
              "      <td>19.869565</td>\n",
              "      <td>0.060241</td>\n",
              "      <td>8</td>\n",
              "      <td>0.098468</td>\n",
              "      <td>0.098468</td>\n",
              "      <td>0.028446</td>\n",
              "      <td>0.056893</td>\n",
              "      <td>0.019694</td>\n",
              "      <td>...</td>\n",
              "      <td>0.578532</td>\n",
              "      <td>0.800124</td>\n",
              "      <td>0.216630</td>\n",
              "      <td>0.050328</td>\n",
              "      <td>0.113786</td>\n",
              "      <td>0.454545</td>\n",
              "      <td>0.288889</td>\n",
              "      <td>0.131313</td>\n",
              "      <td>4.0</td>\n",
              "      <td>4.5</td>\n",
              "    </tr>\n",
              "    <tr>\n",
              "      <th>1354</th>\n",
              "      <td>455</td>\n",
              "      <td>0.595604</td>\n",
              "      <td>75.833333</td>\n",
              "      <td>0.042194</td>\n",
              "      <td>34</td>\n",
              "      <td>0.079121</td>\n",
              "      <td>0.090110</td>\n",
              "      <td>0.039560</td>\n",
              "      <td>0.065934</td>\n",
              "      <td>0.021978</td>\n",
              "      <td>...</td>\n",
              "      <td>0.287504</td>\n",
              "      <td>0.148577</td>\n",
              "      <td>0.219780</td>\n",
              "      <td>0.057143</td>\n",
              "      <td>0.142857</td>\n",
              "      <td>0.410000</td>\n",
              "      <td>0.500000</td>\n",
              "      <td>0.205000</td>\n",
              "      <td>2.5</td>\n",
              "      <td>3.0</td>\n",
              "    </tr>\n",
              "    <tr>\n",
              "      <th>...</th>\n",
              "      <td>...</td>\n",
              "      <td>...</td>\n",
              "      <td>...</td>\n",
              "      <td>...</td>\n",
              "      <td>...</td>\n",
              "      <td>...</td>\n",
              "      <td>...</td>\n",
              "      <td>...</td>\n",
              "      <td>...</td>\n",
              "      <td>...</td>\n",
              "      <td>...</td>\n",
              "      <td>...</td>\n",
              "      <td>...</td>\n",
              "      <td>...</td>\n",
              "      <td>...</td>\n",
              "      <td>...</td>\n",
              "      <td>...</td>\n",
              "      <td>...</td>\n",
              "      <td>...</td>\n",
              "      <td>...</td>\n",
              "      <td>...</td>\n",
              "    </tr>\n",
              "    <tr>\n",
              "      <th>3606</th>\n",
              "      <td>277</td>\n",
              "      <td>0.487365</td>\n",
              "      <td>11.080000</td>\n",
              "      <td>0.082508</td>\n",
              "      <td>4</td>\n",
              "      <td>0.068592</td>\n",
              "      <td>0.072202</td>\n",
              "      <td>0.061372</td>\n",
              "      <td>0.061372</td>\n",
              "      <td>0.046931</td>\n",
              "      <td>...</td>\n",
              "      <td>0.559748</td>\n",
              "      <td>0.224948</td>\n",
              "      <td>0.277978</td>\n",
              "      <td>0.039711</td>\n",
              "      <td>0.126354</td>\n",
              "      <td>0.259740</td>\n",
              "      <td>0.894737</td>\n",
              "      <td>0.232399</td>\n",
              "      <td>3.5</td>\n",
              "      <td>3.5</td>\n",
              "    </tr>\n",
              "    <tr>\n",
              "      <th>1608</th>\n",
              "      <td>283</td>\n",
              "      <td>0.551237</td>\n",
              "      <td>28.300000</td>\n",
              "      <td>0.080645</td>\n",
              "      <td>12</td>\n",
              "      <td>0.102473</td>\n",
              "      <td>0.084806</td>\n",
              "      <td>0.067138</td>\n",
              "      <td>0.077739</td>\n",
              "      <td>0.021201</td>\n",
              "      <td>...</td>\n",
              "      <td>0.249115</td>\n",
              "      <td>0.261299</td>\n",
              "      <td>0.197880</td>\n",
              "      <td>0.042403</td>\n",
              "      <td>0.098940</td>\n",
              "      <td>0.428571</td>\n",
              "      <td>0.655172</td>\n",
              "      <td>0.280788</td>\n",
              "      <td>3.5</td>\n",
              "      <td>3.0</td>\n",
              "    </tr>\n",
              "    <tr>\n",
              "      <th>2541</th>\n",
              "      <td>305</td>\n",
              "      <td>0.419672</td>\n",
              "      <td>12.200000</td>\n",
              "      <td>0.130790</td>\n",
              "      <td>6</td>\n",
              "      <td>0.121311</td>\n",
              "      <td>0.118033</td>\n",
              "      <td>0.068852</td>\n",
              "      <td>0.055738</td>\n",
              "      <td>0.026230</td>\n",
              "      <td>...</td>\n",
              "      <td>0.532533</td>\n",
              "      <td>0.448009</td>\n",
              "      <td>0.242623</td>\n",
              "      <td>0.049180</td>\n",
              "      <td>0.075410</td>\n",
              "      <td>0.486486</td>\n",
              "      <td>0.567568</td>\n",
              "      <td>0.276114</td>\n",
              "      <td>2.5</td>\n",
              "      <td>3.0</td>\n",
              "    </tr>\n",
              "    <tr>\n",
              "      <th>2575</th>\n",
              "      <td>847</td>\n",
              "      <td>0.521842</td>\n",
              "      <td>29.206897</td>\n",
              "      <td>0.057650</td>\n",
              "      <td>13</td>\n",
              "      <td>0.120425</td>\n",
              "      <td>0.064935</td>\n",
              "      <td>0.029516</td>\n",
              "      <td>0.049587</td>\n",
              "      <td>0.010626</td>\n",
              "      <td>...</td>\n",
              "      <td>0.704079</td>\n",
              "      <td>0.609323</td>\n",
              "      <td>0.251476</td>\n",
              "      <td>0.061393</td>\n",
              "      <td>0.112161</td>\n",
              "      <td>0.258216</td>\n",
              "      <td>0.245098</td>\n",
              "      <td>0.063288</td>\n",
              "      <td>3.5</td>\n",
              "      <td>3.0</td>\n",
              "    </tr>\n",
              "    <tr>\n",
              "      <th>3240</th>\n",
              "      <td>363</td>\n",
              "      <td>0.504132</td>\n",
              "      <td>24.200000</td>\n",
              "      <td>0.048593</td>\n",
              "      <td>12</td>\n",
              "      <td>0.126722</td>\n",
              "      <td>0.085399</td>\n",
              "      <td>0.030303</td>\n",
              "      <td>0.052342</td>\n",
              "      <td>0.024793</td>\n",
              "      <td>...</td>\n",
              "      <td>0.447981</td>\n",
              "      <td>0.799422</td>\n",
              "      <td>0.269972</td>\n",
              "      <td>0.044077</td>\n",
              "      <td>0.057851</td>\n",
              "      <td>0.316327</td>\n",
              "      <td>0.239130</td>\n",
              "      <td>0.075643</td>\n",
              "      <td>3.5</td>\n",
              "      <td>3.5</td>\n",
              "    </tr>\n",
              "  </tbody>\n",
              "</table>\n",
              "<p>3128 rows × 38 columns</p>\n",
              "</div>\n",
              "      <button class=\"colab-df-convert\" onclick=\"convertToInteractive('df-188bae6e-719e-49e0-8a22-faa64df4409d')\"\n",
              "              title=\"Convert this dataframe to an interactive table.\"\n",
              "              style=\"display:none;\">\n",
              "        \n",
              "  <svg xmlns=\"http://www.w3.org/2000/svg\" height=\"24px\"viewBox=\"0 0 24 24\"\n",
              "       width=\"24px\">\n",
              "    <path d=\"M0 0h24v24H0V0z\" fill=\"none\"/>\n",
              "    <path d=\"M18.56 5.44l.94 2.06.94-2.06 2.06-.94-2.06-.94-.94-2.06-.94 2.06-2.06.94zm-11 1L8.5 8.5l.94-2.06 2.06-.94-2.06-.94L8.5 2.5l-.94 2.06-2.06.94zm10 10l.94 2.06.94-2.06 2.06-.94-2.06-.94-.94-2.06-.94 2.06-2.06.94z\"/><path d=\"M17.41 7.96l-1.37-1.37c-.4-.4-.92-.59-1.43-.59-.52 0-1.04.2-1.43.59L10.3 9.45l-7.72 7.72c-.78.78-.78 2.05 0 2.83L4 21.41c.39.39.9.59 1.41.59.51 0 1.02-.2 1.41-.59l7.78-7.78 2.81-2.81c.8-.78.8-2.07 0-2.86zM5.41 20L4 18.59l7.72-7.72 1.47 1.35L5.41 20z\"/>\n",
              "  </svg>\n",
              "      </button>\n",
              "      \n",
              "  <style>\n",
              "    .colab-df-container {\n",
              "      display:flex;\n",
              "      flex-wrap:wrap;\n",
              "      gap: 12px;\n",
              "    }\n",
              "\n",
              "    .colab-df-convert {\n",
              "      background-color: #E8F0FE;\n",
              "      border: none;\n",
              "      border-radius: 50%;\n",
              "      cursor: pointer;\n",
              "      display: none;\n",
              "      fill: #1967D2;\n",
              "      height: 32px;\n",
              "      padding: 0 0 0 0;\n",
              "      width: 32px;\n",
              "    }\n",
              "\n",
              "    .colab-df-convert:hover {\n",
              "      background-color: #E2EBFA;\n",
              "      box-shadow: 0px 1px 2px rgba(60, 64, 67, 0.3), 0px 1px 3px 1px rgba(60, 64, 67, 0.15);\n",
              "      fill: #174EA6;\n",
              "    }\n",
              "\n",
              "    [theme=dark] .colab-df-convert {\n",
              "      background-color: #3B4455;\n",
              "      fill: #D2E3FC;\n",
              "    }\n",
              "\n",
              "    [theme=dark] .colab-df-convert:hover {\n",
              "      background-color: #434B5C;\n",
              "      box-shadow: 0px 1px 3px 1px rgba(0, 0, 0, 0.15);\n",
              "      filter: drop-shadow(0px 1px 2px rgba(0, 0, 0, 0.3));\n",
              "      fill: #FFFFFF;\n",
              "    }\n",
              "  </style>\n",
              "\n",
              "      <script>\n",
              "        const buttonEl =\n",
              "          document.querySelector('#df-188bae6e-719e-49e0-8a22-faa64df4409d button.colab-df-convert');\n",
              "        buttonEl.style.display =\n",
              "          google.colab.kernel.accessAllowed ? 'block' : 'none';\n",
              "\n",
              "        async function convertToInteractive(key) {\n",
              "          const element = document.querySelector('#df-188bae6e-719e-49e0-8a22-faa64df4409d');\n",
              "          const dataTable =\n",
              "            await google.colab.kernel.invokeFunction('convertToInteractive',\n",
              "                                                     [key], {});\n",
              "          if (!dataTable) return;\n",
              "\n",
              "          const docLinkHtml = 'Like what you see? Visit the ' +\n",
              "            '<a target=\"_blank\" href=https://colab.research.google.com/notebooks/data_table.ipynb>data table notebook</a>'\n",
              "            + ' to learn more about interactive tables.';\n",
              "          element.innerHTML = '';\n",
              "          dataTable['output_type'] = 'display_data';\n",
              "          await google.colab.output.renderOutput(dataTable, element);\n",
              "          const docLink = document.createElement('div');\n",
              "          docLink.innerHTML = docLinkHtml;\n",
              "          element.appendChild(docLink);\n",
              "        }\n",
              "      </script>\n",
              "    </div>\n",
              "  </div>\n",
              "  "
            ]
          },
          "metadata": {},
          "execution_count": 15
        }
      ]
    },
    {
      "cell_type": "code",
      "source": [
        "feature_columns = []\n",
        "coherence_score = tf.feature_column.numeric_column(\"coherence_score\")\n",
        "feature_columns.append(coherence_score)\n",
        "ttr = tf.feature_column.numeric_column(\"ttr\")\n",
        "feature_columns.append(ttr)\n",
        "freq_diff_words = tf.feature_column.numeric_column(\"freq_diff_words\")\n",
        "feature_columns.append(freq_diff_words)\n",
        "number_of_diff_words = tf.feature_column.numeric_column(\"number_of_diff_words\")\n",
        "feature_columns.append(number_of_diff_words)\n",
        "dale = tf.feature_column.numeric_column(\"dale_chall_readability_score\")\n",
        "feature_columns.append(dale)\n",
        "mcalpine_eflaw = tf.feature_column.numeric_column(\"mcalpine_eflaw\")\n",
        "feature_columns.append(mcalpine_eflaw)\n",
        "ts = tf.feature_column.numeric_column(\"text_standard\")\n",
        "feature_columns.append(ts)\n",
        "\n",
        "fle = tf.feature_column.numeric_column(\"flesch_kincaid_grade\")\n",
        "feature_columns.append(fle)\n",
        "disadv = tf.feature_column.numeric_column(\"freq_of_distinct_adv\")\n",
        "feature_columns.append(disadv)\n",
        "disadj = tf.feature_column.numeric_column(\"freq_of_distinct_adj\")\n",
        "feature_columns.append(disadj)\n",
        "feature_columns.append(tf.feature_column.numeric_column(\"freq_of_adv\"))\n",
        "feature_columns.append(tf.feature_column.numeric_column(\"freq_of_adj\"))\n",
        "feature_columns.append(tf.feature_column.numeric_column(\"freq_of_verb\"))\n",
        "feature_columns.append(tf.feature_column.numeric_column(\"ARI\"))\n",
        "feature_columns.append(tf.feature_column.numeric_column(\"punctuations\"))\n",
        "feature_columns.append(tf.feature_column.numeric_column(\"av_word_per_sen\"))\n",
        "feature_columns.append(tf.feature_column.numeric_column(\"stopwords_frequency\"))\n",
        "feature_columns.append(tf.feature_column.numeric_column(\"number_of_words\"))\n",
        "feature_columns.append(tf.feature_column.numeric_column(\"flesch_reading_ease\"))\n",
        "feature_columns.append(tf.feature_column.numeric_column(\"Incorrect_form_ratio\"))\n",
        "feature_columns.append(tf.feature_column.numeric_column(\"num_of_short_forms\"))\n",
        "feature_columns.append(tf.feature_column.numeric_column(\"num_of_grammar_errors\"))\n",
        "feature_columns.append(tf.feature_column.numeric_column(\"sentiment_negative\"))\n",
        "feature_columns.append(tf.feature_column.numeric_column(\"sentiment_positive\"))\n",
        "feature_columns.append(tf.feature_column.numeric_column(\"sentiment_compound\"))\n",
        "feature_columns.append(tf.feature_column.numeric_column(\"freq_of_wrong_words\"))\n",
        "feature_columns.append(tf.feature_column.numeric_column(\"sentence_complexity\"))\n",
        "feature_columns.append(tf.feature_column.numeric_column(\"lexrank_avg_min_diff\"))\n",
        "feature_columns.append(tf.feature_column.numeric_column(\"lexrank_interquartile\"))\n",
        "feature_columns.append(tf.feature_column.numeric_column(\"freq_of_noun\"))\n",
        "feature_columns.append(tf.feature_column.numeric_column(\"freq_of_transition\"))\n",
        "feature_columns.append(tf.feature_column.numeric_column(\"freq_of_pronoun\"))\n",
        "feature_columns.append(tf.feature_column.numeric_column(\"noun_to_adj\"))\n",
        "feature_columns.append(tf.feature_column.numeric_column(\"verb_to_adv\"))\n",
        "feature_columns.append(tf.feature_column.numeric_column(\"phrase_diversity\"))\n",
        "\n",
        "\n",
        "\n",
        "\n",
        "\n",
        "\n",
        "\n",
        "\n",
        "\n",
        "\n",
        "\n",
        "my_feature_layer = tf.keras.layers.DenseFeatures(feature_columns)\n",
        "feature_columns.append(tf.feature_column.numeric_column(\"vocabulary\"))\n",
        "my_new_feature_layer = tf.keras.layers.DenseFeatures(feature_columns)\n"
      ],
      "metadata": {
        "id": "IcQ9UFogJYdM"
      },
      "id": "IcQ9UFogJYdM",
      "execution_count": null,
      "outputs": []
    },
    {
      "cell_type": "code",
      "source": [
        "len(feature_columns)"
      ],
      "metadata": {
        "colab": {
          "base_uri": "https://localhost:8080/"
        },
        "id": "yKcJEGREsD3e",
        "outputId": "c5f3c411-5c58-4d1a-fe05-8f610204ab7a"
      },
      "id": "yKcJEGREsD3e",
      "execution_count": null,
      "outputs": [
        {
          "output_type": "execute_result",
          "data": {
            "text/plain": [
              "36"
            ]
          },
          "metadata": {},
          "execution_count": 18
        }
      ]
    },
    {
      "cell_type": "markdown",
      "source": [
        "Basic functions"
      ],
      "metadata": {
        "id": "gTIoi3-z5z95"
      },
      "id": "gTIoi3-z5z95"
    },
    {
      "cell_type": "code",
      "source": [
        "def accuracy_range(Ytrue, Ypred):\n",
        "    accurate_range=0\n",
        "    for i in range(len(Ytrue)):\n",
        "        if abs(Ytrue[i] - Ypred[i])<=0.5:\n",
        "            accurate_range+=1\n",
        "    return accurate_range/len(Ytrue)\n",
        "\n",
        "def result(predictions):\n",
        "    result_list=[]\n",
        "    for pred in predictions:\n",
        "        result = pred // 0.5 * 0.5\n",
        "        if (pred - result) > 0.25:\n",
        "            result += 0.5\n",
        "        if result < 1.0:\n",
        "            result = 1.0\n",
        "        if result > 5.0:\n",
        "            result = 5.0\n",
        "        result_list.append(result)\n",
        "    return result_list\n",
        "\n",
        "def accuracy(Ytrue, Ypred):\n",
        "    accurate = 0\n",
        "    for i in range(len(Ytrue)):\n",
        "        if Ytrue[i] == Ypred[i]:\n",
        "            accurate += 1\n",
        "    return accurate / len(Ytrue)\n",
        "\n",
        "def error_rate(Ytrue, Ypred):\n",
        "    error=0\n",
        "    for i in range(len(Ytrue)):\n",
        "        error += abs(Ytrue[i] - Ypred[i])\n",
        "    return error/len(Ytrue)"
      ],
      "metadata": {
        "id": "NX7aSlwCF-3Z"
      },
      "id": "NX7aSlwCF-3Z",
      "execution_count": null,
      "outputs": []
    },
    {
      "cell_type": "markdown",
      "source": [
        "Simple one layer linear model"
      ],
      "metadata": {
        "id": "H_mNqYaexvds"
      },
      "id": "H_mNqYaexvds"
    },
    {
      "cell_type": "code",
      "source": [
        "def create_model_simple(my_learning_rate, feature_layer):\n",
        "  \"\"\"Create and compile a simple linear regression model.\"\"\"\n",
        "\n",
        "  # Most simple tf.keras models are sequential.\n",
        "  model = tf.keras.models.Sequential()\n",
        "\n",
        "  # Add the layer containing the feature columns to the model.\n",
        "  model.add(feature_layer)\n",
        "\n",
        "  # Add one linear layer to the model to yield a simple linear regressor.\n",
        "  model.add(tf.keras.layers.Dense(units=1))\n",
        "  \n",
        "\n",
        "  # Construct the layers into a model that TensorFlow can execute.\n",
        "  model.compile(optimizer=tf.keras.optimizers.RMSprop(lr=my_learning_rate),\n",
        "                loss=\"mean_squared_error\", \n",
        "                metrics=[tf.keras.metrics.MeanSquaredError(), \"accuracy\"])\n",
        "  return model   "
      ],
      "metadata": {
        "id": "fMPTStXTxu21"
      },
      "id": "fMPTStXTxu21",
      "execution_count": null,
      "outputs": []
    },
    {
      "cell_type": "code",
      "source": [
        "def train_model(model, dataset, epochs, batch_size, label_name):\n",
        "  \"\"\"Feed a dataset into the model in order to train it.\"\"\"\n",
        "\n",
        "  # Split the dataset into features and label.\n",
        "  features = {name:np.array(value) for name, value in dataset.items()}\n",
        "  label = np.array(features.pop(label_name))\n",
        "  history = model.fit(x=features, y=label, batch_size=batch_size,\n",
        "                      epochs=epochs, validation_split=0.2, shuffle=True)\n",
        "\n",
        "  # Get details that will be useful for plotting the loss curve.\n",
        "  mse_train = history.history['loss']\n",
        "  mse_val = history.history['val_loss']\n",
        "\n",
        "  return mse_train, mse_val"
      ],
      "metadata": {
        "id": "sDo8D5FBJPBo"
      },
      "id": "sDo8D5FBJPBo",
      "execution_count": null,
      "outputs": []
    },
    {
      "cell_type": "code",
      "source": [
        "def plot_the_loss_curve(mse_train, mse_val):\n",
        "  \"\"\"Plot a curve of loss vs. epoch.\"\"\"\n",
        "\n",
        "  plt.figure(figsize=(10, 8))\n",
        "  plt.xlabel(\"Epoch\")\n",
        "  plt.ylabel(\"Mean Squared Error\")\n",
        "\n",
        "  plt.plot(mse_train, label=\"Training Loss\")\n",
        "  plt.plot(mse_val, label=\"Validation Loss\")\n",
        "  plt.legend()\n",
        "  # plt.ylim([mse.min()*0.95, mse.max() * 1.03])\n",
        "  plt.show()  "
      ],
      "metadata": {
        "id": "6XNeGAJdIS1O"
      },
      "id": "6XNeGAJdIS1O",
      "execution_count": null,
      "outputs": []
    },
    {
      "cell_type": "code",
      "source": [
        "learning_rate = 0.01\n",
        "number_epochs = 30\n",
        "batch_size = 256\n",
        "label_name = \"cohesion\"\n",
        "model_simple1 = create_model_simple(learning_rate, my_feature_layer)\n",
        "\n",
        "mse_train_simple1, mse_val_simple1 = train_model(model_simple1, train_data, number_epochs, batch_size, label_name)\n",
        "\n",
        "plot_the_loss_curve(mse_train_simple1, mse_val_simple1)"
      ],
      "metadata": {
        "colab": {
          "base_uri": "https://localhost:8080/",
          "height": 1000
        },
        "id": "yAmUkQdgUy7_",
        "outputId": "a39e33c1-dde4-483d-862d-31f90ddc2216"
      },
      "id": "yAmUkQdgUy7_",
      "execution_count": null,
      "outputs": [
        {
          "output_type": "stream",
          "name": "stdout",
          "text": [
            "Epoch 1/30\n"
          ]
        },
        {
          "output_type": "stream",
          "name": "stderr",
          "text": [
            "/usr/local/lib/python3.7/dist-packages/keras/optimizers/optimizer_v2/rmsprop.py:135: UserWarning: The `lr` argument is deprecated, use `learning_rate` instead.\n",
            "  super(RMSprop, self).__init__(name, **kwargs)\n",
            "WARNING:tensorflow:Layers in a Sequential model should only have a single input tensor. Received: inputs={'number_of_words': <tf.Tensor 'IteratorGetNext:25' shape=(None,) dtype=int64>, 'stopwords_frequency': <tf.Tensor 'IteratorGetNext:32' shape=(None,) dtype=float32>, 'av_word_per_sen': <tf.Tensor 'IteratorGetNext:2' shape=(None,) dtype=float32>, 'punctuations': <tf.Tensor 'IteratorGetNext:27' shape=(None,) dtype=float32>, 'ARI': <tf.Tensor 'IteratorGetNext:0' shape=(None,) dtype=int64>, 'freq_of_verb': <tf.Tensor 'IteratorGetNext:16' shape=(None,) dtype=float32>, 'freq_of_adj': <tf.Tensor 'IteratorGetNext:9' shape=(None,) dtype=float32>, 'freq_of_adv': <tf.Tensor 'IteratorGetNext:10' shape=(None,) dtype=float32>, 'freq_of_distinct_adj': <tf.Tensor 'IteratorGetNext:11' shape=(None,) dtype=float32>, 'freq_of_distinct_adv': <tf.Tensor 'IteratorGetNext:12' shape=(None,) dtype=float32>, 'sentence_complexity': <tf.Tensor 'IteratorGetNext:28' shape=(None,) dtype=float32>, 'freq_of_wrong_words': <tf.Tensor 'IteratorGetNext:17' shape=(None,) dtype=float32>, 'sentiment_compound': <tf.Tensor 'IteratorGetNext:29' shape=(None,) dtype=float32>, 'sentiment_positive': <tf.Tensor 'IteratorGetNext:31' shape=(None,) dtype=float32>, 'sentiment_negative': <tf.Tensor 'IteratorGetNext:30' shape=(None,) dtype=float32>, 'num_of_grammar_errors': <tf.Tensor 'IteratorGetNext:22' shape=(None,) dtype=int64>, 'corrected_text': <tf.Tensor 'IteratorGetNext:4' shape=(None,) dtype=string>, 'num_of_short_forms': <tf.Tensor 'IteratorGetNext:23' shape=(None,) dtype=int64>, 'Incorrect_form_ratio': <tf.Tensor 'IteratorGetNext:1' shape=(None,) dtype=float32>, 'flesch_reading_ease': <tf.Tensor 'IteratorGetNext:7' shape=(None,) dtype=float32>, 'flesch_kincaid_grade': <tf.Tensor 'IteratorGetNext:6' shape=(None,) dtype=float32>, 'dale_chall_readability_score': <tf.Tensor 'IteratorGetNext:5' shape=(None,) dtype=float32>, 'text_standard': <tf.Tensor 'IteratorGetNext:33' shape=(None,) dtype=float32>, 'mcalpine_eflaw': <tf.Tensor 'IteratorGetNext:20' shape=(None,) dtype=float32>, 'number_of_diff_words': <tf.Tensor 'IteratorGetNext:24' shape=(None,) dtype=int64>, 'freq_diff_words': <tf.Tensor 'IteratorGetNext:8' shape=(None,) dtype=float32>, 'ttr': <tf.Tensor 'IteratorGetNext:34' shape=(None,) dtype=float32>, 'coherence_score': <tf.Tensor 'IteratorGetNext:3' shape=(None,) dtype=float32>, 'lexrank_avg_min_diff': <tf.Tensor 'IteratorGetNext:18' shape=(None,) dtype=float32>, 'lexrank_interquartile': <tf.Tensor 'IteratorGetNext:19' shape=(None,) dtype=float32>, 'freq_of_noun': <tf.Tensor 'IteratorGetNext:13' shape=(None,) dtype=float32>, 'freq_of_transition': <tf.Tensor 'IteratorGetNext:15' shape=(None,) dtype=float32>, 'freq_of_pronoun': <tf.Tensor 'IteratorGetNext:14' shape=(None,) dtype=float32>, 'noun_to_adj': <tf.Tensor 'IteratorGetNext:21' shape=(None,) dtype=float32>, 'verb_to_adv': <tf.Tensor 'IteratorGetNext:35' shape=(None,) dtype=float32>, 'phrase_diversity': <tf.Tensor 'IteratorGetNext:26' shape=(None,) dtype=float32>, 'vocabulary': <tf.Tensor 'IteratorGetNext:36' shape=(None,) dtype=float32>}. Consider rewriting this model with the Functional API.\n",
            "WARNING:tensorflow:Layers in a Sequential model should only have a single input tensor. Received: inputs={'number_of_words': <tf.Tensor 'IteratorGetNext:25' shape=(None,) dtype=int64>, 'stopwords_frequency': <tf.Tensor 'IteratorGetNext:32' shape=(None,) dtype=float32>, 'av_word_per_sen': <tf.Tensor 'IteratorGetNext:2' shape=(None,) dtype=float32>, 'punctuations': <tf.Tensor 'IteratorGetNext:27' shape=(None,) dtype=float32>, 'ARI': <tf.Tensor 'IteratorGetNext:0' shape=(None,) dtype=int64>, 'freq_of_verb': <tf.Tensor 'IteratorGetNext:16' shape=(None,) dtype=float32>, 'freq_of_adj': <tf.Tensor 'IteratorGetNext:9' shape=(None,) dtype=float32>, 'freq_of_adv': <tf.Tensor 'IteratorGetNext:10' shape=(None,) dtype=float32>, 'freq_of_distinct_adj': <tf.Tensor 'IteratorGetNext:11' shape=(None,) dtype=float32>, 'freq_of_distinct_adv': <tf.Tensor 'IteratorGetNext:12' shape=(None,) dtype=float32>, 'sentence_complexity': <tf.Tensor 'IteratorGetNext:28' shape=(None,) dtype=float32>, 'freq_of_wrong_words': <tf.Tensor 'IteratorGetNext:17' shape=(None,) dtype=float32>, 'sentiment_compound': <tf.Tensor 'IteratorGetNext:29' shape=(None,) dtype=float32>, 'sentiment_positive': <tf.Tensor 'IteratorGetNext:31' shape=(None,) dtype=float32>, 'sentiment_negative': <tf.Tensor 'IteratorGetNext:30' shape=(None,) dtype=float32>, 'num_of_grammar_errors': <tf.Tensor 'IteratorGetNext:22' shape=(None,) dtype=int64>, 'corrected_text': <tf.Tensor 'IteratorGetNext:4' shape=(None,) dtype=string>, 'num_of_short_forms': <tf.Tensor 'IteratorGetNext:23' shape=(None,) dtype=int64>, 'Incorrect_form_ratio': <tf.Tensor 'IteratorGetNext:1' shape=(None,) dtype=float32>, 'flesch_reading_ease': <tf.Tensor 'IteratorGetNext:7' shape=(None,) dtype=float32>, 'flesch_kincaid_grade': <tf.Tensor 'IteratorGetNext:6' shape=(None,) dtype=float32>, 'dale_chall_readability_score': <tf.Tensor 'IteratorGetNext:5' shape=(None,) dtype=float32>, 'text_standard': <tf.Tensor 'IteratorGetNext:33' shape=(None,) dtype=float32>, 'mcalpine_eflaw': <tf.Tensor 'IteratorGetNext:20' shape=(None,) dtype=float32>, 'number_of_diff_words': <tf.Tensor 'IteratorGetNext:24' shape=(None,) dtype=int64>, 'freq_diff_words': <tf.Tensor 'IteratorGetNext:8' shape=(None,) dtype=float32>, 'ttr': <tf.Tensor 'IteratorGetNext:34' shape=(None,) dtype=float32>, 'coherence_score': <tf.Tensor 'IteratorGetNext:3' shape=(None,) dtype=float32>, 'lexrank_avg_min_diff': <tf.Tensor 'IteratorGetNext:18' shape=(None,) dtype=float32>, 'lexrank_interquartile': <tf.Tensor 'IteratorGetNext:19' shape=(None,) dtype=float32>, 'freq_of_noun': <tf.Tensor 'IteratorGetNext:13' shape=(None,) dtype=float32>, 'freq_of_transition': <tf.Tensor 'IteratorGetNext:15' shape=(None,) dtype=float32>, 'freq_of_pronoun': <tf.Tensor 'IteratorGetNext:14' shape=(None,) dtype=float32>, 'noun_to_adj': <tf.Tensor 'IteratorGetNext:21' shape=(None,) dtype=float32>, 'verb_to_adv': <tf.Tensor 'IteratorGetNext:35' shape=(None,) dtype=float32>, 'phrase_diversity': <tf.Tensor 'IteratorGetNext:26' shape=(None,) dtype=float32>, 'vocabulary': <tf.Tensor 'IteratorGetNext:36' shape=(None,) dtype=float32>}. Consider rewriting this model with the Functional API.\n"
          ]
        },
        {
          "output_type": "stream",
          "name": "stdout",
          "text": [
            "\r 1/10 [==>...........................] - ETA: 8s - loss: 8425.1289 - mean_squared_error: 8425.1289 - accuracy: 0.0000e+00"
          ]
        },
        {
          "output_type": "stream",
          "name": "stderr",
          "text": [
            "WARNING:tensorflow:Layers in a Sequential model should only have a single input tensor. Received: inputs={'number_of_words': <tf.Tensor 'IteratorGetNext:25' shape=(None,) dtype=int64>, 'stopwords_frequency': <tf.Tensor 'IteratorGetNext:32' shape=(None,) dtype=float32>, 'av_word_per_sen': <tf.Tensor 'IteratorGetNext:2' shape=(None,) dtype=float32>, 'punctuations': <tf.Tensor 'IteratorGetNext:27' shape=(None,) dtype=float32>, 'ARI': <tf.Tensor 'IteratorGetNext:0' shape=(None,) dtype=int64>, 'freq_of_verb': <tf.Tensor 'IteratorGetNext:16' shape=(None,) dtype=float32>, 'freq_of_adj': <tf.Tensor 'IteratorGetNext:9' shape=(None,) dtype=float32>, 'freq_of_adv': <tf.Tensor 'IteratorGetNext:10' shape=(None,) dtype=float32>, 'freq_of_distinct_adj': <tf.Tensor 'IteratorGetNext:11' shape=(None,) dtype=float32>, 'freq_of_distinct_adv': <tf.Tensor 'IteratorGetNext:12' shape=(None,) dtype=float32>, 'sentence_complexity': <tf.Tensor 'IteratorGetNext:28' shape=(None,) dtype=float32>, 'freq_of_wrong_words': <tf.Tensor 'IteratorGetNext:17' shape=(None,) dtype=float32>, 'sentiment_compound': <tf.Tensor 'IteratorGetNext:29' shape=(None,) dtype=float32>, 'sentiment_positive': <tf.Tensor 'IteratorGetNext:31' shape=(None,) dtype=float32>, 'sentiment_negative': <tf.Tensor 'IteratorGetNext:30' shape=(None,) dtype=float32>, 'num_of_grammar_errors': <tf.Tensor 'IteratorGetNext:22' shape=(None,) dtype=int64>, 'corrected_text': <tf.Tensor 'IteratorGetNext:4' shape=(None,) dtype=string>, 'num_of_short_forms': <tf.Tensor 'IteratorGetNext:23' shape=(None,) dtype=int64>, 'Incorrect_form_ratio': <tf.Tensor 'IteratorGetNext:1' shape=(None,) dtype=float32>, 'flesch_reading_ease': <tf.Tensor 'IteratorGetNext:7' shape=(None,) dtype=float32>, 'flesch_kincaid_grade': <tf.Tensor 'IteratorGetNext:6' shape=(None,) dtype=float32>, 'dale_chall_readability_score': <tf.Tensor 'IteratorGetNext:5' shape=(None,) dtype=float32>, 'text_standard': <tf.Tensor 'IteratorGetNext:33' shape=(None,) dtype=float32>, 'mcalpine_eflaw': <tf.Tensor 'IteratorGetNext:20' shape=(None,) dtype=float32>, 'number_of_diff_words': <tf.Tensor 'IteratorGetNext:24' shape=(None,) dtype=int64>, 'freq_diff_words': <tf.Tensor 'IteratorGetNext:8' shape=(None,) dtype=float32>, 'ttr': <tf.Tensor 'IteratorGetNext:34' shape=(None,) dtype=float32>, 'coherence_score': <tf.Tensor 'IteratorGetNext:3' shape=(None,) dtype=float32>, 'lexrank_avg_min_diff': <tf.Tensor 'IteratorGetNext:18' shape=(None,) dtype=float32>, 'lexrank_interquartile': <tf.Tensor 'IteratorGetNext:19' shape=(None,) dtype=float32>, 'freq_of_noun': <tf.Tensor 'IteratorGetNext:13' shape=(None,) dtype=float32>, 'freq_of_transition': <tf.Tensor 'IteratorGetNext:15' shape=(None,) dtype=float32>, 'freq_of_pronoun': <tf.Tensor 'IteratorGetNext:14' shape=(None,) dtype=float32>, 'noun_to_adj': <tf.Tensor 'IteratorGetNext:21' shape=(None,) dtype=float32>, 'verb_to_adv': <tf.Tensor 'IteratorGetNext:35' shape=(None,) dtype=float32>, 'phrase_diversity': <tf.Tensor 'IteratorGetNext:26' shape=(None,) dtype=float32>, 'vocabulary': <tf.Tensor 'IteratorGetNext:36' shape=(None,) dtype=float32>}. Consider rewriting this model with the Functional API.\n"
          ]
        },
        {
          "output_type": "stream",
          "name": "stdout",
          "text": [
            "\b\b\b\b\b\b\b\b\b\b\b\b\b\b\b\b\b\b\b\b\b\b\b\b\b\b\b\b\b\b\b\b\b\b\b\b\b\b\b\b\b\b\b\b\b\b\b\b\b\b\b\b\b\b\b\b\b\b\b\b\b\b\b\b\b\b\b\b\b\b\b\b\b\b\b\b\b\b\b\b\b\b\b\b\b\b\b\b\b\b\b\b\b\b\b\b\b\b\b\b\b\b\b\b\b\b\b\b\b\b\b\b\b\b\b\b\b\b\b\b\b\r10/10 [==============================] - 1s 64ms/step - loss: 2637.1667 - mean_squared_error: 2637.1667 - accuracy: 7.9936e-04 - val_loss: 644.4424 - val_mean_squared_error: 644.4424 - val_accuracy: 0.0032\n",
            "Epoch 2/30\n",
            "10/10 [==============================] - 0s 9ms/step - loss: 316.8473 - mean_squared_error: 316.8473 - accuracy: 7.9936e-04 - val_loss: 277.6530 - val_mean_squared_error: 277.6530 - val_accuracy: 0.0032\n",
            "Epoch 3/30\n",
            "10/10 [==============================] - 0s 9ms/step - loss: 147.8104 - mean_squared_error: 147.8104 - accuracy: 7.9936e-04 - val_loss: 119.0141 - val_mean_squared_error: 119.0141 - val_accuracy: 0.0032\n",
            "Epoch 4/30\n",
            "10/10 [==============================] - 0s 9ms/step - loss: 69.5086 - mean_squared_error: 69.5086 - accuracy: 7.9936e-04 - val_loss: 46.0575 - val_mean_squared_error: 46.0575 - val_accuracy: 0.0032\n",
            "Epoch 5/30\n",
            "10/10 [==============================] - 0s 9ms/step - loss: 36.1979 - mean_squared_error: 36.1979 - accuracy: 7.9936e-04 - val_loss: 25.2726 - val_mean_squared_error: 25.2726 - val_accuracy: 0.0032\n",
            "Epoch 6/30\n",
            "10/10 [==============================] - 0s 9ms/step - loss: 25.8192 - mean_squared_error: 25.8192 - accuracy: 7.9936e-04 - val_loss: 45.4773 - val_mean_squared_error: 45.4773 - val_accuracy: 0.0032\n",
            "Epoch 7/30\n",
            "10/10 [==============================] - 0s 9ms/step - loss: 29.5988 - mean_squared_error: 29.5988 - accuracy: 7.9936e-04 - val_loss: 19.1073 - val_mean_squared_error: 19.1073 - val_accuracy: 0.0032\n",
            "Epoch 8/30\n",
            "10/10 [==============================] - 0s 9ms/step - loss: 20.2369 - mean_squared_error: 20.2369 - accuracy: 7.9936e-04 - val_loss: 33.4811 - val_mean_squared_error: 33.4811 - val_accuracy: 0.0032\n",
            "Epoch 9/30\n",
            "10/10 [==============================] - 0s 9ms/step - loss: 16.8997 - mean_squared_error: 16.8997 - accuracy: 7.9936e-04 - val_loss: 18.4789 - val_mean_squared_error: 18.4789 - val_accuracy: 0.0032\n",
            "Epoch 10/30\n",
            "10/10 [==============================] - 0s 9ms/step - loss: 23.7509 - mean_squared_error: 23.7509 - accuracy: 3.9968e-04 - val_loss: 9.2623 - val_mean_squared_error: 9.2623 - val_accuracy: 0.0032\n",
            "Epoch 11/30\n",
            "10/10 [==============================] - 0s 9ms/step - loss: 15.7866 - mean_squared_error: 15.7866 - accuracy: 7.9936e-04 - val_loss: 23.3154 - val_mean_squared_error: 23.3154 - val_accuracy: 0.0016\n",
            "Epoch 12/30\n",
            "10/10 [==============================] - 0s 9ms/step - loss: 17.3933 - mean_squared_error: 17.3933 - accuracy: 7.9936e-04 - val_loss: 33.8718 - val_mean_squared_error: 33.8718 - val_accuracy: 0.0000e+00\n",
            "Epoch 13/30\n",
            "10/10 [==============================] - 0s 8ms/step - loss: 17.2786 - mean_squared_error: 17.2786 - accuracy: 3.9968e-04 - val_loss: 20.9687 - val_mean_squared_error: 20.9687 - val_accuracy: 0.0000e+00\n",
            "Epoch 14/30\n",
            "10/10 [==============================] - 0s 8ms/step - loss: 15.2823 - mean_squared_error: 15.2823 - accuracy: 7.9936e-04 - val_loss: 17.0594 - val_mean_squared_error: 17.0594 - val_accuracy: 0.0000e+00\n",
            "Epoch 15/30\n",
            "10/10 [==============================] - 0s 9ms/step - loss: 13.8143 - mean_squared_error: 13.8143 - accuracy: 0.0012 - val_loss: 21.2611 - val_mean_squared_error: 21.2611 - val_accuracy: 0.0000e+00\n",
            "Epoch 16/30\n",
            "10/10 [==============================] - 0s 9ms/step - loss: 15.4952 - mean_squared_error: 15.4952 - accuracy: 3.9968e-04 - val_loss: 10.3742 - val_mean_squared_error: 10.3742 - val_accuracy: 0.0016\n",
            "Epoch 17/30\n",
            "10/10 [==============================] - 0s 9ms/step - loss: 18.6529 - mean_squared_error: 18.6529 - accuracy: 7.9936e-04 - val_loss: 7.8234 - val_mean_squared_error: 7.8234 - val_accuracy: 0.0016\n",
            "Epoch 18/30\n",
            "10/10 [==============================] - 0s 9ms/step - loss: 12.8582 - mean_squared_error: 12.8582 - accuracy: 0.0012 - val_loss: 26.4382 - val_mean_squared_error: 26.4382 - val_accuracy: 0.0000e+00\n",
            "Epoch 19/30\n",
            "10/10 [==============================] - 0s 9ms/step - loss: 14.8878 - mean_squared_error: 14.8878 - accuracy: 3.9968e-04 - val_loss: 11.9553 - val_mean_squared_error: 11.9553 - val_accuracy: 0.0000e+00\n",
            "Epoch 20/30\n",
            "10/10 [==============================] - 0s 9ms/step - loss: 15.2302 - mean_squared_error: 15.2302 - accuracy: 7.9936e-04 - val_loss: 12.7831 - val_mean_squared_error: 12.7831 - val_accuracy: 0.0000e+00\n",
            "Epoch 21/30\n",
            "10/10 [==============================] - 0s 9ms/step - loss: 15.5254 - mean_squared_error: 15.5254 - accuracy: 3.9968e-04 - val_loss: 20.2997 - val_mean_squared_error: 20.2997 - val_accuracy: 0.0000e+00\n",
            "Epoch 22/30\n",
            "10/10 [==============================] - 0s 9ms/step - loss: 11.1492 - mean_squared_error: 11.1492 - accuracy: 0.0012 - val_loss: 15.3196 - val_mean_squared_error: 15.3196 - val_accuracy: 0.0000e+00\n",
            "Epoch 23/30\n",
            "10/10 [==============================] - 0s 9ms/step - loss: 15.7897 - mean_squared_error: 15.7897 - accuracy: 7.9936e-04 - val_loss: 17.7031 - val_mean_squared_error: 17.7031 - val_accuracy: 0.0000e+00\n",
            "Epoch 24/30\n",
            "10/10 [==============================] - 0s 8ms/step - loss: 14.0045 - mean_squared_error: 14.0045 - accuracy: 7.9936e-04 - val_loss: 5.9048 - val_mean_squared_error: 5.9048 - val_accuracy: 0.0000e+00\n",
            "Epoch 25/30\n",
            "10/10 [==============================] - 0s 9ms/step - loss: 16.3269 - mean_squared_error: 16.3269 - accuracy: 3.9968e-04 - val_loss: 11.4739 - val_mean_squared_error: 11.4739 - val_accuracy: 0.0000e+00\n",
            "Epoch 26/30\n",
            "10/10 [==============================] - 0s 9ms/step - loss: 11.9574 - mean_squared_error: 11.9574 - accuracy: 0.0012 - val_loss: 15.8350 - val_mean_squared_error: 15.8350 - val_accuracy: 0.0000e+00\n",
            "Epoch 27/30\n",
            "10/10 [==============================] - 0s 9ms/step - loss: 16.8542 - mean_squared_error: 16.8542 - accuracy: 7.9936e-04 - val_loss: 10.4315 - val_mean_squared_error: 10.4315 - val_accuracy: 0.0000e+00\n",
            "Epoch 28/30\n",
            "10/10 [==============================] - 0s 9ms/step - loss: 8.0858 - mean_squared_error: 8.0858 - accuracy: 7.9936e-04 - val_loss: 21.9116 - val_mean_squared_error: 21.9116 - val_accuracy: 0.0000e+00\n",
            "Epoch 29/30\n",
            "10/10 [==============================] - 0s 9ms/step - loss: 16.1407 - mean_squared_error: 16.1407 - accuracy: 3.9968e-04 - val_loss: 9.1969 - val_mean_squared_error: 9.1969 - val_accuracy: 0.0000e+00\n",
            "Epoch 30/30\n",
            "10/10 [==============================] - 0s 10ms/step - loss: 13.3486 - mean_squared_error: 13.3486 - accuracy: 0.0012 - val_loss: 12.3467 - val_mean_squared_error: 12.3467 - val_accuracy: 0.0000e+00\n"
          ]
        },
        {
          "output_type": "display_data",
          "data": {
            "text/plain": [
              "<Figure size 720x576 with 1 Axes>"
            ],
            "image/png": "[encoded data removed]"
          },
          "metadata": {
            "needs_background": "light"
          }
        }
      ]
    },
    {
      "cell_type": "code",
      "source": [
        "test_data.pop(\"corrected_text\")\n",
        "test_features = {name:np.array(value) for name, value in test_data.items()}\n",
        "test_features.pop(\"vocabulary\")\n",
        "test_label = np.array(test_features.pop(label_name))\n",
        "prediction_simple1 = model_simple1.predict(test_features)\n",
        "pre_list = []\n",
        "for value in prediction_simple1:\n",
        "  pre_list.append(value[0])\n",
        "pre_list_2 = result(pre_list)"
      ],
      "metadata": {
        "colab": {
          "base_uri": "https://localhost:8080/"
        },
        "id": "nKMePkVUVCtb",
        "outputId": "118ce0bc-918b-4d35-f228-61dabc79d801"
      },
      "id": "nKMePkVUVCtb",
      "execution_count": null,
      "outputs": [
        {
          "output_type": "stream",
          "name": "stdout",
          "text": [
            "25/25 [==============================] - 0s 3ms/step\n"
          ]
        }
      ]
    },
    {
      "cell_type": "code",
      "source": [
        "co_accuracy = accuracy_range(pre_list, list(test_data['cohesion']))\n",
        "co_accuracy"
      ],
      "metadata": {
        "colab": {
          "base_uri": "https://localhost:8080/"
        },
        "id": "MJ1_SdhCXELJ",
        "outputId": "6593b6f7-a327-44df-9679-3ec84a8f517d"
      },
      "id": "MJ1_SdhCXELJ",
      "execution_count": null,
      "outputs": [
        {
          "output_type": "execute_result",
          "data": {
            "text/plain": [
              "0.01532567049808429"
            ]
          },
          "metadata": {},
          "execution_count": 108
        }
      ]
    },
    {
      "cell_type": "code",
      "source": [
        "co_accuracy2 = accuracy(list(test_data['cohesion']), pre_list_2)\n",
        "co_accuracy2"
      ],
      "metadata": {
        "colab": {
          "base_uri": "https://localhost:8080/"
        },
        "id": "mIVKg0IwXauJ",
        "outputId": "dbcea53f-3697-4c5e-b1f5-51d75e31e461"
      },
      "id": "mIVKg0IwXauJ",
      "execution_count": null,
      "outputs": [
        {
          "output_type": "execute_result",
          "data": {
            "text/plain": [
              "0.01532567049808429"
            ]
          },
          "metadata": {},
          "execution_count": 110
        }
      ]
    },
    {
      "cell_type": "code",
      "source": [
        "error_rate1 = error_rate(list(test_data['cohesion']), pre_list)\n",
        "error_rate1"
      ],
      "metadata": {
        "colab": {
          "base_uri": "https://localhost:8080/"
        },
        "id": "PDU21A84X2ME",
        "outputId": "cff64f5e-36e5-4e60-e712-ec50baa4b76f"
      },
      "id": "PDU21A84X2ME",
      "execution_count": null,
      "outputs": [
        {
          "output_type": "execute_result",
          "data": {
            "text/plain": [
              "3.104546804176132"
            ]
          },
          "metadata": {},
          "execution_count": 111
        }
      ]
    },
    {
      "cell_type": "code",
      "source": [
        "learning_rate = 0.01\n",
        "number_epochs = 30\n",
        "batch_size = 256\n",
        "label_name = \"vocabulary\"\n",
        "\n",
        "# Establish the model's topography.\n",
        "model_simple = create_model_simple(learning_rate, my_feature_layer)\n",
        "\n",
        "# Train the model on the normalized training set.\n",
        "mse_train_simple, mse_val_simple = train_model(model_simple, train_data, number_epochs, batch_size, label_name)\n",
        "#train_history = train_model(model_lr, train_data, number_epochs, batch_size, label_name)\n",
        "plot_the_loss_curve(mse_train_simple, mse_val_simple)"
      ],
      "metadata": {
        "colab": {
          "base_uri": "https://localhost:8080/",
          "height": 1000
        },
        "id": "NUkfr7qtze34",
        "outputId": "8fd7b8ed-d4bc-4e86-c3c4-1eae12628702"
      },
      "id": "NUkfr7qtze34",
      "execution_count": null,
      "outputs": [
        {
          "output_type": "stream",
          "name": "stderr",
          "text": [
            "/usr/local/lib/python3.7/dist-packages/keras/optimizers/optimizer_v2/rmsprop.py:135: UserWarning: The `lr` argument is deprecated, use `learning_rate` instead.\n",
            "  super(RMSprop, self).__init__(name, **kwargs)\n"
          ]
        },
        {
          "output_type": "stream",
          "name": "stdout",
          "text": [
            "Epoch 1/30\n"
          ]
        },
        {
          "output_type": "stream",
          "name": "stderr",
          "text": [
            "WARNING:tensorflow:Layers in a Sequential model should only have a single input tensor. Received: inputs={'number_of_words': <tf.Tensor 'IteratorGetNext:26' shape=(None,) dtype=int64>, 'stopwords_frequency': <tf.Tensor 'IteratorGetNext:33' shape=(None,) dtype=float32>, 'av_word_per_sen': <tf.Tensor 'IteratorGetNext:2' shape=(None,) dtype=float32>, 'punctuations': <tf.Tensor 'IteratorGetNext:28' shape=(None,) dtype=float32>, 'ARI': <tf.Tensor 'IteratorGetNext:0' shape=(None,) dtype=int64>, 'freq_of_verb': <tf.Tensor 'IteratorGetNext:17' shape=(None,) dtype=float32>, 'freq_of_adj': <tf.Tensor 'IteratorGetNext:10' shape=(None,) dtype=float32>, 'freq_of_adv': <tf.Tensor 'IteratorGetNext:11' shape=(None,) dtype=float32>, 'freq_of_distinct_adj': <tf.Tensor 'IteratorGetNext:12' shape=(None,) dtype=float32>, 'freq_of_distinct_adv': <tf.Tensor 'IteratorGetNext:13' shape=(None,) dtype=float32>, 'sentence_complexity': <tf.Tensor 'IteratorGetNext:29' shape=(None,) dtype=float32>, 'freq_of_wrong_words': <tf.Tensor 'IteratorGetNext:18' shape=(None,) dtype=float32>, 'sentiment_compound': <tf.Tensor 'IteratorGetNext:30' shape=(None,) dtype=float32>, 'sentiment_positive': <tf.Tensor 'IteratorGetNext:32' shape=(None,) dtype=float32>, 'sentiment_negative': <tf.Tensor 'IteratorGetNext:31' shape=(None,) dtype=float32>, 'num_of_grammar_errors': <tf.Tensor 'IteratorGetNext:23' shape=(None,) dtype=int64>, 'corrected_text': <tf.Tensor 'IteratorGetNext:5' shape=(None,) dtype=string>, 'num_of_short_forms': <tf.Tensor 'IteratorGetNext:24' shape=(None,) dtype=int64>, 'Incorrect_form_ratio': <tf.Tensor 'IteratorGetNext:1' shape=(None,) dtype=float32>, 'flesch_reading_ease': <tf.Tensor 'IteratorGetNext:8' shape=(None,) dtype=float32>, 'flesch_kincaid_grade': <tf.Tensor 'IteratorGetNext:7' shape=(None,) dtype=float32>, 'dale_chall_readability_score': <tf.Tensor 'IteratorGetNext:6' shape=(None,) dtype=float32>, 'text_standard': <tf.Tensor 'IteratorGetNext:34' shape=(None,) dtype=float32>, 'mcalpine_eflaw': <tf.Tensor 'IteratorGetNext:21' shape=(None,) dtype=float32>, 'number_of_diff_words': <tf.Tensor 'IteratorGetNext:25' shape=(None,) dtype=int64>, 'freq_diff_words': <tf.Tensor 'IteratorGetNext:9' shape=(None,) dtype=float32>, 'ttr': <tf.Tensor 'IteratorGetNext:35' shape=(None,) dtype=float32>, 'coherence_score': <tf.Tensor 'IteratorGetNext:3' shape=(None,) dtype=float32>, 'lexrank_avg_min_diff': <tf.Tensor 'IteratorGetNext:19' shape=(None,) dtype=float32>, 'lexrank_interquartile': <tf.Tensor 'IteratorGetNext:20' shape=(None,) dtype=float32>, 'freq_of_noun': <tf.Tensor 'IteratorGetNext:14' shape=(None,) dtype=float32>, 'freq_of_transition': <tf.Tensor 'IteratorGetNext:16' shape=(None,) dtype=float32>, 'freq_of_pronoun': <tf.Tensor 'IteratorGetNext:15' shape=(None,) dtype=float32>, 'noun_to_adj': <tf.Tensor 'IteratorGetNext:22' shape=(None,) dtype=float32>, 'verb_to_adv': <tf.Tensor 'IteratorGetNext:36' shape=(None,) dtype=float32>, 'phrase_diversity': <tf.Tensor 'IteratorGetNext:27' shape=(None,) dtype=float32>, 'cohesion': <tf.Tensor 'IteratorGetNext:4' shape=(None,) dtype=float32>}. Consider rewriting this model with the Functional API.\n",
            "WARNING:tensorflow:Layers in a Sequential model should only have a single input tensor. Received: inputs={'number_of_words': <tf.Tensor 'IteratorGetNext:26' shape=(None,) dtype=int64>, 'stopwords_frequency': <tf.Tensor 'IteratorGetNext:33' shape=(None,) dtype=float32>, 'av_word_per_sen': <tf.Tensor 'IteratorGetNext:2' shape=(None,) dtype=float32>, 'punctuations': <tf.Tensor 'IteratorGetNext:28' shape=(None,) dtype=float32>, 'ARI': <tf.Tensor 'IteratorGetNext:0' shape=(None,) dtype=int64>, 'freq_of_verb': <tf.Tensor 'IteratorGetNext:17' shape=(None,) dtype=float32>, 'freq_of_adj': <tf.Tensor 'IteratorGetNext:10' shape=(None,) dtype=float32>, 'freq_of_adv': <tf.Tensor 'IteratorGetNext:11' shape=(None,) dtype=float32>, 'freq_of_distinct_adj': <tf.Tensor 'IteratorGetNext:12' shape=(None,) dtype=float32>, 'freq_of_distinct_adv': <tf.Tensor 'IteratorGetNext:13' shape=(None,) dtype=float32>, 'sentence_complexity': <tf.Tensor 'IteratorGetNext:29' shape=(None,) dtype=float32>, 'freq_of_wrong_words': <tf.Tensor 'IteratorGetNext:18' shape=(None,) dtype=float32>, 'sentiment_compound': <tf.Tensor 'IteratorGetNext:30' shape=(None,) dtype=float32>, 'sentiment_positive': <tf.Tensor 'IteratorGetNext:32' shape=(None,) dtype=float32>, 'sentiment_negative': <tf.Tensor 'IteratorGetNext:31' shape=(None,) dtype=float32>, 'num_of_grammar_errors': <tf.Tensor 'IteratorGetNext:23' shape=(None,) dtype=int64>, 'corrected_text': <tf.Tensor 'IteratorGetNext:5' shape=(None,) dtype=string>, 'num_of_short_forms': <tf.Tensor 'IteratorGetNext:24' shape=(None,) dtype=int64>, 'Incorrect_form_ratio': <tf.Tensor 'IteratorGetNext:1' shape=(None,) dtype=float32>, 'flesch_reading_ease': <tf.Tensor 'IteratorGetNext:8' shape=(None,) dtype=float32>, 'flesch_kincaid_grade': <tf.Tensor 'IteratorGetNext:7' shape=(None,) dtype=float32>, 'dale_chall_readability_score': <tf.Tensor 'IteratorGetNext:6' shape=(None,) dtype=float32>, 'text_standard': <tf.Tensor 'IteratorGetNext:34' shape=(None,) dtype=float32>, 'mcalpine_eflaw': <tf.Tensor 'IteratorGetNext:21' shape=(None,) dtype=float32>, 'number_of_diff_words': <tf.Tensor 'IteratorGetNext:25' shape=(None,) dtype=int64>, 'freq_diff_words': <tf.Tensor 'IteratorGetNext:9' shape=(None,) dtype=float32>, 'ttr': <tf.Tensor 'IteratorGetNext:35' shape=(None,) dtype=float32>, 'coherence_score': <tf.Tensor 'IteratorGetNext:3' shape=(None,) dtype=float32>, 'lexrank_avg_min_diff': <tf.Tensor 'IteratorGetNext:19' shape=(None,) dtype=float32>, 'lexrank_interquartile': <tf.Tensor 'IteratorGetNext:20' shape=(None,) dtype=float32>, 'freq_of_noun': <tf.Tensor 'IteratorGetNext:14' shape=(None,) dtype=float32>, 'freq_of_transition': <tf.Tensor 'IteratorGetNext:16' shape=(None,) dtype=float32>, 'freq_of_pronoun': <tf.Tensor 'IteratorGetNext:15' shape=(None,) dtype=float32>, 'noun_to_adj': <tf.Tensor 'IteratorGetNext:22' shape=(None,) dtype=float32>, 'verb_to_adv': <tf.Tensor 'IteratorGetNext:36' shape=(None,) dtype=float32>, 'phrase_diversity': <tf.Tensor 'IteratorGetNext:27' shape=(None,) dtype=float32>, 'cohesion': <tf.Tensor 'IteratorGetNext:4' shape=(None,) dtype=float32>}. Consider rewriting this model with the Functional API.\n"
          ]
        },
        {
          "output_type": "stream",
          "name": "stdout",
          "text": [
            "\r 1/10 [==>...........................] - ETA: 11s - loss: 8159.3252 - mean_squared_error: 8159.3252 - accuracy: 0.0000e+00"
          ]
        },
        {
          "output_type": "stream",
          "name": "stderr",
          "text": [
            "WARNING:tensorflow:Layers in a Sequential model should only have a single input tensor. Received: inputs={'number_of_words': <tf.Tensor 'IteratorGetNext:26' shape=(None,) dtype=int64>, 'stopwords_frequency': <tf.Tensor 'IteratorGetNext:33' shape=(None,) dtype=float32>, 'av_word_per_sen': <tf.Tensor 'IteratorGetNext:2' shape=(None,) dtype=float32>, 'punctuations': <tf.Tensor 'IteratorGetNext:28' shape=(None,) dtype=float32>, 'ARI': <tf.Tensor 'IteratorGetNext:0' shape=(None,) dtype=int64>, 'freq_of_verb': <tf.Tensor 'IteratorGetNext:17' shape=(None,) dtype=float32>, 'freq_of_adj': <tf.Tensor 'IteratorGetNext:10' shape=(None,) dtype=float32>, 'freq_of_adv': <tf.Tensor 'IteratorGetNext:11' shape=(None,) dtype=float32>, 'freq_of_distinct_adj': <tf.Tensor 'IteratorGetNext:12' shape=(None,) dtype=float32>, 'freq_of_distinct_adv': <tf.Tensor 'IteratorGetNext:13' shape=(None,) dtype=float32>, 'sentence_complexity': <tf.Tensor 'IteratorGetNext:29' shape=(None,) dtype=float32>, 'freq_of_wrong_words': <tf.Tensor 'IteratorGetNext:18' shape=(None,) dtype=float32>, 'sentiment_compound': <tf.Tensor 'IteratorGetNext:30' shape=(None,) dtype=float32>, 'sentiment_positive': <tf.Tensor 'IteratorGetNext:32' shape=(None,) dtype=float32>, 'sentiment_negative': <tf.Tensor 'IteratorGetNext:31' shape=(None,) dtype=float32>, 'num_of_grammar_errors': <tf.Tensor 'IteratorGetNext:23' shape=(None,) dtype=int64>, 'corrected_text': <tf.Tensor 'IteratorGetNext:5' shape=(None,) dtype=string>, 'num_of_short_forms': <tf.Tensor 'IteratorGetNext:24' shape=(None,) dtype=int64>, 'Incorrect_form_ratio': <tf.Tensor 'IteratorGetNext:1' shape=(None,) dtype=float32>, 'flesch_reading_ease': <tf.Tensor 'IteratorGetNext:8' shape=(None,) dtype=float32>, 'flesch_kincaid_grade': <tf.Tensor 'IteratorGetNext:7' shape=(None,) dtype=float32>, 'dale_chall_readability_score': <tf.Tensor 'IteratorGetNext:6' shape=(None,) dtype=float32>, 'text_standard': <tf.Tensor 'IteratorGetNext:34' shape=(None,) dtype=float32>, 'mcalpine_eflaw': <tf.Tensor 'IteratorGetNext:21' shape=(None,) dtype=float32>, 'number_of_diff_words': <tf.Tensor 'IteratorGetNext:25' shape=(None,) dtype=int64>, 'freq_diff_words': <tf.Tensor 'IteratorGetNext:9' shape=(None,) dtype=float32>, 'ttr': <tf.Tensor 'IteratorGetNext:35' shape=(None,) dtype=float32>, 'coherence_score': <tf.Tensor 'IteratorGetNext:3' shape=(None,) dtype=float32>, 'lexrank_avg_min_diff': <tf.Tensor 'IteratorGetNext:19' shape=(None,) dtype=float32>, 'lexrank_interquartile': <tf.Tensor 'IteratorGetNext:20' shape=(None,) dtype=float32>, 'freq_of_noun': <tf.Tensor 'IteratorGetNext:14' shape=(None,) dtype=float32>, 'freq_of_transition': <tf.Tensor 'IteratorGetNext:16' shape=(None,) dtype=float32>, 'freq_of_pronoun': <tf.Tensor 'IteratorGetNext:15' shape=(None,) dtype=float32>, 'noun_to_adj': <tf.Tensor 'IteratorGetNext:22' shape=(None,) dtype=float32>, 'verb_to_adv': <tf.Tensor 'IteratorGetNext:36' shape=(None,) dtype=float32>, 'phrase_diversity': <tf.Tensor 'IteratorGetNext:27' shape=(None,) dtype=float32>, 'cohesion': <tf.Tensor 'IteratorGetNext:4' shape=(None,) dtype=float32>}. Consider rewriting this model with the Functional API.\n"
          ]
        },
        {
          "output_type": "stream",
          "name": "stdout",
          "text": [
            "\b\b\b\b\b\b\b\b\b\b\b\b\b\b\b\b\b\b\b\b\b\b\b\b\b\b\b\b\b\b\b\b\b\b\b\b\b\b\b\b\b\b\b\b\b\b\b\b\b\b\b\b\b\b\b\b\b\b\b\b\b\b\b\b\b\b\b\b\b\b\b\b\b\b\b\b\b\b\b\b\b\b\b\b\b\b\b\b\b\b\b\b\b\b\b\b\b\b\b\b\b\b\b\b\b\b\b\b\b\b\b\b\b\b\b\b\b\b\b\b\b\b\r10/10 [==============================] - 2s 69ms/step - loss: 2179.2454 - mean_squared_error: 2179.2454 - accuracy: 0.0000e+00 - val_loss: 178.9626 - val_mean_squared_error: 178.9626 - val_accuracy: 0.0000e+00\n",
            "Epoch 2/30\n",
            "10/10 [==============================] - 0s 9ms/step - loss: 109.1722 - mean_squared_error: 109.1722 - accuracy: 0.0000e+00 - val_loss: 81.3869 - val_mean_squared_error: 81.3869 - val_accuracy: 0.0000e+00\n",
            "Epoch 3/30\n",
            "10/10 [==============================] - 0s 9ms/step - loss: 76.2715 - mean_squared_error: 76.2715 - accuracy: 0.0000e+00 - val_loss: 68.2270 - val_mean_squared_error: 68.2270 - val_accuracy: 0.0000e+00\n",
            "Epoch 4/30\n",
            "10/10 [==============================] - 0s 9ms/step - loss: 60.7689 - mean_squared_error: 60.7689 - accuracy: 0.0000e+00 - val_loss: 51.5881 - val_mean_squared_error: 51.5881 - val_accuracy: 0.0000e+00\n",
            "Epoch 5/30\n",
            "10/10 [==============================] - 0s 9ms/step - loss: 43.4995 - mean_squared_error: 43.4995 - accuracy: 0.0000e+00 - val_loss: 40.9764 - val_mean_squared_error: 40.9764 - val_accuracy: 0.0000e+00\n",
            "Epoch 6/30\n",
            "10/10 [==============================] - 0s 9ms/step - loss: 29.2103 - mean_squared_error: 29.2103 - accuracy: 0.0000e+00 - val_loss: 28.7054 - val_mean_squared_error: 28.7054 - val_accuracy: 0.0000e+00\n",
            "Epoch 7/30\n",
            "10/10 [==============================] - 0s 9ms/step - loss: 36.0714 - mean_squared_error: 36.0714 - accuracy: 0.0000e+00 - val_loss: 38.2921 - val_mean_squared_error: 38.2921 - val_accuracy: 0.0000e+00\n",
            "Epoch 8/30\n",
            "10/10 [==============================] - 0s 9ms/step - loss: 20.6864 - mean_squared_error: 20.6864 - accuracy: 0.0000e+00 - val_loss: 18.2656 - val_mean_squared_error: 18.2656 - val_accuracy: 0.0000e+00\n",
            "Epoch 9/30\n",
            "10/10 [==============================] - 0s 9ms/step - loss: 24.8710 - mean_squared_error: 24.8710 - accuracy: 0.0000e+00 - val_loss: 9.7046 - val_mean_squared_error: 9.7046 - val_accuracy: 0.0000e+00\n",
            "Epoch 10/30\n",
            "10/10 [==============================] - 0s 9ms/step - loss: 12.8231 - mean_squared_error: 12.8231 - accuracy: 0.0000e+00 - val_loss: 27.4573 - val_mean_squared_error: 27.4573 - val_accuracy: 0.0000e+00\n",
            "Epoch 11/30\n",
            "10/10 [==============================] - 0s 9ms/step - loss: 18.5921 - mean_squared_error: 18.5921 - accuracy: 0.0000e+00 - val_loss: 10.8834 - val_mean_squared_error: 10.8834 - val_accuracy: 0.0000e+00\n",
            "Epoch 12/30\n",
            "10/10 [==============================] - 0s 9ms/step - loss: 16.4114 - mean_squared_error: 16.4114 - accuracy: 0.0000e+00 - val_loss: 15.2408 - val_mean_squared_error: 15.2408 - val_accuracy: 0.0000e+00\n",
            "Epoch 13/30\n",
            "10/10 [==============================] - 0s 10ms/step - loss: 13.0061 - mean_squared_error: 13.0061 - accuracy: 0.0000e+00 - val_loss: 23.7642 - val_mean_squared_error: 23.7642 - val_accuracy: 0.0000e+00\n",
            "Epoch 14/30\n",
            "10/10 [==============================] - 0s 11ms/step - loss: 14.1414 - mean_squared_error: 14.1414 - accuracy: 0.0000e+00 - val_loss: 13.8672 - val_mean_squared_error: 13.8672 - val_accuracy: 0.0000e+00\n",
            "Epoch 15/30\n",
            "10/10 [==============================] - 0s 10ms/step - loss: 15.6516 - mean_squared_error: 15.6516 - accuracy: 0.0000e+00 - val_loss: 13.1161 - val_mean_squared_error: 13.1161 - val_accuracy: 0.0000e+00\n",
            "Epoch 16/30\n",
            "10/10 [==============================] - 0s 9ms/step - loss: 16.3064 - mean_squared_error: 16.3064 - accuracy: 0.0000e+00 - val_loss: 14.3472 - val_mean_squared_error: 14.3472 - val_accuracy: 0.0000e+00\n",
            "Epoch 17/30\n",
            "10/10 [==============================] - 0s 9ms/step - loss: 11.9184 - mean_squared_error: 11.9184 - accuracy: 0.0000e+00 - val_loss: 16.9826 - val_mean_squared_error: 16.9826 - val_accuracy: 0.0000e+00\n",
            "Epoch 18/30\n",
            "10/10 [==============================] - 0s 9ms/step - loss: 15.9787 - mean_squared_error: 15.9787 - accuracy: 0.0000e+00 - val_loss: 12.6923 - val_mean_squared_error: 12.6923 - val_accuracy: 0.0000e+00\n",
            "Epoch 19/30\n",
            "10/10 [==============================] - 0s 9ms/step - loss: 12.0003 - mean_squared_error: 12.0003 - accuracy: 0.0000e+00 - val_loss: 18.2497 - val_mean_squared_error: 18.2497 - val_accuracy: 0.0000e+00\n",
            "Epoch 20/30\n",
            "10/10 [==============================] - 0s 9ms/step - loss: 12.9397 - mean_squared_error: 12.9397 - accuracy: 0.0000e+00 - val_loss: 9.7280 - val_mean_squared_error: 9.7280 - val_accuracy: 0.0000e+00\n",
            "Epoch 21/30\n",
            "10/10 [==============================] - 0s 10ms/step - loss: 15.2019 - mean_squared_error: 15.2019 - accuracy: 0.0000e+00 - val_loss: 7.1703 - val_mean_squared_error: 7.1703 - val_accuracy: 0.0000e+00\n",
            "Epoch 22/30\n",
            "10/10 [==============================] - 0s 9ms/step - loss: 15.1382 - mean_squared_error: 15.1382 - accuracy: 0.0000e+00 - val_loss: 10.2057 - val_mean_squared_error: 10.2057 - val_accuracy: 0.0000e+00\n",
            "Epoch 23/30\n",
            "10/10 [==============================] - 0s 9ms/step - loss: 11.1407 - mean_squared_error: 11.1407 - accuracy: 0.0000e+00 - val_loss: 31.8824 - val_mean_squared_error: 31.8824 - val_accuracy: 0.0000e+00\n",
            "Epoch 24/30\n",
            "10/10 [==============================] - 0s 9ms/step - loss: 12.2505 - mean_squared_error: 12.2505 - accuracy: 0.0000e+00 - val_loss: 4.8265 - val_mean_squared_error: 4.8265 - val_accuracy: 0.0000e+00\n",
            "Epoch 25/30\n",
            "10/10 [==============================] - 0s 8ms/step - loss: 18.5591 - mean_squared_error: 18.5591 - accuracy: 0.0000e+00 - val_loss: 8.4200 - val_mean_squared_error: 8.4200 - val_accuracy: 0.0000e+00\n",
            "Epoch 26/30\n",
            "10/10 [==============================] - 0s 9ms/step - loss: 8.8235 - mean_squared_error: 8.8235 - accuracy: 0.0000e+00 - val_loss: 28.0674 - val_mean_squared_error: 28.0674 - val_accuracy: 0.0000e+00\n",
            "Epoch 27/30\n",
            "10/10 [==============================] - 0s 9ms/step - loss: 12.9489 - mean_squared_error: 12.9489 - accuracy: 0.0000e+00 - val_loss: 24.8385 - val_mean_squared_error: 24.8385 - val_accuracy: 0.0000e+00\n",
            "Epoch 28/30\n",
            "10/10 [==============================] - 0s 9ms/step - loss: 14.1663 - mean_squared_error: 14.1663 - accuracy: 0.0000e+00 - val_loss: 16.9951 - val_mean_squared_error: 16.9951 - val_accuracy: 0.0000e+00\n",
            "Epoch 29/30\n",
            "10/10 [==============================] - 0s 9ms/step - loss: 13.0282 - mean_squared_error: 13.0282 - accuracy: 0.0000e+00 - val_loss: 16.7290 - val_mean_squared_error: 16.7290 - val_accuracy: 0.0000e+00\n",
            "Epoch 30/30\n",
            "10/10 [==============================] - 0s 9ms/step - loss: 14.2979 - mean_squared_error: 14.2979 - accuracy: 0.0000e+00 - val_loss: 21.6964 - val_mean_squared_error: 21.6964 - val_accuracy: 0.0000e+00\n"
          ]
        },
        {
          "output_type": "display_data",
          "data": {
            "text/plain": [
              "<Figure size 720x576 with 1 Axes>"
            ],
            "image/png": "[encoded data removed]"
          },
          "metadata": {
            "needs_background": "light"
          }
        }
      ]
    },
    {
      "cell_type": "code",
      "source": [
        "label2 = \"cohesion\"\n",
        "test_features = {name:np.array(value) for name, value in test_data.items()}\n",
        "test_features.pop(label2)\n",
        "test_label = np.array(test_features.pop(label_name))# isolate the label\n",
        "\n",
        "print(\"\\n Evaluate the linear regression model against the test set:\")\n",
        "result = model_simple.evaluate(x=test_features, y=test_label, batch_size=batch_size)\n",
        "\n",
        "for item in zip(model_simple.metrics_names, result):\n",
        "  print (item[0], item[1])"
      ],
      "metadata": {
        "colab": {
          "base_uri": "https://localhost:8080/"
        },
        "id": "qeIMnPEG5VOw",
        "outputId": "b543d3a4-dbc1-4658-c292-3b184dc5b414"
      },
      "id": "qeIMnPEG5VOw",
      "execution_count": null,
      "outputs": [
        {
          "output_type": "stream",
          "name": "stderr",
          "text": [
            "WARNING:tensorflow:Layers in a Sequential model should only have a single input tensor. Received: inputs={'number_of_words': <tf.Tensor 'IteratorGetNext:24' shape=(None,) dtype=int64>, 'stopwords_frequency': <tf.Tensor 'IteratorGetNext:31' shape=(None,) dtype=float32>, 'av_word_per_sen': <tf.Tensor 'IteratorGetNext:2' shape=(None,) dtype=float32>, 'punctuations': <tf.Tensor 'IteratorGetNext:26' shape=(None,) dtype=float32>, 'ARI': <tf.Tensor 'IteratorGetNext:0' shape=(None,) dtype=int64>, 'freq_of_verb': <tf.Tensor 'IteratorGetNext:15' shape=(None,) dtype=float32>, 'freq_of_adj': <tf.Tensor 'IteratorGetNext:8' shape=(None,) dtype=float32>, 'freq_of_adv': <tf.Tensor 'IteratorGetNext:9' shape=(None,) dtype=float32>, 'freq_of_distinct_adj': <tf.Tensor 'IteratorGetNext:10' shape=(None,) dtype=float32>, 'freq_of_distinct_adv': <tf.Tensor 'IteratorGetNext:11' shape=(None,) dtype=float32>, 'sentence_complexity': <tf.Tensor 'IteratorGetNext:27' shape=(None,) dtype=float32>, 'freq_of_wrong_words': <tf.Tensor 'IteratorGetNext:16' shape=(None,) dtype=float32>, 'sentiment_compound': <tf.Tensor 'IteratorGetNext:28' shape=(None,) dtype=float32>, 'sentiment_positive': <tf.Tensor 'IteratorGetNext:30' shape=(None,) dtype=float32>, 'sentiment_negative': <tf.Tensor 'IteratorGetNext:29' shape=(None,) dtype=float32>, 'num_of_grammar_errors': <tf.Tensor 'IteratorGetNext:21' shape=(None,) dtype=int64>, 'num_of_short_forms': <tf.Tensor 'IteratorGetNext:22' shape=(None,) dtype=int64>, 'Incorrect_form_ratio': <tf.Tensor 'IteratorGetNext:1' shape=(None,) dtype=float32>, 'flesch_reading_ease': <tf.Tensor 'IteratorGetNext:6' shape=(None,) dtype=float32>, 'flesch_kincaid_grade': <tf.Tensor 'IteratorGetNext:5' shape=(None,) dtype=float32>, 'dale_chall_readability_score': <tf.Tensor 'IteratorGetNext:4' shape=(None,) dtype=float32>, 'text_standard': <tf.Tensor 'IteratorGetNext:32' shape=(None,) dtype=float32>, 'mcalpine_eflaw': <tf.Tensor 'IteratorGetNext:19' shape=(None,) dtype=float32>, 'number_of_diff_words': <tf.Tensor 'IteratorGetNext:23' shape=(None,) dtype=int64>, 'freq_diff_words': <tf.Tensor 'IteratorGetNext:7' shape=(None,) dtype=float32>, 'ttr': <tf.Tensor 'IteratorGetNext:33' shape=(None,) dtype=float32>, 'coherence_score': <tf.Tensor 'IteratorGetNext:3' shape=(None,) dtype=float32>, 'lexrank_avg_min_diff': <tf.Tensor 'IteratorGetNext:17' shape=(None,) dtype=float32>, 'lexrank_interquartile': <tf.Tensor 'IteratorGetNext:18' shape=(None,) dtype=float32>, 'freq_of_noun': <tf.Tensor 'IteratorGetNext:12' shape=(None,) dtype=float32>, 'freq_of_transition': <tf.Tensor 'IteratorGetNext:14' shape=(None,) dtype=float32>, 'freq_of_pronoun': <tf.Tensor 'IteratorGetNext:13' shape=(None,) dtype=float32>, 'noun_to_adj': <tf.Tensor 'IteratorGetNext:20' shape=(None,) dtype=float32>, 'verb_to_adv': <tf.Tensor 'IteratorGetNext:34' shape=(None,) dtype=float32>, 'phrase_diversity': <tf.Tensor 'IteratorGetNext:25' shape=(None,) dtype=float32>}. Consider rewriting this model with the Functional API.\n"
          ]
        },
        {
          "output_type": "stream",
          "name": "stdout",
          "text": [
            "\n",
            " Evaluate the linear regression model against the test set:\n",
            "4/4 [==============================] - 0s 4ms/step - loss: 21.4754 - mean_squared_error: 21.4754 - accuracy: 0.0000e+00\n",
            "loss 21.475412368774414\n",
            "mean_squared_error 21.475412368774414\n",
            "accuracy 0.0\n"
          ]
        }
      ]
    },
    {
      "cell_type": "code",
      "source": [
        "prediction = model_simple.predict(test_features)\n",
        "pre_list = []\n",
        "for value in prediction:\n",
        "  pre_list.append(value[0])\n",
        "pre_list_2 = result(pre_list)"
      ],
      "metadata": {
        "colab": {
          "base_uri": "https://localhost:8080/"
        },
        "id": "Hz6v1gM_5gLR",
        "outputId": "ab9b7143-65f7-4357-dc39-5f89b208d25d"
      },
      "id": "Hz6v1gM_5gLR",
      "execution_count": null,
      "outputs": [
        {
          "output_type": "stream",
          "name": "stdout",
          "text": [
            "25/25 [==============================] - 0s 3ms/step\n"
          ]
        }
      ]
    },
    {
      "cell_type": "code",
      "source": [
        "val_accuracy = accuracy_range(list(test_data['vocabulary']), pre_list)\n",
        "val_accuracy"
      ],
      "metadata": {
        "colab": {
          "base_uri": "https://localhost:8080/"
        },
        "id": "azzSh_4-5-C_",
        "outputId": "cd8df2b1-23e5-4c07-b6fc-5a3ddef12557"
      },
      "id": "azzSh_4-5-C_",
      "execution_count": null,
      "outputs": [
        {
          "output_type": "execute_result",
          "data": {
            "text/plain": [
              "0.005108556832694764"
            ]
          },
          "metadata": {},
          "execution_count": 31
        }
      ]
    },
    {
      "cell_type": "code",
      "source": [
        "val_accuracy_2 = accuracy(list(test_data['vocabulary']), pre_list_2)\n",
        "val_accuracy_2"
      ],
      "metadata": {
        "colab": {
          "base_uri": "https://localhost:8080/"
        },
        "id": "W2IAAa1v7m3Y",
        "outputId": "39ad4f15-d2bb-4ac2-8977-4e867ccf32f7"
      },
      "id": "W2IAAa1v7m3Y",
      "execution_count": null,
      "outputs": [
        {
          "output_type": "execute_result",
          "data": {
            "text/plain": [
              "0.006385696040868455"
            ]
          },
          "metadata": {},
          "execution_count": 32
        }
      ]
    },
    {
      "cell_type": "code",
      "source": [
        "learning_rate = 0.01\n",
        "number_epochs = 30\n",
        "batch_size = 256\n",
        "label_name = \"cohesion\"\n",
        "\n",
        "# Establish the model's topography.\n",
        "model_simple_cohesion = create_model_simple(learning_rate, my_new_feature_layer)\n",
        "\n",
        "# Train the model on the normalized training set.\n",
        "mse_train_simple_cohesion, mse_val_simple_cohesion = train_model(model_simple_cohesion, train_data, number_epochs, batch_size, label_name)\n",
        "#train_history = train_model(model_lr, train_data, number_epochs, batch_size, label_name)\n",
        "plot_the_loss_curve(mse_train_simple_cohesion, mse_val_simple_cohesion)"
      ],
      "metadata": {
        "colab": {
          "base_uri": "https://localhost:8080/",
          "height": 1000
        },
        "id": "i_fu2cDwA9Hr",
        "outputId": "3087bcf0-465a-49dd-dca5-7da58e1ec8f5"
      },
      "id": "i_fu2cDwA9Hr",
      "execution_count": null,
      "outputs": [
        {
          "output_type": "stream",
          "name": "stdout",
          "text": [
            "Epoch 1/30\n"
          ]
        },
        {
          "output_type": "stream",
          "name": "stderr",
          "text": [
            "/usr/local/lib/python3.7/dist-packages/keras/optimizers/optimizer_v2/rmsprop.py:135: UserWarning: The `lr` argument is deprecated, use `learning_rate` instead.\n",
            "  super(RMSprop, self).__init__(name, **kwargs)\n",
            "WARNING:tensorflow:Layers in a Sequential model should only have a single input tensor. Received: inputs={'number_of_words': <tf.Tensor 'IteratorGetNext:25' shape=(None,) dtype=int64>, 'stopwords_frequency': <tf.Tensor 'IteratorGetNext:32' shape=(None,) dtype=float32>, 'av_word_per_sen': <tf.Tensor 'IteratorGetNext:2' shape=(None,) dtype=float32>, 'punctuations': <tf.Tensor 'IteratorGetNext:27' shape=(None,) dtype=float32>, 'ARI': <tf.Tensor 'IteratorGetNext:0' shape=(None,) dtype=int64>, 'freq_of_verb': <tf.Tensor 'IteratorGetNext:16' shape=(None,) dtype=float32>, 'freq_of_adj': <tf.Tensor 'IteratorGetNext:9' shape=(None,) dtype=float32>, 'freq_of_adv': <tf.Tensor 'IteratorGetNext:10' shape=(None,) dtype=float32>, 'freq_of_distinct_adj': <tf.Tensor 'IteratorGetNext:11' shape=(None,) dtype=float32>, 'freq_of_distinct_adv': <tf.Tensor 'IteratorGetNext:12' shape=(None,) dtype=float32>, 'sentence_complexity': <tf.Tensor 'IteratorGetNext:28' shape=(None,) dtype=float32>, 'freq_of_wrong_words': <tf.Tensor 'IteratorGetNext:17' shape=(None,) dtype=float32>, 'sentiment_compound': <tf.Tensor 'IteratorGetNext:29' shape=(None,) dtype=float32>, 'sentiment_positive': <tf.Tensor 'IteratorGetNext:31' shape=(None,) dtype=float32>, 'sentiment_negative': <tf.Tensor 'IteratorGetNext:30' shape=(None,) dtype=float32>, 'num_of_grammar_errors': <tf.Tensor 'IteratorGetNext:22' shape=(None,) dtype=int64>, 'corrected_text': <tf.Tensor 'IteratorGetNext:4' shape=(None,) dtype=string>, 'num_of_short_forms': <tf.Tensor 'IteratorGetNext:23' shape=(None,) dtype=int64>, 'Incorrect_form_ratio': <tf.Tensor 'IteratorGetNext:1' shape=(None,) dtype=float32>, 'flesch_reading_ease': <tf.Tensor 'IteratorGetNext:7' shape=(None,) dtype=float32>, 'flesch_kincaid_grade': <tf.Tensor 'IteratorGetNext:6' shape=(None,) dtype=float32>, 'dale_chall_readability_score': <tf.Tensor 'IteratorGetNext:5' shape=(None,) dtype=float32>, 'text_standard': <tf.Tensor 'IteratorGetNext:33' shape=(None,) dtype=float32>, 'mcalpine_eflaw': <tf.Tensor 'IteratorGetNext:20' shape=(None,) dtype=float32>, 'number_of_diff_words': <tf.Tensor 'IteratorGetNext:24' shape=(None,) dtype=int64>, 'freq_diff_words': <tf.Tensor 'IteratorGetNext:8' shape=(None,) dtype=float32>, 'ttr': <tf.Tensor 'IteratorGetNext:34' shape=(None,) dtype=float32>, 'coherence_score': <tf.Tensor 'IteratorGetNext:3' shape=(None,) dtype=float32>, 'lexrank_avg_min_diff': <tf.Tensor 'IteratorGetNext:18' shape=(None,) dtype=float32>, 'lexrank_interquartile': <tf.Tensor 'IteratorGetNext:19' shape=(None,) dtype=float32>, 'freq_of_noun': <tf.Tensor 'IteratorGetNext:13' shape=(None,) dtype=float32>, 'freq_of_transition': <tf.Tensor 'IteratorGetNext:15' shape=(None,) dtype=float32>, 'freq_of_pronoun': <tf.Tensor 'IteratorGetNext:14' shape=(None,) dtype=float32>, 'noun_to_adj': <tf.Tensor 'IteratorGetNext:21' shape=(None,) dtype=float32>, 'verb_to_adv': <tf.Tensor 'IteratorGetNext:35' shape=(None,) dtype=float32>, 'phrase_diversity': <tf.Tensor 'IteratorGetNext:26' shape=(None,) dtype=float32>, 'vocabulary': <tf.Tensor 'IteratorGetNext:36' shape=(None,) dtype=float32>}. Consider rewriting this model with the Functional API.\n",
            "WARNING:tensorflow:Layers in a Sequential model should only have a single input tensor. Received: inputs={'number_of_words': <tf.Tensor 'IteratorGetNext:25' shape=(None,) dtype=int64>, 'stopwords_frequency': <tf.Tensor 'IteratorGetNext:32' shape=(None,) dtype=float32>, 'av_word_per_sen': <tf.Tensor 'IteratorGetNext:2' shape=(None,) dtype=float32>, 'punctuations': <tf.Tensor 'IteratorGetNext:27' shape=(None,) dtype=float32>, 'ARI': <tf.Tensor 'IteratorGetNext:0' shape=(None,) dtype=int64>, 'freq_of_verb': <tf.Tensor 'IteratorGetNext:16' shape=(None,) dtype=float32>, 'freq_of_adj': <tf.Tensor 'IteratorGetNext:9' shape=(None,) dtype=float32>, 'freq_of_adv': <tf.Tensor 'IteratorGetNext:10' shape=(None,) dtype=float32>, 'freq_of_distinct_adj': <tf.Tensor 'IteratorGetNext:11' shape=(None,) dtype=float32>, 'freq_of_distinct_adv': <tf.Tensor 'IteratorGetNext:12' shape=(None,) dtype=float32>, 'sentence_complexity': <tf.Tensor 'IteratorGetNext:28' shape=(None,) dtype=float32>, 'freq_of_wrong_words': <tf.Tensor 'IteratorGetNext:17' shape=(None,) dtype=float32>, 'sentiment_compound': <tf.Tensor 'IteratorGetNext:29' shape=(None,) dtype=float32>, 'sentiment_positive': <tf.Tensor 'IteratorGetNext:31' shape=(None,) dtype=float32>, 'sentiment_negative': <tf.Tensor 'IteratorGetNext:30' shape=(None,) dtype=float32>, 'num_of_grammar_errors': <tf.Tensor 'IteratorGetNext:22' shape=(None,) dtype=int64>, 'corrected_text': <tf.Tensor 'IteratorGetNext:4' shape=(None,) dtype=string>, 'num_of_short_forms': <tf.Tensor 'IteratorGetNext:23' shape=(None,) dtype=int64>, 'Incorrect_form_ratio': <tf.Tensor 'IteratorGetNext:1' shape=(None,) dtype=float32>, 'flesch_reading_ease': <tf.Tensor 'IteratorGetNext:7' shape=(None,) dtype=float32>, 'flesch_kincaid_grade': <tf.Tensor 'IteratorGetNext:6' shape=(None,) dtype=float32>, 'dale_chall_readability_score': <tf.Tensor 'IteratorGetNext:5' shape=(None,) dtype=float32>, 'text_standard': <tf.Tensor 'IteratorGetNext:33' shape=(None,) dtype=float32>, 'mcalpine_eflaw': <tf.Tensor 'IteratorGetNext:20' shape=(None,) dtype=float32>, 'number_of_diff_words': <tf.Tensor 'IteratorGetNext:24' shape=(None,) dtype=int64>, 'freq_diff_words': <tf.Tensor 'IteratorGetNext:8' shape=(None,) dtype=float32>, 'ttr': <tf.Tensor 'IteratorGetNext:34' shape=(None,) dtype=float32>, 'coherence_score': <tf.Tensor 'IteratorGetNext:3' shape=(None,) dtype=float32>, 'lexrank_avg_min_diff': <tf.Tensor 'IteratorGetNext:18' shape=(None,) dtype=float32>, 'lexrank_interquartile': <tf.Tensor 'IteratorGetNext:19' shape=(None,) dtype=float32>, 'freq_of_noun': <tf.Tensor 'IteratorGetNext:13' shape=(None,) dtype=float32>, 'freq_of_transition': <tf.Tensor 'IteratorGetNext:15' shape=(None,) dtype=float32>, 'freq_of_pronoun': <tf.Tensor 'IteratorGetNext:14' shape=(None,) dtype=float32>, 'noun_to_adj': <tf.Tensor 'IteratorGetNext:21' shape=(None,) dtype=float32>, 'verb_to_adv': <tf.Tensor 'IteratorGetNext:35' shape=(None,) dtype=float32>, 'phrase_diversity': <tf.Tensor 'IteratorGetNext:26' shape=(None,) dtype=float32>, 'vocabulary': <tf.Tensor 'IteratorGetNext:36' shape=(None,) dtype=float32>}. Consider rewriting this model with the Functional API.\n"
          ]
        },
        {
          "output_type": "stream",
          "name": "stdout",
          "text": [
            "\r 1/10 [==>...........................] - ETA: 8s - loss: 7963.3359 - mean_squared_error: 7963.3359 - accuracy: 0.0000e+00"
          ]
        },
        {
          "output_type": "stream",
          "name": "stderr",
          "text": [
            "WARNING:tensorflow:Layers in a Sequential model should only have a single input tensor. Received: inputs={'number_of_words': <tf.Tensor 'IteratorGetNext:25' shape=(None,) dtype=int64>, 'stopwords_frequency': <tf.Tensor 'IteratorGetNext:32' shape=(None,) dtype=float32>, 'av_word_per_sen': <tf.Tensor 'IteratorGetNext:2' shape=(None,) dtype=float32>, 'punctuations': <tf.Tensor 'IteratorGetNext:27' shape=(None,) dtype=float32>, 'ARI': <tf.Tensor 'IteratorGetNext:0' shape=(None,) dtype=int64>, 'freq_of_verb': <tf.Tensor 'IteratorGetNext:16' shape=(None,) dtype=float32>, 'freq_of_adj': <tf.Tensor 'IteratorGetNext:9' shape=(None,) dtype=float32>, 'freq_of_adv': <tf.Tensor 'IteratorGetNext:10' shape=(None,) dtype=float32>, 'freq_of_distinct_adj': <tf.Tensor 'IteratorGetNext:11' shape=(None,) dtype=float32>, 'freq_of_distinct_adv': <tf.Tensor 'IteratorGetNext:12' shape=(None,) dtype=float32>, 'sentence_complexity': <tf.Tensor 'IteratorGetNext:28' shape=(None,) dtype=float32>, 'freq_of_wrong_words': <tf.Tensor 'IteratorGetNext:17' shape=(None,) dtype=float32>, 'sentiment_compound': <tf.Tensor 'IteratorGetNext:29' shape=(None,) dtype=float32>, 'sentiment_positive': <tf.Tensor 'IteratorGetNext:31' shape=(None,) dtype=float32>, 'sentiment_negative': <tf.Tensor 'IteratorGetNext:30' shape=(None,) dtype=float32>, 'num_of_grammar_errors': <tf.Tensor 'IteratorGetNext:22' shape=(None,) dtype=int64>, 'corrected_text': <tf.Tensor 'IteratorGetNext:4' shape=(None,) dtype=string>, 'num_of_short_forms': <tf.Tensor 'IteratorGetNext:23' shape=(None,) dtype=int64>, 'Incorrect_form_ratio': <tf.Tensor 'IteratorGetNext:1' shape=(None,) dtype=float32>, 'flesch_reading_ease': <tf.Tensor 'IteratorGetNext:7' shape=(None,) dtype=float32>, 'flesch_kincaid_grade': <tf.Tensor 'IteratorGetNext:6' shape=(None,) dtype=float32>, 'dale_chall_readability_score': <tf.Tensor 'IteratorGetNext:5' shape=(None,) dtype=float32>, 'text_standard': <tf.Tensor 'IteratorGetNext:33' shape=(None,) dtype=float32>, 'mcalpine_eflaw': <tf.Tensor 'IteratorGetNext:20' shape=(None,) dtype=float32>, 'number_of_diff_words': <tf.Tensor 'IteratorGetNext:24' shape=(None,) dtype=int64>, 'freq_diff_words': <tf.Tensor 'IteratorGetNext:8' shape=(None,) dtype=float32>, 'ttr': <tf.Tensor 'IteratorGetNext:34' shape=(None,) dtype=float32>, 'coherence_score': <tf.Tensor 'IteratorGetNext:3' shape=(None,) dtype=float32>, 'lexrank_avg_min_diff': <tf.Tensor 'IteratorGetNext:18' shape=(None,) dtype=float32>, 'lexrank_interquartile': <tf.Tensor 'IteratorGetNext:19' shape=(None,) dtype=float32>, 'freq_of_noun': <tf.Tensor 'IteratorGetNext:13' shape=(None,) dtype=float32>, 'freq_of_transition': <tf.Tensor 'IteratorGetNext:15' shape=(None,) dtype=float32>, 'freq_of_pronoun': <tf.Tensor 'IteratorGetNext:14' shape=(None,) dtype=float32>, 'noun_to_adj': <tf.Tensor 'IteratorGetNext:21' shape=(None,) dtype=float32>, 'verb_to_adv': <tf.Tensor 'IteratorGetNext:35' shape=(None,) dtype=float32>, 'phrase_diversity': <tf.Tensor 'IteratorGetNext:26' shape=(None,) dtype=float32>, 'vocabulary': <tf.Tensor 'IteratorGetNext:36' shape=(None,) dtype=float32>}. Consider rewriting this model with the Functional API.\n"
          ]
        },
        {
          "output_type": "stream",
          "name": "stdout",
          "text": [
            "\b\b\b\b\b\b\b\b\b\b\b\b\b\b\b\b\b\b\b\b\b\b\b\b\b\b\b\b\b\b\b\b\b\b\b\b\b\b\b\b\b\b\b\b\b\b\b\b\b\b\b\b\b\b\b\b\b\b\b\b\b\b\b\b\b\b\b\b\b\b\b\b\b\b\b\b\b\b\b\b\b\b\b\b\b\b\b\b\b\b\b\b\b\b\b\b\b\b\b\b\b\b\b\b\b\b\b\b\b\b\b\b\b\b\b\b\b\b\b\b\b\r10/10 [==============================] - 2s 68ms/step - loss: 2761.5852 - mean_squared_error: 2761.5852 - accuracy: 3.9968e-04 - val_loss: 755.4699 - val_mean_squared_error: 755.4699 - val_accuracy: 0.0000e+00\n",
            "Epoch 2/30\n",
            "10/10 [==============================] - 0s 9ms/step - loss: 571.5588 - mean_squared_error: 571.5588 - accuracy: 0.0000e+00 - val_loss: 416.0566 - val_mean_squared_error: 416.0566 - val_accuracy: 0.0000e+00\n",
            "Epoch 3/30\n",
            "10/10 [==============================] - 0s 9ms/step - loss: 369.5432 - mean_squared_error: 369.5432 - accuracy: 0.0000e+00 - val_loss: 273.2668 - val_mean_squared_error: 273.2668 - val_accuracy: 0.0000e+00\n",
            "Epoch 4/30\n",
            "10/10 [==============================] - 0s 9ms/step - loss: 245.1992 - mean_squared_error: 245.1992 - accuracy: 0.0000e+00 - val_loss: 181.7391 - val_mean_squared_error: 181.7391 - val_accuracy: 0.0000e+00\n",
            "Epoch 5/30\n",
            "10/10 [==============================] - 0s 11ms/step - loss: 152.5399 - mean_squared_error: 152.5399 - accuracy: 0.0000e+00 - val_loss: 110.0831 - val_mean_squared_error: 110.0831 - val_accuracy: 0.0000e+00\n",
            "Epoch 6/30\n",
            "10/10 [==============================] - 0s 9ms/step - loss: 85.0802 - mean_squared_error: 85.0802 - accuracy: 0.0000e+00 - val_loss: 61.5993 - val_mean_squared_error: 61.5993 - val_accuracy: 0.0000e+00\n",
            "Epoch 7/30\n",
            "10/10 [==============================] - 0s 9ms/step - loss: 50.1161 - mean_squared_error: 50.1161 - accuracy: 0.0000e+00 - val_loss: 44.2441 - val_mean_squared_error: 44.2441 - val_accuracy: 0.0000e+00\n",
            "Epoch 8/30\n",
            "10/10 [==============================] - 0s 9ms/step - loss: 35.4695 - mean_squared_error: 35.4695 - accuracy: 3.9968e-04 - val_loss: 22.2979 - val_mean_squared_error: 22.2979 - val_accuracy: 0.0000e+00\n",
            "Epoch 9/30\n",
            "10/10 [==============================] - 0s 9ms/step - loss: 20.1621 - mean_squared_error: 20.1621 - accuracy: 0.0000e+00 - val_loss: 16.2940 - val_mean_squared_error: 16.2940 - val_accuracy: 0.0000e+00\n",
            "Epoch 10/30\n",
            "10/10 [==============================] - 0s 10ms/step - loss: 18.4413 - mean_squared_error: 18.4413 - accuracy: 7.9936e-04 - val_loss: 9.5734 - val_mean_squared_error: 9.5734 - val_accuracy: 0.0000e+00\n",
            "Epoch 11/30\n",
            "10/10 [==============================] - 0s 9ms/step - loss: 16.0274 - mean_squared_error: 16.0274 - accuracy: 7.9936e-04 - val_loss: 27.6784 - val_mean_squared_error: 27.6784 - val_accuracy: 0.0000e+00\n",
            "Epoch 12/30\n",
            "10/10 [==============================] - 0s 9ms/step - loss: 13.4888 - mean_squared_error: 13.4888 - accuracy: 7.9936e-04 - val_loss: 23.8635 - val_mean_squared_error: 23.8635 - val_accuracy: 0.0000e+00\n",
            "Epoch 13/30\n",
            "10/10 [==============================] - 0s 9ms/step - loss: 13.8765 - mean_squared_error: 13.8765 - accuracy: 7.9936e-04 - val_loss: 9.4156 - val_mean_squared_error: 9.4156 - val_accuracy: 0.0000e+00\n",
            "Epoch 14/30\n",
            "10/10 [==============================] - 0s 9ms/step - loss: 15.9774 - mean_squared_error: 15.9774 - accuracy: 3.9968e-04 - val_loss: 11.2819 - val_mean_squared_error: 11.2819 - val_accuracy: 0.0000e+00\n",
            "Epoch 15/30\n",
            "10/10 [==============================] - 0s 10ms/step - loss: 12.6866 - mean_squared_error: 12.6866 - accuracy: 0.0012 - val_loss: 18.2864 - val_mean_squared_error: 18.2864 - val_accuracy: 0.0000e+00\n",
            "Epoch 16/30\n",
            "10/10 [==============================] - 0s 10ms/step - loss: 13.4449 - mean_squared_error: 13.4449 - accuracy: 3.9968e-04 - val_loss: 16.1152 - val_mean_squared_error: 16.1152 - val_accuracy: 0.0000e+00\n",
            "Epoch 17/30\n",
            "10/10 [==============================] - 0s 9ms/step - loss: 11.9016 - mean_squared_error: 11.9016 - accuracy: 7.9936e-04 - val_loss: 14.4274 - val_mean_squared_error: 14.4274 - val_accuracy: 0.0000e+00\n",
            "Epoch 18/30\n",
            "10/10 [==============================] - 0s 9ms/step - loss: 15.4347 - mean_squared_error: 15.4347 - accuracy: 3.9968e-04 - val_loss: 21.7303 - val_mean_squared_error: 21.7303 - val_accuracy: 0.0000e+00\n",
            "Epoch 19/30\n",
            "10/10 [==============================] - 0s 9ms/step - loss: 13.1638 - mean_squared_error: 13.1638 - accuracy: 7.9936e-04 - val_loss: 15.4612 - val_mean_squared_error: 15.4612 - val_accuracy: 0.0000e+00\n",
            "Epoch 20/30\n",
            "10/10 [==============================] - 0s 9ms/step - loss: 12.7405 - mean_squared_error: 12.7405 - accuracy: 7.9936e-04 - val_loss: 12.2281 - val_mean_squared_error: 12.2281 - val_accuracy: 0.0000e+00\n",
            "Epoch 21/30\n",
            "10/10 [==============================] - 0s 9ms/step - loss: 12.9822 - mean_squared_error: 12.9822 - accuracy: 0.0012 - val_loss: 14.8155 - val_mean_squared_error: 14.8155 - val_accuracy: 0.0000e+00\n",
            "Epoch 22/30\n",
            "10/10 [==============================] - 0s 9ms/step - loss: 12.5337 - mean_squared_error: 12.5337 - accuracy: 0.0012 - val_loss: 20.9046 - val_mean_squared_error: 20.9046 - val_accuracy: 0.0000e+00\n",
            "Epoch 23/30\n",
            "10/10 [==============================] - 0s 9ms/step - loss: 10.9460 - mean_squared_error: 10.9460 - accuracy: 7.9936e-04 - val_loss: 17.2511 - val_mean_squared_error: 17.2511 - val_accuracy: 0.0000e+00\n",
            "Epoch 24/30\n",
            "10/10 [==============================] - 0s 9ms/step - loss: 14.9982 - mean_squared_error: 14.9982 - accuracy: 7.9936e-04 - val_loss: 8.2553 - val_mean_squared_error: 8.2553 - val_accuracy: 0.0016\n",
            "Epoch 25/30\n",
            "10/10 [==============================] - 0s 9ms/step - loss: 14.0545 - mean_squared_error: 14.0545 - accuracy: 0.0012 - val_loss: 15.1493 - val_mean_squared_error: 15.1493 - val_accuracy: 0.0000e+00\n",
            "Epoch 26/30\n",
            "10/10 [==============================] - 0s 9ms/step - loss: 12.2658 - mean_squared_error: 12.2658 - accuracy: 0.0016 - val_loss: 11.1576 - val_mean_squared_error: 11.1576 - val_accuracy: 0.0000e+00\n",
            "Epoch 27/30\n",
            "10/10 [==============================] - 0s 9ms/step - loss: 11.7923 - mean_squared_error: 11.7923 - accuracy: 0.0012 - val_loss: 15.9139 - val_mean_squared_error: 15.9139 - val_accuracy: 0.0000e+00\n",
            "Epoch 28/30\n",
            "10/10 [==============================] - 0s 11ms/step - loss: 14.8365 - mean_squared_error: 14.8365 - accuracy: 0.0000e+00 - val_loss: 6.1046 - val_mean_squared_error: 6.1046 - val_accuracy: 0.0016\n",
            "Epoch 29/30\n",
            "10/10 [==============================] - 0s 9ms/step - loss: 12.9295 - mean_squared_error: 12.9295 - accuracy: 3.9968e-04 - val_loss: 15.5069 - val_mean_squared_error: 15.5069 - val_accuracy: 0.0000e+00\n",
            "Epoch 30/30\n",
            "10/10 [==============================] - 0s 9ms/step - loss: 10.4403 - mean_squared_error: 10.4403 - accuracy: 7.9936e-04 - val_loss: 13.6155 - val_mean_squared_error: 13.6155 - val_accuracy: 0.0000e+00\n"
          ]
        },
        {
          "output_type": "display_data",
          "data": {
            "text/plain": [
              "<Figure size 720x576 with 1 Axes>"
            ],
            "image/png": "[encoded data removed]"
          },
          "metadata": {
            "needs_background": "light"
          }
        }
      ]
    },
    {
      "cell_type": "code",
      "source": [
        "test_data2 = test_data.copy()\n",
        "test_data2.pop(\"vocabulary\")\n",
        "test_data2[\"vocabulary\"] = pre_list\n",
        "test_features_cohesion = {name:np.array(value) for name, value in test_data2.items()}\n",
        "\n",
        "test_label_cohesion = np.array(test_features_cohesion.pop(\"cohesion\"))# isolate the label\n",
        "\n",
        "print(\"\\n Evaluate the linear regression model against the test set:\")\n",
        "result_cohesion = model_simple_cohesion.evaluate(x=test_features_cohesion, y=test_label_cohesion, batch_size=batch_size)\n",
        "\n",
        "for item in zip(model_simple_cohesion.metrics_names, result_cohesion):\n",
        "  print (item[0], item[1])"
      ],
      "metadata": {
        "colab": {
          "base_uri": "https://localhost:8080/"
        },
        "id": "Ka4acKnMGkO2",
        "outputId": "cbd28546-1f29-4472-d816-59ac165b5806"
      },
      "id": "Ka4acKnMGkO2",
      "execution_count": null,
      "outputs": [
        {
          "output_type": "stream",
          "name": "stderr",
          "text": [
            "WARNING:tensorflow:Layers in a Sequential model should only have a single input tensor. Received: inputs={'number_of_words': <tf.Tensor 'IteratorGetNext:24' shape=(None,) dtype=int64>, 'stopwords_frequency': <tf.Tensor 'IteratorGetNext:31' shape=(None,) dtype=float32>, 'av_word_per_sen': <tf.Tensor 'IteratorGetNext:2' shape=(None,) dtype=float32>, 'punctuations': <tf.Tensor 'IteratorGetNext:26' shape=(None,) dtype=float32>, 'ARI': <tf.Tensor 'IteratorGetNext:0' shape=(None,) dtype=int64>, 'freq_of_verb': <tf.Tensor 'IteratorGetNext:15' shape=(None,) dtype=float32>, 'freq_of_adj': <tf.Tensor 'IteratorGetNext:8' shape=(None,) dtype=float32>, 'freq_of_adv': <tf.Tensor 'IteratorGetNext:9' shape=(None,) dtype=float32>, 'freq_of_distinct_adj': <tf.Tensor 'IteratorGetNext:10' shape=(None,) dtype=float32>, 'freq_of_distinct_adv': <tf.Tensor 'IteratorGetNext:11' shape=(None,) dtype=float32>, 'sentence_complexity': <tf.Tensor 'IteratorGetNext:27' shape=(None,) dtype=float32>, 'freq_of_wrong_words': <tf.Tensor 'IteratorGetNext:16' shape=(None,) dtype=float32>, 'sentiment_compound': <tf.Tensor 'IteratorGetNext:28' shape=(None,) dtype=float32>, 'sentiment_positive': <tf.Tensor 'IteratorGetNext:30' shape=(None,) dtype=float32>, 'sentiment_negative': <tf.Tensor 'IteratorGetNext:29' shape=(None,) dtype=float32>, 'num_of_grammar_errors': <tf.Tensor 'IteratorGetNext:21' shape=(None,) dtype=int64>, 'num_of_short_forms': <tf.Tensor 'IteratorGetNext:22' shape=(None,) dtype=int64>, 'Incorrect_form_ratio': <tf.Tensor 'IteratorGetNext:1' shape=(None,) dtype=float32>, 'flesch_reading_ease': <tf.Tensor 'IteratorGetNext:6' shape=(None,) dtype=float32>, 'flesch_kincaid_grade': <tf.Tensor 'IteratorGetNext:5' shape=(None,) dtype=float32>, 'dale_chall_readability_score': <tf.Tensor 'IteratorGetNext:4' shape=(None,) dtype=float32>, 'text_standard': <tf.Tensor 'IteratorGetNext:32' shape=(None,) dtype=float32>, 'mcalpine_eflaw': <tf.Tensor 'IteratorGetNext:19' shape=(None,) dtype=float32>, 'number_of_diff_words': <tf.Tensor 'IteratorGetNext:23' shape=(None,) dtype=int64>, 'freq_diff_words': <tf.Tensor 'IteratorGetNext:7' shape=(None,) dtype=float32>, 'ttr': <tf.Tensor 'IteratorGetNext:33' shape=(None,) dtype=float32>, 'coherence_score': <tf.Tensor 'IteratorGetNext:3' shape=(None,) dtype=float32>, 'lexrank_avg_min_diff': <tf.Tensor 'IteratorGetNext:17' shape=(None,) dtype=float32>, 'lexrank_interquartile': <tf.Tensor 'IteratorGetNext:18' shape=(None,) dtype=float32>, 'freq_of_noun': <tf.Tensor 'IteratorGetNext:12' shape=(None,) dtype=float32>, 'freq_of_transition': <tf.Tensor 'IteratorGetNext:14' shape=(None,) dtype=float32>, 'freq_of_pronoun': <tf.Tensor 'IteratorGetNext:13' shape=(None,) dtype=float32>, 'noun_to_adj': <tf.Tensor 'IteratorGetNext:20' shape=(None,) dtype=float32>, 'verb_to_adv': <tf.Tensor 'IteratorGetNext:34' shape=(None,) dtype=float32>, 'phrase_diversity': <tf.Tensor 'IteratorGetNext:25' shape=(None,) dtype=float32>, 'vocabulary': <tf.Tensor 'IteratorGetNext:35' shape=(None,) dtype=float32>}. Consider rewriting this model with the Functional API.\n"
          ]
        },
        {
          "output_type": "stream",
          "name": "stdout",
          "text": [
            "\n",
            " Evaluate the linear regression model against the test set:\n",
            "4/4 [==============================] - 0s 4ms/step - loss: 6.7368 - mean_squared_error: 6.7368 - accuracy: 0.0038\n",
            "loss 6.736788749694824\n",
            "mean_squared_error 6.736788749694824\n",
            "accuracy 0.0038314175326377153\n"
          ]
        }
      ]
    },
    {
      "cell_type": "code",
      "source": [
        "prediction_cohesion = model_simple_cohesion.predict(test_features_cohesion)\n",
        "pre_list = []\n",
        "for value in prediction_cohesion:\n",
        "  pre_list.append(value[0])\n",
        "pre_list_2 = result(pre_list)"
      ],
      "metadata": {
        "colab": {
          "base_uri": "https://localhost:8080/"
        },
        "id": "X3q8oyhyID6M",
        "outputId": "3245f4c0-b6e2-4014-ace5-29120277d752"
      },
      "id": "X3q8oyhyID6M",
      "execution_count": null,
      "outputs": [
        {
          "output_type": "stream",
          "name": "stderr",
          "text": [
            "WARNING:tensorflow:Layers in a Sequential model should only have a single input tensor. Received: inputs={'number_of_words': <tf.Tensor 'IteratorGetNext:24' shape=(None,) dtype=int64>, 'stopwords_frequency': <tf.Tensor 'IteratorGetNext:31' shape=(None,) dtype=float32>, 'av_word_per_sen': <tf.Tensor 'IteratorGetNext:2' shape=(None,) dtype=float32>, 'punctuations': <tf.Tensor 'IteratorGetNext:26' shape=(None,) dtype=float32>, 'ARI': <tf.Tensor 'IteratorGetNext:0' shape=(None,) dtype=int64>, 'freq_of_verb': <tf.Tensor 'IteratorGetNext:15' shape=(None,) dtype=float32>, 'freq_of_adj': <tf.Tensor 'IteratorGetNext:8' shape=(None,) dtype=float32>, 'freq_of_adv': <tf.Tensor 'IteratorGetNext:9' shape=(None,) dtype=float32>, 'freq_of_distinct_adj': <tf.Tensor 'IteratorGetNext:10' shape=(None,) dtype=float32>, 'freq_of_distinct_adv': <tf.Tensor 'IteratorGetNext:11' shape=(None,) dtype=float32>, 'sentence_complexity': <tf.Tensor 'IteratorGetNext:27' shape=(None,) dtype=float32>, 'freq_of_wrong_words': <tf.Tensor 'IteratorGetNext:16' shape=(None,) dtype=float32>, 'sentiment_compound': <tf.Tensor 'IteratorGetNext:28' shape=(None,) dtype=float32>, 'sentiment_positive': <tf.Tensor 'IteratorGetNext:30' shape=(None,) dtype=float32>, 'sentiment_negative': <tf.Tensor 'IteratorGetNext:29' shape=(None,) dtype=float32>, 'num_of_grammar_errors': <tf.Tensor 'IteratorGetNext:21' shape=(None,) dtype=int64>, 'num_of_short_forms': <tf.Tensor 'IteratorGetNext:22' shape=(None,) dtype=int64>, 'Incorrect_form_ratio': <tf.Tensor 'IteratorGetNext:1' shape=(None,) dtype=float32>, 'flesch_reading_ease': <tf.Tensor 'IteratorGetNext:6' shape=(None,) dtype=float32>, 'flesch_kincaid_grade': <tf.Tensor 'IteratorGetNext:5' shape=(None,) dtype=float32>, 'dale_chall_readability_score': <tf.Tensor 'IteratorGetNext:4' shape=(None,) dtype=float32>, 'text_standard': <tf.Tensor 'IteratorGetNext:32' shape=(None,) dtype=float32>, 'mcalpine_eflaw': <tf.Tensor 'IteratorGetNext:19' shape=(None,) dtype=float32>, 'number_of_diff_words': <tf.Tensor 'IteratorGetNext:23' shape=(None,) dtype=int64>, 'freq_diff_words': <tf.Tensor 'IteratorGetNext:7' shape=(None,) dtype=float32>, 'ttr': <tf.Tensor 'IteratorGetNext:33' shape=(None,) dtype=float32>, 'coherence_score': <tf.Tensor 'IteratorGetNext:3' shape=(None,) dtype=float32>, 'lexrank_avg_min_diff': <tf.Tensor 'IteratorGetNext:17' shape=(None,) dtype=float32>, 'lexrank_interquartile': <tf.Tensor 'IteratorGetNext:18' shape=(None,) dtype=float32>, 'freq_of_noun': <tf.Tensor 'IteratorGetNext:12' shape=(None,) dtype=float32>, 'freq_of_transition': <tf.Tensor 'IteratorGetNext:14' shape=(None,) dtype=float32>, 'freq_of_pronoun': <tf.Tensor 'IteratorGetNext:13' shape=(None,) dtype=float32>, 'noun_to_adj': <tf.Tensor 'IteratorGetNext:20' shape=(None,) dtype=float32>, 'verb_to_adv': <tf.Tensor 'IteratorGetNext:34' shape=(None,) dtype=float32>, 'phrase_diversity': <tf.Tensor 'IteratorGetNext:25' shape=(None,) dtype=float32>, 'vocabulary': <tf.Tensor 'IteratorGetNext:35' shape=(None,) dtype=float32>}. Consider rewriting this model with the Functional API.\n"
          ]
        },
        {
          "output_type": "stream",
          "name": "stdout",
          "text": [
            "25/25 [==============================] - 0s 3ms/step\n"
          ]
        }
      ]
    },
    {
      "cell_type": "code",
      "source": [
        "cohesion_accuracy = accuracy_range(pre_list, list(test_data['cohesion']))\n",
        "cohesion_accuracy"
      ],
      "metadata": {
        "colab": {
          "base_uri": "https://localhost:8080/"
        },
        "id": "wEW3ZWu_H3iA",
        "outputId": "ecfd6f01-60e1-430a-bd86-20917a51be57"
      },
      "id": "wEW3ZWu_H3iA",
      "execution_count": null,
      "outputs": [
        {
          "output_type": "execute_result",
          "data": {
            "text/plain": [
              "0.0421455938697318"
            ]
          },
          "metadata": {},
          "execution_count": 36
        }
      ]
    },
    {
      "cell_type": "code",
      "source": [
        "cohesion_accuracy_2 = accuracy(list(test_data['cohesion']), pre_list_2)\n",
        "cohesion_accuracy_2"
      ],
      "metadata": {
        "colab": {
          "base_uri": "https://localhost:8080/"
        },
        "id": "oPv1e66CIQCb",
        "outputId": "1190b861-2e0e-4901-a10b-d39358874031"
      },
      "id": "oPv1e66CIQCb",
      "execution_count": null,
      "outputs": [
        {
          "output_type": "execute_result",
          "data": {
            "text/plain": [
              "0.01532567049808429"
            ]
          },
          "metadata": {},
          "execution_count": 37
        }
      ]
    },
    {
      "cell_type": "code",
      "source": [
        "error_rate2 = error_rate(list(test_data['cohesion']), pre_list)\n",
        "error_rate2"
      ],
      "metadata": {
        "colab": {
          "base_uri": "https://localhost:8080/"
        },
        "id": "euY0XoF9IY3E",
        "outputId": "03292bab-8726-4f5a-d638-5c5193d1ccc4"
      },
      "id": "euY0XoF9IY3E",
      "execution_count": null,
      "outputs": [
        {
          "output_type": "execute_result",
          "data": {
            "text/plain": [
              "2.289988109682559"
            ]
          },
          "metadata": {},
          "execution_count": 38
        }
      ]
    },
    {
      "cell_type": "markdown",
      "source": [
        "Linear Model 2"
      ],
      "metadata": {
        "id": "WmSpVlCp5-bv"
      },
      "id": "WmSpVlCp5-bv"
    },
    {
      "cell_type": "code",
      "source": [
        "def create_model_linear(my_learning_rate, feature_layer):\n",
        "  \"\"\"Create and compile a simple linear regression model.\"\"\"\n",
        "\n",
        "  # Most simple tf.keras models are sequential.\n",
        "  model = tf.keras.models.Sequential()\n",
        "\n",
        "  # Add the layer containing the feature columns to the model.\n",
        "  model.add(feature_layer)\n",
        "\n",
        "  # Add one linear layer to the model to yield a simple linear regressor.\n",
        "  model.add(tf.keras.layers.Dense(30, activation='relu'))\n",
        "  model.add(tf.keras.layers.Dense(100, activation = 'relu'))\n",
        "  model.add(tf.keras.layers.Dense(units=1))\n",
        "  \n",
        "\n",
        "  # Construct the layers into a model that TensorFlow can execute.\n",
        "  model.compile(optimizer=tf.keras.optimizers.RMSprop(lr=my_learning_rate),\n",
        "                loss=\"mean_squared_error\", \n",
        "                metrics=[tf.keras.metrics.MeanSquaredError(), \"accuracy\"])\n",
        "  return model           "
      ],
      "metadata": {
        "id": "nS6wtyT7IdAh"
      },
      "id": "nS6wtyT7IdAh",
      "execution_count": null,
      "outputs": []
    },
    {
      "cell_type": "code",
      "source": [
        "learning_rate = 0.01\n",
        "number_epochs = 30\n",
        "batch_size = 256\n",
        "label_name = \"cohesion\"\n",
        "\n",
        "# Establish the model's topography.\n",
        "model_lr1 = create_model_linear(learning_rate, my_feature_layer)\n",
        "\n",
        "# Train the model on the normalized training set.\n",
        "mse_train_lr1, mse_val_lr1 = train_model(model_lr1, train_data, number_epochs, batch_size, label_name)\n",
        "#train_history = train_model(model_lr, train_data, number_epochs, batch_size, label_name)\n",
        "plot_the_loss_curve(mse_train_lr1, mse_val_lr1)"
      ],
      "metadata": {
        "colab": {
          "base_uri": "https://localhost:8080/",
          "height": 1000
        },
        "id": "GTsZZXXlZpKK",
        "outputId": "ddfd3d96-67d7-4b79-d7d3-4199d75a2c29"
      },
      "id": "GTsZZXXlZpKK",
      "execution_count": null,
      "outputs": [
        {
          "output_type": "stream",
          "name": "stdout",
          "text": [
            "Epoch 1/30\n"
          ]
        },
        {
          "output_type": "stream",
          "name": "stderr",
          "text": [
            "/usr/local/lib/python3.7/dist-packages/keras/optimizers/optimizer_v2/rmsprop.py:135: UserWarning: The `lr` argument is deprecated, use `learning_rate` instead.\n",
            "  super(RMSprop, self).__init__(name, **kwargs)\n",
            "WARNING:tensorflow:Layers in a Sequential model should only have a single input tensor. Received: inputs={'number_of_words': <tf.Tensor 'IteratorGetNext:25' shape=(None,) dtype=int64>, 'stopwords_frequency': <tf.Tensor 'IteratorGetNext:32' shape=(None,) dtype=float32>, 'av_word_per_sen': <tf.Tensor 'IteratorGetNext:2' shape=(None,) dtype=float32>, 'punctuations': <tf.Tensor 'IteratorGetNext:27' shape=(None,) dtype=float32>, 'ARI': <tf.Tensor 'IteratorGetNext:0' shape=(None,) dtype=int64>, 'freq_of_verb': <tf.Tensor 'IteratorGetNext:16' shape=(None,) dtype=float32>, 'freq_of_adj': <tf.Tensor 'IteratorGetNext:9' shape=(None,) dtype=float32>, 'freq_of_adv': <tf.Tensor 'IteratorGetNext:10' shape=(None,) dtype=float32>, 'freq_of_distinct_adj': <tf.Tensor 'IteratorGetNext:11' shape=(None,) dtype=float32>, 'freq_of_distinct_adv': <tf.Tensor 'IteratorGetNext:12' shape=(None,) dtype=float32>, 'sentence_complexity': <tf.Tensor 'IteratorGetNext:28' shape=(None,) dtype=float32>, 'freq_of_wrong_words': <tf.Tensor 'IteratorGetNext:17' shape=(None,) dtype=float32>, 'sentiment_compound': <tf.Tensor 'IteratorGetNext:29' shape=(None,) dtype=float32>, 'sentiment_positive': <tf.Tensor 'IteratorGetNext:31' shape=(None,) dtype=float32>, 'sentiment_negative': <tf.Tensor 'IteratorGetNext:30' shape=(None,) dtype=float32>, 'num_of_grammar_errors': <tf.Tensor 'IteratorGetNext:22' shape=(None,) dtype=int64>, 'corrected_text': <tf.Tensor 'IteratorGetNext:4' shape=(None,) dtype=string>, 'num_of_short_forms': <tf.Tensor 'IteratorGetNext:23' shape=(None,) dtype=int64>, 'Incorrect_form_ratio': <tf.Tensor 'IteratorGetNext:1' shape=(None,) dtype=float32>, 'flesch_reading_ease': <tf.Tensor 'IteratorGetNext:7' shape=(None,) dtype=float32>, 'flesch_kincaid_grade': <tf.Tensor 'IteratorGetNext:6' shape=(None,) dtype=float32>, 'dale_chall_readability_score': <tf.Tensor 'IteratorGetNext:5' shape=(None,) dtype=float32>, 'text_standard': <tf.Tensor 'IteratorGetNext:33' shape=(None,) dtype=float32>, 'mcalpine_eflaw': <tf.Tensor 'IteratorGetNext:20' shape=(None,) dtype=float32>, 'number_of_diff_words': <tf.Tensor 'IteratorGetNext:24' shape=(None,) dtype=int64>, 'freq_diff_words': <tf.Tensor 'IteratorGetNext:8' shape=(None,) dtype=float32>, 'ttr': <tf.Tensor 'IteratorGetNext:34' shape=(None,) dtype=float32>, 'coherence_score': <tf.Tensor 'IteratorGetNext:3' shape=(None,) dtype=float32>, 'lexrank_avg_min_diff': <tf.Tensor 'IteratorGetNext:18' shape=(None,) dtype=float32>, 'lexrank_interquartile': <tf.Tensor 'IteratorGetNext:19' shape=(None,) dtype=float32>, 'freq_of_noun': <tf.Tensor 'IteratorGetNext:13' shape=(None,) dtype=float32>, 'freq_of_transition': <tf.Tensor 'IteratorGetNext:15' shape=(None,) dtype=float32>, 'freq_of_pronoun': <tf.Tensor 'IteratorGetNext:14' shape=(None,) dtype=float32>, 'noun_to_adj': <tf.Tensor 'IteratorGetNext:21' shape=(None,) dtype=float32>, 'verb_to_adv': <tf.Tensor 'IteratorGetNext:35' shape=(None,) dtype=float32>, 'phrase_diversity': <tf.Tensor 'IteratorGetNext:26' shape=(None,) dtype=float32>, 'vocabulary': <tf.Tensor 'IteratorGetNext:36' shape=(None,) dtype=float32>}. Consider rewriting this model with the Functional API.\n",
            "WARNING:tensorflow:Layers in a Sequential model should only have a single input tensor. Received: inputs={'number_of_words': <tf.Tensor 'IteratorGetNext:25' shape=(None,) dtype=int64>, 'stopwords_frequency': <tf.Tensor 'IteratorGetNext:32' shape=(None,) dtype=float32>, 'av_word_per_sen': <tf.Tensor 'IteratorGetNext:2' shape=(None,) dtype=float32>, 'punctuations': <tf.Tensor 'IteratorGetNext:27' shape=(None,) dtype=float32>, 'ARI': <tf.Tensor 'IteratorGetNext:0' shape=(None,) dtype=int64>, 'freq_of_verb': <tf.Tensor 'IteratorGetNext:16' shape=(None,) dtype=float32>, 'freq_of_adj': <tf.Tensor 'IteratorGetNext:9' shape=(None,) dtype=float32>, 'freq_of_adv': <tf.Tensor 'IteratorGetNext:10' shape=(None,) dtype=float32>, 'freq_of_distinct_adj': <tf.Tensor 'IteratorGetNext:11' shape=(None,) dtype=float32>, 'freq_of_distinct_adv': <tf.Tensor 'IteratorGetNext:12' shape=(None,) dtype=float32>, 'sentence_complexity': <tf.Tensor 'IteratorGetNext:28' shape=(None,) dtype=float32>, 'freq_of_wrong_words': <tf.Tensor 'IteratorGetNext:17' shape=(None,) dtype=float32>, 'sentiment_compound': <tf.Tensor 'IteratorGetNext:29' shape=(None,) dtype=float32>, 'sentiment_positive': <tf.Tensor 'IteratorGetNext:31' shape=(None,) dtype=float32>, 'sentiment_negative': <tf.Tensor 'IteratorGetNext:30' shape=(None,) dtype=float32>, 'num_of_grammar_errors': <tf.Tensor 'IteratorGetNext:22' shape=(None,) dtype=int64>, 'corrected_text': <tf.Tensor 'IteratorGetNext:4' shape=(None,) dtype=string>, 'num_of_short_forms': <tf.Tensor 'IteratorGetNext:23' shape=(None,) dtype=int64>, 'Incorrect_form_ratio': <tf.Tensor 'IteratorGetNext:1' shape=(None,) dtype=float32>, 'flesch_reading_ease': <tf.Tensor 'IteratorGetNext:7' shape=(None,) dtype=float32>, 'flesch_kincaid_grade': <tf.Tensor 'IteratorGetNext:6' shape=(None,) dtype=float32>, 'dale_chall_readability_score': <tf.Tensor 'IteratorGetNext:5' shape=(None,) dtype=float32>, 'text_standard': <tf.Tensor 'IteratorGetNext:33' shape=(None,) dtype=float32>, 'mcalpine_eflaw': <tf.Tensor 'IteratorGetNext:20' shape=(None,) dtype=float32>, 'number_of_diff_words': <tf.Tensor 'IteratorGetNext:24' shape=(None,) dtype=int64>, 'freq_diff_words': <tf.Tensor 'IteratorGetNext:8' shape=(None,) dtype=float32>, 'ttr': <tf.Tensor 'IteratorGetNext:34' shape=(None,) dtype=float32>, 'coherence_score': <tf.Tensor 'IteratorGetNext:3' shape=(None,) dtype=float32>, 'lexrank_avg_min_diff': <tf.Tensor 'IteratorGetNext:18' shape=(None,) dtype=float32>, 'lexrank_interquartile': <tf.Tensor 'IteratorGetNext:19' shape=(None,) dtype=float32>, 'freq_of_noun': <tf.Tensor 'IteratorGetNext:13' shape=(None,) dtype=float32>, 'freq_of_transition': <tf.Tensor 'IteratorGetNext:15' shape=(None,) dtype=float32>, 'freq_of_pronoun': <tf.Tensor 'IteratorGetNext:14' shape=(None,) dtype=float32>, 'noun_to_adj': <tf.Tensor 'IteratorGetNext:21' shape=(None,) dtype=float32>, 'verb_to_adv': <tf.Tensor 'IteratorGetNext:35' shape=(None,) dtype=float32>, 'phrase_diversity': <tf.Tensor 'IteratorGetNext:26' shape=(None,) dtype=float32>, 'vocabulary': <tf.Tensor 'IteratorGetNext:36' shape=(None,) dtype=float32>}. Consider rewriting this model with the Functional API.\n"
          ]
        },
        {
          "output_type": "stream",
          "name": "stdout",
          "text": [
            "\r 1/10 [==>...........................] - ETA: 9s - loss: 704.7987 - mean_squared_error: 704.7987 - accuracy: 0.0000e+00"
          ]
        },
        {
          "output_type": "stream",
          "name": "stderr",
          "text": [
            "WARNING:tensorflow:Layers in a Sequential model should only have a single input tensor. Received: inputs={'number_of_words': <tf.Tensor 'IteratorGetNext:25' shape=(None,) dtype=int64>, 'stopwords_frequency': <tf.Tensor 'IteratorGetNext:32' shape=(None,) dtype=float32>, 'av_word_per_sen': <tf.Tensor 'IteratorGetNext:2' shape=(None,) dtype=float32>, 'punctuations': <tf.Tensor 'IteratorGetNext:27' shape=(None,) dtype=float32>, 'ARI': <tf.Tensor 'IteratorGetNext:0' shape=(None,) dtype=int64>, 'freq_of_verb': <tf.Tensor 'IteratorGetNext:16' shape=(None,) dtype=float32>, 'freq_of_adj': <tf.Tensor 'IteratorGetNext:9' shape=(None,) dtype=float32>, 'freq_of_adv': <tf.Tensor 'IteratorGetNext:10' shape=(None,) dtype=float32>, 'freq_of_distinct_adj': <tf.Tensor 'IteratorGetNext:11' shape=(None,) dtype=float32>, 'freq_of_distinct_adv': <tf.Tensor 'IteratorGetNext:12' shape=(None,) dtype=float32>, 'sentence_complexity': <tf.Tensor 'IteratorGetNext:28' shape=(None,) dtype=float32>, 'freq_of_wrong_words': <tf.Tensor 'IteratorGetNext:17' shape=(None,) dtype=float32>, 'sentiment_compound': <tf.Tensor 'IteratorGetNext:29' shape=(None,) dtype=float32>, 'sentiment_positive': <tf.Tensor 'IteratorGetNext:31' shape=(None,) dtype=float32>, 'sentiment_negative': <tf.Tensor 'IteratorGetNext:30' shape=(None,) dtype=float32>, 'num_of_grammar_errors': <tf.Tensor 'IteratorGetNext:22' shape=(None,) dtype=int64>, 'corrected_text': <tf.Tensor 'IteratorGetNext:4' shape=(None,) dtype=string>, 'num_of_short_forms': <tf.Tensor 'IteratorGetNext:23' shape=(None,) dtype=int64>, 'Incorrect_form_ratio': <tf.Tensor 'IteratorGetNext:1' shape=(None,) dtype=float32>, 'flesch_reading_ease': <tf.Tensor 'IteratorGetNext:7' shape=(None,) dtype=float32>, 'flesch_kincaid_grade': <tf.Tensor 'IteratorGetNext:6' shape=(None,) dtype=float32>, 'dale_chall_readability_score': <tf.Tensor 'IteratorGetNext:5' shape=(None,) dtype=float32>, 'text_standard': <tf.Tensor 'IteratorGetNext:33' shape=(None,) dtype=float32>, 'mcalpine_eflaw': <tf.Tensor 'IteratorGetNext:20' shape=(None,) dtype=float32>, 'number_of_diff_words': <tf.Tensor 'IteratorGetNext:24' shape=(None,) dtype=int64>, 'freq_diff_words': <tf.Tensor 'IteratorGetNext:8' shape=(None,) dtype=float32>, 'ttr': <tf.Tensor 'IteratorGetNext:34' shape=(None,) dtype=float32>, 'coherence_score': <tf.Tensor 'IteratorGetNext:3' shape=(None,) dtype=float32>, 'lexrank_avg_min_diff': <tf.Tensor 'IteratorGetNext:18' shape=(None,) dtype=float32>, 'lexrank_interquartile': <tf.Tensor 'IteratorGetNext:19' shape=(None,) dtype=float32>, 'freq_of_noun': <tf.Tensor 'IteratorGetNext:13' shape=(None,) dtype=float32>, 'freq_of_transition': <tf.Tensor 'IteratorGetNext:15' shape=(None,) dtype=float32>, 'freq_of_pronoun': <tf.Tensor 'IteratorGetNext:14' shape=(None,) dtype=float32>, 'noun_to_adj': <tf.Tensor 'IteratorGetNext:21' shape=(None,) dtype=float32>, 'verb_to_adv': <tf.Tensor 'IteratorGetNext:35' shape=(None,) dtype=float32>, 'phrase_diversity': <tf.Tensor 'IteratorGetNext:26' shape=(None,) dtype=float32>, 'vocabulary': <tf.Tensor 'IteratorGetNext:36' shape=(None,) dtype=float32>}. Consider rewriting this model with the Functional API.\n"
          ]
        },
        {
          "output_type": "stream",
          "name": "stdout",
          "text": [
            "\b\b\b\b\b\b\b\b\b\b\b\b\b\b\b\b\b\b\b\b\b\b\b\b\b\b\b\b\b\b\b\b\b\b\b\b\b\b\b\b\b\b\b\b\b\b\b\b\b\b\b\b\b\b\b\b\b\b\b\b\b\b\b\b\b\b\b\b\b\b\b\b\b\b\b\b\b\b\b\b\b\b\b\b\b\b\b\b\b\b\b\b\b\b\b\b\b\b\b\b\b\b\b\b\b\b\b\b\b\b\b\b\b\b\b\b\b\b\b\r10/10 [==============================] - 2s 67ms/step - loss: 2627.9651 - mean_squared_error: 2627.9651 - accuracy: 3.9968e-04 - val_loss: 21.0147 - val_mean_squared_error: 21.0147 - val_accuracy: 0.0032\n",
            "Epoch 2/30\n",
            "10/10 [==============================] - 0s 9ms/step - loss: 15.7750 - mean_squared_error: 15.7750 - accuracy: 0.0016 - val_loss: 42.4186 - val_mean_squared_error: 42.4186 - val_accuracy: 0.0032\n",
            "Epoch 3/30\n",
            "10/10 [==============================] - 0s 9ms/step - loss: 56.9509 - mean_squared_error: 56.9509 - accuracy: 0.0012 - val_loss: 30.7489 - val_mean_squared_error: 30.7489 - val_accuracy: 0.0032\n",
            "Epoch 4/30\n",
            "10/10 [==============================] - 0s 10ms/step - loss: 80.1713 - mean_squared_error: 80.1713 - accuracy: 3.9968e-04 - val_loss: 141.0663 - val_mean_squared_error: 141.0663 - val_accuracy: 0.0032\n",
            "Epoch 5/30\n",
            "10/10 [==============================] - 0s 9ms/step - loss: 29.8346 - mean_squared_error: 29.8346 - accuracy: 0.0016 - val_loss: 4.6488 - val_mean_squared_error: 4.6488 - val_accuracy: 0.0032\n",
            "Epoch 6/30\n",
            "10/10 [==============================] - 0s 9ms/step - loss: 56.0902 - mean_squared_error: 56.0902 - accuracy: 3.9968e-04 - val_loss: 3.9654 - val_mean_squared_error: 3.9654 - val_accuracy: 0.0032\n",
            "Epoch 7/30\n",
            "10/10 [==============================] - 0s 11ms/step - loss: 5.7209 - mean_squared_error: 5.7209 - accuracy: 0.0012 - val_loss: 50.1407 - val_mean_squared_error: 50.1407 - val_accuracy: 0.0032\n",
            "Epoch 8/30\n",
            "10/10 [==============================] - 0s 10ms/step - loss: 25.6458 - mean_squared_error: 25.6458 - accuracy: 0.0012 - val_loss: 1.6397 - val_mean_squared_error: 1.6397 - val_accuracy: 0.0032\n",
            "Epoch 9/30\n",
            "10/10 [==============================] - 0s 11ms/step - loss: 8.9358 - mean_squared_error: 8.9358 - accuracy: 0.0012 - val_loss: 7.6233 - val_mean_squared_error: 7.6233 - val_accuracy: 0.0032\n",
            "Epoch 10/30\n",
            "10/10 [==============================] - 0s 10ms/step - loss: 3.1614 - mean_squared_error: 3.1614 - accuracy: 0.0016 - val_loss: 9.1517 - val_mean_squared_error: 9.1517 - val_accuracy: 0.0016\n",
            "Epoch 11/30\n",
            "10/10 [==============================] - 0s 9ms/step - loss: 4.3559 - mean_squared_error: 4.3559 - accuracy: 7.9936e-04 - val_loss: 0.5318 - val_mean_squared_error: 0.5318 - val_accuracy: 0.0032\n",
            "Epoch 12/30\n",
            "10/10 [==============================] - 0s 10ms/step - loss: 5.0148 - mean_squared_error: 5.0148 - accuracy: 0.0016 - val_loss: 4.3268 - val_mean_squared_error: 4.3268 - val_accuracy: 0.0016\n",
            "Epoch 13/30\n",
            "10/10 [==============================] - 0s 9ms/step - loss: 2.4883 - mean_squared_error: 2.4883 - accuracy: 7.9936e-04 - val_loss: 2.3685 - val_mean_squared_error: 2.3685 - val_accuracy: 0.0016\n",
            "Epoch 14/30\n",
            "10/10 [==============================] - 0s 10ms/step - loss: 2.1306 - mean_squared_error: 2.1306 - accuracy: 0.0012 - val_loss: 1.4063 - val_mean_squared_error: 1.4063 - val_accuracy: 0.0032\n",
            "Epoch 15/30\n",
            "10/10 [==============================] - 0s 9ms/step - loss: 3.3484 - mean_squared_error: 3.3484 - accuracy: 0.0016 - val_loss: 7.1420 - val_mean_squared_error: 7.1420 - val_accuracy: 0.0016\n",
            "Epoch 16/30\n",
            "10/10 [==============================] - 0s 10ms/step - loss: 2.4220 - mean_squared_error: 2.4220 - accuracy: 0.0016 - val_loss: 1.7212 - val_mean_squared_error: 1.7212 - val_accuracy: 0.0032\n",
            "Epoch 17/30\n",
            "10/10 [==============================] - 0s 9ms/step - loss: 1.5462 - mean_squared_error: 1.5462 - accuracy: 0.0016 - val_loss: 3.1422 - val_mean_squared_error: 3.1422 - val_accuracy: 0.0032\n",
            "Epoch 18/30\n",
            "10/10 [==============================] - 0s 9ms/step - loss: 2.6166 - mean_squared_error: 2.6166 - accuracy: 0.0016 - val_loss: 2.6562 - val_mean_squared_error: 2.6562 - val_accuracy: 0.0032\n",
            "Epoch 19/30\n",
            "10/10 [==============================] - 0s 10ms/step - loss: 3.4493 - mean_squared_error: 3.4493 - accuracy: 0.0016 - val_loss: 0.7456 - val_mean_squared_error: 0.7456 - val_accuracy: 0.0032\n",
            "Epoch 20/30\n",
            "10/10 [==============================] - 0s 9ms/step - loss: 1.0735 - mean_squared_error: 1.0735 - accuracy: 0.0016 - val_loss: 0.8436 - val_mean_squared_error: 0.8436 - val_accuracy: 0.0032\n",
            "Epoch 21/30\n",
            "10/10 [==============================] - 0s 9ms/step - loss: 0.9504 - mean_squared_error: 0.9504 - accuracy: 0.0016 - val_loss: 0.7291 - val_mean_squared_error: 0.7291 - val_accuracy: 0.0032\n",
            "Epoch 22/30\n",
            "10/10 [==============================] - 0s 10ms/step - loss: 5.0054 - mean_squared_error: 5.0054 - accuracy: 0.0016 - val_loss: 1.2923 - val_mean_squared_error: 1.2923 - val_accuracy: 0.0032\n",
            "Epoch 23/30\n",
            "10/10 [==============================] - 0s 9ms/step - loss: 1.6947 - mean_squared_error: 1.6947 - accuracy: 0.0016 - val_loss: 1.5805 - val_mean_squared_error: 1.5805 - val_accuracy: 0.0032\n",
            "Epoch 24/30\n",
            "10/10 [==============================] - 0s 9ms/step - loss: 1.1622 - mean_squared_error: 1.1622 - accuracy: 0.0016 - val_loss: 0.5794 - val_mean_squared_error: 0.5794 - val_accuracy: 0.0032\n",
            "Epoch 25/30\n",
            "10/10 [==============================] - 0s 10ms/step - loss: 0.9057 - mean_squared_error: 0.9057 - accuracy: 0.0016 - val_loss: 0.7100 - val_mean_squared_error: 0.7100 - val_accuracy: 0.0032\n",
            "Epoch 26/30\n",
            "10/10 [==============================] - 0s 9ms/step - loss: 0.6850 - mean_squared_error: 0.6850 - accuracy: 0.0016 - val_loss: 1.0708 - val_mean_squared_error: 1.0708 - val_accuracy: 0.0032\n",
            "Epoch 27/30\n",
            "10/10 [==============================] - 0s 9ms/step - loss: 0.6651 - mean_squared_error: 0.6651 - accuracy: 0.0016 - val_loss: 0.4604 - val_mean_squared_error: 0.4604 - val_accuracy: 0.0032\n",
            "Epoch 28/30\n",
            "10/10 [==============================] - 0s 9ms/step - loss: 0.4324 - mean_squared_error: 0.4324 - accuracy: 0.0016 - val_loss: 0.4326 - val_mean_squared_error: 0.4326 - val_accuracy: 0.0032\n",
            "Epoch 29/30\n",
            "10/10 [==============================] - 0s 9ms/step - loss: 0.4305 - mean_squared_error: 0.4305 - accuracy: 0.0016 - val_loss: 0.4396 - val_mean_squared_error: 0.4396 - val_accuracy: 0.0032\n",
            "Epoch 30/30\n",
            "10/10 [==============================] - 0s 9ms/step - loss: 0.4171 - mean_squared_error: 0.4171 - accuracy: 0.0016 - val_loss: 0.3915 - val_mean_squared_error: 0.3915 - val_accuracy: 0.0032\n"
          ]
        },
        {
          "output_type": "display_data",
          "data": {
            "text/plain": [
              "<Figure size 720x576 with 1 Axes>"
            ],
            "image/png": "[encoded data removed]"
          },
          "metadata": {
            "needs_background": "light"
          }
        }
      ]
    },
    {
      "cell_type": "code",
      "source": [
        "test_features = {name:np.array(value) for name, value in test_data.items()}\n",
        "test_features.pop(\"vocabulary\")\n",
        "test_label = np.array(test_features.pop(label_name))\n",
        "prediction_lr1 = model_lr1.predict(test_features)\n",
        "pre_list = []\n",
        "for value in prediction_lr1:\n",
        "  pre_list.append(value[0])\n",
        "pre_list_2 = result(pre_list)"
      ],
      "metadata": {
        "colab": {
          "base_uri": "https://localhost:8080/"
        },
        "id": "n-_TTmefaPDc",
        "outputId": "1afde62d-29f7-4973-a0c7-8ae0f3bce3a5"
      },
      "id": "n-_TTmefaPDc",
      "execution_count": null,
      "outputs": [
        {
          "output_type": "stream",
          "name": "stderr",
          "text": [
            "WARNING:tensorflow:Layers in a Sequential model should only have a single input tensor. Received: inputs={'number_of_words': <tf.Tensor 'IteratorGetNext:24' shape=(None,) dtype=int64>, 'stopwords_frequency': <tf.Tensor 'IteratorGetNext:31' shape=(None,) dtype=float32>, 'av_word_per_sen': <tf.Tensor 'IteratorGetNext:2' shape=(None,) dtype=float32>, 'punctuations': <tf.Tensor 'IteratorGetNext:26' shape=(None,) dtype=float32>, 'ARI': <tf.Tensor 'IteratorGetNext:0' shape=(None,) dtype=int64>, 'freq_of_verb': <tf.Tensor 'IteratorGetNext:15' shape=(None,) dtype=float32>, 'freq_of_adj': <tf.Tensor 'IteratorGetNext:8' shape=(None,) dtype=float32>, 'freq_of_adv': <tf.Tensor 'IteratorGetNext:9' shape=(None,) dtype=float32>, 'freq_of_distinct_adj': <tf.Tensor 'IteratorGetNext:10' shape=(None,) dtype=float32>, 'freq_of_distinct_adv': <tf.Tensor 'IteratorGetNext:11' shape=(None,) dtype=float32>, 'sentence_complexity': <tf.Tensor 'IteratorGetNext:27' shape=(None,) dtype=float32>, 'freq_of_wrong_words': <tf.Tensor 'IteratorGetNext:16' shape=(None,) dtype=float32>, 'sentiment_compound': <tf.Tensor 'IteratorGetNext:28' shape=(None,) dtype=float32>, 'sentiment_positive': <tf.Tensor 'IteratorGetNext:30' shape=(None,) dtype=float32>, 'sentiment_negative': <tf.Tensor 'IteratorGetNext:29' shape=(None,) dtype=float32>, 'num_of_grammar_errors': <tf.Tensor 'IteratorGetNext:21' shape=(None,) dtype=int64>, 'num_of_short_forms': <tf.Tensor 'IteratorGetNext:22' shape=(None,) dtype=int64>, 'Incorrect_form_ratio': <tf.Tensor 'IteratorGetNext:1' shape=(None,) dtype=float32>, 'flesch_reading_ease': <tf.Tensor 'IteratorGetNext:6' shape=(None,) dtype=float32>, 'flesch_kincaid_grade': <tf.Tensor 'IteratorGetNext:5' shape=(None,) dtype=float32>, 'dale_chall_readability_score': <tf.Tensor 'IteratorGetNext:4' shape=(None,) dtype=float32>, 'text_standard': <tf.Tensor 'IteratorGetNext:32' shape=(None,) dtype=float32>, 'mcalpine_eflaw': <tf.Tensor 'IteratorGetNext:19' shape=(None,) dtype=float32>, 'number_of_diff_words': <tf.Tensor 'IteratorGetNext:23' shape=(None,) dtype=int64>, 'freq_diff_words': <tf.Tensor 'IteratorGetNext:7' shape=(None,) dtype=float32>, 'ttr': <tf.Tensor 'IteratorGetNext:33' shape=(None,) dtype=float32>, 'coherence_score': <tf.Tensor 'IteratorGetNext:3' shape=(None,) dtype=float32>, 'lexrank_avg_min_diff': <tf.Tensor 'IteratorGetNext:17' shape=(None,) dtype=float32>, 'lexrank_interquartile': <tf.Tensor 'IteratorGetNext:18' shape=(None,) dtype=float32>, 'freq_of_noun': <tf.Tensor 'IteratorGetNext:12' shape=(None,) dtype=float32>, 'freq_of_transition': <tf.Tensor 'IteratorGetNext:14' shape=(None,) dtype=float32>, 'freq_of_pronoun': <tf.Tensor 'IteratorGetNext:13' shape=(None,) dtype=float32>, 'noun_to_adj': <tf.Tensor 'IteratorGetNext:20' shape=(None,) dtype=float32>, 'verb_to_adv': <tf.Tensor 'IteratorGetNext:34' shape=(None,) dtype=float32>, 'phrase_diversity': <tf.Tensor 'IteratorGetNext:25' shape=(None,) dtype=float32>}. Consider rewriting this model with the Functional API.\n"
          ]
        },
        {
          "output_type": "stream",
          "name": "stdout",
          "text": [
            "25/25 [==============================] - 0s 3ms/step\n"
          ]
        }
      ]
    },
    {
      "cell_type": "code",
      "source": [
        "co_accuracy_lr = accuracy_range(pre_list, list(test_data['cohesion']))\n",
        "co_accuracy_lr"
      ],
      "metadata": {
        "colab": {
          "base_uri": "https://localhost:8080/"
        },
        "outputId": "8676a444-cd85-41b0-bce9-6df110c8ed4d",
        "id": "jfPqtgrcawjz"
      },
      "execution_count": null,
      "outputs": [
        {
          "output_type": "execute_result",
          "data": {
            "text/plain": [
              "0.5708812260536399"
            ]
          },
          "metadata": {},
          "execution_count": 116
        }
      ],
      "id": "jfPqtgrcawjz"
    },
    {
      "cell_type": "code",
      "source": [
        "co_accuracy2_lr = accuracy(list(test_data['cohesion']), pre_list_2)\n",
        "co_accuracy2_lr"
      ],
      "metadata": {
        "colab": {
          "base_uri": "https://localhost:8080/"
        },
        "outputId": "de1a3a3b-939b-4dc6-804c-8229540dd6fe",
        "id": "k24cheQxawj0"
      },
      "execution_count": null,
      "outputs": [
        {
          "output_type": "execute_result",
          "data": {
            "text/plain": [
              "0.2950191570881226"
            ]
          },
          "metadata": {},
          "execution_count": 117
        }
      ],
      "id": "k24cheQxawj0"
    },
    {
      "cell_type": "code",
      "source": [
        "error_rate3 = error_rate(list(test_data['cohesion']), pre_list)\n",
        "error_rate3"
      ],
      "metadata": {
        "colab": {
          "base_uri": "https://localhost:8080/"
        },
        "outputId": "29a4a3aa-7118-4e55-8416-0c547f99dc26",
        "id": "Kgl1qwBfawj0"
      },
      "execution_count": null,
      "outputs": [
        {
          "output_type": "execute_result",
          "data": {
            "text/plain": [
              "0.5164571394561046"
            ]
          },
          "metadata": {},
          "execution_count": 118
        }
      ],
      "id": "Kgl1qwBfawj0"
    },
    {
      "cell_type": "markdown",
      "source": [
        "Train on vocabulary"
      ],
      "metadata": {
        "id": "J5RhHCPS_hgy"
      },
      "id": "J5RhHCPS_hgy"
    },
    {
      "cell_type": "code",
      "source": [
        "learning_rate = 0.01\n",
        "number_epochs = 30\n",
        "batch_size = 256\n",
        "label_name = \"vocabulary\"\n",
        "\n",
        "# Establish the model's topography.\n",
        "model_lr = create_model_linear(learning_rate, my_feature_layer)\n",
        "\n",
        "# Train the model on the normalized training set.\n",
        "mse_train_lr, mse_val_lr = train_model(model_lr, train_data, number_epochs, batch_size, label_name)\n",
        "#train_history = train_model(model_lr, train_data, number_epochs, batch_size, label_name)\n",
        "plot_the_loss_curve(mse_train_lr, mse_val_lr)"
      ],
      "metadata": {
        "colab": {
          "base_uri": "https://localhost:8080/",
          "height": 1000
        },
        "id": "jWQ4CvBJOZ9o",
        "outputId": "2a7e137e-cc06-4c1d-e7b2-8172580ce83c"
      },
      "id": "jWQ4CvBJOZ9o",
      "execution_count": null,
      "outputs": [
        {
          "output_type": "stream",
          "name": "stdout",
          "text": [
            "Epoch 1/30\n"
          ]
        },
        {
          "output_type": "stream",
          "name": "stderr",
          "text": [
            "WARNING:tensorflow:Layers in a Sequential model should only have a single input tensor. Received: inputs={'number_of_words': <tf.Tensor 'IteratorGetNext:26' shape=(None,) dtype=int64>, 'stopwords_frequency': <tf.Tensor 'IteratorGetNext:33' shape=(None,) dtype=float32>, 'av_word_per_sen': <tf.Tensor 'IteratorGetNext:2' shape=(None,) dtype=float32>, 'punctuations': <tf.Tensor 'IteratorGetNext:28' shape=(None,) dtype=float32>, 'ARI': <tf.Tensor 'IteratorGetNext:0' shape=(None,) dtype=int64>, 'freq_of_verb': <tf.Tensor 'IteratorGetNext:17' shape=(None,) dtype=float32>, 'freq_of_adj': <tf.Tensor 'IteratorGetNext:10' shape=(None,) dtype=float32>, 'freq_of_adv': <tf.Tensor 'IteratorGetNext:11' shape=(None,) dtype=float32>, 'freq_of_distinct_adj': <tf.Tensor 'IteratorGetNext:12' shape=(None,) dtype=float32>, 'freq_of_distinct_adv': <tf.Tensor 'IteratorGetNext:13' shape=(None,) dtype=float32>, 'sentence_complexity': <tf.Tensor 'IteratorGetNext:29' shape=(None,) dtype=float32>, 'freq_of_wrong_words': <tf.Tensor 'IteratorGetNext:18' shape=(None,) dtype=float32>, 'sentiment_compound': <tf.Tensor 'IteratorGetNext:30' shape=(None,) dtype=float32>, 'sentiment_positive': <tf.Tensor 'IteratorGetNext:32' shape=(None,) dtype=float32>, 'sentiment_negative': <tf.Tensor 'IteratorGetNext:31' shape=(None,) dtype=float32>, 'num_of_grammar_errors': <tf.Tensor 'IteratorGetNext:23' shape=(None,) dtype=int64>, 'corrected_text': <tf.Tensor 'IteratorGetNext:5' shape=(None,) dtype=string>, 'num_of_short_forms': <tf.Tensor 'IteratorGetNext:24' shape=(None,) dtype=int64>, 'Incorrect_form_ratio': <tf.Tensor 'IteratorGetNext:1' shape=(None,) dtype=float32>, 'flesch_reading_ease': <tf.Tensor 'IteratorGetNext:8' shape=(None,) dtype=float32>, 'flesch_kincaid_grade': <tf.Tensor 'IteratorGetNext:7' shape=(None,) dtype=float32>, 'dale_chall_readability_score': <tf.Tensor 'IteratorGetNext:6' shape=(None,) dtype=float32>, 'text_standard': <tf.Tensor 'IteratorGetNext:34' shape=(None,) dtype=float32>, 'mcalpine_eflaw': <tf.Tensor 'IteratorGetNext:21' shape=(None,) dtype=float32>, 'number_of_diff_words': <tf.Tensor 'IteratorGetNext:25' shape=(None,) dtype=int64>, 'freq_diff_words': <tf.Tensor 'IteratorGetNext:9' shape=(None,) dtype=float32>, 'ttr': <tf.Tensor 'IteratorGetNext:35' shape=(None,) dtype=float32>, 'coherence_score': <tf.Tensor 'IteratorGetNext:3' shape=(None,) dtype=float32>, 'lexrank_avg_min_diff': <tf.Tensor 'IteratorGetNext:19' shape=(None,) dtype=float32>, 'lexrank_interquartile': <tf.Tensor 'IteratorGetNext:20' shape=(None,) dtype=float32>, 'freq_of_noun': <tf.Tensor 'IteratorGetNext:14' shape=(None,) dtype=float32>, 'freq_of_transition': <tf.Tensor 'IteratorGetNext:16' shape=(None,) dtype=float32>, 'freq_of_pronoun': <tf.Tensor 'IteratorGetNext:15' shape=(None,) dtype=float32>, 'noun_to_adj': <tf.Tensor 'IteratorGetNext:22' shape=(None,) dtype=float32>, 'verb_to_adv': <tf.Tensor 'IteratorGetNext:36' shape=(None,) dtype=float32>, 'phrase_diversity': <tf.Tensor 'IteratorGetNext:27' shape=(None,) dtype=float32>, 'cohesion': <tf.Tensor 'IteratorGetNext:4' shape=(None,) dtype=float32>}. Consider rewriting this model with the Functional API.\n",
            "WARNING:tensorflow:Layers in a Sequential model should only have a single input tensor. Received: inputs={'number_of_words': <tf.Tensor 'IteratorGetNext:26' shape=(None,) dtype=int64>, 'stopwords_frequency': <tf.Tensor 'IteratorGetNext:33' shape=(None,) dtype=float32>, 'av_word_per_sen': <tf.Tensor 'IteratorGetNext:2' shape=(None,) dtype=float32>, 'punctuations': <tf.Tensor 'IteratorGetNext:28' shape=(None,) dtype=float32>, 'ARI': <tf.Tensor 'IteratorGetNext:0' shape=(None,) dtype=int64>, 'freq_of_verb': <tf.Tensor 'IteratorGetNext:17' shape=(None,) dtype=float32>, 'freq_of_adj': <tf.Tensor 'IteratorGetNext:10' shape=(None,) dtype=float32>, 'freq_of_adv': <tf.Tensor 'IteratorGetNext:11' shape=(None,) dtype=float32>, 'freq_of_distinct_adj': <tf.Tensor 'IteratorGetNext:12' shape=(None,) dtype=float32>, 'freq_of_distinct_adv': <tf.Tensor 'IteratorGetNext:13' shape=(None,) dtype=float32>, 'sentence_complexity': <tf.Tensor 'IteratorGetNext:29' shape=(None,) dtype=float32>, 'freq_of_wrong_words': <tf.Tensor 'IteratorGetNext:18' shape=(None,) dtype=float32>, 'sentiment_compound': <tf.Tensor 'IteratorGetNext:30' shape=(None,) dtype=float32>, 'sentiment_positive': <tf.Tensor 'IteratorGetNext:32' shape=(None,) dtype=float32>, 'sentiment_negative': <tf.Tensor 'IteratorGetNext:31' shape=(None,) dtype=float32>, 'num_of_grammar_errors': <tf.Tensor 'IteratorGetNext:23' shape=(None,) dtype=int64>, 'corrected_text': <tf.Tensor 'IteratorGetNext:5' shape=(None,) dtype=string>, 'num_of_short_forms': <tf.Tensor 'IteratorGetNext:24' shape=(None,) dtype=int64>, 'Incorrect_form_ratio': <tf.Tensor 'IteratorGetNext:1' shape=(None,) dtype=float32>, 'flesch_reading_ease': <tf.Tensor 'IteratorGetNext:8' shape=(None,) dtype=float32>, 'flesch_kincaid_grade': <tf.Tensor 'IteratorGetNext:7' shape=(None,) dtype=float32>, 'dale_chall_readability_score': <tf.Tensor 'IteratorGetNext:6' shape=(None,) dtype=float32>, 'text_standard': <tf.Tensor 'IteratorGetNext:34' shape=(None,) dtype=float32>, 'mcalpine_eflaw': <tf.Tensor 'IteratorGetNext:21' shape=(None,) dtype=float32>, 'number_of_diff_words': <tf.Tensor 'IteratorGetNext:25' shape=(None,) dtype=int64>, 'freq_diff_words': <tf.Tensor 'IteratorGetNext:9' shape=(None,) dtype=float32>, 'ttr': <tf.Tensor 'IteratorGetNext:35' shape=(None,) dtype=float32>, 'coherence_score': <tf.Tensor 'IteratorGetNext:3' shape=(None,) dtype=float32>, 'lexrank_avg_min_diff': <tf.Tensor 'IteratorGetNext:19' shape=(None,) dtype=float32>, 'lexrank_interquartile': <tf.Tensor 'IteratorGetNext:20' shape=(None,) dtype=float32>, 'freq_of_noun': <tf.Tensor 'IteratorGetNext:14' shape=(None,) dtype=float32>, 'freq_of_transition': <tf.Tensor 'IteratorGetNext:16' shape=(None,) dtype=float32>, 'freq_of_pronoun': <tf.Tensor 'IteratorGetNext:15' shape=(None,) dtype=float32>, 'noun_to_adj': <tf.Tensor 'IteratorGetNext:22' shape=(None,) dtype=float32>, 'verb_to_adv': <tf.Tensor 'IteratorGetNext:36' shape=(None,) dtype=float32>, 'phrase_diversity': <tf.Tensor 'IteratorGetNext:27' shape=(None,) dtype=float32>, 'cohesion': <tf.Tensor 'IteratorGetNext:4' shape=(None,) dtype=float32>}. Consider rewriting this model with the Functional API.\n"
          ]
        },
        {
          "output_type": "stream",
          "name": "stdout",
          "text": [
            "\r 1/10 [==>...........................] - ETA: 10s - loss: 1518.2764 - mean_squared_error: 1518.2764 - accuracy: 0.0000e+00"
          ]
        },
        {
          "output_type": "stream",
          "name": "stderr",
          "text": [
            "WARNING:tensorflow:Layers in a Sequential model should only have a single input tensor. Received: inputs={'number_of_words': <tf.Tensor 'IteratorGetNext:26' shape=(None,) dtype=int64>, 'stopwords_frequency': <tf.Tensor 'IteratorGetNext:33' shape=(None,) dtype=float32>, 'av_word_per_sen': <tf.Tensor 'IteratorGetNext:2' shape=(None,) dtype=float32>, 'punctuations': <tf.Tensor 'IteratorGetNext:28' shape=(None,) dtype=float32>, 'ARI': <tf.Tensor 'IteratorGetNext:0' shape=(None,) dtype=int64>, 'freq_of_verb': <tf.Tensor 'IteratorGetNext:17' shape=(None,) dtype=float32>, 'freq_of_adj': <tf.Tensor 'IteratorGetNext:10' shape=(None,) dtype=float32>, 'freq_of_adv': <tf.Tensor 'IteratorGetNext:11' shape=(None,) dtype=float32>, 'freq_of_distinct_adj': <tf.Tensor 'IteratorGetNext:12' shape=(None,) dtype=float32>, 'freq_of_distinct_adv': <tf.Tensor 'IteratorGetNext:13' shape=(None,) dtype=float32>, 'sentence_complexity': <tf.Tensor 'IteratorGetNext:29' shape=(None,) dtype=float32>, 'freq_of_wrong_words': <tf.Tensor 'IteratorGetNext:18' shape=(None,) dtype=float32>, 'sentiment_compound': <tf.Tensor 'IteratorGetNext:30' shape=(None,) dtype=float32>, 'sentiment_positive': <tf.Tensor 'IteratorGetNext:32' shape=(None,) dtype=float32>, 'sentiment_negative': <tf.Tensor 'IteratorGetNext:31' shape=(None,) dtype=float32>, 'num_of_grammar_errors': <tf.Tensor 'IteratorGetNext:23' shape=(None,) dtype=int64>, 'corrected_text': <tf.Tensor 'IteratorGetNext:5' shape=(None,) dtype=string>, 'num_of_short_forms': <tf.Tensor 'IteratorGetNext:24' shape=(None,) dtype=int64>, 'Incorrect_form_ratio': <tf.Tensor 'IteratorGetNext:1' shape=(None,) dtype=float32>, 'flesch_reading_ease': <tf.Tensor 'IteratorGetNext:8' shape=(None,) dtype=float32>, 'flesch_kincaid_grade': <tf.Tensor 'IteratorGetNext:7' shape=(None,) dtype=float32>, 'dale_chall_readability_score': <tf.Tensor 'IteratorGetNext:6' shape=(None,) dtype=float32>, 'text_standard': <tf.Tensor 'IteratorGetNext:34' shape=(None,) dtype=float32>, 'mcalpine_eflaw': <tf.Tensor 'IteratorGetNext:21' shape=(None,) dtype=float32>, 'number_of_diff_words': <tf.Tensor 'IteratorGetNext:25' shape=(None,) dtype=int64>, 'freq_diff_words': <tf.Tensor 'IteratorGetNext:9' shape=(None,) dtype=float32>, 'ttr': <tf.Tensor 'IteratorGetNext:35' shape=(None,) dtype=float32>, 'coherence_score': <tf.Tensor 'IteratorGetNext:3' shape=(None,) dtype=float32>, 'lexrank_avg_min_diff': <tf.Tensor 'IteratorGetNext:19' shape=(None,) dtype=float32>, 'lexrank_interquartile': <tf.Tensor 'IteratorGetNext:20' shape=(None,) dtype=float32>, 'freq_of_noun': <tf.Tensor 'IteratorGetNext:14' shape=(None,) dtype=float32>, 'freq_of_transition': <tf.Tensor 'IteratorGetNext:16' shape=(None,) dtype=float32>, 'freq_of_pronoun': <tf.Tensor 'IteratorGetNext:15' shape=(None,) dtype=float32>, 'noun_to_adj': <tf.Tensor 'IteratorGetNext:22' shape=(None,) dtype=float32>, 'verb_to_adv': <tf.Tensor 'IteratorGetNext:36' shape=(None,) dtype=float32>, 'phrase_diversity': <tf.Tensor 'IteratorGetNext:27' shape=(None,) dtype=float32>, 'cohesion': <tf.Tensor 'IteratorGetNext:4' shape=(None,) dtype=float32>}. Consider rewriting this model with the Functional API.\n"
          ]
        },
        {
          "output_type": "stream",
          "name": "stdout",
          "text": [
            "\b\b\b\b\b\b\b\b\b\b\b\b\b\b\b\b\b\b\b\b\b\b\b\b\b\b\b\b\b\b\b\b\b\b\b\b\b\b\b\b\b\b\b\b\b\b\b\b\b\b\b\b\b\b\b\b\b\b\b\b\b\b\b\b\b\b\b\b\b\b\b\b\b\b\b\b\b\b\b\b\b\b\b\b\b\b\b\b\b\b\b\b\b\b\b\b\b\b\b\b\b\b\b\b\b\b\b\b\b\b\b\b\b\b\b\b\b\b\b\b\b\b\r10/10 [==============================] - 2s 70ms/step - loss: 3491.9597 - mean_squared_error: 3491.9597 - accuracy: 0.0000e+00 - val_loss: 10.2587 - val_mean_squared_error: 10.2587 - val_accuracy: 0.0000e+00\n",
            "Epoch 2/30\n",
            "10/10 [==============================] - 0s 9ms/step - loss: 2.6415 - mean_squared_error: 2.6415 - accuracy: 0.0000e+00 - val_loss: 1.1840 - val_mean_squared_error: 1.1840 - val_accuracy: 0.0000e+00\n",
            "Epoch 3/30\n",
            "10/10 [==============================] - 0s 9ms/step - loss: 10.4859 - mean_squared_error: 10.4859 - accuracy: 0.0000e+00 - val_loss: 64.7099 - val_mean_squared_error: 64.7099 - val_accuracy: 0.0000e+00\n",
            "Epoch 4/30\n",
            "10/10 [==============================] - 0s 9ms/step - loss: 107.8797 - mean_squared_error: 107.8797 - accuracy: 0.0000e+00 - val_loss: 128.7098 - val_mean_squared_error: 128.7098 - val_accuracy: 0.0000e+00\n",
            "Epoch 5/30\n",
            "10/10 [==============================] - 0s 9ms/step - loss: 55.7076 - mean_squared_error: 55.7076 - accuracy: 0.0000e+00 - val_loss: 200.2083 - val_mean_squared_error: 200.2083 - val_accuracy: 0.0000e+00\n",
            "Epoch 6/30\n",
            "10/10 [==============================] - 0s 9ms/step - loss: 47.6919 - mean_squared_error: 47.6919 - accuracy: 0.0000e+00 - val_loss: 59.3007 - val_mean_squared_error: 59.3007 - val_accuracy: 0.0000e+00\n",
            "Epoch 7/30\n",
            "10/10 [==============================] - 0s 9ms/step - loss: 37.3943 - mean_squared_error: 37.3943 - accuracy: 0.0000e+00 - val_loss: 15.6664 - val_mean_squared_error: 15.6664 - val_accuracy: 0.0000e+00\n",
            "Epoch 8/30\n",
            "10/10 [==============================] - 0s 10ms/step - loss: 21.9712 - mean_squared_error: 21.9712 - accuracy: 0.0000e+00 - val_loss: 4.1539 - val_mean_squared_error: 4.1539 - val_accuracy: 0.0000e+00\n",
            "Epoch 9/30\n",
            "10/10 [==============================] - 0s 9ms/step - loss: 21.0409 - mean_squared_error: 21.0409 - accuracy: 0.0000e+00 - val_loss: 2.2326 - val_mean_squared_error: 2.2326 - val_accuracy: 0.0000e+00\n",
            "Epoch 10/30\n",
            "10/10 [==============================] - 0s 9ms/step - loss: 1.9986 - mean_squared_error: 1.9986 - accuracy: 0.0000e+00 - val_loss: 2.1415 - val_mean_squared_error: 2.1415 - val_accuracy: 0.0000e+00\n",
            "Epoch 11/30\n",
            "10/10 [==============================] - 0s 10ms/step - loss: 4.3666 - mean_squared_error: 4.3666 - accuracy: 0.0000e+00 - val_loss: 4.2046 - val_mean_squared_error: 4.2046 - val_accuracy: 0.0000e+00\n",
            "Epoch 12/30\n",
            "10/10 [==============================] - 0s 11ms/step - loss: 3.4061 - mean_squared_error: 3.4061 - accuracy: 0.0000e+00 - val_loss: 2.2688 - val_mean_squared_error: 2.2688 - val_accuracy: 0.0000e+00\n",
            "Epoch 13/30\n",
            "10/10 [==============================] - 0s 9ms/step - loss: 2.4886 - mean_squared_error: 2.4886 - accuracy: 0.0000e+00 - val_loss: 2.6191 - val_mean_squared_error: 2.6191 - val_accuracy: 0.0000e+00\n",
            "Epoch 14/30\n",
            "10/10 [==============================] - 0s 9ms/step - loss: 2.3515 - mean_squared_error: 2.3515 - accuracy: 0.0000e+00 - val_loss: 2.2814 - val_mean_squared_error: 2.2814 - val_accuracy: 0.0000e+00\n",
            "Epoch 15/30\n",
            "10/10 [==============================] - 0s 9ms/step - loss: 1.7359 - mean_squared_error: 1.7359 - accuracy: 0.0000e+00 - val_loss: 3.9656 - val_mean_squared_error: 3.9656 - val_accuracy: 0.0000e+00\n",
            "Epoch 16/30\n",
            "10/10 [==============================] - 0s 9ms/step - loss: 2.4811 - mean_squared_error: 2.4811 - accuracy: 0.0000e+00 - val_loss: 1.0547 - val_mean_squared_error: 1.0547 - val_accuracy: 0.0000e+00\n",
            "Epoch 17/30\n",
            "10/10 [==============================] - 0s 11ms/step - loss: 1.5496 - mean_squared_error: 1.5496 - accuracy: 0.0000e+00 - val_loss: 1.2702 - val_mean_squared_error: 1.2702 - val_accuracy: 0.0000e+00\n",
            "Epoch 18/30\n",
            "10/10 [==============================] - 0s 9ms/step - loss: 1.4277 - mean_squared_error: 1.4277 - accuracy: 0.0000e+00 - val_loss: 1.3438 - val_mean_squared_error: 1.3438 - val_accuracy: 0.0000e+00\n",
            "Epoch 19/30\n",
            "10/10 [==============================] - 0s 9ms/step - loss: 1.8641 - mean_squared_error: 1.8641 - accuracy: 0.0000e+00 - val_loss: 0.9893 - val_mean_squared_error: 0.9893 - val_accuracy: 0.0000e+00\n",
            "Epoch 20/30\n",
            "10/10 [==============================] - 0s 9ms/step - loss: 1.1676 - mean_squared_error: 1.1676 - accuracy: 0.0000e+00 - val_loss: 3.4905 - val_mean_squared_error: 3.4905 - val_accuracy: 0.0000e+00\n",
            "Epoch 21/30\n",
            "10/10 [==============================] - 0s 10ms/step - loss: 1.2128 - mean_squared_error: 1.2128 - accuracy: 0.0000e+00 - val_loss: 1.4177 - val_mean_squared_error: 1.4177 - val_accuracy: 0.0000e+00\n",
            "Epoch 22/30\n",
            "10/10 [==============================] - 0s 9ms/step - loss: 1.0934 - mean_squared_error: 1.0934 - accuracy: 0.0000e+00 - val_loss: 1.0275 - val_mean_squared_error: 1.0275 - val_accuracy: 0.0000e+00\n",
            "Epoch 23/30\n",
            "10/10 [==============================] - 0s 11ms/step - loss: 0.8127 - mean_squared_error: 0.8127 - accuracy: 0.0000e+00 - val_loss: 0.6702 - val_mean_squared_error: 0.6702 - val_accuracy: 0.0000e+00\n",
            "Epoch 24/30\n",
            "10/10 [==============================] - 0s 11ms/step - loss: 0.8087 - mean_squared_error: 0.8087 - accuracy: 0.0000e+00 - val_loss: 1.0840 - val_mean_squared_error: 1.0840 - val_accuracy: 0.0000e+00\n",
            "Epoch 25/30\n",
            "10/10 [==============================] - 0s 9ms/step - loss: 1.2479 - mean_squared_error: 1.2479 - accuracy: 0.0000e+00 - val_loss: 0.8328 - val_mean_squared_error: 0.8328 - val_accuracy: 0.0000e+00\n",
            "Epoch 26/30\n",
            "10/10 [==============================] - 0s 10ms/step - loss: 0.6707 - mean_squared_error: 0.6707 - accuracy: 0.0000e+00 - val_loss: 0.8485 - val_mean_squared_error: 0.8485 - val_accuracy: 0.0000e+00\n",
            "Epoch 27/30\n",
            "10/10 [==============================] - 0s 9ms/step - loss: 0.7375 - mean_squared_error: 0.7375 - accuracy: 0.0000e+00 - val_loss: 0.7906 - val_mean_squared_error: 0.7906 - val_accuracy: 0.0000e+00\n",
            "Epoch 28/30\n",
            "10/10 [==============================] - 0s 10ms/step - loss: 0.6472 - mean_squared_error: 0.6472 - accuracy: 0.0000e+00 - val_loss: 0.9627 - val_mean_squared_error: 0.9627 - val_accuracy: 0.0000e+00\n",
            "Epoch 29/30\n",
            "10/10 [==============================] - 0s 10ms/step - loss: 0.7974 - mean_squared_error: 0.7974 - accuracy: 0.0000e+00 - val_loss: 0.4995 - val_mean_squared_error: 0.4995 - val_accuracy: 0.0000e+00\n",
            "Epoch 30/30\n",
            "10/10 [==============================] - 0s 10ms/step - loss: 0.6633 - mean_squared_error: 0.6633 - accuracy: 0.0000e+00 - val_loss: 0.6517 - val_mean_squared_error: 0.6517 - val_accuracy: 0.0000e+00\n"
          ]
        },
        {
          "output_type": "display_data",
          "data": {
            "text/plain": [
              "<Figure size 720x576 with 1 Axes>"
            ],
            "image/png": "[encoded data removed]"
          },
          "metadata": {
            "needs_background": "light"
          }
        }
      ]
    },
    {
      "cell_type": "code",
      "source": [
        "label2 = \"cohesion\"\n",
        "\n",
        "test_features = {name:np.array(value) for name, value in test_data.items()}\n",
        "test_features.pop(label2)\n",
        "test_label = np.array(test_features.pop(label_name))# isolate the label\n",
        "\n",
        "print(\"\\n Evaluate the linear regression model against the test set:\")\n",
        "result = model_lr.evaluate(x=test_features, y=test_label, batch_size=batch_size)\n",
        "\n",
        "for item in zip(model_lr.metrics_names, result):\n",
        "  print (item[0], item[1])"
      ],
      "metadata": {
        "colab": {
          "base_uri": "https://localhost:8080/"
        },
        "id": "v6y1Cn30OZ2H",
        "outputId": "9452f060-6846-4632-cb6d-6a5cf29d7373"
      },
      "id": "v6y1Cn30OZ2H",
      "execution_count": null,
      "outputs": [
        {
          "output_type": "stream",
          "name": "stdout",
          "text": [
            "\n",
            " Evaluate the linear regression model against the test set:\n"
          ]
        },
        {
          "output_type": "stream",
          "name": "stderr",
          "text": [
            "WARNING:tensorflow:Layers in a Sequential model should only have a single input tensor. Received: inputs={'number_of_words': <tf.Tensor 'IteratorGetNext:24' shape=(None,) dtype=int64>, 'stopwords_frequency': <tf.Tensor 'IteratorGetNext:31' shape=(None,) dtype=float32>, 'av_word_per_sen': <tf.Tensor 'IteratorGetNext:2' shape=(None,) dtype=float32>, 'punctuations': <tf.Tensor 'IteratorGetNext:26' shape=(None,) dtype=float32>, 'ARI': <tf.Tensor 'IteratorGetNext:0' shape=(None,) dtype=int64>, 'freq_of_verb': <tf.Tensor 'IteratorGetNext:15' shape=(None,) dtype=float32>, 'freq_of_adj': <tf.Tensor 'IteratorGetNext:8' shape=(None,) dtype=float32>, 'freq_of_adv': <tf.Tensor 'IteratorGetNext:9' shape=(None,) dtype=float32>, 'freq_of_distinct_adj': <tf.Tensor 'IteratorGetNext:10' shape=(None,) dtype=float32>, 'freq_of_distinct_adv': <tf.Tensor 'IteratorGetNext:11' shape=(None,) dtype=float32>, 'sentence_complexity': <tf.Tensor 'IteratorGetNext:27' shape=(None,) dtype=float32>, 'freq_of_wrong_words': <tf.Tensor 'IteratorGetNext:16' shape=(None,) dtype=float32>, 'sentiment_compound': <tf.Tensor 'IteratorGetNext:28' shape=(None,) dtype=float32>, 'sentiment_positive': <tf.Tensor 'IteratorGetNext:30' shape=(None,) dtype=float32>, 'sentiment_negative': <tf.Tensor 'IteratorGetNext:29' shape=(None,) dtype=float32>, 'num_of_grammar_errors': <tf.Tensor 'IteratorGetNext:21' shape=(None,) dtype=int64>, 'num_of_short_forms': <tf.Tensor 'IteratorGetNext:22' shape=(None,) dtype=int64>, 'Incorrect_form_ratio': <tf.Tensor 'IteratorGetNext:1' shape=(None,) dtype=float32>, 'flesch_reading_ease': <tf.Tensor 'IteratorGetNext:6' shape=(None,) dtype=float32>, 'flesch_kincaid_grade': <tf.Tensor 'IteratorGetNext:5' shape=(None,) dtype=float32>, 'dale_chall_readability_score': <tf.Tensor 'IteratorGetNext:4' shape=(None,) dtype=float32>, 'text_standard': <tf.Tensor 'IteratorGetNext:32' shape=(None,) dtype=float32>, 'mcalpine_eflaw': <tf.Tensor 'IteratorGetNext:19' shape=(None,) dtype=float32>, 'number_of_diff_words': <tf.Tensor 'IteratorGetNext:23' shape=(None,) dtype=int64>, 'freq_diff_words': <tf.Tensor 'IteratorGetNext:7' shape=(None,) dtype=float32>, 'ttr': <tf.Tensor 'IteratorGetNext:33' shape=(None,) dtype=float32>, 'coherence_score': <tf.Tensor 'IteratorGetNext:3' shape=(None,) dtype=float32>, 'lexrank_avg_min_diff': <tf.Tensor 'IteratorGetNext:17' shape=(None,) dtype=float32>, 'lexrank_interquartile': <tf.Tensor 'IteratorGetNext:18' shape=(None,) dtype=float32>, 'freq_of_noun': <tf.Tensor 'IteratorGetNext:12' shape=(None,) dtype=float32>, 'freq_of_transition': <tf.Tensor 'IteratorGetNext:14' shape=(None,) dtype=float32>, 'freq_of_pronoun': <tf.Tensor 'IteratorGetNext:13' shape=(None,) dtype=float32>, 'noun_to_adj': <tf.Tensor 'IteratorGetNext:20' shape=(None,) dtype=float32>, 'verb_to_adv': <tf.Tensor 'IteratorGetNext:34' shape=(None,) dtype=float32>, 'phrase_diversity': <tf.Tensor 'IteratorGetNext:25' shape=(None,) dtype=float32>}. Consider rewriting this model with the Functional API.\n"
          ]
        },
        {
          "output_type": "stream",
          "name": "stdout",
          "text": [
            "4/4 [==============================] - 1s 4ms/step - loss: 0.5979 - mean_squared_error: 0.5979 - accuracy: 0.0026\n",
            "loss 0.5978804230690002\n",
            "mean_squared_error 0.5978804230690002\n",
            "accuracy 0.0025542783550918102\n"
          ]
        }
      ]
    },
    {
      "cell_type": "code",
      "source": [
        "prediction = model_lr.predict(test_features)\n"
      ],
      "metadata": {
        "colab": {
          "base_uri": "https://localhost:8080/"
        },
        "id": "lbpJnaDCt81n",
        "outputId": "cf22757a-18b1-4ff4-86bd-d088b75c563c"
      },
      "id": "lbpJnaDCt81n",
      "execution_count": null,
      "outputs": [
        {
          "output_type": "stream",
          "name": "stdout",
          "text": [
            "25/25 [==============================] - 0s 7ms/step\n"
          ]
        }
      ]
    },
    {
      "cell_type": "markdown",
      "source": [
        "Calculate vocabulary prediction accuracy"
      ],
      "metadata": {
        "id": "Mr4RhOIp_rr0"
      },
      "id": "Mr4RhOIp_rr0"
    },
    {
      "cell_type": "code",
      "source": [
        "pre_list = []\n",
        "for value in prediction:\n",
        "  pre_list.append(value[0])"
      ],
      "metadata": {
        "id": "LLLz2sCz6EnH"
      },
      "id": "LLLz2sCz6EnH",
      "execution_count": null,
      "outputs": []
    },
    {
      "cell_type": "code",
      "source": [
        "val_accuracy = accuracy_range(pre_list, list(test_data['vocabulary']))\n",
        "val_accuracy"
      ],
      "metadata": {
        "colab": {
          "base_uri": "https://localhost:8080/"
        },
        "id": "PrI3jhm65X7x",
        "outputId": "9102f8d4-4a99-4a01-f9b3-cd873db5e30e"
      },
      "id": "PrI3jhm65X7x",
      "execution_count": null,
      "outputs": [
        {
          "output_type": "execute_result",
          "data": {
            "text/plain": [
              "0.42528735632183906"
            ]
          },
          "metadata": {},
          "execution_count": 46
        }
      ]
    },
    {
      "cell_type": "code",
      "source": [
        "def result(predictions):\n",
        "    result_list=[]\n",
        "    for pred in predictions:\n",
        "        result = pred // 0.5 * 0.5\n",
        "        if (pred - result) > 0.25:\n",
        "            result += 0.5\n",
        "        if result < 1.0:\n",
        "            result = 1.0\n",
        "        if result > 5.0:\n",
        "            result = 5.0\n",
        "        result_list.append(result)\n",
        "    return result_list\n",
        "\n",
        "def accuracy(Ytrue, Ypred):\n",
        "    accurate = 0\n",
        "    for i in range(len(Ytrue)):\n",
        "        if Ytrue[i] == Ypred[i]:\n",
        "            accurate += 1\n",
        "    return accurate / len(Ytrue)"
      ],
      "metadata": {
        "id": "Rnk9tqV_6uZV"
      },
      "id": "Rnk9tqV_6uZV",
      "execution_count": null,
      "outputs": []
    },
    {
      "cell_type": "code",
      "source": [
        "pre_list_2 = result(pre_list)"
      ],
      "metadata": {
        "id": "A2ws_RJY6vZK"
      },
      "id": "A2ws_RJY6vZK",
      "execution_count": null,
      "outputs": []
    },
    {
      "cell_type": "code",
      "source": [
        "val_accuracy_2 = accuracy(list(test_data['vocabulary']), pre_list_2)\n",
        "val_accuracy_2"
      ],
      "metadata": {
        "colab": {
          "base_uri": "https://localhost:8080/"
        },
        "id": "Hl_Gmj0n67dz",
        "outputId": "ec791706-c56f-475d-caf2-1e62962d54f7"
      },
      "id": "Hl_Gmj0n67dz",
      "execution_count": null,
      "outputs": [
        {
          "output_type": "execute_result",
          "data": {
            "text/plain": [
              "0.20051085568326948"
            ]
          },
          "metadata": {},
          "execution_count": 49
        }
      ]
    },
    {
      "cell_type": "markdown",
      "source": [
        "Train model for cohesion using vocabulary"
      ],
      "metadata": {
        "id": "Gx4gjkYqB1M3"
      },
      "id": "Gx4gjkYqB1M3"
    },
    {
      "cell_type": "code",
      "source": [
        "learning_rate = 0.01\n",
        "number_epochs = 30\n",
        "batch_size = 256\n",
        "label_name = \"cohesion\"\n",
        "\n",
        "# Establish the model's topography.\n",
        "model_lr_cohesion = create_model_linear(learning_rate, my_new_feature_layer)\n",
        "\n",
        "# Train the model on the normalized training set.\n",
        "mse_train_lr_cohesion, mse_val_lr_cohesion = train_model(model_lr_cohesion, train_data, number_epochs, batch_size, label_name)\n",
        "#train_history = train_model(model_lr, train_data, number_epochs, batch_size, label_name)\n",
        "plot_the_loss_curve(mse_train_lr_cohesion, mse_val_lr_cohesion)"
      ],
      "metadata": {
        "colab": {
          "base_uri": "https://localhost:8080/",
          "height": 1000
        },
        "id": "n2YCGivSGgUb",
        "outputId": "aa4fa62d-0c15-45c8-e0e3-e9c04f03c99d"
      },
      "id": "n2YCGivSGgUb",
      "execution_count": null,
      "outputs": [
        {
          "output_type": "stream",
          "name": "stdout",
          "text": [
            "Epoch 1/30\n"
          ]
        },
        {
          "output_type": "stream",
          "name": "stderr",
          "text": [
            "/usr/local/lib/python3.7/dist-packages/keras/optimizers/optimizer_v2/rmsprop.py:135: UserWarning: The `lr` argument is deprecated, use `learning_rate` instead.\n",
            "  super(RMSprop, self).__init__(name, **kwargs)\n",
            "WARNING:tensorflow:Layers in a Sequential model should only have a single input tensor. Received: inputs={'number_of_words': <tf.Tensor 'IteratorGetNext:25' shape=(None,) dtype=int64>, 'stopwords_frequency': <tf.Tensor 'IteratorGetNext:32' shape=(None,) dtype=float32>, 'av_word_per_sen': <tf.Tensor 'IteratorGetNext:2' shape=(None,) dtype=float32>, 'punctuations': <tf.Tensor 'IteratorGetNext:27' shape=(None,) dtype=float32>, 'ARI': <tf.Tensor 'IteratorGetNext:0' shape=(None,) dtype=int64>, 'freq_of_verb': <tf.Tensor 'IteratorGetNext:16' shape=(None,) dtype=float32>, 'freq_of_adj': <tf.Tensor 'IteratorGetNext:9' shape=(None,) dtype=float32>, 'freq_of_adv': <tf.Tensor 'IteratorGetNext:10' shape=(None,) dtype=float32>, 'freq_of_distinct_adj': <tf.Tensor 'IteratorGetNext:11' shape=(None,) dtype=float32>, 'freq_of_distinct_adv': <tf.Tensor 'IteratorGetNext:12' shape=(None,) dtype=float32>, 'sentence_complexity': <tf.Tensor 'IteratorGetNext:28' shape=(None,) dtype=float32>, 'freq_of_wrong_words': <tf.Tensor 'IteratorGetNext:17' shape=(None,) dtype=float32>, 'sentiment_compound': <tf.Tensor 'IteratorGetNext:29' shape=(None,) dtype=float32>, 'sentiment_positive': <tf.Tensor 'IteratorGetNext:31' shape=(None,) dtype=float32>, 'sentiment_negative': <tf.Tensor 'IteratorGetNext:30' shape=(None,) dtype=float32>, 'num_of_grammar_errors': <tf.Tensor 'IteratorGetNext:22' shape=(None,) dtype=int64>, 'corrected_text': <tf.Tensor 'IteratorGetNext:4' shape=(None,) dtype=string>, 'num_of_short_forms': <tf.Tensor 'IteratorGetNext:23' shape=(None,) dtype=int64>, 'Incorrect_form_ratio': <tf.Tensor 'IteratorGetNext:1' shape=(None,) dtype=float32>, 'flesch_reading_ease': <tf.Tensor 'IteratorGetNext:7' shape=(None,) dtype=float32>, 'flesch_kincaid_grade': <tf.Tensor 'IteratorGetNext:6' shape=(None,) dtype=float32>, 'dale_chall_readability_score': <tf.Tensor 'IteratorGetNext:5' shape=(None,) dtype=float32>, 'text_standard': <tf.Tensor 'IteratorGetNext:33' shape=(None,) dtype=float32>, 'mcalpine_eflaw': <tf.Tensor 'IteratorGetNext:20' shape=(None,) dtype=float32>, 'number_of_diff_words': <tf.Tensor 'IteratorGetNext:24' shape=(None,) dtype=int64>, 'freq_diff_words': <tf.Tensor 'IteratorGetNext:8' shape=(None,) dtype=float32>, 'ttr': <tf.Tensor 'IteratorGetNext:34' shape=(None,) dtype=float32>, 'coherence_score': <tf.Tensor 'IteratorGetNext:3' shape=(None,) dtype=float32>, 'lexrank_avg_min_diff': <tf.Tensor 'IteratorGetNext:18' shape=(None,) dtype=float32>, 'lexrank_interquartile': <tf.Tensor 'IteratorGetNext:19' shape=(None,) dtype=float32>, 'freq_of_noun': <tf.Tensor 'IteratorGetNext:13' shape=(None,) dtype=float32>, 'freq_of_transition': <tf.Tensor 'IteratorGetNext:15' shape=(None,) dtype=float32>, 'freq_of_pronoun': <tf.Tensor 'IteratorGetNext:14' shape=(None,) dtype=float32>, 'noun_to_adj': <tf.Tensor 'IteratorGetNext:21' shape=(None,) dtype=float32>, 'verb_to_adv': <tf.Tensor 'IteratorGetNext:35' shape=(None,) dtype=float32>, 'phrase_diversity': <tf.Tensor 'IteratorGetNext:26' shape=(None,) dtype=float32>, 'vocabulary': <tf.Tensor 'IteratorGetNext:36' shape=(None,) dtype=float32>}. Consider rewriting this model with the Functional API.\n",
            "WARNING:tensorflow:Layers in a Sequential model should only have a single input tensor. Received: inputs={'number_of_words': <tf.Tensor 'IteratorGetNext:25' shape=(None,) dtype=int64>, 'stopwords_frequency': <tf.Tensor 'IteratorGetNext:32' shape=(None,) dtype=float32>, 'av_word_per_sen': <tf.Tensor 'IteratorGetNext:2' shape=(None,) dtype=float32>, 'punctuations': <tf.Tensor 'IteratorGetNext:27' shape=(None,) dtype=float32>, 'ARI': <tf.Tensor 'IteratorGetNext:0' shape=(None,) dtype=int64>, 'freq_of_verb': <tf.Tensor 'IteratorGetNext:16' shape=(None,) dtype=float32>, 'freq_of_adj': <tf.Tensor 'IteratorGetNext:9' shape=(None,) dtype=float32>, 'freq_of_adv': <tf.Tensor 'IteratorGetNext:10' shape=(None,) dtype=float32>, 'freq_of_distinct_adj': <tf.Tensor 'IteratorGetNext:11' shape=(None,) dtype=float32>, 'freq_of_distinct_adv': <tf.Tensor 'IteratorGetNext:12' shape=(None,) dtype=float32>, 'sentence_complexity': <tf.Tensor 'IteratorGetNext:28' shape=(None,) dtype=float32>, 'freq_of_wrong_words': <tf.Tensor 'IteratorGetNext:17' shape=(None,) dtype=float32>, 'sentiment_compound': <tf.Tensor 'IteratorGetNext:29' shape=(None,) dtype=float32>, 'sentiment_positive': <tf.Tensor 'IteratorGetNext:31' shape=(None,) dtype=float32>, 'sentiment_negative': <tf.Tensor 'IteratorGetNext:30' shape=(None,) dtype=float32>, 'num_of_grammar_errors': <tf.Tensor 'IteratorGetNext:22' shape=(None,) dtype=int64>, 'corrected_text': <tf.Tensor 'IteratorGetNext:4' shape=(None,) dtype=string>, 'num_of_short_forms': <tf.Tensor 'IteratorGetNext:23' shape=(None,) dtype=int64>, 'Incorrect_form_ratio': <tf.Tensor 'IteratorGetNext:1' shape=(None,) dtype=float32>, 'flesch_reading_ease': <tf.Tensor 'IteratorGetNext:7' shape=(None,) dtype=float32>, 'flesch_kincaid_grade': <tf.Tensor 'IteratorGetNext:6' shape=(None,) dtype=float32>, 'dale_chall_readability_score': <tf.Tensor 'IteratorGetNext:5' shape=(None,) dtype=float32>, 'text_standard': <tf.Tensor 'IteratorGetNext:33' shape=(None,) dtype=float32>, 'mcalpine_eflaw': <tf.Tensor 'IteratorGetNext:20' shape=(None,) dtype=float32>, 'number_of_diff_words': <tf.Tensor 'IteratorGetNext:24' shape=(None,) dtype=int64>, 'freq_diff_words': <tf.Tensor 'IteratorGetNext:8' shape=(None,) dtype=float32>, 'ttr': <tf.Tensor 'IteratorGetNext:34' shape=(None,) dtype=float32>, 'coherence_score': <tf.Tensor 'IteratorGetNext:3' shape=(None,) dtype=float32>, 'lexrank_avg_min_diff': <tf.Tensor 'IteratorGetNext:18' shape=(None,) dtype=float32>, 'lexrank_interquartile': <tf.Tensor 'IteratorGetNext:19' shape=(None,) dtype=float32>, 'freq_of_noun': <tf.Tensor 'IteratorGetNext:13' shape=(None,) dtype=float32>, 'freq_of_transition': <tf.Tensor 'IteratorGetNext:15' shape=(None,) dtype=float32>, 'freq_of_pronoun': <tf.Tensor 'IteratorGetNext:14' shape=(None,) dtype=float32>, 'noun_to_adj': <tf.Tensor 'IteratorGetNext:21' shape=(None,) dtype=float32>, 'verb_to_adv': <tf.Tensor 'IteratorGetNext:35' shape=(None,) dtype=float32>, 'phrase_diversity': <tf.Tensor 'IteratorGetNext:26' shape=(None,) dtype=float32>, 'vocabulary': <tf.Tensor 'IteratorGetNext:36' shape=(None,) dtype=float32>}. Consider rewriting this model with the Functional API.\n"
          ]
        },
        {
          "output_type": "stream",
          "name": "stdout",
          "text": [
            "\r 1/10 [==>...........................] - ETA: 10s - loss: 10.4112 - mean_squared_error: 10.4112 - accuracy: 0.0000e+00"
          ]
        },
        {
          "output_type": "stream",
          "name": "stderr",
          "text": [
            "WARNING:tensorflow:Layers in a Sequential model should only have a single input tensor. Received: inputs={'number_of_words': <tf.Tensor 'IteratorGetNext:25' shape=(None,) dtype=int64>, 'stopwords_frequency': <tf.Tensor 'IteratorGetNext:32' shape=(None,) dtype=float32>, 'av_word_per_sen': <tf.Tensor 'IteratorGetNext:2' shape=(None,) dtype=float32>, 'punctuations': <tf.Tensor 'IteratorGetNext:27' shape=(None,) dtype=float32>, 'ARI': <tf.Tensor 'IteratorGetNext:0' shape=(None,) dtype=int64>, 'freq_of_verb': <tf.Tensor 'IteratorGetNext:16' shape=(None,) dtype=float32>, 'freq_of_adj': <tf.Tensor 'IteratorGetNext:9' shape=(None,) dtype=float32>, 'freq_of_adv': <tf.Tensor 'IteratorGetNext:10' shape=(None,) dtype=float32>, 'freq_of_distinct_adj': <tf.Tensor 'IteratorGetNext:11' shape=(None,) dtype=float32>, 'freq_of_distinct_adv': <tf.Tensor 'IteratorGetNext:12' shape=(None,) dtype=float32>, 'sentence_complexity': <tf.Tensor 'IteratorGetNext:28' shape=(None,) dtype=float32>, 'freq_of_wrong_words': <tf.Tensor 'IteratorGetNext:17' shape=(None,) dtype=float32>, 'sentiment_compound': <tf.Tensor 'IteratorGetNext:29' shape=(None,) dtype=float32>, 'sentiment_positive': <tf.Tensor 'IteratorGetNext:31' shape=(None,) dtype=float32>, 'sentiment_negative': <tf.Tensor 'IteratorGetNext:30' shape=(None,) dtype=float32>, 'num_of_grammar_errors': <tf.Tensor 'IteratorGetNext:22' shape=(None,) dtype=int64>, 'corrected_text': <tf.Tensor 'IteratorGetNext:4' shape=(None,) dtype=string>, 'num_of_short_forms': <tf.Tensor 'IteratorGetNext:23' shape=(None,) dtype=int64>, 'Incorrect_form_ratio': <tf.Tensor 'IteratorGetNext:1' shape=(None,) dtype=float32>, 'flesch_reading_ease': <tf.Tensor 'IteratorGetNext:7' shape=(None,) dtype=float32>, 'flesch_kincaid_grade': <tf.Tensor 'IteratorGetNext:6' shape=(None,) dtype=float32>, 'dale_chall_readability_score': <tf.Tensor 'IteratorGetNext:5' shape=(None,) dtype=float32>, 'text_standard': <tf.Tensor 'IteratorGetNext:33' shape=(None,) dtype=float32>, 'mcalpine_eflaw': <tf.Tensor 'IteratorGetNext:20' shape=(None,) dtype=float32>, 'number_of_diff_words': <tf.Tensor 'IteratorGetNext:24' shape=(None,) dtype=int64>, 'freq_diff_words': <tf.Tensor 'IteratorGetNext:8' shape=(None,) dtype=float32>, 'ttr': <tf.Tensor 'IteratorGetNext:34' shape=(None,) dtype=float32>, 'coherence_score': <tf.Tensor 'IteratorGetNext:3' shape=(None,) dtype=float32>, 'lexrank_avg_min_diff': <tf.Tensor 'IteratorGetNext:18' shape=(None,) dtype=float32>, 'lexrank_interquartile': <tf.Tensor 'IteratorGetNext:19' shape=(None,) dtype=float32>, 'freq_of_noun': <tf.Tensor 'IteratorGetNext:13' shape=(None,) dtype=float32>, 'freq_of_transition': <tf.Tensor 'IteratorGetNext:15' shape=(None,) dtype=float32>, 'freq_of_pronoun': <tf.Tensor 'IteratorGetNext:14' shape=(None,) dtype=float32>, 'noun_to_adj': <tf.Tensor 'IteratorGetNext:21' shape=(None,) dtype=float32>, 'verb_to_adv': <tf.Tensor 'IteratorGetNext:35' shape=(None,) dtype=float32>, 'phrase_diversity': <tf.Tensor 'IteratorGetNext:26' shape=(None,) dtype=float32>, 'vocabulary': <tf.Tensor 'IteratorGetNext:36' shape=(None,) dtype=float32>}. Consider rewriting this model with the Functional API.\n"
          ]
        },
        {
          "output_type": "stream",
          "name": "stdout",
          "text": [
            "\b\b\b\b\b\b\b\b\b\b\b\b\b\b\b\b\b\b\b\b\b\b\b\b\b\b\b\b\b\b\b\b\b\b\b\b\b\b\b\b\b\b\b\b\b\b\b\b\b\b\b\b\b\b\b\b\b\b\b\b\b\b\b\b\b\b\b\b\b\b\b\b\b\b\b\b\b\b\b\b\b\b\b\b\b\b\b\b\b\b\b\b\b\b\b\b\b\b\b\b\b\b\b\b\b\b\b\b\b\b\b\b\b\b\b\b\b\b\r10/10 [==============================] - 2s 67ms/step - loss: 3095.9434 - mean_squared_error: 3095.9434 - accuracy: 0.0012 - val_loss: 8.2021 - val_mean_squared_error: 8.2021 - val_accuracy: 0.0032\n",
            "Epoch 2/30\n",
            "10/10 [==============================] - 0s 11ms/step - loss: 18.6451 - mean_squared_error: 18.6451 - accuracy: 0.0012 - val_loss: 25.1809 - val_mean_squared_error: 25.1809 - val_accuracy: 0.0016\n",
            "Epoch 3/30\n",
            "10/10 [==============================] - 0s 9ms/step - loss: 84.3272 - mean_squared_error: 84.3272 - accuracy: 0.0012 - val_loss: 88.1026 - val_mean_squared_error: 88.1026 - val_accuracy: 0.0016\n",
            "Epoch 4/30\n",
            "10/10 [==============================] - 0s 9ms/step - loss: 53.3260 - mean_squared_error: 53.3260 - accuracy: 0.0012 - val_loss: 74.2076 - val_mean_squared_error: 74.2076 - val_accuracy: 0.0000e+00\n",
            "Epoch 5/30\n",
            "10/10 [==============================] - 0s 11ms/step - loss: 86.5301 - mean_squared_error: 86.5301 - accuracy: 0.0012 - val_loss: 2.2371 - val_mean_squared_error: 2.2371 - val_accuracy: 0.0032\n",
            "Epoch 6/30\n",
            "10/10 [==============================] - 0s 10ms/step - loss: 2.1933 - mean_squared_error: 2.1933 - accuracy: 0.0012 - val_loss: 40.1402 - val_mean_squared_error: 40.1402 - val_accuracy: 0.0000e+00\n",
            "Epoch 7/30\n",
            "10/10 [==============================] - 0s 9ms/step - loss: 85.2820 - mean_squared_error: 85.2820 - accuracy: 0.0016 - val_loss: 1.6728 - val_mean_squared_error: 1.6728 - val_accuracy: 0.0016\n",
            "Epoch 8/30\n",
            "10/10 [==============================] - 0s 9ms/step - loss: 1.3747 - mean_squared_error: 1.3747 - accuracy: 0.0012 - val_loss: 1.6890 - val_mean_squared_error: 1.6890 - val_accuracy: 0.0032\n",
            "Epoch 9/30\n",
            "10/10 [==============================] - 0s 10ms/step - loss: 17.4884 - mean_squared_error: 17.4884 - accuracy: 0.0016 - val_loss: 3.0582 - val_mean_squared_error: 3.0582 - val_accuracy: 0.0016\n",
            "Epoch 10/30\n",
            "10/10 [==============================] - 0s 9ms/step - loss: 1.0762 - mean_squared_error: 1.0762 - accuracy: 0.0012 - val_loss: 2.6395 - val_mean_squared_error: 2.6395 - val_accuracy: 0.0016\n",
            "Epoch 11/30\n",
            "10/10 [==============================] - 0s 11ms/step - loss: 3.6441 - mean_squared_error: 3.6441 - accuracy: 0.0016 - val_loss: 1.4820 - val_mean_squared_error: 1.4820 - val_accuracy: 0.0032\n",
            "Epoch 12/30\n",
            "10/10 [==============================] - 0s 10ms/step - loss: 3.3386 - mean_squared_error: 3.3386 - accuracy: 0.0016 - val_loss: 2.1337 - val_mean_squared_error: 2.1337 - val_accuracy: 0.0016\n",
            "Epoch 13/30\n",
            "10/10 [==============================] - 0s 10ms/step - loss: 3.2834 - mean_squared_error: 3.2834 - accuracy: 0.0016 - val_loss: 1.6616 - val_mean_squared_error: 1.6616 - val_accuracy: 0.0032\n",
            "Epoch 14/30\n",
            "10/10 [==============================] - 0s 10ms/step - loss: 3.0814 - mean_squared_error: 3.0814 - accuracy: 0.0016 - val_loss: 1.8364 - val_mean_squared_error: 1.8364 - val_accuracy: 0.0016\n",
            "Epoch 15/30\n",
            "10/10 [==============================] - 0s 9ms/step - loss: 1.8481 - mean_squared_error: 1.8481 - accuracy: 0.0016 - val_loss: 2.7893 - val_mean_squared_error: 2.7893 - val_accuracy: 0.0000e+00\n",
            "Epoch 16/30\n",
            "10/10 [==============================] - 0s 10ms/step - loss: 1.7127 - mean_squared_error: 1.7127 - accuracy: 0.0012 - val_loss: 1.1548 - val_mean_squared_error: 1.1548 - val_accuracy: 0.0032\n",
            "Epoch 17/30\n",
            "10/10 [==============================] - 0s 10ms/step - loss: 2.7131 - mean_squared_error: 2.7131 - accuracy: 0.0016 - val_loss: 1.9744 - val_mean_squared_error: 1.9744 - val_accuracy: 0.0032\n",
            "Epoch 18/30\n",
            "10/10 [==============================] - 0s 9ms/step - loss: 1.2921 - mean_squared_error: 1.2921 - accuracy: 0.0016 - val_loss: 0.9335 - val_mean_squared_error: 0.9335 - val_accuracy: 0.0032\n",
            "Epoch 19/30\n",
            "10/10 [==============================] - 0s 10ms/step - loss: 1.1231 - mean_squared_error: 1.1231 - accuracy: 0.0016 - val_loss: 2.2931 - val_mean_squared_error: 2.2931 - val_accuracy: 0.0032\n",
            "Epoch 20/30\n",
            "10/10 [==============================] - 0s 10ms/step - loss: 0.9302 - mean_squared_error: 0.9302 - accuracy: 0.0016 - val_loss: 1.8014 - val_mean_squared_error: 1.8014 - val_accuracy: 0.0032\n",
            "Epoch 21/30\n",
            "10/10 [==============================] - 0s 10ms/step - loss: 0.7926 - mean_squared_error: 0.7926 - accuracy: 0.0016 - val_loss: 0.6361 - val_mean_squared_error: 0.6361 - val_accuracy: 0.0032\n",
            "Epoch 22/30\n",
            "10/10 [==============================] - 0s 10ms/step - loss: 0.4562 - mean_squared_error: 0.4562 - accuracy: 0.0016 - val_loss: 0.5327 - val_mean_squared_error: 0.5327 - val_accuracy: 0.0032\n",
            "Epoch 23/30\n",
            "10/10 [==============================] - 0s 10ms/step - loss: 0.4255 - mean_squared_error: 0.4255 - accuracy: 0.0016 - val_loss: 0.4477 - val_mean_squared_error: 0.4477 - val_accuracy: 0.0032\n",
            "Epoch 24/30\n",
            "10/10 [==============================] - 0s 10ms/step - loss: 0.4446 - mean_squared_error: 0.4446 - accuracy: 0.0012 - val_loss: 0.6096 - val_mean_squared_error: 0.6096 - val_accuracy: 0.0032\n",
            "Epoch 25/30\n",
            "10/10 [==============================] - 0s 9ms/step - loss: 0.4503 - mean_squared_error: 0.4503 - accuracy: 0.0016 - val_loss: 0.4259 - val_mean_squared_error: 0.4259 - val_accuracy: 0.0032\n",
            "Epoch 26/30\n",
            "10/10 [==============================] - 0s 10ms/step - loss: 0.4400 - mean_squared_error: 0.4400 - accuracy: 0.0016 - val_loss: 0.4120 - val_mean_squared_error: 0.4120 - val_accuracy: 0.0032\n",
            "Epoch 27/30\n",
            "10/10 [==============================] - 0s 10ms/step - loss: 0.4799 - mean_squared_error: 0.4799 - accuracy: 0.0016 - val_loss: 0.4783 - val_mean_squared_error: 0.4783 - val_accuracy: 0.0032\n",
            "Epoch 28/30\n",
            "10/10 [==============================] - 0s 9ms/step - loss: 0.4242 - mean_squared_error: 0.4242 - accuracy: 0.0012 - val_loss: 0.4562 - val_mean_squared_error: 0.4562 - val_accuracy: 0.0032\n",
            "Epoch 29/30\n",
            "10/10 [==============================] - 0s 10ms/step - loss: 0.4450 - mean_squared_error: 0.4450 - accuracy: 0.0016 - val_loss: 0.4381 - val_mean_squared_error: 0.4381 - val_accuracy: 0.0032\n",
            "Epoch 30/30\n",
            "10/10 [==============================] - 0s 10ms/step - loss: 0.4357 - mean_squared_error: 0.4357 - accuracy: 0.0016 - val_loss: 0.4488 - val_mean_squared_error: 0.4488 - val_accuracy: 0.0032\n"
          ]
        },
        {
          "output_type": "display_data",
          "data": {
            "text/plain": [
              "<Figure size 720x576 with 1 Axes>"
            ],
            "image/png": "[encoded data removed]"
          },
          "metadata": {
            "needs_background": "light"
          }
        }
      ]
    },
    {
      "cell_type": "markdown",
      "source": [
        "Using test data to get the estimation"
      ],
      "metadata": {
        "id": "tbxZGEY2mmbW"
      },
      "id": "tbxZGEY2mmbW"
    },
    {
      "cell_type": "code",
      "source": [
        "test_data2 = test_data.copy()\n",
        "test_data2.pop(\"vocabulary\")\n",
        "test_data2[\"vocabulary\"] = pre_list\n",
        "test_features_cohesion = {name:np.array(value) for name, value in test_data2.items()}\n",
        "\n",
        "test_label_cohesion = np.array(test_features_cohesion.pop(\"cohesion\"))# isolate the label\n",
        "\n",
        "print(\"\\n Evaluate the linear regression model against the test set:\")\n",
        "result_cohesion = model_lr_cohesion.evaluate(x=test_features_cohesion, y=test_label_cohesion, batch_size=batch_size)\n",
        "\n",
        "for item in zip(model_lr_cohesion.metrics_names, result_cohesion):\n",
        "  print (item[0], item[1])\n"
      ],
      "metadata": {
        "colab": {
          "base_uri": "https://localhost:8080/"
        },
        "outputId": "23b59723-80fa-43cd-bd01-aa3a7adc62cf",
        "id": "uEPeNAAKnFGC"
      },
      "execution_count": null,
      "outputs": [
        {
          "output_type": "stream",
          "name": "stderr",
          "text": [
            "WARNING:tensorflow:Layers in a Sequential model should only have a single input tensor. Received: inputs={'number_of_words': <tf.Tensor 'IteratorGetNext:24' shape=(None,) dtype=int64>, 'stopwords_frequency': <tf.Tensor 'IteratorGetNext:31' shape=(None,) dtype=float32>, 'av_word_per_sen': <tf.Tensor 'IteratorGetNext:2' shape=(None,) dtype=float32>, 'punctuations': <tf.Tensor 'IteratorGetNext:26' shape=(None,) dtype=float32>, 'ARI': <tf.Tensor 'IteratorGetNext:0' shape=(None,) dtype=int64>, 'freq_of_verb': <tf.Tensor 'IteratorGetNext:15' shape=(None,) dtype=float32>, 'freq_of_adj': <tf.Tensor 'IteratorGetNext:8' shape=(None,) dtype=float32>, 'freq_of_adv': <tf.Tensor 'IteratorGetNext:9' shape=(None,) dtype=float32>, 'freq_of_distinct_adj': <tf.Tensor 'IteratorGetNext:10' shape=(None,) dtype=float32>, 'freq_of_distinct_adv': <tf.Tensor 'IteratorGetNext:11' shape=(None,) dtype=float32>, 'sentence_complexity': <tf.Tensor 'IteratorGetNext:27' shape=(None,) dtype=float32>, 'freq_of_wrong_words': <tf.Tensor 'IteratorGetNext:16' shape=(None,) dtype=float32>, 'sentiment_compound': <tf.Tensor 'IteratorGetNext:28' shape=(None,) dtype=float32>, 'sentiment_positive': <tf.Tensor 'IteratorGetNext:30' shape=(None,) dtype=float32>, 'sentiment_negative': <tf.Tensor 'IteratorGetNext:29' shape=(None,) dtype=float32>, 'num_of_grammar_errors': <tf.Tensor 'IteratorGetNext:21' shape=(None,) dtype=int64>, 'num_of_short_forms': <tf.Tensor 'IteratorGetNext:22' shape=(None,) dtype=int64>, 'Incorrect_form_ratio': <tf.Tensor 'IteratorGetNext:1' shape=(None,) dtype=float32>, 'flesch_reading_ease': <tf.Tensor 'IteratorGetNext:6' shape=(None,) dtype=float32>, 'flesch_kincaid_grade': <tf.Tensor 'IteratorGetNext:5' shape=(None,) dtype=float32>, 'dale_chall_readability_score': <tf.Tensor 'IteratorGetNext:4' shape=(None,) dtype=float32>, 'text_standard': <tf.Tensor 'IteratorGetNext:32' shape=(None,) dtype=float32>, 'mcalpine_eflaw': <tf.Tensor 'IteratorGetNext:19' shape=(None,) dtype=float32>, 'number_of_diff_words': <tf.Tensor 'IteratorGetNext:23' shape=(None,) dtype=int64>, 'freq_diff_words': <tf.Tensor 'IteratorGetNext:7' shape=(None,) dtype=float32>, 'ttr': <tf.Tensor 'IteratorGetNext:33' shape=(None,) dtype=float32>, 'coherence_score': <tf.Tensor 'IteratorGetNext:3' shape=(None,) dtype=float32>, 'lexrank_avg_min_diff': <tf.Tensor 'IteratorGetNext:17' shape=(None,) dtype=float32>, 'lexrank_interquartile': <tf.Tensor 'IteratorGetNext:18' shape=(None,) dtype=float32>, 'freq_of_noun': <tf.Tensor 'IteratorGetNext:12' shape=(None,) dtype=float32>, 'freq_of_transition': <tf.Tensor 'IteratorGetNext:14' shape=(None,) dtype=float32>, 'freq_of_pronoun': <tf.Tensor 'IteratorGetNext:13' shape=(None,) dtype=float32>, 'noun_to_adj': <tf.Tensor 'IteratorGetNext:20' shape=(None,) dtype=float32>, 'verb_to_adv': <tf.Tensor 'IteratorGetNext:34' shape=(None,) dtype=float32>, 'phrase_diversity': <tf.Tensor 'IteratorGetNext:25' shape=(None,) dtype=float32>, 'vocabulary': <tf.Tensor 'IteratorGetNext:35' shape=(None,) dtype=float32>}. Consider rewriting this model with the Functional API.\n"
          ]
        },
        {
          "output_type": "stream",
          "name": "stdout",
          "text": [
            "\n",
            " Evaluate the linear regression model against the test set:\n",
            "4/4 [==============================] - 0s 4ms/step - loss: 0.4601 - mean_squared_error: 0.4601 - accuracy: 0.0051\n",
            "loss 0.460055947303772\n",
            "mean_squared_error 0.460055947303772\n",
            "accuracy 0.0051085567101836205\n"
          ]
        }
      ],
      "id": "uEPeNAAKnFGC"
    },
    {
      "cell_type": "code",
      "source": [
        "prediction_cohesion = model_lr_cohesion.predict(test_features_cohesion)\n"
      ],
      "metadata": {
        "colab": {
          "base_uri": "https://localhost:8080/"
        },
        "outputId": "c72df0a2-9431-4da5-d5c3-444ef256ebdd",
        "id": "SdWLPbQpnFGC"
      },
      "execution_count": null,
      "outputs": [
        {
          "output_type": "stream",
          "name": "stderr",
          "text": [
            "WARNING:tensorflow:Layers in a Sequential model should only have a single input tensor. Received: inputs={'number_of_words': <tf.Tensor 'IteratorGetNext:24' shape=(None,) dtype=int64>, 'stopwords_frequency': <tf.Tensor 'IteratorGetNext:31' shape=(None,) dtype=float32>, 'av_word_per_sen': <tf.Tensor 'IteratorGetNext:2' shape=(None,) dtype=float32>, 'punctuations': <tf.Tensor 'IteratorGetNext:26' shape=(None,) dtype=float32>, 'ARI': <tf.Tensor 'IteratorGetNext:0' shape=(None,) dtype=int64>, 'freq_of_verb': <tf.Tensor 'IteratorGetNext:15' shape=(None,) dtype=float32>, 'freq_of_adj': <tf.Tensor 'IteratorGetNext:8' shape=(None,) dtype=float32>, 'freq_of_adv': <tf.Tensor 'IteratorGetNext:9' shape=(None,) dtype=float32>, 'freq_of_distinct_adj': <tf.Tensor 'IteratorGetNext:10' shape=(None,) dtype=float32>, 'freq_of_distinct_adv': <tf.Tensor 'IteratorGetNext:11' shape=(None,) dtype=float32>, 'sentence_complexity': <tf.Tensor 'IteratorGetNext:27' shape=(None,) dtype=float32>, 'freq_of_wrong_words': <tf.Tensor 'IteratorGetNext:16' shape=(None,) dtype=float32>, 'sentiment_compound': <tf.Tensor 'IteratorGetNext:28' shape=(None,) dtype=float32>, 'sentiment_positive': <tf.Tensor 'IteratorGetNext:30' shape=(None,) dtype=float32>, 'sentiment_negative': <tf.Tensor 'IteratorGetNext:29' shape=(None,) dtype=float32>, 'num_of_grammar_errors': <tf.Tensor 'IteratorGetNext:21' shape=(None,) dtype=int64>, 'num_of_short_forms': <tf.Tensor 'IteratorGetNext:22' shape=(None,) dtype=int64>, 'Incorrect_form_ratio': <tf.Tensor 'IteratorGetNext:1' shape=(None,) dtype=float32>, 'flesch_reading_ease': <tf.Tensor 'IteratorGetNext:6' shape=(None,) dtype=float32>, 'flesch_kincaid_grade': <tf.Tensor 'IteratorGetNext:5' shape=(None,) dtype=float32>, 'dale_chall_readability_score': <tf.Tensor 'IteratorGetNext:4' shape=(None,) dtype=float32>, 'text_standard': <tf.Tensor 'IteratorGetNext:32' shape=(None,) dtype=float32>, 'mcalpine_eflaw': <tf.Tensor 'IteratorGetNext:19' shape=(None,) dtype=float32>, 'number_of_diff_words': <tf.Tensor 'IteratorGetNext:23' shape=(None,) dtype=int64>, 'freq_diff_words': <tf.Tensor 'IteratorGetNext:7' shape=(None,) dtype=float32>, 'ttr': <tf.Tensor 'IteratorGetNext:33' shape=(None,) dtype=float32>, 'coherence_score': <tf.Tensor 'IteratorGetNext:3' shape=(None,) dtype=float32>, 'lexrank_avg_min_diff': <tf.Tensor 'IteratorGetNext:17' shape=(None,) dtype=float32>, 'lexrank_interquartile': <tf.Tensor 'IteratorGetNext:18' shape=(None,) dtype=float32>, 'freq_of_noun': <tf.Tensor 'IteratorGetNext:12' shape=(None,) dtype=float32>, 'freq_of_transition': <tf.Tensor 'IteratorGetNext:14' shape=(None,) dtype=float32>, 'freq_of_pronoun': <tf.Tensor 'IteratorGetNext:13' shape=(None,) dtype=float32>, 'noun_to_adj': <tf.Tensor 'IteratorGetNext:20' shape=(None,) dtype=float32>, 'verb_to_adv': <tf.Tensor 'IteratorGetNext:34' shape=(None,) dtype=float32>, 'phrase_diversity': <tf.Tensor 'IteratorGetNext:25' shape=(None,) dtype=float32>, 'vocabulary': <tf.Tensor 'IteratorGetNext:35' shape=(None,) dtype=float32>}. Consider rewriting this model with the Functional API.\n"
          ]
        },
        {
          "output_type": "stream",
          "name": "stdout",
          "text": [
            "25/25 [==============================] - 0s 3ms/step\n"
          ]
        }
      ],
      "id": "SdWLPbQpnFGC"
    },
    {
      "cell_type": "code",
      "source": [
        "pre_list_cohesion = []\n",
        "for value in prediction_cohesion:\n",
        "  pre_list_cohesion.append(value[0])"
      ],
      "metadata": {
        "id": "M-w7g1LSmmbW"
      },
      "execution_count": null,
      "outputs": [],
      "id": "M-w7g1LSmmbW"
    },
    {
      "cell_type": "markdown",
      "source": [
        "Calculate accuracy for cohesion using vocabulary"
      ],
      "metadata": {
        "id": "TUYkt7CeuC5k"
      },
      "id": "TUYkt7CeuC5k"
    },
    {
      "cell_type": "code",
      "source": [
        "cohesion_accuracy = accuracy_range(pre_list_cohesion, list(test_data['cohesion']))\n",
        "cohesion_accuracy"
      ],
      "metadata": {
        "colab": {
          "base_uri": "https://localhost:8080/"
        },
        "outputId": "f12ecfc6-0b91-42eb-b11b-66b7e4e07ae2",
        "id": "c65_5Rs9mmbW"
      },
      "execution_count": null,
      "outputs": [
        {
          "output_type": "execute_result",
          "data": {
            "text/plain": [
              "0.5389527458492975"
            ]
          },
          "metadata": {},
          "execution_count": 55
        }
      ],
      "id": "c65_5Rs9mmbW"
    },
    {
      "cell_type": "code",
      "source": [
        "pre_list_2_cohesion = result(pre_list_cohesion)"
      ],
      "metadata": {
        "id": "cMUZyguymmbW"
      },
      "execution_count": null,
      "outputs": [],
      "id": "cMUZyguymmbW"
    },
    {
      "cell_type": "code",
      "source": [
        "val_accuracy_2_cohesion = accuracy(list(test_data['cohesion']), pre_list_2_cohesion)\n",
        "val_accuracy_2_cohesion"
      ],
      "metadata": {
        "colab": {
          "base_uri": "https://localhost:8080/"
        },
        "outputId": "5eb715b3-2894-44e8-8eb6-4da0b941fdd9",
        "id": "dZMOnw3AmmbW"
      },
      "execution_count": null,
      "outputs": [
        {
          "output_type": "execute_result",
          "data": {
            "text/plain": [
              "0.25925925925925924"
            ]
          },
          "metadata": {},
          "execution_count": 57
        }
      ],
      "id": "dZMOnw3AmmbW"
    },
    {
      "cell_type": "code",
      "source": [
        "error_rate4 = error_rate(list(test_data['cohesion']), pre_list_cohesion)\n",
        "error_rate4"
      ],
      "metadata": {
        "colab": {
          "base_uri": "https://localhost:8080/"
        },
        "id": "jAkXKHxCNk2z",
        "outputId": "f1de88ed-820b-4269-bbfd-dd4225dfd6a2"
      },
      "id": "jAkXKHxCNk2z",
      "execution_count": null,
      "outputs": [
        {
          "output_type": "execute_result",
          "data": {
            "text/plain": [
              "0.5572012353826452"
            ]
          },
          "metadata": {},
          "execution_count": 59
        }
      ]
    },
    {
      "cell_type": "markdown",
      "source": [
        "Building deep model"
      ],
      "metadata": {
        "id": "RNCJqNXcuITZ"
      },
      "id": "RNCJqNXcuITZ"
    },
    {
      "cell_type": "code",
      "source": [
        "def create_model_deep(my_learning_rate, my_feature_layer, layers=[20, 12]):\n",
        "\n",
        "  model = tf.keras.models.Sequential()\n",
        "\n",
        "  model.add(my_feature_layer)\n",
        "\n",
        "  for index, layer in enumerate(layers):\n",
        "    model.add(tf.keras.layers.Dense(units=layer, \n",
        "                                    activation='relu', \n",
        "                                    name=f'Hidden{index}'))\n",
        "  \n",
        "  model.add(tf.keras.layers.Dense(units=1, name='Output'))                              \n",
        "  \n",
        "  model.compile(optimizer=tf.keras.optimizers.Adam(lr=my_learning_rate),\n",
        "                loss=\"mean_squared_error\",\n",
        "                metrics=[tf.keras.metrics.MeanSquaredError(), 'accuracy'])\n",
        "  return model"
      ],
      "metadata": {
        "id": "z1zyLNxHk9zF"
      },
      "id": "z1zyLNxHk9zF",
      "execution_count": null,
      "outputs": []
    },
    {
      "cell_type": "code",
      "source": [
        "learning_rate = 0.01\n",
        "\n",
        "\n",
        "label_name = \"cohesion\"\n",
        "\n",
        "\n",
        "model_deep1 = create_model_deep(learning_rate, my_feature_layer, [30, 12])\n",
        "\n",
        "\n",
        "number_epochs = 30\n",
        "\n",
        "mse_train_deep1, mse_val_deep1 = train_model(model_deep1, train_data, number_epochs, batch_size, label_name)\n",
        "plot_the_loss_curve(mse_train_deep1, mse_val_deep1)"
      ],
      "metadata": {
        "colab": {
          "base_uri": "https://localhost:8080/",
          "height": 1000
        },
        "id": "BA5xloY4b8YO",
        "outputId": "d8383d2c-d810-4c4e-f502-925fff5338e0"
      },
      "id": "BA5xloY4b8YO",
      "execution_count": null,
      "outputs": [
        {
          "output_type": "stream",
          "name": "stdout",
          "text": [
            "Epoch 1/30\n"
          ]
        },
        {
          "output_type": "stream",
          "name": "stderr",
          "text": [
            "/usr/local/lib/python3.7/dist-packages/keras/optimizers/optimizer_v2/adam.py:110: UserWarning: The `lr` argument is deprecated, use `learning_rate` instead.\n",
            "  super(Adam, self).__init__(name, **kwargs)\n",
            "WARNING:tensorflow:Layers in a Sequential model should only have a single input tensor. Received: inputs={'number_of_words': <tf.Tensor 'IteratorGetNext:25' shape=(None,) dtype=int64>, 'stopwords_frequency': <tf.Tensor 'IteratorGetNext:32' shape=(None,) dtype=float32>, 'av_word_per_sen': <tf.Tensor 'IteratorGetNext:2' shape=(None,) dtype=float32>, 'punctuations': <tf.Tensor 'IteratorGetNext:27' shape=(None,) dtype=float32>, 'ARI': <tf.Tensor 'IteratorGetNext:0' shape=(None,) dtype=int64>, 'freq_of_verb': <tf.Tensor 'IteratorGetNext:16' shape=(None,) dtype=float32>, 'freq_of_adj': <tf.Tensor 'IteratorGetNext:9' shape=(None,) dtype=float32>, 'freq_of_adv': <tf.Tensor 'IteratorGetNext:10' shape=(None,) dtype=float32>, 'freq_of_distinct_adj': <tf.Tensor 'IteratorGetNext:11' shape=(None,) dtype=float32>, 'freq_of_distinct_adv': <tf.Tensor 'IteratorGetNext:12' shape=(None,) dtype=float32>, 'sentence_complexity': <tf.Tensor 'IteratorGetNext:28' shape=(None,) dtype=float32>, 'freq_of_wrong_words': <tf.Tensor 'IteratorGetNext:17' shape=(None,) dtype=float32>, 'sentiment_compound': <tf.Tensor 'IteratorGetNext:29' shape=(None,) dtype=float32>, 'sentiment_positive': <tf.Tensor 'IteratorGetNext:31' shape=(None,) dtype=float32>, 'sentiment_negative': <tf.Tensor 'IteratorGetNext:30' shape=(None,) dtype=float32>, 'num_of_grammar_errors': <tf.Tensor 'IteratorGetNext:22' shape=(None,) dtype=int64>, 'corrected_text': <tf.Tensor 'IteratorGetNext:4' shape=(None,) dtype=string>, 'num_of_short_forms': <tf.Tensor 'IteratorGetNext:23' shape=(None,) dtype=int64>, 'Incorrect_form_ratio': <tf.Tensor 'IteratorGetNext:1' shape=(None,) dtype=float32>, 'flesch_reading_ease': <tf.Tensor 'IteratorGetNext:7' shape=(None,) dtype=float32>, 'flesch_kincaid_grade': <tf.Tensor 'IteratorGetNext:6' shape=(None,) dtype=float32>, 'dale_chall_readability_score': <tf.Tensor 'IteratorGetNext:5' shape=(None,) dtype=float32>, 'text_standard': <tf.Tensor 'IteratorGetNext:33' shape=(None,) dtype=float32>, 'mcalpine_eflaw': <tf.Tensor 'IteratorGetNext:20' shape=(None,) dtype=float32>, 'number_of_diff_words': <tf.Tensor 'IteratorGetNext:24' shape=(None,) dtype=int64>, 'freq_diff_words': <tf.Tensor 'IteratorGetNext:8' shape=(None,) dtype=float32>, 'ttr': <tf.Tensor 'IteratorGetNext:34' shape=(None,) dtype=float32>, 'coherence_score': <tf.Tensor 'IteratorGetNext:3' shape=(None,) dtype=float32>, 'lexrank_avg_min_diff': <tf.Tensor 'IteratorGetNext:18' shape=(None,) dtype=float32>, 'lexrank_interquartile': <tf.Tensor 'IteratorGetNext:19' shape=(None,) dtype=float32>, 'freq_of_noun': <tf.Tensor 'IteratorGetNext:13' shape=(None,) dtype=float32>, 'freq_of_transition': <tf.Tensor 'IteratorGetNext:15' shape=(None,) dtype=float32>, 'freq_of_pronoun': <tf.Tensor 'IteratorGetNext:14' shape=(None,) dtype=float32>, 'noun_to_adj': <tf.Tensor 'IteratorGetNext:21' shape=(None,) dtype=float32>, 'verb_to_adv': <tf.Tensor 'IteratorGetNext:35' shape=(None,) dtype=float32>, 'phrase_diversity': <tf.Tensor 'IteratorGetNext:26' shape=(None,) dtype=float32>, 'vocabulary': <tf.Tensor 'IteratorGetNext:36' shape=(None,) dtype=float32>}. Consider rewriting this model with the Functional API.\n",
            "WARNING:tensorflow:Layers in a Sequential model should only have a single input tensor. Received: inputs={'number_of_words': <tf.Tensor 'IteratorGetNext:25' shape=(None,) dtype=int64>, 'stopwords_frequency': <tf.Tensor 'IteratorGetNext:32' shape=(None,) dtype=float32>, 'av_word_per_sen': <tf.Tensor 'IteratorGetNext:2' shape=(None,) dtype=float32>, 'punctuations': <tf.Tensor 'IteratorGetNext:27' shape=(None,) dtype=float32>, 'ARI': <tf.Tensor 'IteratorGetNext:0' shape=(None,) dtype=int64>, 'freq_of_verb': <tf.Tensor 'IteratorGetNext:16' shape=(None,) dtype=float32>, 'freq_of_adj': <tf.Tensor 'IteratorGetNext:9' shape=(None,) dtype=float32>, 'freq_of_adv': <tf.Tensor 'IteratorGetNext:10' shape=(None,) dtype=float32>, 'freq_of_distinct_adj': <tf.Tensor 'IteratorGetNext:11' shape=(None,) dtype=float32>, 'freq_of_distinct_adv': <tf.Tensor 'IteratorGetNext:12' shape=(None,) dtype=float32>, 'sentence_complexity': <tf.Tensor 'IteratorGetNext:28' shape=(None,) dtype=float32>, 'freq_of_wrong_words': <tf.Tensor 'IteratorGetNext:17' shape=(None,) dtype=float32>, 'sentiment_compound': <tf.Tensor 'IteratorGetNext:29' shape=(None,) dtype=float32>, 'sentiment_positive': <tf.Tensor 'IteratorGetNext:31' shape=(None,) dtype=float32>, 'sentiment_negative': <tf.Tensor 'IteratorGetNext:30' shape=(None,) dtype=float32>, 'num_of_grammar_errors': <tf.Tensor 'IteratorGetNext:22' shape=(None,) dtype=int64>, 'corrected_text': <tf.Tensor 'IteratorGetNext:4' shape=(None,) dtype=string>, 'num_of_short_forms': <tf.Tensor 'IteratorGetNext:23' shape=(None,) dtype=int64>, 'Incorrect_form_ratio': <tf.Tensor 'IteratorGetNext:1' shape=(None,) dtype=float32>, 'flesch_reading_ease': <tf.Tensor 'IteratorGetNext:7' shape=(None,) dtype=float32>, 'flesch_kincaid_grade': <tf.Tensor 'IteratorGetNext:6' shape=(None,) dtype=float32>, 'dale_chall_readability_score': <tf.Tensor 'IteratorGetNext:5' shape=(None,) dtype=float32>, 'text_standard': <tf.Tensor 'IteratorGetNext:33' shape=(None,) dtype=float32>, 'mcalpine_eflaw': <tf.Tensor 'IteratorGetNext:20' shape=(None,) dtype=float32>, 'number_of_diff_words': <tf.Tensor 'IteratorGetNext:24' shape=(None,) dtype=int64>, 'freq_diff_words': <tf.Tensor 'IteratorGetNext:8' shape=(None,) dtype=float32>, 'ttr': <tf.Tensor 'IteratorGetNext:34' shape=(None,) dtype=float32>, 'coherence_score': <tf.Tensor 'IteratorGetNext:3' shape=(None,) dtype=float32>, 'lexrank_avg_min_diff': <tf.Tensor 'IteratorGetNext:18' shape=(None,) dtype=float32>, 'lexrank_interquartile': <tf.Tensor 'IteratorGetNext:19' shape=(None,) dtype=float32>, 'freq_of_noun': <tf.Tensor 'IteratorGetNext:13' shape=(None,) dtype=float32>, 'freq_of_transition': <tf.Tensor 'IteratorGetNext:15' shape=(None,) dtype=float32>, 'freq_of_pronoun': <tf.Tensor 'IteratorGetNext:14' shape=(None,) dtype=float32>, 'noun_to_adj': <tf.Tensor 'IteratorGetNext:21' shape=(None,) dtype=float32>, 'verb_to_adv': <tf.Tensor 'IteratorGetNext:35' shape=(None,) dtype=float32>, 'phrase_diversity': <tf.Tensor 'IteratorGetNext:26' shape=(None,) dtype=float32>, 'vocabulary': <tf.Tensor 'IteratorGetNext:36' shape=(None,) dtype=float32>}. Consider rewriting this model with the Functional API.\n"
          ]
        },
        {
          "output_type": "stream",
          "name": "stdout",
          "text": [
            "\r 1/10 [==>...........................] - ETA: 9s - loss: 148.1801 - mean_squared_error: 148.1801 - accuracy: 0.0000e+00"
          ]
        },
        {
          "output_type": "stream",
          "name": "stderr",
          "text": [
            "WARNING:tensorflow:Layers in a Sequential model should only have a single input tensor. Received: inputs={'number_of_words': <tf.Tensor 'IteratorGetNext:25' shape=(None,) dtype=int64>, 'stopwords_frequency': <tf.Tensor 'IteratorGetNext:32' shape=(None,) dtype=float32>, 'av_word_per_sen': <tf.Tensor 'IteratorGetNext:2' shape=(None,) dtype=float32>, 'punctuations': <tf.Tensor 'IteratorGetNext:27' shape=(None,) dtype=float32>, 'ARI': <tf.Tensor 'IteratorGetNext:0' shape=(None,) dtype=int64>, 'freq_of_verb': <tf.Tensor 'IteratorGetNext:16' shape=(None,) dtype=float32>, 'freq_of_adj': <tf.Tensor 'IteratorGetNext:9' shape=(None,) dtype=float32>, 'freq_of_adv': <tf.Tensor 'IteratorGetNext:10' shape=(None,) dtype=float32>, 'freq_of_distinct_adj': <tf.Tensor 'IteratorGetNext:11' shape=(None,) dtype=float32>, 'freq_of_distinct_adv': <tf.Tensor 'IteratorGetNext:12' shape=(None,) dtype=float32>, 'sentence_complexity': <tf.Tensor 'IteratorGetNext:28' shape=(None,) dtype=float32>, 'freq_of_wrong_words': <tf.Tensor 'IteratorGetNext:17' shape=(None,) dtype=float32>, 'sentiment_compound': <tf.Tensor 'IteratorGetNext:29' shape=(None,) dtype=float32>, 'sentiment_positive': <tf.Tensor 'IteratorGetNext:31' shape=(None,) dtype=float32>, 'sentiment_negative': <tf.Tensor 'IteratorGetNext:30' shape=(None,) dtype=float32>, 'num_of_grammar_errors': <tf.Tensor 'IteratorGetNext:22' shape=(None,) dtype=int64>, 'corrected_text': <tf.Tensor 'IteratorGetNext:4' shape=(None,) dtype=string>, 'num_of_short_forms': <tf.Tensor 'IteratorGetNext:23' shape=(None,) dtype=int64>, 'Incorrect_form_ratio': <tf.Tensor 'IteratorGetNext:1' shape=(None,) dtype=float32>, 'flesch_reading_ease': <tf.Tensor 'IteratorGetNext:7' shape=(None,) dtype=float32>, 'flesch_kincaid_grade': <tf.Tensor 'IteratorGetNext:6' shape=(None,) dtype=float32>, 'dale_chall_readability_score': <tf.Tensor 'IteratorGetNext:5' shape=(None,) dtype=float32>, 'text_standard': <tf.Tensor 'IteratorGetNext:33' shape=(None,) dtype=float32>, 'mcalpine_eflaw': <tf.Tensor 'IteratorGetNext:20' shape=(None,) dtype=float32>, 'number_of_diff_words': <tf.Tensor 'IteratorGetNext:24' shape=(None,) dtype=int64>, 'freq_diff_words': <tf.Tensor 'IteratorGetNext:8' shape=(None,) dtype=float32>, 'ttr': <tf.Tensor 'IteratorGetNext:34' shape=(None,) dtype=float32>, 'coherence_score': <tf.Tensor 'IteratorGetNext:3' shape=(None,) dtype=float32>, 'lexrank_avg_min_diff': <tf.Tensor 'IteratorGetNext:18' shape=(None,) dtype=float32>, 'lexrank_interquartile': <tf.Tensor 'IteratorGetNext:19' shape=(None,) dtype=float32>, 'freq_of_noun': <tf.Tensor 'IteratorGetNext:13' shape=(None,) dtype=float32>, 'freq_of_transition': <tf.Tensor 'IteratorGetNext:15' shape=(None,) dtype=float32>, 'freq_of_pronoun': <tf.Tensor 'IteratorGetNext:14' shape=(None,) dtype=float32>, 'noun_to_adj': <tf.Tensor 'IteratorGetNext:21' shape=(None,) dtype=float32>, 'verb_to_adv': <tf.Tensor 'IteratorGetNext:35' shape=(None,) dtype=float32>, 'phrase_diversity': <tf.Tensor 'IteratorGetNext:26' shape=(None,) dtype=float32>, 'vocabulary': <tf.Tensor 'IteratorGetNext:36' shape=(None,) dtype=float32>}. Consider rewriting this model with the Functional API.\n"
          ]
        },
        {
          "output_type": "stream",
          "name": "stdout",
          "text": [
            "\b\b\b\b\b\b\b\b\b\b\b\b\b\b\b\b\b\b\b\b\b\b\b\b\b\b\b\b\b\b\b\b\b\b\b\b\b\b\b\b\b\b\b\b\b\b\b\b\b\b\b\b\b\b\b\b\b\b\b\b\b\b\b\b\b\b\b\b\b\b\b\b\b\b\b\b\b\b\b\b\b\b\b\b\b\b\b\b\b\b\b\b\b\b\b\b\b\b\b\b\b\b\b\b\b\b\b\b\b\b\b\b\b\b\b\b\b\b\b\r10/10 [==============================] - 2s 68ms/step - loss: 122.7251 - mean_squared_error: 122.7251 - accuracy: 7.9936e-04 - val_loss: 104.8239 - val_mean_squared_error: 104.8239 - val_accuracy: 0.0032\n",
            "Epoch 2/30\n",
            "10/10 [==============================] - 0s 9ms/step - loss: 33.3755 - mean_squared_error: 33.3755 - accuracy: 0.0012 - val_loss: 18.5569 - val_mean_squared_error: 18.5569 - val_accuracy: 0.0032\n",
            "Epoch 3/30\n",
            "10/10 [==============================] - 0s 9ms/step - loss: 13.1803 - mean_squared_error: 13.1803 - accuracy: 0.0016 - val_loss: 2.8394 - val_mean_squared_error: 2.8394 - val_accuracy: 0.0000e+00\n",
            "Epoch 4/30\n",
            "10/10 [==============================] - 0s 9ms/step - loss: 4.4997 - mean_squared_error: 4.4997 - accuracy: 7.9936e-04 - val_loss: 3.7246 - val_mean_squared_error: 3.7246 - val_accuracy: 0.0000e+00\n",
            "Epoch 5/30\n",
            "10/10 [==============================] - 0s 9ms/step - loss: 2.0252 - mean_squared_error: 2.0252 - accuracy: 0.0016 - val_loss: 2.9364 - val_mean_squared_error: 2.9364 - val_accuracy: 0.0016\n",
            "Epoch 6/30\n",
            "10/10 [==============================] - 0s 9ms/step - loss: 1.4397 - mean_squared_error: 1.4397 - accuracy: 0.0016 - val_loss: 1.3180 - val_mean_squared_error: 1.3180 - val_accuracy: 0.0032\n",
            "Epoch 7/30\n",
            "10/10 [==============================] - 0s 9ms/step - loss: 0.8791 - mean_squared_error: 0.8791 - accuracy: 0.0012 - val_loss: 0.8412 - val_mean_squared_error: 0.8412 - val_accuracy: 0.0016\n",
            "Epoch 8/30\n",
            "10/10 [==============================] - 0s 9ms/step - loss: 0.6798 - mean_squared_error: 0.6798 - accuracy: 0.0016 - val_loss: 0.6957 - val_mean_squared_error: 0.6957 - val_accuracy: 0.0016\n",
            "Epoch 9/30\n",
            "10/10 [==============================] - 0s 9ms/step - loss: 0.6218 - mean_squared_error: 0.6218 - accuracy: 0.0016 - val_loss: 0.6650 - val_mean_squared_error: 0.6650 - val_accuracy: 0.0016\n",
            "Epoch 10/30\n",
            "10/10 [==============================] - 0s 9ms/step - loss: 0.5647 - mean_squared_error: 0.5647 - accuracy: 0.0016 - val_loss: 0.6432 - val_mean_squared_error: 0.6432 - val_accuracy: 0.0016\n",
            "Epoch 11/30\n",
            "10/10 [==============================] - 0s 10ms/step - loss: 0.5387 - mean_squared_error: 0.5387 - accuracy: 0.0016 - val_loss: 0.6440 - val_mean_squared_error: 0.6440 - val_accuracy: 0.0016\n",
            "Epoch 12/30\n",
            "10/10 [==============================] - 0s 9ms/step - loss: 0.5118 - mean_squared_error: 0.5118 - accuracy: 0.0016 - val_loss: 0.6036 - val_mean_squared_error: 0.6036 - val_accuracy: 0.0016\n",
            "Epoch 13/30\n",
            "10/10 [==============================] - 0s 9ms/step - loss: 0.4866 - mean_squared_error: 0.4866 - accuracy: 0.0016 - val_loss: 0.5441 - val_mean_squared_error: 0.5441 - val_accuracy: 0.0016\n",
            "Epoch 14/30\n",
            "10/10 [==============================] - 0s 9ms/step - loss: 0.4740 - mean_squared_error: 0.4740 - accuracy: 0.0016 - val_loss: 0.5661 - val_mean_squared_error: 0.5661 - val_accuracy: 0.0016\n",
            "Epoch 15/30\n",
            "10/10 [==============================] - 0s 10ms/step - loss: 0.4601 - mean_squared_error: 0.4601 - accuracy: 0.0016 - val_loss: 0.5277 - val_mean_squared_error: 0.5277 - val_accuracy: 0.0016\n",
            "Epoch 16/30\n",
            "10/10 [==============================] - 0s 9ms/step - loss: 0.4492 - mean_squared_error: 0.4492 - accuracy: 0.0016 - val_loss: 0.5165 - val_mean_squared_error: 0.5165 - val_accuracy: 0.0016\n",
            "Epoch 17/30\n",
            "10/10 [==============================] - 0s 9ms/step - loss: 0.4390 - mean_squared_error: 0.4390 - accuracy: 0.0016 - val_loss: 0.5316 - val_mean_squared_error: 0.5316 - val_accuracy: 0.0016\n",
            "Epoch 18/30\n",
            "10/10 [==============================] - 0s 9ms/step - loss: 0.4337 - mean_squared_error: 0.4337 - accuracy: 0.0016 - val_loss: 0.4906 - val_mean_squared_error: 0.4906 - val_accuracy: 0.0016\n",
            "Epoch 19/30\n",
            "10/10 [==============================] - 0s 9ms/step - loss: 0.4288 - mean_squared_error: 0.4288 - accuracy: 0.0016 - val_loss: 0.4877 - val_mean_squared_error: 0.4877 - val_accuracy: 0.0016\n",
            "Epoch 20/30\n",
            "10/10 [==============================] - 0s 9ms/step - loss: 0.4210 - mean_squared_error: 0.4210 - accuracy: 0.0016 - val_loss: 0.5079 - val_mean_squared_error: 0.5079 - val_accuracy: 0.0016\n",
            "Epoch 21/30\n",
            "10/10 [==============================] - 0s 10ms/step - loss: 0.4180 - mean_squared_error: 0.4180 - accuracy: 0.0016 - val_loss: 0.5078 - val_mean_squared_error: 0.5078 - val_accuracy: 0.0016\n",
            "Epoch 22/30\n",
            "10/10 [==============================] - 0s 9ms/step - loss: 0.4091 - mean_squared_error: 0.4091 - accuracy: 0.0016 - val_loss: 0.4932 - val_mean_squared_error: 0.4932 - val_accuracy: 0.0016\n",
            "Epoch 23/30\n",
            "10/10 [==============================] - 0s 10ms/step - loss: 0.4113 - mean_squared_error: 0.4113 - accuracy: 0.0016 - val_loss: 0.5813 - val_mean_squared_error: 0.5813 - val_accuracy: 0.0016\n",
            "Epoch 24/30\n",
            "10/10 [==============================] - 0s 9ms/step - loss: 0.4213 - mean_squared_error: 0.4213 - accuracy: 0.0016 - val_loss: 0.4777 - val_mean_squared_error: 0.4777 - val_accuracy: 0.0016\n",
            "Epoch 25/30\n",
            "10/10 [==============================] - 0s 9ms/step - loss: 0.3977 - mean_squared_error: 0.3977 - accuracy: 0.0016 - val_loss: 0.4695 - val_mean_squared_error: 0.4695 - val_accuracy: 0.0016\n",
            "Epoch 26/30\n",
            "10/10 [==============================] - 0s 9ms/step - loss: 0.3923 - mean_squared_error: 0.3923 - accuracy: 0.0016 - val_loss: 0.4672 - val_mean_squared_error: 0.4672 - val_accuracy: 0.0016\n",
            "Epoch 27/30\n",
            "10/10 [==============================] - 0s 9ms/step - loss: 0.3843 - mean_squared_error: 0.3843 - accuracy: 0.0016 - val_loss: 0.4643 - val_mean_squared_error: 0.4643 - val_accuracy: 0.0016\n",
            "Epoch 28/30\n",
            "10/10 [==============================] - 0s 9ms/step - loss: 0.3817 - mean_squared_error: 0.3817 - accuracy: 0.0016 - val_loss: 0.4484 - val_mean_squared_error: 0.4484 - val_accuracy: 0.0016\n",
            "Epoch 29/30\n",
            "10/10 [==============================] - 0s 9ms/step - loss: 0.3739 - mean_squared_error: 0.3739 - accuracy: 0.0016 - val_loss: 0.4640 - val_mean_squared_error: 0.4640 - val_accuracy: 0.0016\n",
            "Epoch 30/30\n",
            "10/10 [==============================] - 0s 10ms/step - loss: 0.3702 - mean_squared_error: 0.3702 - accuracy: 0.0016 - val_loss: 0.4358 - val_mean_squared_error: 0.4358 - val_accuracy: 0.0016\n"
          ]
        },
        {
          "output_type": "display_data",
          "data": {
            "text/plain": [
              "<Figure size 720x576 with 1 Axes>"
            ],
            "image/png": "[encoded data removed]"
          },
          "metadata": {
            "needs_background": "light"
          }
        }
      ]
    },
    {
      "cell_type": "code",
      "source": [
        "test_features = {name:np.array(value) for name, value in test_data.items()}\n",
        "test_features.pop(\"vocabulary\")\n",
        "test_label = np.array(test_features.pop(label_name))\n",
        "prediction_deep1 = model_deep1.predict(test_features)\n",
        "pre_list = []\n",
        "for value in prediction_deep1:\n",
        "  pre_list.append(value[0])\n",
        "pre_list_2 = result(pre_list)"
      ],
      "metadata": {
        "colab": {
          "base_uri": "https://localhost:8080/"
        },
        "outputId": "a79c4c94-38a5-4c63-ca35-eb697b83aeec",
        "id": "2CO-0Yu6dfQ7"
      },
      "execution_count": null,
      "outputs": [
        {
          "output_type": "stream",
          "name": "stderr",
          "text": [
            "WARNING:tensorflow:Layers in a Sequential model should only have a single input tensor. Received: inputs={'number_of_words': <tf.Tensor 'IteratorGetNext:24' shape=(None,) dtype=int64>, 'stopwords_frequency': <tf.Tensor 'IteratorGetNext:31' shape=(None,) dtype=float32>, 'av_word_per_sen': <tf.Tensor 'IteratorGetNext:2' shape=(None,) dtype=float32>, 'punctuations': <tf.Tensor 'IteratorGetNext:26' shape=(None,) dtype=float32>, 'ARI': <tf.Tensor 'IteratorGetNext:0' shape=(None,) dtype=int64>, 'freq_of_verb': <tf.Tensor 'IteratorGetNext:15' shape=(None,) dtype=float32>, 'freq_of_adj': <tf.Tensor 'IteratorGetNext:8' shape=(None,) dtype=float32>, 'freq_of_adv': <tf.Tensor 'IteratorGetNext:9' shape=(None,) dtype=float32>, 'freq_of_distinct_adj': <tf.Tensor 'IteratorGetNext:10' shape=(None,) dtype=float32>, 'freq_of_distinct_adv': <tf.Tensor 'IteratorGetNext:11' shape=(None,) dtype=float32>, 'sentence_complexity': <tf.Tensor 'IteratorGetNext:27' shape=(None,) dtype=float32>, 'freq_of_wrong_words': <tf.Tensor 'IteratorGetNext:16' shape=(None,) dtype=float32>, 'sentiment_compound': <tf.Tensor 'IteratorGetNext:28' shape=(None,) dtype=float32>, 'sentiment_positive': <tf.Tensor 'IteratorGetNext:30' shape=(None,) dtype=float32>, 'sentiment_negative': <tf.Tensor 'IteratorGetNext:29' shape=(None,) dtype=float32>, 'num_of_grammar_errors': <tf.Tensor 'IteratorGetNext:21' shape=(None,) dtype=int64>, 'num_of_short_forms': <tf.Tensor 'IteratorGetNext:22' shape=(None,) dtype=int64>, 'Incorrect_form_ratio': <tf.Tensor 'IteratorGetNext:1' shape=(None,) dtype=float32>, 'flesch_reading_ease': <tf.Tensor 'IteratorGetNext:6' shape=(None,) dtype=float32>, 'flesch_kincaid_grade': <tf.Tensor 'IteratorGetNext:5' shape=(None,) dtype=float32>, 'dale_chall_readability_score': <tf.Tensor 'IteratorGetNext:4' shape=(None,) dtype=float32>, 'text_standard': <tf.Tensor 'IteratorGetNext:32' shape=(None,) dtype=float32>, 'mcalpine_eflaw': <tf.Tensor 'IteratorGetNext:19' shape=(None,) dtype=float32>, 'number_of_diff_words': <tf.Tensor 'IteratorGetNext:23' shape=(None,) dtype=int64>, 'freq_diff_words': <tf.Tensor 'IteratorGetNext:7' shape=(None,) dtype=float32>, 'ttr': <tf.Tensor 'IteratorGetNext:33' shape=(None,) dtype=float32>, 'coherence_score': <tf.Tensor 'IteratorGetNext:3' shape=(None,) dtype=float32>, 'lexrank_avg_min_diff': <tf.Tensor 'IteratorGetNext:17' shape=(None,) dtype=float32>, 'lexrank_interquartile': <tf.Tensor 'IteratorGetNext:18' shape=(None,) dtype=float32>, 'freq_of_noun': <tf.Tensor 'IteratorGetNext:12' shape=(None,) dtype=float32>, 'freq_of_transition': <tf.Tensor 'IteratorGetNext:14' shape=(None,) dtype=float32>, 'freq_of_pronoun': <tf.Tensor 'IteratorGetNext:13' shape=(None,) dtype=float32>, 'noun_to_adj': <tf.Tensor 'IteratorGetNext:20' shape=(None,) dtype=float32>, 'verb_to_adv': <tf.Tensor 'IteratorGetNext:34' shape=(None,) dtype=float32>, 'phrase_diversity': <tf.Tensor 'IteratorGetNext:25' shape=(None,) dtype=float32>}. Consider rewriting this model with the Functional API.\n"
          ]
        },
        {
          "output_type": "stream",
          "name": "stdout",
          "text": [
            "25/25 [==============================] - 0s 2ms/step\n"
          ]
        }
      ],
      "id": "2CO-0Yu6dfQ7"
    },
    {
      "cell_type": "code",
      "source": [
        "co_accuracy_deep = accuracy_range(pre_list, list(test_data['cohesion']))\n",
        "co_accuracy_deep"
      ],
      "metadata": {
        "colab": {
          "base_uri": "https://localhost:8080/"
        },
        "outputId": "237cd38e-2e70-4d47-8674-872659b513fa",
        "id": "Kk6gUwgFdfQ8"
      },
      "execution_count": null,
      "outputs": [
        {
          "output_type": "execute_result",
          "data": {
            "text/plain": [
              "0.598978288633461"
            ]
          },
          "metadata": {},
          "execution_count": 121
        }
      ],
      "id": "Kk6gUwgFdfQ8"
    },
    {
      "cell_type": "code",
      "source": [
        "co_accuracy2_deep = accuracy(list(test_data['cohesion']), pre_list_2)\n",
        "co_accuracy2_deep"
      ],
      "metadata": {
        "colab": {
          "base_uri": "https://localhost:8080/"
        },
        "outputId": "4dab457b-4b91-4eac-ecac-e221456f8594",
        "id": "oTiESJU6dfQ8"
      },
      "execution_count": null,
      "outputs": [
        {
          "output_type": "execute_result",
          "data": {
            "text/plain": [
              "0.351213282247765"
            ]
          },
          "metadata": {},
          "execution_count": 122
        }
      ],
      "id": "oTiESJU6dfQ8"
    },
    {
      "cell_type": "code",
      "source": [
        "error_rate3 = error_rate(list(test_data['cohesion']), pre_list)\n",
        "error_rate3"
      ],
      "metadata": {
        "colab": {
          "base_uri": "https://localhost:8080/"
        },
        "outputId": "cdd8ae59-454b-43be-95ff-56a7ca6d0c62",
        "id": "7CfpZ1JmdfQ8"
      },
      "execution_count": null,
      "outputs": [
        {
          "output_type": "execute_result",
          "data": {
            "text/plain": [
              "0.4727916353659307"
            ]
          },
          "metadata": {},
          "execution_count": 123
        }
      ],
      "id": "7CfpZ1JmdfQ8"
    },
    {
      "cell_type": "code",
      "source": [
        "learning_rate = 0.01\n",
        "\n",
        "\n",
        "label_name = \"vocabulary\"\n",
        "\n",
        "\n",
        "model_deep = create_model_deep(learning_rate, my_feature_layer, [30, 12])\n",
        "\n",
        "\n",
        "number_epochs = 30\n",
        "\n",
        "mse_train_deep, mse_val_deep = train_model(model_deep, train_data, number_epochs, batch_size, label_name)\n",
        "plot_the_loss_curve(mse_train_deep, mse_val_deep)"
      ],
      "metadata": {
        "colab": {
          "base_uri": "https://localhost:8080/",
          "height": 1000
        },
        "id": "rbr_t48Fk8mA",
        "outputId": "fd8b234b-c0cc-418c-c70a-1db29a2c3508"
      },
      "id": "rbr_t48Fk8mA",
      "execution_count": null,
      "outputs": [
        {
          "output_type": "stream",
          "name": "stdout",
          "text": [
            "Epoch 1/30\n"
          ]
        },
        {
          "output_type": "stream",
          "name": "stderr",
          "text": [
            "WARNING:tensorflow:Layers in a Sequential model should only have a single input tensor. Received: inputs={'number_of_words': <tf.Tensor 'IteratorGetNext:26' shape=(None,) dtype=int64>, 'stopwords_frequency': <tf.Tensor 'IteratorGetNext:33' shape=(None,) dtype=float32>, 'av_word_per_sen': <tf.Tensor 'IteratorGetNext:2' shape=(None,) dtype=float32>, 'punctuations': <tf.Tensor 'IteratorGetNext:28' shape=(None,) dtype=float32>, 'ARI': <tf.Tensor 'IteratorGetNext:0' shape=(None,) dtype=int64>, 'freq_of_verb': <tf.Tensor 'IteratorGetNext:17' shape=(None,) dtype=float32>, 'freq_of_adj': <tf.Tensor 'IteratorGetNext:10' shape=(None,) dtype=float32>, 'freq_of_adv': <tf.Tensor 'IteratorGetNext:11' shape=(None,) dtype=float32>, 'freq_of_distinct_adj': <tf.Tensor 'IteratorGetNext:12' shape=(None,) dtype=float32>, 'freq_of_distinct_adv': <tf.Tensor 'IteratorGetNext:13' shape=(None,) dtype=float32>, 'sentence_complexity': <tf.Tensor 'IteratorGetNext:29' shape=(None,) dtype=float32>, 'freq_of_wrong_words': <tf.Tensor 'IteratorGetNext:18' shape=(None,) dtype=float32>, 'sentiment_compound': <tf.Tensor 'IteratorGetNext:30' shape=(None,) dtype=float32>, 'sentiment_positive': <tf.Tensor 'IteratorGetNext:32' shape=(None,) dtype=float32>, 'sentiment_negative': <tf.Tensor 'IteratorGetNext:31' shape=(None,) dtype=float32>, 'num_of_grammar_errors': <tf.Tensor 'IteratorGetNext:23' shape=(None,) dtype=int64>, 'corrected_text': <tf.Tensor 'IteratorGetNext:5' shape=(None,) dtype=string>, 'num_of_short_forms': <tf.Tensor 'IteratorGetNext:24' shape=(None,) dtype=int64>, 'Incorrect_form_ratio': <tf.Tensor 'IteratorGetNext:1' shape=(None,) dtype=float32>, 'flesch_reading_ease': <tf.Tensor 'IteratorGetNext:8' shape=(None,) dtype=float32>, 'flesch_kincaid_grade': <tf.Tensor 'IteratorGetNext:7' shape=(None,) dtype=float32>, 'dale_chall_readability_score': <tf.Tensor 'IteratorGetNext:6' shape=(None,) dtype=float32>, 'text_standard': <tf.Tensor 'IteratorGetNext:34' shape=(None,) dtype=float32>, 'mcalpine_eflaw': <tf.Tensor 'IteratorGetNext:21' shape=(None,) dtype=float32>, 'number_of_diff_words': <tf.Tensor 'IteratorGetNext:25' shape=(None,) dtype=int64>, 'freq_diff_words': <tf.Tensor 'IteratorGetNext:9' shape=(None,) dtype=float32>, 'ttr': <tf.Tensor 'IteratorGetNext:35' shape=(None,) dtype=float32>, 'coherence_score': <tf.Tensor 'IteratorGetNext:3' shape=(None,) dtype=float32>, 'lexrank_avg_min_diff': <tf.Tensor 'IteratorGetNext:19' shape=(None,) dtype=float32>, 'lexrank_interquartile': <tf.Tensor 'IteratorGetNext:20' shape=(None,) dtype=float32>, 'freq_of_noun': <tf.Tensor 'IteratorGetNext:14' shape=(None,) dtype=float32>, 'freq_of_transition': <tf.Tensor 'IteratorGetNext:16' shape=(None,) dtype=float32>, 'freq_of_pronoun': <tf.Tensor 'IteratorGetNext:15' shape=(None,) dtype=float32>, 'noun_to_adj': <tf.Tensor 'IteratorGetNext:22' shape=(None,) dtype=float32>, 'verb_to_adv': <tf.Tensor 'IteratorGetNext:36' shape=(None,) dtype=float32>, 'phrase_diversity': <tf.Tensor 'IteratorGetNext:27' shape=(None,) dtype=float32>, 'cohesion': <tf.Tensor 'IteratorGetNext:4' shape=(None,) dtype=float32>}. Consider rewriting this model with the Functional API.\n",
            "WARNING:tensorflow:Layers in a Sequential model should only have a single input tensor. Received: inputs={'number_of_words': <tf.Tensor 'IteratorGetNext:26' shape=(None,) dtype=int64>, 'stopwords_frequency': <tf.Tensor 'IteratorGetNext:33' shape=(None,) dtype=float32>, 'av_word_per_sen': <tf.Tensor 'IteratorGetNext:2' shape=(None,) dtype=float32>, 'punctuations': <tf.Tensor 'IteratorGetNext:28' shape=(None,) dtype=float32>, 'ARI': <tf.Tensor 'IteratorGetNext:0' shape=(None,) dtype=int64>, 'freq_of_verb': <tf.Tensor 'IteratorGetNext:17' shape=(None,) dtype=float32>, 'freq_of_adj': <tf.Tensor 'IteratorGetNext:10' shape=(None,) dtype=float32>, 'freq_of_adv': <tf.Tensor 'IteratorGetNext:11' shape=(None,) dtype=float32>, 'freq_of_distinct_adj': <tf.Tensor 'IteratorGetNext:12' shape=(None,) dtype=float32>, 'freq_of_distinct_adv': <tf.Tensor 'IteratorGetNext:13' shape=(None,) dtype=float32>, 'sentence_complexity': <tf.Tensor 'IteratorGetNext:29' shape=(None,) dtype=float32>, 'freq_of_wrong_words': <tf.Tensor 'IteratorGetNext:18' shape=(None,) dtype=float32>, 'sentiment_compound': <tf.Tensor 'IteratorGetNext:30' shape=(None,) dtype=float32>, 'sentiment_positive': <tf.Tensor 'IteratorGetNext:32' shape=(None,) dtype=float32>, 'sentiment_negative': <tf.Tensor 'IteratorGetNext:31' shape=(None,) dtype=float32>, 'num_of_grammar_errors': <tf.Tensor 'IteratorGetNext:23' shape=(None,) dtype=int64>, 'corrected_text': <tf.Tensor 'IteratorGetNext:5' shape=(None,) dtype=string>, 'num_of_short_forms': <tf.Tensor 'IteratorGetNext:24' shape=(None,) dtype=int64>, 'Incorrect_form_ratio': <tf.Tensor 'IteratorGetNext:1' shape=(None,) dtype=float32>, 'flesch_reading_ease': <tf.Tensor 'IteratorGetNext:8' shape=(None,) dtype=float32>, 'flesch_kincaid_grade': <tf.Tensor 'IteratorGetNext:7' shape=(None,) dtype=float32>, 'dale_chall_readability_score': <tf.Tensor 'IteratorGetNext:6' shape=(None,) dtype=float32>, 'text_standard': <tf.Tensor 'IteratorGetNext:34' shape=(None,) dtype=float32>, 'mcalpine_eflaw': <tf.Tensor 'IteratorGetNext:21' shape=(None,) dtype=float32>, 'number_of_diff_words': <tf.Tensor 'IteratorGetNext:25' shape=(None,) dtype=int64>, 'freq_diff_words': <tf.Tensor 'IteratorGetNext:9' shape=(None,) dtype=float32>, 'ttr': <tf.Tensor 'IteratorGetNext:35' shape=(None,) dtype=float32>, 'coherence_score': <tf.Tensor 'IteratorGetNext:3' shape=(None,) dtype=float32>, 'lexrank_avg_min_diff': <tf.Tensor 'IteratorGetNext:19' shape=(None,) dtype=float32>, 'lexrank_interquartile': <tf.Tensor 'IteratorGetNext:20' shape=(None,) dtype=float32>, 'freq_of_noun': <tf.Tensor 'IteratorGetNext:14' shape=(None,) dtype=float32>, 'freq_of_transition': <tf.Tensor 'IteratorGetNext:16' shape=(None,) dtype=float32>, 'freq_of_pronoun': <tf.Tensor 'IteratorGetNext:15' shape=(None,) dtype=float32>, 'noun_to_adj': <tf.Tensor 'IteratorGetNext:22' shape=(None,) dtype=float32>, 'verb_to_adv': <tf.Tensor 'IteratorGetNext:36' shape=(None,) dtype=float32>, 'phrase_diversity': <tf.Tensor 'IteratorGetNext:27' shape=(None,) dtype=float32>, 'cohesion': <tf.Tensor 'IteratorGetNext:4' shape=(None,) dtype=float32>}. Consider rewriting this model with the Functional API.\n"
          ]
        },
        {
          "output_type": "stream",
          "name": "stdout",
          "text": [
            "\r 1/10 [==>...........................] - ETA: 9s - loss: 22849.7910 - mean_squared_error: 22849.7910 - accuracy: 0.0000e+00"
          ]
        },
        {
          "output_type": "stream",
          "name": "stderr",
          "text": [
            "WARNING:tensorflow:Layers in a Sequential model should only have a single input tensor. Received: inputs={'number_of_words': <tf.Tensor 'IteratorGetNext:26' shape=(None,) dtype=int64>, 'stopwords_frequency': <tf.Tensor 'IteratorGetNext:33' shape=(None,) dtype=float32>, 'av_word_per_sen': <tf.Tensor 'IteratorGetNext:2' shape=(None,) dtype=float32>, 'punctuations': <tf.Tensor 'IteratorGetNext:28' shape=(None,) dtype=float32>, 'ARI': <tf.Tensor 'IteratorGetNext:0' shape=(None,) dtype=int64>, 'freq_of_verb': <tf.Tensor 'IteratorGetNext:17' shape=(None,) dtype=float32>, 'freq_of_adj': <tf.Tensor 'IteratorGetNext:10' shape=(None,) dtype=float32>, 'freq_of_adv': <tf.Tensor 'IteratorGetNext:11' shape=(None,) dtype=float32>, 'freq_of_distinct_adj': <tf.Tensor 'IteratorGetNext:12' shape=(None,) dtype=float32>, 'freq_of_distinct_adv': <tf.Tensor 'IteratorGetNext:13' shape=(None,) dtype=float32>, 'sentence_complexity': <tf.Tensor 'IteratorGetNext:29' shape=(None,) dtype=float32>, 'freq_of_wrong_words': <tf.Tensor 'IteratorGetNext:18' shape=(None,) dtype=float32>, 'sentiment_compound': <tf.Tensor 'IteratorGetNext:30' shape=(None,) dtype=float32>, 'sentiment_positive': <tf.Tensor 'IteratorGetNext:32' shape=(None,) dtype=float32>, 'sentiment_negative': <tf.Tensor 'IteratorGetNext:31' shape=(None,) dtype=float32>, 'num_of_grammar_errors': <tf.Tensor 'IteratorGetNext:23' shape=(None,) dtype=int64>, 'corrected_text': <tf.Tensor 'IteratorGetNext:5' shape=(None,) dtype=string>, 'num_of_short_forms': <tf.Tensor 'IteratorGetNext:24' shape=(None,) dtype=int64>, 'Incorrect_form_ratio': <tf.Tensor 'IteratorGetNext:1' shape=(None,) dtype=float32>, 'flesch_reading_ease': <tf.Tensor 'IteratorGetNext:8' shape=(None,) dtype=float32>, 'flesch_kincaid_grade': <tf.Tensor 'IteratorGetNext:7' shape=(None,) dtype=float32>, 'dale_chall_readability_score': <tf.Tensor 'IteratorGetNext:6' shape=(None,) dtype=float32>, 'text_standard': <tf.Tensor 'IteratorGetNext:34' shape=(None,) dtype=float32>, 'mcalpine_eflaw': <tf.Tensor 'IteratorGetNext:21' shape=(None,) dtype=float32>, 'number_of_diff_words': <tf.Tensor 'IteratorGetNext:25' shape=(None,) dtype=int64>, 'freq_diff_words': <tf.Tensor 'IteratorGetNext:9' shape=(None,) dtype=float32>, 'ttr': <tf.Tensor 'IteratorGetNext:35' shape=(None,) dtype=float32>, 'coherence_score': <tf.Tensor 'IteratorGetNext:3' shape=(None,) dtype=float32>, 'lexrank_avg_min_diff': <tf.Tensor 'IteratorGetNext:19' shape=(None,) dtype=float32>, 'lexrank_interquartile': <tf.Tensor 'IteratorGetNext:20' shape=(None,) dtype=float32>, 'freq_of_noun': <tf.Tensor 'IteratorGetNext:14' shape=(None,) dtype=float32>, 'freq_of_transition': <tf.Tensor 'IteratorGetNext:16' shape=(None,) dtype=float32>, 'freq_of_pronoun': <tf.Tensor 'IteratorGetNext:15' shape=(None,) dtype=float32>, 'noun_to_adj': <tf.Tensor 'IteratorGetNext:22' shape=(None,) dtype=float32>, 'verb_to_adv': <tf.Tensor 'IteratorGetNext:36' shape=(None,) dtype=float32>, 'phrase_diversity': <tf.Tensor 'IteratorGetNext:27' shape=(None,) dtype=float32>, 'cohesion': <tf.Tensor 'IteratorGetNext:4' shape=(None,) dtype=float32>}. Consider rewriting this model with the Functional API.\n"
          ]
        },
        {
          "output_type": "stream",
          "name": "stdout",
          "text": [
            "\b\b\b\b\b\b\b\b\b\b\b\b\b\b\b\b\b\b\b\b\b\b\b\b\b\b\b\b\b\b\b\b\b\b\b\b\b\b\b\b\b\b\b\b\b\b\b\b\b\b\b\b\b\b\b\b\b\b\b\b\b\b\b\b\b\b\b\b\b\b\b\b\b\b\b\b\b\b\b\b\b\b\b\b\b\b\b\b\b\b\b\b\b\b\b\b\b\b\b\b\b\b\b\b\b\b\b\b\b\b\b\b\b\b\b\b\b\b\b\b\b\b\b\r10/10 [==============================] - 2s 68ms/step - loss: 5109.5420 - mean_squared_error: 5109.5420 - accuracy: 0.0000e+00 - val_loss: 1163.7373 - val_mean_squared_error: 1163.7373 - val_accuracy: 0.0000e+00\n",
            "Epoch 2/30\n",
            "10/10 [==============================] - 0s 9ms/step - loss: 390.6983 - mean_squared_error: 390.6983 - accuracy: 0.0000e+00 - val_loss: 259.5229 - val_mean_squared_error: 259.5229 - val_accuracy: 0.0000e+00\n",
            "Epoch 3/30\n",
            "10/10 [==============================] - 0s 9ms/step - loss: 76.8562 - mean_squared_error: 76.8562 - accuracy: 0.0000e+00 - val_loss: 55.8227 - val_mean_squared_error: 55.8227 - val_accuracy: 0.0000e+00\n",
            "Epoch 4/30\n",
            "10/10 [==============================] - 0s 9ms/step - loss: 43.4382 - mean_squared_error: 43.4382 - accuracy: 0.0000e+00 - val_loss: 18.8502 - val_mean_squared_error: 18.8502 - val_accuracy: 0.0000e+00\n",
            "Epoch 5/30\n",
            "10/10 [==============================] - 0s 11ms/step - loss: 17.6602 - mean_squared_error: 17.6602 - accuracy: 0.0000e+00 - val_loss: 15.9963 - val_mean_squared_error: 15.9963 - val_accuracy: 0.0000e+00\n",
            "Epoch 6/30\n",
            "10/10 [==============================] - 0s 9ms/step - loss: 15.7606 - mean_squared_error: 15.7606 - accuracy: 0.0000e+00 - val_loss: 12.2278 - val_mean_squared_error: 12.2278 - val_accuracy: 0.0000e+00\n",
            "Epoch 7/30\n",
            "10/10 [==============================] - 0s 9ms/step - loss: 13.3164 - mean_squared_error: 13.3164 - accuracy: 0.0000e+00 - val_loss: 10.8430 - val_mean_squared_error: 10.8430 - val_accuracy: 0.0000e+00\n",
            "Epoch 8/30\n",
            "10/10 [==============================] - 0s 9ms/step - loss: 11.3829 - mean_squared_error: 11.3829 - accuracy: 0.0000e+00 - val_loss: 9.3317 - val_mean_squared_error: 9.3317 - val_accuracy: 0.0000e+00\n",
            "Epoch 9/30\n",
            "10/10 [==============================] - 0s 9ms/step - loss: 10.2068 - mean_squared_error: 10.2068 - accuracy: 0.0000e+00 - val_loss: 8.5398 - val_mean_squared_error: 8.5398 - val_accuracy: 0.0000e+00\n",
            "Epoch 10/30\n",
            "10/10 [==============================] - 0s 9ms/step - loss: 9.3908 - mean_squared_error: 9.3908 - accuracy: 0.0000e+00 - val_loss: 7.6430 - val_mean_squared_error: 7.6430 - val_accuracy: 0.0000e+00\n",
            "Epoch 11/30\n",
            "10/10 [==============================] - 0s 9ms/step - loss: 8.6070 - mean_squared_error: 8.6070 - accuracy: 0.0000e+00 - val_loss: 6.9423 - val_mean_squared_error: 6.9423 - val_accuracy: 0.0000e+00\n",
            "Epoch 12/30\n",
            "10/10 [==============================] - 0s 9ms/step - loss: 7.7397 - mean_squared_error: 7.7397 - accuracy: 0.0000e+00 - val_loss: 6.1744 - val_mean_squared_error: 6.1744 - val_accuracy: 0.0000e+00\n",
            "Epoch 13/30\n",
            "10/10 [==============================] - 0s 9ms/step - loss: 6.6122 - mean_squared_error: 6.6122 - accuracy: 0.0000e+00 - val_loss: 5.0908 - val_mean_squared_error: 5.0908 - val_accuracy: 0.0000e+00\n",
            "Epoch 14/30\n",
            "10/10 [==============================] - 0s 9ms/step - loss: 5.2863 - mean_squared_error: 5.2863 - accuracy: 0.0000e+00 - val_loss: 3.9587 - val_mean_squared_error: 3.9587 - val_accuracy: 0.0000e+00\n",
            "Epoch 15/30\n",
            "10/10 [==============================] - 0s 13ms/step - loss: 3.8208 - mean_squared_error: 3.8208 - accuracy: 0.0000e+00 - val_loss: 2.8308 - val_mean_squared_error: 2.8308 - val_accuracy: 0.0000e+00\n",
            "Epoch 16/30\n",
            "10/10 [==============================] - 0s 10ms/step - loss: 2.4012 - mean_squared_error: 2.4012 - accuracy: 0.0000e+00 - val_loss: 1.6412 - val_mean_squared_error: 1.6412 - val_accuracy: 0.0000e+00\n",
            "Epoch 17/30\n",
            "10/10 [==============================] - 0s 9ms/step - loss: 1.4160 - mean_squared_error: 1.4160 - accuracy: 0.0000e+00 - val_loss: 0.9760 - val_mean_squared_error: 0.9760 - val_accuracy: 0.0000e+00\n",
            "Epoch 18/30\n",
            "10/10 [==============================] - 0s 9ms/step - loss: 0.9844 - mean_squared_error: 0.9844 - accuracy: 0.0000e+00 - val_loss: 0.8139 - val_mean_squared_error: 0.8139 - val_accuracy: 0.0000e+00\n",
            "Epoch 19/30\n",
            "10/10 [==============================] - 0s 9ms/step - loss: 0.8582 - mean_squared_error: 0.8582 - accuracy: 0.0000e+00 - val_loss: 0.7374 - val_mean_squared_error: 0.7374 - val_accuracy: 0.0000e+00\n",
            "Epoch 20/30\n",
            "10/10 [==============================] - 0s 11ms/step - loss: 0.7825 - mean_squared_error: 0.7825 - accuracy: 0.0000e+00 - val_loss: 0.6797 - val_mean_squared_error: 0.6797 - val_accuracy: 0.0000e+00\n",
            "Epoch 21/30\n",
            "10/10 [==============================] - 0s 10ms/step - loss: 0.7266 - mean_squared_error: 0.7266 - accuracy: 0.0000e+00 - val_loss: 0.6514 - val_mean_squared_error: 0.6514 - val_accuracy: 0.0000e+00\n",
            "Epoch 22/30\n",
            "10/10 [==============================] - 0s 10ms/step - loss: 0.7300 - mean_squared_error: 0.7300 - accuracy: 0.0000e+00 - val_loss: 0.6880 - val_mean_squared_error: 0.6880 - val_accuracy: 0.0000e+00\n",
            "Epoch 23/30\n",
            "10/10 [==============================] - 0s 10ms/step - loss: 0.6793 - mean_squared_error: 0.6793 - accuracy: 0.0000e+00 - val_loss: 0.6611 - val_mean_squared_error: 0.6611 - val_accuracy: 0.0000e+00\n",
            "Epoch 24/30\n",
            "10/10 [==============================] - 0s 9ms/step - loss: 0.6444 - mean_squared_error: 0.6444 - accuracy: 0.0000e+00 - val_loss: 0.5561 - val_mean_squared_error: 0.5561 - val_accuracy: 0.0000e+00\n",
            "Epoch 25/30\n",
            "10/10 [==============================] - 0s 11ms/step - loss: 0.6142 - mean_squared_error: 0.6142 - accuracy: 0.0000e+00 - val_loss: 0.5471 - val_mean_squared_error: 0.5471 - val_accuracy: 0.0000e+00\n",
            "Epoch 26/30\n",
            "10/10 [==============================] - 0s 9ms/step - loss: 0.6114 - mean_squared_error: 0.6114 - accuracy: 0.0000e+00 - val_loss: 0.5996 - val_mean_squared_error: 0.5996 - val_accuracy: 0.0000e+00\n",
            "Epoch 27/30\n",
            "10/10 [==============================] - 0s 9ms/step - loss: 0.5921 - mean_squared_error: 0.5921 - accuracy: 0.0000e+00 - val_loss: 0.5333 - val_mean_squared_error: 0.5333 - val_accuracy: 0.0000e+00\n",
            "Epoch 28/30\n",
            "10/10 [==============================] - 0s 11ms/step - loss: 0.5685 - mean_squared_error: 0.5685 - accuracy: 0.0000e+00 - val_loss: 0.5134 - val_mean_squared_error: 0.5134 - val_accuracy: 0.0000e+00\n",
            "Epoch 29/30\n",
            "10/10 [==============================] - 0s 9ms/step - loss: 0.5517 - mean_squared_error: 0.5517 - accuracy: 0.0000e+00 - val_loss: 0.5065 - val_mean_squared_error: 0.5065 - val_accuracy: 0.0000e+00\n",
            "Epoch 30/30\n",
            "10/10 [==============================] - 0s 9ms/step - loss: 0.5444 - mean_squared_error: 0.5444 - accuracy: 0.0000e+00 - val_loss: 0.4936 - val_mean_squared_error: 0.4936 - val_accuracy: 0.0000e+00\n"
          ]
        },
        {
          "output_type": "display_data",
          "data": {
            "text/plain": [
              "<Figure size 720x576 with 1 Axes>"
            ],
            "image/png": "[encoded data removed]"
          },
          "metadata": {
            "needs_background": "light"
          }
        }
      ]
    },
    {
      "cell_type": "code",
      "source": [
        "\n",
        "test_features = {name:np.array(value) for name, value in test_data.items()}\n",
        "test_features.pop(\"cohesion\")\n",
        "test_label = np.array(test_features.pop(label_name))# isolate the label\n",
        "\n",
        "result_deep = model_deep.evaluate(x=test_features, y=test_label, batch_size=batch_size)\n",
        "\n",
        "for item in zip(model_deep.metrics_names, result_deep):\n",
        "  print (item[0], item[1])\n"
      ],
      "metadata": {
        "colab": {
          "base_uri": "https://localhost:8080/"
        },
        "id": "i3MGM4fF8ldd",
        "outputId": "bce84893-d80b-45f8-b817-2673f37164d1"
      },
      "id": "i3MGM4fF8ldd",
      "execution_count": null,
      "outputs": [
        {
          "output_type": "stream",
          "name": "stderr",
          "text": [
            "WARNING:tensorflow:Layers in a Sequential model should only have a single input tensor. Received: inputs={'number_of_words': <tf.Tensor 'IteratorGetNext:24' shape=(None,) dtype=int64>, 'stopwords_frequency': <tf.Tensor 'IteratorGetNext:31' shape=(None,) dtype=float32>, 'av_word_per_sen': <tf.Tensor 'IteratorGetNext:2' shape=(None,) dtype=float32>, 'punctuations': <tf.Tensor 'IteratorGetNext:26' shape=(None,) dtype=float32>, 'ARI': <tf.Tensor 'IteratorGetNext:0' shape=(None,) dtype=int64>, 'freq_of_verb': <tf.Tensor 'IteratorGetNext:15' shape=(None,) dtype=float32>, 'freq_of_adj': <tf.Tensor 'IteratorGetNext:8' shape=(None,) dtype=float32>, 'freq_of_adv': <tf.Tensor 'IteratorGetNext:9' shape=(None,) dtype=float32>, 'freq_of_distinct_adj': <tf.Tensor 'IteratorGetNext:10' shape=(None,) dtype=float32>, 'freq_of_distinct_adv': <tf.Tensor 'IteratorGetNext:11' shape=(None,) dtype=float32>, 'sentence_complexity': <tf.Tensor 'IteratorGetNext:27' shape=(None,) dtype=float32>, 'freq_of_wrong_words': <tf.Tensor 'IteratorGetNext:16' shape=(None,) dtype=float32>, 'sentiment_compound': <tf.Tensor 'IteratorGetNext:28' shape=(None,) dtype=float32>, 'sentiment_positive': <tf.Tensor 'IteratorGetNext:30' shape=(None,) dtype=float32>, 'sentiment_negative': <tf.Tensor 'IteratorGetNext:29' shape=(None,) dtype=float32>, 'num_of_grammar_errors': <tf.Tensor 'IteratorGetNext:21' shape=(None,) dtype=int64>, 'num_of_short_forms': <tf.Tensor 'IteratorGetNext:22' shape=(None,) dtype=int64>, 'Incorrect_form_ratio': <tf.Tensor 'IteratorGetNext:1' shape=(None,) dtype=float32>, 'flesch_reading_ease': <tf.Tensor 'IteratorGetNext:6' shape=(None,) dtype=float32>, 'flesch_kincaid_grade': <tf.Tensor 'IteratorGetNext:5' shape=(None,) dtype=float32>, 'dale_chall_readability_score': <tf.Tensor 'IteratorGetNext:4' shape=(None,) dtype=float32>, 'text_standard': <tf.Tensor 'IteratorGetNext:32' shape=(None,) dtype=float32>, 'mcalpine_eflaw': <tf.Tensor 'IteratorGetNext:19' shape=(None,) dtype=float32>, 'number_of_diff_words': <tf.Tensor 'IteratorGetNext:23' shape=(None,) dtype=int64>, 'freq_diff_words': <tf.Tensor 'IteratorGetNext:7' shape=(None,) dtype=float32>, 'ttr': <tf.Tensor 'IteratorGetNext:33' shape=(None,) dtype=float32>, 'coherence_score': <tf.Tensor 'IteratorGetNext:3' shape=(None,) dtype=float32>, 'lexrank_avg_min_diff': <tf.Tensor 'IteratorGetNext:17' shape=(None,) dtype=float32>, 'lexrank_interquartile': <tf.Tensor 'IteratorGetNext:18' shape=(None,) dtype=float32>, 'freq_of_noun': <tf.Tensor 'IteratorGetNext:12' shape=(None,) dtype=float32>, 'freq_of_transition': <tf.Tensor 'IteratorGetNext:14' shape=(None,) dtype=float32>, 'freq_of_pronoun': <tf.Tensor 'IteratorGetNext:13' shape=(None,) dtype=float32>, 'noun_to_adj': <tf.Tensor 'IteratorGetNext:20' shape=(None,) dtype=float32>, 'verb_to_adv': <tf.Tensor 'IteratorGetNext:34' shape=(None,) dtype=float32>, 'phrase_diversity': <tf.Tensor 'IteratorGetNext:25' shape=(None,) dtype=float32>}. Consider rewriting this model with the Functional API.\n"
          ]
        },
        {
          "output_type": "stream",
          "name": "stdout",
          "text": [
            "4/4 [==============================] - 0s 4ms/step - loss: 0.6062 - mean_squared_error: 0.6062 - accuracy: 0.0026\n",
            "loss 0.6062394976615906\n",
            "mean_squared_error 0.6062394976615906\n",
            "accuracy 0.0025542783550918102\n"
          ]
        }
      ]
    },
    {
      "cell_type": "code",
      "source": [
        "prediction_deep = model_deep.predict(test_features)"
      ],
      "metadata": {
        "colab": {
          "base_uri": "https://localhost:8080/"
        },
        "outputId": "c3bfcb76-d4ca-42b2-e39a-40bb3e57c813",
        "id": "tme3doddvMrT"
      },
      "execution_count": null,
      "outputs": [
        {
          "output_type": "stream",
          "name": "stderr",
          "text": [
            "WARNING:tensorflow:Layers in a Sequential model should only have a single input tensor. Received: inputs={'number_of_words': <tf.Tensor 'IteratorGetNext:24' shape=(None,) dtype=int64>, 'stopwords_frequency': <tf.Tensor 'IteratorGetNext:31' shape=(None,) dtype=float32>, 'av_word_per_sen': <tf.Tensor 'IteratorGetNext:2' shape=(None,) dtype=float32>, 'punctuations': <tf.Tensor 'IteratorGetNext:26' shape=(None,) dtype=float32>, 'ARI': <tf.Tensor 'IteratorGetNext:0' shape=(None,) dtype=int64>, 'freq_of_verb': <tf.Tensor 'IteratorGetNext:15' shape=(None,) dtype=float32>, 'freq_of_adj': <tf.Tensor 'IteratorGetNext:8' shape=(None,) dtype=float32>, 'freq_of_adv': <tf.Tensor 'IteratorGetNext:9' shape=(None,) dtype=float32>, 'freq_of_distinct_adj': <tf.Tensor 'IteratorGetNext:10' shape=(None,) dtype=float32>, 'freq_of_distinct_adv': <tf.Tensor 'IteratorGetNext:11' shape=(None,) dtype=float32>, 'sentence_complexity': <tf.Tensor 'IteratorGetNext:27' shape=(None,) dtype=float32>, 'freq_of_wrong_words': <tf.Tensor 'IteratorGetNext:16' shape=(None,) dtype=float32>, 'sentiment_compound': <tf.Tensor 'IteratorGetNext:28' shape=(None,) dtype=float32>, 'sentiment_positive': <tf.Tensor 'IteratorGetNext:30' shape=(None,) dtype=float32>, 'sentiment_negative': <tf.Tensor 'IteratorGetNext:29' shape=(None,) dtype=float32>, 'num_of_grammar_errors': <tf.Tensor 'IteratorGetNext:21' shape=(None,) dtype=int64>, 'num_of_short_forms': <tf.Tensor 'IteratorGetNext:22' shape=(None,) dtype=int64>, 'Incorrect_form_ratio': <tf.Tensor 'IteratorGetNext:1' shape=(None,) dtype=float32>, 'flesch_reading_ease': <tf.Tensor 'IteratorGetNext:6' shape=(None,) dtype=float32>, 'flesch_kincaid_grade': <tf.Tensor 'IteratorGetNext:5' shape=(None,) dtype=float32>, 'dale_chall_readability_score': <tf.Tensor 'IteratorGetNext:4' shape=(None,) dtype=float32>, 'text_standard': <tf.Tensor 'IteratorGetNext:32' shape=(None,) dtype=float32>, 'mcalpine_eflaw': <tf.Tensor 'IteratorGetNext:19' shape=(None,) dtype=float32>, 'number_of_diff_words': <tf.Tensor 'IteratorGetNext:23' shape=(None,) dtype=int64>, 'freq_diff_words': <tf.Tensor 'IteratorGetNext:7' shape=(None,) dtype=float32>, 'ttr': <tf.Tensor 'IteratorGetNext:33' shape=(None,) dtype=float32>, 'coherence_score': <tf.Tensor 'IteratorGetNext:3' shape=(None,) dtype=float32>, 'lexrank_avg_min_diff': <tf.Tensor 'IteratorGetNext:17' shape=(None,) dtype=float32>, 'lexrank_interquartile': <tf.Tensor 'IteratorGetNext:18' shape=(None,) dtype=float32>, 'freq_of_noun': <tf.Tensor 'IteratorGetNext:12' shape=(None,) dtype=float32>, 'freq_of_transition': <tf.Tensor 'IteratorGetNext:14' shape=(None,) dtype=float32>, 'freq_of_pronoun': <tf.Tensor 'IteratorGetNext:13' shape=(None,) dtype=float32>, 'noun_to_adj': <tf.Tensor 'IteratorGetNext:20' shape=(None,) dtype=float32>, 'verb_to_adv': <tf.Tensor 'IteratorGetNext:34' shape=(None,) dtype=float32>, 'phrase_diversity': <tf.Tensor 'IteratorGetNext:25' shape=(None,) dtype=float32>}. Consider rewriting this model with the Functional API.\n"
          ]
        },
        {
          "output_type": "stream",
          "name": "stdout",
          "text": [
            "25/25 [==============================] - 1s 3ms/step\n"
          ]
        }
      ],
      "id": "tme3doddvMrT"
    },
    {
      "cell_type": "code",
      "source": [
        "pre_list_deep = []\n",
        "for value in prediction_deep:\n",
        "  pre_list_deep.append(value[0])"
      ],
      "metadata": {
        "id": "StKOES8wvMrT"
      },
      "execution_count": null,
      "outputs": [],
      "id": "StKOES8wvMrT"
    },
    {
      "cell_type": "markdown",
      "source": [
        "Calculate accuracy for vocabulary"
      ],
      "metadata": {
        "id": "AQVhVBxKvMrT"
      },
      "id": "AQVhVBxKvMrT"
    },
    {
      "cell_type": "code",
      "source": [
        "vocabulary_accuracy_deep = accuracy_range(pre_list_deep, list(test_data['vocabulary']))\n",
        "vocabulary_accuracy_deep"
      ],
      "metadata": {
        "colab": {
          "base_uri": "https://localhost:8080/"
        },
        "outputId": "1c9d1135-9987-40e4-dbc3-300892c92e50",
        "id": "G8LJ6HHJvMrT"
      },
      "execution_count": null,
      "outputs": [
        {
          "output_type": "execute_result",
          "data": {
            "text/plain": [
              "0.6513409961685823"
            ]
          },
          "metadata": {},
          "execution_count": 67
        }
      ],
      "id": "G8LJ6HHJvMrT"
    },
    {
      "cell_type": "code",
      "source": [
        "pre_list_2_deep = result(pre_list_deep)"
      ],
      "metadata": {
        "id": "jGWDFBGrvMrT"
      },
      "execution_count": null,
      "outputs": [],
      "id": "jGWDFBGrvMrT"
    },
    {
      "cell_type": "code",
      "source": [
        "val_accuracy_2_deep = accuracy(list(test_data['vocabulary']), pre_list_2_deep)\n",
        "val_accuracy_2_deep"
      ],
      "metadata": {
        "colab": {
          "base_uri": "https://localhost:8080/"
        },
        "outputId": "1115a7cb-834b-4ca5-a791-9c52d16bb0fa",
        "id": "cuG_r-9PvMrT"
      },
      "execution_count": null,
      "outputs": [
        {
          "output_type": "execute_result",
          "data": {
            "text/plain": [
              "0.3793103448275862"
            ]
          },
          "metadata": {},
          "execution_count": 69
        }
      ],
      "id": "cuG_r-9PvMrT"
    },
    {
      "cell_type": "code",
      "source": [
        "learning_rate = 0.01\n",
        "number_epochs = 30\n",
        "batch_size = 256\n",
        "label_name = \"cohesion\"\n",
        "\n",
        "\n",
        "model_deep_cohesion = create_model_deep(learning_rate, my_new_feature_layer)\n",
        "\n",
        "mse_train_deep_cohesion, mse_val_deep_cohesion = train_model(model_deep_cohesion, train_data, number_epochs, batch_size, label_name)\n",
        "\n",
        "plot_the_loss_curve(mse_train_deep_cohesion, mse_val_deep_cohesion)"
      ],
      "metadata": {
        "colab": {
          "base_uri": "https://localhost:8080/",
          "height": 1000
        },
        "id": "cgkwDdOZu3yN",
        "outputId": "df2d7969-f6ab-4d4a-8505-46ac47fdf33e"
      },
      "id": "cgkwDdOZu3yN",
      "execution_count": null,
      "outputs": [
        {
          "output_type": "stream",
          "name": "stdout",
          "text": [
            "Epoch 1/30\n"
          ]
        },
        {
          "output_type": "stream",
          "name": "stderr",
          "text": [
            "WARNING:tensorflow:Layers in a Sequential model should only have a single input tensor. Received: inputs={'number_of_words': <tf.Tensor 'IteratorGetNext:25' shape=(None,) dtype=int64>, 'stopwords_frequency': <tf.Tensor 'IteratorGetNext:32' shape=(None,) dtype=float32>, 'av_word_per_sen': <tf.Tensor 'IteratorGetNext:2' shape=(None,) dtype=float32>, 'punctuations': <tf.Tensor 'IteratorGetNext:27' shape=(None,) dtype=float32>, 'ARI': <tf.Tensor 'IteratorGetNext:0' shape=(None,) dtype=int64>, 'freq_of_verb': <tf.Tensor 'IteratorGetNext:16' shape=(None,) dtype=float32>, 'freq_of_adj': <tf.Tensor 'IteratorGetNext:9' shape=(None,) dtype=float32>, 'freq_of_adv': <tf.Tensor 'IteratorGetNext:10' shape=(None,) dtype=float32>, 'freq_of_distinct_adj': <tf.Tensor 'IteratorGetNext:11' shape=(None,) dtype=float32>, 'freq_of_distinct_adv': <tf.Tensor 'IteratorGetNext:12' shape=(None,) dtype=float32>, 'sentence_complexity': <tf.Tensor 'IteratorGetNext:28' shape=(None,) dtype=float32>, 'freq_of_wrong_words': <tf.Tensor 'IteratorGetNext:17' shape=(None,) dtype=float32>, 'sentiment_compound': <tf.Tensor 'IteratorGetNext:29' shape=(None,) dtype=float32>, 'sentiment_positive': <tf.Tensor 'IteratorGetNext:31' shape=(None,) dtype=float32>, 'sentiment_negative': <tf.Tensor 'IteratorGetNext:30' shape=(None,) dtype=float32>, 'num_of_grammar_errors': <tf.Tensor 'IteratorGetNext:22' shape=(None,) dtype=int64>, 'corrected_text': <tf.Tensor 'IteratorGetNext:4' shape=(None,) dtype=string>, 'num_of_short_forms': <tf.Tensor 'IteratorGetNext:23' shape=(None,) dtype=int64>, 'Incorrect_form_ratio': <tf.Tensor 'IteratorGetNext:1' shape=(None,) dtype=float32>, 'flesch_reading_ease': <tf.Tensor 'IteratorGetNext:7' shape=(None,) dtype=float32>, 'flesch_kincaid_grade': <tf.Tensor 'IteratorGetNext:6' shape=(None,) dtype=float32>, 'dale_chall_readability_score': <tf.Tensor 'IteratorGetNext:5' shape=(None,) dtype=float32>, 'text_standard': <tf.Tensor 'IteratorGetNext:33' shape=(None,) dtype=float32>, 'mcalpine_eflaw': <tf.Tensor 'IteratorGetNext:20' shape=(None,) dtype=float32>, 'number_of_diff_words': <tf.Tensor 'IteratorGetNext:24' shape=(None,) dtype=int64>, 'freq_diff_words': <tf.Tensor 'IteratorGetNext:8' shape=(None,) dtype=float32>, 'ttr': <tf.Tensor 'IteratorGetNext:34' shape=(None,) dtype=float32>, 'coherence_score': <tf.Tensor 'IteratorGetNext:3' shape=(None,) dtype=float32>, 'lexrank_avg_min_diff': <tf.Tensor 'IteratorGetNext:18' shape=(None,) dtype=float32>, 'lexrank_interquartile': <tf.Tensor 'IteratorGetNext:19' shape=(None,) dtype=float32>, 'freq_of_noun': <tf.Tensor 'IteratorGetNext:13' shape=(None,) dtype=float32>, 'freq_of_transition': <tf.Tensor 'IteratorGetNext:15' shape=(None,) dtype=float32>, 'freq_of_pronoun': <tf.Tensor 'IteratorGetNext:14' shape=(None,) dtype=float32>, 'noun_to_adj': <tf.Tensor 'IteratorGetNext:21' shape=(None,) dtype=float32>, 'verb_to_adv': <tf.Tensor 'IteratorGetNext:35' shape=(None,) dtype=float32>, 'phrase_diversity': <tf.Tensor 'IteratorGetNext:26' shape=(None,) dtype=float32>, 'vocabulary': <tf.Tensor 'IteratorGetNext:36' shape=(None,) dtype=float32>}. Consider rewriting this model with the Functional API.\n",
            "WARNING:tensorflow:Layers in a Sequential model should only have a single input tensor. Received: inputs={'number_of_words': <tf.Tensor 'IteratorGetNext:25' shape=(None,) dtype=int64>, 'stopwords_frequency': <tf.Tensor 'IteratorGetNext:32' shape=(None,) dtype=float32>, 'av_word_per_sen': <tf.Tensor 'IteratorGetNext:2' shape=(None,) dtype=float32>, 'punctuations': <tf.Tensor 'IteratorGetNext:27' shape=(None,) dtype=float32>, 'ARI': <tf.Tensor 'IteratorGetNext:0' shape=(None,) dtype=int64>, 'freq_of_verb': <tf.Tensor 'IteratorGetNext:16' shape=(None,) dtype=float32>, 'freq_of_adj': <tf.Tensor 'IteratorGetNext:9' shape=(None,) dtype=float32>, 'freq_of_adv': <tf.Tensor 'IteratorGetNext:10' shape=(None,) dtype=float32>, 'freq_of_distinct_adj': <tf.Tensor 'IteratorGetNext:11' shape=(None,) dtype=float32>, 'freq_of_distinct_adv': <tf.Tensor 'IteratorGetNext:12' shape=(None,) dtype=float32>, 'sentence_complexity': <tf.Tensor 'IteratorGetNext:28' shape=(None,) dtype=float32>, 'freq_of_wrong_words': <tf.Tensor 'IteratorGetNext:17' shape=(None,) dtype=float32>, 'sentiment_compound': <tf.Tensor 'IteratorGetNext:29' shape=(None,) dtype=float32>, 'sentiment_positive': <tf.Tensor 'IteratorGetNext:31' shape=(None,) dtype=float32>, 'sentiment_negative': <tf.Tensor 'IteratorGetNext:30' shape=(None,) dtype=float32>, 'num_of_grammar_errors': <tf.Tensor 'IteratorGetNext:22' shape=(None,) dtype=int64>, 'corrected_text': <tf.Tensor 'IteratorGetNext:4' shape=(None,) dtype=string>, 'num_of_short_forms': <tf.Tensor 'IteratorGetNext:23' shape=(None,) dtype=int64>, 'Incorrect_form_ratio': <tf.Tensor 'IteratorGetNext:1' shape=(None,) dtype=float32>, 'flesch_reading_ease': <tf.Tensor 'IteratorGetNext:7' shape=(None,) dtype=float32>, 'flesch_kincaid_grade': <tf.Tensor 'IteratorGetNext:6' shape=(None,) dtype=float32>, 'dale_chall_readability_score': <tf.Tensor 'IteratorGetNext:5' shape=(None,) dtype=float32>, 'text_standard': <tf.Tensor 'IteratorGetNext:33' shape=(None,) dtype=float32>, 'mcalpine_eflaw': <tf.Tensor 'IteratorGetNext:20' shape=(None,) dtype=float32>, 'number_of_diff_words': <tf.Tensor 'IteratorGetNext:24' shape=(None,) dtype=int64>, 'freq_diff_words': <tf.Tensor 'IteratorGetNext:8' shape=(None,) dtype=float32>, 'ttr': <tf.Tensor 'IteratorGetNext:34' shape=(None,) dtype=float32>, 'coherence_score': <tf.Tensor 'IteratorGetNext:3' shape=(None,) dtype=float32>, 'lexrank_avg_min_diff': <tf.Tensor 'IteratorGetNext:18' shape=(None,) dtype=float32>, 'lexrank_interquartile': <tf.Tensor 'IteratorGetNext:19' shape=(None,) dtype=float32>, 'freq_of_noun': <tf.Tensor 'IteratorGetNext:13' shape=(None,) dtype=float32>, 'freq_of_transition': <tf.Tensor 'IteratorGetNext:15' shape=(None,) dtype=float32>, 'freq_of_pronoun': <tf.Tensor 'IteratorGetNext:14' shape=(None,) dtype=float32>, 'noun_to_adj': <tf.Tensor 'IteratorGetNext:21' shape=(None,) dtype=float32>, 'verb_to_adv': <tf.Tensor 'IteratorGetNext:35' shape=(None,) dtype=float32>, 'phrase_diversity': <tf.Tensor 'IteratorGetNext:26' shape=(None,) dtype=float32>, 'vocabulary': <tf.Tensor 'IteratorGetNext:36' shape=(None,) dtype=float32>}. Consider rewriting this model with the Functional API.\n"
          ]
        },
        {
          "output_type": "stream",
          "name": "stdout",
          "text": [
            "\r 1/10 [==>...........................] - ETA: 9s - loss: 11713.2695 - mean_squared_error: 11713.2695 - accuracy: 0.0000e+00"
          ]
        },
        {
          "output_type": "stream",
          "name": "stderr",
          "text": [
            "WARNING:tensorflow:Layers in a Sequential model should only have a single input tensor. Received: inputs={'number_of_words': <tf.Tensor 'IteratorGetNext:25' shape=(None,) dtype=int64>, 'stopwords_frequency': <tf.Tensor 'IteratorGetNext:32' shape=(None,) dtype=float32>, 'av_word_per_sen': <tf.Tensor 'IteratorGetNext:2' shape=(None,) dtype=float32>, 'punctuations': <tf.Tensor 'IteratorGetNext:27' shape=(None,) dtype=float32>, 'ARI': <tf.Tensor 'IteratorGetNext:0' shape=(None,) dtype=int64>, 'freq_of_verb': <tf.Tensor 'IteratorGetNext:16' shape=(None,) dtype=float32>, 'freq_of_adj': <tf.Tensor 'IteratorGetNext:9' shape=(None,) dtype=float32>, 'freq_of_adv': <tf.Tensor 'IteratorGetNext:10' shape=(None,) dtype=float32>, 'freq_of_distinct_adj': <tf.Tensor 'IteratorGetNext:11' shape=(None,) dtype=float32>, 'freq_of_distinct_adv': <tf.Tensor 'IteratorGetNext:12' shape=(None,) dtype=float32>, 'sentence_complexity': <tf.Tensor 'IteratorGetNext:28' shape=(None,) dtype=float32>, 'freq_of_wrong_words': <tf.Tensor 'IteratorGetNext:17' shape=(None,) dtype=float32>, 'sentiment_compound': <tf.Tensor 'IteratorGetNext:29' shape=(None,) dtype=float32>, 'sentiment_positive': <tf.Tensor 'IteratorGetNext:31' shape=(None,) dtype=float32>, 'sentiment_negative': <tf.Tensor 'IteratorGetNext:30' shape=(None,) dtype=float32>, 'num_of_grammar_errors': <tf.Tensor 'IteratorGetNext:22' shape=(None,) dtype=int64>, 'corrected_text': <tf.Tensor 'IteratorGetNext:4' shape=(None,) dtype=string>, 'num_of_short_forms': <tf.Tensor 'IteratorGetNext:23' shape=(None,) dtype=int64>, 'Incorrect_form_ratio': <tf.Tensor 'IteratorGetNext:1' shape=(None,) dtype=float32>, 'flesch_reading_ease': <tf.Tensor 'IteratorGetNext:7' shape=(None,) dtype=float32>, 'flesch_kincaid_grade': <tf.Tensor 'IteratorGetNext:6' shape=(None,) dtype=float32>, 'dale_chall_readability_score': <tf.Tensor 'IteratorGetNext:5' shape=(None,) dtype=float32>, 'text_standard': <tf.Tensor 'IteratorGetNext:33' shape=(None,) dtype=float32>, 'mcalpine_eflaw': <tf.Tensor 'IteratorGetNext:20' shape=(None,) dtype=float32>, 'number_of_diff_words': <tf.Tensor 'IteratorGetNext:24' shape=(None,) dtype=int64>, 'freq_diff_words': <tf.Tensor 'IteratorGetNext:8' shape=(None,) dtype=float32>, 'ttr': <tf.Tensor 'IteratorGetNext:34' shape=(None,) dtype=float32>, 'coherence_score': <tf.Tensor 'IteratorGetNext:3' shape=(None,) dtype=float32>, 'lexrank_avg_min_diff': <tf.Tensor 'IteratorGetNext:18' shape=(None,) dtype=float32>, 'lexrank_interquartile': <tf.Tensor 'IteratorGetNext:19' shape=(None,) dtype=float32>, 'freq_of_noun': <tf.Tensor 'IteratorGetNext:13' shape=(None,) dtype=float32>, 'freq_of_transition': <tf.Tensor 'IteratorGetNext:15' shape=(None,) dtype=float32>, 'freq_of_pronoun': <tf.Tensor 'IteratorGetNext:14' shape=(None,) dtype=float32>, 'noun_to_adj': <tf.Tensor 'IteratorGetNext:21' shape=(None,) dtype=float32>, 'verb_to_adv': <tf.Tensor 'IteratorGetNext:35' shape=(None,) dtype=float32>, 'phrase_diversity': <tf.Tensor 'IteratorGetNext:26' shape=(None,) dtype=float32>, 'vocabulary': <tf.Tensor 'IteratorGetNext:36' shape=(None,) dtype=float32>}. Consider rewriting this model with the Functional API.\n"
          ]
        },
        {
          "output_type": "stream",
          "name": "stdout",
          "text": [
            "\b\b\b\b\b\b\b\b\b\b\b\b\b\b\b\b\b\b\b\b\b\b\b\b\b\b\b\b\b\b\b\b\b\b\b\b\b\b\b\b\b\b\b\b\b\b\b\b\b\b\b\b\b\b\b\b\b\b\b\b\b\b\b\b\b\b\b\b\b\b\b\b\b\b\b\b\b\b\b\b\b\b\b\b\b\b\b\b\b\b\b\b\b\b\b\b\b\b\b\b\b\b\b\b\b\b\b\b\b\b\b\b\b\b\b\b\b\b\b\b\b\b\b\r10/10 [==============================] - 2s 72ms/step - loss: 2158.4055 - mean_squared_error: 2158.4055 - accuracy: 0.0012 - val_loss: 31.7692 - val_mean_squared_error: 31.7692 - val_accuracy: 0.0032\n",
            "Epoch 2/30\n",
            "10/10 [==============================] - 0s 15ms/step - loss: 191.6865 - mean_squared_error: 191.6865 - accuracy: 0.0012 - val_loss: 33.8644 - val_mean_squared_error: 33.8644 - val_accuracy: 0.0032\n",
            "Epoch 3/30\n",
            "10/10 [==============================] - 0s 16ms/step - loss: 87.5202 - mean_squared_error: 87.5202 - accuracy: 0.0016 - val_loss: 23.7123 - val_mean_squared_error: 23.7123 - val_accuracy: 0.0032\n",
            "Epoch 4/30\n",
            "10/10 [==============================] - 0s 15ms/step - loss: 36.1969 - mean_squared_error: 36.1969 - accuracy: 0.0016 - val_loss: 16.0838 - val_mean_squared_error: 16.0838 - val_accuracy: 0.0032\n",
            "Epoch 5/30\n",
            "10/10 [==============================] - 0s 12ms/step - loss: 17.0191 - mean_squared_error: 17.0191 - accuracy: 0.0016 - val_loss: 14.6803 - val_mean_squared_error: 14.6803 - val_accuracy: 0.0032\n",
            "Epoch 6/30\n",
            "10/10 [==============================] - 0s 11ms/step - loss: 9.7390 - mean_squared_error: 9.7390 - accuracy: 0.0012 - val_loss: 9.4472 - val_mean_squared_error: 9.4472 - val_accuracy: 0.0032\n",
            "Epoch 7/30\n",
            "10/10 [==============================] - 0s 10ms/step - loss: 6.0547 - mean_squared_error: 6.0547 - accuracy: 0.0012 - val_loss: 6.1963 - val_mean_squared_error: 6.1963 - val_accuracy: 0.0032\n",
            "Epoch 8/30\n",
            "10/10 [==============================] - 0s 10ms/step - loss: 4.1617 - mean_squared_error: 4.1617 - accuracy: 0.0016 - val_loss: 4.2881 - val_mean_squared_error: 4.2881 - val_accuracy: 0.0032\n",
            "Epoch 9/30\n",
            "10/10 [==============================] - 0s 10ms/step - loss: 3.4357 - mean_squared_error: 3.4357 - accuracy: 0.0016 - val_loss: 3.8521 - val_mean_squared_error: 3.8521 - val_accuracy: 0.0032\n",
            "Epoch 10/30\n",
            "10/10 [==============================] - 0s 10ms/step - loss: 3.0770 - mean_squared_error: 3.0770 - accuracy: 0.0016 - val_loss: 3.7870 - val_mean_squared_error: 3.7870 - val_accuracy: 0.0032\n",
            "Epoch 11/30\n",
            "10/10 [==============================] - 0s 10ms/step - loss: 2.8469 - mean_squared_error: 2.8469 - accuracy: 0.0012 - val_loss: 3.3069 - val_mean_squared_error: 3.3069 - val_accuracy: 0.0032\n",
            "Epoch 12/30\n",
            "10/10 [==============================] - 0s 10ms/step - loss: 2.5960 - mean_squared_error: 2.5960 - accuracy: 0.0016 - val_loss: 3.1536 - val_mean_squared_error: 3.1536 - val_accuracy: 0.0032\n",
            "Epoch 13/30\n",
            "10/10 [==============================] - 0s 11ms/step - loss: 2.4019 - mean_squared_error: 2.4019 - accuracy: 0.0016 - val_loss: 2.9297 - val_mean_squared_error: 2.9297 - val_accuracy: 0.0032\n",
            "Epoch 14/30\n",
            "10/10 [==============================] - 0s 10ms/step - loss: 2.2166 - mean_squared_error: 2.2166 - accuracy: 0.0016 - val_loss: 2.8379 - val_mean_squared_error: 2.8379 - val_accuracy: 0.0032\n",
            "Epoch 15/30\n",
            "10/10 [==============================] - 0s 10ms/step - loss: 2.0688 - mean_squared_error: 2.0688 - accuracy: 0.0016 - val_loss: 2.5543 - val_mean_squared_error: 2.5543 - val_accuracy: 0.0032\n",
            "Epoch 16/30\n",
            "10/10 [==============================] - 0s 10ms/step - loss: 1.9064 - mean_squared_error: 1.9064 - accuracy: 0.0016 - val_loss: 2.4309 - val_mean_squared_error: 2.4309 - val_accuracy: 0.0032\n",
            "Epoch 17/30\n",
            "10/10 [==============================] - 0s 10ms/step - loss: 1.7738 - mean_squared_error: 1.7738 - accuracy: 0.0016 - val_loss: 2.3015 - val_mean_squared_error: 2.3015 - val_accuracy: 0.0032\n",
            "Epoch 18/30\n",
            "10/10 [==============================] - 0s 10ms/step - loss: 1.6377 - mean_squared_error: 1.6377 - accuracy: 0.0012 - val_loss: 2.1585 - val_mean_squared_error: 2.1585 - val_accuracy: 0.0032\n",
            "Epoch 19/30\n",
            "10/10 [==============================] - 0s 10ms/step - loss: 1.5093 - mean_squared_error: 1.5093 - accuracy: 0.0016 - val_loss: 1.9469 - val_mean_squared_error: 1.9469 - val_accuracy: 0.0032\n",
            "Epoch 20/30\n",
            "10/10 [==============================] - 0s 10ms/step - loss: 1.3846 - mean_squared_error: 1.3846 - accuracy: 0.0016 - val_loss: 1.9005 - val_mean_squared_error: 1.9005 - val_accuracy: 0.0032\n",
            "Epoch 21/30\n",
            "10/10 [==============================] - 0s 10ms/step - loss: 1.2894 - mean_squared_error: 1.2894 - accuracy: 0.0012 - val_loss: 1.7715 - val_mean_squared_error: 1.7715 - val_accuracy: 0.0032\n",
            "Epoch 22/30\n",
            "10/10 [==============================] - 0s 10ms/step - loss: 1.1899 - mean_squared_error: 1.1899 - accuracy: 0.0012 - val_loss: 1.6039 - val_mean_squared_error: 1.6039 - val_accuracy: 0.0032\n",
            "Epoch 23/30\n",
            "10/10 [==============================] - 0s 12ms/step - loss: 1.0937 - mean_squared_error: 1.0937 - accuracy: 0.0016 - val_loss: 1.4883 - val_mean_squared_error: 1.4883 - val_accuracy: 0.0032\n",
            "Epoch 24/30\n",
            "10/10 [==============================] - 0s 11ms/step - loss: 1.0112 - mean_squared_error: 1.0112 - accuracy: 0.0016 - val_loss: 1.4490 - val_mean_squared_error: 1.4490 - val_accuracy: 0.0032\n",
            "Epoch 25/30\n",
            "10/10 [==============================] - 0s 11ms/step - loss: 0.9364 - mean_squared_error: 0.9364 - accuracy: 0.0016 - val_loss: 1.4036 - val_mean_squared_error: 1.4036 - val_accuracy: 0.0032\n",
            "Epoch 26/30\n",
            "10/10 [==============================] - 0s 11ms/step - loss: 0.8838 - mean_squared_error: 0.8838 - accuracy: 0.0016 - val_loss: 1.3623 - val_mean_squared_error: 1.3623 - val_accuracy: 0.0032\n",
            "Epoch 27/30\n",
            "10/10 [==============================] - 0s 10ms/step - loss: 0.8244 - mean_squared_error: 0.8244 - accuracy: 0.0016 - val_loss: 1.3201 - val_mean_squared_error: 1.3201 - val_accuracy: 0.0032\n",
            "Epoch 28/30\n",
            "10/10 [==============================] - 0s 10ms/step - loss: 0.7794 - mean_squared_error: 0.7794 - accuracy: 0.0012 - val_loss: 1.3289 - val_mean_squared_error: 1.3289 - val_accuracy: 0.0032\n",
            "Epoch 29/30\n",
            "10/10 [==============================] - 0s 10ms/step - loss: 0.7443 - mean_squared_error: 0.7443 - accuracy: 0.0016 - val_loss: 1.2782 - val_mean_squared_error: 1.2782 - val_accuracy: 0.0032\n",
            "Epoch 30/30\n",
            "10/10 [==============================] - 0s 12ms/step - loss: 0.7186 - mean_squared_error: 0.7186 - accuracy: 0.0012 - val_loss: 1.4038 - val_mean_squared_error: 1.4038 - val_accuracy: 0.0032\n"
          ]
        },
        {
          "output_type": "display_data",
          "data": {
            "text/plain": [
              "<Figure size 720x576 with 1 Axes>"
            ],
            "image/png": "[encoded data removed]"
          },
          "metadata": {
            "needs_background": "light"
          }
        }
      ]
    },
    {
      "cell_type": "code",
      "source": [
        "test_data2 = test_data.copy()\n",
        "test_data2.pop(\"vocabulary\")\n",
        "test_data2[\"vocabulary\"] = pre_list_deep\n",
        "test_features_deep_cohesion = {name:np.array(value) for name, value in test_data2.items()}\n",
        "\n",
        "test_label_deep_cohesion = np.array(test_features_deep_cohesion.pop(\"cohesion\"))# isolate the label\n",
        "\n",
        "result_deep_cohesion = model_deep_cohesion.evaluate(x=test_features_deep_cohesion, y=test_label_deep_cohesion, batch_size=batch_size)\n",
        "\n",
        "for item in zip(model_deep_cohesion.metrics_names, result_deep_cohesion):\n",
        "  print (item[0], item[1])"
      ],
      "metadata": {
        "colab": {
          "base_uri": "https://localhost:8080/"
        },
        "id": "k28t5C00-UnN",
        "outputId": "3d4b3517-9c3b-40e4-cdf1-aab88ac1bee8"
      },
      "id": "k28t5C00-UnN",
      "execution_count": null,
      "outputs": [
        {
          "output_type": "stream",
          "name": "stderr",
          "text": [
            "WARNING:tensorflow:Layers in a Sequential model should only have a single input tensor. Received: inputs={'number_of_words': <tf.Tensor 'IteratorGetNext:24' shape=(None,) dtype=int64>, 'stopwords_frequency': <tf.Tensor 'IteratorGetNext:31' shape=(None,) dtype=float32>, 'av_word_per_sen': <tf.Tensor 'IteratorGetNext:2' shape=(None,) dtype=float32>, 'punctuations': <tf.Tensor 'IteratorGetNext:26' shape=(None,) dtype=float32>, 'ARI': <tf.Tensor 'IteratorGetNext:0' shape=(None,) dtype=int64>, 'freq_of_verb': <tf.Tensor 'IteratorGetNext:15' shape=(None,) dtype=float32>, 'freq_of_adj': <tf.Tensor 'IteratorGetNext:8' shape=(None,) dtype=float32>, 'freq_of_adv': <tf.Tensor 'IteratorGetNext:9' shape=(None,) dtype=float32>, 'freq_of_distinct_adj': <tf.Tensor 'IteratorGetNext:10' shape=(None,) dtype=float32>, 'freq_of_distinct_adv': <tf.Tensor 'IteratorGetNext:11' shape=(None,) dtype=float32>, 'sentence_complexity': <tf.Tensor 'IteratorGetNext:27' shape=(None,) dtype=float32>, 'freq_of_wrong_words': <tf.Tensor 'IteratorGetNext:16' shape=(None,) dtype=float32>, 'sentiment_compound': <tf.Tensor 'IteratorGetNext:28' shape=(None,) dtype=float32>, 'sentiment_positive': <tf.Tensor 'IteratorGetNext:30' shape=(None,) dtype=float32>, 'sentiment_negative': <tf.Tensor 'IteratorGetNext:29' shape=(None,) dtype=float32>, 'num_of_grammar_errors': <tf.Tensor 'IteratorGetNext:21' shape=(None,) dtype=int64>, 'num_of_short_forms': <tf.Tensor 'IteratorGetNext:22' shape=(None,) dtype=int64>, 'Incorrect_form_ratio': <tf.Tensor 'IteratorGetNext:1' shape=(None,) dtype=float32>, 'flesch_reading_ease': <tf.Tensor 'IteratorGetNext:6' shape=(None,) dtype=float32>, 'flesch_kincaid_grade': <tf.Tensor 'IteratorGetNext:5' shape=(None,) dtype=float32>, 'dale_chall_readability_score': <tf.Tensor 'IteratorGetNext:4' shape=(None,) dtype=float32>, 'text_standard': <tf.Tensor 'IteratorGetNext:32' shape=(None,) dtype=float32>, 'mcalpine_eflaw': <tf.Tensor 'IteratorGetNext:19' shape=(None,) dtype=float32>, 'number_of_diff_words': <tf.Tensor 'IteratorGetNext:23' shape=(None,) dtype=int64>, 'freq_diff_words': <tf.Tensor 'IteratorGetNext:7' shape=(None,) dtype=float32>, 'ttr': <tf.Tensor 'IteratorGetNext:33' shape=(None,) dtype=float32>, 'coherence_score': <tf.Tensor 'IteratorGetNext:3' shape=(None,) dtype=float32>, 'lexrank_avg_min_diff': <tf.Tensor 'IteratorGetNext:17' shape=(None,) dtype=float32>, 'lexrank_interquartile': <tf.Tensor 'IteratorGetNext:18' shape=(None,) dtype=float32>, 'freq_of_noun': <tf.Tensor 'IteratorGetNext:12' shape=(None,) dtype=float32>, 'freq_of_transition': <tf.Tensor 'IteratorGetNext:14' shape=(None,) dtype=float32>, 'freq_of_pronoun': <tf.Tensor 'IteratorGetNext:13' shape=(None,) dtype=float32>, 'noun_to_adj': <tf.Tensor 'IteratorGetNext:20' shape=(None,) dtype=float32>, 'verb_to_adv': <tf.Tensor 'IteratorGetNext:34' shape=(None,) dtype=float32>, 'phrase_diversity': <tf.Tensor 'IteratorGetNext:25' shape=(None,) dtype=float32>, 'vocabulary': <tf.Tensor 'IteratorGetNext:35' shape=(None,) dtype=float32>}. Consider rewriting this model with the Functional API.\n"
          ]
        },
        {
          "output_type": "stream",
          "name": "stdout",
          "text": [
            "4/4 [==============================] - 1s 5ms/step - loss: 0.9908 - mean_squared_error: 0.9908 - accuracy: 0.0038\n",
            "loss 0.9907976984977722\n",
            "mean_squared_error 0.9907976984977722\n",
            "accuracy 0.0038314175326377153\n"
          ]
        }
      ]
    },
    {
      "cell_type": "code",
      "source": [
        "prediction_deep_cohesion = model_deep_cohesion.predict(test_features_deep_cohesion)\n",
        "pre_list_deep_cohesion = []\n",
        "for value in prediction_deep_cohesion:\n",
        "  pre_list_deep_cohesion.append(value[0])"
      ],
      "metadata": {
        "colab": {
          "base_uri": "https://localhost:8080/"
        },
        "id": "KjwwrJJQ_Tp3",
        "outputId": "ebf65e90-8016-458d-d62c-6a268e7dff41"
      },
      "id": "KjwwrJJQ_Tp3",
      "execution_count": null,
      "outputs": [
        {
          "output_type": "stream",
          "name": "stderr",
          "text": [
            "WARNING:tensorflow:Layers in a Sequential model should only have a single input tensor. Received: inputs={'number_of_words': <tf.Tensor 'IteratorGetNext:24' shape=(None,) dtype=int64>, 'stopwords_frequency': <tf.Tensor 'IteratorGetNext:31' shape=(None,) dtype=float32>, 'av_word_per_sen': <tf.Tensor 'IteratorGetNext:2' shape=(None,) dtype=float32>, 'punctuations': <tf.Tensor 'IteratorGetNext:26' shape=(None,) dtype=float32>, 'ARI': <tf.Tensor 'IteratorGetNext:0' shape=(None,) dtype=int64>, 'freq_of_verb': <tf.Tensor 'IteratorGetNext:15' shape=(None,) dtype=float32>, 'freq_of_adj': <tf.Tensor 'IteratorGetNext:8' shape=(None,) dtype=float32>, 'freq_of_adv': <tf.Tensor 'IteratorGetNext:9' shape=(None,) dtype=float32>, 'freq_of_distinct_adj': <tf.Tensor 'IteratorGetNext:10' shape=(None,) dtype=float32>, 'freq_of_distinct_adv': <tf.Tensor 'IteratorGetNext:11' shape=(None,) dtype=float32>, 'sentence_complexity': <tf.Tensor 'IteratorGetNext:27' shape=(None,) dtype=float32>, 'freq_of_wrong_words': <tf.Tensor 'IteratorGetNext:16' shape=(None,) dtype=float32>, 'sentiment_compound': <tf.Tensor 'IteratorGetNext:28' shape=(None,) dtype=float32>, 'sentiment_positive': <tf.Tensor 'IteratorGetNext:30' shape=(None,) dtype=float32>, 'sentiment_negative': <tf.Tensor 'IteratorGetNext:29' shape=(None,) dtype=float32>, 'num_of_grammar_errors': <tf.Tensor 'IteratorGetNext:21' shape=(None,) dtype=int64>, 'num_of_short_forms': <tf.Tensor 'IteratorGetNext:22' shape=(None,) dtype=int64>, 'Incorrect_form_ratio': <tf.Tensor 'IteratorGetNext:1' shape=(None,) dtype=float32>, 'flesch_reading_ease': <tf.Tensor 'IteratorGetNext:6' shape=(None,) dtype=float32>, 'flesch_kincaid_grade': <tf.Tensor 'IteratorGetNext:5' shape=(None,) dtype=float32>, 'dale_chall_readability_score': <tf.Tensor 'IteratorGetNext:4' shape=(None,) dtype=float32>, 'text_standard': <tf.Tensor 'IteratorGetNext:32' shape=(None,) dtype=float32>, 'mcalpine_eflaw': <tf.Tensor 'IteratorGetNext:19' shape=(None,) dtype=float32>, 'number_of_diff_words': <tf.Tensor 'IteratorGetNext:23' shape=(None,) dtype=int64>, 'freq_diff_words': <tf.Tensor 'IteratorGetNext:7' shape=(None,) dtype=float32>, 'ttr': <tf.Tensor 'IteratorGetNext:33' shape=(None,) dtype=float32>, 'coherence_score': <tf.Tensor 'IteratorGetNext:3' shape=(None,) dtype=float32>, 'lexrank_avg_min_diff': <tf.Tensor 'IteratorGetNext:17' shape=(None,) dtype=float32>, 'lexrank_interquartile': <tf.Tensor 'IteratorGetNext:18' shape=(None,) dtype=float32>, 'freq_of_noun': <tf.Tensor 'IteratorGetNext:12' shape=(None,) dtype=float32>, 'freq_of_transition': <tf.Tensor 'IteratorGetNext:14' shape=(None,) dtype=float32>, 'freq_of_pronoun': <tf.Tensor 'IteratorGetNext:13' shape=(None,) dtype=float32>, 'noun_to_adj': <tf.Tensor 'IteratorGetNext:20' shape=(None,) dtype=float32>, 'verb_to_adv': <tf.Tensor 'IteratorGetNext:34' shape=(None,) dtype=float32>, 'phrase_diversity': <tf.Tensor 'IteratorGetNext:25' shape=(None,) dtype=float32>, 'vocabulary': <tf.Tensor 'IteratorGetNext:35' shape=(None,) dtype=float32>}. Consider rewriting this model with the Functional API.\n"
          ]
        },
        {
          "output_type": "stream",
          "name": "stdout",
          "text": [
            "25/25 [==============================] - 0s 3ms/step\n"
          ]
        }
      ]
    },
    {
      "cell_type": "code",
      "source": [
        "cohesion_deep_accuracy = accuracy_range(pre_list_deep_cohesion, list(test_data['cohesion']))\n",
        "cohesion_deep_accuracy"
      ],
      "metadata": {
        "colab": {
          "base_uri": "https://localhost:8080/"
        },
        "id": "o9uWXYLBACMx",
        "outputId": "9daccda6-d727-4434-a790-97d3b05d4ae1"
      },
      "id": "o9uWXYLBACMx",
      "execution_count": null,
      "outputs": [
        {
          "output_type": "execute_result",
          "data": {
            "text/plain": [
              "0.5044699872286079"
            ]
          },
          "metadata": {},
          "execution_count": 74
        }
      ]
    },
    {
      "cell_type": "code",
      "source": [
        "pre_list_2 = result(pre_list_deep_cohesion)\n",
        "val_accuracy_2 = accuracy(list(test_data['cohesion']), pre_list_2)\n",
        "val_accuracy_2"
      ],
      "metadata": {
        "colab": {
          "base_uri": "https://localhost:8080/"
        },
        "id": "2saAmcOaeD5V",
        "outputId": "e6bb24c6-1b96-4fb0-cd25-df97f8f30253"
      },
      "id": "2saAmcOaeD5V",
      "execution_count": null,
      "outputs": [
        {
          "output_type": "execute_result",
          "data": {
            "text/plain": [
              "0.26053639846743293"
            ]
          },
          "metadata": {},
          "execution_count": 75
        }
      ]
    },
    {
      "cell_type": "code",
      "source": [
        "error_rate5 = error_rate(list(test_data['cohesion']), pre_list_deep_cohesion)\n",
        "error_rate5"
      ],
      "metadata": {
        "colab": {
          "base_uri": "https://localhost:8080/"
        },
        "id": "tfUwZXfVO--s",
        "outputId": "d024ef3d-ad2c-4f6b-fb21-4be4fe2a545e"
      },
      "id": "tfUwZXfVO--s",
      "execution_count": null,
      "outputs": [
        {
          "output_type": "execute_result",
          "data": {
            "text/plain": [
              "0.6629205697226799"
            ]
          },
          "metadata": {},
          "execution_count": 76
        }
      ]
    },
    {
      "cell_type": "code",
      "source": [
        "import pickle\n",
        "pickle.dump(model_deep, open('nn_model_vocabulary.sav', 'wb'))\n",
        "pickle.dump(model_deep_cohesion, open('nn_model_cohesion.sav', 'wb'))"
      ],
      "metadata": {
        "colab": {
          "base_uri": "https://localhost:8080/"
        },
        "id": "Lb4nJPzaJ-uY",
        "outputId": "cad48130-33cd-4a6e-dc9e-f45695d6c25e"
      },
      "id": "Lb4nJPzaJ-uY",
      "execution_count": null,
      "outputs": [
        {
          "output_type": "stream",
          "name": "stderr",
          "text": [
            "WARNING:tensorflow:Layers in a Sequential model should only have a single input tensor. Received: inputs={'number_of_words': <tf.Tensor 'number_of_words:0' shape=(None,) dtype=int64>, 'stopwords_frequency': <tf.Tensor 'stopwords_frequency:0' shape=(None,) dtype=float32>, 'av_word_per_sen': <tf.Tensor 'av_word_per_sen:0' shape=(None,) dtype=float32>, 'punctuations': <tf.Tensor 'punctuations:0' shape=(None,) dtype=float32>, 'ARI': <tf.Tensor 'ARI:0' shape=(None,) dtype=int64>, 'freq_of_verb': <tf.Tensor 'freq_of_verb:0' shape=(None,) dtype=float32>, 'freq_of_adj': <tf.Tensor 'freq_of_adj:0' shape=(None,) dtype=float32>, 'freq_of_adv': <tf.Tensor 'freq_of_adv:0' shape=(None,) dtype=float32>, 'freq_of_distinct_adj': <tf.Tensor 'freq_of_distinct_adj:0' shape=(None,) dtype=float32>, 'freq_of_distinct_adv': <tf.Tensor 'freq_of_distinct_adv:0' shape=(None,) dtype=float32>, 'sentence_complexity': <tf.Tensor 'sentence_complexity:0' shape=(None,) dtype=float32>, 'freq_of_wrong_words': <tf.Tensor 'freq_of_wrong_words:0' shape=(None,) dtype=float32>, 'sentiment_compound': <tf.Tensor 'sentiment_compound:0' shape=(None,) dtype=float32>, 'sentiment_positive': <tf.Tensor 'sentiment_positive:0' shape=(None,) dtype=float32>, 'sentiment_negative': <tf.Tensor 'sentiment_negative:0' shape=(None,) dtype=float32>, 'num_of_grammar_errors': <tf.Tensor 'num_of_grammar_errors:0' shape=(None,) dtype=int64>, 'corrected_text': <tf.Tensor 'corrected_text:0' shape=(None,) dtype=string>, 'num_of_short_forms': <tf.Tensor 'num_of_short_forms:0' shape=(None,) dtype=int64>, 'Incorrect_form_ratio': <tf.Tensor 'Incorrect_form_ratio:0' shape=(None,) dtype=float32>, 'flesch_reading_ease': <tf.Tensor 'flesch_reading_ease:0' shape=(None,) dtype=float32>, 'flesch_kincaid_grade': <tf.Tensor 'flesch_kincaid_grade:0' shape=(None,) dtype=float32>, 'dale_chall_readability_score': <tf.Tensor 'dale_chall_readability_score:0' shape=(None,) dtype=float32>, 'text_standard': <tf.Tensor 'text_standard:0' shape=(None,) dtype=float32>, 'mcalpine_eflaw': <tf.Tensor 'mcalpine_eflaw:0' shape=(None,) dtype=float32>, 'number_of_diff_words': <tf.Tensor 'number_of_diff_words:0' shape=(None,) dtype=int64>, 'freq_diff_words': <tf.Tensor 'freq_diff_words:0' shape=(None,) dtype=float32>, 'ttr': <tf.Tensor 'ttr:0' shape=(None,) dtype=float32>, 'coherence_score': <tf.Tensor 'coherence_score:0' shape=(None,) dtype=float32>, 'lexrank_avg_min_diff': <tf.Tensor 'lexrank_avg_min_diff:0' shape=(None,) dtype=float32>, 'lexrank_interquartile': <tf.Tensor 'lexrank_interquartile:0' shape=(None,) dtype=float32>, 'freq_of_noun': <tf.Tensor 'freq_of_noun:0' shape=(None,) dtype=float32>, 'freq_of_transition': <tf.Tensor 'freq_of_transition:0' shape=(None,) dtype=float32>, 'freq_of_pronoun': <tf.Tensor 'freq_of_pronoun:0' shape=(None,) dtype=float32>, 'noun_to_adj': <tf.Tensor 'noun_to_adj:0' shape=(None,) dtype=float32>, 'verb_to_adv': <tf.Tensor 'verb_to_adv:0' shape=(None,) dtype=float32>, 'phrase_diversity': <tf.Tensor 'phrase_diversity:0' shape=(None,) dtype=float32>, 'cohesion': <tf.Tensor 'cohesion:0' shape=(None,) dtype=float32>}. Consider rewriting this model with the Functional API.\n",
            "WARNING:tensorflow:Layers in a Sequential model should only have a single input tensor. Received: inputs={'number_of_words': <tf.Tensor 'inputs_26:0' shape=(None,) dtype=int64>, 'stopwords_frequency': <tf.Tensor 'inputs_33:0' shape=(None,) dtype=float32>, 'av_word_per_sen': <tf.Tensor 'inputs_2:0' shape=(None,) dtype=float32>, 'punctuations': <tf.Tensor 'inputs_28:0' shape=(None,) dtype=float32>, 'ARI': <tf.Tensor 'inputs:0' shape=(None,) dtype=int64>, 'freq_of_verb': <tf.Tensor 'inputs_17:0' shape=(None,) dtype=float32>, 'freq_of_adj': <tf.Tensor 'inputs_10:0' shape=(None,) dtype=float32>, 'freq_of_adv': <tf.Tensor 'inputs_11:0' shape=(None,) dtype=float32>, 'freq_of_distinct_adj': <tf.Tensor 'inputs_12:0' shape=(None,) dtype=float32>, 'freq_of_distinct_adv': <tf.Tensor 'inputs_13:0' shape=(None,) dtype=float32>, 'sentence_complexity': <tf.Tensor 'inputs_29:0' shape=(None,) dtype=float32>, 'freq_of_wrong_words': <tf.Tensor 'inputs_18:0' shape=(None,) dtype=float32>, 'sentiment_compound': <tf.Tensor 'inputs_30:0' shape=(None,) dtype=float32>, 'sentiment_positive': <tf.Tensor 'inputs_32:0' shape=(None,) dtype=float32>, 'sentiment_negative': <tf.Tensor 'inputs_31:0' shape=(None,) dtype=float32>, 'num_of_grammar_errors': <tf.Tensor 'inputs_23:0' shape=(None,) dtype=int64>, 'corrected_text': <tf.Tensor 'inputs_5:0' shape=(None,) dtype=string>, 'num_of_short_forms': <tf.Tensor 'inputs_24:0' shape=(None,) dtype=int64>, 'Incorrect_form_ratio': <tf.Tensor 'inputs_1:0' shape=(None,) dtype=float32>, 'flesch_reading_ease': <tf.Tensor 'inputs_8:0' shape=(None,) dtype=float32>, 'flesch_kincaid_grade': <tf.Tensor 'inputs_7:0' shape=(None,) dtype=float32>, 'dale_chall_readability_score': <tf.Tensor 'inputs_6:0' shape=(None,) dtype=float32>, 'text_standard': <tf.Tensor 'inputs_34:0' shape=(None,) dtype=float32>, 'mcalpine_eflaw': <tf.Tensor 'inputs_21:0' shape=(None,) dtype=float32>, 'number_of_diff_words': <tf.Tensor 'inputs_25:0' shape=(None,) dtype=int64>, 'freq_diff_words': <tf.Tensor 'inputs_9:0' shape=(None,) dtype=float32>, 'ttr': <tf.Tensor 'inputs_35:0' shape=(None,) dtype=float32>, 'coherence_score': <tf.Tensor 'inputs_3:0' shape=(None,) dtype=float32>, 'lexrank_avg_min_diff': <tf.Tensor 'inputs_19:0' shape=(None,) dtype=float32>, 'lexrank_interquartile': <tf.Tensor 'inputs_20:0' shape=(None,) dtype=float32>, 'freq_of_noun': <tf.Tensor 'inputs_14:0' shape=(None,) dtype=float32>, 'freq_of_transition': <tf.Tensor 'inputs_16:0' shape=(None,) dtype=float32>, 'freq_of_pronoun': <tf.Tensor 'inputs_15:0' shape=(None,) dtype=float32>, 'noun_to_adj': <tf.Tensor 'inputs_22:0' shape=(None,) dtype=float32>, 'verb_to_adv': <tf.Tensor 'inputs_36:0' shape=(None,) dtype=float32>, 'phrase_diversity': <tf.Tensor 'inputs_27:0' shape=(None,) dtype=float32>, 'cohesion': <tf.Tensor 'inputs_4:0' shape=(None,) dtype=float32>}. Consider rewriting this model with the Functional API.\n",
            "WARNING:tensorflow:Layers in a Sequential model should only have a single input tensor. Received: inputs={'number_of_words': <tf.Tensor 'inputs_26:0' shape=(None,) dtype=int64>, 'stopwords_frequency': <tf.Tensor 'inputs_33:0' shape=(None,) dtype=float32>, 'av_word_per_sen': <tf.Tensor 'inputs_2:0' shape=(None,) dtype=float32>, 'punctuations': <tf.Tensor 'inputs_28:0' shape=(None,) dtype=float32>, 'ARI': <tf.Tensor 'inputs:0' shape=(None,) dtype=int64>, 'freq_of_verb': <tf.Tensor 'inputs_17:0' shape=(None,) dtype=float32>, 'freq_of_adj': <tf.Tensor 'inputs_10:0' shape=(None,) dtype=float32>, 'freq_of_adv': <tf.Tensor 'inputs_11:0' shape=(None,) dtype=float32>, 'freq_of_distinct_adj': <tf.Tensor 'inputs_12:0' shape=(None,) dtype=float32>, 'freq_of_distinct_adv': <tf.Tensor 'inputs_13:0' shape=(None,) dtype=float32>, 'sentence_complexity': <tf.Tensor 'inputs_29:0' shape=(None,) dtype=float32>, 'freq_of_wrong_words': <tf.Tensor 'inputs_18:0' shape=(None,) dtype=float32>, 'sentiment_compound': <tf.Tensor 'inputs_30:0' shape=(None,) dtype=float32>, 'sentiment_positive': <tf.Tensor 'inputs_32:0' shape=(None,) dtype=float32>, 'sentiment_negative': <tf.Tensor 'inputs_31:0' shape=(None,) dtype=float32>, 'num_of_grammar_errors': <tf.Tensor 'inputs_23:0' shape=(None,) dtype=int64>, 'corrected_text': <tf.Tensor 'inputs_5:0' shape=(None,) dtype=string>, 'num_of_short_forms': <tf.Tensor 'inputs_24:0' shape=(None,) dtype=int64>, 'Incorrect_form_ratio': <tf.Tensor 'inputs_1:0' shape=(None,) dtype=float32>, 'flesch_reading_ease': <tf.Tensor 'inputs_8:0' shape=(None,) dtype=float32>, 'flesch_kincaid_grade': <tf.Tensor 'inputs_7:0' shape=(None,) dtype=float32>, 'dale_chall_readability_score': <tf.Tensor 'inputs_6:0' shape=(None,) dtype=float32>, 'text_standard': <tf.Tensor 'inputs_34:0' shape=(None,) dtype=float32>, 'mcalpine_eflaw': <tf.Tensor 'inputs_21:0' shape=(None,) dtype=float32>, 'number_of_diff_words': <tf.Tensor 'inputs_25:0' shape=(None,) dtype=int64>, 'freq_diff_words': <tf.Tensor 'inputs_9:0' shape=(None,) dtype=float32>, 'ttr': <tf.Tensor 'inputs_35:0' shape=(None,) dtype=float32>, 'coherence_score': <tf.Tensor 'inputs_3:0' shape=(None,) dtype=float32>, 'lexrank_avg_min_diff': <tf.Tensor 'inputs_19:0' shape=(None,) dtype=float32>, 'lexrank_interquartile': <tf.Tensor 'inputs_20:0' shape=(None,) dtype=float32>, 'freq_of_noun': <tf.Tensor 'inputs_14:0' shape=(None,) dtype=float32>, 'freq_of_transition': <tf.Tensor 'inputs_16:0' shape=(None,) dtype=float32>, 'freq_of_pronoun': <tf.Tensor 'inputs_15:0' shape=(None,) dtype=float32>, 'noun_to_adj': <tf.Tensor 'inputs_22:0' shape=(None,) dtype=float32>, 'verb_to_adv': <tf.Tensor 'inputs_36:0' shape=(None,) dtype=float32>, 'phrase_diversity': <tf.Tensor 'inputs_27:0' shape=(None,) dtype=float32>, 'cohesion': <tf.Tensor 'inputs_4:0' shape=(None,) dtype=float32>}. Consider rewriting this model with the Functional API.\n",
            "WARNING:tensorflow:Layers in a Sequential model should only have a single input tensor. Received: inputs={'number_of_words': <tf.Tensor 'number_of_words:0' shape=(None,) dtype=int64>, 'stopwords_frequency': <tf.Tensor 'stopwords_frequency:0' shape=(None,) dtype=float32>, 'av_word_per_sen': <tf.Tensor 'av_word_per_sen:0' shape=(None,) dtype=float32>, 'punctuations': <tf.Tensor 'punctuations:0' shape=(None,) dtype=float32>, 'ARI': <tf.Tensor 'ARI:0' shape=(None,) dtype=int64>, 'freq_of_verb': <tf.Tensor 'freq_of_verb:0' shape=(None,) dtype=float32>, 'freq_of_adj': <tf.Tensor 'freq_of_adj:0' shape=(None,) dtype=float32>, 'freq_of_adv': <tf.Tensor 'freq_of_adv:0' shape=(None,) dtype=float32>, 'freq_of_distinct_adj': <tf.Tensor 'freq_of_distinct_adj:0' shape=(None,) dtype=float32>, 'freq_of_distinct_adv': <tf.Tensor 'freq_of_distinct_adv:0' shape=(None,) dtype=float32>, 'sentence_complexity': <tf.Tensor 'sentence_complexity:0' shape=(None,) dtype=float32>, 'freq_of_wrong_words': <tf.Tensor 'freq_of_wrong_words:0' shape=(None,) dtype=float32>, 'sentiment_compound': <tf.Tensor 'sentiment_compound:0' shape=(None,) dtype=float32>, 'sentiment_positive': <tf.Tensor 'sentiment_positive:0' shape=(None,) dtype=float32>, 'sentiment_negative': <tf.Tensor 'sentiment_negative:0' shape=(None,) dtype=float32>, 'num_of_grammar_errors': <tf.Tensor 'num_of_grammar_errors:0' shape=(None,) dtype=int64>, 'corrected_text': <tf.Tensor 'corrected_text:0' shape=(None,) dtype=string>, 'num_of_short_forms': <tf.Tensor 'num_of_short_forms:0' shape=(None,) dtype=int64>, 'Incorrect_form_ratio': <tf.Tensor 'Incorrect_form_ratio:0' shape=(None,) dtype=float32>, 'flesch_reading_ease': <tf.Tensor 'flesch_reading_ease:0' shape=(None,) dtype=float32>, 'flesch_kincaid_grade': <tf.Tensor 'flesch_kincaid_grade:0' shape=(None,) dtype=float32>, 'dale_chall_readability_score': <tf.Tensor 'dale_chall_readability_score:0' shape=(None,) dtype=float32>, 'text_standard': <tf.Tensor 'text_standard:0' shape=(None,) dtype=float32>, 'mcalpine_eflaw': <tf.Tensor 'mcalpine_eflaw:0' shape=(None,) dtype=float32>, 'number_of_diff_words': <tf.Tensor 'number_of_diff_words:0' shape=(None,) dtype=int64>, 'freq_diff_words': <tf.Tensor 'freq_diff_words:0' shape=(None,) dtype=float32>, 'ttr': <tf.Tensor 'ttr:0' shape=(None,) dtype=float32>, 'coherence_score': <tf.Tensor 'coherence_score:0' shape=(None,) dtype=float32>, 'lexrank_avg_min_diff': <tf.Tensor 'lexrank_avg_min_diff:0' shape=(None,) dtype=float32>, 'lexrank_interquartile': <tf.Tensor 'lexrank_interquartile:0' shape=(None,) dtype=float32>, 'freq_of_noun': <tf.Tensor 'freq_of_noun:0' shape=(None,) dtype=float32>, 'freq_of_transition': <tf.Tensor 'freq_of_transition:0' shape=(None,) dtype=float32>, 'freq_of_pronoun': <tf.Tensor 'freq_of_pronoun:0' shape=(None,) dtype=float32>, 'noun_to_adj': <tf.Tensor 'noun_to_adj:0' shape=(None,) dtype=float32>, 'verb_to_adv': <tf.Tensor 'verb_to_adv:0' shape=(None,) dtype=float32>, 'phrase_diversity': <tf.Tensor 'phrase_diversity:0' shape=(None,) dtype=float32>, 'cohesion': <tf.Tensor 'cohesion:0' shape=(None,) dtype=float32>}. Consider rewriting this model with the Functional API.\n",
            "WARNING:tensorflow:Layers in a Sequential model should only have a single input tensor. Received: inputs={'number_of_words': <tf.Tensor 'number_of_words:0' shape=(None,) dtype=int64>, 'stopwords_frequency': <tf.Tensor 'stopwords_frequency:0' shape=(None,) dtype=float32>, 'av_word_per_sen': <tf.Tensor 'av_word_per_sen:0' shape=(None,) dtype=float32>, 'punctuations': <tf.Tensor 'punctuations:0' shape=(None,) dtype=float32>, 'ARI': <tf.Tensor 'ARI:0' shape=(None,) dtype=int64>, 'freq_of_verb': <tf.Tensor 'freq_of_verb:0' shape=(None,) dtype=float32>, 'freq_of_adj': <tf.Tensor 'freq_of_adj:0' shape=(None,) dtype=float32>, 'freq_of_adv': <tf.Tensor 'freq_of_adv:0' shape=(None,) dtype=float32>, 'freq_of_distinct_adj': <tf.Tensor 'freq_of_distinct_adj:0' shape=(None,) dtype=float32>, 'freq_of_distinct_adv': <tf.Tensor 'freq_of_distinct_adv:0' shape=(None,) dtype=float32>, 'sentence_complexity': <tf.Tensor 'sentence_complexity:0' shape=(None,) dtype=float32>, 'freq_of_wrong_words': <tf.Tensor 'freq_of_wrong_words:0' shape=(None,) dtype=float32>, 'sentiment_compound': <tf.Tensor 'sentiment_compound:0' shape=(None,) dtype=float32>, 'sentiment_positive': <tf.Tensor 'sentiment_positive:0' shape=(None,) dtype=float32>, 'sentiment_negative': <tf.Tensor 'sentiment_negative:0' shape=(None,) dtype=float32>, 'num_of_grammar_errors': <tf.Tensor 'num_of_grammar_errors:0' shape=(None,) dtype=int64>, 'corrected_text': <tf.Tensor 'corrected_text:0' shape=(None,) dtype=string>, 'num_of_short_forms': <tf.Tensor 'num_of_short_forms:0' shape=(None,) dtype=int64>, 'Incorrect_form_ratio': <tf.Tensor 'Incorrect_form_ratio:0' shape=(None,) dtype=float32>, 'flesch_reading_ease': <tf.Tensor 'flesch_reading_ease:0' shape=(None,) dtype=float32>, 'flesch_kincaid_grade': <tf.Tensor 'flesch_kincaid_grade:0' shape=(None,) dtype=float32>, 'dale_chall_readability_score': <tf.Tensor 'dale_chall_readability_score:0' shape=(None,) dtype=float32>, 'text_standard': <tf.Tensor 'text_standard:0' shape=(None,) dtype=float32>, 'mcalpine_eflaw': <tf.Tensor 'mcalpine_eflaw:0' shape=(None,) dtype=float32>, 'number_of_diff_words': <tf.Tensor 'number_of_diff_words:0' shape=(None,) dtype=int64>, 'freq_diff_words': <tf.Tensor 'freq_diff_words:0' shape=(None,) dtype=float32>, 'ttr': <tf.Tensor 'ttr:0' shape=(None,) dtype=float32>, 'coherence_score': <tf.Tensor 'coherence_score:0' shape=(None,) dtype=float32>, 'lexrank_avg_min_diff': <tf.Tensor 'lexrank_avg_min_diff:0' shape=(None,) dtype=float32>, 'lexrank_interquartile': <tf.Tensor 'lexrank_interquartile:0' shape=(None,) dtype=float32>, 'freq_of_noun': <tf.Tensor 'freq_of_noun:0' shape=(None,) dtype=float32>, 'freq_of_transition': <tf.Tensor 'freq_of_transition:0' shape=(None,) dtype=float32>, 'freq_of_pronoun': <tf.Tensor 'freq_of_pronoun:0' shape=(None,) dtype=float32>, 'noun_to_adj': <tf.Tensor 'noun_to_adj:0' shape=(None,) dtype=float32>, 'verb_to_adv': <tf.Tensor 'verb_to_adv:0' shape=(None,) dtype=float32>, 'phrase_diversity': <tf.Tensor 'phrase_diversity:0' shape=(None,) dtype=float32>, 'cohesion': <tf.Tensor 'cohesion:0' shape=(None,) dtype=float32>}. Consider rewriting this model with the Functional API.\n",
            "WARNING:absl:Function `_wrapped_model` contains input name(s) ARI, Incorrect_form_ratio with unsupported characters which will be renamed to ari, incorrect_form_ratio in the SavedModel.\n",
            "WARNING:tensorflow:Layers in a Sequential model should only have a single input tensor. Received: inputs={'number_of_words': <tf.Tensor 'inputs/number_of_words:0' shape=(None,) dtype=int64>, 'stopwords_frequency': <tf.Tensor 'inputs/stopwords_frequency:0' shape=(None,) dtype=float32>, 'av_word_per_sen': <tf.Tensor 'inputs/av_word_per_sen:0' shape=(None,) dtype=float32>, 'punctuations': <tf.Tensor 'inputs/punctuations:0' shape=(None,) dtype=float32>, 'ARI': <tf.Tensor 'inputs/ARI:0' shape=(None,) dtype=int64>, 'freq_of_verb': <tf.Tensor 'inputs/freq_of_verb:0' shape=(None,) dtype=float32>, 'freq_of_adj': <tf.Tensor 'inputs/freq_of_adj:0' shape=(None,) dtype=float32>, 'freq_of_adv': <tf.Tensor 'inputs/freq_of_adv:0' shape=(None,) dtype=float32>, 'freq_of_distinct_adj': <tf.Tensor 'inputs/freq_of_distinct_adj:0' shape=(None,) dtype=float32>, 'freq_of_distinct_adv': <tf.Tensor 'inputs/freq_of_distinct_adv:0' shape=(None,) dtype=float32>, 'sentence_complexity': <tf.Tensor 'inputs/sentence_complexity:0' shape=(None,) dtype=float32>, 'freq_of_wrong_words': <tf.Tensor 'inputs/freq_of_wrong_words:0' shape=(None,) dtype=float32>, 'sentiment_compound': <tf.Tensor 'inputs/sentiment_compound:0' shape=(None,) dtype=float32>, 'sentiment_positive': <tf.Tensor 'inputs/sentiment_positive:0' shape=(None,) dtype=float32>, 'sentiment_negative': <tf.Tensor 'inputs/sentiment_negative:0' shape=(None,) dtype=float32>, 'num_of_grammar_errors': <tf.Tensor 'inputs/num_of_grammar_errors:0' shape=(None,) dtype=int64>, 'corrected_text': <tf.Tensor 'inputs/corrected_text:0' shape=(None,) dtype=string>, 'num_of_short_forms': <tf.Tensor 'inputs/num_of_short_forms:0' shape=(None,) dtype=int64>, 'Incorrect_form_ratio': <tf.Tensor 'inputs/Incorrect_form_ratio:0' shape=(None,) dtype=float32>, 'flesch_reading_ease': <tf.Tensor 'inputs/flesch_reading_ease:0' shape=(None,) dtype=float32>, 'flesch_kincaid_grade': <tf.Tensor 'inputs/flesch_kincaid_grade:0' shape=(None,) dtype=float32>, 'dale_chall_readability_score': <tf.Tensor 'inputs/dale_chall_readability_score:0' shape=(None,) dtype=float32>, 'text_standard': <tf.Tensor 'inputs/text_standard:0' shape=(None,) dtype=float32>, 'mcalpine_eflaw': <tf.Tensor 'inputs/mcalpine_eflaw:0' shape=(None,) dtype=float32>, 'number_of_diff_words': <tf.Tensor 'inputs/number_of_diff_words:0' shape=(None,) dtype=int64>, 'freq_diff_words': <tf.Tensor 'inputs/freq_diff_words:0' shape=(None,) dtype=float32>, 'ttr': <tf.Tensor 'inputs/ttr:0' shape=(None,) dtype=float32>, 'coherence_score': <tf.Tensor 'inputs/coherence_score:0' shape=(None,) dtype=float32>, 'lexrank_avg_min_diff': <tf.Tensor 'inputs/lexrank_avg_min_diff:0' shape=(None,) dtype=float32>, 'lexrank_interquartile': <tf.Tensor 'inputs/lexrank_interquartile:0' shape=(None,) dtype=float32>, 'freq_of_noun': <tf.Tensor 'inputs/freq_of_noun:0' shape=(None,) dtype=float32>, 'freq_of_transition': <tf.Tensor 'inputs/freq_of_transition:0' shape=(None,) dtype=float32>, 'freq_of_pronoun': <tf.Tensor 'inputs/freq_of_pronoun:0' shape=(None,) dtype=float32>, 'noun_to_adj': <tf.Tensor 'inputs/noun_to_adj:0' shape=(None,) dtype=float32>, 'verb_to_adv': <tf.Tensor 'inputs/verb_to_adv:0' shape=(None,) dtype=float32>, 'phrase_diversity': <tf.Tensor 'inputs/phrase_diversity:0' shape=(None,) dtype=float32>, 'cohesion': <tf.Tensor 'inputs/cohesion:0' shape=(None,) dtype=float32>}. Consider rewriting this model with the Functional API.\n",
            "WARNING:tensorflow:Layers in a Sequential model should only have a single input tensor. Received: inputs={'number_of_words': <tf.Tensor 'inputs/number_of_words:0' shape=(None,) dtype=int64>, 'stopwords_frequency': <tf.Tensor 'inputs/stopwords_frequency:0' shape=(None,) dtype=float32>, 'av_word_per_sen': <tf.Tensor 'inputs/av_word_per_sen:0' shape=(None,) dtype=float32>, 'punctuations': <tf.Tensor 'inputs/punctuations:0' shape=(None,) dtype=float32>, 'ARI': <tf.Tensor 'inputs/ARI:0' shape=(None,) dtype=int64>, 'freq_of_verb': <tf.Tensor 'inputs/freq_of_verb:0' shape=(None,) dtype=float32>, 'freq_of_adj': <tf.Tensor 'inputs/freq_of_adj:0' shape=(None,) dtype=float32>, 'freq_of_adv': <tf.Tensor 'inputs/freq_of_adv:0' shape=(None,) dtype=float32>, 'freq_of_distinct_adj': <tf.Tensor 'inputs/freq_of_distinct_adj:0' shape=(None,) dtype=float32>, 'freq_of_distinct_adv': <tf.Tensor 'inputs/freq_of_distinct_adv:0' shape=(None,) dtype=float32>, 'sentence_complexity': <tf.Tensor 'inputs/sentence_complexity:0' shape=(None,) dtype=float32>, 'freq_of_wrong_words': <tf.Tensor 'inputs/freq_of_wrong_words:0' shape=(None,) dtype=float32>, 'sentiment_compound': <tf.Tensor 'inputs/sentiment_compound:0' shape=(None,) dtype=float32>, 'sentiment_positive': <tf.Tensor 'inputs/sentiment_positive:0' shape=(None,) dtype=float32>, 'sentiment_negative': <tf.Tensor 'inputs/sentiment_negative:0' shape=(None,) dtype=float32>, 'num_of_grammar_errors': <tf.Tensor 'inputs/num_of_grammar_errors:0' shape=(None,) dtype=int64>, 'corrected_text': <tf.Tensor 'inputs/corrected_text:0' shape=(None,) dtype=string>, 'num_of_short_forms': <tf.Tensor 'inputs/num_of_short_forms:0' shape=(None,) dtype=int64>, 'Incorrect_form_ratio': <tf.Tensor 'inputs/Incorrect_form_ratio:0' shape=(None,) dtype=float32>, 'flesch_reading_ease': <tf.Tensor 'inputs/flesch_reading_ease:0' shape=(None,) dtype=float32>, 'flesch_kincaid_grade': <tf.Tensor 'inputs/flesch_kincaid_grade:0' shape=(None,) dtype=float32>, 'dale_chall_readability_score': <tf.Tensor 'inputs/dale_chall_readability_score:0' shape=(None,) dtype=float32>, 'text_standard': <tf.Tensor 'inputs/text_standard:0' shape=(None,) dtype=float32>, 'mcalpine_eflaw': <tf.Tensor 'inputs/mcalpine_eflaw:0' shape=(None,) dtype=float32>, 'number_of_diff_words': <tf.Tensor 'inputs/number_of_diff_words:0' shape=(None,) dtype=int64>, 'freq_diff_words': <tf.Tensor 'inputs/freq_diff_words:0' shape=(None,) dtype=float32>, 'ttr': <tf.Tensor 'inputs/ttr:0' shape=(None,) dtype=float32>, 'coherence_score': <tf.Tensor 'inputs/coherence_score:0' shape=(None,) dtype=float32>, 'lexrank_avg_min_diff': <tf.Tensor 'inputs/lexrank_avg_min_diff:0' shape=(None,) dtype=float32>, 'lexrank_interquartile': <tf.Tensor 'inputs/lexrank_interquartile:0' shape=(None,) dtype=float32>, 'freq_of_noun': <tf.Tensor 'inputs/freq_of_noun:0' shape=(None,) dtype=float32>, 'freq_of_transition': <tf.Tensor 'inputs/freq_of_transition:0' shape=(None,) dtype=float32>, 'freq_of_pronoun': <tf.Tensor 'inputs/freq_of_pronoun:0' shape=(None,) dtype=float32>, 'noun_to_adj': <tf.Tensor 'inputs/noun_to_adj:0' shape=(None,) dtype=float32>, 'verb_to_adv': <tf.Tensor 'inputs/verb_to_adv:0' shape=(None,) dtype=float32>, 'phrase_diversity': <tf.Tensor 'inputs/phrase_diversity:0' shape=(None,) dtype=float32>, 'cohesion': <tf.Tensor 'inputs/cohesion:0' shape=(None,) dtype=float32>}. Consider rewriting this model with the Functional API.\n",
            "WARNING:tensorflow:Layers in a Sequential model should only have a single input tensor. Received: inputs={'number_of_words': <tf.Tensor 'number_of_words:0' shape=(None,) dtype=int64>, 'stopwords_frequency': <tf.Tensor 'stopwords_frequency:0' shape=(None,) dtype=float32>, 'av_word_per_sen': <tf.Tensor 'av_word_per_sen:0' shape=(None,) dtype=float32>, 'punctuations': <tf.Tensor 'punctuations:0' shape=(None,) dtype=float32>, 'ARI': <tf.Tensor 'ARI:0' shape=(None,) dtype=int64>, 'freq_of_verb': <tf.Tensor 'freq_of_verb:0' shape=(None,) dtype=float32>, 'freq_of_adj': <tf.Tensor 'freq_of_adj:0' shape=(None,) dtype=float32>, 'freq_of_adv': <tf.Tensor 'freq_of_adv:0' shape=(None,) dtype=float32>, 'freq_of_distinct_adj': <tf.Tensor 'freq_of_distinct_adj:0' shape=(None,) dtype=float32>, 'freq_of_distinct_adv': <tf.Tensor 'freq_of_distinct_adv:0' shape=(None,) dtype=float32>, 'sentence_complexity': <tf.Tensor 'sentence_complexity:0' shape=(None,) dtype=float32>, 'freq_of_wrong_words': <tf.Tensor 'freq_of_wrong_words:0' shape=(None,) dtype=float32>, 'sentiment_compound': <tf.Tensor 'sentiment_compound:0' shape=(None,) dtype=float32>, 'sentiment_positive': <tf.Tensor 'sentiment_positive:0' shape=(None,) dtype=float32>, 'sentiment_negative': <tf.Tensor 'sentiment_negative:0' shape=(None,) dtype=float32>, 'num_of_grammar_errors': <tf.Tensor 'num_of_grammar_errors:0' shape=(None,) dtype=int64>, 'corrected_text': <tf.Tensor 'corrected_text:0' shape=(None,) dtype=string>, 'num_of_short_forms': <tf.Tensor 'num_of_short_forms:0' shape=(None,) dtype=int64>, 'Incorrect_form_ratio': <tf.Tensor 'Incorrect_form_ratio:0' shape=(None,) dtype=float32>, 'flesch_reading_ease': <tf.Tensor 'flesch_reading_ease:0' shape=(None,) dtype=float32>, 'flesch_kincaid_grade': <tf.Tensor 'flesch_kincaid_grade:0' shape=(None,) dtype=float32>, 'dale_chall_readability_score': <tf.Tensor 'dale_chall_readability_score:0' shape=(None,) dtype=float32>, 'text_standard': <tf.Tensor 'text_standard:0' shape=(None,) dtype=float32>, 'mcalpine_eflaw': <tf.Tensor 'mcalpine_eflaw:0' shape=(None,) dtype=float32>, 'number_of_diff_words': <tf.Tensor 'number_of_diff_words:0' shape=(None,) dtype=int64>, 'freq_diff_words': <tf.Tensor 'freq_diff_words:0' shape=(None,) dtype=float32>, 'ttr': <tf.Tensor 'ttr:0' shape=(None,) dtype=float32>, 'coherence_score': <tf.Tensor 'coherence_score:0' shape=(None,) dtype=float32>, 'lexrank_avg_min_diff': <tf.Tensor 'lexrank_avg_min_diff:0' shape=(None,) dtype=float32>, 'lexrank_interquartile': <tf.Tensor 'lexrank_interquartile:0' shape=(None,) dtype=float32>, 'freq_of_noun': <tf.Tensor 'freq_of_noun:0' shape=(None,) dtype=float32>, 'freq_of_transition': <tf.Tensor 'freq_of_transition:0' shape=(None,) dtype=float32>, 'freq_of_pronoun': <tf.Tensor 'freq_of_pronoun:0' shape=(None,) dtype=float32>, 'noun_to_adj': <tf.Tensor 'noun_to_adj:0' shape=(None,) dtype=float32>, 'verb_to_adv': <tf.Tensor 'verb_to_adv:0' shape=(None,) dtype=float32>, 'phrase_diversity': <tf.Tensor 'phrase_diversity:0' shape=(None,) dtype=float32>, 'vocabulary': <tf.Tensor 'vocabulary:0' shape=(None,) dtype=float32>}. Consider rewriting this model with the Functional API.\n",
            "WARNING:tensorflow:Layers in a Sequential model should only have a single input tensor. Received: inputs={'number_of_words': <tf.Tensor 'inputs_25:0' shape=(None,) dtype=int64>, 'stopwords_frequency': <tf.Tensor 'inputs_32:0' shape=(None,) dtype=float32>, 'av_word_per_sen': <tf.Tensor 'inputs_2:0' shape=(None,) dtype=float32>, 'punctuations': <tf.Tensor 'inputs_27:0' shape=(None,) dtype=float32>, 'ARI': <tf.Tensor 'inputs:0' shape=(None,) dtype=int64>, 'freq_of_verb': <tf.Tensor 'inputs_16:0' shape=(None,) dtype=float32>, 'freq_of_adj': <tf.Tensor 'inputs_9:0' shape=(None,) dtype=float32>, 'freq_of_adv': <tf.Tensor 'inputs_10:0' shape=(None,) dtype=float32>, 'freq_of_distinct_adj': <tf.Tensor 'inputs_11:0' shape=(None,) dtype=float32>, 'freq_of_distinct_adv': <tf.Tensor 'inputs_12:0' shape=(None,) dtype=float32>, 'sentence_complexity': <tf.Tensor 'inputs_28:0' shape=(None,) dtype=float32>, 'freq_of_wrong_words': <tf.Tensor 'inputs_17:0' shape=(None,) dtype=float32>, 'sentiment_compound': <tf.Tensor 'inputs_29:0' shape=(None,) dtype=float32>, 'sentiment_positive': <tf.Tensor 'inputs_31:0' shape=(None,) dtype=float32>, 'sentiment_negative': <tf.Tensor 'inputs_30:0' shape=(None,) dtype=float32>, 'num_of_grammar_errors': <tf.Tensor 'inputs_22:0' shape=(None,) dtype=int64>, 'corrected_text': <tf.Tensor 'inputs_4:0' shape=(None,) dtype=string>, 'num_of_short_forms': <tf.Tensor 'inputs_23:0' shape=(None,) dtype=int64>, 'Incorrect_form_ratio': <tf.Tensor 'inputs_1:0' shape=(None,) dtype=float32>, 'flesch_reading_ease': <tf.Tensor 'inputs_7:0' shape=(None,) dtype=float32>, 'flesch_kincaid_grade': <tf.Tensor 'inputs_6:0' shape=(None,) dtype=float32>, 'dale_chall_readability_score': <tf.Tensor 'inputs_5:0' shape=(None,) dtype=float32>, 'text_standard': <tf.Tensor 'inputs_33:0' shape=(None,) dtype=float32>, 'mcalpine_eflaw': <tf.Tensor 'inputs_20:0' shape=(None,) dtype=float32>, 'number_of_diff_words': <tf.Tensor 'inputs_24:0' shape=(None,) dtype=int64>, 'freq_diff_words': <tf.Tensor 'inputs_8:0' shape=(None,) dtype=float32>, 'ttr': <tf.Tensor 'inputs_34:0' shape=(None,) dtype=float32>, 'coherence_score': <tf.Tensor 'inputs_3:0' shape=(None,) dtype=float32>, 'lexrank_avg_min_diff': <tf.Tensor 'inputs_18:0' shape=(None,) dtype=float32>, 'lexrank_interquartile': <tf.Tensor 'inputs_19:0' shape=(None,) dtype=float32>, 'freq_of_noun': <tf.Tensor 'inputs_13:0' shape=(None,) dtype=float32>, 'freq_of_transition': <tf.Tensor 'inputs_15:0' shape=(None,) dtype=float32>, 'freq_of_pronoun': <tf.Tensor 'inputs_14:0' shape=(None,) dtype=float32>, 'noun_to_adj': <tf.Tensor 'inputs_21:0' shape=(None,) dtype=float32>, 'verb_to_adv': <tf.Tensor 'inputs_35:0' shape=(None,) dtype=float32>, 'phrase_diversity': <tf.Tensor 'inputs_26:0' shape=(None,) dtype=float32>, 'vocabulary': <tf.Tensor 'inputs_36:0' shape=(None,) dtype=float32>}. Consider rewriting this model with the Functional API.\n",
            "WARNING:tensorflow:Layers in a Sequential model should only have a single input tensor. Received: inputs={'number_of_words': <tf.Tensor 'inputs_25:0' shape=(None,) dtype=int64>, 'stopwords_frequency': <tf.Tensor 'inputs_32:0' shape=(None,) dtype=float32>, 'av_word_per_sen': <tf.Tensor 'inputs_2:0' shape=(None,) dtype=float32>, 'punctuations': <tf.Tensor 'inputs_27:0' shape=(None,) dtype=float32>, 'ARI': <tf.Tensor 'inputs:0' shape=(None,) dtype=int64>, 'freq_of_verb': <tf.Tensor 'inputs_16:0' shape=(None,) dtype=float32>, 'freq_of_adj': <tf.Tensor 'inputs_9:0' shape=(None,) dtype=float32>, 'freq_of_adv': <tf.Tensor 'inputs_10:0' shape=(None,) dtype=float32>, 'freq_of_distinct_adj': <tf.Tensor 'inputs_11:0' shape=(None,) dtype=float32>, 'freq_of_distinct_adv': <tf.Tensor 'inputs_12:0' shape=(None,) dtype=float32>, 'sentence_complexity': <tf.Tensor 'inputs_28:0' shape=(None,) dtype=float32>, 'freq_of_wrong_words': <tf.Tensor 'inputs_17:0' shape=(None,) dtype=float32>, 'sentiment_compound': <tf.Tensor 'inputs_29:0' shape=(None,) dtype=float32>, 'sentiment_positive': <tf.Tensor 'inputs_31:0' shape=(None,) dtype=float32>, 'sentiment_negative': <tf.Tensor 'inputs_30:0' shape=(None,) dtype=float32>, 'num_of_grammar_errors': <tf.Tensor 'inputs_22:0' shape=(None,) dtype=int64>, 'corrected_text': <tf.Tensor 'inputs_4:0' shape=(None,) dtype=string>, 'num_of_short_forms': <tf.Tensor 'inputs_23:0' shape=(None,) dtype=int64>, 'Incorrect_form_ratio': <tf.Tensor 'inputs_1:0' shape=(None,) dtype=float32>, 'flesch_reading_ease': <tf.Tensor 'inputs_7:0' shape=(None,) dtype=float32>, 'flesch_kincaid_grade': <tf.Tensor 'inputs_6:0' shape=(None,) dtype=float32>, 'dale_chall_readability_score': <tf.Tensor 'inputs_5:0' shape=(None,) dtype=float32>, 'text_standard': <tf.Tensor 'inputs_33:0' shape=(None,) dtype=float32>, 'mcalpine_eflaw': <tf.Tensor 'inputs_20:0' shape=(None,) dtype=float32>, 'number_of_diff_words': <tf.Tensor 'inputs_24:0' shape=(None,) dtype=int64>, 'freq_diff_words': <tf.Tensor 'inputs_8:0' shape=(None,) dtype=float32>, 'ttr': <tf.Tensor 'inputs_34:0' shape=(None,) dtype=float32>, 'coherence_score': <tf.Tensor 'inputs_3:0' shape=(None,) dtype=float32>, 'lexrank_avg_min_diff': <tf.Tensor 'inputs_18:0' shape=(None,) dtype=float32>, 'lexrank_interquartile': <tf.Tensor 'inputs_19:0' shape=(None,) dtype=float32>, 'freq_of_noun': <tf.Tensor 'inputs_13:0' shape=(None,) dtype=float32>, 'freq_of_transition': <tf.Tensor 'inputs_15:0' shape=(None,) dtype=float32>, 'freq_of_pronoun': <tf.Tensor 'inputs_14:0' shape=(None,) dtype=float32>, 'noun_to_adj': <tf.Tensor 'inputs_21:0' shape=(None,) dtype=float32>, 'verb_to_adv': <tf.Tensor 'inputs_35:0' shape=(None,) dtype=float32>, 'phrase_diversity': <tf.Tensor 'inputs_26:0' shape=(None,) dtype=float32>, 'vocabulary': <tf.Tensor 'inputs_36:0' shape=(None,) dtype=float32>}. Consider rewriting this model with the Functional API.\n",
            "WARNING:tensorflow:Layers in a Sequential model should only have a single input tensor. Received: inputs={'number_of_words': <tf.Tensor 'number_of_words:0' shape=(None,) dtype=int64>, 'stopwords_frequency': <tf.Tensor 'stopwords_frequency:0' shape=(None,) dtype=float32>, 'av_word_per_sen': <tf.Tensor 'av_word_per_sen:0' shape=(None,) dtype=float32>, 'punctuations': <tf.Tensor 'punctuations:0' shape=(None,) dtype=float32>, 'ARI': <tf.Tensor 'ARI:0' shape=(None,) dtype=int64>, 'freq_of_verb': <tf.Tensor 'freq_of_verb:0' shape=(None,) dtype=float32>, 'freq_of_adj': <tf.Tensor 'freq_of_adj:0' shape=(None,) dtype=float32>, 'freq_of_adv': <tf.Tensor 'freq_of_adv:0' shape=(None,) dtype=float32>, 'freq_of_distinct_adj': <tf.Tensor 'freq_of_distinct_adj:0' shape=(None,) dtype=float32>, 'freq_of_distinct_adv': <tf.Tensor 'freq_of_distinct_adv:0' shape=(None,) dtype=float32>, 'sentence_complexity': <tf.Tensor 'sentence_complexity:0' shape=(None,) dtype=float32>, 'freq_of_wrong_words': <tf.Tensor 'freq_of_wrong_words:0' shape=(None,) dtype=float32>, 'sentiment_compound': <tf.Tensor 'sentiment_compound:0' shape=(None,) dtype=float32>, 'sentiment_positive': <tf.Tensor 'sentiment_positive:0' shape=(None,) dtype=float32>, 'sentiment_negative': <tf.Tensor 'sentiment_negative:0' shape=(None,) dtype=float32>, 'num_of_grammar_errors': <tf.Tensor 'num_of_grammar_errors:0' shape=(None,) dtype=int64>, 'corrected_text': <tf.Tensor 'corrected_text:0' shape=(None,) dtype=string>, 'num_of_short_forms': <tf.Tensor 'num_of_short_forms:0' shape=(None,) dtype=int64>, 'Incorrect_form_ratio': <tf.Tensor 'Incorrect_form_ratio:0' shape=(None,) dtype=float32>, 'flesch_reading_ease': <tf.Tensor 'flesch_reading_ease:0' shape=(None,) dtype=float32>, 'flesch_kincaid_grade': <tf.Tensor 'flesch_kincaid_grade:0' shape=(None,) dtype=float32>, 'dale_chall_readability_score': <tf.Tensor 'dale_chall_readability_score:0' shape=(None,) dtype=float32>, 'text_standard': <tf.Tensor 'text_standard:0' shape=(None,) dtype=float32>, 'mcalpine_eflaw': <tf.Tensor 'mcalpine_eflaw:0' shape=(None,) dtype=float32>, 'number_of_diff_words': <tf.Tensor 'number_of_diff_words:0' shape=(None,) dtype=int64>, 'freq_diff_words': <tf.Tensor 'freq_diff_words:0' shape=(None,) dtype=float32>, 'ttr': <tf.Tensor 'ttr:0' shape=(None,) dtype=float32>, 'coherence_score': <tf.Tensor 'coherence_score:0' shape=(None,) dtype=float32>, 'lexrank_avg_min_diff': <tf.Tensor 'lexrank_avg_min_diff:0' shape=(None,) dtype=float32>, 'lexrank_interquartile': <tf.Tensor 'lexrank_interquartile:0' shape=(None,) dtype=float32>, 'freq_of_noun': <tf.Tensor 'freq_of_noun:0' shape=(None,) dtype=float32>, 'freq_of_transition': <tf.Tensor 'freq_of_transition:0' shape=(None,) dtype=float32>, 'freq_of_pronoun': <tf.Tensor 'freq_of_pronoun:0' shape=(None,) dtype=float32>, 'noun_to_adj': <tf.Tensor 'noun_to_adj:0' shape=(None,) dtype=float32>, 'verb_to_adv': <tf.Tensor 'verb_to_adv:0' shape=(None,) dtype=float32>, 'phrase_diversity': <tf.Tensor 'phrase_diversity:0' shape=(None,) dtype=float32>, 'vocabulary': <tf.Tensor 'vocabulary:0' shape=(None,) dtype=float32>}. Consider rewriting this model with the Functional API.\n",
            "WARNING:tensorflow:Layers in a Sequential model should only have a single input tensor. Received: inputs={'number_of_words': <tf.Tensor 'number_of_words:0' shape=(None,) dtype=int64>, 'stopwords_frequency': <tf.Tensor 'stopwords_frequency:0' shape=(None,) dtype=float32>, 'av_word_per_sen': <tf.Tensor 'av_word_per_sen:0' shape=(None,) dtype=float32>, 'punctuations': <tf.Tensor 'punctuations:0' shape=(None,) dtype=float32>, 'ARI': <tf.Tensor 'ARI:0' shape=(None,) dtype=int64>, 'freq_of_verb': <tf.Tensor 'freq_of_verb:0' shape=(None,) dtype=float32>, 'freq_of_adj': <tf.Tensor 'freq_of_adj:0' shape=(None,) dtype=float32>, 'freq_of_adv': <tf.Tensor 'freq_of_adv:0' shape=(None,) dtype=float32>, 'freq_of_distinct_adj': <tf.Tensor 'freq_of_distinct_adj:0' shape=(None,) dtype=float32>, 'freq_of_distinct_adv': <tf.Tensor 'freq_of_distinct_adv:0' shape=(None,) dtype=float32>, 'sentence_complexity': <tf.Tensor 'sentence_complexity:0' shape=(None,) dtype=float32>, 'freq_of_wrong_words': <tf.Tensor 'freq_of_wrong_words:0' shape=(None,) dtype=float32>, 'sentiment_compound': <tf.Tensor 'sentiment_compound:0' shape=(None,) dtype=float32>, 'sentiment_positive': <tf.Tensor 'sentiment_positive:0' shape=(None,) dtype=float32>, 'sentiment_negative': <tf.Tensor 'sentiment_negative:0' shape=(None,) dtype=float32>, 'num_of_grammar_errors': <tf.Tensor 'num_of_grammar_errors:0' shape=(None,) dtype=int64>, 'corrected_text': <tf.Tensor 'corrected_text:0' shape=(None,) dtype=string>, 'num_of_short_forms': <tf.Tensor 'num_of_short_forms:0' shape=(None,) dtype=int64>, 'Incorrect_form_ratio': <tf.Tensor 'Incorrect_form_ratio:0' shape=(None,) dtype=float32>, 'flesch_reading_ease': <tf.Tensor 'flesch_reading_ease:0' shape=(None,) dtype=float32>, 'flesch_kincaid_grade': <tf.Tensor 'flesch_kincaid_grade:0' shape=(None,) dtype=float32>, 'dale_chall_readability_score': <tf.Tensor 'dale_chall_readability_score:0' shape=(None,) dtype=float32>, 'text_standard': <tf.Tensor 'text_standard:0' shape=(None,) dtype=float32>, 'mcalpine_eflaw': <tf.Tensor 'mcalpine_eflaw:0' shape=(None,) dtype=float32>, 'number_of_diff_words': <tf.Tensor 'number_of_diff_words:0' shape=(None,) dtype=int64>, 'freq_diff_words': <tf.Tensor 'freq_diff_words:0' shape=(None,) dtype=float32>, 'ttr': <tf.Tensor 'ttr:0' shape=(None,) dtype=float32>, 'coherence_score': <tf.Tensor 'coherence_score:0' shape=(None,) dtype=float32>, 'lexrank_avg_min_diff': <tf.Tensor 'lexrank_avg_min_diff:0' shape=(None,) dtype=float32>, 'lexrank_interquartile': <tf.Tensor 'lexrank_interquartile:0' shape=(None,) dtype=float32>, 'freq_of_noun': <tf.Tensor 'freq_of_noun:0' shape=(None,) dtype=float32>, 'freq_of_transition': <tf.Tensor 'freq_of_transition:0' shape=(None,) dtype=float32>, 'freq_of_pronoun': <tf.Tensor 'freq_of_pronoun:0' shape=(None,) dtype=float32>, 'noun_to_adj': <tf.Tensor 'noun_to_adj:0' shape=(None,) dtype=float32>, 'verb_to_adv': <tf.Tensor 'verb_to_adv:0' shape=(None,) dtype=float32>, 'phrase_diversity': <tf.Tensor 'phrase_diversity:0' shape=(None,) dtype=float32>, 'vocabulary': <tf.Tensor 'vocabulary:0' shape=(None,) dtype=float32>}. Consider rewriting this model with the Functional API.\n",
            "WARNING:absl:Function `_wrapped_model` contains input name(s) ARI, Incorrect_form_ratio with unsupported characters which will be renamed to ari, incorrect_form_ratio in the SavedModel.\n",
            "WARNING:tensorflow:Layers in a Sequential model should only have a single input tensor. Received: inputs={'number_of_words': <tf.Tensor 'inputs/number_of_words:0' shape=(None,) dtype=int64>, 'stopwords_frequency': <tf.Tensor 'inputs/stopwords_frequency:0' shape=(None,) dtype=float32>, 'av_word_per_sen': <tf.Tensor 'inputs/av_word_per_sen:0' shape=(None,) dtype=float32>, 'punctuations': <tf.Tensor 'inputs/punctuations:0' shape=(None,) dtype=float32>, 'ARI': <tf.Tensor 'inputs/ARI:0' shape=(None,) dtype=int64>, 'freq_of_verb': <tf.Tensor 'inputs/freq_of_verb:0' shape=(None,) dtype=float32>, 'freq_of_adj': <tf.Tensor 'inputs/freq_of_adj:0' shape=(None,) dtype=float32>, 'freq_of_adv': <tf.Tensor 'inputs/freq_of_adv:0' shape=(None,) dtype=float32>, 'freq_of_distinct_adj': <tf.Tensor 'inputs/freq_of_distinct_adj:0' shape=(None,) dtype=float32>, 'freq_of_distinct_adv': <tf.Tensor 'inputs/freq_of_distinct_adv:0' shape=(None,) dtype=float32>, 'sentence_complexity': <tf.Tensor 'inputs/sentence_complexity:0' shape=(None,) dtype=float32>, 'freq_of_wrong_words': <tf.Tensor 'inputs/freq_of_wrong_words:0' shape=(None,) dtype=float32>, 'sentiment_compound': <tf.Tensor 'inputs/sentiment_compound:0' shape=(None,) dtype=float32>, 'sentiment_positive': <tf.Tensor 'inputs/sentiment_positive:0' shape=(None,) dtype=float32>, 'sentiment_negative': <tf.Tensor 'inputs/sentiment_negative:0' shape=(None,) dtype=float32>, 'num_of_grammar_errors': <tf.Tensor 'inputs/num_of_grammar_errors:0' shape=(None,) dtype=int64>, 'corrected_text': <tf.Tensor 'inputs/corrected_text:0' shape=(None,) dtype=string>, 'num_of_short_forms': <tf.Tensor 'inputs/num_of_short_forms:0' shape=(None,) dtype=int64>, 'Incorrect_form_ratio': <tf.Tensor 'inputs/Incorrect_form_ratio:0' shape=(None,) dtype=float32>, 'flesch_reading_ease': <tf.Tensor 'inputs/flesch_reading_ease:0' shape=(None,) dtype=float32>, 'flesch_kincaid_grade': <tf.Tensor 'inputs/flesch_kincaid_grade:0' shape=(None,) dtype=float32>, 'dale_chall_readability_score': <tf.Tensor 'inputs/dale_chall_readability_score:0' shape=(None,) dtype=float32>, 'text_standard': <tf.Tensor 'inputs/text_standard:0' shape=(None,) dtype=float32>, 'mcalpine_eflaw': <tf.Tensor 'inputs/mcalpine_eflaw:0' shape=(None,) dtype=float32>, 'number_of_diff_words': <tf.Tensor 'inputs/number_of_diff_words:0' shape=(None,) dtype=int64>, 'freq_diff_words': <tf.Tensor 'inputs/freq_diff_words:0' shape=(None,) dtype=float32>, 'ttr': <tf.Tensor 'inputs/ttr:0' shape=(None,) dtype=float32>, 'coherence_score': <tf.Tensor 'inputs/coherence_score:0' shape=(None,) dtype=float32>, 'lexrank_avg_min_diff': <tf.Tensor 'inputs/lexrank_avg_min_diff:0' shape=(None,) dtype=float32>, 'lexrank_interquartile': <tf.Tensor 'inputs/lexrank_interquartile:0' shape=(None,) dtype=float32>, 'freq_of_noun': <tf.Tensor 'inputs/freq_of_noun:0' shape=(None,) dtype=float32>, 'freq_of_transition': <tf.Tensor 'inputs/freq_of_transition:0' shape=(None,) dtype=float32>, 'freq_of_pronoun': <tf.Tensor 'inputs/freq_of_pronoun:0' shape=(None,) dtype=float32>, 'noun_to_adj': <tf.Tensor 'inputs/noun_to_adj:0' shape=(None,) dtype=float32>, 'verb_to_adv': <tf.Tensor 'inputs/verb_to_adv:0' shape=(None,) dtype=float32>, 'phrase_diversity': <tf.Tensor 'inputs/phrase_diversity:0' shape=(None,) dtype=float32>, 'vocabulary': <tf.Tensor 'inputs/vocabulary:0' shape=(None,) dtype=float32>}. Consider rewriting this model with the Functional API.\n",
            "WARNING:tensorflow:Layers in a Sequential model should only have a single input tensor. Received: inputs={'number_of_words': <tf.Tensor 'inputs/number_of_words:0' shape=(None,) dtype=int64>, 'stopwords_frequency': <tf.Tensor 'inputs/stopwords_frequency:0' shape=(None,) dtype=float32>, 'av_word_per_sen': <tf.Tensor 'inputs/av_word_per_sen:0' shape=(None,) dtype=float32>, 'punctuations': <tf.Tensor 'inputs/punctuations:0' shape=(None,) dtype=float32>, 'ARI': <tf.Tensor 'inputs/ARI:0' shape=(None,) dtype=int64>, 'freq_of_verb': <tf.Tensor 'inputs/freq_of_verb:0' shape=(None,) dtype=float32>, 'freq_of_adj': <tf.Tensor 'inputs/freq_of_adj:0' shape=(None,) dtype=float32>, 'freq_of_adv': <tf.Tensor 'inputs/freq_of_adv:0' shape=(None,) dtype=float32>, 'freq_of_distinct_adj': <tf.Tensor 'inputs/freq_of_distinct_adj:0' shape=(None,) dtype=float32>, 'freq_of_distinct_adv': <tf.Tensor 'inputs/freq_of_distinct_adv:0' shape=(None,) dtype=float32>, 'sentence_complexity': <tf.Tensor 'inputs/sentence_complexity:0' shape=(None,) dtype=float32>, 'freq_of_wrong_words': <tf.Tensor 'inputs/freq_of_wrong_words:0' shape=(None,) dtype=float32>, 'sentiment_compound': <tf.Tensor 'inputs/sentiment_compound:0' shape=(None,) dtype=float32>, 'sentiment_positive': <tf.Tensor 'inputs/sentiment_positive:0' shape=(None,) dtype=float32>, 'sentiment_negative': <tf.Tensor 'inputs/sentiment_negative:0' shape=(None,) dtype=float32>, 'num_of_grammar_errors': <tf.Tensor 'inputs/num_of_grammar_errors:0' shape=(None,) dtype=int64>, 'corrected_text': <tf.Tensor 'inputs/corrected_text:0' shape=(None,) dtype=string>, 'num_of_short_forms': <tf.Tensor 'inputs/num_of_short_forms:0' shape=(None,) dtype=int64>, 'Incorrect_form_ratio': <tf.Tensor 'inputs/Incorrect_form_ratio:0' shape=(None,) dtype=float32>, 'flesch_reading_ease': <tf.Tensor 'inputs/flesch_reading_ease:0' shape=(None,) dtype=float32>, 'flesch_kincaid_grade': <tf.Tensor 'inputs/flesch_kincaid_grade:0' shape=(None,) dtype=float32>, 'dale_chall_readability_score': <tf.Tensor 'inputs/dale_chall_readability_score:0' shape=(None,) dtype=float32>, 'text_standard': <tf.Tensor 'inputs/text_standard:0' shape=(None,) dtype=float32>, 'mcalpine_eflaw': <tf.Tensor 'inputs/mcalpine_eflaw:0' shape=(None,) dtype=float32>, 'number_of_diff_words': <tf.Tensor 'inputs/number_of_diff_words:0' shape=(None,) dtype=int64>, 'freq_diff_words': <tf.Tensor 'inputs/freq_diff_words:0' shape=(None,) dtype=float32>, 'ttr': <tf.Tensor 'inputs/ttr:0' shape=(None,) dtype=float32>, 'coherence_score': <tf.Tensor 'inputs/coherence_score:0' shape=(None,) dtype=float32>, 'lexrank_avg_min_diff': <tf.Tensor 'inputs/lexrank_avg_min_diff:0' shape=(None,) dtype=float32>, 'lexrank_interquartile': <tf.Tensor 'inputs/lexrank_interquartile:0' shape=(None,) dtype=float32>, 'freq_of_noun': <tf.Tensor 'inputs/freq_of_noun:0' shape=(None,) dtype=float32>, 'freq_of_transition': <tf.Tensor 'inputs/freq_of_transition:0' shape=(None,) dtype=float32>, 'freq_of_pronoun': <tf.Tensor 'inputs/freq_of_pronoun:0' shape=(None,) dtype=float32>, 'noun_to_adj': <tf.Tensor 'inputs/noun_to_adj:0' shape=(None,) dtype=float32>, 'verb_to_adv': <tf.Tensor 'inputs/verb_to_adv:0' shape=(None,) dtype=float32>, 'phrase_diversity': <tf.Tensor 'inputs/phrase_diversity:0' shape=(None,) dtype=float32>, 'vocabulary': <tf.Tensor 'inputs/vocabulary:0' shape=(None,) dtype=float32>}. Consider rewriting this model with the Functional API.\n"
          ]
        }
      ]
    },
    {
      "cell_type": "code",
      "source": [
        "nn_model_vocabulary = pickle.load(open(\"nn_model_vocabulary.sav\", 'rb'))\n",
        "nn_model_cohesion = pickle.load(open(\"nn_model_cohesion.sav\", 'rb'))"
      ],
      "metadata": {
        "id": "Y6KZhhzPKo1-"
      },
      "id": "Y6KZhhzPKo1-",
      "execution_count": null,
      "outputs": []
    },
    {
      "cell_type": "code",
      "source": [
        "model_vocabulary_json = model_deep.to_json()\n",
        "model_cohesion_json = model_deep_cohesion.to_json()"
      ],
      "metadata": {
        "id": "CTu9J4nGaHO6"
      },
      "id": "CTu9J4nGaHO6",
      "execution_count": null,
      "outputs": []
    },
    {
      "cell_type": "code",
      "source": [
        "with open(\"model_vocabulary_json.json\", \"w\") as json_file:\n",
        "    json_file.write(model_vocabulary_json)\n",
        "with open(\"model_cohesion_json.json\", \"w\") as json_file:\n",
        "    json_file.write(model_cohesion_json)"
      ],
      "metadata": {
        "id": "8r0CyM17acih"
      },
      "id": "8r0CyM17acih",
      "execution_count": null,
      "outputs": []
    },
    {
      "cell_type": "code",
      "source": [
        "save_path = 'model_nn_vocabulary'\n",
        "model_deep.save(save_path)"
      ],
      "metadata": {
        "colab": {
          "base_uri": "https://localhost:8080/"
        },
        "id": "t1Uu6FeM_rB6",
        "outputId": "85ee4ca3-8e2c-4fce-d5ec-55bb26e55fcf"
      },
      "id": "t1Uu6FeM_rB6",
      "execution_count": null,
      "outputs": [
        {
          "output_type": "stream",
          "name": "stderr",
          "text": [
            "WARNING:tensorflow:Layers in a Sequential model should only have a single input tensor. Received: inputs={'number_of_words': <tf.Tensor 'number_of_words:0' shape=(None,) dtype=int64>, 'stopwords_frequency': <tf.Tensor 'stopwords_frequency:0' shape=(None,) dtype=float32>, 'av_word_per_sen': <tf.Tensor 'av_word_per_sen:0' shape=(None,) dtype=float32>, 'punctuations': <tf.Tensor 'punctuations:0' shape=(None,) dtype=float32>, 'ARI': <tf.Tensor 'ARI:0' shape=(None,) dtype=int64>, 'freq_of_verb': <tf.Tensor 'freq_of_verb:0' shape=(None,) dtype=float32>, 'freq_of_adj': <tf.Tensor 'freq_of_adj:0' shape=(None,) dtype=float32>, 'freq_of_adv': <tf.Tensor 'freq_of_adv:0' shape=(None,) dtype=float32>, 'freq_of_distinct_adj': <tf.Tensor 'freq_of_distinct_adj:0' shape=(None,) dtype=float32>, 'freq_of_distinct_adv': <tf.Tensor 'freq_of_distinct_adv:0' shape=(None,) dtype=float32>, 'sentence_complexity': <tf.Tensor 'sentence_complexity:0' shape=(None,) dtype=float32>, 'freq_of_wrong_words': <tf.Tensor 'freq_of_wrong_words:0' shape=(None,) dtype=float32>, 'sentiment_compound': <tf.Tensor 'sentiment_compound:0' shape=(None,) dtype=float32>, 'sentiment_positive': <tf.Tensor 'sentiment_positive:0' shape=(None,) dtype=float32>, 'sentiment_negative': <tf.Tensor 'sentiment_negative:0' shape=(None,) dtype=float32>, 'num_of_grammar_errors': <tf.Tensor 'num_of_grammar_errors:0' shape=(None,) dtype=int64>, 'corrected_text': <tf.Tensor 'corrected_text:0' shape=(None,) dtype=string>, 'num_of_short_forms': <tf.Tensor 'num_of_short_forms:0' shape=(None,) dtype=int64>, 'Incorrect_form_ratio': <tf.Tensor 'Incorrect_form_ratio:0' shape=(None,) dtype=float32>, 'flesch_reading_ease': <tf.Tensor 'flesch_reading_ease:0' shape=(None,) dtype=float32>, 'flesch_kincaid_grade': <tf.Tensor 'flesch_kincaid_grade:0' shape=(None,) dtype=float32>, 'dale_chall_readability_score': <tf.Tensor 'dale_chall_readability_score:0' shape=(None,) dtype=float32>, 'text_standard': <tf.Tensor 'text_standard:0' shape=(None,) dtype=float32>, 'mcalpine_eflaw': <tf.Tensor 'mcalpine_eflaw:0' shape=(None,) dtype=float32>, 'number_of_diff_words': <tf.Tensor 'number_of_diff_words:0' shape=(None,) dtype=int64>, 'freq_diff_words': <tf.Tensor 'freq_diff_words:0' shape=(None,) dtype=float32>, 'ttr': <tf.Tensor 'ttr:0' shape=(None,) dtype=float32>, 'coherence_score': <tf.Tensor 'coherence_score:0' shape=(None,) dtype=float32>, 'lexrank_avg_min_diff': <tf.Tensor 'lexrank_avg_min_diff:0' shape=(None,) dtype=float32>, 'lexrank_interquartile': <tf.Tensor 'lexrank_interquartile:0' shape=(None,) dtype=float32>, 'freq_of_noun': <tf.Tensor 'freq_of_noun:0' shape=(None,) dtype=float32>, 'freq_of_transition': <tf.Tensor 'freq_of_transition:0' shape=(None,) dtype=float32>, 'freq_of_pronoun': <tf.Tensor 'freq_of_pronoun:0' shape=(None,) dtype=float32>, 'noun_to_adj': <tf.Tensor 'noun_to_adj:0' shape=(None,) dtype=float32>, 'verb_to_adv': <tf.Tensor 'verb_to_adv:0' shape=(None,) dtype=float32>, 'phrase_diversity': <tf.Tensor 'phrase_diversity:0' shape=(None,) dtype=float32>, 'cohesion': <tf.Tensor 'cohesion:0' shape=(None,) dtype=float32>}. Consider rewriting this model with the Functional API.\n",
            "WARNING:tensorflow:Layers in a Sequential model should only have a single input tensor. Received: inputs={'number_of_words': <tf.Tensor 'inputs_26:0' shape=(None,) dtype=int64>, 'stopwords_frequency': <tf.Tensor 'inputs_33:0' shape=(None,) dtype=float32>, 'av_word_per_sen': <tf.Tensor 'inputs_2:0' shape=(None,) dtype=float32>, 'punctuations': <tf.Tensor 'inputs_28:0' shape=(None,) dtype=float32>, 'ARI': <tf.Tensor 'inputs:0' shape=(None,) dtype=int64>, 'freq_of_verb': <tf.Tensor 'inputs_17:0' shape=(None,) dtype=float32>, 'freq_of_adj': <tf.Tensor 'inputs_10:0' shape=(None,) dtype=float32>, 'freq_of_adv': <tf.Tensor 'inputs_11:0' shape=(None,) dtype=float32>, 'freq_of_distinct_adj': <tf.Tensor 'inputs_12:0' shape=(None,) dtype=float32>, 'freq_of_distinct_adv': <tf.Tensor 'inputs_13:0' shape=(None,) dtype=float32>, 'sentence_complexity': <tf.Tensor 'inputs_29:0' shape=(None,) dtype=float32>, 'freq_of_wrong_words': <tf.Tensor 'inputs_18:0' shape=(None,) dtype=float32>, 'sentiment_compound': <tf.Tensor 'inputs_30:0' shape=(None,) dtype=float32>, 'sentiment_positive': <tf.Tensor 'inputs_32:0' shape=(None,) dtype=float32>, 'sentiment_negative': <tf.Tensor 'inputs_31:0' shape=(None,) dtype=float32>, 'num_of_grammar_errors': <tf.Tensor 'inputs_23:0' shape=(None,) dtype=int64>, 'corrected_text': <tf.Tensor 'inputs_5:0' shape=(None,) dtype=string>, 'num_of_short_forms': <tf.Tensor 'inputs_24:0' shape=(None,) dtype=int64>, 'Incorrect_form_ratio': <tf.Tensor 'inputs_1:0' shape=(None,) dtype=float32>, 'flesch_reading_ease': <tf.Tensor 'inputs_8:0' shape=(None,) dtype=float32>, 'flesch_kincaid_grade': <tf.Tensor 'inputs_7:0' shape=(None,) dtype=float32>, 'dale_chall_readability_score': <tf.Tensor 'inputs_6:0' shape=(None,) dtype=float32>, 'text_standard': <tf.Tensor 'inputs_34:0' shape=(None,) dtype=float32>, 'mcalpine_eflaw': <tf.Tensor 'inputs_21:0' shape=(None,) dtype=float32>, 'number_of_diff_words': <tf.Tensor 'inputs_25:0' shape=(None,) dtype=int64>, 'freq_diff_words': <tf.Tensor 'inputs_9:0' shape=(None,) dtype=float32>, 'ttr': <tf.Tensor 'inputs_35:0' shape=(None,) dtype=float32>, 'coherence_score': <tf.Tensor 'inputs_3:0' shape=(None,) dtype=float32>, 'lexrank_avg_min_diff': <tf.Tensor 'inputs_19:0' shape=(None,) dtype=float32>, 'lexrank_interquartile': <tf.Tensor 'inputs_20:0' shape=(None,) dtype=float32>, 'freq_of_noun': <tf.Tensor 'inputs_14:0' shape=(None,) dtype=float32>, 'freq_of_transition': <tf.Tensor 'inputs_16:0' shape=(None,) dtype=float32>, 'freq_of_pronoun': <tf.Tensor 'inputs_15:0' shape=(None,) dtype=float32>, 'noun_to_adj': <tf.Tensor 'inputs_22:0' shape=(None,) dtype=float32>, 'verb_to_adv': <tf.Tensor 'inputs_36:0' shape=(None,) dtype=float32>, 'phrase_diversity': <tf.Tensor 'inputs_27:0' shape=(None,) dtype=float32>, 'cohesion': <tf.Tensor 'inputs_4:0' shape=(None,) dtype=float32>}. Consider rewriting this model with the Functional API.\n",
            "WARNING:tensorflow:Layers in a Sequential model should only have a single input tensor. Received: inputs={'number_of_words': <tf.Tensor 'inputs_26:0' shape=(None,) dtype=int64>, 'stopwords_frequency': <tf.Tensor 'inputs_33:0' shape=(None,) dtype=float32>, 'av_word_per_sen': <tf.Tensor 'inputs_2:0' shape=(None,) dtype=float32>, 'punctuations': <tf.Tensor 'inputs_28:0' shape=(None,) dtype=float32>, 'ARI': <tf.Tensor 'inputs:0' shape=(None,) dtype=int64>, 'freq_of_verb': <tf.Tensor 'inputs_17:0' shape=(None,) dtype=float32>, 'freq_of_adj': <tf.Tensor 'inputs_10:0' shape=(None,) dtype=float32>, 'freq_of_adv': <tf.Tensor 'inputs_11:0' shape=(None,) dtype=float32>, 'freq_of_distinct_adj': <tf.Tensor 'inputs_12:0' shape=(None,) dtype=float32>, 'freq_of_distinct_adv': <tf.Tensor 'inputs_13:0' shape=(None,) dtype=float32>, 'sentence_complexity': <tf.Tensor 'inputs_29:0' shape=(None,) dtype=float32>, 'freq_of_wrong_words': <tf.Tensor 'inputs_18:0' shape=(None,) dtype=float32>, 'sentiment_compound': <tf.Tensor 'inputs_30:0' shape=(None,) dtype=float32>, 'sentiment_positive': <tf.Tensor 'inputs_32:0' shape=(None,) dtype=float32>, 'sentiment_negative': <tf.Tensor 'inputs_31:0' shape=(None,) dtype=float32>, 'num_of_grammar_errors': <tf.Tensor 'inputs_23:0' shape=(None,) dtype=int64>, 'corrected_text': <tf.Tensor 'inputs_5:0' shape=(None,) dtype=string>, 'num_of_short_forms': <tf.Tensor 'inputs_24:0' shape=(None,) dtype=int64>, 'Incorrect_form_ratio': <tf.Tensor 'inputs_1:0' shape=(None,) dtype=float32>, 'flesch_reading_ease': <tf.Tensor 'inputs_8:0' shape=(None,) dtype=float32>, 'flesch_kincaid_grade': <tf.Tensor 'inputs_7:0' shape=(None,) dtype=float32>, 'dale_chall_readability_score': <tf.Tensor 'inputs_6:0' shape=(None,) dtype=float32>, 'text_standard': <tf.Tensor 'inputs_34:0' shape=(None,) dtype=float32>, 'mcalpine_eflaw': <tf.Tensor 'inputs_21:0' shape=(None,) dtype=float32>, 'number_of_diff_words': <tf.Tensor 'inputs_25:0' shape=(None,) dtype=int64>, 'freq_diff_words': <tf.Tensor 'inputs_9:0' shape=(None,) dtype=float32>, 'ttr': <tf.Tensor 'inputs_35:0' shape=(None,) dtype=float32>, 'coherence_score': <tf.Tensor 'inputs_3:0' shape=(None,) dtype=float32>, 'lexrank_avg_min_diff': <tf.Tensor 'inputs_19:0' shape=(None,) dtype=float32>, 'lexrank_interquartile': <tf.Tensor 'inputs_20:0' shape=(None,) dtype=float32>, 'freq_of_noun': <tf.Tensor 'inputs_14:0' shape=(None,) dtype=float32>, 'freq_of_transition': <tf.Tensor 'inputs_16:0' shape=(None,) dtype=float32>, 'freq_of_pronoun': <tf.Tensor 'inputs_15:0' shape=(None,) dtype=float32>, 'noun_to_adj': <tf.Tensor 'inputs_22:0' shape=(None,) dtype=float32>, 'verb_to_adv': <tf.Tensor 'inputs_36:0' shape=(None,) dtype=float32>, 'phrase_diversity': <tf.Tensor 'inputs_27:0' shape=(None,) dtype=float32>, 'cohesion': <tf.Tensor 'inputs_4:0' shape=(None,) dtype=float32>}. Consider rewriting this model with the Functional API.\n",
            "WARNING:tensorflow:Layers in a Sequential model should only have a single input tensor. Received: inputs={'number_of_words': <tf.Tensor 'number_of_words:0' shape=(None,) dtype=int64>, 'stopwords_frequency': <tf.Tensor 'stopwords_frequency:0' shape=(None,) dtype=float32>, 'av_word_per_sen': <tf.Tensor 'av_word_per_sen:0' shape=(None,) dtype=float32>, 'punctuations': <tf.Tensor 'punctuations:0' shape=(None,) dtype=float32>, 'ARI': <tf.Tensor 'ARI:0' shape=(None,) dtype=int64>, 'freq_of_verb': <tf.Tensor 'freq_of_verb:0' shape=(None,) dtype=float32>, 'freq_of_adj': <tf.Tensor 'freq_of_adj:0' shape=(None,) dtype=float32>, 'freq_of_adv': <tf.Tensor 'freq_of_adv:0' shape=(None,) dtype=float32>, 'freq_of_distinct_adj': <tf.Tensor 'freq_of_distinct_adj:0' shape=(None,) dtype=float32>, 'freq_of_distinct_adv': <tf.Tensor 'freq_of_distinct_adv:0' shape=(None,) dtype=float32>, 'sentence_complexity': <tf.Tensor 'sentence_complexity:0' shape=(None,) dtype=float32>, 'freq_of_wrong_words': <tf.Tensor 'freq_of_wrong_words:0' shape=(None,) dtype=float32>, 'sentiment_compound': <tf.Tensor 'sentiment_compound:0' shape=(None,) dtype=float32>, 'sentiment_positive': <tf.Tensor 'sentiment_positive:0' shape=(None,) dtype=float32>, 'sentiment_negative': <tf.Tensor 'sentiment_negative:0' shape=(None,) dtype=float32>, 'num_of_grammar_errors': <tf.Tensor 'num_of_grammar_errors:0' shape=(None,) dtype=int64>, 'corrected_text': <tf.Tensor 'corrected_text:0' shape=(None,) dtype=string>, 'num_of_short_forms': <tf.Tensor 'num_of_short_forms:0' shape=(None,) dtype=int64>, 'Incorrect_form_ratio': <tf.Tensor 'Incorrect_form_ratio:0' shape=(None,) dtype=float32>, 'flesch_reading_ease': <tf.Tensor 'flesch_reading_ease:0' shape=(None,) dtype=float32>, 'flesch_kincaid_grade': <tf.Tensor 'flesch_kincaid_grade:0' shape=(None,) dtype=float32>, 'dale_chall_readability_score': <tf.Tensor 'dale_chall_readability_score:0' shape=(None,) dtype=float32>, 'text_standard': <tf.Tensor 'text_standard:0' shape=(None,) dtype=float32>, 'mcalpine_eflaw': <tf.Tensor 'mcalpine_eflaw:0' shape=(None,) dtype=float32>, 'number_of_diff_words': <tf.Tensor 'number_of_diff_words:0' shape=(None,) dtype=int64>, 'freq_diff_words': <tf.Tensor 'freq_diff_words:0' shape=(None,) dtype=float32>, 'ttr': <tf.Tensor 'ttr:0' shape=(None,) dtype=float32>, 'coherence_score': <tf.Tensor 'coherence_score:0' shape=(None,) dtype=float32>, 'lexrank_avg_min_diff': <tf.Tensor 'lexrank_avg_min_diff:0' shape=(None,) dtype=float32>, 'lexrank_interquartile': <tf.Tensor 'lexrank_interquartile:0' shape=(None,) dtype=float32>, 'freq_of_noun': <tf.Tensor 'freq_of_noun:0' shape=(None,) dtype=float32>, 'freq_of_transition': <tf.Tensor 'freq_of_transition:0' shape=(None,) dtype=float32>, 'freq_of_pronoun': <tf.Tensor 'freq_of_pronoun:0' shape=(None,) dtype=float32>, 'noun_to_adj': <tf.Tensor 'noun_to_adj:0' shape=(None,) dtype=float32>, 'verb_to_adv': <tf.Tensor 'verb_to_adv:0' shape=(None,) dtype=float32>, 'phrase_diversity': <tf.Tensor 'phrase_diversity:0' shape=(None,) dtype=float32>, 'cohesion': <tf.Tensor 'cohesion:0' shape=(None,) dtype=float32>}. Consider rewriting this model with the Functional API.\n",
            "WARNING:tensorflow:Layers in a Sequential model should only have a single input tensor. Received: inputs={'number_of_words': <tf.Tensor 'number_of_words:0' shape=(None,) dtype=int64>, 'stopwords_frequency': <tf.Tensor 'stopwords_frequency:0' shape=(None,) dtype=float32>, 'av_word_per_sen': <tf.Tensor 'av_word_per_sen:0' shape=(None,) dtype=float32>, 'punctuations': <tf.Tensor 'punctuations:0' shape=(None,) dtype=float32>, 'ARI': <tf.Tensor 'ARI:0' shape=(None,) dtype=int64>, 'freq_of_verb': <tf.Tensor 'freq_of_verb:0' shape=(None,) dtype=float32>, 'freq_of_adj': <tf.Tensor 'freq_of_adj:0' shape=(None,) dtype=float32>, 'freq_of_adv': <tf.Tensor 'freq_of_adv:0' shape=(None,) dtype=float32>, 'freq_of_distinct_adj': <tf.Tensor 'freq_of_distinct_adj:0' shape=(None,) dtype=float32>, 'freq_of_distinct_adv': <tf.Tensor 'freq_of_distinct_adv:0' shape=(None,) dtype=float32>, 'sentence_complexity': <tf.Tensor 'sentence_complexity:0' shape=(None,) dtype=float32>, 'freq_of_wrong_words': <tf.Tensor 'freq_of_wrong_words:0' shape=(None,) dtype=float32>, 'sentiment_compound': <tf.Tensor 'sentiment_compound:0' shape=(None,) dtype=float32>, 'sentiment_positive': <tf.Tensor 'sentiment_positive:0' shape=(None,) dtype=float32>, 'sentiment_negative': <tf.Tensor 'sentiment_negative:0' shape=(None,) dtype=float32>, 'num_of_grammar_errors': <tf.Tensor 'num_of_grammar_errors:0' shape=(None,) dtype=int64>, 'corrected_text': <tf.Tensor 'corrected_text:0' shape=(None,) dtype=string>, 'num_of_short_forms': <tf.Tensor 'num_of_short_forms:0' shape=(None,) dtype=int64>, 'Incorrect_form_ratio': <tf.Tensor 'Incorrect_form_ratio:0' shape=(None,) dtype=float32>, 'flesch_reading_ease': <tf.Tensor 'flesch_reading_ease:0' shape=(None,) dtype=float32>, 'flesch_kincaid_grade': <tf.Tensor 'flesch_kincaid_grade:0' shape=(None,) dtype=float32>, 'dale_chall_readability_score': <tf.Tensor 'dale_chall_readability_score:0' shape=(None,) dtype=float32>, 'text_standard': <tf.Tensor 'text_standard:0' shape=(None,) dtype=float32>, 'mcalpine_eflaw': <tf.Tensor 'mcalpine_eflaw:0' shape=(None,) dtype=float32>, 'number_of_diff_words': <tf.Tensor 'number_of_diff_words:0' shape=(None,) dtype=int64>, 'freq_diff_words': <tf.Tensor 'freq_diff_words:0' shape=(None,) dtype=float32>, 'ttr': <tf.Tensor 'ttr:0' shape=(None,) dtype=float32>, 'coherence_score': <tf.Tensor 'coherence_score:0' shape=(None,) dtype=float32>, 'lexrank_avg_min_diff': <tf.Tensor 'lexrank_avg_min_diff:0' shape=(None,) dtype=float32>, 'lexrank_interquartile': <tf.Tensor 'lexrank_interquartile:0' shape=(None,) dtype=float32>, 'freq_of_noun': <tf.Tensor 'freq_of_noun:0' shape=(None,) dtype=float32>, 'freq_of_transition': <tf.Tensor 'freq_of_transition:0' shape=(None,) dtype=float32>, 'freq_of_pronoun': <tf.Tensor 'freq_of_pronoun:0' shape=(None,) dtype=float32>, 'noun_to_adj': <tf.Tensor 'noun_to_adj:0' shape=(None,) dtype=float32>, 'verb_to_adv': <tf.Tensor 'verb_to_adv:0' shape=(None,) dtype=float32>, 'phrase_diversity': <tf.Tensor 'phrase_diversity:0' shape=(None,) dtype=float32>, 'cohesion': <tf.Tensor 'cohesion:0' shape=(None,) dtype=float32>}. Consider rewriting this model with the Functional API.\n",
            "WARNING:absl:Function `_wrapped_model` contains input name(s) ARI, Incorrect_form_ratio with unsupported characters which will be renamed to ari, incorrect_form_ratio in the SavedModel.\n",
            "WARNING:tensorflow:Layers in a Sequential model should only have a single input tensor. Received: inputs={'number_of_words': <tf.Tensor 'inputs/number_of_words:0' shape=(None,) dtype=int64>, 'stopwords_frequency': <tf.Tensor 'inputs/stopwords_frequency:0' shape=(None,) dtype=float32>, 'av_word_per_sen': <tf.Tensor 'inputs/av_word_per_sen:0' shape=(None,) dtype=float32>, 'punctuations': <tf.Tensor 'inputs/punctuations:0' shape=(None,) dtype=float32>, 'ARI': <tf.Tensor 'inputs/ARI:0' shape=(None,) dtype=int64>, 'freq_of_verb': <tf.Tensor 'inputs/freq_of_verb:0' shape=(None,) dtype=float32>, 'freq_of_adj': <tf.Tensor 'inputs/freq_of_adj:0' shape=(None,) dtype=float32>, 'freq_of_adv': <tf.Tensor 'inputs/freq_of_adv:0' shape=(None,) dtype=float32>, 'freq_of_distinct_adj': <tf.Tensor 'inputs/freq_of_distinct_adj:0' shape=(None,) dtype=float32>, 'freq_of_distinct_adv': <tf.Tensor 'inputs/freq_of_distinct_adv:0' shape=(None,) dtype=float32>, 'sentence_complexity': <tf.Tensor 'inputs/sentence_complexity:0' shape=(None,) dtype=float32>, 'freq_of_wrong_words': <tf.Tensor 'inputs/freq_of_wrong_words:0' shape=(None,) dtype=float32>, 'sentiment_compound': <tf.Tensor 'inputs/sentiment_compound:0' shape=(None,) dtype=float32>, 'sentiment_positive': <tf.Tensor 'inputs/sentiment_positive:0' shape=(None,) dtype=float32>, 'sentiment_negative': <tf.Tensor 'inputs/sentiment_negative:0' shape=(None,) dtype=float32>, 'num_of_grammar_errors': <tf.Tensor 'inputs/num_of_grammar_errors:0' shape=(None,) dtype=int64>, 'corrected_text': <tf.Tensor 'inputs/corrected_text:0' shape=(None,) dtype=string>, 'num_of_short_forms': <tf.Tensor 'inputs/num_of_short_forms:0' shape=(None,) dtype=int64>, 'Incorrect_form_ratio': <tf.Tensor 'inputs/Incorrect_form_ratio:0' shape=(None,) dtype=float32>, 'flesch_reading_ease': <tf.Tensor 'inputs/flesch_reading_ease:0' shape=(None,) dtype=float32>, 'flesch_kincaid_grade': <tf.Tensor 'inputs/flesch_kincaid_grade:0' shape=(None,) dtype=float32>, 'dale_chall_readability_score': <tf.Tensor 'inputs/dale_chall_readability_score:0' shape=(None,) dtype=float32>, 'text_standard': <tf.Tensor 'inputs/text_standard:0' shape=(None,) dtype=float32>, 'mcalpine_eflaw': <tf.Tensor 'inputs/mcalpine_eflaw:0' shape=(None,) dtype=float32>, 'number_of_diff_words': <tf.Tensor 'inputs/number_of_diff_words:0' shape=(None,) dtype=int64>, 'freq_diff_words': <tf.Tensor 'inputs/freq_diff_words:0' shape=(None,) dtype=float32>, 'ttr': <tf.Tensor 'inputs/ttr:0' shape=(None,) dtype=float32>, 'coherence_score': <tf.Tensor 'inputs/coherence_score:0' shape=(None,) dtype=float32>, 'lexrank_avg_min_diff': <tf.Tensor 'inputs/lexrank_avg_min_diff:0' shape=(None,) dtype=float32>, 'lexrank_interquartile': <tf.Tensor 'inputs/lexrank_interquartile:0' shape=(None,) dtype=float32>, 'freq_of_noun': <tf.Tensor 'inputs/freq_of_noun:0' shape=(None,) dtype=float32>, 'freq_of_transition': <tf.Tensor 'inputs/freq_of_transition:0' shape=(None,) dtype=float32>, 'freq_of_pronoun': <tf.Tensor 'inputs/freq_of_pronoun:0' shape=(None,) dtype=float32>, 'noun_to_adj': <tf.Tensor 'inputs/noun_to_adj:0' shape=(None,) dtype=float32>, 'verb_to_adv': <tf.Tensor 'inputs/verb_to_adv:0' shape=(None,) dtype=float32>, 'phrase_diversity': <tf.Tensor 'inputs/phrase_diversity:0' shape=(None,) dtype=float32>, 'cohesion': <tf.Tensor 'inputs/cohesion:0' shape=(None,) dtype=float32>}. Consider rewriting this model with the Functional API.\n",
            "WARNING:tensorflow:Layers in a Sequential model should only have a single input tensor. Received: inputs={'number_of_words': <tf.Tensor 'inputs/number_of_words:0' shape=(None,) dtype=int64>, 'stopwords_frequency': <tf.Tensor 'inputs/stopwords_frequency:0' shape=(None,) dtype=float32>, 'av_word_per_sen': <tf.Tensor 'inputs/av_word_per_sen:0' shape=(None,) dtype=float32>, 'punctuations': <tf.Tensor 'inputs/punctuations:0' shape=(None,) dtype=float32>, 'ARI': <tf.Tensor 'inputs/ARI:0' shape=(None,) dtype=int64>, 'freq_of_verb': <tf.Tensor 'inputs/freq_of_verb:0' shape=(None,) dtype=float32>, 'freq_of_adj': <tf.Tensor 'inputs/freq_of_adj:0' shape=(None,) dtype=float32>, 'freq_of_adv': <tf.Tensor 'inputs/freq_of_adv:0' shape=(None,) dtype=float32>, 'freq_of_distinct_adj': <tf.Tensor 'inputs/freq_of_distinct_adj:0' shape=(None,) dtype=float32>, 'freq_of_distinct_adv': <tf.Tensor 'inputs/freq_of_distinct_adv:0' shape=(None,) dtype=float32>, 'sentence_complexity': <tf.Tensor 'inputs/sentence_complexity:0' shape=(None,) dtype=float32>, 'freq_of_wrong_words': <tf.Tensor 'inputs/freq_of_wrong_words:0' shape=(None,) dtype=float32>, 'sentiment_compound': <tf.Tensor 'inputs/sentiment_compound:0' shape=(None,) dtype=float32>, 'sentiment_positive': <tf.Tensor 'inputs/sentiment_positive:0' shape=(None,) dtype=float32>, 'sentiment_negative': <tf.Tensor 'inputs/sentiment_negative:0' shape=(None,) dtype=float32>, 'num_of_grammar_errors': <tf.Tensor 'inputs/num_of_grammar_errors:0' shape=(None,) dtype=int64>, 'corrected_text': <tf.Tensor 'inputs/corrected_text:0' shape=(None,) dtype=string>, 'num_of_short_forms': <tf.Tensor 'inputs/num_of_short_forms:0' shape=(None,) dtype=int64>, 'Incorrect_form_ratio': <tf.Tensor 'inputs/Incorrect_form_ratio:0' shape=(None,) dtype=float32>, 'flesch_reading_ease': <tf.Tensor 'inputs/flesch_reading_ease:0' shape=(None,) dtype=float32>, 'flesch_kincaid_grade': <tf.Tensor 'inputs/flesch_kincaid_grade:0' shape=(None,) dtype=float32>, 'dale_chall_readability_score': <tf.Tensor 'inputs/dale_chall_readability_score:0' shape=(None,) dtype=float32>, 'text_standard': <tf.Tensor 'inputs/text_standard:0' shape=(None,) dtype=float32>, 'mcalpine_eflaw': <tf.Tensor 'inputs/mcalpine_eflaw:0' shape=(None,) dtype=float32>, 'number_of_diff_words': <tf.Tensor 'inputs/number_of_diff_words:0' shape=(None,) dtype=int64>, 'freq_diff_words': <tf.Tensor 'inputs/freq_diff_words:0' shape=(None,) dtype=float32>, 'ttr': <tf.Tensor 'inputs/ttr:0' shape=(None,) dtype=float32>, 'coherence_score': <tf.Tensor 'inputs/coherence_score:0' shape=(None,) dtype=float32>, 'lexrank_avg_min_diff': <tf.Tensor 'inputs/lexrank_avg_min_diff:0' shape=(None,) dtype=float32>, 'lexrank_interquartile': <tf.Tensor 'inputs/lexrank_interquartile:0' shape=(None,) dtype=float32>, 'freq_of_noun': <tf.Tensor 'inputs/freq_of_noun:0' shape=(None,) dtype=float32>, 'freq_of_transition': <tf.Tensor 'inputs/freq_of_transition:0' shape=(None,) dtype=float32>, 'freq_of_pronoun': <tf.Tensor 'inputs/freq_of_pronoun:0' shape=(None,) dtype=float32>, 'noun_to_adj': <tf.Tensor 'inputs/noun_to_adj:0' shape=(None,) dtype=float32>, 'verb_to_adv': <tf.Tensor 'inputs/verb_to_adv:0' shape=(None,) dtype=float32>, 'phrase_diversity': <tf.Tensor 'inputs/phrase_diversity:0' shape=(None,) dtype=float32>, 'cohesion': <tf.Tensor 'inputs/cohesion:0' shape=(None,) dtype=float32>}. Consider rewriting this model with the Functional API.\n"
          ]
        }
      ]
    },
    {
      "cell_type": "code",
      "source": [
        "save_path = 'model_nn_cohesion'\n",
        "model_deep_cohesion.save(save_path)"
      ],
      "metadata": {
        "colab": {
          "base_uri": "https://localhost:8080/"
        },
        "id": "BJOgj_H-_zPa",
        "outputId": "8f2b2133-1b80-4e98-b194-17ba5e590b7b"
      },
      "id": "BJOgj_H-_zPa",
      "execution_count": null,
      "outputs": [
        {
          "output_type": "stream",
          "name": "stderr",
          "text": [
            "WARNING:tensorflow:Layers in a Sequential model should only have a single input tensor. Received: inputs={'number_of_words': <tf.Tensor 'number_of_words:0' shape=(None,) dtype=int64>, 'stopwords_frequency': <tf.Tensor 'stopwords_frequency:0' shape=(None,) dtype=float32>, 'av_word_per_sen': <tf.Tensor 'av_word_per_sen:0' shape=(None,) dtype=float32>, 'punctuations': <tf.Tensor 'punctuations:0' shape=(None,) dtype=float32>, 'ARI': <tf.Tensor 'ARI:0' shape=(None,) dtype=int64>, 'freq_of_verb': <tf.Tensor 'freq_of_verb:0' shape=(None,) dtype=float32>, 'freq_of_adj': <tf.Tensor 'freq_of_adj:0' shape=(None,) dtype=float32>, 'freq_of_adv': <tf.Tensor 'freq_of_adv:0' shape=(None,) dtype=float32>, 'freq_of_distinct_adj': <tf.Tensor 'freq_of_distinct_adj:0' shape=(None,) dtype=float32>, 'freq_of_distinct_adv': <tf.Tensor 'freq_of_distinct_adv:0' shape=(None,) dtype=float32>, 'sentence_complexity': <tf.Tensor 'sentence_complexity:0' shape=(None,) dtype=float32>, 'freq_of_wrong_words': <tf.Tensor 'freq_of_wrong_words:0' shape=(None,) dtype=float32>, 'sentiment_compound': <tf.Tensor 'sentiment_compound:0' shape=(None,) dtype=float32>, 'sentiment_positive': <tf.Tensor 'sentiment_positive:0' shape=(None,) dtype=float32>, 'sentiment_negative': <tf.Tensor 'sentiment_negative:0' shape=(None,) dtype=float32>, 'num_of_grammar_errors': <tf.Tensor 'num_of_grammar_errors:0' shape=(None,) dtype=int64>, 'corrected_text': <tf.Tensor 'corrected_text:0' shape=(None,) dtype=string>, 'num_of_short_forms': <tf.Tensor 'num_of_short_forms:0' shape=(None,) dtype=int64>, 'Incorrect_form_ratio': <tf.Tensor 'Incorrect_form_ratio:0' shape=(None,) dtype=float32>, 'flesch_reading_ease': <tf.Tensor 'flesch_reading_ease:0' shape=(None,) dtype=float32>, 'flesch_kincaid_grade': <tf.Tensor 'flesch_kincaid_grade:0' shape=(None,) dtype=float32>, 'dale_chall_readability_score': <tf.Tensor 'dale_chall_readability_score:0' shape=(None,) dtype=float32>, 'text_standard': <tf.Tensor 'text_standard:0' shape=(None,) dtype=float32>, 'mcalpine_eflaw': <tf.Tensor 'mcalpine_eflaw:0' shape=(None,) dtype=float32>, 'number_of_diff_words': <tf.Tensor 'number_of_diff_words:0' shape=(None,) dtype=int64>, 'freq_diff_words': <tf.Tensor 'freq_diff_words:0' shape=(None,) dtype=float32>, 'ttr': <tf.Tensor 'ttr:0' shape=(None,) dtype=float32>, 'coherence_score': <tf.Tensor 'coherence_score:0' shape=(None,) dtype=float32>, 'lexrank_avg_min_diff': <tf.Tensor 'lexrank_avg_min_diff:0' shape=(None,) dtype=float32>, 'lexrank_interquartile': <tf.Tensor 'lexrank_interquartile:0' shape=(None,) dtype=float32>, 'freq_of_noun': <tf.Tensor 'freq_of_noun:0' shape=(None,) dtype=float32>, 'freq_of_transition': <tf.Tensor 'freq_of_transition:0' shape=(None,) dtype=float32>, 'freq_of_pronoun': <tf.Tensor 'freq_of_pronoun:0' shape=(None,) dtype=float32>, 'noun_to_adj': <tf.Tensor 'noun_to_adj:0' shape=(None,) dtype=float32>, 'verb_to_adv': <tf.Tensor 'verb_to_adv:0' shape=(None,) dtype=float32>, 'phrase_diversity': <tf.Tensor 'phrase_diversity:0' shape=(None,) dtype=float32>, 'vocabulary': <tf.Tensor 'vocabulary:0' shape=(None,) dtype=float32>}. Consider rewriting this model with the Functional API.\n",
            "WARNING:tensorflow:Layers in a Sequential model should only have a single input tensor. Received: inputs={'number_of_words': <tf.Tensor 'inputs_25:0' shape=(None,) dtype=int64>, 'stopwords_frequency': <tf.Tensor 'inputs_32:0' shape=(None,) dtype=float32>, 'av_word_per_sen': <tf.Tensor 'inputs_2:0' shape=(None,) dtype=float32>, 'punctuations': <tf.Tensor 'inputs_27:0' shape=(None,) dtype=float32>, 'ARI': <tf.Tensor 'inputs:0' shape=(None,) dtype=int64>, 'freq_of_verb': <tf.Tensor 'inputs_16:0' shape=(None,) dtype=float32>, 'freq_of_adj': <tf.Tensor 'inputs_9:0' shape=(None,) dtype=float32>, 'freq_of_adv': <tf.Tensor 'inputs_10:0' shape=(None,) dtype=float32>, 'freq_of_distinct_adj': <tf.Tensor 'inputs_11:0' shape=(None,) dtype=float32>, 'freq_of_distinct_adv': <tf.Tensor 'inputs_12:0' shape=(None,) dtype=float32>, 'sentence_complexity': <tf.Tensor 'inputs_28:0' shape=(None,) dtype=float32>, 'freq_of_wrong_words': <tf.Tensor 'inputs_17:0' shape=(None,) dtype=float32>, 'sentiment_compound': <tf.Tensor 'inputs_29:0' shape=(None,) dtype=float32>, 'sentiment_positive': <tf.Tensor 'inputs_31:0' shape=(None,) dtype=float32>, 'sentiment_negative': <tf.Tensor 'inputs_30:0' shape=(None,) dtype=float32>, 'num_of_grammar_errors': <tf.Tensor 'inputs_22:0' shape=(None,) dtype=int64>, 'corrected_text': <tf.Tensor 'inputs_4:0' shape=(None,) dtype=string>, 'num_of_short_forms': <tf.Tensor 'inputs_23:0' shape=(None,) dtype=int64>, 'Incorrect_form_ratio': <tf.Tensor 'inputs_1:0' shape=(None,) dtype=float32>, 'flesch_reading_ease': <tf.Tensor 'inputs_7:0' shape=(None,) dtype=float32>, 'flesch_kincaid_grade': <tf.Tensor 'inputs_6:0' shape=(None,) dtype=float32>, 'dale_chall_readability_score': <tf.Tensor 'inputs_5:0' shape=(None,) dtype=float32>, 'text_standard': <tf.Tensor 'inputs_33:0' shape=(None,) dtype=float32>, 'mcalpine_eflaw': <tf.Tensor 'inputs_20:0' shape=(None,) dtype=float32>, 'number_of_diff_words': <tf.Tensor 'inputs_24:0' shape=(None,) dtype=int64>, 'freq_diff_words': <tf.Tensor 'inputs_8:0' shape=(None,) dtype=float32>, 'ttr': <tf.Tensor 'inputs_34:0' shape=(None,) dtype=float32>, 'coherence_score': <tf.Tensor 'inputs_3:0' shape=(None,) dtype=float32>, 'lexrank_avg_min_diff': <tf.Tensor 'inputs_18:0' shape=(None,) dtype=float32>, 'lexrank_interquartile': <tf.Tensor 'inputs_19:0' shape=(None,) dtype=float32>, 'freq_of_noun': <tf.Tensor 'inputs_13:0' shape=(None,) dtype=float32>, 'freq_of_transition': <tf.Tensor 'inputs_15:0' shape=(None,) dtype=float32>, 'freq_of_pronoun': <tf.Tensor 'inputs_14:0' shape=(None,) dtype=float32>, 'noun_to_adj': <tf.Tensor 'inputs_21:0' shape=(None,) dtype=float32>, 'verb_to_adv': <tf.Tensor 'inputs_35:0' shape=(None,) dtype=float32>, 'phrase_diversity': <tf.Tensor 'inputs_26:0' shape=(None,) dtype=float32>, 'vocabulary': <tf.Tensor 'inputs_36:0' shape=(None,) dtype=float32>}. Consider rewriting this model with the Functional API.\n",
            "WARNING:tensorflow:Layers in a Sequential model should only have a single input tensor. Received: inputs={'number_of_words': <tf.Tensor 'inputs_25:0' shape=(None,) dtype=int64>, 'stopwords_frequency': <tf.Tensor 'inputs_32:0' shape=(None,) dtype=float32>, 'av_word_per_sen': <tf.Tensor 'inputs_2:0' shape=(None,) dtype=float32>, 'punctuations': <tf.Tensor 'inputs_27:0' shape=(None,) dtype=float32>, 'ARI': <tf.Tensor 'inputs:0' shape=(None,) dtype=int64>, 'freq_of_verb': <tf.Tensor 'inputs_16:0' shape=(None,) dtype=float32>, 'freq_of_adj': <tf.Tensor 'inputs_9:0' shape=(None,) dtype=float32>, 'freq_of_adv': <tf.Tensor 'inputs_10:0' shape=(None,) dtype=float32>, 'freq_of_distinct_adj': <tf.Tensor 'inputs_11:0' shape=(None,) dtype=float32>, 'freq_of_distinct_adv': <tf.Tensor 'inputs_12:0' shape=(None,) dtype=float32>, 'sentence_complexity': <tf.Tensor 'inputs_28:0' shape=(None,) dtype=float32>, 'freq_of_wrong_words': <tf.Tensor 'inputs_17:0' shape=(None,) dtype=float32>, 'sentiment_compound': <tf.Tensor 'inputs_29:0' shape=(None,) dtype=float32>, 'sentiment_positive': <tf.Tensor 'inputs_31:0' shape=(None,) dtype=float32>, 'sentiment_negative': <tf.Tensor 'inputs_30:0' shape=(None,) dtype=float32>, 'num_of_grammar_errors': <tf.Tensor 'inputs_22:0' shape=(None,) dtype=int64>, 'corrected_text': <tf.Tensor 'inputs_4:0' shape=(None,) dtype=string>, 'num_of_short_forms': <tf.Tensor 'inputs_23:0' shape=(None,) dtype=int64>, 'Incorrect_form_ratio': <tf.Tensor 'inputs_1:0' shape=(None,) dtype=float32>, 'flesch_reading_ease': <tf.Tensor 'inputs_7:0' shape=(None,) dtype=float32>, 'flesch_kincaid_grade': <tf.Tensor 'inputs_6:0' shape=(None,) dtype=float32>, 'dale_chall_readability_score': <tf.Tensor 'inputs_5:0' shape=(None,) dtype=float32>, 'text_standard': <tf.Tensor 'inputs_33:0' shape=(None,) dtype=float32>, 'mcalpine_eflaw': <tf.Tensor 'inputs_20:0' shape=(None,) dtype=float32>, 'number_of_diff_words': <tf.Tensor 'inputs_24:0' shape=(None,) dtype=int64>, 'freq_diff_words': <tf.Tensor 'inputs_8:0' shape=(None,) dtype=float32>, 'ttr': <tf.Tensor 'inputs_34:0' shape=(None,) dtype=float32>, 'coherence_score': <tf.Tensor 'inputs_3:0' shape=(None,) dtype=float32>, 'lexrank_avg_min_diff': <tf.Tensor 'inputs_18:0' shape=(None,) dtype=float32>, 'lexrank_interquartile': <tf.Tensor 'inputs_19:0' shape=(None,) dtype=float32>, 'freq_of_noun': <tf.Tensor 'inputs_13:0' shape=(None,) dtype=float32>, 'freq_of_transition': <tf.Tensor 'inputs_15:0' shape=(None,) dtype=float32>, 'freq_of_pronoun': <tf.Tensor 'inputs_14:0' shape=(None,) dtype=float32>, 'noun_to_adj': <tf.Tensor 'inputs_21:0' shape=(None,) dtype=float32>, 'verb_to_adv': <tf.Tensor 'inputs_35:0' shape=(None,) dtype=float32>, 'phrase_diversity': <tf.Tensor 'inputs_26:0' shape=(None,) dtype=float32>, 'vocabulary': <tf.Tensor 'inputs_36:0' shape=(None,) dtype=float32>}. Consider rewriting this model with the Functional API.\n",
            "WARNING:tensorflow:Layers in a Sequential model should only have a single input tensor. Received: inputs={'number_of_words': <tf.Tensor 'number_of_words:0' shape=(None,) dtype=int64>, 'stopwords_frequency': <tf.Tensor 'stopwords_frequency:0' shape=(None,) dtype=float32>, 'av_word_per_sen': <tf.Tensor 'av_word_per_sen:0' shape=(None,) dtype=float32>, 'punctuations': <tf.Tensor 'punctuations:0' shape=(None,) dtype=float32>, 'ARI': <tf.Tensor 'ARI:0' shape=(None,) dtype=int64>, 'freq_of_verb': <tf.Tensor 'freq_of_verb:0' shape=(None,) dtype=float32>, 'freq_of_adj': <tf.Tensor 'freq_of_adj:0' shape=(None,) dtype=float32>, 'freq_of_adv': <tf.Tensor 'freq_of_adv:0' shape=(None,) dtype=float32>, 'freq_of_distinct_adj': <tf.Tensor 'freq_of_distinct_adj:0' shape=(None,) dtype=float32>, 'freq_of_distinct_adv': <tf.Tensor 'freq_of_distinct_adv:0' shape=(None,) dtype=float32>, 'sentence_complexity': <tf.Tensor 'sentence_complexity:0' shape=(None,) dtype=float32>, 'freq_of_wrong_words': <tf.Tensor 'freq_of_wrong_words:0' shape=(None,) dtype=float32>, 'sentiment_compound': <tf.Tensor 'sentiment_compound:0' shape=(None,) dtype=float32>, 'sentiment_positive': <tf.Tensor 'sentiment_positive:0' shape=(None,) dtype=float32>, 'sentiment_negative': <tf.Tensor 'sentiment_negative:0' shape=(None,) dtype=float32>, 'num_of_grammar_errors': <tf.Tensor 'num_of_grammar_errors:0' shape=(None,) dtype=int64>, 'corrected_text': <tf.Tensor 'corrected_text:0' shape=(None,) dtype=string>, 'num_of_short_forms': <tf.Tensor 'num_of_short_forms:0' shape=(None,) dtype=int64>, 'Incorrect_form_ratio': <tf.Tensor 'Incorrect_form_ratio:0' shape=(None,) dtype=float32>, 'flesch_reading_ease': <tf.Tensor 'flesch_reading_ease:0' shape=(None,) dtype=float32>, 'flesch_kincaid_grade': <tf.Tensor 'flesch_kincaid_grade:0' shape=(None,) dtype=float32>, 'dale_chall_readability_score': <tf.Tensor 'dale_chall_readability_score:0' shape=(None,) dtype=float32>, 'text_standard': <tf.Tensor 'text_standard:0' shape=(None,) dtype=float32>, 'mcalpine_eflaw': <tf.Tensor 'mcalpine_eflaw:0' shape=(None,) dtype=float32>, 'number_of_diff_words': <tf.Tensor 'number_of_diff_words:0' shape=(None,) dtype=int64>, 'freq_diff_words': <tf.Tensor 'freq_diff_words:0' shape=(None,) dtype=float32>, 'ttr': <tf.Tensor 'ttr:0' shape=(None,) dtype=float32>, 'coherence_score': <tf.Tensor 'coherence_score:0' shape=(None,) dtype=float32>, 'lexrank_avg_min_diff': <tf.Tensor 'lexrank_avg_min_diff:0' shape=(None,) dtype=float32>, 'lexrank_interquartile': <tf.Tensor 'lexrank_interquartile:0' shape=(None,) dtype=float32>, 'freq_of_noun': <tf.Tensor 'freq_of_noun:0' shape=(None,) dtype=float32>, 'freq_of_transition': <tf.Tensor 'freq_of_transition:0' shape=(None,) dtype=float32>, 'freq_of_pronoun': <tf.Tensor 'freq_of_pronoun:0' shape=(None,) dtype=float32>, 'noun_to_adj': <tf.Tensor 'noun_to_adj:0' shape=(None,) dtype=float32>, 'verb_to_adv': <tf.Tensor 'verb_to_adv:0' shape=(None,) dtype=float32>, 'phrase_diversity': <tf.Tensor 'phrase_diversity:0' shape=(None,) dtype=float32>, 'vocabulary': <tf.Tensor 'vocabulary:0' shape=(None,) dtype=float32>}. Consider rewriting this model with the Functional API.\n",
            "WARNING:tensorflow:Layers in a Sequential model should only have a single input tensor. Received: inputs={'number_of_words': <tf.Tensor 'number_of_words:0' shape=(None,) dtype=int64>, 'stopwords_frequency': <tf.Tensor 'stopwords_frequency:0' shape=(None,) dtype=float32>, 'av_word_per_sen': <tf.Tensor 'av_word_per_sen:0' shape=(None,) dtype=float32>, 'punctuations': <tf.Tensor 'punctuations:0' shape=(None,) dtype=float32>, 'ARI': <tf.Tensor 'ARI:0' shape=(None,) dtype=int64>, 'freq_of_verb': <tf.Tensor 'freq_of_verb:0' shape=(None,) dtype=float32>, 'freq_of_adj': <tf.Tensor 'freq_of_adj:0' shape=(None,) dtype=float32>, 'freq_of_adv': <tf.Tensor 'freq_of_adv:0' shape=(None,) dtype=float32>, 'freq_of_distinct_adj': <tf.Tensor 'freq_of_distinct_adj:0' shape=(None,) dtype=float32>, 'freq_of_distinct_adv': <tf.Tensor 'freq_of_distinct_adv:0' shape=(None,) dtype=float32>, 'sentence_complexity': <tf.Tensor 'sentence_complexity:0' shape=(None,) dtype=float32>, 'freq_of_wrong_words': <tf.Tensor 'freq_of_wrong_words:0' shape=(None,) dtype=float32>, 'sentiment_compound': <tf.Tensor 'sentiment_compound:0' shape=(None,) dtype=float32>, 'sentiment_positive': <tf.Tensor 'sentiment_positive:0' shape=(None,) dtype=float32>, 'sentiment_negative': <tf.Tensor 'sentiment_negative:0' shape=(None,) dtype=float32>, 'num_of_grammar_errors': <tf.Tensor 'num_of_grammar_errors:0' shape=(None,) dtype=int64>, 'corrected_text': <tf.Tensor 'corrected_text:0' shape=(None,) dtype=string>, 'num_of_short_forms': <tf.Tensor 'num_of_short_forms:0' shape=(None,) dtype=int64>, 'Incorrect_form_ratio': <tf.Tensor 'Incorrect_form_ratio:0' shape=(None,) dtype=float32>, 'flesch_reading_ease': <tf.Tensor 'flesch_reading_ease:0' shape=(None,) dtype=float32>, 'flesch_kincaid_grade': <tf.Tensor 'flesch_kincaid_grade:0' shape=(None,) dtype=float32>, 'dale_chall_readability_score': <tf.Tensor 'dale_chall_readability_score:0' shape=(None,) dtype=float32>, 'text_standard': <tf.Tensor 'text_standard:0' shape=(None,) dtype=float32>, 'mcalpine_eflaw': <tf.Tensor 'mcalpine_eflaw:0' shape=(None,) dtype=float32>, 'number_of_diff_words': <tf.Tensor 'number_of_diff_words:0' shape=(None,) dtype=int64>, 'freq_diff_words': <tf.Tensor 'freq_diff_words:0' shape=(None,) dtype=float32>, 'ttr': <tf.Tensor 'ttr:0' shape=(None,) dtype=float32>, 'coherence_score': <tf.Tensor 'coherence_score:0' shape=(None,) dtype=float32>, 'lexrank_avg_min_diff': <tf.Tensor 'lexrank_avg_min_diff:0' shape=(None,) dtype=float32>, 'lexrank_interquartile': <tf.Tensor 'lexrank_interquartile:0' shape=(None,) dtype=float32>, 'freq_of_noun': <tf.Tensor 'freq_of_noun:0' shape=(None,) dtype=float32>, 'freq_of_transition': <tf.Tensor 'freq_of_transition:0' shape=(None,) dtype=float32>, 'freq_of_pronoun': <tf.Tensor 'freq_of_pronoun:0' shape=(None,) dtype=float32>, 'noun_to_adj': <tf.Tensor 'noun_to_adj:0' shape=(None,) dtype=float32>, 'verb_to_adv': <tf.Tensor 'verb_to_adv:0' shape=(None,) dtype=float32>, 'phrase_diversity': <tf.Tensor 'phrase_diversity:0' shape=(None,) dtype=float32>, 'vocabulary': <tf.Tensor 'vocabulary:0' shape=(None,) dtype=float32>}. Consider rewriting this model with the Functional API.\n",
            "WARNING:absl:Function `_wrapped_model` contains input name(s) ARI, Incorrect_form_ratio with unsupported characters which will be renamed to ari, incorrect_form_ratio in the SavedModel.\n",
            "WARNING:tensorflow:Layers in a Sequential model should only have a single input tensor. Received: inputs={'number_of_words': <tf.Tensor 'inputs/number_of_words:0' shape=(None,) dtype=int64>, 'stopwords_frequency': <tf.Tensor 'inputs/stopwords_frequency:0' shape=(None,) dtype=float32>, 'av_word_per_sen': <tf.Tensor 'inputs/av_word_per_sen:0' shape=(None,) dtype=float32>, 'punctuations': <tf.Tensor 'inputs/punctuations:0' shape=(None,) dtype=float32>, 'ARI': <tf.Tensor 'inputs/ARI:0' shape=(None,) dtype=int64>, 'freq_of_verb': <tf.Tensor 'inputs/freq_of_verb:0' shape=(None,) dtype=float32>, 'freq_of_adj': <tf.Tensor 'inputs/freq_of_adj:0' shape=(None,) dtype=float32>, 'freq_of_adv': <tf.Tensor 'inputs/freq_of_adv:0' shape=(None,) dtype=float32>, 'freq_of_distinct_adj': <tf.Tensor 'inputs/freq_of_distinct_adj:0' shape=(None,) dtype=float32>, 'freq_of_distinct_adv': <tf.Tensor 'inputs/freq_of_distinct_adv:0' shape=(None,) dtype=float32>, 'sentence_complexity': <tf.Tensor 'inputs/sentence_complexity:0' shape=(None,) dtype=float32>, 'freq_of_wrong_words': <tf.Tensor 'inputs/freq_of_wrong_words:0' shape=(None,) dtype=float32>, 'sentiment_compound': <tf.Tensor 'inputs/sentiment_compound:0' shape=(None,) dtype=float32>, 'sentiment_positive': <tf.Tensor 'inputs/sentiment_positive:0' shape=(None,) dtype=float32>, 'sentiment_negative': <tf.Tensor 'inputs/sentiment_negative:0' shape=(None,) dtype=float32>, 'num_of_grammar_errors': <tf.Tensor 'inputs/num_of_grammar_errors:0' shape=(None,) dtype=int64>, 'corrected_text': <tf.Tensor 'inputs/corrected_text:0' shape=(None,) dtype=string>, 'num_of_short_forms': <tf.Tensor 'inputs/num_of_short_forms:0' shape=(None,) dtype=int64>, 'Incorrect_form_ratio': <tf.Tensor 'inputs/Incorrect_form_ratio:0' shape=(None,) dtype=float32>, 'flesch_reading_ease': <tf.Tensor 'inputs/flesch_reading_ease:0' shape=(None,) dtype=float32>, 'flesch_kincaid_grade': <tf.Tensor 'inputs/flesch_kincaid_grade:0' shape=(None,) dtype=float32>, 'dale_chall_readability_score': <tf.Tensor 'inputs/dale_chall_readability_score:0' shape=(None,) dtype=float32>, 'text_standard': <tf.Tensor 'inputs/text_standard:0' shape=(None,) dtype=float32>, 'mcalpine_eflaw': <tf.Tensor 'inputs/mcalpine_eflaw:0' shape=(None,) dtype=float32>, 'number_of_diff_words': <tf.Tensor 'inputs/number_of_diff_words:0' shape=(None,) dtype=int64>, 'freq_diff_words': <tf.Tensor 'inputs/freq_diff_words:0' shape=(None,) dtype=float32>, 'ttr': <tf.Tensor 'inputs/ttr:0' shape=(None,) dtype=float32>, 'coherence_score': <tf.Tensor 'inputs/coherence_score:0' shape=(None,) dtype=float32>, 'lexrank_avg_min_diff': <tf.Tensor 'inputs/lexrank_avg_min_diff:0' shape=(None,) dtype=float32>, 'lexrank_interquartile': <tf.Tensor 'inputs/lexrank_interquartile:0' shape=(None,) dtype=float32>, 'freq_of_noun': <tf.Tensor 'inputs/freq_of_noun:0' shape=(None,) dtype=float32>, 'freq_of_transition': <tf.Tensor 'inputs/freq_of_transition:0' shape=(None,) dtype=float32>, 'freq_of_pronoun': <tf.Tensor 'inputs/freq_of_pronoun:0' shape=(None,) dtype=float32>, 'noun_to_adj': <tf.Tensor 'inputs/noun_to_adj:0' shape=(None,) dtype=float32>, 'verb_to_adv': <tf.Tensor 'inputs/verb_to_adv:0' shape=(None,) dtype=float32>, 'phrase_diversity': <tf.Tensor 'inputs/phrase_diversity:0' shape=(None,) dtype=float32>, 'vocabulary': <tf.Tensor 'inputs/vocabulary:0' shape=(None,) dtype=float32>}. Consider rewriting this model with the Functional API.\n",
            "WARNING:tensorflow:Layers in a Sequential model should only have a single input tensor. Received: inputs={'number_of_words': <tf.Tensor 'inputs/number_of_words:0' shape=(None,) dtype=int64>, 'stopwords_frequency': <tf.Tensor 'inputs/stopwords_frequency:0' shape=(None,) dtype=float32>, 'av_word_per_sen': <tf.Tensor 'inputs/av_word_per_sen:0' shape=(None,) dtype=float32>, 'punctuations': <tf.Tensor 'inputs/punctuations:0' shape=(None,) dtype=float32>, 'ARI': <tf.Tensor 'inputs/ARI:0' shape=(None,) dtype=int64>, 'freq_of_verb': <tf.Tensor 'inputs/freq_of_verb:0' shape=(None,) dtype=float32>, 'freq_of_adj': <tf.Tensor 'inputs/freq_of_adj:0' shape=(None,) dtype=float32>, 'freq_of_adv': <tf.Tensor 'inputs/freq_of_adv:0' shape=(None,) dtype=float32>, 'freq_of_distinct_adj': <tf.Tensor 'inputs/freq_of_distinct_adj:0' shape=(None,) dtype=float32>, 'freq_of_distinct_adv': <tf.Tensor 'inputs/freq_of_distinct_adv:0' shape=(None,) dtype=float32>, 'sentence_complexity': <tf.Tensor 'inputs/sentence_complexity:0' shape=(None,) dtype=float32>, 'freq_of_wrong_words': <tf.Tensor 'inputs/freq_of_wrong_words:0' shape=(None,) dtype=float32>, 'sentiment_compound': <tf.Tensor 'inputs/sentiment_compound:0' shape=(None,) dtype=float32>, 'sentiment_positive': <tf.Tensor 'inputs/sentiment_positive:0' shape=(None,) dtype=float32>, 'sentiment_negative': <tf.Tensor 'inputs/sentiment_negative:0' shape=(None,) dtype=float32>, 'num_of_grammar_errors': <tf.Tensor 'inputs/num_of_grammar_errors:0' shape=(None,) dtype=int64>, 'corrected_text': <tf.Tensor 'inputs/corrected_text:0' shape=(None,) dtype=string>, 'num_of_short_forms': <tf.Tensor 'inputs/num_of_short_forms:0' shape=(None,) dtype=int64>, 'Incorrect_form_ratio': <tf.Tensor 'inputs/Incorrect_form_ratio:0' shape=(None,) dtype=float32>, 'flesch_reading_ease': <tf.Tensor 'inputs/flesch_reading_ease:0' shape=(None,) dtype=float32>, 'flesch_kincaid_grade': <tf.Tensor 'inputs/flesch_kincaid_grade:0' shape=(None,) dtype=float32>, 'dale_chall_readability_score': <tf.Tensor 'inputs/dale_chall_readability_score:0' shape=(None,) dtype=float32>, 'text_standard': <tf.Tensor 'inputs/text_standard:0' shape=(None,) dtype=float32>, 'mcalpine_eflaw': <tf.Tensor 'inputs/mcalpine_eflaw:0' shape=(None,) dtype=float32>, 'number_of_diff_words': <tf.Tensor 'inputs/number_of_diff_words:0' shape=(None,) dtype=int64>, 'freq_diff_words': <tf.Tensor 'inputs/freq_diff_words:0' shape=(None,) dtype=float32>, 'ttr': <tf.Tensor 'inputs/ttr:0' shape=(None,) dtype=float32>, 'coherence_score': <tf.Tensor 'inputs/coherence_score:0' shape=(None,) dtype=float32>, 'lexrank_avg_min_diff': <tf.Tensor 'inputs/lexrank_avg_min_diff:0' shape=(None,) dtype=float32>, 'lexrank_interquartile': <tf.Tensor 'inputs/lexrank_interquartile:0' shape=(None,) dtype=float32>, 'freq_of_noun': <tf.Tensor 'inputs/freq_of_noun:0' shape=(None,) dtype=float32>, 'freq_of_transition': <tf.Tensor 'inputs/freq_of_transition:0' shape=(None,) dtype=float32>, 'freq_of_pronoun': <tf.Tensor 'inputs/freq_of_pronoun:0' shape=(None,) dtype=float32>, 'noun_to_adj': <tf.Tensor 'inputs/noun_to_adj:0' shape=(None,) dtype=float32>, 'verb_to_adv': <tf.Tensor 'inputs/verb_to_adv:0' shape=(None,) dtype=float32>, 'phrase_diversity': <tf.Tensor 'inputs/phrase_diversity:0' shape=(None,) dtype=float32>, 'vocabulary': <tf.Tensor 'inputs/vocabulary:0' shape=(None,) dtype=float32>}. Consider rewriting this model with the Functional API.\n"
          ]
        }
      ]
    },
    {
      "cell_type": "code",
      "source": [
        "nn1 = tf.keras.models.load_model(\"model_nn_vocabulary\")\n",
        "nn2 = tf.keras.models.load_model(\"model_nn_cohesion\")"
      ],
      "metadata": {
        "id": "FIJ8k6mTLOfs"
      },
      "id": "FIJ8k6mTLOfs",
      "execution_count": null,
      "outputs": []
    },
    {
      "cell_type": "code",
      "source": [
        "!zip -r /content/model_nn_vocabulary.zip /content/model_nn_vocabulary"
      ],
      "metadata": {
        "colab": {
          "base_uri": "https://localhost:8080/"
        },
        "id": "MyYePl00C0Ej",
        "outputId": "d4380e56-e830-4b79-83dc-ffab79bf0240"
      },
      "id": "MyYePl00C0Ej",
      "execution_count": null,
      "outputs": [
        {
          "output_type": "stream",
          "name": "stdout",
          "text": [
            "  adding: content/model_nn_vocabulary/ (stored 0%)\n",
            "  adding: content/model_nn_vocabulary/assets/ (stored 0%)\n",
            "  adding: content/model_nn_vocabulary/keras_metadata.pb (deflated 95%)\n",
            "  adding: content/model_nn_vocabulary/saved_model.pb (deflated 91%)\n",
            "  adding: content/model_nn_vocabulary/variables/ (stored 0%)\n",
            "  adding: content/model_nn_vocabulary/variables/variables.index (deflated 64%)\n",
            "  adding: content/model_nn_vocabulary/variables/variables.data-00000-of-00001 (deflated 30%)\n"
          ]
        }
      ]
    },
    {
      "cell_type": "code",
      "source": [
        "from google.colab import files\n",
        "files.download(\"/content/model_nn_vocabulary.zip\")\n",
        "\n",
        "from google.colab import files\n",
        "files.download(\"/content/model_nn_cohesion.zip\")"
      ],
      "metadata": {
        "colab": {
          "base_uri": "https://localhost:8080/",
          "height": 17
        },
        "id": "2f5PapibDAU9",
        "outputId": "4064fc37-d67c-45f7-8c4b-0b1db7030c3e"
      },
      "id": "2f5PapibDAU9",
      "execution_count": null,
      "outputs": [
        {
          "output_type": "display_data",
          "data": {
            "text/plain": [
              "<IPython.core.display.Javascript object>"
            ],
            "application/javascript": [
              "\n",
              "    async function download(id, filename, size) {\n",
              "      if (!google.colab.kernel.accessAllowed) {\n",
              "        return;\n",
              "      }\n",
              "      const div = document.createElement('div');\n",
              "      const label = document.createElement('label');\n",
              "      label.textContent = `Downloading \"${filename}\": `;\n",
              "      div.appendChild(label);\n",
              "      const progress = document.createElement('progress');\n",
              "      progress.max = size;\n",
              "      div.appendChild(progress);\n",
              "      document.body.appendChild(div);\n",
              "\n",
              "      const buffers = [];\n",
              "      let downloaded = 0;\n",
              "\n",
              "      const channel = await google.colab.kernel.comms.open(id);\n",
              "      // Send a message to notify the kernel that we're ready.\n",
              "      channel.send({})\n",
              "\n",
              "      for await (const message of channel.messages) {\n",
              "        // Send a message to notify the kernel that we're ready.\n",
              "        channel.send({})\n",
              "        if (message.buffers) {\n",
              "          for (const buffer of message.buffers) {\n",
              "            buffers.push(buffer);\n",
              "            downloaded += buffer.byteLength;\n",
              "            progress.value = downloaded;\n",
              "          }\n",
              "        }\n",
              "      }\n",
              "      const blob = new Blob(buffers, {type: 'application/binary'});\n",
              "      const a = document.createElement('a');\n",
              "      a.href = window.URL.createObjectURL(blob);\n",
              "      a.download = filename;\n",
              "      div.appendChild(a);\n",
              "      a.click();\n",
              "      div.remove();\n",
              "    }\n",
              "  "
            ]
          },
          "metadata": {}
        },
        {
          "output_type": "display_data",
          "data": {
            "text/plain": [
              "<IPython.core.display.Javascript object>"
            ],
            "application/javascript": [
              "download(\"download_d452c256-695b-4807-b255-22272923b74f\", \"model_nn_vocabulary.zip\", 84201)"
            ]
          },
          "metadata": {}
        },
        {
          "output_type": "display_data",
          "data": {
            "text/plain": [
              "<IPython.core.display.Javascript object>"
            ],
            "application/javascript": [
              "\n",
              "    async function download(id, filename, size) {\n",
              "      if (!google.colab.kernel.accessAllowed) {\n",
              "        return;\n",
              "      }\n",
              "      const div = document.createElement('div');\n",
              "      const label = document.createElement('label');\n",
              "      label.textContent = `Downloading \"${filename}\": `;\n",
              "      div.appendChild(label);\n",
              "      const progress = document.createElement('progress');\n",
              "      progress.max = size;\n",
              "      div.appendChild(progress);\n",
              "      document.body.appendChild(div);\n",
              "\n",
              "      const buffers = [];\n",
              "      let downloaded = 0;\n",
              "\n",
              "      const channel = await google.colab.kernel.comms.open(id);\n",
              "      // Send a message to notify the kernel that we're ready.\n",
              "      channel.send({})\n",
              "\n",
              "      for await (const message of channel.messages) {\n",
              "        // Send a message to notify the kernel that we're ready.\n",
              "        channel.send({})\n",
              "        if (message.buffers) {\n",
              "          for (const buffer of message.buffers) {\n",
              "            buffers.push(buffer);\n",
              "            downloaded += buffer.byteLength;\n",
              "            progress.value = downloaded;\n",
              "          }\n",
              "        }\n",
              "      }\n",
              "      const blob = new Blob(buffers, {type: 'application/binary'});\n",
              "      const a = document.createElement('a');\n",
              "      a.href = window.URL.createObjectURL(blob);\n",
              "      a.download = filename;\n",
              "      div.appendChild(a);\n",
              "      a.click();\n",
              "      div.remove();\n",
              "    }\n",
              "  "
            ]
          },
          "metadata": {}
        },
        {
          "output_type": "display_data",
          "data": {
            "text/plain": [
              "<IPython.core.display.Javascript object>"
            ],
            "application/javascript": [
              "download(\"download_b2d62958-9f48-4aea-8c7f-ee57b6dd95e6\", \"model_nn_cohesion.zip\", 80642)"
            ]
          },
          "metadata": {}
        }
      ]
    },
    {
      "cell_type": "code",
      "source": [
        "!zip -r /content/model_nn_cohesion.zip /content/model_nn_cohesion"
      ],
      "metadata": {
        "colab": {
          "base_uri": "https://localhost:8080/"
        },
        "id": "225JJWCHGC-c",
        "outputId": "5d0eb3cd-584b-407d-d886-a83a0a06f806"
      },
      "id": "225JJWCHGC-c",
      "execution_count": null,
      "outputs": [
        {
          "output_type": "stream",
          "name": "stdout",
          "text": [
            "  adding: content/model_nn_cohesion/ (stored 0%)\n",
            "  adding: content/model_nn_cohesion/assets/ (stored 0%)\n",
            "  adding: content/model_nn_cohesion/keras_metadata.pb (deflated 95%)\n",
            "  adding: content/model_nn_cohesion/saved_model.pb (deflated 91%)\n",
            "  adding: content/model_nn_cohesion/variables/ (stored 0%)\n",
            "  adding: content/model_nn_cohesion/variables/variables.index (deflated 65%)\n",
            "  adding: content/model_nn_cohesion/variables/variables.data-00000-of-00001 (deflated 36%)\n"
          ]
        }
      ]
    },
    {
      "cell_type": "markdown",
      "source": [
        "Create the deep better model"
      ],
      "metadata": {
        "id": "oIDNVRe38IlT"
      },
      "id": "oIDNVRe38IlT"
    },
    {
      "cell_type": "code",
      "source": [
        "label_name = \"cohesion\"\n",
        "model_deep_better1 = create_model_deep(learning_rate, my_feature_layer, [30, 20, 10, 8])\n",
        "\n",
        "mse_train_deep_better1, mse_val_deep_better1 = train_model(model_deep_better1,train_data, number_epochs, batch_size, label_name)\n",
        "plot_the_loss_curve(mse_train_deep_better1, mse_val_deep_better1)"
      ],
      "metadata": {
        "colab": {
          "base_uri": "https://localhost:8080/",
          "height": 1000
        },
        "id": "P1S-M52siVqZ",
        "outputId": "40fbdf9c-a9a9-415e-e7f5-75bafdf6cc97"
      },
      "id": "P1S-M52siVqZ",
      "execution_count": null,
      "outputs": [
        {
          "output_type": "stream",
          "name": "stdout",
          "text": [
            "Epoch 1/30\n"
          ]
        },
        {
          "output_type": "stream",
          "name": "stderr",
          "text": [
            "/usr/local/lib/python3.7/dist-packages/keras/optimizers/optimizer_v2/adam.py:110: UserWarning: The `lr` argument is deprecated, use `learning_rate` instead.\n",
            "  super(Adam, self).__init__(name, **kwargs)\n",
            "WARNING:tensorflow:Layers in a Sequential model should only have a single input tensor. Received: inputs={'number_of_words': <tf.Tensor 'IteratorGetNext:25' shape=(None,) dtype=int64>, 'stopwords_frequency': <tf.Tensor 'IteratorGetNext:32' shape=(None,) dtype=float32>, 'av_word_per_sen': <tf.Tensor 'IteratorGetNext:2' shape=(None,) dtype=float32>, 'punctuations': <tf.Tensor 'IteratorGetNext:27' shape=(None,) dtype=float32>, 'ARI': <tf.Tensor 'IteratorGetNext:0' shape=(None,) dtype=int64>, 'freq_of_verb': <tf.Tensor 'IteratorGetNext:16' shape=(None,) dtype=float32>, 'freq_of_adj': <tf.Tensor 'IteratorGetNext:9' shape=(None,) dtype=float32>, 'freq_of_adv': <tf.Tensor 'IteratorGetNext:10' shape=(None,) dtype=float32>, 'freq_of_distinct_adj': <tf.Tensor 'IteratorGetNext:11' shape=(None,) dtype=float32>, 'freq_of_distinct_adv': <tf.Tensor 'IteratorGetNext:12' shape=(None,) dtype=float32>, 'sentence_complexity': <tf.Tensor 'IteratorGetNext:28' shape=(None,) dtype=float32>, 'freq_of_wrong_words': <tf.Tensor 'IteratorGetNext:17' shape=(None,) dtype=float32>, 'sentiment_compound': <tf.Tensor 'IteratorGetNext:29' shape=(None,) dtype=float32>, 'sentiment_positive': <tf.Tensor 'IteratorGetNext:31' shape=(None,) dtype=float32>, 'sentiment_negative': <tf.Tensor 'IteratorGetNext:30' shape=(None,) dtype=float32>, 'num_of_grammar_errors': <tf.Tensor 'IteratorGetNext:22' shape=(None,) dtype=int64>, 'corrected_text': <tf.Tensor 'IteratorGetNext:4' shape=(None,) dtype=string>, 'num_of_short_forms': <tf.Tensor 'IteratorGetNext:23' shape=(None,) dtype=int64>, 'Incorrect_form_ratio': <tf.Tensor 'IteratorGetNext:1' shape=(None,) dtype=float32>, 'flesch_reading_ease': <tf.Tensor 'IteratorGetNext:7' shape=(None,) dtype=float32>, 'flesch_kincaid_grade': <tf.Tensor 'IteratorGetNext:6' shape=(None,) dtype=float32>, 'dale_chall_readability_score': <tf.Tensor 'IteratorGetNext:5' shape=(None,) dtype=float32>, 'text_standard': <tf.Tensor 'IteratorGetNext:33' shape=(None,) dtype=float32>, 'mcalpine_eflaw': <tf.Tensor 'IteratorGetNext:20' shape=(None,) dtype=float32>, 'number_of_diff_words': <tf.Tensor 'IteratorGetNext:24' shape=(None,) dtype=int64>, 'freq_diff_words': <tf.Tensor 'IteratorGetNext:8' shape=(None,) dtype=float32>, 'ttr': <tf.Tensor 'IteratorGetNext:34' shape=(None,) dtype=float32>, 'coherence_score': <tf.Tensor 'IteratorGetNext:3' shape=(None,) dtype=float32>, 'lexrank_avg_min_diff': <tf.Tensor 'IteratorGetNext:18' shape=(None,) dtype=float32>, 'lexrank_interquartile': <tf.Tensor 'IteratorGetNext:19' shape=(None,) dtype=float32>, 'freq_of_noun': <tf.Tensor 'IteratorGetNext:13' shape=(None,) dtype=float32>, 'freq_of_transition': <tf.Tensor 'IteratorGetNext:15' shape=(None,) dtype=float32>, 'freq_of_pronoun': <tf.Tensor 'IteratorGetNext:14' shape=(None,) dtype=float32>, 'noun_to_adj': <tf.Tensor 'IteratorGetNext:21' shape=(None,) dtype=float32>, 'verb_to_adv': <tf.Tensor 'IteratorGetNext:35' shape=(None,) dtype=float32>, 'phrase_diversity': <tf.Tensor 'IteratorGetNext:26' shape=(None,) dtype=float32>, 'vocabulary': <tf.Tensor 'IteratorGetNext:36' shape=(None,) dtype=float32>}. Consider rewriting this model with the Functional API.\n",
            "WARNING:tensorflow:Layers in a Sequential model should only have a single input tensor. Received: inputs={'number_of_words': <tf.Tensor 'IteratorGetNext:25' shape=(None,) dtype=int64>, 'stopwords_frequency': <tf.Tensor 'IteratorGetNext:32' shape=(None,) dtype=float32>, 'av_word_per_sen': <tf.Tensor 'IteratorGetNext:2' shape=(None,) dtype=float32>, 'punctuations': <tf.Tensor 'IteratorGetNext:27' shape=(None,) dtype=float32>, 'ARI': <tf.Tensor 'IteratorGetNext:0' shape=(None,) dtype=int64>, 'freq_of_verb': <tf.Tensor 'IteratorGetNext:16' shape=(None,) dtype=float32>, 'freq_of_adj': <tf.Tensor 'IteratorGetNext:9' shape=(None,) dtype=float32>, 'freq_of_adv': <tf.Tensor 'IteratorGetNext:10' shape=(None,) dtype=float32>, 'freq_of_distinct_adj': <tf.Tensor 'IteratorGetNext:11' shape=(None,) dtype=float32>, 'freq_of_distinct_adv': <tf.Tensor 'IteratorGetNext:12' shape=(None,) dtype=float32>, 'sentence_complexity': <tf.Tensor 'IteratorGetNext:28' shape=(None,) dtype=float32>, 'freq_of_wrong_words': <tf.Tensor 'IteratorGetNext:17' shape=(None,) dtype=float32>, 'sentiment_compound': <tf.Tensor 'IteratorGetNext:29' shape=(None,) dtype=float32>, 'sentiment_positive': <tf.Tensor 'IteratorGetNext:31' shape=(None,) dtype=float32>, 'sentiment_negative': <tf.Tensor 'IteratorGetNext:30' shape=(None,) dtype=float32>, 'num_of_grammar_errors': <tf.Tensor 'IteratorGetNext:22' shape=(None,) dtype=int64>, 'corrected_text': <tf.Tensor 'IteratorGetNext:4' shape=(None,) dtype=string>, 'num_of_short_forms': <tf.Tensor 'IteratorGetNext:23' shape=(None,) dtype=int64>, 'Incorrect_form_ratio': <tf.Tensor 'IteratorGetNext:1' shape=(None,) dtype=float32>, 'flesch_reading_ease': <tf.Tensor 'IteratorGetNext:7' shape=(None,) dtype=float32>, 'flesch_kincaid_grade': <tf.Tensor 'IteratorGetNext:6' shape=(None,) dtype=float32>, 'dale_chall_readability_score': <tf.Tensor 'IteratorGetNext:5' shape=(None,) dtype=float32>, 'text_standard': <tf.Tensor 'IteratorGetNext:33' shape=(None,) dtype=float32>, 'mcalpine_eflaw': <tf.Tensor 'IteratorGetNext:20' shape=(None,) dtype=float32>, 'number_of_diff_words': <tf.Tensor 'IteratorGetNext:24' shape=(None,) dtype=int64>, 'freq_diff_words': <tf.Tensor 'IteratorGetNext:8' shape=(None,) dtype=float32>, 'ttr': <tf.Tensor 'IteratorGetNext:34' shape=(None,) dtype=float32>, 'coherence_score': <tf.Tensor 'IteratorGetNext:3' shape=(None,) dtype=float32>, 'lexrank_avg_min_diff': <tf.Tensor 'IteratorGetNext:18' shape=(None,) dtype=float32>, 'lexrank_interquartile': <tf.Tensor 'IteratorGetNext:19' shape=(None,) dtype=float32>, 'freq_of_noun': <tf.Tensor 'IteratorGetNext:13' shape=(None,) dtype=float32>, 'freq_of_transition': <tf.Tensor 'IteratorGetNext:15' shape=(None,) dtype=float32>, 'freq_of_pronoun': <tf.Tensor 'IteratorGetNext:14' shape=(None,) dtype=float32>, 'noun_to_adj': <tf.Tensor 'IteratorGetNext:21' shape=(None,) dtype=float32>, 'verb_to_adv': <tf.Tensor 'IteratorGetNext:35' shape=(None,) dtype=float32>, 'phrase_diversity': <tf.Tensor 'IteratorGetNext:26' shape=(None,) dtype=float32>, 'vocabulary': <tf.Tensor 'IteratorGetNext:36' shape=(None,) dtype=float32>}. Consider rewriting this model with the Functional API.\n"
          ]
        },
        {
          "output_type": "stream",
          "name": "stdout",
          "text": [
            "\r 1/10 [==>...........................] - ETA: 12s - loss: 865.7319 - mean_squared_error: 865.7319 - accuracy: 0.0000e+00"
          ]
        },
        {
          "output_type": "stream",
          "name": "stderr",
          "text": [
            "WARNING:tensorflow:Layers in a Sequential model should only have a single input tensor. Received: inputs={'number_of_words': <tf.Tensor 'IteratorGetNext:25' shape=(None,) dtype=int64>, 'stopwords_frequency': <tf.Tensor 'IteratorGetNext:32' shape=(None,) dtype=float32>, 'av_word_per_sen': <tf.Tensor 'IteratorGetNext:2' shape=(None,) dtype=float32>, 'punctuations': <tf.Tensor 'IteratorGetNext:27' shape=(None,) dtype=float32>, 'ARI': <tf.Tensor 'IteratorGetNext:0' shape=(None,) dtype=int64>, 'freq_of_verb': <tf.Tensor 'IteratorGetNext:16' shape=(None,) dtype=float32>, 'freq_of_adj': <tf.Tensor 'IteratorGetNext:9' shape=(None,) dtype=float32>, 'freq_of_adv': <tf.Tensor 'IteratorGetNext:10' shape=(None,) dtype=float32>, 'freq_of_distinct_adj': <tf.Tensor 'IteratorGetNext:11' shape=(None,) dtype=float32>, 'freq_of_distinct_adv': <tf.Tensor 'IteratorGetNext:12' shape=(None,) dtype=float32>, 'sentence_complexity': <tf.Tensor 'IteratorGetNext:28' shape=(None,) dtype=float32>, 'freq_of_wrong_words': <tf.Tensor 'IteratorGetNext:17' shape=(None,) dtype=float32>, 'sentiment_compound': <tf.Tensor 'IteratorGetNext:29' shape=(None,) dtype=float32>, 'sentiment_positive': <tf.Tensor 'IteratorGetNext:31' shape=(None,) dtype=float32>, 'sentiment_negative': <tf.Tensor 'IteratorGetNext:30' shape=(None,) dtype=float32>, 'num_of_grammar_errors': <tf.Tensor 'IteratorGetNext:22' shape=(None,) dtype=int64>, 'corrected_text': <tf.Tensor 'IteratorGetNext:4' shape=(None,) dtype=string>, 'num_of_short_forms': <tf.Tensor 'IteratorGetNext:23' shape=(None,) dtype=int64>, 'Incorrect_form_ratio': <tf.Tensor 'IteratorGetNext:1' shape=(None,) dtype=float32>, 'flesch_reading_ease': <tf.Tensor 'IteratorGetNext:7' shape=(None,) dtype=float32>, 'flesch_kincaid_grade': <tf.Tensor 'IteratorGetNext:6' shape=(None,) dtype=float32>, 'dale_chall_readability_score': <tf.Tensor 'IteratorGetNext:5' shape=(None,) dtype=float32>, 'text_standard': <tf.Tensor 'IteratorGetNext:33' shape=(None,) dtype=float32>, 'mcalpine_eflaw': <tf.Tensor 'IteratorGetNext:20' shape=(None,) dtype=float32>, 'number_of_diff_words': <tf.Tensor 'IteratorGetNext:24' shape=(None,) dtype=int64>, 'freq_diff_words': <tf.Tensor 'IteratorGetNext:8' shape=(None,) dtype=float32>, 'ttr': <tf.Tensor 'IteratorGetNext:34' shape=(None,) dtype=float32>, 'coherence_score': <tf.Tensor 'IteratorGetNext:3' shape=(None,) dtype=float32>, 'lexrank_avg_min_diff': <tf.Tensor 'IteratorGetNext:18' shape=(None,) dtype=float32>, 'lexrank_interquartile': <tf.Tensor 'IteratorGetNext:19' shape=(None,) dtype=float32>, 'freq_of_noun': <tf.Tensor 'IteratorGetNext:13' shape=(None,) dtype=float32>, 'freq_of_transition': <tf.Tensor 'IteratorGetNext:15' shape=(None,) dtype=float32>, 'freq_of_pronoun': <tf.Tensor 'IteratorGetNext:14' shape=(None,) dtype=float32>, 'noun_to_adj': <tf.Tensor 'IteratorGetNext:21' shape=(None,) dtype=float32>, 'verb_to_adv': <tf.Tensor 'IteratorGetNext:35' shape=(None,) dtype=float32>, 'phrase_diversity': <tf.Tensor 'IteratorGetNext:26' shape=(None,) dtype=float32>, 'vocabulary': <tf.Tensor 'IteratorGetNext:36' shape=(None,) dtype=float32>}. Consider rewriting this model with the Functional API.\n"
          ]
        },
        {
          "output_type": "stream",
          "name": "stdout",
          "text": [
            "\b\b\b\b\b\b\b\b\b\b\b\b\b\b\b\b\b\b\b\b\b\b\b\b\b\b\b\b\b\b\b\b\b\b\b\b\b\b\b\b\b\b\b\b\b\b\b\b\b\b\b\b\b\b\b\b\b\b\b\b\b\b\b\b\b\b\b\b\b\b\b\b\b\b\b\b\b\b\b\b\b\b\b\b\b\b\b\b\b\b\b\b\b\b\b\b\b\b\b\b\b\b\b\b\b\b\b\b\b\b\b\b\b\b\b\b\b\b\b\b\r10/10 [==============================] - 2s 70ms/step - loss: 120.5979 - mean_squared_error: 120.5979 - accuracy: 0.0012 - val_loss: 9.6208 - val_mean_squared_error: 9.6208 - val_accuracy: 0.0032\n",
            "Epoch 2/30\n",
            "10/10 [==============================] - 0s 10ms/step - loss: 3.6105 - mean_squared_error: 3.6105 - accuracy: 0.0012 - val_loss: 2.3412 - val_mean_squared_error: 2.3412 - val_accuracy: 0.0032\n",
            "Epoch 3/30\n",
            "10/10 [==============================] - 0s 9ms/step - loss: 1.2631 - mean_squared_error: 1.2631 - accuracy: 0.0016 - val_loss: 1.4742 - val_mean_squared_error: 1.4742 - val_accuracy: 0.0032\n",
            "Epoch 4/30\n",
            "10/10 [==============================] - 0s 11ms/step - loss: 0.8869 - mean_squared_error: 0.8869 - accuracy: 0.0012 - val_loss: 0.6933 - val_mean_squared_error: 0.6933 - val_accuracy: 0.0032\n",
            "Epoch 5/30\n",
            "10/10 [==============================] - 0s 11ms/step - loss: 0.6275 - mean_squared_error: 0.6275 - accuracy: 0.0016 - val_loss: 0.7007 - val_mean_squared_error: 0.7007 - val_accuracy: 0.0032\n",
            "Epoch 6/30\n",
            "10/10 [==============================] - 0s 10ms/step - loss: 0.5490 - mean_squared_error: 0.5490 - accuracy: 0.0016 - val_loss: 0.5177 - val_mean_squared_error: 0.5177 - val_accuracy: 0.0032\n",
            "Epoch 7/30\n",
            "10/10 [==============================] - 0s 10ms/step - loss: 0.4971 - mean_squared_error: 0.4971 - accuracy: 0.0016 - val_loss: 0.6486 - val_mean_squared_error: 0.6486 - val_accuracy: 0.0032\n",
            "Epoch 8/30\n",
            "10/10 [==============================] - 0s 11ms/step - loss: 0.4409 - mean_squared_error: 0.4409 - accuracy: 0.0016 - val_loss: 0.4434 - val_mean_squared_error: 0.4434 - val_accuracy: 0.0032\n",
            "Epoch 9/30\n",
            "10/10 [==============================] - 0s 10ms/step - loss: 0.4324 - mean_squared_error: 0.4324 - accuracy: 0.0016 - val_loss: 0.4265 - val_mean_squared_error: 0.4265 - val_accuracy: 0.0032\n",
            "Epoch 10/30\n",
            "10/10 [==============================] - 0s 10ms/step - loss: 0.3962 - mean_squared_error: 0.3962 - accuracy: 0.0016 - val_loss: 0.4079 - val_mean_squared_error: 0.4079 - val_accuracy: 0.0032\n",
            "Epoch 11/30\n",
            "10/10 [==============================] - 0s 10ms/step - loss: 0.3892 - mean_squared_error: 0.3892 - accuracy: 0.0016 - val_loss: 0.3877 - val_mean_squared_error: 0.3877 - val_accuracy: 0.0032\n",
            "Epoch 12/30\n",
            "10/10 [==============================] - 0s 11ms/step - loss: 0.3668 - mean_squared_error: 0.3668 - accuracy: 0.0016 - val_loss: 0.3901 - val_mean_squared_error: 0.3901 - val_accuracy: 0.0032\n",
            "Epoch 13/30\n",
            "10/10 [==============================] - 0s 11ms/step - loss: 0.3581 - mean_squared_error: 0.3581 - accuracy: 0.0016 - val_loss: 0.3823 - val_mean_squared_error: 0.3823 - val_accuracy: 0.0032\n",
            "Epoch 14/30\n",
            "10/10 [==============================] - 0s 10ms/step - loss: 0.3607 - mean_squared_error: 0.3607 - accuracy: 0.0016 - val_loss: 0.4119 - val_mean_squared_error: 0.4119 - val_accuracy: 0.0032\n",
            "Epoch 15/30\n",
            "10/10 [==============================] - 0s 10ms/step - loss: 0.3607 - mean_squared_error: 0.3607 - accuracy: 0.0016 - val_loss: 0.3739 - val_mean_squared_error: 0.3739 - val_accuracy: 0.0032\n",
            "Epoch 16/30\n",
            "10/10 [==============================] - 0s 10ms/step - loss: 0.3624 - mean_squared_error: 0.3624 - accuracy: 0.0016 - val_loss: 0.4108 - val_mean_squared_error: 0.4108 - val_accuracy: 0.0032\n",
            "Epoch 17/30\n",
            "10/10 [==============================] - 0s 10ms/step - loss: 0.3461 - mean_squared_error: 0.3461 - accuracy: 0.0016 - val_loss: 0.3583 - val_mean_squared_error: 0.3583 - val_accuracy: 0.0032\n",
            "Epoch 18/30\n",
            "10/10 [==============================] - 0s 11ms/step - loss: 0.3404 - mean_squared_error: 0.3404 - accuracy: 0.0016 - val_loss: 0.3532 - val_mean_squared_error: 0.3532 - val_accuracy: 0.0032\n",
            "Epoch 19/30\n",
            "10/10 [==============================] - 0s 10ms/step - loss: 0.3422 - mean_squared_error: 0.3422 - accuracy: 0.0016 - val_loss: 0.3903 - val_mean_squared_error: 0.3903 - val_accuracy: 0.0032\n",
            "Epoch 20/30\n",
            "10/10 [==============================] - 0s 10ms/step - loss: 0.3411 - mean_squared_error: 0.3411 - accuracy: 0.0016 - val_loss: 0.3595 - val_mean_squared_error: 0.3595 - val_accuracy: 0.0032\n",
            "Epoch 21/30\n",
            "10/10 [==============================] - 0s 10ms/step - loss: 0.3287 - mean_squared_error: 0.3287 - accuracy: 0.0016 - val_loss: 0.3596 - val_mean_squared_error: 0.3596 - val_accuracy: 0.0032\n",
            "Epoch 22/30\n",
            "10/10 [==============================] - 0s 10ms/step - loss: 0.3473 - mean_squared_error: 0.3473 - accuracy: 0.0016 - val_loss: 0.4081 - val_mean_squared_error: 0.4081 - val_accuracy: 0.0032\n",
            "Epoch 23/30\n",
            "10/10 [==============================] - 0s 10ms/step - loss: 0.3478 - mean_squared_error: 0.3478 - accuracy: 0.0016 - val_loss: 0.4271 - val_mean_squared_error: 0.4271 - val_accuracy: 0.0032\n",
            "Epoch 24/30\n",
            "10/10 [==============================] - 0s 10ms/step - loss: 0.3689 - mean_squared_error: 0.3689 - accuracy: 0.0016 - val_loss: 0.3819 - val_mean_squared_error: 0.3819 - val_accuracy: 0.0032\n",
            "Epoch 25/30\n",
            "10/10 [==============================] - 0s 10ms/step - loss: 0.3415 - mean_squared_error: 0.3415 - accuracy: 0.0016 - val_loss: 0.3826 - val_mean_squared_error: 0.3826 - val_accuracy: 0.0032\n",
            "Epoch 26/30\n",
            "10/10 [==============================] - 0s 10ms/step - loss: 0.3394 - mean_squared_error: 0.3394 - accuracy: 0.0016 - val_loss: 0.3645 - val_mean_squared_error: 0.3645 - val_accuracy: 0.0032\n",
            "Epoch 27/30\n",
            "10/10 [==============================] - 0s 10ms/step - loss: 0.3350 - mean_squared_error: 0.3350 - accuracy: 0.0016 - val_loss: 0.4131 - val_mean_squared_error: 0.4131 - val_accuracy: 0.0032\n",
            "Epoch 28/30\n",
            "10/10 [==============================] - 0s 10ms/step - loss: 0.3338 - mean_squared_error: 0.3338 - accuracy: 0.0016 - val_loss: 0.3908 - val_mean_squared_error: 0.3908 - val_accuracy: 0.0032\n",
            "Epoch 29/30\n",
            "10/10 [==============================] - 0s 10ms/step - loss: 0.3415 - mean_squared_error: 0.3415 - accuracy: 0.0016 - val_loss: 0.3645 - val_mean_squared_error: 0.3645 - val_accuracy: 0.0032\n",
            "Epoch 30/30\n",
            "10/10 [==============================] - 0s 10ms/step - loss: 0.3306 - mean_squared_error: 0.3306 - accuracy: 0.0016 - val_loss: 0.3490 - val_mean_squared_error: 0.3490 - val_accuracy: 0.0032\n"
          ]
        },
        {
          "output_type": "display_data",
          "data": {
            "text/plain": [
              "<Figure size 720x576 with 1 Axes>"
            ],
            "image/png": "[encoded data removed]"
          },
          "metadata": {
            "needs_background": "light"
          }
        }
      ]
    },
    {
      "cell_type": "code",
      "source": [
        "test_features = {name:np.array(value) for name, value in test_data.items()}\n",
        "test_features.pop(\"vocabulary\")\n",
        "test_label = np.array(test_features.pop(label_name))\n",
        "prediction_deep_better1 = model_deep_better1.predict(test_features)\n",
        "pre_list = []\n",
        "for value in prediction_deep_better1:\n",
        "  pre_list.append(value[0])\n",
        "pre_list_2 = result(pre_list)"
      ],
      "metadata": {
        "colab": {
          "base_uri": "https://localhost:8080/"
        },
        "outputId": "fa8351b7-4fae-46ec-daf5-3cfa3540550d",
        "id": "JitCe3yojMO_"
      },
      "execution_count": null,
      "outputs": [
        {
          "output_type": "stream",
          "name": "stderr",
          "text": [
            "WARNING:tensorflow:Layers in a Sequential model should only have a single input tensor. Received: inputs={'number_of_words': <tf.Tensor 'IteratorGetNext:24' shape=(None,) dtype=int64>, 'stopwords_frequency': <tf.Tensor 'IteratorGetNext:31' shape=(None,) dtype=float32>, 'av_word_per_sen': <tf.Tensor 'IteratorGetNext:2' shape=(None,) dtype=float32>, 'punctuations': <tf.Tensor 'IteratorGetNext:26' shape=(None,) dtype=float32>, 'ARI': <tf.Tensor 'IteratorGetNext:0' shape=(None,) dtype=int64>, 'freq_of_verb': <tf.Tensor 'IteratorGetNext:15' shape=(None,) dtype=float32>, 'freq_of_adj': <tf.Tensor 'IteratorGetNext:8' shape=(None,) dtype=float32>, 'freq_of_adv': <tf.Tensor 'IteratorGetNext:9' shape=(None,) dtype=float32>, 'freq_of_distinct_adj': <tf.Tensor 'IteratorGetNext:10' shape=(None,) dtype=float32>, 'freq_of_distinct_adv': <tf.Tensor 'IteratorGetNext:11' shape=(None,) dtype=float32>, 'sentence_complexity': <tf.Tensor 'IteratorGetNext:27' shape=(None,) dtype=float32>, 'freq_of_wrong_words': <tf.Tensor 'IteratorGetNext:16' shape=(None,) dtype=float32>, 'sentiment_compound': <tf.Tensor 'IteratorGetNext:28' shape=(None,) dtype=float32>, 'sentiment_positive': <tf.Tensor 'IteratorGetNext:30' shape=(None,) dtype=float32>, 'sentiment_negative': <tf.Tensor 'IteratorGetNext:29' shape=(None,) dtype=float32>, 'num_of_grammar_errors': <tf.Tensor 'IteratorGetNext:21' shape=(None,) dtype=int64>, 'num_of_short_forms': <tf.Tensor 'IteratorGetNext:22' shape=(None,) dtype=int64>, 'Incorrect_form_ratio': <tf.Tensor 'IteratorGetNext:1' shape=(None,) dtype=float32>, 'flesch_reading_ease': <tf.Tensor 'IteratorGetNext:6' shape=(None,) dtype=float32>, 'flesch_kincaid_grade': <tf.Tensor 'IteratorGetNext:5' shape=(None,) dtype=float32>, 'dale_chall_readability_score': <tf.Tensor 'IteratorGetNext:4' shape=(None,) dtype=float32>, 'text_standard': <tf.Tensor 'IteratorGetNext:32' shape=(None,) dtype=float32>, 'mcalpine_eflaw': <tf.Tensor 'IteratorGetNext:19' shape=(None,) dtype=float32>, 'number_of_diff_words': <tf.Tensor 'IteratorGetNext:23' shape=(None,) dtype=int64>, 'freq_diff_words': <tf.Tensor 'IteratorGetNext:7' shape=(None,) dtype=float32>, 'ttr': <tf.Tensor 'IteratorGetNext:33' shape=(None,) dtype=float32>, 'coherence_score': <tf.Tensor 'IteratorGetNext:3' shape=(None,) dtype=float32>, 'lexrank_avg_min_diff': <tf.Tensor 'IteratorGetNext:17' shape=(None,) dtype=float32>, 'lexrank_interquartile': <tf.Tensor 'IteratorGetNext:18' shape=(None,) dtype=float32>, 'freq_of_noun': <tf.Tensor 'IteratorGetNext:12' shape=(None,) dtype=float32>, 'freq_of_transition': <tf.Tensor 'IteratorGetNext:14' shape=(None,) dtype=float32>, 'freq_of_pronoun': <tf.Tensor 'IteratorGetNext:13' shape=(None,) dtype=float32>, 'noun_to_adj': <tf.Tensor 'IteratorGetNext:20' shape=(None,) dtype=float32>, 'verb_to_adv': <tf.Tensor 'IteratorGetNext:34' shape=(None,) dtype=float32>, 'phrase_diversity': <tf.Tensor 'IteratorGetNext:25' shape=(None,) dtype=float32>}. Consider rewriting this model with the Functional API.\n"
          ]
        },
        {
          "output_type": "stream",
          "name": "stdout",
          "text": [
            "25/25 [==============================] - 0s 3ms/step\n"
          ]
        }
      ],
      "id": "JitCe3yojMO_"
    },
    {
      "cell_type": "code",
      "source": [
        "co_accuracy_deep_better = accuracy_range(pre_list, list(test_data['cohesion']))\n",
        "co_accuracy_deep_better"
      ],
      "metadata": {
        "colab": {
          "base_uri": "https://localhost:8080/"
        },
        "outputId": "32d56163-c39d-498d-a6d4-fd533eddde0f",
        "id": "oJPYAndojMO_"
      },
      "execution_count": null,
      "outputs": [
        {
          "output_type": "execute_result",
          "data": {
            "text/plain": [
              "0.6130268199233716"
            ]
          },
          "metadata": {},
          "execution_count": 127
        }
      ],
      "id": "oJPYAndojMO_"
    },
    {
      "cell_type": "code",
      "source": [
        "co_accuracy2_deep_better = accuracy(list(test_data['cohesion']), pre_list_2)\n",
        "co_accuracy2_deep_better"
      ],
      "metadata": {
        "colab": {
          "base_uri": "https://localhost:8080/"
        },
        "outputId": "205ba121-af66-4ab9-e766-e0e1df669139",
        "id": "U13kCDq5jMO_"
      },
      "execution_count": null,
      "outputs": [
        {
          "output_type": "execute_result",
          "data": {
            "text/plain": [
              "0.34099616858237547"
            ]
          },
          "metadata": {},
          "execution_count": 128
        }
      ],
      "id": "U13kCDq5jMO_"
    },
    {
      "cell_type": "code",
      "source": [
        "error_rate5 = error_rate(list(test_data['cohesion']), pre_list)\n",
        "error_rate5"
      ],
      "metadata": {
        "colab": {
          "base_uri": "https://localhost:8080/"
        },
        "outputId": "9f5fe031-464a-4994-9c0c-a8a58d721493",
        "id": "GSXHBvIojMO_"
      },
      "execution_count": null,
      "outputs": [
        {
          "output_type": "execute_result",
          "data": {
            "text/plain": [
              "0.4476889639826418"
            ]
          },
          "metadata": {},
          "execution_count": 129
        }
      ],
      "id": "GSXHBvIojMO_"
    },
    {
      "cell_type": "code",
      "source": [
        "label_name = \"vocabulary\"\n",
        "model_deep_better = create_model_deep(learning_rate, my_feature_layer, [30, 20, 10, 8])\n",
        "\n",
        "mse_train_deep_better, mse_val_deep_better = train_model(model_deep_better,train_data, number_epochs, batch_size, label_name)\n",
        "plot_the_loss_curve(mse_train_deep_better, mse_val_deep_better)"
      ],
      "metadata": {
        "colab": {
          "base_uri": "https://localhost:8080/",
          "height": 1000
        },
        "id": "tTp63ivb1wsJ",
        "outputId": "c1a8ac73-99f0-4a57-bb95-bc69e93880e5"
      },
      "id": "tTp63ivb1wsJ",
      "execution_count": null,
      "outputs": [
        {
          "output_type": "stream",
          "name": "stdout",
          "text": [
            "Epoch 1/30\n"
          ]
        },
        {
          "output_type": "stream",
          "name": "stderr",
          "text": [
            "/usr/local/lib/python3.7/dist-packages/keras/optimizers/optimizer_v2/adam.py:110: UserWarning: The `lr` argument is deprecated, use `learning_rate` instead.\n",
            "  super(Adam, self).__init__(name, **kwargs)\n",
            "WARNING:tensorflow:Layers in a Sequential model should only have a single input tensor. Received: inputs={'number_of_words': <tf.Tensor 'IteratorGetNext:26' shape=(None,) dtype=int64>, 'stopwords_frequency': <tf.Tensor 'IteratorGetNext:33' shape=(None,) dtype=float32>, 'av_word_per_sen': <tf.Tensor 'IteratorGetNext:2' shape=(None,) dtype=float32>, 'punctuations': <tf.Tensor 'IteratorGetNext:28' shape=(None,) dtype=float32>, 'ARI': <tf.Tensor 'IteratorGetNext:0' shape=(None,) dtype=int64>, 'freq_of_verb': <tf.Tensor 'IteratorGetNext:17' shape=(None,) dtype=float32>, 'freq_of_adj': <tf.Tensor 'IteratorGetNext:10' shape=(None,) dtype=float32>, 'freq_of_adv': <tf.Tensor 'IteratorGetNext:11' shape=(None,) dtype=float32>, 'freq_of_distinct_adj': <tf.Tensor 'IteratorGetNext:12' shape=(None,) dtype=float32>, 'freq_of_distinct_adv': <tf.Tensor 'IteratorGetNext:13' shape=(None,) dtype=float32>, 'sentence_complexity': <tf.Tensor 'IteratorGetNext:29' shape=(None,) dtype=float32>, 'freq_of_wrong_words': <tf.Tensor 'IteratorGetNext:18' shape=(None,) dtype=float32>, 'sentiment_compound': <tf.Tensor 'IteratorGetNext:30' shape=(None,) dtype=float32>, 'sentiment_positive': <tf.Tensor 'IteratorGetNext:32' shape=(None,) dtype=float32>, 'sentiment_negative': <tf.Tensor 'IteratorGetNext:31' shape=(None,) dtype=float32>, 'num_of_grammar_errors': <tf.Tensor 'IteratorGetNext:23' shape=(None,) dtype=int64>, 'corrected_text': <tf.Tensor 'IteratorGetNext:5' shape=(None,) dtype=string>, 'num_of_short_forms': <tf.Tensor 'IteratorGetNext:24' shape=(None,) dtype=int64>, 'Incorrect_form_ratio': <tf.Tensor 'IteratorGetNext:1' shape=(None,) dtype=float32>, 'flesch_reading_ease': <tf.Tensor 'IteratorGetNext:8' shape=(None,) dtype=float32>, 'flesch_kincaid_grade': <tf.Tensor 'IteratorGetNext:7' shape=(None,) dtype=float32>, 'dale_chall_readability_score': <tf.Tensor 'IteratorGetNext:6' shape=(None,) dtype=float32>, 'text_standard': <tf.Tensor 'IteratorGetNext:34' shape=(None,) dtype=float32>, 'mcalpine_eflaw': <tf.Tensor 'IteratorGetNext:21' shape=(None,) dtype=float32>, 'number_of_diff_words': <tf.Tensor 'IteratorGetNext:25' shape=(None,) dtype=int64>, 'freq_diff_words': <tf.Tensor 'IteratorGetNext:9' shape=(None,) dtype=float32>, 'ttr': <tf.Tensor 'IteratorGetNext:35' shape=(None,) dtype=float32>, 'coherence_score': <tf.Tensor 'IteratorGetNext:3' shape=(None,) dtype=float32>, 'lexrank_avg_min_diff': <tf.Tensor 'IteratorGetNext:19' shape=(None,) dtype=float32>, 'lexrank_interquartile': <tf.Tensor 'IteratorGetNext:20' shape=(None,) dtype=float32>, 'freq_of_noun': <tf.Tensor 'IteratorGetNext:14' shape=(None,) dtype=float32>, 'freq_of_transition': <tf.Tensor 'IteratorGetNext:16' shape=(None,) dtype=float32>, 'freq_of_pronoun': <tf.Tensor 'IteratorGetNext:15' shape=(None,) dtype=float32>, 'noun_to_adj': <tf.Tensor 'IteratorGetNext:22' shape=(None,) dtype=float32>, 'verb_to_adv': <tf.Tensor 'IteratorGetNext:36' shape=(None,) dtype=float32>, 'phrase_diversity': <tf.Tensor 'IteratorGetNext:27' shape=(None,) dtype=float32>, 'cohesion': <tf.Tensor 'IteratorGetNext:4' shape=(None,) dtype=float32>}. Consider rewriting this model with the Functional API.\n",
            "WARNING:tensorflow:Layers in a Sequential model should only have a single input tensor. Received: inputs={'number_of_words': <tf.Tensor 'IteratorGetNext:26' shape=(None,) dtype=int64>, 'stopwords_frequency': <tf.Tensor 'IteratorGetNext:33' shape=(None,) dtype=float32>, 'av_word_per_sen': <tf.Tensor 'IteratorGetNext:2' shape=(None,) dtype=float32>, 'punctuations': <tf.Tensor 'IteratorGetNext:28' shape=(None,) dtype=float32>, 'ARI': <tf.Tensor 'IteratorGetNext:0' shape=(None,) dtype=int64>, 'freq_of_verb': <tf.Tensor 'IteratorGetNext:17' shape=(None,) dtype=float32>, 'freq_of_adj': <tf.Tensor 'IteratorGetNext:10' shape=(None,) dtype=float32>, 'freq_of_adv': <tf.Tensor 'IteratorGetNext:11' shape=(None,) dtype=float32>, 'freq_of_distinct_adj': <tf.Tensor 'IteratorGetNext:12' shape=(None,) dtype=float32>, 'freq_of_distinct_adv': <tf.Tensor 'IteratorGetNext:13' shape=(None,) dtype=float32>, 'sentence_complexity': <tf.Tensor 'IteratorGetNext:29' shape=(None,) dtype=float32>, 'freq_of_wrong_words': <tf.Tensor 'IteratorGetNext:18' shape=(None,) dtype=float32>, 'sentiment_compound': <tf.Tensor 'IteratorGetNext:30' shape=(None,) dtype=float32>, 'sentiment_positive': <tf.Tensor 'IteratorGetNext:32' shape=(None,) dtype=float32>, 'sentiment_negative': <tf.Tensor 'IteratorGetNext:31' shape=(None,) dtype=float32>, 'num_of_grammar_errors': <tf.Tensor 'IteratorGetNext:23' shape=(None,) dtype=int64>, 'corrected_text': <tf.Tensor 'IteratorGetNext:5' shape=(None,) dtype=string>, 'num_of_short_forms': <tf.Tensor 'IteratorGetNext:24' shape=(None,) dtype=int64>, 'Incorrect_form_ratio': <tf.Tensor 'IteratorGetNext:1' shape=(None,) dtype=float32>, 'flesch_reading_ease': <tf.Tensor 'IteratorGetNext:8' shape=(None,) dtype=float32>, 'flesch_kincaid_grade': <tf.Tensor 'IteratorGetNext:7' shape=(None,) dtype=float32>, 'dale_chall_readability_score': <tf.Tensor 'IteratorGetNext:6' shape=(None,) dtype=float32>, 'text_standard': <tf.Tensor 'IteratorGetNext:34' shape=(None,) dtype=float32>, 'mcalpine_eflaw': <tf.Tensor 'IteratorGetNext:21' shape=(None,) dtype=float32>, 'number_of_diff_words': <tf.Tensor 'IteratorGetNext:25' shape=(None,) dtype=int64>, 'freq_diff_words': <tf.Tensor 'IteratorGetNext:9' shape=(None,) dtype=float32>, 'ttr': <tf.Tensor 'IteratorGetNext:35' shape=(None,) dtype=float32>, 'coherence_score': <tf.Tensor 'IteratorGetNext:3' shape=(None,) dtype=float32>, 'lexrank_avg_min_diff': <tf.Tensor 'IteratorGetNext:19' shape=(None,) dtype=float32>, 'lexrank_interquartile': <tf.Tensor 'IteratorGetNext:20' shape=(None,) dtype=float32>, 'freq_of_noun': <tf.Tensor 'IteratorGetNext:14' shape=(None,) dtype=float32>, 'freq_of_transition': <tf.Tensor 'IteratorGetNext:16' shape=(None,) dtype=float32>, 'freq_of_pronoun': <tf.Tensor 'IteratorGetNext:15' shape=(None,) dtype=float32>, 'noun_to_adj': <tf.Tensor 'IteratorGetNext:22' shape=(None,) dtype=float32>, 'verb_to_adv': <tf.Tensor 'IteratorGetNext:36' shape=(None,) dtype=float32>, 'phrase_diversity': <tf.Tensor 'IteratorGetNext:27' shape=(None,) dtype=float32>, 'cohesion': <tf.Tensor 'IteratorGetNext:4' shape=(None,) dtype=float32>}. Consider rewriting this model with the Functional API.\n"
          ]
        },
        {
          "output_type": "stream",
          "name": "stdout",
          "text": [
            "\r 1/10 [==>...........................] - ETA: 9s - loss: 7.4087 - mean_squared_error: 7.4087 - accuracy: 0.0000e+00"
          ]
        },
        {
          "output_type": "stream",
          "name": "stderr",
          "text": [
            "WARNING:tensorflow:Layers in a Sequential model should only have a single input tensor. Received: inputs={'number_of_words': <tf.Tensor 'IteratorGetNext:26' shape=(None,) dtype=int64>, 'stopwords_frequency': <tf.Tensor 'IteratorGetNext:33' shape=(None,) dtype=float32>, 'av_word_per_sen': <tf.Tensor 'IteratorGetNext:2' shape=(None,) dtype=float32>, 'punctuations': <tf.Tensor 'IteratorGetNext:28' shape=(None,) dtype=float32>, 'ARI': <tf.Tensor 'IteratorGetNext:0' shape=(None,) dtype=int64>, 'freq_of_verb': <tf.Tensor 'IteratorGetNext:17' shape=(None,) dtype=float32>, 'freq_of_adj': <tf.Tensor 'IteratorGetNext:10' shape=(None,) dtype=float32>, 'freq_of_adv': <tf.Tensor 'IteratorGetNext:11' shape=(None,) dtype=float32>, 'freq_of_distinct_adj': <tf.Tensor 'IteratorGetNext:12' shape=(None,) dtype=float32>, 'freq_of_distinct_adv': <tf.Tensor 'IteratorGetNext:13' shape=(None,) dtype=float32>, 'sentence_complexity': <tf.Tensor 'IteratorGetNext:29' shape=(None,) dtype=float32>, 'freq_of_wrong_words': <tf.Tensor 'IteratorGetNext:18' shape=(None,) dtype=float32>, 'sentiment_compound': <tf.Tensor 'IteratorGetNext:30' shape=(None,) dtype=float32>, 'sentiment_positive': <tf.Tensor 'IteratorGetNext:32' shape=(None,) dtype=float32>, 'sentiment_negative': <tf.Tensor 'IteratorGetNext:31' shape=(None,) dtype=float32>, 'num_of_grammar_errors': <tf.Tensor 'IteratorGetNext:23' shape=(None,) dtype=int64>, 'corrected_text': <tf.Tensor 'IteratorGetNext:5' shape=(None,) dtype=string>, 'num_of_short_forms': <tf.Tensor 'IteratorGetNext:24' shape=(None,) dtype=int64>, 'Incorrect_form_ratio': <tf.Tensor 'IteratorGetNext:1' shape=(None,) dtype=float32>, 'flesch_reading_ease': <tf.Tensor 'IteratorGetNext:8' shape=(None,) dtype=float32>, 'flesch_kincaid_grade': <tf.Tensor 'IteratorGetNext:7' shape=(None,) dtype=float32>, 'dale_chall_readability_score': <tf.Tensor 'IteratorGetNext:6' shape=(None,) dtype=float32>, 'text_standard': <tf.Tensor 'IteratorGetNext:34' shape=(None,) dtype=float32>, 'mcalpine_eflaw': <tf.Tensor 'IteratorGetNext:21' shape=(None,) dtype=float32>, 'number_of_diff_words': <tf.Tensor 'IteratorGetNext:25' shape=(None,) dtype=int64>, 'freq_diff_words': <tf.Tensor 'IteratorGetNext:9' shape=(None,) dtype=float32>, 'ttr': <tf.Tensor 'IteratorGetNext:35' shape=(None,) dtype=float32>, 'coherence_score': <tf.Tensor 'IteratorGetNext:3' shape=(None,) dtype=float32>, 'lexrank_avg_min_diff': <tf.Tensor 'IteratorGetNext:19' shape=(None,) dtype=float32>, 'lexrank_interquartile': <tf.Tensor 'IteratorGetNext:20' shape=(None,) dtype=float32>, 'freq_of_noun': <tf.Tensor 'IteratorGetNext:14' shape=(None,) dtype=float32>, 'freq_of_transition': <tf.Tensor 'IteratorGetNext:16' shape=(None,) dtype=float32>, 'freq_of_pronoun': <tf.Tensor 'IteratorGetNext:15' shape=(None,) dtype=float32>, 'noun_to_adj': <tf.Tensor 'IteratorGetNext:22' shape=(None,) dtype=float32>, 'verb_to_adv': <tf.Tensor 'IteratorGetNext:36' shape=(None,) dtype=float32>, 'phrase_diversity': <tf.Tensor 'IteratorGetNext:27' shape=(None,) dtype=float32>, 'cohesion': <tf.Tensor 'IteratorGetNext:4' shape=(None,) dtype=float32>}. Consider rewriting this model with the Functional API.\n"
          ]
        },
        {
          "output_type": "stream",
          "name": "stdout",
          "text": [
            "\b\b\b\b\b\b\b\b\b\b\b\b\b\b\b\b\b\b\b\b\b\b\b\b\b\b\b\b\b\b\b\b\b\b\b\b\b\b\b\b\b\b\b\b\b\b\b\b\b\b\b\b\b\b\b\b\b\b\b\b\b\b\b\b\b\b\b\b\b\b\b\b\b\b\b\b\b\b\b\b\b\b\b\b\b\b\b\b\b\b\b\b\b\b\b\b\b\b\b\b\b\b\b\b\b\b\b\b\b\b\b\b\b\b\b\r10/10 [==============================] - 2s 69ms/step - loss: 19.4271 - mean_squared_error: 19.4271 - accuracy: 0.0000e+00 - val_loss: 10.2710 - val_mean_squared_error: 10.2710 - val_accuracy: 0.0000e+00\n",
            "Epoch 2/30\n",
            "10/10 [==============================] - 0s 10ms/step - loss: 9.6677 - mean_squared_error: 9.6677 - accuracy: 0.0000e+00 - val_loss: 9.1294 - val_mean_squared_error: 9.1294 - val_accuracy: 0.0000e+00\n",
            "Epoch 3/30\n",
            "10/10 [==============================] - 0s 9ms/step - loss: 8.5666 - mean_squared_error: 8.5666 - accuracy: 0.0000e+00 - val_loss: 8.0668 - val_mean_squared_error: 8.0668 - val_accuracy: 0.0000e+00\n",
            "Epoch 4/30\n",
            "10/10 [==============================] - 0s 9ms/step - loss: 7.0744 - mean_squared_error: 7.0744 - accuracy: 0.0000e+00 - val_loss: 3.4034 - val_mean_squared_error: 3.4034 - val_accuracy: 0.0000e+00\n",
            "Epoch 5/30\n",
            "10/10 [==============================] - 0s 9ms/step - loss: 1.4529 - mean_squared_error: 1.4529 - accuracy: 0.0000e+00 - val_loss: 1.3349 - val_mean_squared_error: 1.3349 - val_accuracy: 0.0000e+00\n",
            "Epoch 6/30\n",
            "10/10 [==============================] - 0s 9ms/step - loss: 0.8056 - mean_squared_error: 0.8056 - accuracy: 0.0000e+00 - val_loss: 0.8023 - val_mean_squared_error: 0.8023 - val_accuracy: 0.0000e+00\n",
            "Epoch 7/30\n",
            "10/10 [==============================] - 0s 10ms/step - loss: 0.5384 - mean_squared_error: 0.5384 - accuracy: 0.0000e+00 - val_loss: 0.5174 - val_mean_squared_error: 0.5174 - val_accuracy: 0.0000e+00\n",
            "Epoch 8/30\n",
            "10/10 [==============================] - 0s 10ms/step - loss: 0.3768 - mean_squared_error: 0.3768 - accuracy: 0.0000e+00 - val_loss: 0.3572 - val_mean_squared_error: 0.3572 - val_accuracy: 0.0000e+00\n",
            "Epoch 9/30\n",
            "10/10 [==============================] - 0s 10ms/step - loss: 0.3184 - mean_squared_error: 0.3184 - accuracy: 0.0000e+00 - val_loss: 0.3172 - val_mean_squared_error: 0.3172 - val_accuracy: 0.0000e+00\n",
            "Epoch 10/30\n",
            "10/10 [==============================] - 0s 10ms/step - loss: 0.2906 - mean_squared_error: 0.2906 - accuracy: 0.0000e+00 - val_loss: 0.2881 - val_mean_squared_error: 0.2881 - val_accuracy: 0.0000e+00\n",
            "Epoch 11/30\n",
            "10/10 [==============================] - 0s 10ms/step - loss: 0.2691 - mean_squared_error: 0.2691 - accuracy: 0.0000e+00 - val_loss: 0.2670 - val_mean_squared_error: 0.2670 - val_accuracy: 0.0000e+00\n",
            "Epoch 12/30\n",
            "10/10 [==============================] - 0s 10ms/step - loss: 0.2665 - mean_squared_error: 0.2665 - accuracy: 0.0000e+00 - val_loss: 0.2797 - val_mean_squared_error: 0.2797 - val_accuracy: 0.0000e+00\n",
            "Epoch 13/30\n",
            "10/10 [==============================] - 0s 10ms/step - loss: 0.2614 - mean_squared_error: 0.2614 - accuracy: 0.0000e+00 - val_loss: 0.2639 - val_mean_squared_error: 0.2639 - val_accuracy: 0.0000e+00\n",
            "Epoch 14/30\n",
            "10/10 [==============================] - 0s 9ms/step - loss: 0.2630 - mean_squared_error: 0.2630 - accuracy: 0.0000e+00 - val_loss: 0.2578 - val_mean_squared_error: 0.2578 - val_accuracy: 0.0000e+00\n",
            "Epoch 15/30\n",
            "10/10 [==============================] - 0s 10ms/step - loss: 0.2591 - mean_squared_error: 0.2591 - accuracy: 0.0000e+00 - val_loss: 0.2613 - val_mean_squared_error: 0.2613 - val_accuracy: 0.0000e+00\n",
            "Epoch 16/30\n",
            "10/10 [==============================] - 0s 9ms/step - loss: 0.2552 - mean_squared_error: 0.2552 - accuracy: 0.0000e+00 - val_loss: 0.2614 - val_mean_squared_error: 0.2614 - val_accuracy: 0.0000e+00\n",
            "Epoch 17/30\n",
            "10/10 [==============================] - 0s 10ms/step - loss: 0.2566 - mean_squared_error: 0.2566 - accuracy: 0.0000e+00 - val_loss: 0.2703 - val_mean_squared_error: 0.2703 - val_accuracy: 0.0000e+00\n",
            "Epoch 18/30\n",
            "10/10 [==============================] - 0s 11ms/step - loss: 0.2586 - mean_squared_error: 0.2586 - accuracy: 0.0000e+00 - val_loss: 0.2610 - val_mean_squared_error: 0.2610 - val_accuracy: 0.0000e+00\n",
            "Epoch 19/30\n",
            "10/10 [==============================] - 0s 9ms/step - loss: 0.2549 - mean_squared_error: 0.2549 - accuracy: 0.0000e+00 - val_loss: 0.2700 - val_mean_squared_error: 0.2700 - val_accuracy: 0.0000e+00\n",
            "Epoch 20/30\n",
            "10/10 [==============================] - 0s 10ms/step - loss: 0.2537 - mean_squared_error: 0.2537 - accuracy: 0.0000e+00 - val_loss: 0.2627 - val_mean_squared_error: 0.2627 - val_accuracy: 0.0000e+00\n",
            "Epoch 21/30\n",
            "10/10 [==============================] - 0s 10ms/step - loss: 0.2509 - mean_squared_error: 0.2509 - accuracy: 0.0000e+00 - val_loss: 0.2532 - val_mean_squared_error: 0.2532 - val_accuracy: 0.0000e+00\n",
            "Epoch 22/30\n",
            "10/10 [==============================] - 0s 11ms/step - loss: 0.2468 - mean_squared_error: 0.2468 - accuracy: 0.0000e+00 - val_loss: 0.2528 - val_mean_squared_error: 0.2528 - val_accuracy: 0.0000e+00\n",
            "Epoch 23/30\n",
            "10/10 [==============================] - 0s 9ms/step - loss: 0.2462 - mean_squared_error: 0.2462 - accuracy: 0.0000e+00 - val_loss: 0.2529 - val_mean_squared_error: 0.2529 - val_accuracy: 0.0000e+00\n",
            "Epoch 24/30\n",
            "10/10 [==============================] - 0s 9ms/step - loss: 0.2477 - mean_squared_error: 0.2477 - accuracy: 0.0000e+00 - val_loss: 0.2488 - val_mean_squared_error: 0.2488 - val_accuracy: 0.0000e+00\n",
            "Epoch 25/30\n",
            "10/10 [==============================] - 0s 10ms/step - loss: 0.2509 - mean_squared_error: 0.2509 - accuracy: 0.0000e+00 - val_loss: 0.2555 - val_mean_squared_error: 0.2555 - val_accuracy: 0.0000e+00\n",
            "Epoch 26/30\n",
            "10/10 [==============================] - 0s 10ms/step - loss: 0.2461 - mean_squared_error: 0.2461 - accuracy: 0.0000e+00 - val_loss: 0.2530 - val_mean_squared_error: 0.2530 - val_accuracy: 0.0000e+00\n",
            "Epoch 27/30\n",
            "10/10 [==============================] - 0s 9ms/step - loss: 0.2443 - mean_squared_error: 0.2443 - accuracy: 0.0000e+00 - val_loss: 0.2482 - val_mean_squared_error: 0.2482 - val_accuracy: 0.0000e+00\n",
            "Epoch 28/30\n",
            "10/10 [==============================] - 0s 9ms/step - loss: 0.2463 - mean_squared_error: 0.2463 - accuracy: 0.0000e+00 - val_loss: 0.2532 - val_mean_squared_error: 0.2532 - val_accuracy: 0.0000e+00\n",
            "Epoch 29/30\n",
            "10/10 [==============================] - 0s 10ms/step - loss: 0.2462 - mean_squared_error: 0.2462 - accuracy: 0.0000e+00 - val_loss: 0.2523 - val_mean_squared_error: 0.2523 - val_accuracy: 0.0000e+00\n",
            "Epoch 30/30\n",
            "10/10 [==============================] - 0s 10ms/step - loss: 0.2490 - mean_squared_error: 0.2490 - accuracy: 0.0000e+00 - val_loss: 0.2509 - val_mean_squared_error: 0.2509 - val_accuracy: 0.0000e+00\n"
          ]
        },
        {
          "output_type": "display_data",
          "data": {
            "text/plain": [
              "<Figure size 720x576 with 1 Axes>"
            ],
            "image/png": "[encoded data removed]"
          },
          "metadata": {
            "needs_background": "light"
          }
        }
      ]
    },
    {
      "cell_type": "code",
      "source": [
        "test_features = {name:np.array(value) for name, value in test_data.items()}\n",
        "test_features.pop(\"cohesion\")\n",
        "test_label = np.array(test_features.pop(label_name))# isolate the label\n",
        "\n",
        "result_deep_better = model_deep_better.evaluate(x=test_features, \n",
        "                  y=test_label, \n",
        "                  batch_size=batch_size)\n",
        "\n",
        "for item in zip(model_deep_better.metrics_names, result_deep_better):\n",
        "  print (item[0], item[1])"
      ],
      "metadata": {
        "colab": {
          "base_uri": "https://localhost:8080/"
        },
        "id": "_xA01Kbo4xHD",
        "outputId": "ec135abc-ea02-4e3b-9012-7686db87e631"
      },
      "id": "_xA01Kbo4xHD",
      "execution_count": null,
      "outputs": [
        {
          "output_type": "stream",
          "name": "stderr",
          "text": [
            "WARNING:tensorflow:Layers in a Sequential model should only have a single input tensor. Received: inputs={'number_of_words': <tf.Tensor 'IteratorGetNext:24' shape=(None,) dtype=int64>, 'stopwords_frequency': <tf.Tensor 'IteratorGetNext:31' shape=(None,) dtype=float32>, 'av_word_per_sen': <tf.Tensor 'IteratorGetNext:2' shape=(None,) dtype=float32>, 'punctuations': <tf.Tensor 'IteratorGetNext:26' shape=(None,) dtype=float32>, 'ARI': <tf.Tensor 'IteratorGetNext:0' shape=(None,) dtype=int64>, 'freq_of_verb': <tf.Tensor 'IteratorGetNext:15' shape=(None,) dtype=float32>, 'freq_of_adj': <tf.Tensor 'IteratorGetNext:8' shape=(None,) dtype=float32>, 'freq_of_adv': <tf.Tensor 'IteratorGetNext:9' shape=(None,) dtype=float32>, 'freq_of_distinct_adj': <tf.Tensor 'IteratorGetNext:10' shape=(None,) dtype=float32>, 'freq_of_distinct_adv': <tf.Tensor 'IteratorGetNext:11' shape=(None,) dtype=float32>, 'sentence_complexity': <tf.Tensor 'IteratorGetNext:27' shape=(None,) dtype=float32>, 'freq_of_wrong_words': <tf.Tensor 'IteratorGetNext:16' shape=(None,) dtype=float32>, 'sentiment_compound': <tf.Tensor 'IteratorGetNext:28' shape=(None,) dtype=float32>, 'sentiment_positive': <tf.Tensor 'IteratorGetNext:30' shape=(None,) dtype=float32>, 'sentiment_negative': <tf.Tensor 'IteratorGetNext:29' shape=(None,) dtype=float32>, 'num_of_grammar_errors': <tf.Tensor 'IteratorGetNext:21' shape=(None,) dtype=int64>, 'num_of_short_forms': <tf.Tensor 'IteratorGetNext:22' shape=(None,) dtype=int64>, 'Incorrect_form_ratio': <tf.Tensor 'IteratorGetNext:1' shape=(None,) dtype=float32>, 'flesch_reading_ease': <tf.Tensor 'IteratorGetNext:6' shape=(None,) dtype=float32>, 'flesch_kincaid_grade': <tf.Tensor 'IteratorGetNext:5' shape=(None,) dtype=float32>, 'dale_chall_readability_score': <tf.Tensor 'IteratorGetNext:4' shape=(None,) dtype=float32>, 'text_standard': <tf.Tensor 'IteratorGetNext:32' shape=(None,) dtype=float32>, 'mcalpine_eflaw': <tf.Tensor 'IteratorGetNext:19' shape=(None,) dtype=float32>, 'number_of_diff_words': <tf.Tensor 'IteratorGetNext:23' shape=(None,) dtype=int64>, 'freq_diff_words': <tf.Tensor 'IteratorGetNext:7' shape=(None,) dtype=float32>, 'ttr': <tf.Tensor 'IteratorGetNext:33' shape=(None,) dtype=float32>, 'coherence_score': <tf.Tensor 'IteratorGetNext:3' shape=(None,) dtype=float32>, 'lexrank_avg_min_diff': <tf.Tensor 'IteratorGetNext:17' shape=(None,) dtype=float32>, 'lexrank_interquartile': <tf.Tensor 'IteratorGetNext:18' shape=(None,) dtype=float32>, 'freq_of_noun': <tf.Tensor 'IteratorGetNext:12' shape=(None,) dtype=float32>, 'freq_of_transition': <tf.Tensor 'IteratorGetNext:14' shape=(None,) dtype=float32>, 'freq_of_pronoun': <tf.Tensor 'IteratorGetNext:13' shape=(None,) dtype=float32>, 'noun_to_adj': <tf.Tensor 'IteratorGetNext:20' shape=(None,) dtype=float32>, 'verb_to_adv': <tf.Tensor 'IteratorGetNext:34' shape=(None,) dtype=float32>, 'phrase_diversity': <tf.Tensor 'IteratorGetNext:25' shape=(None,) dtype=float32>}. Consider rewriting this model with the Functional API.\n"
          ]
        },
        {
          "output_type": "stream",
          "name": "stdout",
          "text": [
            "4/4 [==============================] - 0s 4ms/step - loss: 0.2149 - mean_squared_error: 0.2149 - accuracy: 0.0026\n",
            "loss 0.2148696929216385\n",
            "mean_squared_error 0.2148696929216385\n",
            "accuracy 0.0025542783550918102\n"
          ]
        }
      ]
    },
    {
      "cell_type": "code",
      "source": [
        "prediction_deep_better = model_deep_better.predict(test_features)\n",
        "pre_list = []\n",
        "for value in prediction_deep_better:\n",
        "  pre_list.append(value[0])"
      ],
      "metadata": {
        "colab": {
          "base_uri": "https://localhost:8080/"
        },
        "id": "RuitUN3n5NgS",
        "outputId": "cf9cabe4-c1dc-4d63-8e51-caeb504b5138"
      },
      "id": "RuitUN3n5NgS",
      "execution_count": null,
      "outputs": [
        {
          "output_type": "stream",
          "name": "stderr",
          "text": [
            "WARNING:tensorflow:Layers in a Sequential model should only have a single input tensor. Received: inputs={'number_of_words': <tf.Tensor 'IteratorGetNext:24' shape=(None,) dtype=int64>, 'stopwords_frequency': <tf.Tensor 'IteratorGetNext:31' shape=(None,) dtype=float32>, 'av_word_per_sen': <tf.Tensor 'IteratorGetNext:2' shape=(None,) dtype=float32>, 'punctuations': <tf.Tensor 'IteratorGetNext:26' shape=(None,) dtype=float32>, 'ARI': <tf.Tensor 'IteratorGetNext:0' shape=(None,) dtype=int64>, 'freq_of_verb': <tf.Tensor 'IteratorGetNext:15' shape=(None,) dtype=float32>, 'freq_of_adj': <tf.Tensor 'IteratorGetNext:8' shape=(None,) dtype=float32>, 'freq_of_adv': <tf.Tensor 'IteratorGetNext:9' shape=(None,) dtype=float32>, 'freq_of_distinct_adj': <tf.Tensor 'IteratorGetNext:10' shape=(None,) dtype=float32>, 'freq_of_distinct_adv': <tf.Tensor 'IteratorGetNext:11' shape=(None,) dtype=float32>, 'sentence_complexity': <tf.Tensor 'IteratorGetNext:27' shape=(None,) dtype=float32>, 'freq_of_wrong_words': <tf.Tensor 'IteratorGetNext:16' shape=(None,) dtype=float32>, 'sentiment_compound': <tf.Tensor 'IteratorGetNext:28' shape=(None,) dtype=float32>, 'sentiment_positive': <tf.Tensor 'IteratorGetNext:30' shape=(None,) dtype=float32>, 'sentiment_negative': <tf.Tensor 'IteratorGetNext:29' shape=(None,) dtype=float32>, 'num_of_grammar_errors': <tf.Tensor 'IteratorGetNext:21' shape=(None,) dtype=int64>, 'num_of_short_forms': <tf.Tensor 'IteratorGetNext:22' shape=(None,) dtype=int64>, 'Incorrect_form_ratio': <tf.Tensor 'IteratorGetNext:1' shape=(None,) dtype=float32>, 'flesch_reading_ease': <tf.Tensor 'IteratorGetNext:6' shape=(None,) dtype=float32>, 'flesch_kincaid_grade': <tf.Tensor 'IteratorGetNext:5' shape=(None,) dtype=float32>, 'dale_chall_readability_score': <tf.Tensor 'IteratorGetNext:4' shape=(None,) dtype=float32>, 'text_standard': <tf.Tensor 'IteratorGetNext:32' shape=(None,) dtype=float32>, 'mcalpine_eflaw': <tf.Tensor 'IteratorGetNext:19' shape=(None,) dtype=float32>, 'number_of_diff_words': <tf.Tensor 'IteratorGetNext:23' shape=(None,) dtype=int64>, 'freq_diff_words': <tf.Tensor 'IteratorGetNext:7' shape=(None,) dtype=float32>, 'ttr': <tf.Tensor 'IteratorGetNext:33' shape=(None,) dtype=float32>, 'coherence_score': <tf.Tensor 'IteratorGetNext:3' shape=(None,) dtype=float32>, 'lexrank_avg_min_diff': <tf.Tensor 'IteratorGetNext:17' shape=(None,) dtype=float32>, 'lexrank_interquartile': <tf.Tensor 'IteratorGetNext:18' shape=(None,) dtype=float32>, 'freq_of_noun': <tf.Tensor 'IteratorGetNext:12' shape=(None,) dtype=float32>, 'freq_of_transition': <tf.Tensor 'IteratorGetNext:14' shape=(None,) dtype=float32>, 'freq_of_pronoun': <tf.Tensor 'IteratorGetNext:13' shape=(None,) dtype=float32>, 'noun_to_adj': <tf.Tensor 'IteratorGetNext:20' shape=(None,) dtype=float32>, 'verb_to_adv': <tf.Tensor 'IteratorGetNext:34' shape=(None,) dtype=float32>, 'phrase_diversity': <tf.Tensor 'IteratorGetNext:25' shape=(None,) dtype=float32>}. Consider rewriting this model with the Functional API.\n"
          ]
        },
        {
          "output_type": "stream",
          "name": "stdout",
          "text": [
            "25/25 [==============================] - 0s 3ms/step\n"
          ]
        }
      ]
    },
    {
      "cell_type": "code",
      "source": [
        "val_accuracy = accuracy_range(pre_list, list(test_data['vocabulary']))\n",
        "val_accuracy"
      ],
      "metadata": {
        "colab": {
          "base_uri": "https://localhost:8080/"
        },
        "id": "YVXLj1i-6R6s",
        "outputId": "2b2aa630-fd4e-4a45-c3c1-b54df2c20ed3"
      },
      "id": "YVXLj1i-6R6s",
      "execution_count": null,
      "outputs": [
        {
          "output_type": "execute_result",
          "data": {
            "text/plain": [
              "0.7100893997445722"
            ]
          },
          "metadata": {},
          "execution_count": 80
        }
      ]
    },
    {
      "cell_type": "code",
      "source": [
        "pre_list_2 = result(pre_list)\n",
        "val_accuracy_2 = accuracy(list(test_data['vocabulary']), pre_list_2)\n",
        "val_accuracy_2"
      ],
      "metadata": {
        "colab": {
          "base_uri": "https://localhost:8080/"
        },
        "id": "iD2RJJh-7SQ8",
        "outputId": "a6ee20bf-3d23-4ba9-8b84-670f8f0de200"
      },
      "id": "iD2RJJh-7SQ8",
      "execution_count": null,
      "outputs": [
        {
          "output_type": "execute_result",
          "data": {
            "text/plain": [
              "0.42656449553001274"
            ]
          },
          "metadata": {},
          "execution_count": 81
        }
      ]
    },
    {
      "cell_type": "code",
      "source": [
        "learning_rate = 0.01\n",
        "number_epochs = 30\n",
        "batch_size = 256\n",
        "label_name = \"cohesion\"\n",
        "\n",
        "# Establish the model's topography.\n",
        "model_deep_better_cohesion = create_model_deep(learning_rate, my_new_feature_layer, [30, 20, 10, 8])\n",
        "\n",
        "# Train the model on the normalized training set.\n",
        "mse_train_deep_better_cohesion, mse_val_deep_better_cohesion = train_model(model_deep_better_cohesion, train_data, number_epochs, batch_size, label_name)\n",
        "#train_history = train_model(model_lr, train_data, number_epochs, batch_size, label_name)\n",
        "plot_the_loss_curve(mse_train_deep_better_cohesion, mse_val_deep_better_cohesion)"
      ],
      "metadata": {
        "colab": {
          "base_uri": "https://localhost:8080/",
          "height": 1000
        },
        "id": "296_0nSm7_BT",
        "outputId": "7b04f3ea-1473-4684-892e-76aef088cf6b"
      },
      "id": "296_0nSm7_BT",
      "execution_count": null,
      "outputs": [
        {
          "output_type": "stream",
          "name": "stdout",
          "text": [
            "Epoch 1/30\n"
          ]
        },
        {
          "output_type": "stream",
          "name": "stderr",
          "text": [
            "WARNING:tensorflow:Layers in a Sequential model should only have a single input tensor. Received: inputs={'number_of_words': <tf.Tensor 'IteratorGetNext:25' shape=(None,) dtype=int64>, 'stopwords_frequency': <tf.Tensor 'IteratorGetNext:32' shape=(None,) dtype=float32>, 'av_word_per_sen': <tf.Tensor 'IteratorGetNext:2' shape=(None,) dtype=float32>, 'punctuations': <tf.Tensor 'IteratorGetNext:27' shape=(None,) dtype=float32>, 'ARI': <tf.Tensor 'IteratorGetNext:0' shape=(None,) dtype=int64>, 'freq_of_verb': <tf.Tensor 'IteratorGetNext:16' shape=(None,) dtype=float32>, 'freq_of_adj': <tf.Tensor 'IteratorGetNext:9' shape=(None,) dtype=float32>, 'freq_of_adv': <tf.Tensor 'IteratorGetNext:10' shape=(None,) dtype=float32>, 'freq_of_distinct_adj': <tf.Tensor 'IteratorGetNext:11' shape=(None,) dtype=float32>, 'freq_of_distinct_adv': <tf.Tensor 'IteratorGetNext:12' shape=(None,) dtype=float32>, 'sentence_complexity': <tf.Tensor 'IteratorGetNext:28' shape=(None,) dtype=float32>, 'freq_of_wrong_words': <tf.Tensor 'IteratorGetNext:17' shape=(None,) dtype=float32>, 'sentiment_compound': <tf.Tensor 'IteratorGetNext:29' shape=(None,) dtype=float32>, 'sentiment_positive': <tf.Tensor 'IteratorGetNext:31' shape=(None,) dtype=float32>, 'sentiment_negative': <tf.Tensor 'IteratorGetNext:30' shape=(None,) dtype=float32>, 'num_of_grammar_errors': <tf.Tensor 'IteratorGetNext:22' shape=(None,) dtype=int64>, 'corrected_text': <tf.Tensor 'IteratorGetNext:4' shape=(None,) dtype=string>, 'num_of_short_forms': <tf.Tensor 'IteratorGetNext:23' shape=(None,) dtype=int64>, 'Incorrect_form_ratio': <tf.Tensor 'IteratorGetNext:1' shape=(None,) dtype=float32>, 'flesch_reading_ease': <tf.Tensor 'IteratorGetNext:7' shape=(None,) dtype=float32>, 'flesch_kincaid_grade': <tf.Tensor 'IteratorGetNext:6' shape=(None,) dtype=float32>, 'dale_chall_readability_score': <tf.Tensor 'IteratorGetNext:5' shape=(None,) dtype=float32>, 'text_standard': <tf.Tensor 'IteratorGetNext:33' shape=(None,) dtype=float32>, 'mcalpine_eflaw': <tf.Tensor 'IteratorGetNext:20' shape=(None,) dtype=float32>, 'number_of_diff_words': <tf.Tensor 'IteratorGetNext:24' shape=(None,) dtype=int64>, 'freq_diff_words': <tf.Tensor 'IteratorGetNext:8' shape=(None,) dtype=float32>, 'ttr': <tf.Tensor 'IteratorGetNext:34' shape=(None,) dtype=float32>, 'coherence_score': <tf.Tensor 'IteratorGetNext:3' shape=(None,) dtype=float32>, 'lexrank_avg_min_diff': <tf.Tensor 'IteratorGetNext:18' shape=(None,) dtype=float32>, 'lexrank_interquartile': <tf.Tensor 'IteratorGetNext:19' shape=(None,) dtype=float32>, 'freq_of_noun': <tf.Tensor 'IteratorGetNext:13' shape=(None,) dtype=float32>, 'freq_of_transition': <tf.Tensor 'IteratorGetNext:15' shape=(None,) dtype=float32>, 'freq_of_pronoun': <tf.Tensor 'IteratorGetNext:14' shape=(None,) dtype=float32>, 'noun_to_adj': <tf.Tensor 'IteratorGetNext:21' shape=(None,) dtype=float32>, 'verb_to_adv': <tf.Tensor 'IteratorGetNext:35' shape=(None,) dtype=float32>, 'phrase_diversity': <tf.Tensor 'IteratorGetNext:26' shape=(None,) dtype=float32>, 'vocabulary': <tf.Tensor 'IteratorGetNext:36' shape=(None,) dtype=float32>}. Consider rewriting this model with the Functional API.\n",
            "WARNING:tensorflow:Layers in a Sequential model should only have a single input tensor. Received: inputs={'number_of_words': <tf.Tensor 'IteratorGetNext:25' shape=(None,) dtype=int64>, 'stopwords_frequency': <tf.Tensor 'IteratorGetNext:32' shape=(None,) dtype=float32>, 'av_word_per_sen': <tf.Tensor 'IteratorGetNext:2' shape=(None,) dtype=float32>, 'punctuations': <tf.Tensor 'IteratorGetNext:27' shape=(None,) dtype=float32>, 'ARI': <tf.Tensor 'IteratorGetNext:0' shape=(None,) dtype=int64>, 'freq_of_verb': <tf.Tensor 'IteratorGetNext:16' shape=(None,) dtype=float32>, 'freq_of_adj': <tf.Tensor 'IteratorGetNext:9' shape=(None,) dtype=float32>, 'freq_of_adv': <tf.Tensor 'IteratorGetNext:10' shape=(None,) dtype=float32>, 'freq_of_distinct_adj': <tf.Tensor 'IteratorGetNext:11' shape=(None,) dtype=float32>, 'freq_of_distinct_adv': <tf.Tensor 'IteratorGetNext:12' shape=(None,) dtype=float32>, 'sentence_complexity': <tf.Tensor 'IteratorGetNext:28' shape=(None,) dtype=float32>, 'freq_of_wrong_words': <tf.Tensor 'IteratorGetNext:17' shape=(None,) dtype=float32>, 'sentiment_compound': <tf.Tensor 'IteratorGetNext:29' shape=(None,) dtype=float32>, 'sentiment_positive': <tf.Tensor 'IteratorGetNext:31' shape=(None,) dtype=float32>, 'sentiment_negative': <tf.Tensor 'IteratorGetNext:30' shape=(None,) dtype=float32>, 'num_of_grammar_errors': <tf.Tensor 'IteratorGetNext:22' shape=(None,) dtype=int64>, 'corrected_text': <tf.Tensor 'IteratorGetNext:4' shape=(None,) dtype=string>, 'num_of_short_forms': <tf.Tensor 'IteratorGetNext:23' shape=(None,) dtype=int64>, 'Incorrect_form_ratio': <tf.Tensor 'IteratorGetNext:1' shape=(None,) dtype=float32>, 'flesch_reading_ease': <tf.Tensor 'IteratorGetNext:7' shape=(None,) dtype=float32>, 'flesch_kincaid_grade': <tf.Tensor 'IteratorGetNext:6' shape=(None,) dtype=float32>, 'dale_chall_readability_score': <tf.Tensor 'IteratorGetNext:5' shape=(None,) dtype=float32>, 'text_standard': <tf.Tensor 'IteratorGetNext:33' shape=(None,) dtype=float32>, 'mcalpine_eflaw': <tf.Tensor 'IteratorGetNext:20' shape=(None,) dtype=float32>, 'number_of_diff_words': <tf.Tensor 'IteratorGetNext:24' shape=(None,) dtype=int64>, 'freq_diff_words': <tf.Tensor 'IteratorGetNext:8' shape=(None,) dtype=float32>, 'ttr': <tf.Tensor 'IteratorGetNext:34' shape=(None,) dtype=float32>, 'coherence_score': <tf.Tensor 'IteratorGetNext:3' shape=(None,) dtype=float32>, 'lexrank_avg_min_diff': <tf.Tensor 'IteratorGetNext:18' shape=(None,) dtype=float32>, 'lexrank_interquartile': <tf.Tensor 'IteratorGetNext:19' shape=(None,) dtype=float32>, 'freq_of_noun': <tf.Tensor 'IteratorGetNext:13' shape=(None,) dtype=float32>, 'freq_of_transition': <tf.Tensor 'IteratorGetNext:15' shape=(None,) dtype=float32>, 'freq_of_pronoun': <tf.Tensor 'IteratorGetNext:14' shape=(None,) dtype=float32>, 'noun_to_adj': <tf.Tensor 'IteratorGetNext:21' shape=(None,) dtype=float32>, 'verb_to_adv': <tf.Tensor 'IteratorGetNext:35' shape=(None,) dtype=float32>, 'phrase_diversity': <tf.Tensor 'IteratorGetNext:26' shape=(None,) dtype=float32>, 'vocabulary': <tf.Tensor 'IteratorGetNext:36' shape=(None,) dtype=float32>}. Consider rewriting this model with the Functional API.\n"
          ]
        },
        {
          "output_type": "stream",
          "name": "stdout",
          "text": [
            "\r 1/10 [==>...........................] - ETA: 9s - loss: 4.5023 - mean_squared_error: 4.5023 - accuracy: 0.0000e+00"
          ]
        },
        {
          "output_type": "stream",
          "name": "stderr",
          "text": [
            "WARNING:tensorflow:Layers in a Sequential model should only have a single input tensor. Received: inputs={'number_of_words': <tf.Tensor 'IteratorGetNext:25' shape=(None,) dtype=int64>, 'stopwords_frequency': <tf.Tensor 'IteratorGetNext:32' shape=(None,) dtype=float32>, 'av_word_per_sen': <tf.Tensor 'IteratorGetNext:2' shape=(None,) dtype=float32>, 'punctuations': <tf.Tensor 'IteratorGetNext:27' shape=(None,) dtype=float32>, 'ARI': <tf.Tensor 'IteratorGetNext:0' shape=(None,) dtype=int64>, 'freq_of_verb': <tf.Tensor 'IteratorGetNext:16' shape=(None,) dtype=float32>, 'freq_of_adj': <tf.Tensor 'IteratorGetNext:9' shape=(None,) dtype=float32>, 'freq_of_adv': <tf.Tensor 'IteratorGetNext:10' shape=(None,) dtype=float32>, 'freq_of_distinct_adj': <tf.Tensor 'IteratorGetNext:11' shape=(None,) dtype=float32>, 'freq_of_distinct_adv': <tf.Tensor 'IteratorGetNext:12' shape=(None,) dtype=float32>, 'sentence_complexity': <tf.Tensor 'IteratorGetNext:28' shape=(None,) dtype=float32>, 'freq_of_wrong_words': <tf.Tensor 'IteratorGetNext:17' shape=(None,) dtype=float32>, 'sentiment_compound': <tf.Tensor 'IteratorGetNext:29' shape=(None,) dtype=float32>, 'sentiment_positive': <tf.Tensor 'IteratorGetNext:31' shape=(None,) dtype=float32>, 'sentiment_negative': <tf.Tensor 'IteratorGetNext:30' shape=(None,) dtype=float32>, 'num_of_grammar_errors': <tf.Tensor 'IteratorGetNext:22' shape=(None,) dtype=int64>, 'corrected_text': <tf.Tensor 'IteratorGetNext:4' shape=(None,) dtype=string>, 'num_of_short_forms': <tf.Tensor 'IteratorGetNext:23' shape=(None,) dtype=int64>, 'Incorrect_form_ratio': <tf.Tensor 'IteratorGetNext:1' shape=(None,) dtype=float32>, 'flesch_reading_ease': <tf.Tensor 'IteratorGetNext:7' shape=(None,) dtype=float32>, 'flesch_kincaid_grade': <tf.Tensor 'IteratorGetNext:6' shape=(None,) dtype=float32>, 'dale_chall_readability_score': <tf.Tensor 'IteratorGetNext:5' shape=(None,) dtype=float32>, 'text_standard': <tf.Tensor 'IteratorGetNext:33' shape=(None,) dtype=float32>, 'mcalpine_eflaw': <tf.Tensor 'IteratorGetNext:20' shape=(None,) dtype=float32>, 'number_of_diff_words': <tf.Tensor 'IteratorGetNext:24' shape=(None,) dtype=int64>, 'freq_diff_words': <tf.Tensor 'IteratorGetNext:8' shape=(None,) dtype=float32>, 'ttr': <tf.Tensor 'IteratorGetNext:34' shape=(None,) dtype=float32>, 'coherence_score': <tf.Tensor 'IteratorGetNext:3' shape=(None,) dtype=float32>, 'lexrank_avg_min_diff': <tf.Tensor 'IteratorGetNext:18' shape=(None,) dtype=float32>, 'lexrank_interquartile': <tf.Tensor 'IteratorGetNext:19' shape=(None,) dtype=float32>, 'freq_of_noun': <tf.Tensor 'IteratorGetNext:13' shape=(None,) dtype=float32>, 'freq_of_transition': <tf.Tensor 'IteratorGetNext:15' shape=(None,) dtype=float32>, 'freq_of_pronoun': <tf.Tensor 'IteratorGetNext:14' shape=(None,) dtype=float32>, 'noun_to_adj': <tf.Tensor 'IteratorGetNext:21' shape=(None,) dtype=float32>, 'verb_to_adv': <tf.Tensor 'IteratorGetNext:35' shape=(None,) dtype=float32>, 'phrase_diversity': <tf.Tensor 'IteratorGetNext:26' shape=(None,) dtype=float32>, 'vocabulary': <tf.Tensor 'IteratorGetNext:36' shape=(None,) dtype=float32>}. Consider rewriting this model with the Functional API.\n"
          ]
        },
        {
          "output_type": "stream",
          "name": "stdout",
          "text": [
            "\b\b\b\b\b\b\b\b\b\b\b\b\b\b\b\b\b\b\b\b\b\b\b\b\b\b\b\b\b\b\b\b\b\b\b\b\b\b\b\b\b\b\b\b\b\b\b\b\b\b\b\b\b\b\b\b\b\b\b\b\b\b\b\b\b\b\b\b\b\b\b\b\b\b\b\b\b\b\b\b\b\b\b\b\b\b\b\b\b\b\b\b\b\b\b\b\b\b\b\b\b\b\b\b\b\b\b\b\b\b\b\b\b\b\b\r10/10 [==============================] - 2s 71ms/step - loss: 20.9166 - mean_squared_error: 20.9166 - accuracy: 7.9936e-04 - val_loss: 1.6075 - val_mean_squared_error: 1.6075 - val_accuracy: 0.0032\n",
            "Epoch 2/30\n",
            "10/10 [==============================] - 0s 10ms/step - loss: 1.5193 - mean_squared_error: 1.5193 - accuracy: 0.0016 - val_loss: 1.4357 - val_mean_squared_error: 1.4357 - val_accuracy: 0.0032\n",
            "Epoch 3/30\n",
            "10/10 [==============================] - 0s 10ms/step - loss: 1.1385 - mean_squared_error: 1.1385 - accuracy: 0.0016 - val_loss: 0.8858 - val_mean_squared_error: 0.8858 - val_accuracy: 0.0032\n",
            "Epoch 4/30\n",
            "10/10 [==============================] - 0s 9ms/step - loss: 0.6098 - mean_squared_error: 0.6098 - accuracy: 0.0016 - val_loss: 0.5406 - val_mean_squared_error: 0.5406 - val_accuracy: 0.0032\n",
            "Epoch 5/30\n",
            "10/10 [==============================] - 0s 10ms/step - loss: 0.4913 - mean_squared_error: 0.4913 - accuracy: 0.0016 - val_loss: 0.4624 - val_mean_squared_error: 0.4624 - val_accuracy: 0.0032\n",
            "Epoch 6/30\n",
            "10/10 [==============================] - 0s 10ms/step - loss: 0.4288 - mean_squared_error: 0.4288 - accuracy: 0.0016 - val_loss: 0.4184 - val_mean_squared_error: 0.4184 - val_accuracy: 0.0032\n",
            "Epoch 7/30\n",
            "10/10 [==============================] - 0s 10ms/step - loss: 0.3914 - mean_squared_error: 0.3914 - accuracy: 0.0016 - val_loss: 0.3961 - val_mean_squared_error: 0.3961 - val_accuracy: 0.0032\n",
            "Epoch 8/30\n",
            "10/10 [==============================] - 0s 9ms/step - loss: 0.3569 - mean_squared_error: 0.3569 - accuracy: 0.0016 - val_loss: 0.3827 - val_mean_squared_error: 0.3827 - val_accuracy: 0.0032\n",
            "Epoch 9/30\n",
            "10/10 [==============================] - 0s 9ms/step - loss: 0.3512 - mean_squared_error: 0.3512 - accuracy: 0.0016 - val_loss: 0.3727 - val_mean_squared_error: 0.3727 - val_accuracy: 0.0032\n",
            "Epoch 10/30\n",
            "10/10 [==============================] - 0s 10ms/step - loss: 0.3534 - mean_squared_error: 0.3534 - accuracy: 0.0016 - val_loss: 0.3859 - val_mean_squared_error: 0.3859 - val_accuracy: 0.0032\n",
            "Epoch 11/30\n",
            "10/10 [==============================] - 0s 9ms/step - loss: 0.3418 - mean_squared_error: 0.3418 - accuracy: 0.0016 - val_loss: 0.3677 - val_mean_squared_error: 0.3677 - val_accuracy: 0.0032\n",
            "Epoch 12/30\n",
            "10/10 [==============================] - 0s 9ms/step - loss: 0.3312 - mean_squared_error: 0.3312 - accuracy: 0.0016 - val_loss: 0.3606 - val_mean_squared_error: 0.3606 - val_accuracy: 0.0032\n",
            "Epoch 13/30\n",
            "10/10 [==============================] - 0s 9ms/step - loss: 0.3270 - mean_squared_error: 0.3270 - accuracy: 0.0016 - val_loss: 0.3574 - val_mean_squared_error: 0.3574 - val_accuracy: 0.0032\n",
            "Epoch 14/30\n",
            "10/10 [==============================] - 0s 9ms/step - loss: 0.3256 - mean_squared_error: 0.3256 - accuracy: 0.0016 - val_loss: 0.3489 - val_mean_squared_error: 0.3489 - val_accuracy: 0.0032\n",
            "Epoch 15/30\n",
            "10/10 [==============================] - 0s 9ms/step - loss: 0.3241 - mean_squared_error: 0.3241 - accuracy: 0.0016 - val_loss: 0.3511 - val_mean_squared_error: 0.3511 - val_accuracy: 0.0032\n",
            "Epoch 16/30\n",
            "10/10 [==============================] - 0s 11ms/step - loss: 0.3336 - mean_squared_error: 0.3336 - accuracy: 0.0016 - val_loss: 0.3687 - val_mean_squared_error: 0.3687 - val_accuracy: 0.0032\n",
            "Epoch 17/30\n",
            "10/10 [==============================] - 0s 10ms/step - loss: 0.3303 - mean_squared_error: 0.3303 - accuracy: 0.0016 - val_loss: 0.3977 - val_mean_squared_error: 0.3977 - val_accuracy: 0.0032\n",
            "Epoch 18/30\n",
            "10/10 [==============================] - 0s 9ms/step - loss: 0.3318 - mean_squared_error: 0.3318 - accuracy: 0.0016 - val_loss: 0.3550 - val_mean_squared_error: 0.3550 - val_accuracy: 0.0032\n",
            "Epoch 19/30\n",
            "10/10 [==============================] - 0s 9ms/step - loss: 0.3220 - mean_squared_error: 0.3220 - accuracy: 0.0016 - val_loss: 0.3397 - val_mean_squared_error: 0.3397 - val_accuracy: 0.0032\n",
            "Epoch 20/30\n",
            "10/10 [==============================] - 0s 10ms/step - loss: 0.3266 - mean_squared_error: 0.3266 - accuracy: 0.0016 - val_loss: 0.3355 - val_mean_squared_error: 0.3355 - val_accuracy: 0.0032\n",
            "Epoch 21/30\n",
            "10/10 [==============================] - 0s 9ms/step - loss: 0.3109 - mean_squared_error: 0.3109 - accuracy: 0.0016 - val_loss: 0.3631 - val_mean_squared_error: 0.3631 - val_accuracy: 0.0032\n",
            "Epoch 22/30\n",
            "10/10 [==============================] - 0s 9ms/step - loss: 0.3145 - mean_squared_error: 0.3145 - accuracy: 0.0016 - val_loss: 0.3672 - val_mean_squared_error: 0.3672 - val_accuracy: 0.0032\n",
            "Epoch 23/30\n",
            "10/10 [==============================] - 0s 10ms/step - loss: 0.3363 - mean_squared_error: 0.3363 - accuracy: 0.0016 - val_loss: 0.3818 - val_mean_squared_error: 0.3818 - val_accuracy: 0.0032\n",
            "Epoch 24/30\n",
            "10/10 [==============================] - 0s 10ms/step - loss: 0.3220 - mean_squared_error: 0.3220 - accuracy: 0.0016 - val_loss: 0.3726 - val_mean_squared_error: 0.3726 - val_accuracy: 0.0032\n",
            "Epoch 25/30\n",
            "10/10 [==============================] - 0s 11ms/step - loss: 0.3164 - mean_squared_error: 0.3164 - accuracy: 0.0016 - val_loss: 0.3594 - val_mean_squared_error: 0.3594 - val_accuracy: 0.0032\n",
            "Epoch 26/30\n",
            "10/10 [==============================] - 0s 10ms/step - loss: 0.3298 - mean_squared_error: 0.3298 - accuracy: 0.0016 - val_loss: 0.3696 - val_mean_squared_error: 0.3696 - val_accuracy: 0.0032\n",
            "Epoch 27/30\n",
            "10/10 [==============================] - 0s 10ms/step - loss: 0.3170 - mean_squared_error: 0.3170 - accuracy: 0.0016 - val_loss: 0.3363 - val_mean_squared_error: 0.3363 - val_accuracy: 0.0032\n",
            "Epoch 28/30\n",
            "10/10 [==============================] - 0s 10ms/step - loss: 0.3253 - mean_squared_error: 0.3253 - accuracy: 0.0016 - val_loss: 0.3276 - val_mean_squared_error: 0.3276 - val_accuracy: 0.0032\n",
            "Epoch 29/30\n",
            "10/10 [==============================] - 0s 9ms/step - loss: 0.3040 - mean_squared_error: 0.3040 - accuracy: 0.0016 - val_loss: 0.3425 - val_mean_squared_error: 0.3425 - val_accuracy: 0.0032\n",
            "Epoch 30/30\n",
            "10/10 [==============================] - 0s 11ms/step - loss: 0.3125 - mean_squared_error: 0.3125 - accuracy: 0.0016 - val_loss: 0.3340 - val_mean_squared_error: 0.3340 - val_accuracy: 0.0032\n"
          ]
        },
        {
          "output_type": "display_data",
          "data": {
            "text/plain": [
              "<Figure size 720x576 with 1 Axes>"
            ],
            "image/png": "[encoded data removed]"
          },
          "metadata": {
            "needs_background": "light"
          }
        }
      ]
    },
    {
      "cell_type": "code",
      "source": [
        "test_data2 = test_data.copy()\n",
        "test_data2.pop(\"vocabulary\")\n",
        "test_data2[\"vocabulary\"] = pre_list\n",
        "test_features_deep_better_cohesion = {name:np.array(value) for name, value in test_data2.items()}\n",
        "\n",
        "test_label_deep_better_cohesion = np.array(test_features_deep_better_cohesion.pop(\"cohesion\"))# isolate the label\n",
        "\n",
        "print(\"\\n Evaluate the linear regression model against the test set:\")\n",
        "result_deep_better_cohesion = model_deep_better_cohesion.evaluate(x=test_features_deep_better_cohesion, y=test_label_deep_better_cohesion, batch_size=batch_size)\n",
        "\n",
        "for item in zip(model_deep_better_cohesion.metrics_names, result_deep_better_cohesion):\n",
        "  print (item[0], item[1])"
      ],
      "metadata": {
        "colab": {
          "base_uri": "https://localhost:8080/"
        },
        "id": "15_fRXQb9Puy",
        "outputId": "a799036c-3b77-4a65-9260-6dec9a53a03e"
      },
      "id": "15_fRXQb9Puy",
      "execution_count": null,
      "outputs": [
        {
          "output_type": "stream",
          "name": "stderr",
          "text": [
            "WARNING:tensorflow:Layers in a Sequential model should only have a single input tensor. Received: inputs={'number_of_words': <tf.Tensor 'IteratorGetNext:24' shape=(None,) dtype=int64>, 'stopwords_frequency': <tf.Tensor 'IteratorGetNext:31' shape=(None,) dtype=float32>, 'av_word_per_sen': <tf.Tensor 'IteratorGetNext:2' shape=(None,) dtype=float32>, 'punctuations': <tf.Tensor 'IteratorGetNext:26' shape=(None,) dtype=float32>, 'ARI': <tf.Tensor 'IteratorGetNext:0' shape=(None,) dtype=int64>, 'freq_of_verb': <tf.Tensor 'IteratorGetNext:15' shape=(None,) dtype=float32>, 'freq_of_adj': <tf.Tensor 'IteratorGetNext:8' shape=(None,) dtype=float32>, 'freq_of_adv': <tf.Tensor 'IteratorGetNext:9' shape=(None,) dtype=float32>, 'freq_of_distinct_adj': <tf.Tensor 'IteratorGetNext:10' shape=(None,) dtype=float32>, 'freq_of_distinct_adv': <tf.Tensor 'IteratorGetNext:11' shape=(None,) dtype=float32>, 'sentence_complexity': <tf.Tensor 'IteratorGetNext:27' shape=(None,) dtype=float32>, 'freq_of_wrong_words': <tf.Tensor 'IteratorGetNext:16' shape=(None,) dtype=float32>, 'sentiment_compound': <tf.Tensor 'IteratorGetNext:28' shape=(None,) dtype=float32>, 'sentiment_positive': <tf.Tensor 'IteratorGetNext:30' shape=(None,) dtype=float32>, 'sentiment_negative': <tf.Tensor 'IteratorGetNext:29' shape=(None,) dtype=float32>, 'num_of_grammar_errors': <tf.Tensor 'IteratorGetNext:21' shape=(None,) dtype=int64>, 'num_of_short_forms': <tf.Tensor 'IteratorGetNext:22' shape=(None,) dtype=int64>, 'Incorrect_form_ratio': <tf.Tensor 'IteratorGetNext:1' shape=(None,) dtype=float32>, 'flesch_reading_ease': <tf.Tensor 'IteratorGetNext:6' shape=(None,) dtype=float32>, 'flesch_kincaid_grade': <tf.Tensor 'IteratorGetNext:5' shape=(None,) dtype=float32>, 'dale_chall_readability_score': <tf.Tensor 'IteratorGetNext:4' shape=(None,) dtype=float32>, 'text_standard': <tf.Tensor 'IteratorGetNext:32' shape=(None,) dtype=float32>, 'mcalpine_eflaw': <tf.Tensor 'IteratorGetNext:19' shape=(None,) dtype=float32>, 'number_of_diff_words': <tf.Tensor 'IteratorGetNext:23' shape=(None,) dtype=int64>, 'freq_diff_words': <tf.Tensor 'IteratorGetNext:7' shape=(None,) dtype=float32>, 'ttr': <tf.Tensor 'IteratorGetNext:33' shape=(None,) dtype=float32>, 'coherence_score': <tf.Tensor 'IteratorGetNext:3' shape=(None,) dtype=float32>, 'lexrank_avg_min_diff': <tf.Tensor 'IteratorGetNext:17' shape=(None,) dtype=float32>, 'lexrank_interquartile': <tf.Tensor 'IteratorGetNext:18' shape=(None,) dtype=float32>, 'freq_of_noun': <tf.Tensor 'IteratorGetNext:12' shape=(None,) dtype=float32>, 'freq_of_transition': <tf.Tensor 'IteratorGetNext:14' shape=(None,) dtype=float32>, 'freq_of_pronoun': <tf.Tensor 'IteratorGetNext:13' shape=(None,) dtype=float32>, 'noun_to_adj': <tf.Tensor 'IteratorGetNext:20' shape=(None,) dtype=float32>, 'verb_to_adv': <tf.Tensor 'IteratorGetNext:34' shape=(None,) dtype=float32>, 'phrase_diversity': <tf.Tensor 'IteratorGetNext:25' shape=(None,) dtype=float32>, 'vocabulary': <tf.Tensor 'IteratorGetNext:35' shape=(None,) dtype=float32>}. Consider rewriting this model with the Functional API.\n"
          ]
        },
        {
          "output_type": "stream",
          "name": "stdout",
          "text": [
            "\n",
            " Evaluate the linear regression model against the test set:\n",
            "4/4 [==============================] - 0s 4ms/step - loss: 0.3289 - mean_squared_error: 0.3289 - accuracy: 0.0051\n",
            "loss 0.3288758099079132\n",
            "mean_squared_error 0.3288758099079132\n",
            "accuracy 0.0051085567101836205\n"
          ]
        }
      ]
    },
    {
      "cell_type": "code",
      "source": [
        "prediction_deep_better_cohesion = model_deep_better_cohesion.predict(test_features_deep_better_cohesion)\n",
        "pre_list_deep_better_cohesion = []\n",
        "for value in prediction_deep_better_cohesion:\n",
        "  pre_list_deep_better_cohesion.append(value[0])"
      ],
      "metadata": {
        "colab": {
          "base_uri": "https://localhost:8080/"
        },
        "id": "8s11QnY9-Qtp",
        "outputId": "86154291-aaae-4947-d256-2bbe07e0bbd5"
      },
      "id": "8s11QnY9-Qtp",
      "execution_count": null,
      "outputs": [
        {
          "output_type": "stream",
          "name": "stderr",
          "text": [
            "WARNING:tensorflow:Layers in a Sequential model should only have a single input tensor. Received: inputs={'number_of_words': <tf.Tensor 'IteratorGetNext:24' shape=(None,) dtype=int64>, 'stopwords_frequency': <tf.Tensor 'IteratorGetNext:31' shape=(None,) dtype=float32>, 'av_word_per_sen': <tf.Tensor 'IteratorGetNext:2' shape=(None,) dtype=float32>, 'punctuations': <tf.Tensor 'IteratorGetNext:26' shape=(None,) dtype=float32>, 'ARI': <tf.Tensor 'IteratorGetNext:0' shape=(None,) dtype=int64>, 'freq_of_verb': <tf.Tensor 'IteratorGetNext:15' shape=(None,) dtype=float32>, 'freq_of_adj': <tf.Tensor 'IteratorGetNext:8' shape=(None,) dtype=float32>, 'freq_of_adv': <tf.Tensor 'IteratorGetNext:9' shape=(None,) dtype=float32>, 'freq_of_distinct_adj': <tf.Tensor 'IteratorGetNext:10' shape=(None,) dtype=float32>, 'freq_of_distinct_adv': <tf.Tensor 'IteratorGetNext:11' shape=(None,) dtype=float32>, 'sentence_complexity': <tf.Tensor 'IteratorGetNext:27' shape=(None,) dtype=float32>, 'freq_of_wrong_words': <tf.Tensor 'IteratorGetNext:16' shape=(None,) dtype=float32>, 'sentiment_compound': <tf.Tensor 'IteratorGetNext:28' shape=(None,) dtype=float32>, 'sentiment_positive': <tf.Tensor 'IteratorGetNext:30' shape=(None,) dtype=float32>, 'sentiment_negative': <tf.Tensor 'IteratorGetNext:29' shape=(None,) dtype=float32>, 'num_of_grammar_errors': <tf.Tensor 'IteratorGetNext:21' shape=(None,) dtype=int64>, 'num_of_short_forms': <tf.Tensor 'IteratorGetNext:22' shape=(None,) dtype=int64>, 'Incorrect_form_ratio': <tf.Tensor 'IteratorGetNext:1' shape=(None,) dtype=float32>, 'flesch_reading_ease': <tf.Tensor 'IteratorGetNext:6' shape=(None,) dtype=float32>, 'flesch_kincaid_grade': <tf.Tensor 'IteratorGetNext:5' shape=(None,) dtype=float32>, 'dale_chall_readability_score': <tf.Tensor 'IteratorGetNext:4' shape=(None,) dtype=float32>, 'text_standard': <tf.Tensor 'IteratorGetNext:32' shape=(None,) dtype=float32>, 'mcalpine_eflaw': <tf.Tensor 'IteratorGetNext:19' shape=(None,) dtype=float32>, 'number_of_diff_words': <tf.Tensor 'IteratorGetNext:23' shape=(None,) dtype=int64>, 'freq_diff_words': <tf.Tensor 'IteratorGetNext:7' shape=(None,) dtype=float32>, 'ttr': <tf.Tensor 'IteratorGetNext:33' shape=(None,) dtype=float32>, 'coherence_score': <tf.Tensor 'IteratorGetNext:3' shape=(None,) dtype=float32>, 'lexrank_avg_min_diff': <tf.Tensor 'IteratorGetNext:17' shape=(None,) dtype=float32>, 'lexrank_interquartile': <tf.Tensor 'IteratorGetNext:18' shape=(None,) dtype=float32>, 'freq_of_noun': <tf.Tensor 'IteratorGetNext:12' shape=(None,) dtype=float32>, 'freq_of_transition': <tf.Tensor 'IteratorGetNext:14' shape=(None,) dtype=float32>, 'freq_of_pronoun': <tf.Tensor 'IteratorGetNext:13' shape=(None,) dtype=float32>, 'noun_to_adj': <tf.Tensor 'IteratorGetNext:20' shape=(None,) dtype=float32>, 'verb_to_adv': <tf.Tensor 'IteratorGetNext:34' shape=(None,) dtype=float32>, 'phrase_diversity': <tf.Tensor 'IteratorGetNext:25' shape=(None,) dtype=float32>, 'vocabulary': <tf.Tensor 'IteratorGetNext:35' shape=(None,) dtype=float32>}. Consider rewriting this model with the Functional API.\n"
          ]
        },
        {
          "output_type": "stream",
          "name": "stdout",
          "text": [
            "25/25 [==============================] - 0s 3ms/step\n"
          ]
        }
      ]
    },
    {
      "cell_type": "code",
      "source": [
        "cohesion_deep_better_accuracy = accuracy_range(pre_list_deep_better_cohesion, list(test_data['cohesion']))\n",
        "cohesion_deep_better_accuracy"
      ],
      "metadata": {
        "colab": {
          "base_uri": "https://localhost:8080/"
        },
        "id": "XR97mlOq_c8N",
        "outputId": "ff24d614-12e8-440d-960b-c047691a336c"
      },
      "id": "XR97mlOq_c8N",
      "execution_count": null,
      "outputs": [
        {
          "output_type": "execute_result",
          "data": {
            "text/plain": [
              "0.5874840357598978"
            ]
          },
          "metadata": {},
          "execution_count": 85
        }
      ]
    },
    {
      "cell_type": "code",
      "source": [
        "pre_list_2 = result(pre_list_deep_better_cohesion)\n",
        "val_accuracy_2 = accuracy(list(test_data['vocabulary']), pre_list_2)\n",
        "val_accuracy_2"
      ],
      "metadata": {
        "colab": {
          "base_uri": "https://localhost:8080/"
        },
        "id": "2f4OjMYz_w5o",
        "outputId": "d7279bb5-2cc7-4e81-e79d-3595e265b356"
      },
      "id": "2f4OjMYz_w5o",
      "execution_count": null,
      "outputs": [
        {
          "output_type": "execute_result",
          "data": {
            "text/plain": [
              "0.41762452107279696"
            ]
          },
          "metadata": {},
          "execution_count": 86
        }
      ]
    },
    {
      "cell_type": "code",
      "source": [
        "error_rate6 = error_rate(list(test_data['cohesion']), pre_list_deep_better_cohesion)\n",
        "error_rate6"
      ],
      "metadata": {
        "colab": {
          "base_uri": "https://localhost:8080/"
        },
        "id": "_RcBX9EiS0Ie",
        "outputId": "f5ccc6b7-0c3e-4e4f-e6d1-16c14883eeb8"
      },
      "id": "_RcBX9EiS0Ie",
      "execution_count": null,
      "outputs": [
        {
          "output_type": "execute_result",
          "data": {
            "text/plain": [
              "0.46505231266582"
            ]
          },
          "metadata": {},
          "execution_count": 87
        }
      ]
    },
    {
      "cell_type": "markdown",
      "source": [
        "Using L2 regression on the model "
      ],
      "metadata": {
        "id": "QMEmDHFfg_vF"
      },
      "id": "QMEmDHFfg_vF"
    },
    {
      "cell_type": "code",
      "source": [
        "def create_model_deep_L2(my_learning_rate, my_feature_layer, layers=[20, 12], C=0.04):\n",
        "  model = tf.keras.models.Sequential()\n",
        "  model.add(my_feature_layer)\n",
        "  for index, layer in enumerate(layers):\n",
        "    model.add(tf.keras.layers.Dense(units=layer, \n",
        "                                    activation='relu', \n",
        "                                    kernel_regularizer=tf.keras.regularizers.l2(C),\n",
        "                                    name=f'Hidden{index}'))  \n",
        "  model.add(tf.keras.layers.Dense(units=1,  \n",
        "                                  name='Output'))                              \n",
        "  \n",
        "  model.compile(optimizer=tf.keras.optimizers.Adam(lr=my_learning_rate),\n",
        "                loss=\"mean_squared_error\",\n",
        "                metrics=[tf.keras.metrics.MeanSquaredError()])\n",
        "  return model"
      ],
      "metadata": {
        "id": "HIc7JoY8g_VT"
      },
      "id": "HIc7JoY8g_VT",
      "execution_count": null,
      "outputs": []
    },
    {
      "cell_type": "code",
      "source": [
        "label_name = \"cohesion\"\n",
        "\n",
        "# Establish the model's topography.\n",
        "model_reg1 = create_model_deep_L2(learning_rate, my_feature_layer, [20, 10, 10, 8], C=0.001)\n",
        "\n",
        "# Train the model on the normalized training set.\n",
        "mse_train_reg1, mse_val_reg1 = train_model(model_reg1, train_data, number_epochs, batch_size, label_name)\n",
        "plot_the_loss_curve(mse_train_reg1, mse_val_reg1)"
      ],
      "metadata": {
        "colab": {
          "base_uri": "https://localhost:8080/",
          "height": 1000
        },
        "id": "jxOKfEY-kLnx",
        "outputId": "dc154423-3bb3-4b8f-f565-3c696e585d94"
      },
      "id": "jxOKfEY-kLnx",
      "execution_count": null,
      "outputs": [
        {
          "output_type": "stream",
          "name": "stdout",
          "text": [
            "Epoch 1/30\n"
          ]
        },
        {
          "output_type": "stream",
          "name": "stderr",
          "text": [
            "/usr/local/lib/python3.7/dist-packages/keras/optimizers/optimizer_v2/adam.py:110: UserWarning: The `lr` argument is deprecated, use `learning_rate` instead.\n",
            "  super(Adam, self).__init__(name, **kwargs)\n",
            "WARNING:tensorflow:Layers in a Sequential model should only have a single input tensor. Received: inputs={'number_of_words': <tf.Tensor 'IteratorGetNext:25' shape=(None,) dtype=int64>, 'stopwords_frequency': <tf.Tensor 'IteratorGetNext:32' shape=(None,) dtype=float32>, 'av_word_per_sen': <tf.Tensor 'IteratorGetNext:2' shape=(None,) dtype=float32>, 'punctuations': <tf.Tensor 'IteratorGetNext:27' shape=(None,) dtype=float32>, 'ARI': <tf.Tensor 'IteratorGetNext:0' shape=(None,) dtype=int64>, 'freq_of_verb': <tf.Tensor 'IteratorGetNext:16' shape=(None,) dtype=float32>, 'freq_of_adj': <tf.Tensor 'IteratorGetNext:9' shape=(None,) dtype=float32>, 'freq_of_adv': <tf.Tensor 'IteratorGetNext:10' shape=(None,) dtype=float32>, 'freq_of_distinct_adj': <tf.Tensor 'IteratorGetNext:11' shape=(None,) dtype=float32>, 'freq_of_distinct_adv': <tf.Tensor 'IteratorGetNext:12' shape=(None,) dtype=float32>, 'sentence_complexity': <tf.Tensor 'IteratorGetNext:28' shape=(None,) dtype=float32>, 'freq_of_wrong_words': <tf.Tensor 'IteratorGetNext:17' shape=(None,) dtype=float32>, 'sentiment_compound': <tf.Tensor 'IteratorGetNext:29' shape=(None,) dtype=float32>, 'sentiment_positive': <tf.Tensor 'IteratorGetNext:31' shape=(None,) dtype=float32>, 'sentiment_negative': <tf.Tensor 'IteratorGetNext:30' shape=(None,) dtype=float32>, 'num_of_grammar_errors': <tf.Tensor 'IteratorGetNext:22' shape=(None,) dtype=int64>, 'corrected_text': <tf.Tensor 'IteratorGetNext:4' shape=(None,) dtype=string>, 'num_of_short_forms': <tf.Tensor 'IteratorGetNext:23' shape=(None,) dtype=int64>, 'Incorrect_form_ratio': <tf.Tensor 'IteratorGetNext:1' shape=(None,) dtype=float32>, 'flesch_reading_ease': <tf.Tensor 'IteratorGetNext:7' shape=(None,) dtype=float32>, 'flesch_kincaid_grade': <tf.Tensor 'IteratorGetNext:6' shape=(None,) dtype=float32>, 'dale_chall_readability_score': <tf.Tensor 'IteratorGetNext:5' shape=(None,) dtype=float32>, 'text_standard': <tf.Tensor 'IteratorGetNext:33' shape=(None,) dtype=float32>, 'mcalpine_eflaw': <tf.Tensor 'IteratorGetNext:20' shape=(None,) dtype=float32>, 'number_of_diff_words': <tf.Tensor 'IteratorGetNext:24' shape=(None,) dtype=int64>, 'freq_diff_words': <tf.Tensor 'IteratorGetNext:8' shape=(None,) dtype=float32>, 'ttr': <tf.Tensor 'IteratorGetNext:34' shape=(None,) dtype=float32>, 'coherence_score': <tf.Tensor 'IteratorGetNext:3' shape=(None,) dtype=float32>, 'lexrank_avg_min_diff': <tf.Tensor 'IteratorGetNext:18' shape=(None,) dtype=float32>, 'lexrank_interquartile': <tf.Tensor 'IteratorGetNext:19' shape=(None,) dtype=float32>, 'freq_of_noun': <tf.Tensor 'IteratorGetNext:13' shape=(None,) dtype=float32>, 'freq_of_transition': <tf.Tensor 'IteratorGetNext:15' shape=(None,) dtype=float32>, 'freq_of_pronoun': <tf.Tensor 'IteratorGetNext:14' shape=(None,) dtype=float32>, 'noun_to_adj': <tf.Tensor 'IteratorGetNext:21' shape=(None,) dtype=float32>, 'verb_to_adv': <tf.Tensor 'IteratorGetNext:35' shape=(None,) dtype=float32>, 'phrase_diversity': <tf.Tensor 'IteratorGetNext:26' shape=(None,) dtype=float32>, 'vocabulary': <tf.Tensor 'IteratorGetNext:36' shape=(None,) dtype=float32>}. Consider rewriting this model with the Functional API.\n",
            "WARNING:tensorflow:Layers in a Sequential model should only have a single input tensor. Received: inputs={'number_of_words': <tf.Tensor 'IteratorGetNext:25' shape=(None,) dtype=int64>, 'stopwords_frequency': <tf.Tensor 'IteratorGetNext:32' shape=(None,) dtype=float32>, 'av_word_per_sen': <tf.Tensor 'IteratorGetNext:2' shape=(None,) dtype=float32>, 'punctuations': <tf.Tensor 'IteratorGetNext:27' shape=(None,) dtype=float32>, 'ARI': <tf.Tensor 'IteratorGetNext:0' shape=(None,) dtype=int64>, 'freq_of_verb': <tf.Tensor 'IteratorGetNext:16' shape=(None,) dtype=float32>, 'freq_of_adj': <tf.Tensor 'IteratorGetNext:9' shape=(None,) dtype=float32>, 'freq_of_adv': <tf.Tensor 'IteratorGetNext:10' shape=(None,) dtype=float32>, 'freq_of_distinct_adj': <tf.Tensor 'IteratorGetNext:11' shape=(None,) dtype=float32>, 'freq_of_distinct_adv': <tf.Tensor 'IteratorGetNext:12' shape=(None,) dtype=float32>, 'sentence_complexity': <tf.Tensor 'IteratorGetNext:28' shape=(None,) dtype=float32>, 'freq_of_wrong_words': <tf.Tensor 'IteratorGetNext:17' shape=(None,) dtype=float32>, 'sentiment_compound': <tf.Tensor 'IteratorGetNext:29' shape=(None,) dtype=float32>, 'sentiment_positive': <tf.Tensor 'IteratorGetNext:31' shape=(None,) dtype=float32>, 'sentiment_negative': <tf.Tensor 'IteratorGetNext:30' shape=(None,) dtype=float32>, 'num_of_grammar_errors': <tf.Tensor 'IteratorGetNext:22' shape=(None,) dtype=int64>, 'corrected_text': <tf.Tensor 'IteratorGetNext:4' shape=(None,) dtype=string>, 'num_of_short_forms': <tf.Tensor 'IteratorGetNext:23' shape=(None,) dtype=int64>, 'Incorrect_form_ratio': <tf.Tensor 'IteratorGetNext:1' shape=(None,) dtype=float32>, 'flesch_reading_ease': <tf.Tensor 'IteratorGetNext:7' shape=(None,) dtype=float32>, 'flesch_kincaid_grade': <tf.Tensor 'IteratorGetNext:6' shape=(None,) dtype=float32>, 'dale_chall_readability_score': <tf.Tensor 'IteratorGetNext:5' shape=(None,) dtype=float32>, 'text_standard': <tf.Tensor 'IteratorGetNext:33' shape=(None,) dtype=float32>, 'mcalpine_eflaw': <tf.Tensor 'IteratorGetNext:20' shape=(None,) dtype=float32>, 'number_of_diff_words': <tf.Tensor 'IteratorGetNext:24' shape=(None,) dtype=int64>, 'freq_diff_words': <tf.Tensor 'IteratorGetNext:8' shape=(None,) dtype=float32>, 'ttr': <tf.Tensor 'IteratorGetNext:34' shape=(None,) dtype=float32>, 'coherence_score': <tf.Tensor 'IteratorGetNext:3' shape=(None,) dtype=float32>, 'lexrank_avg_min_diff': <tf.Tensor 'IteratorGetNext:18' shape=(None,) dtype=float32>, 'lexrank_interquartile': <tf.Tensor 'IteratorGetNext:19' shape=(None,) dtype=float32>, 'freq_of_noun': <tf.Tensor 'IteratorGetNext:13' shape=(None,) dtype=float32>, 'freq_of_transition': <tf.Tensor 'IteratorGetNext:15' shape=(None,) dtype=float32>, 'freq_of_pronoun': <tf.Tensor 'IteratorGetNext:14' shape=(None,) dtype=float32>, 'noun_to_adj': <tf.Tensor 'IteratorGetNext:21' shape=(None,) dtype=float32>, 'verb_to_adv': <tf.Tensor 'IteratorGetNext:35' shape=(None,) dtype=float32>, 'phrase_diversity': <tf.Tensor 'IteratorGetNext:26' shape=(None,) dtype=float32>, 'vocabulary': <tf.Tensor 'IteratorGetNext:36' shape=(None,) dtype=float32>}. Consider rewriting this model with the Functional API.\n"
          ]
        },
        {
          "output_type": "stream",
          "name": "stdout",
          "text": [
            "\r 1/10 [==>...........................] - ETA: 10s - loss: 338.3982 - mean_squared_error: 338.3438"
          ]
        },
        {
          "output_type": "stream",
          "name": "stderr",
          "text": [
            "WARNING:tensorflow:Layers in a Sequential model should only have a single input tensor. Received: inputs={'number_of_words': <tf.Tensor 'IteratorGetNext:25' shape=(None,) dtype=int64>, 'stopwords_frequency': <tf.Tensor 'IteratorGetNext:32' shape=(None,) dtype=float32>, 'av_word_per_sen': <tf.Tensor 'IteratorGetNext:2' shape=(None,) dtype=float32>, 'punctuations': <tf.Tensor 'IteratorGetNext:27' shape=(None,) dtype=float32>, 'ARI': <tf.Tensor 'IteratorGetNext:0' shape=(None,) dtype=int64>, 'freq_of_verb': <tf.Tensor 'IteratorGetNext:16' shape=(None,) dtype=float32>, 'freq_of_adj': <tf.Tensor 'IteratorGetNext:9' shape=(None,) dtype=float32>, 'freq_of_adv': <tf.Tensor 'IteratorGetNext:10' shape=(None,) dtype=float32>, 'freq_of_distinct_adj': <tf.Tensor 'IteratorGetNext:11' shape=(None,) dtype=float32>, 'freq_of_distinct_adv': <tf.Tensor 'IteratorGetNext:12' shape=(None,) dtype=float32>, 'sentence_complexity': <tf.Tensor 'IteratorGetNext:28' shape=(None,) dtype=float32>, 'freq_of_wrong_words': <tf.Tensor 'IteratorGetNext:17' shape=(None,) dtype=float32>, 'sentiment_compound': <tf.Tensor 'IteratorGetNext:29' shape=(None,) dtype=float32>, 'sentiment_positive': <tf.Tensor 'IteratorGetNext:31' shape=(None,) dtype=float32>, 'sentiment_negative': <tf.Tensor 'IteratorGetNext:30' shape=(None,) dtype=float32>, 'num_of_grammar_errors': <tf.Tensor 'IteratorGetNext:22' shape=(None,) dtype=int64>, 'corrected_text': <tf.Tensor 'IteratorGetNext:4' shape=(None,) dtype=string>, 'num_of_short_forms': <tf.Tensor 'IteratorGetNext:23' shape=(None,) dtype=int64>, 'Incorrect_form_ratio': <tf.Tensor 'IteratorGetNext:1' shape=(None,) dtype=float32>, 'flesch_reading_ease': <tf.Tensor 'IteratorGetNext:7' shape=(None,) dtype=float32>, 'flesch_kincaid_grade': <tf.Tensor 'IteratorGetNext:6' shape=(None,) dtype=float32>, 'dale_chall_readability_score': <tf.Tensor 'IteratorGetNext:5' shape=(None,) dtype=float32>, 'text_standard': <tf.Tensor 'IteratorGetNext:33' shape=(None,) dtype=float32>, 'mcalpine_eflaw': <tf.Tensor 'IteratorGetNext:20' shape=(None,) dtype=float32>, 'number_of_diff_words': <tf.Tensor 'IteratorGetNext:24' shape=(None,) dtype=int64>, 'freq_diff_words': <tf.Tensor 'IteratorGetNext:8' shape=(None,) dtype=float32>, 'ttr': <tf.Tensor 'IteratorGetNext:34' shape=(None,) dtype=float32>, 'coherence_score': <tf.Tensor 'IteratorGetNext:3' shape=(None,) dtype=float32>, 'lexrank_avg_min_diff': <tf.Tensor 'IteratorGetNext:18' shape=(None,) dtype=float32>, 'lexrank_interquartile': <tf.Tensor 'IteratorGetNext:19' shape=(None,) dtype=float32>, 'freq_of_noun': <tf.Tensor 'IteratorGetNext:13' shape=(None,) dtype=float32>, 'freq_of_transition': <tf.Tensor 'IteratorGetNext:15' shape=(None,) dtype=float32>, 'freq_of_pronoun': <tf.Tensor 'IteratorGetNext:14' shape=(None,) dtype=float32>, 'noun_to_adj': <tf.Tensor 'IteratorGetNext:21' shape=(None,) dtype=float32>, 'verb_to_adv': <tf.Tensor 'IteratorGetNext:35' shape=(None,) dtype=float32>, 'phrase_diversity': <tf.Tensor 'IteratorGetNext:26' shape=(None,) dtype=float32>, 'vocabulary': <tf.Tensor 'IteratorGetNext:36' shape=(None,) dtype=float32>}. Consider rewriting this model with the Functional API.\n"
          ]
        },
        {
          "output_type": "stream",
          "name": "stdout",
          "text": [
            "\b\b\b\b\b\b\b\b\b\b\b\b\b\b\b\b\b\b\b\b\b\b\b\b\b\b\b\b\b\b\b\b\b\b\b\b\b\b\b\b\b\b\b\b\b\b\b\b\b\b\b\b\b\b\b\b\b\b\b\b\b\b\b\b\b\b\b\b\b\b\b\b\b\b\b\b\b\b\b\b\b\b\b\b\b\b\b\b\b\b\b\b\b\b\b\b\b\r10/10 [==============================] - 2s 69ms/step - loss: 46.8981 - mean_squared_error: 46.8470 - val_loss: 3.0025 - val_mean_squared_error: 2.9544\n",
            "Epoch 2/30\n",
            "10/10 [==============================] - 0s 9ms/step - loss: 4.6422 - mean_squared_error: 4.5954 - val_loss: 3.7865 - val_mean_squared_error: 3.7411\n",
            "Epoch 3/30\n",
            "10/10 [==============================] - 0s 11ms/step - loss: 2.6235 - mean_squared_error: 2.5786 - val_loss: 1.3566 - val_mean_squared_error: 1.3121\n",
            "Epoch 4/30\n",
            "10/10 [==============================] - 0s 10ms/step - loss: 1.1952 - mean_squared_error: 1.1506 - val_loss: 1.1786 - val_mean_squared_error: 1.1339\n",
            "Epoch 5/30\n",
            "10/10 [==============================] - 0s 9ms/step - loss: 0.8791 - mean_squared_error: 0.8342 - val_loss: 0.7812 - val_mean_squared_error: 0.7361\n",
            "Epoch 6/30\n",
            "10/10 [==============================] - 0s 9ms/step - loss: 0.6038 - mean_squared_error: 0.5584 - val_loss: 0.5756 - val_mean_squared_error: 0.5300\n",
            "Epoch 7/30\n",
            "10/10 [==============================] - 0s 9ms/step - loss: 0.4819 - mean_squared_error: 0.4363 - val_loss: 0.4657 - val_mean_squared_error: 0.4203\n",
            "Epoch 8/30\n",
            "10/10 [==============================] - 0s 9ms/step - loss: 0.4283 - mean_squared_error: 0.3831 - val_loss: 0.4600 - val_mean_squared_error: 0.4152\n",
            "Epoch 9/30\n",
            "10/10 [==============================] - 0s 10ms/step - loss: 0.4138 - mean_squared_error: 0.3693 - val_loss: 0.4364 - val_mean_squared_error: 0.3922\n",
            "Epoch 10/30\n",
            "10/10 [==============================] - 0s 9ms/step - loss: 0.4055 - mean_squared_error: 0.3618 - val_loss: 0.4382 - val_mean_squared_error: 0.3949\n",
            "Epoch 11/30\n",
            "10/10 [==============================] - 0s 9ms/step - loss: 0.3933 - mean_squared_error: 0.3502 - val_loss: 0.4384 - val_mean_squared_error: 0.3957\n",
            "Epoch 12/30\n",
            "10/10 [==============================] - 0s 10ms/step - loss: 0.3829 - mean_squared_error: 0.3405 - val_loss: 0.4242 - val_mean_squared_error: 0.3821\n",
            "Epoch 13/30\n",
            "10/10 [==============================] - 0s 9ms/step - loss: 0.3766 - mean_squared_error: 0.3348 - val_loss: 0.4203 - val_mean_squared_error: 0.3788\n",
            "Epoch 14/30\n",
            "10/10 [==============================] - 0s 9ms/step - loss: 0.3800 - mean_squared_error: 0.3388 - val_loss: 0.4141 - val_mean_squared_error: 0.3732\n",
            "Epoch 15/30\n",
            "10/10 [==============================] - 0s 9ms/step - loss: 0.3818 - mean_squared_error: 0.3410 - val_loss: 0.4152 - val_mean_squared_error: 0.3746\n",
            "Epoch 16/30\n",
            "10/10 [==============================] - 0s 9ms/step - loss: 0.3716 - mean_squared_error: 0.3313 - val_loss: 0.4070 - val_mean_squared_error: 0.3669\n",
            "Epoch 17/30\n",
            "10/10 [==============================] - 0s 9ms/step - loss: 0.3684 - mean_squared_error: 0.3286 - val_loss: 0.4007 - val_mean_squared_error: 0.3611\n",
            "Epoch 18/30\n",
            "10/10 [==============================] - 0s 9ms/step - loss: 0.3658 - mean_squared_error: 0.3264 - val_loss: 0.4062 - val_mean_squared_error: 0.3670\n",
            "Epoch 19/30\n",
            "10/10 [==============================] - 0s 10ms/step - loss: 0.3667 - mean_squared_error: 0.3277 - val_loss: 0.4073 - val_mean_squared_error: 0.3683\n",
            "Epoch 20/30\n",
            "10/10 [==============================] - 0s 10ms/step - loss: 0.3724 - mean_squared_error: 0.3336 - val_loss: 0.4183 - val_mean_squared_error: 0.3798\n",
            "Epoch 21/30\n",
            "10/10 [==============================] - 0s 10ms/step - loss: 0.3668 - mean_squared_error: 0.3284 - val_loss: 0.3983 - val_mean_squared_error: 0.3601\n",
            "Epoch 22/30\n",
            "10/10 [==============================] - 0s 10ms/step - loss: 0.3678 - mean_squared_error: 0.3297 - val_loss: 0.4002 - val_mean_squared_error: 0.3622\n",
            "Epoch 23/30\n",
            "10/10 [==============================] - 0s 10ms/step - loss: 0.3609 - mean_squared_error: 0.3231 - val_loss: 0.4004 - val_mean_squared_error: 0.3627\n",
            "Epoch 24/30\n",
            "10/10 [==============================] - 0s 9ms/step - loss: 0.3571 - mean_squared_error: 0.3196 - val_loss: 0.3990 - val_mean_squared_error: 0.3616\n",
            "Epoch 25/30\n",
            "10/10 [==============================] - 0s 10ms/step - loss: 0.3605 - mean_squared_error: 0.3232 - val_loss: 0.3913 - val_mean_squared_error: 0.3543\n",
            "Epoch 26/30\n",
            "10/10 [==============================] - 0s 10ms/step - loss: 0.3675 - mean_squared_error: 0.3305 - val_loss: 0.3944 - val_mean_squared_error: 0.3576\n",
            "Epoch 27/30\n",
            "10/10 [==============================] - 0s 10ms/step - loss: 0.3731 - mean_squared_error: 0.3364 - val_loss: 0.3988 - val_mean_squared_error: 0.3622\n",
            "Epoch 28/30\n",
            "10/10 [==============================] - 0s 10ms/step - loss: 0.3655 - mean_squared_error: 0.3290 - val_loss: 0.3947 - val_mean_squared_error: 0.3583\n",
            "Epoch 29/30\n",
            "10/10 [==============================] - 0s 10ms/step - loss: 0.3588 - mean_squared_error: 0.3226 - val_loss: 0.4166 - val_mean_squared_error: 0.3805\n",
            "Epoch 30/30\n",
            "10/10 [==============================] - 0s 9ms/step - loss: 0.3562 - mean_squared_error: 0.3202 - val_loss: 0.3892 - val_mean_squared_error: 0.3533\n"
          ]
        },
        {
          "output_type": "display_data",
          "data": {
            "text/plain": [
              "<Figure size 720x576 with 1 Axes>"
            ],
            "image/png": "[encoded data removed]"
          },
          "metadata": {
            "needs_background": "light"
          }
        }
      ]
    },
    {
      "cell_type": "code",
      "source": [
        "test_features = {name:np.array(value) for name, value in test_data.items()}\n",
        "test_features.pop(\"vocabulary\")\n",
        "test_label = np.array(test_features.pop(label_name))\n",
        "prediction_reg1 = model_reg1.predict(test_features)\n",
        "pre_list = []\n",
        "for value in prediction_reg1:\n",
        "  pre_list.append(value[0])\n",
        "pre_list_2 = result(pre_list)"
      ],
      "metadata": {
        "colab": {
          "base_uri": "https://localhost:8080/"
        },
        "outputId": "16181722-f2d7-445c-d043-c19bfde63708",
        "id": "4krckeB4iwN-"
      },
      "execution_count": null,
      "outputs": [
        {
          "output_type": "stream",
          "name": "stderr",
          "text": [
            "WARNING:tensorflow:Layers in a Sequential model should only have a single input tensor. Received: inputs={'number_of_words': <tf.Tensor 'IteratorGetNext:24' shape=(None,) dtype=int64>, 'stopwords_frequency': <tf.Tensor 'IteratorGetNext:31' shape=(None,) dtype=float32>, 'av_word_per_sen': <tf.Tensor 'IteratorGetNext:2' shape=(None,) dtype=float32>, 'punctuations': <tf.Tensor 'IteratorGetNext:26' shape=(None,) dtype=float32>, 'ARI': <tf.Tensor 'IteratorGetNext:0' shape=(None,) dtype=int64>, 'freq_of_verb': <tf.Tensor 'IteratorGetNext:15' shape=(None,) dtype=float32>, 'freq_of_adj': <tf.Tensor 'IteratorGetNext:8' shape=(None,) dtype=float32>, 'freq_of_adv': <tf.Tensor 'IteratorGetNext:9' shape=(None,) dtype=float32>, 'freq_of_distinct_adj': <tf.Tensor 'IteratorGetNext:10' shape=(None,) dtype=float32>, 'freq_of_distinct_adv': <tf.Tensor 'IteratorGetNext:11' shape=(None,) dtype=float32>, 'sentence_complexity': <tf.Tensor 'IteratorGetNext:27' shape=(None,) dtype=float32>, 'freq_of_wrong_words': <tf.Tensor 'IteratorGetNext:16' shape=(None,) dtype=float32>, 'sentiment_compound': <tf.Tensor 'IteratorGetNext:28' shape=(None,) dtype=float32>, 'sentiment_positive': <tf.Tensor 'IteratorGetNext:30' shape=(None,) dtype=float32>, 'sentiment_negative': <tf.Tensor 'IteratorGetNext:29' shape=(None,) dtype=float32>, 'num_of_grammar_errors': <tf.Tensor 'IteratorGetNext:21' shape=(None,) dtype=int64>, 'num_of_short_forms': <tf.Tensor 'IteratorGetNext:22' shape=(None,) dtype=int64>, 'Incorrect_form_ratio': <tf.Tensor 'IteratorGetNext:1' shape=(None,) dtype=float32>, 'flesch_reading_ease': <tf.Tensor 'IteratorGetNext:6' shape=(None,) dtype=float32>, 'flesch_kincaid_grade': <tf.Tensor 'IteratorGetNext:5' shape=(None,) dtype=float32>, 'dale_chall_readability_score': <tf.Tensor 'IteratorGetNext:4' shape=(None,) dtype=float32>, 'text_standard': <tf.Tensor 'IteratorGetNext:32' shape=(None,) dtype=float32>, 'mcalpine_eflaw': <tf.Tensor 'IteratorGetNext:19' shape=(None,) dtype=float32>, 'number_of_diff_words': <tf.Tensor 'IteratorGetNext:23' shape=(None,) dtype=int64>, 'freq_diff_words': <tf.Tensor 'IteratorGetNext:7' shape=(None,) dtype=float32>, 'ttr': <tf.Tensor 'IteratorGetNext:33' shape=(None,) dtype=float32>, 'coherence_score': <tf.Tensor 'IteratorGetNext:3' shape=(None,) dtype=float32>, 'lexrank_avg_min_diff': <tf.Tensor 'IteratorGetNext:17' shape=(None,) dtype=float32>, 'lexrank_interquartile': <tf.Tensor 'IteratorGetNext:18' shape=(None,) dtype=float32>, 'freq_of_noun': <tf.Tensor 'IteratorGetNext:12' shape=(None,) dtype=float32>, 'freq_of_transition': <tf.Tensor 'IteratorGetNext:14' shape=(None,) dtype=float32>, 'freq_of_pronoun': <tf.Tensor 'IteratorGetNext:13' shape=(None,) dtype=float32>, 'noun_to_adj': <tf.Tensor 'IteratorGetNext:20' shape=(None,) dtype=float32>, 'verb_to_adv': <tf.Tensor 'IteratorGetNext:34' shape=(None,) dtype=float32>, 'phrase_diversity': <tf.Tensor 'IteratorGetNext:25' shape=(None,) dtype=float32>}. Consider rewriting this model with the Functional API.\n"
          ]
        },
        {
          "output_type": "stream",
          "name": "stdout",
          "text": [
            "25/25 [==============================] - 0s 3ms/step\n"
          ]
        }
      ],
      "id": "4krckeB4iwN-"
    },
    {
      "cell_type": "code",
      "source": [
        "co_accuracy_deep_L2 = accuracy_range(pre_list, list(test_data['cohesion']))\n",
        "co_accuracy_deep_L2"
      ],
      "metadata": {
        "colab": {
          "base_uri": "https://localhost:8080/"
        },
        "id": "8MIDy-kkkmdR",
        "outputId": "35c249a3-67f1-4862-acb5-a4adf3877dc2"
      },
      "id": "8MIDy-kkkmdR",
      "execution_count": null,
      "outputs": [
        {
          "output_type": "execute_result",
          "data": {
            "text/plain": [
              "0.6130268199233716"
            ]
          },
          "metadata": {},
          "execution_count": 132
        }
      ]
    },
    {
      "cell_type": "code",
      "source": [
        "co_accuracy2_deep_L2 = accuracy(list(test_data['cohesion']), pre_list_2)\n",
        "co_accuracy2_deep_L2"
      ],
      "metadata": {
        "colab": {
          "base_uri": "https://localhost:8080/"
        },
        "outputId": "d8e85191-0b86-4c1e-b8e8-fb91d77c2d26",
        "id": "wTbQU3EEjE61"
      },
      "execution_count": null,
      "outputs": [
        {
          "output_type": "execute_result",
          "data": {
            "text/plain": [
              "0.33205619412515963"
            ]
          },
          "metadata": {},
          "execution_count": 133
        }
      ],
      "id": "wTbQU3EEjE61"
    },
    {
      "cell_type": "code",
      "source": [
        "error_rate8 = error_rate(list(test_data['cohesion']), pre_list)\n",
        "error_rate8"
      ],
      "metadata": {
        "colab": {
          "base_uri": "https://localhost:8080/"
        },
        "outputId": "cfc60fcd-e860-4755-ec1c-ceb7aa476181",
        "id": "EN2fHTDSjE62"
      },
      "execution_count": null,
      "outputs": [
        {
          "output_type": "execute_result",
          "data": {
            "text/plain": [
              "0.4515225179350696"
            ]
          },
          "metadata": {},
          "execution_count": 135
        }
      ],
      "id": "EN2fHTDSjE62"
    },
    {
      "cell_type": "code",
      "source": [
        "label_name = \"vocabulary\"\n",
        "\n",
        "# Establish the model's topography.\n",
        "model_reg = create_model_deep_L2(learning_rate, my_feature_layer, [20, 10, 10, 8], C=0.001)\n",
        "\n",
        "# Train the model on the normalized training set.\n",
        "mse_train_reg, mse_val_reg = train_model(model_reg, train_data, number_epochs, batch_size, label_name)\n",
        "plot_the_loss_curve(mse_train_reg, mse_val_reg)"
      ],
      "metadata": {
        "colab": {
          "base_uri": "https://localhost:8080/",
          "height": 1000
        },
        "id": "SoeczkiInHbD",
        "outputId": "333fcec2-8217-48a0-d2e1-4f8e0e7f8272"
      },
      "id": "SoeczkiInHbD",
      "execution_count": null,
      "outputs": [
        {
          "output_type": "stream",
          "name": "stdout",
          "text": [
            "Epoch 1/30\n"
          ]
        },
        {
          "output_type": "stream",
          "name": "stderr",
          "text": [
            "/usr/local/lib/python3.7/dist-packages/keras/optimizers/optimizer_v2/adam.py:110: UserWarning: The `lr` argument is deprecated, use `learning_rate` instead.\n",
            "  super(Adam, self).__init__(name, **kwargs)\n",
            "WARNING:tensorflow:Layers in a Sequential model should only have a single input tensor. Received: inputs={'number_of_words': <tf.Tensor 'IteratorGetNext:26' shape=(None,) dtype=int64>, 'stopwords_frequency': <tf.Tensor 'IteratorGetNext:33' shape=(None,) dtype=float32>, 'av_word_per_sen': <tf.Tensor 'IteratorGetNext:2' shape=(None,) dtype=float32>, 'punctuations': <tf.Tensor 'IteratorGetNext:28' shape=(None,) dtype=float32>, 'ARI': <tf.Tensor 'IteratorGetNext:0' shape=(None,) dtype=int64>, 'freq_of_verb': <tf.Tensor 'IteratorGetNext:17' shape=(None,) dtype=float32>, 'freq_of_adj': <tf.Tensor 'IteratorGetNext:10' shape=(None,) dtype=float32>, 'freq_of_adv': <tf.Tensor 'IteratorGetNext:11' shape=(None,) dtype=float32>, 'freq_of_distinct_adj': <tf.Tensor 'IteratorGetNext:12' shape=(None,) dtype=float32>, 'freq_of_distinct_adv': <tf.Tensor 'IteratorGetNext:13' shape=(None,) dtype=float32>, 'sentence_complexity': <tf.Tensor 'IteratorGetNext:29' shape=(None,) dtype=float32>, 'freq_of_wrong_words': <tf.Tensor 'IteratorGetNext:18' shape=(None,) dtype=float32>, 'sentiment_compound': <tf.Tensor 'IteratorGetNext:30' shape=(None,) dtype=float32>, 'sentiment_positive': <tf.Tensor 'IteratorGetNext:32' shape=(None,) dtype=float32>, 'sentiment_negative': <tf.Tensor 'IteratorGetNext:31' shape=(None,) dtype=float32>, 'num_of_grammar_errors': <tf.Tensor 'IteratorGetNext:23' shape=(None,) dtype=int64>, 'corrected_text': <tf.Tensor 'IteratorGetNext:5' shape=(None,) dtype=string>, 'num_of_short_forms': <tf.Tensor 'IteratorGetNext:24' shape=(None,) dtype=int64>, 'Incorrect_form_ratio': <tf.Tensor 'IteratorGetNext:1' shape=(None,) dtype=float32>, 'flesch_reading_ease': <tf.Tensor 'IteratorGetNext:8' shape=(None,) dtype=float32>, 'flesch_kincaid_grade': <tf.Tensor 'IteratorGetNext:7' shape=(None,) dtype=float32>, 'dale_chall_readability_score': <tf.Tensor 'IteratorGetNext:6' shape=(None,) dtype=float32>, 'text_standard': <tf.Tensor 'IteratorGetNext:34' shape=(None,) dtype=float32>, 'mcalpine_eflaw': <tf.Tensor 'IteratorGetNext:21' shape=(None,) dtype=float32>, 'number_of_diff_words': <tf.Tensor 'IteratorGetNext:25' shape=(None,) dtype=int64>, 'freq_diff_words': <tf.Tensor 'IteratorGetNext:9' shape=(None,) dtype=float32>, 'ttr': <tf.Tensor 'IteratorGetNext:35' shape=(None,) dtype=float32>, 'coherence_score': <tf.Tensor 'IteratorGetNext:3' shape=(None,) dtype=float32>, 'lexrank_avg_min_diff': <tf.Tensor 'IteratorGetNext:19' shape=(None,) dtype=float32>, 'lexrank_interquartile': <tf.Tensor 'IteratorGetNext:20' shape=(None,) dtype=float32>, 'freq_of_noun': <tf.Tensor 'IteratorGetNext:14' shape=(None,) dtype=float32>, 'freq_of_transition': <tf.Tensor 'IteratorGetNext:16' shape=(None,) dtype=float32>, 'freq_of_pronoun': <tf.Tensor 'IteratorGetNext:15' shape=(None,) dtype=float32>, 'noun_to_adj': <tf.Tensor 'IteratorGetNext:22' shape=(None,) dtype=float32>, 'verb_to_adv': <tf.Tensor 'IteratorGetNext:36' shape=(None,) dtype=float32>, 'phrase_diversity': <tf.Tensor 'IteratorGetNext:27' shape=(None,) dtype=float32>, 'cohesion': <tf.Tensor 'IteratorGetNext:4' shape=(None,) dtype=float32>}. Consider rewriting this model with the Functional API.\n",
            "WARNING:tensorflow:Layers in a Sequential model should only have a single input tensor. Received: inputs={'number_of_words': <tf.Tensor 'IteratorGetNext:26' shape=(None,) dtype=int64>, 'stopwords_frequency': <tf.Tensor 'IteratorGetNext:33' shape=(None,) dtype=float32>, 'av_word_per_sen': <tf.Tensor 'IteratorGetNext:2' shape=(None,) dtype=float32>, 'punctuations': <tf.Tensor 'IteratorGetNext:28' shape=(None,) dtype=float32>, 'ARI': <tf.Tensor 'IteratorGetNext:0' shape=(None,) dtype=int64>, 'freq_of_verb': <tf.Tensor 'IteratorGetNext:17' shape=(None,) dtype=float32>, 'freq_of_adj': <tf.Tensor 'IteratorGetNext:10' shape=(None,) dtype=float32>, 'freq_of_adv': <tf.Tensor 'IteratorGetNext:11' shape=(None,) dtype=float32>, 'freq_of_distinct_adj': <tf.Tensor 'IteratorGetNext:12' shape=(None,) dtype=float32>, 'freq_of_distinct_adv': <tf.Tensor 'IteratorGetNext:13' shape=(None,) dtype=float32>, 'sentence_complexity': <tf.Tensor 'IteratorGetNext:29' shape=(None,) dtype=float32>, 'freq_of_wrong_words': <tf.Tensor 'IteratorGetNext:18' shape=(None,) dtype=float32>, 'sentiment_compound': <tf.Tensor 'IteratorGetNext:30' shape=(None,) dtype=float32>, 'sentiment_positive': <tf.Tensor 'IteratorGetNext:32' shape=(None,) dtype=float32>, 'sentiment_negative': <tf.Tensor 'IteratorGetNext:31' shape=(None,) dtype=float32>, 'num_of_grammar_errors': <tf.Tensor 'IteratorGetNext:23' shape=(None,) dtype=int64>, 'corrected_text': <tf.Tensor 'IteratorGetNext:5' shape=(None,) dtype=string>, 'num_of_short_forms': <tf.Tensor 'IteratorGetNext:24' shape=(None,) dtype=int64>, 'Incorrect_form_ratio': <tf.Tensor 'IteratorGetNext:1' shape=(None,) dtype=float32>, 'flesch_reading_ease': <tf.Tensor 'IteratorGetNext:8' shape=(None,) dtype=float32>, 'flesch_kincaid_grade': <tf.Tensor 'IteratorGetNext:7' shape=(None,) dtype=float32>, 'dale_chall_readability_score': <tf.Tensor 'IteratorGetNext:6' shape=(None,) dtype=float32>, 'text_standard': <tf.Tensor 'IteratorGetNext:34' shape=(None,) dtype=float32>, 'mcalpine_eflaw': <tf.Tensor 'IteratorGetNext:21' shape=(None,) dtype=float32>, 'number_of_diff_words': <tf.Tensor 'IteratorGetNext:25' shape=(None,) dtype=int64>, 'freq_diff_words': <tf.Tensor 'IteratorGetNext:9' shape=(None,) dtype=float32>, 'ttr': <tf.Tensor 'IteratorGetNext:35' shape=(None,) dtype=float32>, 'coherence_score': <tf.Tensor 'IteratorGetNext:3' shape=(None,) dtype=float32>, 'lexrank_avg_min_diff': <tf.Tensor 'IteratorGetNext:19' shape=(None,) dtype=float32>, 'lexrank_interquartile': <tf.Tensor 'IteratorGetNext:20' shape=(None,) dtype=float32>, 'freq_of_noun': <tf.Tensor 'IteratorGetNext:14' shape=(None,) dtype=float32>, 'freq_of_transition': <tf.Tensor 'IteratorGetNext:16' shape=(None,) dtype=float32>, 'freq_of_pronoun': <tf.Tensor 'IteratorGetNext:15' shape=(None,) dtype=float32>, 'noun_to_adj': <tf.Tensor 'IteratorGetNext:22' shape=(None,) dtype=float32>, 'verb_to_adv': <tf.Tensor 'IteratorGetNext:36' shape=(None,) dtype=float32>, 'phrase_diversity': <tf.Tensor 'IteratorGetNext:27' shape=(None,) dtype=float32>, 'cohesion': <tf.Tensor 'IteratorGetNext:4' shape=(None,) dtype=float32>}. Consider rewriting this model with the Functional API.\n"
          ]
        },
        {
          "output_type": "stream",
          "name": "stdout",
          "text": [
            "\r 1/10 [==>...........................] - ETA: 10s - loss: 454.6159 - mean_squared_error: 454.5579"
          ]
        },
        {
          "output_type": "stream",
          "name": "stderr",
          "text": [
            "WARNING:tensorflow:Layers in a Sequential model should only have a single input tensor. Received: inputs={'number_of_words': <tf.Tensor 'IteratorGetNext:26' shape=(None,) dtype=int64>, 'stopwords_frequency': <tf.Tensor 'IteratorGetNext:33' shape=(None,) dtype=float32>, 'av_word_per_sen': <tf.Tensor 'IteratorGetNext:2' shape=(None,) dtype=float32>, 'punctuations': <tf.Tensor 'IteratorGetNext:28' shape=(None,) dtype=float32>, 'ARI': <tf.Tensor 'IteratorGetNext:0' shape=(None,) dtype=int64>, 'freq_of_verb': <tf.Tensor 'IteratorGetNext:17' shape=(None,) dtype=float32>, 'freq_of_adj': <tf.Tensor 'IteratorGetNext:10' shape=(None,) dtype=float32>, 'freq_of_adv': <tf.Tensor 'IteratorGetNext:11' shape=(None,) dtype=float32>, 'freq_of_distinct_adj': <tf.Tensor 'IteratorGetNext:12' shape=(None,) dtype=float32>, 'freq_of_distinct_adv': <tf.Tensor 'IteratorGetNext:13' shape=(None,) dtype=float32>, 'sentence_complexity': <tf.Tensor 'IteratorGetNext:29' shape=(None,) dtype=float32>, 'freq_of_wrong_words': <tf.Tensor 'IteratorGetNext:18' shape=(None,) dtype=float32>, 'sentiment_compound': <tf.Tensor 'IteratorGetNext:30' shape=(None,) dtype=float32>, 'sentiment_positive': <tf.Tensor 'IteratorGetNext:32' shape=(None,) dtype=float32>, 'sentiment_negative': <tf.Tensor 'IteratorGetNext:31' shape=(None,) dtype=float32>, 'num_of_grammar_errors': <tf.Tensor 'IteratorGetNext:23' shape=(None,) dtype=int64>, 'corrected_text': <tf.Tensor 'IteratorGetNext:5' shape=(None,) dtype=string>, 'num_of_short_forms': <tf.Tensor 'IteratorGetNext:24' shape=(None,) dtype=int64>, 'Incorrect_form_ratio': <tf.Tensor 'IteratorGetNext:1' shape=(None,) dtype=float32>, 'flesch_reading_ease': <tf.Tensor 'IteratorGetNext:8' shape=(None,) dtype=float32>, 'flesch_kincaid_grade': <tf.Tensor 'IteratorGetNext:7' shape=(None,) dtype=float32>, 'dale_chall_readability_score': <tf.Tensor 'IteratorGetNext:6' shape=(None,) dtype=float32>, 'text_standard': <tf.Tensor 'IteratorGetNext:34' shape=(None,) dtype=float32>, 'mcalpine_eflaw': <tf.Tensor 'IteratorGetNext:21' shape=(None,) dtype=float32>, 'number_of_diff_words': <tf.Tensor 'IteratorGetNext:25' shape=(None,) dtype=int64>, 'freq_diff_words': <tf.Tensor 'IteratorGetNext:9' shape=(None,) dtype=float32>, 'ttr': <tf.Tensor 'IteratorGetNext:35' shape=(None,) dtype=float32>, 'coherence_score': <tf.Tensor 'IteratorGetNext:3' shape=(None,) dtype=float32>, 'lexrank_avg_min_diff': <tf.Tensor 'IteratorGetNext:19' shape=(None,) dtype=float32>, 'lexrank_interquartile': <tf.Tensor 'IteratorGetNext:20' shape=(None,) dtype=float32>, 'freq_of_noun': <tf.Tensor 'IteratorGetNext:14' shape=(None,) dtype=float32>, 'freq_of_transition': <tf.Tensor 'IteratorGetNext:16' shape=(None,) dtype=float32>, 'freq_of_pronoun': <tf.Tensor 'IteratorGetNext:15' shape=(None,) dtype=float32>, 'noun_to_adj': <tf.Tensor 'IteratorGetNext:22' shape=(None,) dtype=float32>, 'verb_to_adv': <tf.Tensor 'IteratorGetNext:36' shape=(None,) dtype=float32>, 'phrase_diversity': <tf.Tensor 'IteratorGetNext:27' shape=(None,) dtype=float32>, 'cohesion': <tf.Tensor 'IteratorGetNext:4' shape=(None,) dtype=float32>}. Consider rewriting this model with the Functional API.\n"
          ]
        },
        {
          "output_type": "stream",
          "name": "stdout",
          "text": [
            "\b\b\b\b\b\b\b\b\b\b\b\b\b\b\b\b\b\b\b\b\b\b\b\b\b\b\b\b\b\b\b\b\b\b\b\b\b\b\b\b\b\b\b\b\b\b\b\b\b\b\b\b\b\b\b\b\b\b\b\b\b\b\b\b\b\b\b\b\b\b\b\b\b\b\b\b\b\b\b\b\b\b\b\b\b\b\b\b\b\b\b\b\b\b\b\b\b\r10/10 [==============================] - 2s 107ms/step - loss: 50.8873 - mean_squared_error: 50.8315 - val_loss: 2.5918 - val_mean_squared_error: 2.5377\n",
            "Epoch 2/30\n",
            "10/10 [==============================] - 0s 9ms/step - loss: 2.3813 - mean_squared_error: 2.3279 - val_loss: 2.1811 - val_mean_squared_error: 2.1285\n",
            "Epoch 3/30\n",
            "10/10 [==============================] - 0s 10ms/step - loss: 1.8051 - mean_squared_error: 1.7529 - val_loss: 1.6455 - val_mean_squared_error: 1.5938\n",
            "Epoch 4/30\n",
            "10/10 [==============================] - 0s 10ms/step - loss: 1.2947 - mean_squared_error: 1.2435 - val_loss: 1.2529 - val_mean_squared_error: 1.2022\n",
            "Epoch 5/30\n",
            "10/10 [==============================] - 0s 10ms/step - loss: 0.9698 - mean_squared_error: 0.9194 - val_loss: 0.9092 - val_mean_squared_error: 0.8589\n",
            "Epoch 6/30\n",
            "10/10 [==============================] - 0s 10ms/step - loss: 0.6395 - mean_squared_error: 0.5891 - val_loss: 0.5375 - val_mean_squared_error: 0.4870\n",
            "Epoch 7/30\n",
            "10/10 [==============================] - 0s 10ms/step - loss: 0.4980 - mean_squared_error: 0.4476 - val_loss: 0.4539 - val_mean_squared_error: 0.4037\n",
            "Epoch 8/30\n",
            "10/10 [==============================] - 0s 10ms/step - loss: 0.4135 - mean_squared_error: 0.3636 - val_loss: 0.3927 - val_mean_squared_error: 0.3430\n",
            "Epoch 9/30\n",
            "10/10 [==============================] - 0s 10ms/step - loss: 0.3732 - mean_squared_error: 0.3237 - val_loss: 0.3820 - val_mean_squared_error: 0.3326\n",
            "Epoch 10/30\n",
            "10/10 [==============================] - 0s 10ms/step - loss: 0.3538 - mean_squared_error: 0.3045 - val_loss: 0.3787 - val_mean_squared_error: 0.3296\n",
            "Epoch 11/30\n",
            "10/10 [==============================] - 0s 10ms/step - loss: 0.3514 - mean_squared_error: 0.3025 - val_loss: 0.3637 - val_mean_squared_error: 0.3149\n",
            "Epoch 12/30\n",
            "10/10 [==============================] - 0s 10ms/step - loss: 0.3374 - mean_squared_error: 0.2887 - val_loss: 0.3470 - val_mean_squared_error: 0.2984\n",
            "Epoch 13/30\n",
            "10/10 [==============================] - 0s 10ms/step - loss: 0.3280 - mean_squared_error: 0.2796 - val_loss: 0.3504 - val_mean_squared_error: 0.3022\n",
            "Epoch 14/30\n",
            "10/10 [==============================] - 0s 10ms/step - loss: 0.3252 - mean_squared_error: 0.2772 - val_loss: 0.3438 - val_mean_squared_error: 0.2959\n",
            "Epoch 15/30\n",
            "10/10 [==============================] - 0s 11ms/step - loss: 0.3284 - mean_squared_error: 0.2806 - val_loss: 0.3592 - val_mean_squared_error: 0.3116\n",
            "Epoch 16/30\n",
            "10/10 [==============================] - 0s 10ms/step - loss: 0.3260 - mean_squared_error: 0.2785 - val_loss: 0.3453 - val_mean_squared_error: 0.2980\n",
            "Epoch 17/30\n",
            "10/10 [==============================] - 0s 10ms/step - loss: 0.3166 - mean_squared_error: 0.2694 - val_loss: 0.3545 - val_mean_squared_error: 0.3074\n",
            "Epoch 18/30\n",
            "10/10 [==============================] - 0s 10ms/step - loss: 0.3222 - mean_squared_error: 0.2752 - val_loss: 0.4127 - val_mean_squared_error: 0.3659\n",
            "Epoch 19/30\n",
            "10/10 [==============================] - 0s 10ms/step - loss: 0.3405 - mean_squared_error: 0.2938 - val_loss: 0.3337 - val_mean_squared_error: 0.2871\n",
            "Epoch 20/30\n",
            "10/10 [==============================] - 0s 10ms/step - loss: 0.3129 - mean_squared_error: 0.2664 - val_loss: 0.3390 - val_mean_squared_error: 0.2927\n",
            "Epoch 21/30\n",
            "10/10 [==============================] - 0s 10ms/step - loss: 0.3084 - mean_squared_error: 0.2622 - val_loss: 0.3282 - val_mean_squared_error: 0.2821\n",
            "Epoch 22/30\n",
            "10/10 [==============================] - 0s 10ms/step - loss: 0.3068 - mean_squared_error: 0.2608 - val_loss: 0.3252 - val_mean_squared_error: 0.2794\n",
            "Epoch 23/30\n",
            "10/10 [==============================] - 0s 11ms/step - loss: 0.3034 - mean_squared_error: 0.2577 - val_loss: 0.3349 - val_mean_squared_error: 0.2893\n",
            "Epoch 24/30\n",
            "10/10 [==============================] - 0s 10ms/step - loss: 0.3114 - mean_squared_error: 0.2659 - val_loss: 0.3469 - val_mean_squared_error: 0.3016\n",
            "Epoch 25/30\n",
            "10/10 [==============================] - 0s 10ms/step - loss: 0.3047 - mean_squared_error: 0.2595 - val_loss: 0.3191 - val_mean_squared_error: 0.2741\n",
            "Epoch 26/30\n",
            "10/10 [==============================] - 0s 10ms/step - loss: 0.2988 - mean_squared_error: 0.2539 - val_loss: 0.3155 - val_mean_squared_error: 0.2707\n",
            "Epoch 27/30\n",
            "10/10 [==============================] - 0s 10ms/step - loss: 0.3097 - mean_squared_error: 0.2649 - val_loss: 0.3347 - val_mean_squared_error: 0.2901\n",
            "Epoch 28/30\n",
            "10/10 [==============================] - 0s 10ms/step - loss: 0.3023 - mean_squared_error: 0.2578 - val_loss: 0.3158 - val_mean_squared_error: 0.2714\n",
            "Epoch 29/30\n",
            "10/10 [==============================] - 0s 10ms/step - loss: 0.2967 - mean_squared_error: 0.2524 - val_loss: 0.3148 - val_mean_squared_error: 0.2706\n",
            "Epoch 30/30\n",
            "10/10 [==============================] - 0s 10ms/step - loss: 0.2942 - mean_squared_error: 0.2501 - val_loss: 0.3086 - val_mean_squared_error: 0.2646\n"
          ]
        },
        {
          "output_type": "display_data",
          "data": {
            "text/plain": [
              "<Figure size 720x576 with 1 Axes>"
            ],
            "image/png": "[encoded data removed]"
          },
          "metadata": {
            "needs_background": "light"
          }
        }
      ]
    },
    {
      "cell_type": "code",
      "source": [
        "test_features = {name:np.array(value) for name, value in test_data.items()}\n",
        "test_features.pop(\"cohesion\")\n",
        "test_label = np.array(test_features.pop(label_name))# isolate the label\n",
        "result = model_reg.evaluate(x=test_features, \n",
        "                  y=test_label, \n",
        "                  batch_size=batch_size)\n",
        "\n",
        "for item in zip(model_reg.metrics_names, result):\n",
        "  print (item[0], item[1])"
      ],
      "metadata": {
        "colab": {
          "base_uri": "https://localhost:8080/"
        },
        "id": "90bBXs_CnSc0",
        "outputId": "ecf973e6-16b0-420e-f6c1-9a8b6404fd28"
      },
      "id": "90bBXs_CnSc0",
      "execution_count": null,
      "outputs": [
        {
          "output_type": "stream",
          "name": "stderr",
          "text": [
            "WARNING:tensorflow:Layers in a Sequential model should only have a single input tensor. Received: inputs={'number_of_words': <tf.Tensor 'IteratorGetNext:24' shape=(None,) dtype=int64>, 'stopwords_frequency': <tf.Tensor 'IteratorGetNext:31' shape=(None,) dtype=float32>, 'av_word_per_sen': <tf.Tensor 'IteratorGetNext:2' shape=(None,) dtype=float32>, 'punctuations': <tf.Tensor 'IteratorGetNext:26' shape=(None,) dtype=float32>, 'ARI': <tf.Tensor 'IteratorGetNext:0' shape=(None,) dtype=int64>, 'freq_of_verb': <tf.Tensor 'IteratorGetNext:15' shape=(None,) dtype=float32>, 'freq_of_adj': <tf.Tensor 'IteratorGetNext:8' shape=(None,) dtype=float32>, 'freq_of_adv': <tf.Tensor 'IteratorGetNext:9' shape=(None,) dtype=float32>, 'freq_of_distinct_adj': <tf.Tensor 'IteratorGetNext:10' shape=(None,) dtype=float32>, 'freq_of_distinct_adv': <tf.Tensor 'IteratorGetNext:11' shape=(None,) dtype=float32>, 'sentence_complexity': <tf.Tensor 'IteratorGetNext:27' shape=(None,) dtype=float32>, 'freq_of_wrong_words': <tf.Tensor 'IteratorGetNext:16' shape=(None,) dtype=float32>, 'sentiment_compound': <tf.Tensor 'IteratorGetNext:28' shape=(None,) dtype=float32>, 'sentiment_positive': <tf.Tensor 'IteratorGetNext:30' shape=(None,) dtype=float32>, 'sentiment_negative': <tf.Tensor 'IteratorGetNext:29' shape=(None,) dtype=float32>, 'num_of_grammar_errors': <tf.Tensor 'IteratorGetNext:21' shape=(None,) dtype=int64>, 'num_of_short_forms': <tf.Tensor 'IteratorGetNext:22' shape=(None,) dtype=int64>, 'Incorrect_form_ratio': <tf.Tensor 'IteratorGetNext:1' shape=(None,) dtype=float32>, 'flesch_reading_ease': <tf.Tensor 'IteratorGetNext:6' shape=(None,) dtype=float32>, 'flesch_kincaid_grade': <tf.Tensor 'IteratorGetNext:5' shape=(None,) dtype=float32>, 'dale_chall_readability_score': <tf.Tensor 'IteratorGetNext:4' shape=(None,) dtype=float32>, 'text_standard': <tf.Tensor 'IteratorGetNext:32' shape=(None,) dtype=float32>, 'mcalpine_eflaw': <tf.Tensor 'IteratorGetNext:19' shape=(None,) dtype=float32>, 'number_of_diff_words': <tf.Tensor 'IteratorGetNext:23' shape=(None,) dtype=int64>, 'freq_diff_words': <tf.Tensor 'IteratorGetNext:7' shape=(None,) dtype=float32>, 'ttr': <tf.Tensor 'IteratorGetNext:33' shape=(None,) dtype=float32>, 'coherence_score': <tf.Tensor 'IteratorGetNext:3' shape=(None,) dtype=float32>, 'lexrank_avg_min_diff': <tf.Tensor 'IteratorGetNext:17' shape=(None,) dtype=float32>, 'lexrank_interquartile': <tf.Tensor 'IteratorGetNext:18' shape=(None,) dtype=float32>, 'freq_of_noun': <tf.Tensor 'IteratorGetNext:12' shape=(None,) dtype=float32>, 'freq_of_transition': <tf.Tensor 'IteratorGetNext:14' shape=(None,) dtype=float32>, 'freq_of_pronoun': <tf.Tensor 'IteratorGetNext:13' shape=(None,) dtype=float32>, 'noun_to_adj': <tf.Tensor 'IteratorGetNext:20' shape=(None,) dtype=float32>, 'verb_to_adv': <tf.Tensor 'IteratorGetNext:34' shape=(None,) dtype=float32>, 'phrase_diversity': <tf.Tensor 'IteratorGetNext:25' shape=(None,) dtype=float32>}. Consider rewriting this model with the Functional API.\n"
          ]
        },
        {
          "output_type": "stream",
          "name": "stdout",
          "text": [
            "4/4 [==============================] - 0s 4ms/step - loss: 0.2744 - mean_squared_error: 0.2304\n",
            "loss 0.2743791341781616\n",
            "mean_squared_error 0.23036594688892365\n"
          ]
        }
      ]
    },
    {
      "cell_type": "code",
      "source": [
        "prediction_deep_L2 = model_reg.predict(test_features)\n",
        "pre_list = []\n",
        "for value in prediction_deep_L2:\n",
        "  pre_list.append(value[0])"
      ],
      "metadata": {
        "colab": {
          "base_uri": "https://localhost:8080/"
        },
        "id": "pnfSrsEBndP-",
        "outputId": "ca7ec2bf-468b-41ac-92cc-ade85023db7d"
      },
      "id": "pnfSrsEBndP-",
      "execution_count": null,
      "outputs": [
        {
          "output_type": "stream",
          "name": "stderr",
          "text": [
            "WARNING:tensorflow:Layers in a Sequential model should only have a single input tensor. Received: inputs={'number_of_words': <tf.Tensor 'IteratorGetNext:24' shape=(None,) dtype=int64>, 'stopwords_frequency': <tf.Tensor 'IteratorGetNext:31' shape=(None,) dtype=float32>, 'av_word_per_sen': <tf.Tensor 'IteratorGetNext:2' shape=(None,) dtype=float32>, 'punctuations': <tf.Tensor 'IteratorGetNext:26' shape=(None,) dtype=float32>, 'ARI': <tf.Tensor 'IteratorGetNext:0' shape=(None,) dtype=int64>, 'freq_of_verb': <tf.Tensor 'IteratorGetNext:15' shape=(None,) dtype=float32>, 'freq_of_adj': <tf.Tensor 'IteratorGetNext:8' shape=(None,) dtype=float32>, 'freq_of_adv': <tf.Tensor 'IteratorGetNext:9' shape=(None,) dtype=float32>, 'freq_of_distinct_adj': <tf.Tensor 'IteratorGetNext:10' shape=(None,) dtype=float32>, 'freq_of_distinct_adv': <tf.Tensor 'IteratorGetNext:11' shape=(None,) dtype=float32>, 'sentence_complexity': <tf.Tensor 'IteratorGetNext:27' shape=(None,) dtype=float32>, 'freq_of_wrong_words': <tf.Tensor 'IteratorGetNext:16' shape=(None,) dtype=float32>, 'sentiment_compound': <tf.Tensor 'IteratorGetNext:28' shape=(None,) dtype=float32>, 'sentiment_positive': <tf.Tensor 'IteratorGetNext:30' shape=(None,) dtype=float32>, 'sentiment_negative': <tf.Tensor 'IteratorGetNext:29' shape=(None,) dtype=float32>, 'num_of_grammar_errors': <tf.Tensor 'IteratorGetNext:21' shape=(None,) dtype=int64>, 'num_of_short_forms': <tf.Tensor 'IteratorGetNext:22' shape=(None,) dtype=int64>, 'Incorrect_form_ratio': <tf.Tensor 'IteratorGetNext:1' shape=(None,) dtype=float32>, 'flesch_reading_ease': <tf.Tensor 'IteratorGetNext:6' shape=(None,) dtype=float32>, 'flesch_kincaid_grade': <tf.Tensor 'IteratorGetNext:5' shape=(None,) dtype=float32>, 'dale_chall_readability_score': <tf.Tensor 'IteratorGetNext:4' shape=(None,) dtype=float32>, 'text_standard': <tf.Tensor 'IteratorGetNext:32' shape=(None,) dtype=float32>, 'mcalpine_eflaw': <tf.Tensor 'IteratorGetNext:19' shape=(None,) dtype=float32>, 'number_of_diff_words': <tf.Tensor 'IteratorGetNext:23' shape=(None,) dtype=int64>, 'freq_diff_words': <tf.Tensor 'IteratorGetNext:7' shape=(None,) dtype=float32>, 'ttr': <tf.Tensor 'IteratorGetNext:33' shape=(None,) dtype=float32>, 'coherence_score': <tf.Tensor 'IteratorGetNext:3' shape=(None,) dtype=float32>, 'lexrank_avg_min_diff': <tf.Tensor 'IteratorGetNext:17' shape=(None,) dtype=float32>, 'lexrank_interquartile': <tf.Tensor 'IteratorGetNext:18' shape=(None,) dtype=float32>, 'freq_of_noun': <tf.Tensor 'IteratorGetNext:12' shape=(None,) dtype=float32>, 'freq_of_transition': <tf.Tensor 'IteratorGetNext:14' shape=(None,) dtype=float32>, 'freq_of_pronoun': <tf.Tensor 'IteratorGetNext:13' shape=(None,) dtype=float32>, 'noun_to_adj': <tf.Tensor 'IteratorGetNext:20' shape=(None,) dtype=float32>, 'verb_to_adv': <tf.Tensor 'IteratorGetNext:34' shape=(None,) dtype=float32>, 'phrase_diversity': <tf.Tensor 'IteratorGetNext:25' shape=(None,) dtype=float32>}. Consider rewriting this model with the Functional API.\n"
          ]
        },
        {
          "output_type": "stream",
          "name": "stdout",
          "text": [
            "25/25 [==============================] - 0s 3ms/step\n"
          ]
        }
      ]
    },
    {
      "cell_type": "code",
      "source": [
        "val_accuracy = accuracy_range(pre_list, list(test_data['vocabulary']))\n",
        "val_accuracy"
      ],
      "metadata": {
        "colab": {
          "base_uri": "https://localhost:8080/"
        },
        "id": "EV-hcfQ3nrLl",
        "outputId": "c468bb92-5a4c-4124-d399-d31d405aa24d"
      },
      "id": "EV-hcfQ3nrLl",
      "execution_count": null,
      "outputs": [
        {
          "output_type": "execute_result",
          "data": {
            "text/plain": [
              "0.7049808429118773"
            ]
          },
          "metadata": {},
          "execution_count": 92
        }
      ]
    },
    {
      "cell_type": "code",
      "source": [
        "pre_list_2 = result(pre_list)\n",
        "val_accuracy_2 = accuracy(list(test_data['vocabulary']), pre_list_2)\n",
        "val_accuracy_2"
      ],
      "metadata": {
        "colab": {
          "base_uri": "https://localhost:8080/"
        },
        "id": "rgTJgiwyn09G",
        "outputId": "89152cf1-9db6-4825-d857-836a0aeb2055"
      },
      "id": "rgTJgiwyn09G",
      "execution_count": null,
      "outputs": [
        {
          "output_type": "execute_result",
          "data": {
            "text/plain": [
              "0.4240102171136654"
            ]
          },
          "metadata": {},
          "execution_count": 95
        }
      ]
    },
    {
      "cell_type": "code",
      "source": [
        "label_name = \"cohesion\"\n",
        "\n",
        "# Establish the model's topography.\n",
        "model_reg_cohesion = create_model_deep_L2(learning_rate, my_new_feature_layer, [20, 10, 10, 8], C=0.001)\n",
        "\n",
        "# Train the model on the normalized training set.\n",
        "mse_train_reg_cohesion, mse_val_reg_cohesion = train_model(model_reg_cohesion, train_data, number_epochs, batch_size, label_name)\n",
        "plot_the_loss_curve(mse_train_reg_cohesion, mse_val_reg_cohesion)"
      ],
      "metadata": {
        "colab": {
          "base_uri": "https://localhost:8080/",
          "height": 1000
        },
        "id": "gOg-xb0hoQ2A",
        "outputId": "ce301a89-e6f5-4f28-a5e3-8c8406c3cc0b"
      },
      "id": "gOg-xb0hoQ2A",
      "execution_count": null,
      "outputs": [
        {
          "output_type": "stream",
          "name": "stdout",
          "text": [
            "Epoch 1/30\n"
          ]
        },
        {
          "output_type": "stream",
          "name": "stderr",
          "text": [
            "WARNING:tensorflow:Layers in a Sequential model should only have a single input tensor. Received: inputs={'number_of_words': <tf.Tensor 'IteratorGetNext:25' shape=(None,) dtype=int64>, 'stopwords_frequency': <tf.Tensor 'IteratorGetNext:32' shape=(None,) dtype=float32>, 'av_word_per_sen': <tf.Tensor 'IteratorGetNext:2' shape=(None,) dtype=float32>, 'punctuations': <tf.Tensor 'IteratorGetNext:27' shape=(None,) dtype=float32>, 'ARI': <tf.Tensor 'IteratorGetNext:0' shape=(None,) dtype=int64>, 'freq_of_verb': <tf.Tensor 'IteratorGetNext:16' shape=(None,) dtype=float32>, 'freq_of_adj': <tf.Tensor 'IteratorGetNext:9' shape=(None,) dtype=float32>, 'freq_of_adv': <tf.Tensor 'IteratorGetNext:10' shape=(None,) dtype=float32>, 'freq_of_distinct_adj': <tf.Tensor 'IteratorGetNext:11' shape=(None,) dtype=float32>, 'freq_of_distinct_adv': <tf.Tensor 'IteratorGetNext:12' shape=(None,) dtype=float32>, 'sentence_complexity': <tf.Tensor 'IteratorGetNext:28' shape=(None,) dtype=float32>, 'freq_of_wrong_words': <tf.Tensor 'IteratorGetNext:17' shape=(None,) dtype=float32>, 'sentiment_compound': <tf.Tensor 'IteratorGetNext:29' shape=(None,) dtype=float32>, 'sentiment_positive': <tf.Tensor 'IteratorGetNext:31' shape=(None,) dtype=float32>, 'sentiment_negative': <tf.Tensor 'IteratorGetNext:30' shape=(None,) dtype=float32>, 'num_of_grammar_errors': <tf.Tensor 'IteratorGetNext:22' shape=(None,) dtype=int64>, 'corrected_text': <tf.Tensor 'IteratorGetNext:4' shape=(None,) dtype=string>, 'num_of_short_forms': <tf.Tensor 'IteratorGetNext:23' shape=(None,) dtype=int64>, 'Incorrect_form_ratio': <tf.Tensor 'IteratorGetNext:1' shape=(None,) dtype=float32>, 'flesch_reading_ease': <tf.Tensor 'IteratorGetNext:7' shape=(None,) dtype=float32>, 'flesch_kincaid_grade': <tf.Tensor 'IteratorGetNext:6' shape=(None,) dtype=float32>, 'dale_chall_readability_score': <tf.Tensor 'IteratorGetNext:5' shape=(None,) dtype=float32>, 'text_standard': <tf.Tensor 'IteratorGetNext:33' shape=(None,) dtype=float32>, 'mcalpine_eflaw': <tf.Tensor 'IteratorGetNext:20' shape=(None,) dtype=float32>, 'number_of_diff_words': <tf.Tensor 'IteratorGetNext:24' shape=(None,) dtype=int64>, 'freq_diff_words': <tf.Tensor 'IteratorGetNext:8' shape=(None,) dtype=float32>, 'ttr': <tf.Tensor 'IteratorGetNext:34' shape=(None,) dtype=float32>, 'coherence_score': <tf.Tensor 'IteratorGetNext:3' shape=(None,) dtype=float32>, 'lexrank_avg_min_diff': <tf.Tensor 'IteratorGetNext:18' shape=(None,) dtype=float32>, 'lexrank_interquartile': <tf.Tensor 'IteratorGetNext:19' shape=(None,) dtype=float32>, 'freq_of_noun': <tf.Tensor 'IteratorGetNext:13' shape=(None,) dtype=float32>, 'freq_of_transition': <tf.Tensor 'IteratorGetNext:15' shape=(None,) dtype=float32>, 'freq_of_pronoun': <tf.Tensor 'IteratorGetNext:14' shape=(None,) dtype=float32>, 'noun_to_adj': <tf.Tensor 'IteratorGetNext:21' shape=(None,) dtype=float32>, 'verb_to_adv': <tf.Tensor 'IteratorGetNext:35' shape=(None,) dtype=float32>, 'phrase_diversity': <tf.Tensor 'IteratorGetNext:26' shape=(None,) dtype=float32>, 'vocabulary': <tf.Tensor 'IteratorGetNext:36' shape=(None,) dtype=float32>}. Consider rewriting this model with the Functional API.\n",
            "WARNING:tensorflow:Layers in a Sequential model should only have a single input tensor. Received: inputs={'number_of_words': <tf.Tensor 'IteratorGetNext:25' shape=(None,) dtype=int64>, 'stopwords_frequency': <tf.Tensor 'IteratorGetNext:32' shape=(None,) dtype=float32>, 'av_word_per_sen': <tf.Tensor 'IteratorGetNext:2' shape=(None,) dtype=float32>, 'punctuations': <tf.Tensor 'IteratorGetNext:27' shape=(None,) dtype=float32>, 'ARI': <tf.Tensor 'IteratorGetNext:0' shape=(None,) dtype=int64>, 'freq_of_verb': <tf.Tensor 'IteratorGetNext:16' shape=(None,) dtype=float32>, 'freq_of_adj': <tf.Tensor 'IteratorGetNext:9' shape=(None,) dtype=float32>, 'freq_of_adv': <tf.Tensor 'IteratorGetNext:10' shape=(None,) dtype=float32>, 'freq_of_distinct_adj': <tf.Tensor 'IteratorGetNext:11' shape=(None,) dtype=float32>, 'freq_of_distinct_adv': <tf.Tensor 'IteratorGetNext:12' shape=(None,) dtype=float32>, 'sentence_complexity': <tf.Tensor 'IteratorGetNext:28' shape=(None,) dtype=float32>, 'freq_of_wrong_words': <tf.Tensor 'IteratorGetNext:17' shape=(None,) dtype=float32>, 'sentiment_compound': <tf.Tensor 'IteratorGetNext:29' shape=(None,) dtype=float32>, 'sentiment_positive': <tf.Tensor 'IteratorGetNext:31' shape=(None,) dtype=float32>, 'sentiment_negative': <tf.Tensor 'IteratorGetNext:30' shape=(None,) dtype=float32>, 'num_of_grammar_errors': <tf.Tensor 'IteratorGetNext:22' shape=(None,) dtype=int64>, 'corrected_text': <tf.Tensor 'IteratorGetNext:4' shape=(None,) dtype=string>, 'num_of_short_forms': <tf.Tensor 'IteratorGetNext:23' shape=(None,) dtype=int64>, 'Incorrect_form_ratio': <tf.Tensor 'IteratorGetNext:1' shape=(None,) dtype=float32>, 'flesch_reading_ease': <tf.Tensor 'IteratorGetNext:7' shape=(None,) dtype=float32>, 'flesch_kincaid_grade': <tf.Tensor 'IteratorGetNext:6' shape=(None,) dtype=float32>, 'dale_chall_readability_score': <tf.Tensor 'IteratorGetNext:5' shape=(None,) dtype=float32>, 'text_standard': <tf.Tensor 'IteratorGetNext:33' shape=(None,) dtype=float32>, 'mcalpine_eflaw': <tf.Tensor 'IteratorGetNext:20' shape=(None,) dtype=float32>, 'number_of_diff_words': <tf.Tensor 'IteratorGetNext:24' shape=(None,) dtype=int64>, 'freq_diff_words': <tf.Tensor 'IteratorGetNext:8' shape=(None,) dtype=float32>, 'ttr': <tf.Tensor 'IteratorGetNext:34' shape=(None,) dtype=float32>, 'coherence_score': <tf.Tensor 'IteratorGetNext:3' shape=(None,) dtype=float32>, 'lexrank_avg_min_diff': <tf.Tensor 'IteratorGetNext:18' shape=(None,) dtype=float32>, 'lexrank_interquartile': <tf.Tensor 'IteratorGetNext:19' shape=(None,) dtype=float32>, 'freq_of_noun': <tf.Tensor 'IteratorGetNext:13' shape=(None,) dtype=float32>, 'freq_of_transition': <tf.Tensor 'IteratorGetNext:15' shape=(None,) dtype=float32>, 'freq_of_pronoun': <tf.Tensor 'IteratorGetNext:14' shape=(None,) dtype=float32>, 'noun_to_adj': <tf.Tensor 'IteratorGetNext:21' shape=(None,) dtype=float32>, 'verb_to_adv': <tf.Tensor 'IteratorGetNext:35' shape=(None,) dtype=float32>, 'phrase_diversity': <tf.Tensor 'IteratorGetNext:26' shape=(None,) dtype=float32>, 'vocabulary': <tf.Tensor 'IteratorGetNext:36' shape=(None,) dtype=float32>}. Consider rewriting this model with the Functional API.\n"
          ]
        },
        {
          "output_type": "stream",
          "name": "stdout",
          "text": [
            "\r 1/10 [==>...........................] - ETA: 10s - loss: 1.8531 - mean_squared_error: 1.7937"
          ]
        },
        {
          "output_type": "stream",
          "name": "stderr",
          "text": [
            "WARNING:tensorflow:Layers in a Sequential model should only have a single input tensor. Received: inputs={'number_of_words': <tf.Tensor 'IteratorGetNext:25' shape=(None,) dtype=int64>, 'stopwords_frequency': <tf.Tensor 'IteratorGetNext:32' shape=(None,) dtype=float32>, 'av_word_per_sen': <tf.Tensor 'IteratorGetNext:2' shape=(None,) dtype=float32>, 'punctuations': <tf.Tensor 'IteratorGetNext:27' shape=(None,) dtype=float32>, 'ARI': <tf.Tensor 'IteratorGetNext:0' shape=(None,) dtype=int64>, 'freq_of_verb': <tf.Tensor 'IteratorGetNext:16' shape=(None,) dtype=float32>, 'freq_of_adj': <tf.Tensor 'IteratorGetNext:9' shape=(None,) dtype=float32>, 'freq_of_adv': <tf.Tensor 'IteratorGetNext:10' shape=(None,) dtype=float32>, 'freq_of_distinct_adj': <tf.Tensor 'IteratorGetNext:11' shape=(None,) dtype=float32>, 'freq_of_distinct_adv': <tf.Tensor 'IteratorGetNext:12' shape=(None,) dtype=float32>, 'sentence_complexity': <tf.Tensor 'IteratorGetNext:28' shape=(None,) dtype=float32>, 'freq_of_wrong_words': <tf.Tensor 'IteratorGetNext:17' shape=(None,) dtype=float32>, 'sentiment_compound': <tf.Tensor 'IteratorGetNext:29' shape=(None,) dtype=float32>, 'sentiment_positive': <tf.Tensor 'IteratorGetNext:31' shape=(None,) dtype=float32>, 'sentiment_negative': <tf.Tensor 'IteratorGetNext:30' shape=(None,) dtype=float32>, 'num_of_grammar_errors': <tf.Tensor 'IteratorGetNext:22' shape=(None,) dtype=int64>, 'corrected_text': <tf.Tensor 'IteratorGetNext:4' shape=(None,) dtype=string>, 'num_of_short_forms': <tf.Tensor 'IteratorGetNext:23' shape=(None,) dtype=int64>, 'Incorrect_form_ratio': <tf.Tensor 'IteratorGetNext:1' shape=(None,) dtype=float32>, 'flesch_reading_ease': <tf.Tensor 'IteratorGetNext:7' shape=(None,) dtype=float32>, 'flesch_kincaid_grade': <tf.Tensor 'IteratorGetNext:6' shape=(None,) dtype=float32>, 'dale_chall_readability_score': <tf.Tensor 'IteratorGetNext:5' shape=(None,) dtype=float32>, 'text_standard': <tf.Tensor 'IteratorGetNext:33' shape=(None,) dtype=float32>, 'mcalpine_eflaw': <tf.Tensor 'IteratorGetNext:20' shape=(None,) dtype=float32>, 'number_of_diff_words': <tf.Tensor 'IteratorGetNext:24' shape=(None,) dtype=int64>, 'freq_diff_words': <tf.Tensor 'IteratorGetNext:8' shape=(None,) dtype=float32>, 'ttr': <tf.Tensor 'IteratorGetNext:34' shape=(None,) dtype=float32>, 'coherence_score': <tf.Tensor 'IteratorGetNext:3' shape=(None,) dtype=float32>, 'lexrank_avg_min_diff': <tf.Tensor 'IteratorGetNext:18' shape=(None,) dtype=float32>, 'lexrank_interquartile': <tf.Tensor 'IteratorGetNext:19' shape=(None,) dtype=float32>, 'freq_of_noun': <tf.Tensor 'IteratorGetNext:13' shape=(None,) dtype=float32>, 'freq_of_transition': <tf.Tensor 'IteratorGetNext:15' shape=(None,) dtype=float32>, 'freq_of_pronoun': <tf.Tensor 'IteratorGetNext:14' shape=(None,) dtype=float32>, 'noun_to_adj': <tf.Tensor 'IteratorGetNext:21' shape=(None,) dtype=float32>, 'verb_to_adv': <tf.Tensor 'IteratorGetNext:35' shape=(None,) dtype=float32>, 'phrase_diversity': <tf.Tensor 'IteratorGetNext:26' shape=(None,) dtype=float32>, 'vocabulary': <tf.Tensor 'IteratorGetNext:36' shape=(None,) dtype=float32>}. Consider rewriting this model with the Functional API.\n"
          ]
        },
        {
          "output_type": "stream",
          "name": "stdout",
          "text": [
            "\b\b\b\b\b\b\b\b\b\b\b\b\b\b\b\b\b\b\b\b\b\b\b\b\b\b\b\b\b\b\b\b\b\b\b\b\b\b\b\b\b\b\b\b\b\b\b\b\b\b\b\b\b\b\b\b\b\b\b\b\b\b\b\b\b\b\b\b\b\b\b\b\b\b\b\b\b\b\b\b\b\b\b\b\b\b\b\b\b\b\b\b\b\r10/10 [==============================] - 2s 69ms/step - loss: 10.3196 - mean_squared_error: 10.2673 - val_loss: 2.5185 - val_mean_squared_error: 2.4727\n",
            "Epoch 2/30\n",
            "10/10 [==============================] - 0s 9ms/step - loss: 2.2963 - mean_squared_error: 2.2536 - val_loss: 1.3617 - val_mean_squared_error: 1.3219\n",
            "Epoch 3/30\n",
            "10/10 [==============================] - 0s 9ms/step - loss: 0.8831 - mean_squared_error: 0.8446 - val_loss: 0.8114 - val_mean_squared_error: 0.7742\n",
            "Epoch 4/30\n",
            "10/10 [==============================] - 0s 9ms/step - loss: 0.6478 - mean_squared_error: 0.6112 - val_loss: 0.6938 - val_mean_squared_error: 0.6580\n",
            "Epoch 5/30\n",
            "10/10 [==============================] - 0s 9ms/step - loss: 0.5292 - mean_squared_error: 0.4937 - val_loss: 0.5227 - val_mean_squared_error: 0.4876\n",
            "Epoch 6/30\n",
            "10/10 [==============================] - 0s 9ms/step - loss: 0.4631 - mean_squared_error: 0.4281 - val_loss: 0.4898 - val_mean_squared_error: 0.4550\n",
            "Epoch 7/30\n",
            "10/10 [==============================] - 0s 11ms/step - loss: 0.4563 - mean_squared_error: 0.4216 - val_loss: 0.4976 - val_mean_squared_error: 0.4632\n",
            "Epoch 8/30\n",
            "10/10 [==============================] - 0s 9ms/step - loss: 0.4135 - mean_squared_error: 0.3793 - val_loss: 0.4195 - val_mean_squared_error: 0.3854\n",
            "Epoch 9/30\n",
            "10/10 [==============================] - 0s 10ms/step - loss: 1.0892 - mean_squared_error: 1.0553 - val_loss: 1.2201 - val_mean_squared_error: 1.1864\n",
            "Epoch 10/30\n",
            "10/10 [==============================] - 0s 11ms/step - loss: 0.7843 - mean_squared_error: 0.7508 - val_loss: 0.6520 - val_mean_squared_error: 0.6188\n",
            "Epoch 11/30\n",
            "10/10 [==============================] - 0s 10ms/step - loss: 0.4796 - mean_squared_error: 0.4466 - val_loss: 0.4658 - val_mean_squared_error: 0.4328\n",
            "Epoch 12/30\n",
            "10/10 [==============================] - 0s 10ms/step - loss: 0.4064 - mean_squared_error: 0.3735 - val_loss: 0.4238 - val_mean_squared_error: 0.3912\n",
            "Epoch 13/30\n",
            "10/10 [==============================] - 0s 9ms/step - loss: 0.4025 - mean_squared_error: 0.3700 - val_loss: 0.4188 - val_mean_squared_error: 0.3864\n",
            "Epoch 14/30\n",
            "10/10 [==============================] - 0s 9ms/step - loss: 0.3934 - mean_squared_error: 0.3612 - val_loss: 0.4030 - val_mean_squared_error: 0.3710\n",
            "Epoch 15/30\n",
            "10/10 [==============================] - 0s 9ms/step - loss: 0.3729 - mean_squared_error: 0.3412 - val_loss: 0.3965 - val_mean_squared_error: 0.3649\n",
            "Epoch 16/30\n",
            "10/10 [==============================] - 0s 9ms/step - loss: 0.3691 - mean_squared_error: 0.3376 - val_loss: 0.3940 - val_mean_squared_error: 0.3627\n",
            "Epoch 17/30\n",
            "10/10 [==============================] - 0s 10ms/step - loss: 0.3722 - mean_squared_error: 0.3410 - val_loss: 0.3917 - val_mean_squared_error: 0.3607\n",
            "Epoch 18/30\n",
            "10/10 [==============================] - 0s 10ms/step - loss: 0.3681 - mean_squared_error: 0.3371 - val_loss: 0.3980 - val_mean_squared_error: 0.3671\n",
            "Epoch 19/30\n",
            "10/10 [==============================] - 0s 10ms/step - loss: 0.3617 - mean_squared_error: 0.3310 - val_loss: 0.3865 - val_mean_squared_error: 0.3559\n",
            "Epoch 20/30\n",
            "10/10 [==============================] - 0s 10ms/step - loss: 0.3581 - mean_squared_error: 0.3276 - val_loss: 0.3840 - val_mean_squared_error: 0.3536\n",
            "Epoch 21/30\n",
            "10/10 [==============================] - 0s 10ms/step - loss: 0.3594 - mean_squared_error: 0.3291 - val_loss: 0.3852 - val_mean_squared_error: 0.3550\n",
            "Epoch 22/30\n",
            "10/10 [==============================] - 0s 9ms/step - loss: 0.3648 - mean_squared_error: 0.3346 - val_loss: 0.3793 - val_mean_squared_error: 0.3493\n",
            "Epoch 23/30\n",
            "10/10 [==============================] - 0s 10ms/step - loss: 0.3543 - mean_squared_error: 0.3244 - val_loss: 0.3799 - val_mean_squared_error: 0.3500\n",
            "Epoch 24/30\n",
            "10/10 [==============================] - 0s 9ms/step - loss: 0.3512 - mean_squared_error: 0.3215 - val_loss: 0.3969 - val_mean_squared_error: 0.3672\n",
            "Epoch 25/30\n",
            "10/10 [==============================] - 0s 10ms/step - loss: 0.3572 - mean_squared_error: 0.3276 - val_loss: 0.3779 - val_mean_squared_error: 0.3483\n",
            "Epoch 26/30\n",
            "10/10 [==============================] - 0s 10ms/step - loss: 0.3448 - mean_squared_error: 0.3151 - val_loss: 0.3655 - val_mean_squared_error: 0.3359\n",
            "Epoch 27/30\n",
            "10/10 [==============================] - 0s 10ms/step - loss: 0.3335 - mean_squared_error: 0.3039 - val_loss: 0.3675 - val_mean_squared_error: 0.3378\n",
            "Epoch 28/30\n",
            "10/10 [==============================] - 0s 10ms/step - loss: 0.3388 - mean_squared_error: 0.3091 - val_loss: 0.4345 - val_mean_squared_error: 0.4049\n",
            "Epoch 29/30\n",
            "10/10 [==============================] - 0s 10ms/step - loss: 0.3632 - mean_squared_error: 0.3335 - val_loss: 0.3793 - val_mean_squared_error: 0.3496\n",
            "Epoch 30/30\n",
            "10/10 [==============================] - 0s 9ms/step - loss: 0.3332 - mean_squared_error: 0.3036 - val_loss: 0.3527 - val_mean_squared_error: 0.3232\n"
          ]
        },
        {
          "output_type": "display_data",
          "data": {
            "text/plain": [
              "<Figure size 720x576 with 1 Axes>"
            ],
            "image/png": "[encoded data removed]"
          },
          "metadata": {
            "needs_background": "light"
          }
        }
      ]
    },
    {
      "cell_type": "code",
      "source": [
        "test_data2 = test_data.copy()\n",
        "test_data2.pop(\"vocabulary\")\n",
        "test_data2[\"vocabulary\"] = pre_list\n",
        "test_features = {name:np.array(value) for name, value in test_data2.items()}\n",
        "\n",
        "test_label = np.array(test_features.pop(label_name))# isolate the label\n",
        "result = model_reg_cohesion.evaluate(x=test_features, \n",
        "                  y=test_label, \n",
        "                  batch_size=batch_size)\n",
        "\n",
        "for item in zip(model_reg_cohesion.metrics_names, result):\n",
        "  print (item[0], item[1])"
      ],
      "metadata": {
        "colab": {
          "base_uri": "https://localhost:8080/"
        },
        "id": "HIuge5OrocRh",
        "outputId": "06b61931-51d3-4dc2-fa09-ce6dacd4a168"
      },
      "id": "HIuge5OrocRh",
      "execution_count": null,
      "outputs": [
        {
          "output_type": "stream",
          "name": "stderr",
          "text": [
            "WARNING:tensorflow:Layers in a Sequential model should only have a single input tensor. Received: inputs={'number_of_words': <tf.Tensor 'IteratorGetNext:24' shape=(None,) dtype=int64>, 'stopwords_frequency': <tf.Tensor 'IteratorGetNext:31' shape=(None,) dtype=float32>, 'av_word_per_sen': <tf.Tensor 'IteratorGetNext:2' shape=(None,) dtype=float32>, 'punctuations': <tf.Tensor 'IteratorGetNext:26' shape=(None,) dtype=float32>, 'ARI': <tf.Tensor 'IteratorGetNext:0' shape=(None,) dtype=int64>, 'freq_of_verb': <tf.Tensor 'IteratorGetNext:15' shape=(None,) dtype=float32>, 'freq_of_adj': <tf.Tensor 'IteratorGetNext:8' shape=(None,) dtype=float32>, 'freq_of_adv': <tf.Tensor 'IteratorGetNext:9' shape=(None,) dtype=float32>, 'freq_of_distinct_adj': <tf.Tensor 'IteratorGetNext:10' shape=(None,) dtype=float32>, 'freq_of_distinct_adv': <tf.Tensor 'IteratorGetNext:11' shape=(None,) dtype=float32>, 'sentence_complexity': <tf.Tensor 'IteratorGetNext:27' shape=(None,) dtype=float32>, 'freq_of_wrong_words': <tf.Tensor 'IteratorGetNext:16' shape=(None,) dtype=float32>, 'sentiment_compound': <tf.Tensor 'IteratorGetNext:28' shape=(None,) dtype=float32>, 'sentiment_positive': <tf.Tensor 'IteratorGetNext:30' shape=(None,) dtype=float32>, 'sentiment_negative': <tf.Tensor 'IteratorGetNext:29' shape=(None,) dtype=float32>, 'num_of_grammar_errors': <tf.Tensor 'IteratorGetNext:21' shape=(None,) dtype=int64>, 'num_of_short_forms': <tf.Tensor 'IteratorGetNext:22' shape=(None,) dtype=int64>, 'Incorrect_form_ratio': <tf.Tensor 'IteratorGetNext:1' shape=(None,) dtype=float32>, 'flesch_reading_ease': <tf.Tensor 'IteratorGetNext:6' shape=(None,) dtype=float32>, 'flesch_kincaid_grade': <tf.Tensor 'IteratorGetNext:5' shape=(None,) dtype=float32>, 'dale_chall_readability_score': <tf.Tensor 'IteratorGetNext:4' shape=(None,) dtype=float32>, 'text_standard': <tf.Tensor 'IteratorGetNext:32' shape=(None,) dtype=float32>, 'mcalpine_eflaw': <tf.Tensor 'IteratorGetNext:19' shape=(None,) dtype=float32>, 'number_of_diff_words': <tf.Tensor 'IteratorGetNext:23' shape=(None,) dtype=int64>, 'freq_diff_words': <tf.Tensor 'IteratorGetNext:7' shape=(None,) dtype=float32>, 'ttr': <tf.Tensor 'IteratorGetNext:33' shape=(None,) dtype=float32>, 'coherence_score': <tf.Tensor 'IteratorGetNext:3' shape=(None,) dtype=float32>, 'lexrank_avg_min_diff': <tf.Tensor 'IteratorGetNext:17' shape=(None,) dtype=float32>, 'lexrank_interquartile': <tf.Tensor 'IteratorGetNext:18' shape=(None,) dtype=float32>, 'freq_of_noun': <tf.Tensor 'IteratorGetNext:12' shape=(None,) dtype=float32>, 'freq_of_transition': <tf.Tensor 'IteratorGetNext:14' shape=(None,) dtype=float32>, 'freq_of_pronoun': <tf.Tensor 'IteratorGetNext:13' shape=(None,) dtype=float32>, 'noun_to_adj': <tf.Tensor 'IteratorGetNext:20' shape=(None,) dtype=float32>, 'verb_to_adv': <tf.Tensor 'IteratorGetNext:34' shape=(None,) dtype=float32>, 'phrase_diversity': <tf.Tensor 'IteratorGetNext:25' shape=(None,) dtype=float32>, 'vocabulary': <tf.Tensor 'IteratorGetNext:35' shape=(None,) dtype=float32>}. Consider rewriting this model with the Functional API.\n"
          ]
        },
        {
          "output_type": "stream",
          "name": "stdout",
          "text": [
            "4/4 [==============================] - 0s 4ms/step - loss: 0.3404 - mean_squared_error: 0.3109\n",
            "loss 0.3404473662376404\n",
            "mean_squared_error 0.31091615557670593\n"
          ]
        }
      ]
    },
    {
      "cell_type": "code",
      "source": [
        "prediction_deep_L2_cohesion = model_reg_cohesion.predict(test_features)\n",
        "pre_list = []\n",
        "for value in prediction_deep_L2_cohesion:\n",
        "  pre_list.append(value[0])"
      ],
      "metadata": {
        "colab": {
          "base_uri": "https://localhost:8080/"
        },
        "id": "6LrxXe5Zo2vz",
        "outputId": "6db8985d-92f3-4d50-9e63-a72768458b73"
      },
      "id": "6LrxXe5Zo2vz",
      "execution_count": null,
      "outputs": [
        {
          "output_type": "stream",
          "name": "stderr",
          "text": [
            "WARNING:tensorflow:Layers in a Sequential model should only have a single input tensor. Received: inputs={'number_of_words': <tf.Tensor 'IteratorGetNext:24' shape=(None,) dtype=int64>, 'stopwords_frequency': <tf.Tensor 'IteratorGetNext:31' shape=(None,) dtype=float32>, 'av_word_per_sen': <tf.Tensor 'IteratorGetNext:2' shape=(None,) dtype=float32>, 'punctuations': <tf.Tensor 'IteratorGetNext:26' shape=(None,) dtype=float32>, 'ARI': <tf.Tensor 'IteratorGetNext:0' shape=(None,) dtype=int64>, 'freq_of_verb': <tf.Tensor 'IteratorGetNext:15' shape=(None,) dtype=float32>, 'freq_of_adj': <tf.Tensor 'IteratorGetNext:8' shape=(None,) dtype=float32>, 'freq_of_adv': <tf.Tensor 'IteratorGetNext:9' shape=(None,) dtype=float32>, 'freq_of_distinct_adj': <tf.Tensor 'IteratorGetNext:10' shape=(None,) dtype=float32>, 'freq_of_distinct_adv': <tf.Tensor 'IteratorGetNext:11' shape=(None,) dtype=float32>, 'sentence_complexity': <tf.Tensor 'IteratorGetNext:27' shape=(None,) dtype=float32>, 'freq_of_wrong_words': <tf.Tensor 'IteratorGetNext:16' shape=(None,) dtype=float32>, 'sentiment_compound': <tf.Tensor 'IteratorGetNext:28' shape=(None,) dtype=float32>, 'sentiment_positive': <tf.Tensor 'IteratorGetNext:30' shape=(None,) dtype=float32>, 'sentiment_negative': <tf.Tensor 'IteratorGetNext:29' shape=(None,) dtype=float32>, 'num_of_grammar_errors': <tf.Tensor 'IteratorGetNext:21' shape=(None,) dtype=int64>, 'num_of_short_forms': <tf.Tensor 'IteratorGetNext:22' shape=(None,) dtype=int64>, 'Incorrect_form_ratio': <tf.Tensor 'IteratorGetNext:1' shape=(None,) dtype=float32>, 'flesch_reading_ease': <tf.Tensor 'IteratorGetNext:6' shape=(None,) dtype=float32>, 'flesch_kincaid_grade': <tf.Tensor 'IteratorGetNext:5' shape=(None,) dtype=float32>, 'dale_chall_readability_score': <tf.Tensor 'IteratorGetNext:4' shape=(None,) dtype=float32>, 'text_standard': <tf.Tensor 'IteratorGetNext:32' shape=(None,) dtype=float32>, 'mcalpine_eflaw': <tf.Tensor 'IteratorGetNext:19' shape=(None,) dtype=float32>, 'number_of_diff_words': <tf.Tensor 'IteratorGetNext:23' shape=(None,) dtype=int64>, 'freq_diff_words': <tf.Tensor 'IteratorGetNext:7' shape=(None,) dtype=float32>, 'ttr': <tf.Tensor 'IteratorGetNext:33' shape=(None,) dtype=float32>, 'coherence_score': <tf.Tensor 'IteratorGetNext:3' shape=(None,) dtype=float32>, 'lexrank_avg_min_diff': <tf.Tensor 'IteratorGetNext:17' shape=(None,) dtype=float32>, 'lexrank_interquartile': <tf.Tensor 'IteratorGetNext:18' shape=(None,) dtype=float32>, 'freq_of_noun': <tf.Tensor 'IteratorGetNext:12' shape=(None,) dtype=float32>, 'freq_of_transition': <tf.Tensor 'IteratorGetNext:14' shape=(None,) dtype=float32>, 'freq_of_pronoun': <tf.Tensor 'IteratorGetNext:13' shape=(None,) dtype=float32>, 'noun_to_adj': <tf.Tensor 'IteratorGetNext:20' shape=(None,) dtype=float32>, 'verb_to_adv': <tf.Tensor 'IteratorGetNext:34' shape=(None,) dtype=float32>, 'phrase_diversity': <tf.Tensor 'IteratorGetNext:25' shape=(None,) dtype=float32>, 'vocabulary': <tf.Tensor 'IteratorGetNext:35' shape=(None,) dtype=float32>}. Consider rewriting this model with the Functional API.\n"
          ]
        },
        {
          "output_type": "stream",
          "name": "stdout",
          "text": [
            "25/25 [==============================] - 0s 3ms/step\n"
          ]
        }
      ]
    },
    {
      "cell_type": "code",
      "source": [
        "val_accuracy = accuracy_range(pre_list, list(test_data['cohesion']))\n",
        "val_accuracy"
      ],
      "metadata": {
        "colab": {
          "base_uri": "https://localhost:8080/"
        },
        "id": "mGAWUvhJo_la",
        "outputId": "e0de4046-1e14-4db2-88ff-bad1e32dda0a"
      },
      "id": "mGAWUvhJo_la",
      "execution_count": null,
      "outputs": [
        {
          "output_type": "execute_result",
          "data": {
            "text/plain": [
              "0.6002554278416348"
            ]
          },
          "metadata": {},
          "execution_count": 99
        }
      ]
    },
    {
      "cell_type": "code",
      "source": [
        "pre_list_2 = result(pre_list)\n",
        "val_accuracy_2 = accuracy(list(test_data['cohesion']), pre_list_2)\n",
        "val_accuracy_2"
      ],
      "metadata": {
        "colab": {
          "base_uri": "https://localhost:8080/"
        },
        "id": "OzcbYhHapH-J",
        "outputId": "b9091620-f8d8-43e9-807e-881e9b84cbeb"
      },
      "id": "OzcbYhHapH-J",
      "execution_count": null,
      "outputs": [
        {
          "output_type": "execute_result",
          "data": {
            "text/plain": [
              "0.3384418901660281"
            ]
          },
          "metadata": {},
          "execution_count": 102
        }
      ]
    },
    {
      "cell_type": "code",
      "source": [
        "error_rate7 = error_rate(list(test_data['cohesion']), pre_list)\n",
        "error_rate7"
      ],
      "metadata": {
        "colab": {
          "base_uri": "https://localhost:8080/"
        },
        "id": "QFmJN-S-Ucf0",
        "outputId": "9590d7ad-9b9e-4e4c-fc95-a03edf8f47f5"
      },
      "id": "QFmJN-S-Ucf0",
      "execution_count": null,
      "outputs": [
        {
          "output_type": "execute_result",
          "data": {
            "text/plain": [
              "0.447774910530977"
            ]
          },
          "metadata": {},
          "execution_count": 103
        }
      ]
    }
  ],
  "metadata": {
    "kernelspec": {
      "display_name": "Python 3",
      "language": "python",
      "name": "python3"
    },
    "language_info": {
      "codemirror_mode": {
        "name": "ipython",
        "version": 3
      },
      "file_extension": ".py",
      "mimetype": "text/x-python",
      "name": "python",
      "nbconvert_exporter": "python",
      "pygments_lexer": "ipython3",
      "version": "3.8.8"
    },
    "colab": {
      "provenance": [],
      "machine_shape": "hm",
      "collapsed_sections": []
    },
    "gpuClass": "standard"
  },
  "nbformat": 4,
  "nbformat_minor": 5
}