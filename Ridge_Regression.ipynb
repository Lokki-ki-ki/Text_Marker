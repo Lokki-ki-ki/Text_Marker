{
 "cells": [
  {
   "cell_type": "code",
   "execution_count": 14,
   "metadata": {},
   "outputs": [],
   "source": [
    "import pandas as pd\n",
    "import numpy as np\n",
    "from sklearn.model_selection import train_test_split, GridSearchCV\n",
    "from sklearn.linear_model import LinearRegression\n",
    "from sklearn.multioutput import MultiOutputRegressor\n",
    "from sklearn.linear_model import Ridge"
   ]
  },
  {
   "cell_type": "code",
   "execution_count": 16,
   "metadata": {},
   "outputs": [],
   "source": [
    "def result(predictions):\n",
    "    predictions = predictions.tolist()\n",
    "    result_list=[]\n",
    "    for pred in predictions:\n",
    "        result = pred // 0.5 * 0.5\n",
    "        if (pred - result) > 0.25:\n",
    "            result += 0.5\n",
    "        if result < 1.0:\n",
    "            result = 1.0\n",
    "        if result > 5.0:\n",
    "            result = 5.0\n",
    "        result_list.append(result)\n",
    "    return result_list\n",
    "\n",
    "# Accuracy score\n",
    "def accuracy(Ypred, Ytrue):\n",
    "    Ytrue = Ytrue.tolist()\n",
    "    accurate = 0\n",
    "    for i in range(len(Ytrue)):\n",
    "        if Ytrue[i] == Ypred[i]:\n",
    "            accurate += 1\n",
    "    return accurate / len(Ytrue)\n",
    "\n",
    "def accuracy_range(Ytrue, Ypred):\n",
    "    Ytrue=Ytrue.tolist()\n",
    "    accurate_range=0\n",
    "    for i in range(len(Ytrue)):\n",
    "        if abs(Ytrue[i] - Ypred[i])<=0.5:\n",
    "            accurate_range+=1\n",
    "    return accurate_range/len(Ytrue)\n",
    "\n",
    "# Total error / total number of points => by average what's the error for each point\n",
    "def error_rate(Ytrue, Ypred):\n",
    "    Ytrue=Ytrue.tolist()\n",
    "    error=0\n",
    "    for i in range(len(Ytrue)):\n",
    "        error += abs(Ytrue[i] - Ypred[i])\n",
    "    return error/len(Ytrue)"
   ]
  },
  {
   "cell_type": "code",
   "execution_count": 39,
   "metadata": {},
   "outputs": [],
   "source": [
    "df = pd.read_csv(\"/Users/lokki/Documents/GitHub/Text_Marker/Processed_Data.csv\")\n",
    "df = df.dropna(axis=0)\n",
    "y_coh = df[\"cohesion\"]\n",
    "X = df.iloc[:, 7:]\n",
    "X = X.drop(\"corrected_text\", axis=1)\n",
    "X[\"text_standard\"].mask(df[\"text_standard\"] == \"-\", 0, inplace=True)\n",
    "X[\"verb_to_adv\"].mask(np.isinf(df[\"verb_to_adv\"]), 0, inplace=True)\n",
    "X_train, X_test, y_train, y_test = train_test_split(X, y_coh, test_size=1/4, random_state=42)"
   ]
  },
  {
   "cell_type": "code",
   "execution_count": 43,
   "metadata": {},
   "outputs": [
    {
     "data": {
      "text/plain": [
       "Ridge(alpha=0.2, random_state=42)"
      ]
     },
     "execution_count": 43,
     "metadata": {},
     "output_type": "execute_result"
    }
   ],
   "source": [
    "from sklearn.linear_model import Ridge\n",
    "params = {'alpha': [0.2, 0.5, 1, 2, 4, 10, 8, 12, 20, 30, 50]}\n",
    "rr = GridSearchCV(Ridge(random_state=42), param_grid = params, scoring='r2', cv=10)\n",
    "rr.fit(X_train, y_train)\n",
    "rr.best_estimator_"
   ]
  },
  {
   "cell_type": "code",
   "execution_count": 44,
   "metadata": {},
   "outputs": [
    {
     "name": "stdout",
     "output_type": "stream",
     "text": [
      "accuracy range: 0.6319018404907976 \n",
      " accuracy: 0.3149284253578732 \n",
      " error rate: 0.434560327198364 \n",
      "\n"
     ]
    }
   ],
   "source": [
    "pred = rr.predict(X_test)\n",
    "adj_pred = result(pred)\n",
    "\n",
    "print(\"accuracy range: %s \\n accuracy: %s \\n error rate: %s \\n\" \n",
    "    % (accuracy_range(y_test, pred), accuracy(adj_pred, y_test), error_rate(y_test, adj_pred)))"
   ]
  },
  {
   "cell_type": "markdown",
   "metadata": {},
   "source": [
    "### Predict the vocabulary first then predict the cohesion"
   ]
  },
  {
   "cell_type": "code",
   "execution_count": 45,
   "metadata": {},
   "outputs": [],
   "source": [
    "y_vocab = df[\"vocabulary\"]\n",
    "X_train1, X_test1, y_train1, y_test1 = train_test_split(X, y_vocab, test_size=1/4, random_state=42)"
   ]
  },
  {
   "cell_type": "code",
   "execution_count": 46,
   "metadata": {},
   "outputs": [
    {
     "data": {
      "text/plain": [
       "Ridge(alpha=0.2, random_state=42)"
      ]
     },
     "execution_count": 46,
     "metadata": {},
     "output_type": "execute_result"
    }
   ],
   "source": [
    "params = {'alpha': [0.2, 0.5, 1, 2, 4, 10, 8, 12, 20, 30, 50]}\n",
    "rr_vocab = GridSearchCV(Ridge(random_state=42), param_grid = params, scoring='r2', cv=10)\n",
    "rr_vocab.fit(X_train1, y_train1)\n",
    "rr_vocab.best_estimator_"
   ]
  },
  {
   "cell_type": "code",
   "execution_count": 53,
   "metadata": {},
   "outputs": [],
   "source": [
    "# Save the model\n",
    "import pickle\n",
    "pickle.dump(rr_vocab, open('rr_vocab.sav', 'wb'))"
   ]
  },
  {
   "cell_type": "code",
   "execution_count": 47,
   "metadata": {},
   "outputs": [
    {
     "name": "stdout",
     "output_type": "stream",
     "text": [
      "accuracy range: 0.7024539877300614 \n",
      " accuracy: 0.4059304703476483 \n",
      " error rate: 0.3696319018404908 \n",
      "\n"
     ]
    }
   ],
   "source": [
    "pred_vocab = rr.predict(X_test1)\n",
    "adj_pred_vocab = result(pred_vocab)\n",
    "\n",
    "print(\"accuracy range: %s \\n accuracy: %s \\n error rate: %s \\n\" \n",
    "    % (accuracy_range(y_test1, pred_vocab), accuracy(adj_pred_vocab, y_test1), error_rate(y_test1, adj_pred_vocab)))"
   ]
  },
  {
   "cell_type": "code",
   "execution_count": 55,
   "metadata": {},
   "outputs": [],
   "source": [
    "new_feature = rr_vocab.predict(X)\n",
    "vocab = pd.Series(new_feature)\n",
    "features = X.loc[:]\n",
    "features[\"vocab\"] = vocab\n",
    "target = df[\"cohesion\"]\n",
    "X_train2, X_test2, y_train2, y_test2 = train_test_split(features, target, test_size=1/4, random_state=42)"
   ]
  },
  {
   "cell_type": "code",
   "execution_count": 56,
   "metadata": {},
   "outputs": [
    {
     "data": {
      "text/plain": [
       "Ridge(alpha=0.5, random_state=42)"
      ]
     },
     "execution_count": 56,
     "metadata": {},
     "output_type": "execute_result"
    }
   ],
   "source": [
    "params = {'alpha': [0.2, 0.5, 1, 2, 4, 10, 8, 12, 20, 30, 50]}\n",
    "rr_coh = GridSearchCV(Ridge(random_state=42), param_grid = params, scoring='r2', cv=10)\n",
    "rr_coh.fit(X_train2, y_train2)\n",
    "rr_coh.best_estimator_"
   ]
  },
  {
   "cell_type": "code",
   "execution_count": 57,
   "metadata": {},
   "outputs": [
    {
     "name": "stdout",
     "output_type": "stream",
     "text": [
      "accuracy range: 0.6359918200408998 \n",
      " accuracy: 0.3169734151329243 \n",
      " error rate: 0.4340490797546012 \n",
      "\n"
     ]
    }
   ],
   "source": [
    "pred_coh = rr_coh.predict(X_test2)\n",
    "adj_pred_coh = result(pred_coh)\n",
    "\n",
    "print(\"accuracy range: %s \\n accuracy: %s \\n error rate: %s \\n\" \n",
    "    % (accuracy_range(y_test2, pred_coh), accuracy(adj_pred_coh, y_test2), error_rate(y_test2, adj_pred_coh)))"
   ]
  },
  {
   "cell_type": "code",
   "execution_count": 54,
   "metadata": {},
   "outputs": [],
   "source": [
    "pickle.dump(rr_coh, open('rr_cohesion.sav', 'wb'))"
   ]
  }
 ],
 "metadata": {
  "kernelspec": {
   "display_name": "Python 3.9.5 ('py39')",
   "language": "python",
   "name": "python3"
  },
  "language_info": {
   "codemirror_mode": {
    "name": "ipython",
    "version": 3
   },
   "file_extension": ".py",
   "mimetype": "text/x-python",
   "name": "python",
   "nbconvert_exporter": "python",
   "pygments_lexer": "ipython3",
   "version": "3.9.5"
  },
  "orig_nbformat": 4,
  "vscode": {
   "interpreter": {
    "hash": "61b4062b24dfb1010f420dad5aa3bd73a4d2af47d0ec44eafec465a35a9d7239"
   }
  }
 },
 "nbformat": 4,
 "nbformat_minor": 2
}
